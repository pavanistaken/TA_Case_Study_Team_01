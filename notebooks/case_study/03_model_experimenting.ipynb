{
 "cells": [
  {
   "cell_type": "markdown",
   "metadata": {},
   "source": [
    "# Purpose\n",
    "\n",
    "This notebook demonstrates the model experimentation and finalization. It covers EDA, outlier treatment, transformation, training, model evaluation and comparison across models."
   ]
  },
  {
   "cell_type": "code",
   "execution_count": 49,
   "metadata": {},
   "outputs": [
    {
     "name": "stdout",
     "output_type": "stream",
     "text": [
      "The autoreload extension is already loaded. To reload it, use:\n",
      "  %reload_ext autoreload\n"
     ]
    }
   ],
   "source": [
    "%load_ext autoreload\n",
    "%autoreload 2"
   ]
  },
  {
   "cell_type": "code",
   "execution_count": 50,
   "metadata": {},
   "outputs": [],
   "source": [
    "import os\n",
    "import os.path as op\n",
    "import shutil\n",
    "import bokeh\n",
    "\n",
    "# standard third party imports\n",
    "import numpy as np\n",
    "import pandas as pd\n",
    "from dateutil.relativedelta import relativedelta\n",
    "from matplotlib import pyplot as plt\n",
    "from sklearn.pipeline import FeatureUnion, Pipeline\n",
    "from sklearn.base import BaseEstimator, TransformerMixin\n",
    "from sklearn.feature_selection import SelectFromModel, VarianceThreshold\n",
    "from sklearn.model_selection import GridSearchCV\n",
    "from sklearn.preprocessing import FunctionTransformer\n",
    "from sklearn.compose import ColumnTransformer\n",
    "from category_encoders import OneHotEncoder\n",
    "\n",
    "# impute missing values\n",
    "from sklearn.experimental import enable_iterative_imputer\n",
    "from sklearn.impute import KNNImputer, IterativeImputer, SimpleImputer\n",
    "import sys"
   ]
  },
  {
   "cell_type": "code",
   "execution_count": 51,
   "metadata": {},
   "outputs": [
    {
     "name": "stderr",
     "output_type": "stream",
     "text": [
      "WARNING:param.panel_extension: bokeh extension not recognized and will be skipped.\n",
      "bokeh extension not recognized and will be skipped.\n"
     ]
    }
   ],
   "source": [
    "import panel as pn\n",
    "pn.extension('bokeh')"
   ]
  },
  {
   "cell_type": "code",
   "execution_count": 52,
   "metadata": {},
   "outputs": [],
   "source": [
    "#standard code-template imports\n",
    "from ta_lib.core.api import (\n",
    "    create_context, get_dataframe, get_feature_names_from_column_transformer, string_cleaning, initialize_environment,\n",
    "    get_package_path, display_as_tabs, save_data, save_pipeline, load_dataframe, load_pipeline, load_dataset, DEFAULT_ARTIFACTS_PATH\n",
    ")\n",
    "import ta_lib.core.api as dataset\n",
    "import ta_lib.eda.api as ta_analysis\n",
    "from ta_lib.reports.api import create_report\n",
    "import ta_lib.reports.api as health\n",
    "from sklearn.ensemble import RandomForestClassifier\n",
    "from ta_lib.classification.api import ClassificationComparison, ClassificationReport, confusion_matrix_by_feature, SKLStatsmodelLogit\n",
    "from ta_lib.data_processing.api import Outlier, WoeBinningTransformer\n",
    "\n",
    "from scripts import * \n",
    "\n",
    "os.environ['TA_DEBUG'] = \"False\"\n",
    "os.environ['TA_ALLOW_EXCEPTIONS'] = \"True\"\n",
    "\n",
    "# Initialization\n",
    "initialize_environment(debug=False, hide_warnings=True)"
   ]
  },
  {
   "cell_type": "code",
   "execution_count": 53,
   "metadata": {},
   "outputs": [],
   "source": [
    "import warnings\n",
    "warnings.filterwarnings(\"ignore\")\n",
    "warnings.filterwarnings('ignore', message=\"bokeh extension not recognized and will be skipped.\")\n",
    "warnings.filterwarnings('ignore', message=\"The sklearn.metrics.classification module\", category=FutureWarning)\n",
    "warnings.filterwarnings('ignore', message=\".*title_format is deprecated. Please use title instead.*\")"
   ]
  },
  {
   "cell_type": "code",
   "execution_count": 54,
   "metadata": {},
   "outputs": [],
   "source": [
    "artifacts_folder = DEFAULT_ARTIFACTS_PATH"
   ]
  },
  {
   "cell_type": "markdown",
   "metadata": {},
   "source": [
    "# Initialization"
   ]
  },
  {
   "cell_type": "code",
   "execution_count": 111,
   "metadata": {},
   "outputs": [],
   "source": [
    "config_path = op.join('conf', 'config.yml')\n",
    "context = create_context(config_path)"
   ]
  },
  {
   "cell_type": "code",
   "execution_count": 112,
   "metadata": {},
   "outputs": [
    {
     "data": {},
     "metadata": {},
     "output_type": "display_data"
    },
    {
     "data": {
      "application/vnd.holoviews_exec.v0+json": "",
      "text/html": [
       "<div id='29924'>\n",
       "\n",
       "\n",
       "\n",
       "\n",
       "\n",
       "  <div class=\"bk-root\" id=\"b21c65f4-64e7-4ece-a783-b105e6db819d\" data-root-id=\"29924\"></div>\n",
       "</div>\n",
       "<script type=\"application/javascript\">(function(root) {\n",
       "  function embed_document(root) {\n",
       "  var docs_json = {\"7eae64e5-cbcb-4991-9b63-243af56a98c8\":{\"roots\":{\"references\":[{\"attributes\":{\"child\":{\"id\":\"29925\"},\"name\":\"config\",\"title\":\"config\"},\"id\":\"29926\",\"type\":\"Panel\"},{\"attributes\":{\"margin\":[0,0,0,0],\"tabs\":[{\"id\":\"29926\"}]},\"id\":\"29924\",\"type\":\"Tabs\"},{\"attributes\":{\"margin\":[5,20,5,5],\"name\":\"config\",\"text\":\"{\\\"core\\\": {\\\"random_seed\\\": 0, \\\"data_base_path\\\": \\\"d:\\\\\\\\code_templates\\\\\\\\classification-py\\\\\\\\src\\\\\\\\..\\\\\\\\data\\\", \\\"log_base_path\\\": \\\"d:\\\\\\\\code_templates\\\\\\\\classification-py\\\\\\\\src\\\\\\\\..\\\\\\\\logs\\\"}, \\\"logging\\\": {\\\"version\\\": 1, \\\"disable_existing_loggers\\\": false, \\\"formatters\\\": {\\\"default\\\": {\\\"format\\\": \\\"%(asctime)s \\\\u00e2\\\\u20ac\\\\u201d %(name)s \\\\u00e2\\\\u20ac\\\\u201d %(levelname)s \\\\u00e2\\\\u20ac\\\\u201d %(funcName)s:%(lineno)d \\\\u00e2\\\\u20ac\\\\u201d %(message)s\\\", \\\"datefmt\\\": \\\"%Y-%m-%d %H:%M:%S\\\"}, \\\"simple\\\": {\\\"format\\\": \\\"%(message)s\\\"}}, \\\"handlers\\\": {\\\"console_handler\\\": {\\\"class\\\": \\\"logging.StreamHandler\\\", \\\"level\\\": \\\"DEBUG\\\", \\\"formatter\\\": \\\"simple\\\"}}, \\\"root\\\": {\\\"level\\\": \\\"WARN\\\", \\\"handlers\\\": [\\\"console_handler\\\"], \\\"propogate\\\": true}, \\\"loggers\\\": {\\\"ta_lib\\\": {\\\"level\\\": \\\"WARN\\\", \\\"handlers\\\": [\\\"console_handler\\\"], \\\"propogate\\\": true}}}, \\\"data_catalog\\\": {\\\"datasets\\\": {\\\"raw\\\": {\\\"product\\\": {\\\"type\\\": \\\"ds\\\", \\\"format\\\": \\\"csv\\\", \\\"uri\\\": \\\"d:\\\\\\\\code_templates\\\\\\\\classification-py\\\\\\\\src\\\\\\\\..\\\\\\\\data\\\\\\\\raw\\\\\\\\opportunity\\\\\\\\csv\\\\\\\\product.csv\\\", \\\"driver_params\\\": {}}, \\\"opportunity\\\": {\\\"type\\\": \\\"ds\\\", \\\"format\\\": \\\"csv\\\", \\\"uri\\\": \\\"d:\\\\\\\\code_templates\\\\\\\\classification-py\\\\\\\\src\\\\\\\\..\\\\\\\\data\\\\\\\\raw\\\\\\\\opportunity\\\\\\\\csv\\\\\\\\opportunity.csv\\\", \\\"driver_params\\\": {}}}, \\\"cleaned\\\": {\\\"target\\\": {\\\"type\\\": \\\"ds\\\", \\\"format\\\": \\\"parquet\\\", \\\"uri\\\": \\\"d:\\\\\\\\code_templates\\\\\\\\classification-py\\\\\\\\src\\\\\\\\..\\\\\\\\data\\\\\\\\cleaned\\\\\\\\opportunity\\\\\\\\target.parquet\\\", \\\"driver_params\\\": {}}, \\\"product\\\": {\\\"type\\\": \\\"ds\\\", \\\"format\\\": \\\"parquet\\\", \\\"uri\\\": \\\"d:\\\\\\\\code_templates\\\\\\\\classification-py\\\\\\\\src\\\\\\\\..\\\\\\\\data\\\\\\\\cleaned\\\\\\\\opportunity\\\\\\\\product.parquet\\\", \\\"driver_params\\\": {}}, \\\"opportunity\\\": {\\\"type\\\": \\\"ds\\\", \\\"format\\\": \\\"parquet\\\", \\\"uri\\\": \\\"d:\\\\\\\\code_templates\\\\\\\\classification-py\\\\\\\\src\\\\\\\\..\\\\\\\\data\\\\\\\\cleaned\\\\\\\\opportunity\\\\\\\\opportunity.parquet\\\", \\\"driver_params\\\": {}}}, \\\"processed\\\": {\\\"merged\\\": {\\\"type\\\": \\\"ds\\\", \\\"format\\\": \\\"parquet\\\", \\\"uri\\\": \\\"d:\\\\\\\\code_templates\\\\\\\\classification-py\\\\\\\\src\\\\\\\\..\\\\\\\\data\\\\\\\\processed\\\\\\\\merged.parquet\\\", \\\"driver_params\\\": {}}}, \\\"train\\\": {\\\"merged\\\": {\\\"features\\\": {\\\"type\\\": \\\"ds\\\", \\\"format\\\": \\\"parquet\\\", \\\"uri\\\": \\\"d:\\\\\\\\code_templates\\\\\\\\classification-py\\\\\\\\src\\\\\\\\..\\\\\\\\data\\\\\\\\train\\\\\\\\merged\\\\\\\\features.parquet\\\", \\\"driver_params\\\": {}}, \\\"target\\\": {\\\"type\\\": \\\"ds\\\", \\\"format\\\": \\\"parquet\\\", \\\"uri\\\": \\\"d:\\\\\\\\code_templates\\\\\\\\classification-py\\\\\\\\src\\\\\\\\..\\\\\\\\data\\\\\\\\train\\\\\\\\merged\\\\\\\\target.parquet\\\", \\\"driver_params\\\": {}}}}, \\\"test\\\": {\\\"merged\\\": {\\\"features\\\": {\\\"type\\\": \\\"ds\\\", \\\"format\\\": \\\"parquet\\\", \\\"uri\\\": \\\"d:\\\\\\\\code_templates\\\\\\\\classification-py\\\\\\\\src\\\\\\\\..\\\\\\\\data\\\\\\\\test\\\\\\\\merged\\\\\\\\features.parquet\\\", \\\"driver_params\\\": {}}, \\\"target\\\": {\\\"type\\\": \\\"ds\\\", \\\"format\\\": \\\"parquet\\\", \\\"uri\\\": \\\"d:\\\\\\\\code_templates\\\\\\\\classification-py\\\\\\\\src\\\\\\\\..\\\\\\\\data\\\\\\\\test\\\\\\\\merged\\\\\\\\target.parquet\\\", \\\"driver_params\\\": {}}}}, \\\"score\\\": {\\\"merged\\\": {\\\"output\\\": {\\\"type\\\": \\\"ds\\\", \\\"format\\\": \\\"parquet\\\", \\\"uri\\\": \\\"d:\\\\\\\\code_templates\\\\\\\\classification-py\\\\\\\\src\\\\\\\\..\\\\\\\\data\\\\\\\\test\\\\\\\\merged\\\\\\\\scored_output.parquet\\\", \\\"driver_params\\\": {}}}}}}, \\\"job_catalog\\\": {\\\"jobs\\\": [{\\\"name\\\": \\\"data-cleaning\\\", \\\"stages\\\": [{\\\"name\\\": \\\"clean-base-tables\\\", \\\"tasks\\\": [{\\\"name\\\": \\\"product\\\", \\\"params\\\": {}}, {\\\"name\\\": \\\"orders\\\", \\\"params\\\": {}}]}, {\\\"name\\\": \\\"clean-derivative-tables\\\", \\\"tasks\\\": [{\\\"name\\\": \\\"sales\\\", \\\"params\\\": {}}]}, {\\\"name\\\": \\\"train-test-split\\\", \\\"tasks\\\": [{\\\"name\\\": \\\"train-test\\\", \\\"params\\\": {\\\"target\\\": \\\"unit_price,\\\", \\\"test_size\\\": 0.2}}]}]}, {\\\"name\\\": \\\"feat-engg\\\", \\\"stages\\\": [{\\\"name\\\": \\\"feature-pipelines\\\", \\\"tasks\\\": [{\\\"name\\\": \\\"transform-features\\\", \\\"params\\\": {\\\"outliers\\\": {\\\"method\\\": \\\"percentile\\\", \\\"lb\\\": 0.01, \\\"ub\\\": 0.99, \\\"drop\\\": true}}}]}]}, {\\\"name\\\": \\\"model-gen\\\", \\\"stages\\\": [{\\\"name\\\": \\\"model-creation\\\", \\\"tasks\\\": [{\\\"name\\\": \\\"train-model\\\", \\\"params\\\": {}}]}]}, {\\\"name\\\": \\\"model-eval\\\", \\\"stages\\\": [{\\\"name\\\": \\\"model-predict\\\", \\\"tasks\\\": [{\\\"name\\\": \\\"score-model\\\", \\\"params\\\": {}}]}]}]}, \\\"config_file\\\": \\\"D:\\\\\\\\Code_Templates\\\\\\\\classification-py\\\\\\\\notebooks\\\\\\\\case_study\\\\\\\\conf\\\\\\\\config.yml\\\"}\"},\"id\":\"29925\",\"type\":\"panel.models.markup.JSON\"},{\"attributes\":{\"client_comm_id\":\"669777b0219c4ca796884cf3af998d55\",\"comm_id\":\"b04a3ee86cd546daad4c5b6d2f4c8a70\",\"plot_id\":\"29924\"},\"id\":\"29927\",\"type\":\"panel.models.comm_manager.CommManager\"}],\"root_ids\":[\"29924\",\"29927\"]},\"title\":\"Bokeh Application\",\"version\":\"2.2.3\"}};\n",
       "  var render_items = [{\"docid\":\"7eae64e5-cbcb-4991-9b63-243af56a98c8\",\"root_ids\":[\"29924\"],\"roots\":{\"29924\":\"b21c65f4-64e7-4ece-a783-b105e6db819d\"}}];\n",
       "  root.Bokeh.embed.embed_items_notebook(docs_json, render_items);\n",
       "  }\n",
       "if (root.Bokeh !== undefined) {\n",
       "    embed_document(root);\n",
       "  } else {\n",
       "    var attempts = 0;\n",
       "    var timer = setInterval(function(root) {\n",
       "      if (root.Bokeh !== undefined) {\n",
       "        clearInterval(timer);\n",
       "        embed_document(root);\n",
       "      } else if (document.readyState == \"complete\") {\n",
       "        attempts++;\n",
       "        if (attempts > 100) {\n",
       "          clearInterval(timer);\n",
       "          console.log(\"Bokeh: ERROR: Unable to run BokehJS code because BokehJS library is missing\");\n",
       "        }\n",
       "      }\n",
       "    }, 10, root)\n",
       "  }\n",
       "})(window);</script>"
      ],
      "text/plain": [
       "Tabs\n",
       "    [0] JSON(dict, name='config')"
      ]
     },
     "execution_count": 112,
     "metadata": {
      "application/vnd.holoviews_exec.v0+json": {
       "id": "29924"
      }
     },
     "output_type": "execute_result"
    }
   ],
   "source": [
    "display_as_tabs([('config', context.config)])"
   ]
  },
  {
   "cell_type": "markdown",
   "metadata": {},
   "source": [
    "# 3 EDA\n",
    "\n",
    "Here we are doing a preliminary EDA on the dataset to add any features and findings"
   ]
  },
  {
   "cell_type": "markdown",
   "metadata": {},
   "source": [
    "## 3.1 Read the Train and Test Data"
   ]
  },
  {
   "cell_type": "code",
   "execution_count": 113,
   "metadata": {},
   "outputs": [],
   "source": [
    "train_X = load_dataset(context, 'train/merged/features')\n",
    "train_y = load_dataset(context, 'train/merged/target')\n",
    "\n",
    "test_X = load_dataset(context, 'test/merged/features')\n",
    "test_y = load_dataset(context, 'test/merged/target')\n",
    "\n",
    "# train_customers=train_X['oppo_pro_tr_time_geo_id'].tolist()\n",
    "# test_customers=train_X['oppo_pro_tr_time_geo_id'].tolist()\n",
    "# ref_date_for_churn = r'2013-05-01'\n",
    "# ref_date=pd.to_datetime(ref_date_for_churn)\n",
    "\n",
    "num_columns = train_X.select_dtypes('number').columns"
   ]
  },
  {
   "cell_type": "code",
   "execution_count": 114,
   "metadata": {},
   "outputs": [
    {
     "data": {},
     "metadata": {},
     "output_type": "display_data"
    },
    {
     "data": {
      "application/vnd.holoviews_exec.v0+json": "",
      "text/html": [
       "<div id='29928'>\n",
       "\n",
       "\n",
       "\n",
       "\n",
       "\n",
       "  <div class=\"bk-root\" id=\"9b3d2ec9-668d-4a3b-bbc0-e627fe2b97e8\" data-root-id=\"29928\"></div>\n",
       "</div>\n",
       "<script type=\"application/javascript\">(function(root) {\n",
       "  function embed_document(root) {\n",
       "  var docs_json = {\"a5ecd9db-c0f6-48db-b90a-9abd769b628b\":{\"roots\":{\"references\":[{\"attributes\":{\"margin\":[5,5,5,5],\"name\":\"train features old\",\"text\":\"&lt;pre&gt;(12749, 18)&lt;/pre&gt;\"},\"id\":\"29929\",\"type\":\"panel.models.markup.HTML\"},{\"attributes\":{\"child\":{\"id\":\"29929\"},\"name\":\"train features old\",\"title\":\"train features old\"},\"id\":\"29930\",\"type\":\"Panel\"},{\"attributes\":{\"child\":{\"id\":\"29931\"},\"name\":\"test features old\",\"title\":\"test features old\"},\"id\":\"29932\",\"type\":\"Panel\"},{\"attributes\":{\"margin\":[0,0,0,0],\"tabs\":[{\"id\":\"29930\"},{\"id\":\"29932\"}]},\"id\":\"29928\",\"type\":\"Tabs\"},{\"attributes\":{\"client_comm_id\":\"b58f876e45be43a39be7a9d393560d55\",\"comm_id\":\"37b57efddb234feb8574fb7742fc6f1d\",\"plot_id\":\"29928\"},\"id\":\"29933\",\"type\":\"panel.models.comm_manager.CommManager\"},{\"attributes\":{\"margin\":[5,5,5,5],\"name\":\"test features old\",\"text\":\"&lt;pre&gt;(3188, 18)&lt;/pre&gt;\"},\"id\":\"29931\",\"type\":\"panel.models.markup.HTML\"}],\"root_ids\":[\"29928\",\"29933\"]},\"title\":\"Bokeh Application\",\"version\":\"2.2.3\"}};\n",
       "  var render_items = [{\"docid\":\"a5ecd9db-c0f6-48db-b90a-9abd769b628b\",\"root_ids\":[\"29928\"],\"roots\":{\"29928\":\"9b3d2ec9-668d-4a3b-bbc0-e627fe2b97e8\"}}];\n",
       "  root.Bokeh.embed.embed_items_notebook(docs_json, render_items);\n",
       "  }\n",
       "if (root.Bokeh !== undefined) {\n",
       "    embed_document(root);\n",
       "  } else {\n",
       "    var attempts = 0;\n",
       "    var timer = setInterval(function(root) {\n",
       "      if (root.Bokeh !== undefined) {\n",
       "        clearInterval(timer);\n",
       "        embed_document(root);\n",
       "      } else if (document.readyState == \"complete\") {\n",
       "        attempts++;\n",
       "        if (attempts > 100) {\n",
       "          clearInterval(timer);\n",
       "          console.log(\"Bokeh: ERROR: Unable to run BokehJS code because BokehJS library is missing\");\n",
       "        }\n",
       "      }\n",
       "    }, 10, root)\n",
       "  }\n",
       "})(window);</script>"
      ],
      "text/plain": [
       "Tabs\n",
       "    [0] Str(tuple, name='train features old')\n",
       "    [1] Str(tuple, name='test features old')"
      ]
     },
     "execution_count": 114,
     "metadata": {
      "application/vnd.holoviews_exec.v0+json": {
       "id": "29928"
      }
     },
     "output_type": "execute_result"
    }
   ],
   "source": [
    "display_as_tabs([('train features old', train_X.shape), ('test features old', test_X.shape)])"
   ]
  },
  {
   "cell_type": "markdown",
   "metadata": {},
   "source": [
    "## 3.2 Feature Engineering Pipelines\n"
   ]
  },
  {
   "cell_type": "markdown",
   "metadata": {},
   "source": [
    "**Dev NOTES**\n",
    "\n",
    "For Feature Engineering and Model Building sklearn.pipeline.Pipeline are leveraged because of the following advantages\n",
    "<details>\n",
    "    \n",
    "1. It helps in automating workflows and are easier to read and comprehend.\n",
    "2. Right Sequence can be ensured and (for example always encodes before imputing)\n",
    "3. Reproducibility is very convenient with pipelines\n",
    "4. Pipelines help you prevent data leakage in your test data\n",
    "5. Code is near implementation ready"
   ]
  },
  {
   "cell_type": "markdown",
   "metadata": {},
   "source": [
    "#### General Steps in the Feature Transformation are as follows\n",
    " - Feature Generation\n",
    " - Outlier Treatment\n",
    " - Encoding of Categorical Columns\n",
    " - Missing Values Inputation"
   ]
  },
  {
   "cell_type": "markdown",
   "metadata": {},
   "source": [
    "### 3.2.1 Custom Feature Generation"
   ]
  },
  {
   "cell_type": "markdown",
   "metadata": {},
   "source": [
    "Model data is at customer level. Most of the other data sources are at customer, year, month level. Thus these data have to be aggregated to relevant features to be added to the model.\n",
    "\n",
    "Feature that can be extracted from the data sources are as follows:\n",
    "\n",
    "| | Dataset | DataFrame | Column | Features | \n",
    "|-|---------|-----------|----------|--|\n",
    "|1| Primary sales |pri_bpm_df | `pri_sales_amount` | Last 6 months mean <br> Last 3 months mean <br>   Overall average WOE binned | \n",
    "| 2| Secondary sales  |sec_bpm_df | `sec_ind_bpm_actuals` | Overall mean <br> Last 6 months mean <br>  last 3 months mean| \n",
    "| 3| No objection data | no_obj_df | `policy_flag` | Counts wrt policy_flag category |\n",
    "| 4 |  Orders data | order_alloc_df | `simple avg allocated percent` | Overall average |\n",
    "| 5 | Orders and allocated reasons data | orders_and_allocated_reason_df | `reason_code_description_new_new` | Percentage allocated by category|\n",
    "| 6| Returns or profit data | returns_df | `profit_with_udaan_without_sub` <br> `profit_without_udaan_sub`  <br> `profit_with_udaan_with_sub`  <br>  `profit_without_udaan_without_sub`  <br> `roi_without_udaan_sub`  <br>  `roi_with_udaan_without_sub`  <br> `roi_without_udaan_with_sub`  <br> `roi_with_udaan_with_sub` | Last 6 months mean <br> Overall mean| \n",
    "| | | |`roi_without_udaan_with_sub` | Overall woebinned | \n",
    "| 7 | Coverage data | coverage_df | `daily_coverage_perc` | Last 6 months values |\n",
    "| 8 | Retail program data | retail_program_df | `sec_netvalue` <br>  `bandhan_net_val` <br> `wholesale_net_value` <br> `otherpgrm_net_val` <br> `non_wholesale_net_value` | Last 6 months mean <br> last 3 months mean <br>  Overall mean| \n",
    "| 9 | Business data | ec_df | `ec` | Last 3 months mean <br> Last 6 months mean <br> Overall mean | \n",
    "|10 | Ordered with apps | ordered_with_app_df | `labor_in_person_days` | Last 6 months mean <br> Last 3 months mean <br> Overall mean |\n",
    "| 11|  Ordered without apps | ordered_without_app_df | `labor_in_person_days` | Last 6 months mean <br> Last 3 months mean <br> Overall mean |\n",
    "|12| Retail invoices | dist_retail_invoice_df | `unique_retailers` <br> `invoice_count` | Last 6 months mean <br> Last 3 months mean <br> overall mean |\n",
    "| 13| Days_in_business | doj_df | | `ref_date` - `date_of_joining`| \n",
    "\n",
    "Functions used to generate these features are available in scripts.py. **Note:** these follow pyjanitor style of coding. For more details refer [here](https://pyjanitor.readthedocs.io/notebooks/pyjanitor_intro.html)"
   ]
  },
  {
   "cell_type": "code",
   "execution_count": 59,
   "metadata": {},
   "outputs": [],
   "source": [
    "# agg_methods = {'primary_sales': {'agg_type': ['rolling', 'cumulative'],\n",
    "#                                  'feature_col': 'pri_sales_amount',\n",
    "#                                  'data_path': \"/cleaned/pri_bpm\",\n",
    "#                                 'window': [3,6],\n",
    "#                                 'method': 'mean',\n",
    "#                                 'group_by_col': 'customer_code'},\n",
    "#               'secondary_sales': {'agg_type': ['rolling', 'cumulative'],\n",
    "#                                   'feature_col': 'sec_ind_bpm_actuals',\n",
    "#                                  'data_path': \"/cleaned/sec_bpm\",\n",
    "#                                   'window': [3,6],\n",
    "#                                   'method': 'mean',\n",
    "#                                   'group_by_col': 'customer_code'},\n",
    "#                'order_alloc': {'agg_type': ['cumulative'],\n",
    "#                                'feature_col': 'simple avg allocated percent',\n",
    "#                                'data_path': \"/cleaned/order_alloc\",\n",
    "#                                'window': None,\n",
    "#                                'method': 'mean',\n",
    "#                                'group_by_col': 'customer_code'},\n",
    "#                'coverage_data': {'agg_type': ['rolling'],\n",
    "#                                  'feature_col': 'daily_coverage_perc',\n",
    "#                                  'data_path': \"/cleaned/coverage\",\n",
    "#                                  'window': [6],\n",
    "#                                  'method': 'mean',\n",
    "#                                  'group_by_col': 'customer_code'},\n",
    "#                'profit_data': {'agg_type': ['rolling', 'cumulative'],\n",
    "#                                 'window': [3,6],\n",
    "#                                'method': 'mean',\n",
    "#                                'group_by_col': 'customer_code'},\n",
    "#                'retail_program': {'agg_type': ['rolling', 'cumulative'],\n",
    "#                                    'window': [3,6],\n",
    "#                                   'method': 'mean',\n",
    "#                                   'group_by_col': 'customer_code'},\n",
    "#                'business_data': {'agg_type': ['rolling', 'cumulative'],\n",
    "#                                  'feature_col': 'ec',\n",
    "#                                  'data_path': \"/cleaned/ec\",\n",
    "#                                  'window': [3,6],\n",
    "#                                  'method': 'mean',\n",
    "#                                  'group_by_col': 'customer_code'},\n",
    "#                'app_order_data':  {'agg_type': ['rolling'],\n",
    "#                                    'feature_col': 'labor_in_person_days',\n",
    "#                                    'data_path': \"/cleaned/ordered_with_app\",\n",
    "#                                    'window': [3,6],\n",
    "#                                    'method': 'mean',\n",
    "#                                    'group_by_col': 'customer_code'},\n",
    "#                'withoutapp_order_data':  {'agg_type': ['rolling'],\n",
    "#                                           'feature_col': 'labor_in_person_days',\n",
    "#                                           'data_path': \"/cleaned/ordered_without_app\",\n",
    "#                                           'window': [3,6],\n",
    "#                                           'method': 'mean',\n",
    "#                                           'group_by_col': 'customer_code'},\n",
    "#                'retail_data': {'agg_type': ['rolling'],\n",
    "#                                'window': [3,6],\n",
    "#                                'method': 'mean',\n",
    "#                                'group_by_col': 'customer_code'}}"
   ]
  },
  {
   "cell_type": "code",
   "execution_count": 12,
   "metadata": {},
   "outputs": [],
   "source": [
    "# def add_features(df, context, ref_date):\n",
    "#     data = (\n",
    "#         df.add_time_features(\n",
    "#                 context,\n",
    "#                 date_col=\"month_start_date\",\n",
    "#                 features_col=agg_methods[\"primary_sales\"][\"feature_col\"],\n",
    "#                 data_path=agg_methods[\"primary_sales\"][\"data_path\"],\n",
    "#                 ref_date=ref_date, \n",
    "#                 agg_type=agg_methods[\"primary_sales\"][\"agg_type\"],\n",
    "#                 windows=agg_methods[\"primary_sales\"][\"window\"],\n",
    "#                 group_by_col=agg_methods[\"primary_sales\"][\"group_by_col\"],\n",
    "#                 agg_method=agg_methods[\"primary_sales\"][\"method\"]) \\\n",
    "#           .add_time_features(\n",
    "#                 context,\n",
    "#                 date_col=\"month_start_date\",\n",
    "#                 features_col=agg_methods[\"secondary_sales\"]['feature_col'],\n",
    "#                 data_path=agg_methods[\"secondary_sales\"]['data_path'],\n",
    "#                 ref_date=ref_date, \n",
    "#                 agg_type=agg_methods[\"secondary_sales\"][\"agg_type\"],\n",
    "#                 windows=agg_methods[\"secondary_sales\"][\"window\"],\n",
    "#                 group_by_col=agg_methods[\"secondary_sales\"][\"group_by_col\"],\n",
    "#                 agg_method=agg_methods[\"secondary_sales\"][\"method\"],) \\\n",
    "#             .add_features_no_objection_data(context, ref_date)\n",
    "#             .add_time_features(\n",
    "#                 context,\n",
    "#                 date_col=\"month_start_date\",\n",
    "#                 features_col=agg_methods[\"order_alloc\"]['feature_col'],\n",
    "#                 data_path=agg_methods[\"order_alloc\"]['data_path'],\n",
    "#                 ref_date=ref_date, \n",
    "#                 agg_type=agg_methods[\"order_alloc\"][\"agg_type\"],\n",
    "#                 windows=agg_methods[\"order_alloc\"][\"window\"],\n",
    "#                 group_by_col=agg_methods[\"order_alloc\"][\"group_by_col\"],\n",
    "#                 agg_method=agg_methods[\"order_alloc\"][\"method\"],) \\\n",
    "#             .add_time_features(\n",
    "#                 context,\n",
    "#                 date_col=\"month_start_date\",\n",
    "#                 features_col=agg_methods[\"coverage_data\"]['feature_col'],\n",
    "#                 data_path=agg_methods[\"coverage_data\"]['data_path'],\n",
    "#                 ref_date=ref_date, \n",
    "#                 agg_type=agg_methods[\"coverage_data\"][\"agg_type\"],\n",
    "#                 windows=agg_methods[\"coverage_data\"][\"window\"],\n",
    "#                 group_by_col=agg_methods[\"coverage_data\"][\"group_by_col\"],\n",
    "#                 agg_method=agg_methods[\"coverage_data\"][\"method\"],) \\\n",
    "#             .add_features_profit_data(\n",
    "#                 context,\n",
    "#                 ref_date,\n",
    "#                 agg_type=agg_methods[\"profit_data\"][\"agg_type\"],\n",
    "#                 windows=agg_methods[\"profit_data\"][\"window\"],\n",
    "#                 group_by_col=agg_methods[\"profit_data\"][\"group_by_col\"],\n",
    "#                 agg_method=agg_methods[\"profit_data\"][\"method\"],) \\\n",
    "#             .add_features_order_alloc_reason(context, ref_date)\n",
    "#             .add_features_retail_program_data(\n",
    "#                 context,\n",
    "#                 ref_date,\n",
    "#                 agg_type=agg_methods[\"retail_program\"][\"agg_type\"],\n",
    "#                 windows=agg_methods[\"retail_program\"][\"window\"],\n",
    "#                 group_by_col=agg_methods[\"retail_program\"][\"group_by_col\"],\n",
    "#                 agg_method=agg_methods[\"retail_program\"][\"method\"],) \\\n",
    "#             .add_time_features(\n",
    "#                 context,\n",
    "#                 date_col='month_start_date',\n",
    "#                 features_col=agg_methods[\"business_data\"]['feature_col'],\n",
    "#                 data_path=agg_methods[\"business_data\"]['data_path'],\n",
    "#                 ref_date=ref_date, \n",
    "#                 agg_type=agg_methods[\"business_data\"][\"agg_type\"],\n",
    "#                 windows=agg_methods[\"business_data\"][\"window\"],\n",
    "#                 group_by_col=agg_methods[\"business_data\"][\"group_by_col\"],\n",
    "#                 agg_method=agg_methods[\"business_data\"][\"method\"],) \\\n",
    "#             .add_time_features(\n",
    "#                 context,\n",
    "#                 date_col=\"month_start_date\",\n",
    "#                 features_col=agg_methods[\"app_order_data\"]['feature_col'],\n",
    "#                 data_path=agg_methods[\"app_order_data\"]['data_path'],\n",
    "#                 ref_date=ref_date, \n",
    "#                 agg_type=agg_methods[\"app_order_data\"][\"agg_type\"],\n",
    "#                 windows=agg_methods[\"app_order_data\"][\"window\"],\n",
    "#                 group_by_col=agg_methods[\"app_order_data\"][\"group_by_col\"],\n",
    "#                 agg_method=agg_methods[\"app_order_data\"][\"method\"],) \\\n",
    "#             .add_time_features(\n",
    "#                 context,\n",
    "#                 date_col=\"month_start_date\",\n",
    "#                 features_col=agg_methods[\"withoutapp_order_data\"][\"feature_col\"],\n",
    "#                 data_path=agg_methods[\"withoutapp_order_data\"]['data_path'],\n",
    "#                 ref_date=ref_date, \n",
    "#                 agg_type=agg_methods[\"withoutapp_order_data\"][\"agg_type\"],\n",
    "#                 windows=agg_methods[\"withoutapp_order_data\"][\"window\"],\n",
    "#                 group_by_col=agg_methods[\"withoutapp_order_data\"][\"group_by_col\"],\n",
    "#                 agg_method=agg_methods[\"withoutapp_order_data\"][\"method\"],) \\\n",
    "#             .add_features_retail_invoices_data(\n",
    "#                 context,\n",
    "#                 ref_date,\n",
    "#                 agg_type=agg_methods[\"retail_data\"][\"agg_type\"],\n",
    "#                 windows=agg_methods[\"retail_data\"][\"window\"],\n",
    "#                 group_by_col=agg_methods[\"retail_data\"][\"group_by_col\"],\n",
    "#                 agg_method=agg_methods[\"retail_data\"][\"method\"],\n",
    "#             )\n",
    "#             .add_days_in_business_feature(context, ref_date)\n",
    "#     )\n",
    "#     return(data)"
   ]
  },
  {
   "cell_type": "code",
   "execution_count": 13,
   "metadata": {},
   "outputs": [
    {
     "data": {},
     "metadata": {},
     "output_type": "display_data"
    },
    {
     "data": {
      "application/vnd.holoviews_exec.v0+json": "",
      "text/html": [
       "<div id='1011'>\n",
       "\n",
       "\n",
       "\n",
       "\n",
       "\n",
       "  <div class=\"bk-root\" id=\"386d5013-a10f-45f4-8aa4-7b507db755bf\" data-root-id=\"1011\"></div>\n",
       "</div>\n",
       "<script type=\"application/javascript\">(function(root) {\n",
       "  function embed_document(root) {\n",
       "  var docs_json = {\"eb759354-c7bd-442a-b97e-624a6681125c\":{\"roots\":{\"references\":[{\"attributes\":{\"margin\":[0,0,0,0],\"tabs\":[{\"id\":\"1013\"},{\"id\":\"1015\"}]},\"id\":\"1011\",\"type\":\"Tabs\"},{\"attributes\":{\"client_comm_id\":\"533159b5d57242f98a471658af73e4db\",\"comm_id\":\"e47509fe21614843a1d56835f9bc506a\",\"plot_id\":\"1011\"},\"id\":\"1016\",\"type\":\"panel.models.comm_manager.CommManager\"},{\"attributes\":{\"child\":{\"id\":\"1014\"},\"name\":\"test features new\",\"title\":\"test features new\"},\"id\":\"1015\",\"type\":\"Panel\"},{\"attributes\":{\"margin\":[5,5,5,5],\"name\":\"test features new\",\"text\":\"&lt;pre&gt;(149, 67)&lt;/pre&gt;\"},\"id\":\"1014\",\"type\":\"panel.models.markup.HTML\"},{\"attributes\":{\"child\":{\"id\":\"1012\"},\"name\":\"train features new\",\"title\":\"train features new\"},\"id\":\"1013\",\"type\":\"Panel\"},{\"attributes\":{\"margin\":[5,5,5,5],\"name\":\"train features new\",\"text\":\"&lt;pre&gt;(596, 67)&lt;/pre&gt;\"},\"id\":\"1012\",\"type\":\"panel.models.markup.HTML\"}],\"root_ids\":[\"1011\",\"1016\"]},\"title\":\"Bokeh Application\",\"version\":\"2.2.3\"}};\n",
       "  var render_items = [{\"docid\":\"eb759354-c7bd-442a-b97e-624a6681125c\",\"root_ids\":[\"1011\"],\"roots\":{\"1011\":\"386d5013-a10f-45f4-8aa4-7b507db755bf\"}}];\n",
       "  root.Bokeh.embed.embed_items_notebook(docs_json, render_items);\n",
       "  }\n",
       "if (root.Bokeh !== undefined) {\n",
       "    embed_document(root);\n",
       "  } else {\n",
       "    var attempts = 0;\n",
       "    var timer = setInterval(function(root) {\n",
       "      if (root.Bokeh !== undefined) {\n",
       "        clearInterval(timer);\n",
       "        embed_document(root);\n",
       "      } else if (document.readyState == \"complete\") {\n",
       "        attempts++;\n",
       "        if (attempts > 100) {\n",
       "          clearInterval(timer);\n",
       "          console.log(\"Bokeh: ERROR: Unable to run BokehJS code because BokehJS library is missing\");\n",
       "        }\n",
       "      }\n",
       "    }, 10, root)\n",
       "  }\n",
       "})(window);</script>"
      ],
      "text/plain": [
       "Tabs\n",
       "    [0] Str(tuple, name='train features new')\n",
       "    [1] Str(tuple, name='test features new')"
      ]
     },
     "execution_count": 13,
     "metadata": {
      "application/vnd.holoviews_exec.v0+json": {
       "id": "1011"
      }
     },
     "output_type": "execute_result"
    }
   ],
   "source": [
    "# # Transformation Object for Creation of Features as part of a pipeline\n",
    "# class CustomFeatureGeneration(TransformerMixin):\n",
    "#     def __init__(self, context, ref_date):\n",
    "#         self.context=context\n",
    "#         self.ref_date=ref_date\n",
    "        \n",
    "#     def fit(self, X, y=None):\n",
    "#         pass\n",
    "        \n",
    "#     def transform(self, X, y=None):\n",
    "#         return add_features(X, self.context, self.ref_date)\n",
    "    \n",
    "#     def fit_transform(self, X, y=None):\n",
    "#         return add_features(X, self.context, self.ref_date)    \n",
    "    \n",
    "# # Adding the feature generation as a pipeline stage\n",
    "# feature_generation_ppln = Pipeline([\n",
    "    \n",
    "#     ('custom_features_generation', CustomFeatureGeneration(context=context, ref_date='2013-05-01')),\n",
    "# ])\n",
    "\n",
    "\n",
    "\n",
    "# train_X = feature_generation_ppln.fit_transform(train_X, train_y)\n",
    "# test_X = feature_generation_ppln.transform(test_X)\n",
    "# train_X.set_index('customer_code', inplace=True)\n",
    "# test_X.set_index('customer_code', inplace=True)\n",
    "# train_y.set_index('customer_code', inplace=True)\n",
    "# test_y.set_index('customer_code', inplace=True)\n",
    "\n",
    "# display_as_tabs([('train features new', train_X.shape), ('test features new', test_X.shape)])"
   ]
  },
  {
   "cell_type": "code",
   "execution_count": 11,
   "metadata": {},
   "outputs": [
    {
     "data": {
      "text/plain": [
       "Index(['oppo_pro_tr_time_geo_id', 'transition_to_stage',\n",
       "       'transition_from_stage_name', 'opportunity_status', 'opportunity_type',\n",
       "       'core_consumption_market', 'core_product_segment', 'core_sales_segment',\n",
       "       'geography', 'core_product_application', 'stage_level',\n",
       "       'transition_time_days', 'decision_time_days', 'early_stages',\n",
       "       'did_convert', 'product_id', 'product_$', 'product_quantity', 'target'],\n",
       "      dtype='object')"
      ]
     },
     "execution_count": 11,
     "metadata": {},
     "output_type": "execute_result"
    }
   ],
   "source": [
    "train_X.columns"
   ]
  },
  {
   "cell_type": "code",
   "execution_count": 14,
   "metadata": {},
   "outputs": [],
   "source": [
    "# ##Apply woe binning and onehot encoding\n",
    "# bin_columns = ['overall_avg_pri_sales_amount','overall_avg_roi_without_udaan_with_sub']\n",
    "# binning_transformer = ColumnTransformer([\n",
    "#     ('binn',WoeBinningTransformer(encode='onehot'),bin_columns)\n",
    "#     ],remainder='passthrough')\n",
    "\n",
    "# train_X_binned = get_dataframe(\n",
    "#     binning_transformer.fit_transform(train_X, train_y['target']), \n",
    "#     get_feature_names_from_column_transformer(binning_transformer)\n",
    "# )\n",
    "\n",
    "\n",
    "# test_X_binned = get_dataframe(\n",
    "#     binning_transformer.transform(test_X), \n",
    "#     get_feature_names_from_column_transformer(binning_transformer)\n",
    "# )\n",
    "\n",
    "# train_X_binned.index = train_X.index\n",
    "# test_X_binned.index = test_X.index\n",
    "# train_X = train_X_binned.infer_objects()\n",
    "# test_X = test_X_binned.infer_objects()"
   ]
  },
  {
   "cell_type": "markdown",
   "metadata": {},
   "source": [
    "### 3.2.2 Outlier Handling\n",
    "- A functional Transformer is used to handle outliers. It is not included as part of the pipeline as outliers are handled only in the training data and not in test.\n",
    "- An option to either drop or cap the outliers is presented in the drop key in the kw_args argument in the below example\n",
    "- If we want to treat outliers for some columns them we can pass cols argument to the FunctionTransformer kw_args\n",
    "- This will go into production code"
   ]
  },
  {
   "cell_type": "code",
   "execution_count": 115,
   "metadata": {},
   "outputs": [
    {
     "name": "stdout",
     "output_type": "stream",
     "text": [
      "(12749, 18)\n",
      "(12749, 18)\n"
     ]
    }
   ],
   "source": [
    "outlier_transformer = Outlier(method='percentile')\n",
    "print(train_X.shape)\n",
    "train_X = outlier_transformer.fit_transform(train_X)\n",
    "print(train_X.shape)\n",
    "train_y = train_y.loc[train_X.index]"
   ]
  },
  {
   "cell_type": "markdown",
   "metadata": {},
   "source": [
    "### 3.2.3 Encoding and Missing Value Handling\n"
   ]
  },
  {
   "cell_type": "markdown",
   "metadata": {},
   "source": [
    "#### Encoding"
   ]
  },
  {
   "cell_type": "markdown",
   "metadata": {},
   "source": [
    "Some sample pipelines showcasing how to create column specific pipelines and integrating them overall is presented below\n",
    "\n",
    "- Commonly target encoding is done for categorical variables with too many levels. Not Feasible here as the decision variable is categorical(Binary)\n",
    "- We also group sparse levels. For fewer levels one hot encoding/label encoding is preferred.\n",
    "- If there is one dominant level, we can use binary encoding.\n",
    "- This will go into production code"
   ]
  },
  {
   "cell_type": "markdown",
   "metadata": {},
   "source": [
    "Since the decision variable here is binary, onehot-encoding is choosed"
   ]
  },
  {
   "cell_type": "markdown",
   "metadata": {},
   "source": [
    "Defining Columns Types"
   ]
  },
  {
   "cell_type": "code",
   "execution_count": 116,
   "metadata": {},
   "outputs": [
    {
     "data": {},
     "metadata": {},
     "output_type": "display_data"
    },
    {
     "data": {
      "application/vnd.holoviews_exec.v0+json": "",
      "text/html": [
       "<div id='29934'>\n",
       "\n",
       "\n",
       "\n",
       "\n",
       "\n",
       "  <div class=\"bk-root\" id=\"a9e4ec4b-2874-485e-a4ef-d19a3305eafb\" data-root-id=\"29934\"></div>\n",
       "</div>\n",
       "<script type=\"application/javascript\">(function(root) {\n",
       "  function embed_document(root) {\n",
       "  var docs_json = {\"4b575816-62b1-4ef1-bd39-9d164139578b\":{\"roots\":{\"references\":[{\"attributes\":{\"margin\":[5,20,5,5],\"name\":\"categorical columns\",\"text\":\"{}\"},\"id\":\"29935\",\"type\":\"panel.models.markup.JSON\"},{\"attributes\":{\"margin\":[0,0,0,0],\"tabs\":[{\"id\":\"29936\"},{\"id\":\"29938\"}]},\"id\":\"29934\",\"type\":\"Tabs\"},{\"attributes\":{\"child\":{\"id\":\"29935\"},\"name\":\"categorical columns\",\"title\":\"categorical columns\"},\"id\":\"29936\",\"type\":\"Panel\"},{\"attributes\":{\"margin\":[5,20,5,5],\"name\":\"numerical columns\",\"text\":\"[\\\"index\\\", \\\"transition_to_stage\\\", \\\"transition_from_stage_name\\\", \\\"opportunity_status\\\", \\\"opportunity_type\\\", \\\"core_consumption_market\\\", \\\"core_product_segment\\\", \\\"core_sales_segment\\\", \\\"geography\\\", \\\"core_product_application\\\", \\\"stage_level\\\", \\\"transition_time_days\\\", \\\"decision_time_days\\\", \\\"early_stages\\\", \\\"did_convert\\\", \\\"product_id\\\", \\\"product_$\\\", \\\"product_quantity\\\"]\"},\"id\":\"29937\",\"type\":\"panel.models.markup.JSON\"},{\"attributes\":{\"child\":{\"id\":\"29937\"},\"name\":\"numerical columns\",\"title\":\"numerical columns\"},\"id\":\"29938\",\"type\":\"Panel\"},{\"attributes\":{\"client_comm_id\":\"0096aad9680143d7af0f1070f77bad38\",\"comm_id\":\"3cad9b79cb4b4002b2838b46aaad6f89\",\"plot_id\":\"29934\"},\"id\":\"29939\",\"type\":\"panel.models.comm_manager.CommManager\"}],\"root_ids\":[\"29934\",\"29939\"]},\"title\":\"Bokeh Application\",\"version\":\"2.2.3\"}};\n",
       "  var render_items = [{\"docid\":\"4b575816-62b1-4ef1-bd39-9d164139578b\",\"root_ids\":[\"29934\"],\"roots\":{\"29934\":\"a9e4ec4b-2874-485e-a4ef-d19a3305eafb\"}}];\n",
       "  root.Bokeh.embed.embed_items_notebook(docs_json, render_items);\n",
       "  }\n",
       "if (root.Bokeh !== undefined) {\n",
       "    embed_document(root);\n",
       "  } else {\n",
       "    var attempts = 0;\n",
       "    var timer = setInterval(function(root) {\n",
       "      if (root.Bokeh !== undefined) {\n",
       "        clearInterval(timer);\n",
       "        embed_document(root);\n",
       "      } else if (document.readyState == \"complete\") {\n",
       "        attempts++;\n",
       "        if (attempts > 100) {\n",
       "          clearInterval(timer);\n",
       "          console.log(\"Bokeh: ERROR: Unable to run BokehJS code because BokehJS library is missing\");\n",
       "        }\n",
       "      }\n",
       "    }, 10, root)\n",
       "  }\n",
       "})(window);</script>"
      ],
      "text/plain": [
       "Tabs\n",
       "    [0] JSON(list, name='categorical columns')\n",
       "    [1] JSON(list, name='numerical columns')"
      ]
     },
     "execution_count": 116,
     "metadata": {
      "application/vnd.holoviews_exec.v0+json": {
       "id": "29934"
      }
     },
     "output_type": "execute_result"
    }
   ],
   "source": [
    "# collecting different types of columns for transformations\n",
    "cat_columns = train_X.select_dtypes('object').columns\n",
    "num_columns = train_X.select_dtypes('number').columns\n",
    "display_as_tabs([('categorical columns', list(cat_columns)), ('numerical columns', list(num_columns))])"
   ]
  },
  {
   "cell_type": "markdown",
   "metadata": {},
   "source": [
    "#### Missing Value Handling"
   ]
  },
  {
   "cell_type": "markdown",
   "metadata": {},
   "source": [
    "Obtaining the missing value summary of the features"
   ]
  },
  {
   "cell_type": "code",
   "execution_count": 117,
   "metadata": {},
   "outputs": [
    {
     "data": {},
     "metadata": {},
     "output_type": "display_data"
    },
    {
     "data": {
      "application/vnd.holoviews_exec.v0+json": "",
      "text/html": [
       "<div id='29940'>\n",
       "\n",
       "\n",
       "\n",
       "\n",
       "\n",
       "  <div class=\"bk-root\" id=\"ea17e3a4-2fd8-4e52-b601-c399dedcb6a6\" data-root-id=\"29940\"></div>\n",
       "</div>\n",
       "<script type=\"application/javascript\">(function(root) {\n",
       "  function embed_document(root) {\n",
       "  var docs_json = {\"5eaf5447-bb8d-4317-aaec-c972317bf1c0\":{\"roots\":{\"references\":[{\"attributes\":{},\"id\":\"29952\",\"type\":\"NumberFormatter\"},{\"attributes\":{\"child\":{\"id\":\"29962\"},\"name\":\"data\",\"title\":\"data\"},\"id\":\"29965\",\"type\":\"Panel\"},{\"attributes\":{},\"id\":\"29943\",\"type\":\"IntEditor\"},{\"attributes\":{\"format\":\"0,0.0[00000]\"},\"id\":\"29957\",\"type\":\"NumberFormatter\"},{\"attributes\":{},\"id\":\"29964\",\"type\":\"Selection\"},{\"attributes\":{\"source\":{\"id\":\"29941\"}},\"id\":\"29963\",\"type\":\"CDSView\"},{\"attributes\":{},\"id\":\"29947\",\"type\":\"StringFormatter\"},{\"attributes\":{\"editor\":{\"id\":\"29958\"},\"field\":\"Per of Missing\",\"formatter\":{\"id\":\"29957\"},\"title\":\"Per of Missing\",\"width\":null},\"id\":\"29959\",\"type\":\"TableColumn\"},{\"attributes\":{},\"id\":\"29948\",\"type\":\"StringEditor\"},{\"attributes\":{\"editor\":{\"id\":\"29948\"},\"field\":\"Variable Name\",\"formatter\":{\"id\":\"29947\"},\"title\":\"Variable Name\",\"width\":null},\"id\":\"29949\",\"type\":\"TableColumn\"},{\"attributes\":{\"margin\":[0,0,0,0],\"tabs\":[{\"id\":\"29965\"}]},\"id\":\"29940\",\"type\":\"Tabs\"},{\"attributes\":{\"client_comm_id\":\"45488f9f308f49898c8cae05843fb893\",\"comm_id\":\"aea817de2254460e90c5b8e0021860cc\",\"plot_id\":\"29940\"},\"id\":\"29972\",\"type\":\"panel.models.comm_manager.CommManager\"},{\"attributes\":{},\"id\":\"29966\",\"type\":\"UnionRenderers\"},{\"attributes\":{\"editor\":{\"id\":\"29943\"},\"field\":\"index\",\"formatter\":{\"id\":\"29942\"},\"title\":\"index\",\"width\":null},\"id\":\"29944\",\"type\":\"TableColumn\"},{\"attributes\":{\"data\":{\"No of Missing\":[0,0,0,0,0,0,0,0,0,0,0,0,0,0,0,0,0,0],\"Per of Missing\":{\"__ndarray__\":\"AAAAAAAAAAAAAAAAAAAAAAAAAAAAAAAAAAAAAAAAAAAAAAAAAAAAAAAAAAAAAAAAAAAAAAAAAAAAAAAAAAAAAAAAAAAAAAAAAAAAAAAAAAAAAAAAAAAAAAAAAAAAAAAAAAAAAAAAAAAAAAAAAAAAAAAAAAAAAAAAAAAAAAAAAAAAAAAAAAAAAAAAAAAAAAAA\",\"dtype\":\"float64\",\"order\":\"little\",\"shape\":[18]},\"Variable Name\":[\"index\",\"transition_to_stage\",\"product_$\",\"product_id\",\"did_convert\",\"early_stages\",\"decision_time_days\",\"transition_time_days\",\"stage_level\",\"core_product_application\",\"geography\",\"core_sales_segment\",\"core_product_segment\",\"core_consumption_market\",\"opportunity_type\",\"opportunity_status\",\"transition_from_stage_name\",\"product_quantity\"],\"index\":[0,1,16,15,14,13,12,11,10,9,8,7,6,5,4,3,2,17]},\"selected\":{\"id\":\"29964\"},\"selection_policy\":{\"id\":\"29966\"}},\"id\":\"29941\",\"type\":\"ColumnDataSource\"},{\"attributes\":{},\"id\":\"29958\",\"type\":\"NumberEditor\"},{\"attributes\":{\"editor\":{\"id\":\"29953\"},\"field\":\"No of Missing\",\"formatter\":{\"id\":\"29952\"},\"title\":\"No of Missing\",\"width\":null},\"id\":\"29954\",\"type\":\"TableColumn\"},{\"attributes\":{\"columns\":[{\"id\":\"29944\"},{\"id\":\"29949\"},{\"id\":\"29954\"},{\"id\":\"29959\"}],\"editable\":true,\"fit_columns\":true,\"height\":480,\"index_position\":null,\"margin\":[5,10,5,10],\"name\":\"data\",\"source\":{\"id\":\"29941\"},\"view\":{\"id\":\"29963\"}},\"id\":\"29962\",\"type\":\"DataTable\"},{\"attributes\":{},\"id\":\"29942\",\"type\":\"NumberFormatter\"},{\"attributes\":{},\"id\":\"29953\",\"type\":\"IntEditor\"}],\"root_ids\":[\"29940\",\"29972\"]},\"title\":\"Bokeh Application\",\"version\":\"2.2.3\"}};\n",
       "  var render_items = [{\"docid\":\"5eaf5447-bb8d-4317-aaec-c972317bf1c0\",\"root_ids\":[\"29940\"],\"roots\":{\"29940\":\"ea17e3a4-2fd8-4e52-b601-c399dedcb6a6\"}}];\n",
       "  root.Bokeh.embed.embed_items_notebook(docs_json, render_items);\n",
       "  }\n",
       "if (root.Bokeh !== undefined) {\n",
       "    embed_document(root);\n",
       "  } else {\n",
       "    var attempts = 0;\n",
       "    var timer = setInterval(function(root) {\n",
       "      if (root.Bokeh !== undefined) {\n",
       "        clearInterval(timer);\n",
       "        embed_document(root);\n",
       "      } else if (document.readyState == \"complete\") {\n",
       "        attempts++;\n",
       "        if (attempts > 100) {\n",
       "          clearInterval(timer);\n",
       "          console.log(\"Bokeh: ERROR: Unable to run BokehJS code because BokehJS library is missing\");\n",
       "        }\n",
       "      }\n",
       "    }, 10, root)\n",
       "  }\n",
       "})(window);</script>"
      ],
      "text/plain": [
       "Tabs\n",
       "    [0] DataFrame(name='data', value=              ...)"
      ]
     },
     "execution_count": 117,
     "metadata": {
      "application/vnd.holoviews_exec.v0+json": {
       "id": "29940"
      }
     },
     "output_type": "execute_result"
    }
   ],
   "source": [
    "missing_value_summary, missing_value_plot = ta_analysis.get_missing_values_summary(train_X.append(test_X), return_plot=True)\n",
    "display_as_tabs([('data', missing_value_summary)])"
   ]
  },
  {
   "cell_type": "markdown",
   "metadata": {},
   "source": [
    "Missing values are handled as follows \n",
    "- days_in_business - median is used to fill the missing values\n",
    "- other numerical features - constant fill of 0"
   ]
  },
  {
   "cell_type": "code",
   "execution_count": 18,
   "metadata": {},
   "outputs": [],
   "source": [
    "# features_transformer = ColumnTransformer\n",
    "# ([\n",
    "#     # categorical features encoding\n",
    "#     ('onehot_encoding', OneHotEncoder(use_cat_names=True), cat_columns),\n",
    "    \n",
    "#     # missing value imputations all columns except 'days_in_business'\n",
    "#     ('simple_imputation_constant', SimpleImputer(strategy='constant', fill_value=0), list(set(num_columns) - set(['days_in_business']))),\n",
    "    \n",
    "#     # imputing days in business\n",
    "#     ('simple_imputation_median', SimpleImputer(strategy='median'), ['days_in_business']),\n",
    "# ])"
   ]
  },
  {
   "cell_type": "markdown",
   "metadata": {},
   "source": [
    "## 3.2 Feature analysis\n",
    "\n",
    "Using the pipeline above, analyze the features and decide on additional features to add/remove from the pipeline. This section will not be part of the production code, unless input data drifts etc. are explicitly demanded in the project.\n",
    "\n",
    "Here we are primarily focused on feature selection/elimination based on business rules, prior knowledge, data analysis.\n",
    "\n",
    "**We are not building any models at this point.**\n"
   ]
  },
  {
   "cell_type": "markdown",
   "metadata": {},
   "source": [
    "- we create some sample data to analyze that we assume represent the population\n",
    "- train the features transformer and do the analysis as below"
   ]
  },
  {
   "cell_type": "markdown",
   "metadata": {},
   "source": [
    "Sample of the data can be selected for testing out the pipeline."
   ]
  },
  {
   "cell_type": "code",
   "execution_count": 19,
   "metadata": {},
   "outputs": [],
   "source": [
    "# sample_X = train_X.sample(frac=0.9, random_state=context.random_seed)\n",
    "# sample_y = train_y.loc[sample_X.index]\n",
    "\n",
    "# trans_sample_X = get_dataframe(\n",
    "#     features_transformer.fit_transform(sample_X, sample_y), \n",
    "#     get_feature_names_from_column_transformer(features_transformer)\n",
    "# )\n",
    "\n",
    "# # nothing to do for target\n",
    "# # sample_y"
   ]
  },
  {
   "cell_type": "markdown",
   "metadata": {},
   "source": [
    "Running the transformer on the entire data"
   ]
  },
  {
   "cell_type": "code",
   "execution_count": 20,
   "metadata": {},
   "outputs": [],
   "source": [
    "# train_X = get_dataframe(\n",
    "#     features_transformer.fit_transform(train_X, train_y), \n",
    "#     get_feature_names_from_column_transformer(features_transformer)\n",
    "# )"
   ]
  },
  {
   "cell_type": "code",
   "execution_count": 21,
   "metadata": {},
   "outputs": [
    {
     "data": {},
     "metadata": {},
     "output_type": "display_data"
    },
    {
     "data": {
      "application/vnd.holoviews_exec.v0+json": "",
      "text/html": [
       "<div id='1066'>\n",
       "\n",
       "\n",
       "\n",
       "\n",
       "\n",
       "  <div class=\"bk-root\" id=\"f9ef4bde-e9f4-48fd-b93f-ecaae496533d\" data-root-id=\"1066\"></div>\n",
       "</div>\n",
       "<script type=\"application/javascript\">(function(root) {\n",
       "  function embed_document(root) {\n",
       "  var docs_json = {\"f8c70c80-88e7-44f5-a4d5-faaee7218a97\":{\"roots\":{\"references\":[{\"attributes\":{\"margin\":[0,0,0,0],\"tabs\":[{\"id\":\"1068\"},{\"id\":\"1070\"}]},\"id\":\"1066\",\"type\":\"Tabs\"},{\"attributes\":{\"margin\":[5,20,5,5],\"name\":\"y Columns\",\"text\":\"[\\\"target\\\"]\"},\"id\":\"1069\",\"type\":\"panel.models.markup.JSON\"},{\"attributes\":{\"child\":{\"id\":\"1069\"},\"name\":\"y Columns\",\"title\":\"y Columns\"},\"id\":\"1070\",\"type\":\"Panel\"},{\"attributes\":{\"margin\":[5,20,5,5],\"name\":\"X Columns\",\"text\":\"[\\\"asm_area_code_PUNES\\\", \\\"asm_area_code_PUNJ\\\", \\\"asm_area_code_COSM\\\", \\\"asm_area_code_BANG\\\", \\\"asm_area_code_VSJA\\\", \\\"asm_area_code_GUJAN\\\", \\\"asm_area_code_NER\\\", \\\"asm_area_code_BENGS\\\", \\\"asm_area_code_WESTU\\\", \\\"asm_area_code_HYDE1\\\", \\\"asm_area_code_PUNEN\\\", \\\"asm_area_code_KOQH\\\", \\\"asm_area_code_CHEN\\\", \\\"asm_area_code_BSHAW\\\", \\\"asm_area_code_DEQHM\\\", \\\"asm_area_code_BENGN\\\", \\\"asm_area_code_MUMB1\\\", \\\"asm_area_code_NAGP\\\", \\\"asm_area_code_HUBQ\\\", \\\"asm_area_code_EASTM\\\", \\\"asm_area_code_MUMB2\\\", \\\"asm_area_code_HYDE2\\\", \\\"asm_area_code_HARY&\\\", \\\"asm_area_code_EASTU\\\", \\\"asm_area_code_ORSS\\\", \\\"asm_area_code_KERA\\\", \\\"asm_area_code_CENTU\\\", \\\"asm_area_code_GUJAS\\\", \\\"asm_area_code_BSHAE\\\", \\\"asm_area_code_WESTM\\\", \\\"asm_area_code_JHAR\\\", \\\"asm_area_code_RAJA\\\", \\\"last_6_months_avg_roi_with_udaan_with_sub\\\", \\\"last_3_months_avg_roi_without_udaan_with_sub\\\", \\\"last_3_months_avg_non_wholesale_net_value\\\", \\\"allocated_percent_reason__stonotava\\\", \\\"overall_avg_non_wholesale_net_value\\\", \\\"overall_avg_pri_sales_amount_woebin_(2576046.598, 30703416.544]\\\", \\\"policy_count_pend\\\", \\\"last_6_months_avg_bandhan_net_val\\\", \\\"last_3_months_avg_invoice_count\\\", \\\"last_3_months_avg_roi_without_udaan_sub\\\", \\\"last_6_months_avg_roi_without_udaan_with_sub\\\", \\\"last_6_months_avg_ec\\\", \\\"last_3_months_avg_profit_with_udaan_with_sub\\\", \\\"last_6_months_avg_labor_in_person_days_x\\\", \\\"overall_avg_bandhan_net_val\\\", \\\"last_6_months_avg_unique_retailers\\\", \\\"overall_avg_roi_without_udaan_with_sub_woebin_(-18285.971, -0.0831]\\\", \\\"last_3_months_avg_sec_netvalue\\\", \\\"overall_avg_pri_sales_amount_woebin_(1163873.107, 2576046.598]\\\", \\\"overall_avg_profit_with_udaan_without_sub\\\", \\\"last_6_months_avg_roi_without_udaan_sub\\\", \\\"last_6_months_avg_roi_with_udaan_without_sub\\\", \\\"overall_avg_roi_without_udaan_with_sub_woebin_(0.0944, 229.84]\\\", \\\"overall_avg_roi_without_udaan_with_sub_woebin_(-0.0831, 0.0944]\\\", \\\"policy_count_withp\\\", \\\"allocated_percent_reason__othe\\\", \\\"last_3_months_avg_otherpgrm_net_val\\\", \\\"allocated_percent_reason__creiss\\\", \\\"last_6_months_avg_profit_with_udaan_without_sub\\\", \\\"overall_avg_ec\\\", \\\"overall_avg_pri_sales_amount_woebin_(30299.436, 1163873.107]\\\", \\\"allocated_percent_reason__moqnotmet\\\", \\\"last_6_months_avg_profit_with_udaan_with_sub\\\", \\\"last_6_months_avg_daily_coverage_perc\\\", \\\"overall_avg_roi_with_udaan_without_sub\\\", \\\"overall_avg_sec_ind_bpm_actuals\\\", \\\"last_3_months_avg_unique_retailers\\\", \\\"last_6_months_avg_sec_netvalue\\\", \\\"last_6_months_avg_wholesale_net_value\\\", \\\"last_6_months_avg_pri_sales_amount\\\", \\\"overall_avg_wholesale_net_value\\\", \\\"policy_count_beyop\\\", \\\"last_3_months_avg_ec\\\", \\\"allocated_percent_reason__notinv\\\", \\\"overall_avg_sec_netvalue\\\", \\\"overall_avg_otherpgrm_net_val\\\", \\\"overall_avg_profit_with_udaan_with_sub\\\", \\\"last_3_months_avg_roi_with_udaan_without_sub\\\", \\\"last_3_months_avg_labor_in_person_days_y\\\", \\\"last_3_months_avg_sec_ind_bpm_actuals\\\", \\\"last_3_months_avg_profit_without_udaan_with_sub\\\", \\\"overall_avg_simple avg allocated percent\\\", \\\"last_3_months_avg_wholesale_net_value\\\", \\\"overall_avg_roi_with_udaan_with_sub\\\", \\\"last_6_months_avg_non_wholesale_net_value\\\", \\\"last_3_months_avg_roi_with_udaan_with_sub\\\", \\\"overall_avg_profit_without_udaan_with_sub\\\", \\\"last_3_months_avg_bandhan_net_val\\\", \\\"last_3_months_avg_profit_with_udaan_without_sub\\\", \\\"last_6_months_avg_sec_ind_bpm_actuals\\\", \\\"overall_avg_roi_without_udaan_sub\\\", \\\"last_3_months_avg_pri_sales_amount\\\", \\\"last_6_months_avg_profit_without_udaan_with_sub\\\", \\\"last_6_months_avg_labor_in_person_days_y\\\", \\\"last_6_months_avg_otherpgrm_net_val\\\", \\\"last_6_months_avg_invoice_count\\\", \\\"last_3_months_avg_labor_in_person_days_x\\\", \\\"days_in_business\\\"]\"},\"id\":\"1067\",\"type\":\"panel.models.markup.JSON\"},{\"attributes\":{\"client_comm_id\":\"b2357979c9114ef89e8e22deecec48e3\",\"comm_id\":\"83e2a9810079415d825c16ee23166c04\",\"plot_id\":\"1066\"},\"id\":\"1071\",\"type\":\"panel.models.comm_manager.CommManager\"},{\"attributes\":{\"child\":{\"id\":\"1067\"},\"name\":\"X Columns\",\"title\":\"X Columns\"},\"id\":\"1068\",\"type\":\"Panel\"}],\"root_ids\":[\"1066\",\"1071\"]},\"title\":\"Bokeh Application\",\"version\":\"2.2.3\"}};\n",
       "  var render_items = [{\"docid\":\"f8c70c80-88e7-44f5-a4d5-faaee7218a97\",\"root_ids\":[\"1066\"],\"roots\":{\"1066\":\"f9ef4bde-e9f4-48fd-b93f-ecaae496533d\"}}];\n",
       "  root.Bokeh.embed.embed_items_notebook(docs_json, render_items);\n",
       "  }\n",
       "if (root.Bokeh !== undefined) {\n",
       "    embed_document(root);\n",
       "  } else {\n",
       "    var attempts = 0;\n",
       "    var timer = setInterval(function(root) {\n",
       "      if (root.Bokeh !== undefined) {\n",
       "        clearInterval(timer);\n",
       "        embed_document(root);\n",
       "      } else if (document.readyState == \"complete\") {\n",
       "        attempts++;\n",
       "        if (attempts > 100) {\n",
       "          clearInterval(timer);\n",
       "          console.log(\"Bokeh: ERROR: Unable to run BokehJS code because BokehJS library is missing\");\n",
       "        }\n",
       "      }\n",
       "    }, 10, root)\n",
       "  }\n",
       "})(window);</script>"
      ],
      "text/plain": [
       "Tabs\n",
       "    [0] JSON(list, name='X Columns')\n",
       "    [1] JSON(list, name='y Columns')"
      ]
     },
     "execution_count": 21,
     "metadata": {
      "application/vnd.holoviews_exec.v0+json": {
       "id": "1066"
      }
     },
     "output_type": "execute_result"
    }
   ],
   "source": [
    "# display_as_tabs([('X Columns', list(train_X.columns)), ('y Columns', list(train_y.columns))])"
   ]
  },
  {
   "cell_type": "markdown",
   "metadata": {},
   "source": [
    "### 3.2.1 Univariate\n",
    "\n",
    "\n",
    "- Look at each variable independently. This is useful if your models have assumptions on the distribution and/or bounds on the features/target"
   ]
  },
  {
   "cell_type": "code",
   "execution_count": 63,
   "metadata": {},
   "outputs": [],
   "source": [
    "# univariate_plot = ta_analysis.get_density_plots(train_X, cols=['target'])\n",
    "# # save the plots are html\n",
    "# create_report({'univariate': univariate_plot}, name='feature_analysis_univariate')"
   ]
  },
  {
   "cell_type": "markdown",
   "metadata": {},
   "source": [
    "A report containing the above plot is available [here](https://drive.google.com/file/d/1s-UQkekh0Z8nViW9gK8kOSFu9wEaFDcb/view?usp=sharing)\n"
   ]
  },
  {
   "cell_type": "markdown",
   "metadata": {},
   "source": [
    "Alternatively, the above plots can be generated as a single html as below. The output from this is available [here](https://drive.google.com/file/d/1l2DZQA7SmB9-S5YBmuStYFxp3sY5Eb3X/view?usp=sharing)"
   ]
  },
  {
   "cell_type": "code",
   "execution_count": 15,
   "metadata": {},
   "outputs": [],
   "source": [
    "# health.feature_analysis(train_X.copy(),'./feature_analysis_report.html')"
   ]
  },
  {
   "cell_type": "markdown",
   "metadata": {},
   "source": [
    "### 3.2.2 Bivariate - mutual interactions"
   ]
  },
  {
   "cell_type": "markdown",
   "metadata": {},
   "source": [
    "#### 3.2.2.1 Correlation based Elimination of Features"
   ]
  },
  {
   "cell_type": "markdown",
   "metadata": {},
   "source": [
    "- Find columns with high correlations and drop them"
   ]
  },
  {
   "cell_type": "markdown",
   "metadata": {},
   "source": [
    "Identifytion of Binary columns to ignore from the data for correlation plots"
   ]
  },
  {
   "cell_type": "code",
   "execution_count": 118,
   "metadata": {},
   "outputs": [],
   "source": [
    "binary_num_columns = [x for x in train_X.columns if train_X[x].dropna().nunique()<=2]"
   ]
  },
  {
   "cell_type": "code",
   "execution_count": 119,
   "metadata": {},
   "outputs": [
    {
     "data": {},
     "metadata": {},
     "output_type": "display_data"
    },
    {
     "data": {
      "application/vnd.holoviews_exec.v0+json": "",
      "text/html": [
       "<div id='29983'>\n",
       "\n",
       "\n",
       "\n",
       "\n",
       "\n",
       "  <div class=\"bk-root\" id=\"89ec5424-5d86-40ab-bf3e-03d1df0fd31e\" data-root-id=\"29983\"></div>\n",
       "</div>\n",
       "<script type=\"application/javascript\">(function(root) {\n",
       "  function embed_document(root) {\n",
       "  var docs_json = {\"d1344c4b-497b-4ccd-b970-6cf734e2a329\":{\"roots\":{\"references\":[{\"attributes\":{\"columns\":[{\"id\":\"29987\"},{\"id\":\"29992\"},{\"id\":\"29997\"},{\"id\":\"30002\"},{\"id\":\"30007\"}],\"editable\":true,\"fit_columns\":true,\"height\":155,\"index_position\":null,\"margin\":[5,10,5,10],\"name\":\"combinations with > 0.6 correlation\",\"source\":{\"id\":\"29984\"},\"view\":{\"id\":\"30011\"}},\"id\":\"30010\",\"type\":\"DataTable\"},{\"attributes\":{\"editor\":{\"id\":\"30006\"},\"field\":\"Abs Corr Coef\",\"formatter\":{\"id\":\"30005\"},\"title\":\"Abs Corr Coef\",\"width\":null},\"id\":\"30007\",\"type\":\"TableColumn\"},{\"attributes\":{\"client_comm_id\":\"ecf2913b6c8a4ef488746cfc51281d6b\",\"comm_id\":\"a6cb006267fa4e18b8573df5d61dd1f6\",\"plot_id\":\"29983\"},\"id\":\"30024\",\"type\":\"panel.models.comm_manager.CommManager\"},{\"attributes\":{\"editor\":{\"id\":\"30001\"},\"field\":\"Corr Coef\",\"formatter\":{\"id\":\"30000\"},\"title\":\"Corr Coef\",\"width\":null},\"id\":\"30002\",\"type\":\"TableColumn\"},{\"attributes\":{\"data\":{\"Abs Corr Coef\":{\"__ndarray__\":\"9P1ANVE67z9ACCg+FrXoPzAPJdlOleg/C/AJQHHc5z8FXmKDyLnnPw==\",\"dtype\":\"float64\",\"order\":\"little\",\"shape\":[5]},\"Corr Coef\":{\"__ndarray__\":\"9P1ANVE67z9ACCg+FrXoPzAPJdlOleg/C/AJQHHc5z8FXmKDyLnnPw==\",\"dtype\":\"float64\",\"order\":\"little\",\"shape\":[5]},\"Variable 1\":[\"opportunity_status\",\"opportunity_status\",\"stage_level\",\"transition_from_stage_name\",\"core_product_application\"],\"Variable 2\":[\"transition_to_stage\",\"stage_level\",\"transition_to_stage\",\"transition_to_stage\",\"core_product_segment\"],\"index\":[0,1,2,3,4]},\"selected\":{\"id\":\"30012\"},\"selection_policy\":{\"id\":\"30018\"}},\"id\":\"29984\",\"type\":\"ColumnDataSource\"},{\"attributes\":{\"margin\":[5,5,5,5],\"name\":\"percentage of combinations\",\"text\":\"&lt;pre&gt;6.666666666666667&lt;/pre&gt;\"},\"id\":\"30016\",\"type\":\"panel.models.markup.HTML\"},{\"attributes\":{\"source\":{\"id\":\"29984\"}},\"id\":\"30011\",\"type\":\"CDSView\"},{\"attributes\":{\"child\":{\"id\":\"30016\"},\"name\":\"percentage of combinations\",\"title\":\"percentage of combinations\"},\"id\":\"30017\",\"type\":\"Panel\"},{\"attributes\":{\"child\":{\"id\":\"30014\"},\"name\":\"number of combinations\",\"title\":\"number of combinations\"},\"id\":\"30015\",\"type\":\"Panel\"},{\"attributes\":{},\"id\":\"29995\",\"type\":\"StringFormatter\"},{\"attributes\":{\"margin\":[0,0,0,0],\"tabs\":[{\"id\":\"30013\"},{\"id\":\"30015\"},{\"id\":\"30017\"}]},\"id\":\"29983\",\"type\":\"Tabs\"},{\"attributes\":{},\"id\":\"29991\",\"type\":\"StringEditor\"},{\"attributes\":{\"editor\":{\"id\":\"29986\"},\"field\":\"index\",\"formatter\":{\"id\":\"29985\"},\"title\":\"index\",\"width\":null},\"id\":\"29987\",\"type\":\"TableColumn\"},{\"attributes\":{\"format\":\"0,0.0[00000]\"},\"id\":\"30000\",\"type\":\"NumberFormatter\"},{\"attributes\":{},\"id\":\"29990\",\"type\":\"StringFormatter\"},{\"attributes\":{},\"id\":\"30018\",\"type\":\"UnionRenderers\"},{\"attributes\":{\"editor\":{\"id\":\"29991\"},\"field\":\"Variable 1\",\"formatter\":{\"id\":\"29990\"},\"title\":\"Variable 1\",\"width\":null},\"id\":\"29992\",\"type\":\"TableColumn\"},{\"attributes\":{\"editor\":{\"id\":\"29996\"},\"field\":\"Variable 2\",\"formatter\":{\"id\":\"29995\"},\"title\":\"Variable 2\",\"width\":null},\"id\":\"29997\",\"type\":\"TableColumn\"},{\"attributes\":{\"format\":\"0,0.0[00000]\"},\"id\":\"30005\",\"type\":\"NumberFormatter\"},{\"attributes\":{},\"id\":\"29986\",\"type\":\"IntEditor\"},{\"attributes\":{},\"id\":\"30012\",\"type\":\"Selection\"},{\"attributes\":{\"child\":{\"id\":\"30010\"},\"name\":\"combinations with > 0.6 correlation\",\"title\":\"combinations with > 0.6 correlation\"},\"id\":\"30013\",\"type\":\"Panel\"},{\"attributes\":{},\"id\":\"29985\",\"type\":\"NumberFormatter\"},{\"attributes\":{},\"id\":\"29996\",\"type\":\"StringEditor\"},{\"attributes\":{\"margin\":[5,5,5,5],\"name\":\"number of combinations\",\"text\":\"&lt;pre&gt;7&lt;/pre&gt;\"},\"id\":\"30014\",\"type\":\"panel.models.markup.HTML\"},{\"attributes\":{},\"id\":\"30001\",\"type\":\"NumberEditor\"},{\"attributes\":{},\"id\":\"30006\",\"type\":\"NumberEditor\"}],\"root_ids\":[\"29983\",\"30024\"]},\"title\":\"Bokeh Application\",\"version\":\"2.2.3\"}};\n",
       "  var render_items = [{\"docid\":\"d1344c4b-497b-4ccd-b970-6cf734e2a329\",\"root_ids\":[\"29983\"],\"roots\":{\"29983\":\"89ec5424-5d86-40ab-bf3e-03d1df0fd31e\"}}];\n",
       "  root.Bokeh.embed.embed_items_notebook(docs_json, render_items);\n",
       "  }\n",
       "if (root.Bokeh !== undefined) {\n",
       "    embed_document(root);\n",
       "  } else {\n",
       "    var attempts = 0;\n",
       "    var timer = setInterval(function(root) {\n",
       "      if (root.Bokeh !== undefined) {\n",
       "        clearInterval(timer);\n",
       "        embed_document(root);\n",
       "      } else if (document.readyState == \"complete\") {\n",
       "        attempts++;\n",
       "        if (attempts > 100) {\n",
       "          clearInterval(timer);\n",
       "          console.log(\"Bokeh: ERROR: Unable to run BokehJS code because BokehJS library is missing\");\n",
       "        }\n",
       "      }\n",
       "    }, 10, root)\n",
       "  }\n",
       "})(window);</script>"
      ],
      "text/plain": [
       "Tabs\n",
       "    [0] DataFrame(name='combinations w..., value=              ...)\n",
       "    [1] Str(int, name='number of combinations')\n",
       "    [2] Str(float, name='percentage of c...)"
      ]
     },
     "execution_count": 119,
     "metadata": {
      "application/vnd.holoviews_exec.v0+json": {
       "id": "29983"
      }
     },
     "output_type": "execute_result"
    }
   ],
   "source": [
    "corr_table = ta_analysis.get_correlation_table(train_X[list(set(train_X.columns).difference(set(binary_num_columns)))])\n",
    "corr_table_drop = corr_table[corr_table[\"Abs Corr Coef\"] > 0.6]\n",
    "display_as_tabs([('combinations with > 0.6 correlation', corr_table_drop.head()),('number of combinations', len(corr_table_drop)), ('percentage of combinations', len(corr_table_drop)*100/len(corr_table))])"
   ]
  },
  {
   "cell_type": "markdown",
   "metadata": {},
   "source": [
    "There seem to be significant amount of combinations which are correlated.\n",
    "So dropping columns that are highly correlated with eachother sequentially."
   ]
  },
  {
   "cell_type": "code",
   "execution_count": 120,
   "metadata": {},
   "outputs": [
    {
     "data": {},
     "metadata": {},
     "output_type": "display_data"
    },
    {
     "data": {
      "application/vnd.holoviews_exec.v0+json": "",
      "text/html": [
       "<div id='30035'>\n",
       "\n",
       "\n",
       "\n",
       "\n",
       "\n",
       "  <div class=\"bk-root\" id=\"a55148d7-b34d-4911-8bc8-2bd967ab00e0\" data-root-id=\"30035\"></div>\n",
       "</div>\n",
       "<script type=\"application/javascript\">(function(root) {\n",
       "  function embed_document(root) {\n",
       "  var docs_json = {\"17eee483-6e81-4295-aaf7-bf79b0c2bacc\":{\"roots\":{\"references\":[{\"attributes\":{\"columns\":[{\"id\":\"30039\"},{\"id\":\"30044\"},{\"id\":\"30049\"},{\"id\":\"30054\"},{\"id\":\"30059\"}],\"editable\":true,\"fit_columns\":true,\"height\":30,\"index_position\":null,\"margin\":[5,10,5,10],\"name\":\"combinations with > 0.6 correlation\",\"source\":{\"id\":\"30036\"},\"view\":{\"id\":\"30063\"}},\"id\":\"30062\",\"type\":\"DataTable\"},{\"attributes\":{\"editor\":{\"id\":\"30058\"},\"field\":\"Abs Corr Coef\",\"formatter\":{\"id\":\"30057\"},\"title\":\"Abs Corr Coef\",\"width\":null},\"id\":\"30059\",\"type\":\"TableColumn\"},{\"attributes\":{\"margin\":[5,5,5,5],\"name\":\"number of combinations\",\"text\":\"&lt;pre&gt;0&lt;/pre&gt;\"},\"id\":\"30066\",\"type\":\"panel.models.markup.HTML\"},{\"attributes\":{},\"id\":\"30038\",\"type\":\"IntEditor\"},{\"attributes\":{\"child\":{\"id\":\"30062\"},\"name\":\"combinations with > 0.6 correlation\",\"title\":\"combinations with > 0.6 correlation\"},\"id\":\"30065\",\"type\":\"Panel\"},{\"attributes\":{\"editor\":{\"id\":\"30043\"},\"field\":\"Variable 1\",\"formatter\":{\"id\":\"30042\"},\"title\":\"Variable 1\",\"width\":null},\"id\":\"30044\",\"type\":\"TableColumn\"},{\"attributes\":{},\"id\":\"30064\",\"type\":\"Selection\"},{\"attributes\":{\"child\":{\"id\":\"30066\"},\"name\":\"number of combinations\",\"title\":\"number of combinations\"},\"id\":\"30067\",\"type\":\"Panel\"},{\"attributes\":{},\"id\":\"30043\",\"type\":\"StringEditor\"},{\"attributes\":{\"margin\":[5,5,5,5],\"name\":\"percentage of combinations\",\"text\":\"&lt;pre&gt;0.0&lt;/pre&gt;\"},\"id\":\"30068\",\"type\":\"panel.models.markup.HTML\"},{\"attributes\":{},\"id\":\"30048\",\"type\":\"StringEditor\"},{\"attributes\":{},\"id\":\"30053\",\"type\":\"NumberEditor\"},{\"attributes\":{},\"id\":\"30042\",\"type\":\"StringFormatter\"},{\"attributes\":{\"client_comm_id\":\"e792814e144d4aafb20106a5e67f6554\",\"comm_id\":\"dc0279b074624401b8b88c3eaa962be3\",\"plot_id\":\"30035\"},\"id\":\"30076\",\"type\":\"panel.models.comm_manager.CommManager\"},{\"attributes\":{\"editor\":{\"id\":\"30048\"},\"field\":\"Variable 2\",\"formatter\":{\"id\":\"30047\"},\"title\":\"Variable 2\",\"width\":null},\"id\":\"30049\",\"type\":\"TableColumn\"},{\"attributes\":{\"data\":{\"Abs Corr Coef\":{\"__ndarray__\":\"\",\"dtype\":\"float64\",\"order\":\"little\",\"shape\":[0]},\"Corr Coef\":{\"__ndarray__\":\"\",\"dtype\":\"float64\",\"order\":\"little\",\"shape\":[0]},\"Variable 1\":[],\"Variable 2\":[],\"index\":[]},\"selected\":{\"id\":\"30064\"},\"selection_policy\":{\"id\":\"30070\"}},\"id\":\"30036\",\"type\":\"ColumnDataSource\"},{\"attributes\":{},\"id\":\"30047\",\"type\":\"StringFormatter\"},{\"attributes\":{},\"id\":\"30058\",\"type\":\"NumberEditor\"},{\"attributes\":{\"source\":{\"id\":\"30036\"}},\"id\":\"30063\",\"type\":\"CDSView\"},{\"attributes\":{},\"id\":\"30070\",\"type\":\"UnionRenderers\"},{\"attributes\":{\"format\":\"0,0.0[00000]\"},\"id\":\"30057\",\"type\":\"NumberFormatter\"},{\"attributes\":{\"margin\":[0,0,0,0],\"tabs\":[{\"id\":\"30065\"},{\"id\":\"30067\"},{\"id\":\"30069\"}]},\"id\":\"30035\",\"type\":\"Tabs\"},{\"attributes\":{\"format\":\"0,0.0[00000]\"},\"id\":\"30052\",\"type\":\"NumberFormatter\"},{\"attributes\":{\"editor\":{\"id\":\"30038\"},\"field\":\"index\",\"formatter\":{\"id\":\"30037\"},\"title\":\"index\",\"width\":null},\"id\":\"30039\",\"type\":\"TableColumn\"},{\"attributes\":{},\"id\":\"30037\",\"type\":\"NumberFormatter\"},{\"attributes\":{\"editor\":{\"id\":\"30053\"},\"field\":\"Corr Coef\",\"formatter\":{\"id\":\"30052\"},\"title\":\"Corr Coef\",\"width\":null},\"id\":\"30054\",\"type\":\"TableColumn\"},{\"attributes\":{\"child\":{\"id\":\"30068\"},\"name\":\"percentage of combinations\",\"title\":\"percentage of combinations\"},\"id\":\"30069\",\"type\":\"Panel\"}],\"root_ids\":[\"30035\",\"30076\"]},\"title\":\"Bokeh Application\",\"version\":\"2.2.3\"}};\n",
       "  var render_items = [{\"docid\":\"17eee483-6e81-4295-aaf7-bf79b0c2bacc\",\"root_ids\":[\"30035\"],\"roots\":{\"30035\":\"a55148d7-b34d-4911-8bc8-2bd967ab00e0\"}}];\n",
       "  root.Bokeh.embed.embed_items_notebook(docs_json, render_items);\n",
       "  }\n",
       "if (root.Bokeh !== undefined) {\n",
       "    embed_document(root);\n",
       "  } else {\n",
       "    var attempts = 0;\n",
       "    var timer = setInterval(function(root) {\n",
       "      if (root.Bokeh !== undefined) {\n",
       "        clearInterval(timer);\n",
       "        embed_document(root);\n",
       "      } else if (document.readyState == \"complete\") {\n",
       "        attempts++;\n",
       "        if (attempts > 100) {\n",
       "          clearInterval(timer);\n",
       "          console.log(\"Bokeh: ERROR: Unable to run BokehJS code because BokehJS library is missing\");\n",
       "        }\n",
       "      }\n",
       "    }, 10, root)\n",
       "  }\n",
       "})(window);</script>"
      ],
      "text/plain": [
       "Tabs\n",
       "    [0] DataFrame(name='combinations w..., value=Empty DataFrame\n",
       "Columns: [...)\n",
       "    [1] Str(int, name='number of combinations')\n",
       "    [2] Str(float, name='percentage of c...)"
      ]
     },
     "execution_count": 120,
     "metadata": {
      "application/vnd.holoviews_exec.v0+json": {
       "id": "30035"
      }
     },
     "output_type": "execute_result"
    }
   ],
   "source": [
    "def columns_to_drop(corr_table, features_to_be_dropped=[], corr_threshold=0.6):\n",
    "    \"\"\"List the features to be dropped based on correlation coefficient threshold\n",
    "    \"\"\"\n",
    "    corr_table = corr_table.sort_values('Variable 1')\n",
    "    for index, row in corr_table.iterrows():\n",
    "        if row['Abs Corr Coef'] > corr_threshold:\n",
    "            if row['Variable 1'] not in features_to_be_dropped:\n",
    "                features_to_be_dropped.append(row['Variable 2'])\n",
    "    return(features_to_be_dropped)\n",
    "\n",
    "\n",
    "columns_to_be_dropped = ['oppo_pro_tr_time_geo_id']\n",
    "columns_to_be_dropped = columns_to_drop(corr_table, features_to_be_dropped=columns_to_be_dropped, corr_threshold=0.6)\n",
    "corr_table_new = ta_analysis.get_correlation_table(train_X[list(set(train_X.columns).difference(set(binary_num_columns).union(columns_to_be_dropped)))])\n",
    "corr_table_new_check = corr_table_new[corr_table_new[\"Abs Corr Coef\"] > 0.6]\n",
    "display_as_tabs([('combinations with > 0.6 correlation', corr_table_new_check.head()),('number of combinations', len(corr_table_new_check)), ('percentage of combinations', len(corr_table_new_check)*100/len(corr_table_new))])"
   ]
  },
  {
   "cell_type": "markdown",
   "metadata": {},
   "source": [
    "Finalising the curated columns that can be used in the modelling"
   ]
  },
  {
   "cell_type": "code",
   "execution_count": 121,
   "metadata": {},
   "outputs": [],
   "source": [
    "curated_columns = list(set(train_X.columns) - set(columns_to_be_dropped))"
   ]
  },
  {
   "cell_type": "markdown",
   "metadata": {},
   "source": [
    "#### 3.2.2.2 Bivariate Plots\n",
    "Individual plots for specific combinations fo variables can be obtained as follows"
   ]
  },
  {
   "cell_type": "code",
   "execution_count": 22,
   "metadata": {},
   "outputs": [
    {
     "name": "stderr",
     "output_type": "stream",
     "text": [
      "Error: ('Variables not found in dataset: ', {'last_3_months_avg_bandhan_net_val'})"
     ]
    },
    {
     "ename": "UnboundLocalError",
     "evalue": "local variable 'out' referenced before assignment",
     "output_type": "error",
     "traceback": [
      "\u001b[1;31m---------------------------------------------------------------------------\u001b[0m",
      "\u001b[1;31mUnboundLocalError\u001b[0m                         Traceback (most recent call last)",
      "\u001b[1;32m<ipython-input-22-16c23bd434e4>\u001b[0m in \u001b[0;36m<module>\u001b[1;34m\u001b[0m\n\u001b[1;32m----> 1\u001b[1;33m \u001b[0mbivariate_plot\u001b[0m \u001b[1;33m=\u001b[0m \u001b[0mta_analysis\u001b[0m\u001b[1;33m.\u001b[0m\u001b[0mget_bivariate_plots\u001b[0m\u001b[1;33m(\u001b[0m\u001b[0mtrain_X\u001b[0m\u001b[1;33m.\u001b[0m\u001b[0mmerge\u001b[0m\u001b[1;33m(\u001b[0m\u001b[0mtrain_y\u001b[0m\u001b[1;33m,\u001b[0m \u001b[0mleft_index\u001b[0m\u001b[1;33m=\u001b[0m\u001b[1;32mTrue\u001b[0m\u001b[1;33m,\u001b[0m \u001b[0mright_index\u001b[0m\u001b[1;33m=\u001b[0m\u001b[1;32mTrue\u001b[0m\u001b[1;33m)\u001b[0m\u001b[1;33m,\u001b[0m \u001b[0mx_cols\u001b[0m\u001b[1;33m=\u001b[0m\u001b[1;33m[\u001b[0m\u001b[1;34m'last_3_months_avg_bandhan_net_val'\u001b[0m\u001b[1;33m]\u001b[0m\u001b[1;33m,\u001b[0m \u001b[0my_cols\u001b[0m\u001b[1;33m=\u001b[0m\u001b[1;33m[\u001b[0m\u001b[1;34m'days_in_business'\u001b[0m\u001b[1;33m]\u001b[0m\u001b[1;33m)\u001b[0m\u001b[1;33m\u001b[0m\u001b[1;33m\u001b[0m\u001b[0m\n\u001b[0m\u001b[0;32m      2\u001b[0m \u001b[0mdisplay_as_tabs\u001b[0m\u001b[1;33m(\u001b[0m\u001b[1;33m[\u001b[0m\u001b[1;33m(\u001b[0m\u001b[1;34m'bivariate interaction scatter plot'\u001b[0m\u001b[1;33m,\u001b[0m\u001b[0mbivariate_plot\u001b[0m\u001b[1;33m)\u001b[0m\u001b[1;33m]\u001b[0m\u001b[1;33m)\u001b[0m\u001b[1;33m\u001b[0m\u001b[1;33m\u001b[0m\u001b[0m\n",
      "\u001b[1;32md:\\code_templates\\classification-py\\src\\ta_lib\\eda\\analysis.py\u001b[0m in \u001b[0;36mget_bivariate_plots\u001b[1;34m(df, x_cols, y_cols)\u001b[0m\n\u001b[0;32m    375\u001b[0m         \u001b[0man\u001b[0m \u001b[1;33m=\u001b[0m \u001b[0m_get_analyser\u001b[0m\u001b[1;33m(\u001b[0m\u001b[0mdf\u001b[0m\u001b[1;33m)\u001b[0m\u001b[1;33m\u001b[0m\u001b[1;33m\u001b[0m\u001b[0m\n\u001b[0;32m    376\u001b[0m         \u001b[0mout\u001b[0m \u001b[1;33m=\u001b[0m \u001b[0mdetigerify\u001b[0m\u001b[1;33m(\u001b[0m\u001b[0man\u001b[0m\u001b[1;33m.\u001b[0m\u001b[0mbivariate_plots\u001b[0m\u001b[1;33m(\u001b[0m\u001b[0mx_vars\u001b[0m\u001b[1;33m=\u001b[0m\u001b[0mx_cols\u001b[0m\u001b[1;33m,\u001b[0m \u001b[0my_vars\u001b[0m\u001b[1;33m=\u001b[0m\u001b[0my_cols\u001b[0m\u001b[1;33m)\u001b[0m\u001b[1;33m)\u001b[0m\u001b[1;33m\u001b[0m\u001b[1;33m\u001b[0m\u001b[0m\n\u001b[1;32m--> 377\u001b[1;33m     \u001b[1;32mreturn\u001b[0m \u001b[0mout\u001b[0m\u001b[1;33m\u001b[0m\u001b[1;33m\u001b[0m\u001b[0m\n\u001b[0m\u001b[0;32m    378\u001b[0m \u001b[1;33m\u001b[0m\u001b[0m\n\u001b[0;32m    379\u001b[0m \u001b[1;33m\u001b[0m\u001b[0m\n",
      "\u001b[1;31mUnboundLocalError\u001b[0m: local variable 'out' referenced before assignment"
     ]
    }
   ],
   "source": [
    "# bivariate_plot = ta_analysis.get_bivariate_plots(train_X.merge(train_y, left_index=True, right_index=True), x_cols=['last_3_months_avg_bandhan_net_val'], y_cols=['days_in_business'])\n",
    "# display_as_tabs([('bivariate interaction scatter plot',bivariate_plot)])"
   ]
  },
  {
   "cell_type": "markdown",
   "metadata": {},
   "source": [
    "For all combinations a bivariate plot report can be generated in the following way"
   ]
  },
  {
   "cell_type": "code",
   "execution_count": 25,
   "metadata": {},
   "outputs": [],
   "source": [
    "# %%time\n",
    "# # create reports as needed for all the column combinations other than binary columns\n",
    "# all_plots = dict()\n",
    "# select_cols_for_bivariate_plots = list(set(curated_columns).difference(binary_num_columns))\n",
    "# for ii, col1 in enumerate(select_cols_for_bivariate_plots): \n",
    "#     for jj in range(ii+1, len(select_cols_for_bivariate_plots)):\n",
    "#         col2 = select_cols_for_bivariate_plots[jj]\n",
    "#         out = ta_analysis.get_bivariate_plots(train_X, x_cols=[col1], y_cols=[col2])\n",
    "#         all_plots.update({f'{col2} vs {col1}': out})\n",
    "\n",
    "# create_report(all_plots, name='feature_analysis_bivariate')"
   ]
  },
  {
   "cell_type": "markdown",
   "metadata": {},
   "source": [
    "A report containing the bivariate plot is available [here](https://drive.google.com/file/d/1FibTjOQToodo--ccscv9CLv2BeYb1P3M/view?usp=sharing)\n",
    "\n",
    "Alternatively, the above plots can be generated as a single html as below. The output from this is available [here](https://drive.google.com/file/d/19j7PJo2hJ7mCe_SryktbvEYh4VCKvf2c/view?usp=sharing)"
   ]
  },
  {
   "cell_type": "code",
   "execution_count": 26,
   "metadata": {},
   "outputs": [],
   "source": [
    "# health.feature_interactions(train_X[curated_columns],'./feature_interaction_report.html')"
   ]
  },
  {
   "cell_type": "markdown",
   "metadata": {},
   "source": [
    "### 3.2.3 Key Drivers - Interaction with Target variable"
   ]
  },
  {
   "cell_type": "markdown",
   "metadata": {},
   "source": [
    "Correlation with the target variable"
   ]
  },
  {
   "cell_type": "code",
   "execution_count": 122,
   "metadata": {},
   "outputs": [
    {
     "data": {
      "text/plain": [
       "(['opportunity_type', 'early_stages', 'did_convert'],\n",
       " ['geography',\n",
       "  'did_convert',\n",
       "  'index',\n",
       "  'decision_time_days',\n",
       "  'opportunity_type',\n",
       "  'core_sales_segment',\n",
       "  'product_id',\n",
       "  'opportunity_status',\n",
       "  'product_$',\n",
       "  'early_stages',\n",
       "  'core_consumption_market',\n",
       "  'core_product_application',\n",
       "  'transition_time_days'])"
      ]
     },
     "execution_count": 122,
     "metadata": {},
     "output_type": "execute_result"
    }
   ],
   "source": [
    "binary_num_columns, curated_columns"
   ]
  },
  {
   "cell_type": "code",
   "execution_count": 123,
   "metadata": {},
   "outputs": [
    {
     "data": {
      "text/html": [
       "<div>\n",
       "<style scoped>\n",
       "    .dataframe tbody tr th:only-of-type {\n",
       "        vertical-align: middle;\n",
       "    }\n",
       "\n",
       "    .dataframe tbody tr th {\n",
       "        vertical-align: top;\n",
       "    }\n",
       "\n",
       "    .dataframe thead th {\n",
       "        text-align: right;\n",
       "    }\n",
       "</style>\n",
       "<table border=\"1\" class=\"dataframe\">\n",
       "  <thead>\n",
       "    <tr style=\"text-align: right;\">\n",
       "      <th></th>\n",
       "      <th>geography</th>\n",
       "      <th>index</th>\n",
       "      <th>decision_time_days</th>\n",
       "      <th>core_sales_segment</th>\n",
       "      <th>product_id</th>\n",
       "      <th>opportunity_status</th>\n",
       "      <th>product_$</th>\n",
       "      <th>core_consumption_market</th>\n",
       "      <th>core_product_application</th>\n",
       "      <th>transition_time_days</th>\n",
       "    </tr>\n",
       "  </thead>\n",
       "  <tbody>\n",
       "    <tr>\n",
       "      <th>0</th>\n",
       "      <td>0.464878</td>\n",
       "      <td>1809.00</td>\n",
       "      <td>24.0</td>\n",
       "      <td>0.499836</td>\n",
       "      <td>0.666667</td>\n",
       "      <td>0.966951</td>\n",
       "      <td>707400.0</td>\n",
       "      <td>0.367637</td>\n",
       "      <td>0.497863</td>\n",
       "      <td>6.03</td>\n",
       "    </tr>\n",
       "    <tr>\n",
       "      <th>1</th>\n",
       "      <td>0.464878</td>\n",
       "      <td>76414.00</td>\n",
       "      <td>52.0</td>\n",
       "      <td>0.351630</td>\n",
       "      <td>0.750000</td>\n",
       "      <td>0.166704</td>\n",
       "      <td>553500.0</td>\n",
       "      <td>0.450390</td>\n",
       "      <td>0.494337</td>\n",
       "      <td>5.00</td>\n",
       "    </tr>\n",
       "    <tr>\n",
       "      <th>2</th>\n",
       "      <td>0.550499</td>\n",
       "      <td>15749.00</td>\n",
       "      <td>15.0</td>\n",
       "      <td>0.499836</td>\n",
       "      <td>0.500000</td>\n",
       "      <td>0.966951</td>\n",
       "      <td>1742.0</td>\n",
       "      <td>0.545786</td>\n",
       "      <td>0.497863</td>\n",
       "      <td>0.33</td>\n",
       "    </tr>\n",
       "    <tr>\n",
       "      <th>3</th>\n",
       "      <td>0.550499</td>\n",
       "      <td>87640.00</td>\n",
       "      <td>70.0</td>\n",
       "      <td>0.499836</td>\n",
       "      <td>0.666667</td>\n",
       "      <td>0.966951</td>\n",
       "      <td>23506.0</td>\n",
       "      <td>0.464238</td>\n",
       "      <td>0.419265</td>\n",
       "      <td>3.67</td>\n",
       "    </tr>\n",
       "    <tr>\n",
       "      <th>4</th>\n",
       "      <td>0.230423</td>\n",
       "      <td>913.48</td>\n",
       "      <td>15.0</td>\n",
       "      <td>0.499836</td>\n",
       "      <td>0.600000</td>\n",
       "      <td>0.166704</td>\n",
       "      <td>477700.0</td>\n",
       "      <td>0.374421</td>\n",
       "      <td>0.497863</td>\n",
       "      <td>8.33</td>\n",
       "    </tr>\n",
       "    <tr>\n",
       "      <th>...</th>\n",
       "      <td>...</td>\n",
       "      <td>...</td>\n",
       "      <td>...</td>\n",
       "      <td>...</td>\n",
       "      <td>...</td>\n",
       "      <td>...</td>\n",
       "      <td>...</td>\n",
       "      <td>...</td>\n",
       "      <td>...</td>\n",
       "      <td>...</td>\n",
       "    </tr>\n",
       "    <tr>\n",
       "      <th>12744</th>\n",
       "      <td>0.550499</td>\n",
       "      <td>88870.00</td>\n",
       "      <td>69.0</td>\n",
       "      <td>0.499836</td>\n",
       "      <td>0.500000</td>\n",
       "      <td>0.966951</td>\n",
       "      <td>425.0</td>\n",
       "      <td>0.545786</td>\n",
       "      <td>0.558594</td>\n",
       "      <td>5.00</td>\n",
       "    </tr>\n",
       "    <tr>\n",
       "      <th>12745</th>\n",
       "      <td>0.525655</td>\n",
       "      <td>22608.00</td>\n",
       "      <td>32.0</td>\n",
       "      <td>0.499836</td>\n",
       "      <td>0.600000</td>\n",
       "      <td>0.166704</td>\n",
       "      <td>722688.0</td>\n",
       "      <td>0.440150</td>\n",
       "      <td>0.494337</td>\n",
       "      <td>0.00</td>\n",
       "    </tr>\n",
       "    <tr>\n",
       "      <th>12746</th>\n",
       "      <td>0.550499</td>\n",
       "      <td>69033.00</td>\n",
       "      <td>112.0</td>\n",
       "      <td>0.499836</td>\n",
       "      <td>0.500000</td>\n",
       "      <td>0.166704</td>\n",
       "      <td>14040.0</td>\n",
       "      <td>0.455556</td>\n",
       "      <td>0.558594</td>\n",
       "      <td>5.00</td>\n",
       "    </tr>\n",
       "    <tr>\n",
       "      <th>12747</th>\n",
       "      <td>0.464878</td>\n",
       "      <td>75757.00</td>\n",
       "      <td>31.0</td>\n",
       "      <td>0.499836</td>\n",
       "      <td>0.500000</td>\n",
       "      <td>0.166704</td>\n",
       "      <td>1124.0</td>\n",
       "      <td>0.481184</td>\n",
       "      <td>0.497863</td>\n",
       "      <td>0.00</td>\n",
       "    </tr>\n",
       "    <tr>\n",
       "      <th>12748</th>\n",
       "      <td>0.464878</td>\n",
       "      <td>18485.00</td>\n",
       "      <td>13.0</td>\n",
       "      <td>0.499836</td>\n",
       "      <td>0.666667</td>\n",
       "      <td>0.166704</td>\n",
       "      <td>4500.0</td>\n",
       "      <td>0.374421</td>\n",
       "      <td>0.497863</td>\n",
       "      <td>5.00</td>\n",
       "    </tr>\n",
       "  </tbody>\n",
       "</table>\n",
       "<p>12749 rows × 10 columns</p>\n",
       "</div>"
      ],
      "text/plain": [
       "       geography     index  decision_time_days  core_sales_segment  \\\n",
       "0       0.464878   1809.00                24.0            0.499836   \n",
       "1       0.464878  76414.00                52.0            0.351630   \n",
       "2       0.550499  15749.00                15.0            0.499836   \n",
       "3       0.550499  87640.00                70.0            0.499836   \n",
       "4       0.230423    913.48                15.0            0.499836   \n",
       "...          ...       ...                 ...                 ...   \n",
       "12744   0.550499  88870.00                69.0            0.499836   \n",
       "12745   0.525655  22608.00                32.0            0.499836   \n",
       "12746   0.550499  69033.00               112.0            0.499836   \n",
       "12747   0.464878  75757.00                31.0            0.499836   \n",
       "12748   0.464878  18485.00                13.0            0.499836   \n",
       "\n",
       "       product_id  opportunity_status  product_$  core_consumption_market  \\\n",
       "0        0.666667            0.966951   707400.0                 0.367637   \n",
       "1        0.750000            0.166704   553500.0                 0.450390   \n",
       "2        0.500000            0.966951     1742.0                 0.545786   \n",
       "3        0.666667            0.966951    23506.0                 0.464238   \n",
       "4        0.600000            0.166704   477700.0                 0.374421   \n",
       "...           ...                 ...        ...                      ...   \n",
       "12744    0.500000            0.966951      425.0                 0.545786   \n",
       "12745    0.600000            0.166704   722688.0                 0.440150   \n",
       "12746    0.500000            0.166704    14040.0                 0.455556   \n",
       "12747    0.500000            0.166704     1124.0                 0.481184   \n",
       "12748    0.666667            0.166704     4500.0                 0.374421   \n",
       "\n",
       "       core_product_application  transition_time_days  \n",
       "0                      0.497863                  6.03  \n",
       "1                      0.494337                  5.00  \n",
       "2                      0.497863                  0.33  \n",
       "3                      0.419265                  3.67  \n",
       "4                      0.497863                  8.33  \n",
       "...                         ...                   ...  \n",
       "12744                  0.558594                  5.00  \n",
       "12745                  0.494337                  0.00  \n",
       "12746                  0.558594                  5.00  \n",
       "12747                  0.497863                  0.00  \n",
       "12748                  0.497863                  5.00  \n",
       "\n",
       "[12749 rows x 10 columns]"
      ]
     },
     "execution_count": 123,
     "metadata": {},
     "output_type": "execute_result"
    }
   ],
   "source": [
    "train_X[set(curated_columns).difference(binary_num_columns)]"
   ]
  },
  {
   "cell_type": "code",
   "execution_count": 81,
   "metadata": {},
   "outputs": [
    {
     "name": "stderr",
     "output_type": "stream",
     "text": [
      "Error: Wrong number of items passed 2, placement implies 1"
     ]
    },
    {
     "ename": "UnboundLocalError",
     "evalue": "local variable 'out' referenced before assignment",
     "output_type": "error",
     "traceback": [
      "\u001b[1;31m---------------------------------------------------------------------------\u001b[0m",
      "\u001b[1;31mUnboundLocalError\u001b[0m                         Traceback (most recent call last)",
      "\u001b[1;32m<ipython-input-81-6c3427e9e7c3>\u001b[0m in \u001b[0;36m<module>\u001b[1;34m\u001b[0m\n\u001b[1;32m----> 1\u001b[1;33m \u001b[0mtarget_corr\u001b[0m \u001b[1;33m=\u001b[0m \u001b[0mta_analysis\u001b[0m\u001b[1;33m.\u001b[0m\u001b[0mget_target_correlation\u001b[0m\u001b[1;33m(\u001b[0m\u001b[0mdf\u001b[0m\u001b[1;33m=\u001b[0m\u001b[0mtrain_X\u001b[0m\u001b[1;33m[\u001b[0m\u001b[0mset\u001b[0m\u001b[1;33m(\u001b[0m\u001b[0mcurated_columns\u001b[0m\u001b[1;33m)\u001b[0m\u001b[1;33m.\u001b[0m\u001b[0mdifference\u001b[0m\u001b[1;33m(\u001b[0m\u001b[0mbinary_num_columns\u001b[0m\u001b[1;33m)\u001b[0m\u001b[1;33m]\u001b[0m\u001b[1;33m,\u001b[0m \u001b[0my\u001b[0m\u001b[1;33m=\u001b[0m\u001b[0mtrain_y\u001b[0m\u001b[1;33m)\u001b[0m\u001b[1;33m\u001b[0m\u001b[1;33m\u001b[0m\u001b[0m\n\u001b[0m\u001b[0;32m      2\u001b[0m \u001b[0mdisplay_as_tabs\u001b[0m\u001b[1;33m(\u001b[0m\u001b[1;33m[\u001b[0m\u001b[1;33m(\u001b[0m\u001b[0mk\u001b[0m\u001b[1;33m,\u001b[0m \u001b[0mv\u001b[0m\u001b[1;33m)\u001b[0m \u001b[1;32mfor\u001b[0m \u001b[0mk\u001b[0m\u001b[1;33m,\u001b[0m\u001b[0mv\u001b[0m \u001b[1;32min\u001b[0m \u001b[0mtarget_corr\u001b[0m\u001b[1;33m.\u001b[0m\u001b[0mitems\u001b[0m\u001b[1;33m(\u001b[0m\u001b[1;33m)\u001b[0m\u001b[1;33m]\u001b[0m\u001b[1;33m)\u001b[0m\u001b[1;33m\u001b[0m\u001b[1;33m\u001b[0m\u001b[0m\n",
      "\u001b[1;32md:\\code_templates\\classification-py\\src\\ta_lib\\eda\\analysis.py\u001b[0m in \u001b[0;36mget_target_correlation\u001b[1;34m(df, y, x_cols)\u001b[0m\n\u001b[0;32m    411\u001b[0m         \u001b[0man\u001b[0m \u001b[1;33m=\u001b[0m \u001b[0m_get_analyser\u001b[0m\u001b[1;33m(\u001b[0m\u001b[0mmerged_df\u001b[0m\u001b[1;33m,\u001b[0m \u001b[0my\u001b[0m\u001b[1;33m=\u001b[0m\u001b[1;34m\"y\"\u001b[0m\u001b[1;33m)\u001b[0m\u001b[1;33m\u001b[0m\u001b[1;33m\u001b[0m\u001b[0m\n\u001b[0;32m    412\u001b[0m         \u001b[0mout\u001b[0m \u001b[1;33m=\u001b[0m \u001b[0man\u001b[0m\u001b[1;33m.\u001b[0m\u001b[0mget_feature_scores\u001b[0m\u001b[1;33m(\u001b[0m\u001b[0mfeatures\u001b[0m\u001b[1;33m=\u001b[0m\u001b[0mx_cols\u001b[0m\u001b[1;33m)\u001b[0m\u001b[1;33m\u001b[0m\u001b[1;33m\u001b[0m\u001b[0m\n\u001b[1;32m--> 413\u001b[1;33m     \u001b[1;32mreturn\u001b[0m \u001b[0mout\u001b[0m\u001b[1;33m\u001b[0m\u001b[1;33m\u001b[0m\u001b[0m\n\u001b[0m\u001b[0;32m    414\u001b[0m \u001b[1;33m\u001b[0m\u001b[0m\n\u001b[0;32m    415\u001b[0m \u001b[1;33m\u001b[0m\u001b[0m\n",
      "\u001b[1;31mUnboundLocalError\u001b[0m: local variable 'out' referenced before assignment"
     ]
    }
   ],
   "source": [
    "# target_corr = ta_analysis.get_target_correlation(df=train_X[set(curated_columns).difference(binary_num_columns)], y=train_y)\n",
    "# display_as_tabs([(k, v) for k,v in target_corr.items()])"
   ]
  },
  {
   "cell_type": "markdown",
   "metadata": {},
   "source": [
    "Feature Importances"
   ]
  },
  {
   "cell_type": "code",
   "execution_count": 29,
   "metadata": {},
   "outputs": [
    {
     "name": "stderr",
     "output_type": "stream",
     "text": [
      "Error: Wrong number of items passed 2, placement implies 1"
     ]
    },
    {
     "ename": "UnboundLocalError",
     "evalue": "local variable 'out' referenced before assignment",
     "output_type": "error",
     "traceback": [
      "\u001b[1;31m---------------------------------------------------------------------------\u001b[0m",
      "\u001b[1;31mUnboundLocalError\u001b[0m                         Traceback (most recent call last)",
      "\u001b[1;32m<ipython-input-29-c4e28a1879a1>\u001b[0m in \u001b[0;36m<module>\u001b[1;34m\u001b[0m\n\u001b[1;32m----> 1\u001b[1;33m \u001b[0mtarget_feat_imp\u001b[0m \u001b[1;33m=\u001b[0m \u001b[0mta_analysis\u001b[0m\u001b[1;33m.\u001b[0m\u001b[0mget_feature_importances\u001b[0m\u001b[1;33m(\u001b[0m\u001b[0mtrain_X\u001b[0m\u001b[1;33m[\u001b[0m\u001b[0mset\u001b[0m\u001b[1;33m(\u001b[0m\u001b[0mcurated_columns\u001b[0m\u001b[1;33m)\u001b[0m\u001b[1;33m.\u001b[0m\u001b[0mdifference\u001b[0m\u001b[1;33m(\u001b[0m\u001b[0mbinary_num_columns\u001b[0m\u001b[1;33m)\u001b[0m\u001b[1;33m]\u001b[0m\u001b[1;33m,\u001b[0m \u001b[0mtrain_y\u001b[0m\u001b[1;33m)\u001b[0m\u001b[1;33m\u001b[0m\u001b[1;33m\u001b[0m\u001b[0m\n\u001b[0m\u001b[0;32m      2\u001b[0m \u001b[0mdisplay_as_tabs\u001b[0m\u001b[1;33m(\u001b[0m\u001b[1;33m[\u001b[0m\u001b[1;33m(\u001b[0m\u001b[0mk\u001b[0m\u001b[1;33m,\u001b[0m \u001b[0mv\u001b[0m\u001b[1;33m)\u001b[0m \u001b[1;32mfor\u001b[0m \u001b[0mk\u001b[0m\u001b[1;33m,\u001b[0m\u001b[0mv\u001b[0m \u001b[1;32min\u001b[0m \u001b[0mtarget_feat_imp\u001b[0m\u001b[1;33m.\u001b[0m\u001b[0mitems\u001b[0m\u001b[1;33m(\u001b[0m\u001b[1;33m)\u001b[0m\u001b[1;33m]\u001b[0m\u001b[1;33m)\u001b[0m\u001b[1;33m\u001b[0m\u001b[1;33m\u001b[0m\u001b[0m\n",
      "\u001b[1;32md:\\code_templates\\classification-py\\src\\ta_lib\\eda\\analysis.py\u001b[0m in \u001b[0;36mget_feature_importances\u001b[1;34m(df, y, x_cols)\u001b[0m\n\u001b[0;32m    447\u001b[0m         \u001b[0man\u001b[0m \u001b[1;33m=\u001b[0m \u001b[0m_get_analyser\u001b[0m\u001b[1;33m(\u001b[0m\u001b[0mmerged_df\u001b[0m\u001b[1;33m,\u001b[0m \u001b[0my\u001b[0m\u001b[1;33m=\u001b[0m\u001b[1;34m\"y\"\u001b[0m\u001b[1;33m)\u001b[0m\u001b[1;33m\u001b[0m\u001b[1;33m\u001b[0m\u001b[0m\n\u001b[0;32m    448\u001b[0m         \u001b[0mout\u001b[0m \u001b[1;33m=\u001b[0m \u001b[0man\u001b[0m\u001b[1;33m.\u001b[0m\u001b[0mfeature_importances\u001b[0m\u001b[1;33m(\u001b[0m\u001b[0mfeatures\u001b[0m\u001b[1;33m=\u001b[0m\u001b[0mx_cols\u001b[0m\u001b[1;33m,\u001b[0m \u001b[0mquick\u001b[0m\u001b[1;33m=\u001b[0m\u001b[1;32mFalse\u001b[0m\u001b[1;33m)\u001b[0m\u001b[1;33m\u001b[0m\u001b[1;33m\u001b[0m\u001b[0m\n\u001b[1;32m--> 449\u001b[1;33m     \u001b[1;32mreturn\u001b[0m \u001b[0mout\u001b[0m\u001b[1;33m\u001b[0m\u001b[1;33m\u001b[0m\u001b[0m\n\u001b[0m\u001b[0;32m    450\u001b[0m \u001b[1;33m\u001b[0m\u001b[0m\n\u001b[0;32m    451\u001b[0m \u001b[1;33m\u001b[0m\u001b[0m\n",
      "\u001b[1;31mUnboundLocalError\u001b[0m: local variable 'out' referenced before assignment"
     ]
    }
   ],
   "source": [
    "# target_feat_imp = ta_analysis.get_feature_importances(train_X[set(curated_columns).difference(binary_num_columns)], train_y)\n",
    "# display_as_tabs([(k, v) for k,v in target_feat_imp.items()])"
   ]
  },
  {
   "cell_type": "markdown",
   "metadata": {},
   "source": [
    "Key drivers report like feature importance, bivariate plots can be obtained as below"
   ]
  },
  {
   "cell_type": "code",
   "execution_count": 37,
   "metadata": {},
   "outputs": [
    {
     "ename": "KeyboardInterrupt",
     "evalue": "",
     "output_type": "error",
     "traceback": [
      "\u001b[1;31m---------------------------------------------------------------------------\u001b[0m",
      "\u001b[1;31mKeyboardInterrupt\u001b[0m                         Traceback (most recent call last)",
      "\u001b[1;32m<ipython-input-37-22d7abef0a66>\u001b[0m in \u001b[0;36m<module>\u001b[1;34m\u001b[0m\n\u001b[1;32m----> 1\u001b[1;33m \u001b[0mhealth\u001b[0m\u001b[1;33m.\u001b[0m\u001b[0mkey_drivers\u001b[0m\u001b[1;33m(\u001b[0m\u001b[0mtrain_X\u001b[0m\u001b[1;33m,\u001b[0m \u001b[0mtrain_y\u001b[0m\u001b[1;33m[\u001b[0m\u001b[1;33m[\u001b[0m\u001b[1;34m'target'\u001b[0m\u001b[1;33m]\u001b[0m\u001b[1;33m]\u001b[0m\u001b[1;33m,\u001b[0m\u001b[1;34m'./key_drivers_report.html'\u001b[0m\u001b[1;33m)\u001b[0m\u001b[1;33m\u001b[0m\u001b[1;33m\u001b[0m\u001b[0m\n\u001b[0m",
      "\u001b[1;32md:\\code_templates\\classification-py\\src\\ta_lib\\reports\\health.py\u001b[0m in \u001b[0;36mkey_drivers\u001b[1;34m(df, target, save_path, quick)\u001b[0m\n\u001b[0;32m    164\u001b[0m         \u001b[0mmerged_df\u001b[0m\u001b[1;33m[\u001b[0m\u001b[0mtarget\u001b[0m\u001b[1;33m.\u001b[0m\u001b[0mcolumns\u001b[0m\u001b[1;33m[\u001b[0m\u001b[1;36m0\u001b[0m\u001b[1;33m]\u001b[0m\u001b[1;33m]\u001b[0m \u001b[1;33m=\u001b[0m \u001b[0mtarget\u001b[0m\u001b[1;33m.\u001b[0m\u001b[0mvalues\u001b[0m\u001b[1;33m\u001b[0m\u001b[1;33m\u001b[0m\u001b[0m\n\u001b[0;32m    165\u001b[0m         \u001b[0man\u001b[0m \u001b[1;33m=\u001b[0m \u001b[0m_get_analyser\u001b[0m\u001b[1;33m(\u001b[0m\u001b[0mmerged_df\u001b[0m\u001b[1;33m,\u001b[0m \u001b[0my\u001b[0m\u001b[1;33m=\u001b[0m\u001b[0mtarget\u001b[0m\u001b[1;33m.\u001b[0m\u001b[0mcolumns\u001b[0m\u001b[1;33m[\u001b[0m\u001b[1;36m0\u001b[0m\u001b[1;33m]\u001b[0m\u001b[1;33m)\u001b[0m\u001b[1;33m\u001b[0m\u001b[1;33m\u001b[0m\u001b[0m\n\u001b[1;32m--> 166\u001b[1;33m         \u001b[0mout\u001b[0m \u001b[1;33m=\u001b[0m \u001b[0man\u001b[0m\u001b[1;33m.\u001b[0m\u001b[0mkey_drivers\u001b[0m\u001b[1;33m(\u001b[0m\u001b[0msave_as\u001b[0m\u001b[1;33m=\u001b[0m\u001b[1;34m\".html\"\u001b[0m\u001b[1;33m,\u001b[0m \u001b[0msave_path\u001b[0m\u001b[1;33m=\u001b[0m\u001b[0msave_path\u001b[0m\u001b[1;33m,\u001b[0m \u001b[0mquick\u001b[0m\u001b[1;33m=\u001b[0m\u001b[0mquick\u001b[0m\u001b[1;33m)\u001b[0m\u001b[1;33m\u001b[0m\u001b[1;33m\u001b[0m\u001b[0m\n\u001b[0m\u001b[0;32m    167\u001b[0m         \u001b[1;32mif\u001b[0m \u001b[0misinstance\u001b[0m\u001b[1;33m(\u001b[0m\u001b[0mout\u001b[0m\u001b[1;33m,\u001b[0m \u001b[0mstr\u001b[0m\u001b[1;33m)\u001b[0m\u001b[1;33m:\u001b[0m\u001b[1;33m\u001b[0m\u001b[1;33m\u001b[0m\u001b[0m\n\u001b[0;32m    168\u001b[0m             \u001b[1;32mraise\u001b[0m \u001b[0mRuntimeError\u001b[0m\u001b[1;33m(\u001b[0m\u001b[1;34mf\"Failed to create report : {out}\"\u001b[0m\u001b[1;33m)\u001b[0m\u001b[1;33m\u001b[0m\u001b[1;33m\u001b[0m\u001b[0m\n",
      "\u001b[1;32md:\\code_templates\\classification-py\\src\\ta_lib\\_vendor\\tigerml\\eda\\plotters\\key_drivers\\KeyDriversMixin.py\u001b[0m in \u001b[0;36mkey_drivers\u001b[1;34m(self, y, features, quick, save_as, save_path)\u001b[0m\n\u001b[0;32m    352\u001b[0m             \u001b[1;32mif\u001b[0m \u001b[0mlen\u001b[0m\u001b[1;33m(\u001b[0m\u001b[0mx_vars\u001b[0m\u001b[1;33m)\u001b[0m \u001b[1;33m>\u001b[0m \u001b[1;36m50\u001b[0m\u001b[1;33m:\u001b[0m\u001b[1;33m\u001b[0m\u001b[1;33m\u001b[0m\u001b[0m\n\u001b[0;32m    353\u001b[0m                 \u001b[0mtop_n\u001b[0m \u001b[1;33m=\u001b[0m \u001b[1;36m50\u001b[0m\u001b[1;33m\u001b[0m\u001b[1;33m\u001b[0m\u001b[0m\n\u001b[1;32m--> 354\u001b[1;33m             joint_plots = self.bivariate_plots(\n\u001b[0m\u001b[0;32m    355\u001b[0m                 \u001b[0mx_vars\u001b[0m\u001b[1;33m=\u001b[0m\u001b[0mx_vars\u001b[0m\u001b[1;33m,\u001b[0m \u001b[0my_vars\u001b[0m\u001b[1;33m=\u001b[0m\u001b[0mself\u001b[0m\u001b[1;33m.\u001b[0m\u001b[0m_current_y\u001b[0m\u001b[1;33m,\u001b[0m \u001b[0mreturn_dict\u001b[0m\u001b[1;33m=\u001b[0m\u001b[1;32mTrue\u001b[0m\u001b[1;33m,\u001b[0m \u001b[0mtop_n\u001b[0m\u001b[1;33m=\u001b[0m\u001b[0mtop_n\u001b[0m\u001b[1;33m\u001b[0m\u001b[1;33m\u001b[0m\u001b[0m\n\u001b[0;32m    356\u001b[0m             )\n",
      "\u001b[1;32md:\\code_templates\\classification-py\\src\\ta_lib\\_vendor\\tigerml\\core\\utils\\_lib.py\u001b[0m in \u001b[0;36minner\u001b[1;34m(*args, **kwargs)\u001b[0m\n\u001b[0;32m    210\u001b[0m             \u001b[0mlogger\u001b[0m\u001b[1;33m.\u001b[0m\u001b[0minfo\u001b[0m\u001b[1;33m(\u001b[0m\u001b[1;34m\"Started running {}\"\u001b[0m\u001b[1;33m.\u001b[0m\u001b[0mformat\u001b[0m\u001b[1;33m(\u001b[0m\u001b[0mfunc\u001b[0m\u001b[1;33m.\u001b[0m\u001b[0m__name__\u001b[0m\u001b[1;33m)\u001b[0m\u001b[1;33m)\u001b[0m\u001b[1;33m\u001b[0m\u001b[1;33m\u001b[0m\u001b[0m\n\u001b[0;32m    211\u001b[0m             \u001b[0mstart_time\u001b[0m \u001b[1;33m=\u001b[0m \u001b[0mdatetime\u001b[0m\u001b[1;33m.\u001b[0m\u001b[0mnow\u001b[0m\u001b[1;33m(\u001b[0m\u001b[1;33m)\u001b[0m\u001b[1;33m\u001b[0m\u001b[1;33m\u001b[0m\u001b[0m\n\u001b[1;32m--> 212\u001b[1;33m             \u001b[0mresult\u001b[0m \u001b[1;33m=\u001b[0m \u001b[0mfunc\u001b[0m\u001b[1;33m(\u001b[0m\u001b[1;33m*\u001b[0m\u001b[0margs\u001b[0m\u001b[1;33m,\u001b[0m \u001b[1;33m**\u001b[0m\u001b[0mkwargs\u001b[0m\u001b[1;33m)\u001b[0m\u001b[1;33m\u001b[0m\u001b[1;33m\u001b[0m\u001b[0m\n\u001b[0m\u001b[0;32m    213\u001b[0m             \u001b[0mend_time\u001b[0m \u001b[1;33m=\u001b[0m \u001b[0mdatetime\u001b[0m\u001b[1;33m.\u001b[0m\u001b[0mnow\u001b[0m\u001b[1;33m(\u001b[0m\u001b[1;33m)\u001b[0m\u001b[1;33m\u001b[0m\u001b[1;33m\u001b[0m\u001b[0m\n\u001b[0;32m    214\u001b[0m             \u001b[0mlogger\u001b[0m\u001b[1;33m.\u001b[0m\u001b[0minfo\u001b[0m\u001b[1;33m(\u001b[0m\u001b[1;34m\"Finished running {}\"\u001b[0m\u001b[1;33m.\u001b[0m\u001b[0mformat\u001b[0m\u001b[1;33m(\u001b[0m\u001b[0mfunc\u001b[0m\u001b[1;33m.\u001b[0m\u001b[0m__name__\u001b[0m\u001b[1;33m)\u001b[0m\u001b[1;33m)\u001b[0m\u001b[1;33m\u001b[0m\u001b[1;33m\u001b[0m\u001b[0m\n",
      "\u001b[1;32md:\\code_templates\\classification-py\\src\\ta_lib\\_vendor\\tigerml\\eda\\plotters\\feature_interactions\\FeatureInteractionsMixin.py\u001b[0m in \u001b[0;36mbivariate_plots\u001b[1;34m(self, x_vars, y_vars, abs_corr_thresold, top_n, file_path, return_plots, save_plots, return_dict)\u001b[0m\n\u001b[0;32m    125\u001b[0m         \u001b[1;32mfrom\u001b[0m \u001b[1;33m.\u001b[0m \u001b[1;32mimport\u001b[0m \u001b[0mJointPlot\u001b[0m\u001b[1;33m\u001b[0m\u001b[1;33m\u001b[0m\u001b[0m\n\u001b[0;32m    126\u001b[0m \u001b[1;33m\u001b[0m\u001b[0m\n\u001b[1;32m--> 127\u001b[1;33m         plots = JointPlot(self.data).get_plots(\n\u001b[0m\u001b[0;32m    128\u001b[0m             \u001b[0mx_vars\u001b[0m\u001b[1;33m,\u001b[0m\u001b[1;33m\u001b[0m\u001b[1;33m\u001b[0m\u001b[0m\n\u001b[0;32m    129\u001b[0m             \u001b[0my_vars\u001b[0m\u001b[1;33m,\u001b[0m\u001b[1;33m\u001b[0m\u001b[1;33m\u001b[0m\u001b[0m\n",
      "\u001b[1;32md:\\code_templates\\classification-py\\src\\ta_lib\\_vendor\\tigerml\\eda\\plotters\\feature_interactions\\interaction.py\u001b[0m in \u001b[0;36mget_plots\u001b[1;34m(self, x_vars, y_vars, abs_corr_thresold, top_n, return_dict)\u001b[0m\n\u001b[0;32m    432\u001b[0m                     \u001b[1;32mfor\u001b[0m \u001b[0mvar_2\u001b[0m \u001b[1;32min\u001b[0m \u001b[0msecond_list\u001b[0m\u001b[1;33m:\u001b[0m\u001b[1;33m\u001b[0m\u001b[1;33m\u001b[0m\u001b[0m\n\u001b[0;32m    433\u001b[0m                         \u001b[1;31m# title = f'Correlation: {round(self.corr_df.loc[x_var, y_var][SUMMARY_KEY_MAP.corr_coef], 3)}'\u001b[0m\u001b[1;33m\u001b[0m\u001b[1;33m\u001b[0m\u001b[1;33m\u001b[0m\u001b[0m\n\u001b[1;32m--> 434\u001b[1;33m                         plot_dict[var_1][var_2] = get_bivariate_plot(\n\u001b[0m\u001b[0;32m    435\u001b[0m                             \u001b[0mdf\u001b[0m\u001b[1;33m,\u001b[0m \u001b[0mself\u001b[0m\u001b[1;33m.\u001b[0m\u001b[0mdtypes\u001b[0m\u001b[1;33m,\u001b[0m \u001b[0mself\u001b[0m\u001b[1;33m.\u001b[0m\u001b[0mcorr_df\u001b[0m\u001b[1;33m,\u001b[0m \u001b[0mvar_1\u001b[0m\u001b[1;33m,\u001b[0m \u001b[0mvar_2\u001b[0m\u001b[1;33m\u001b[0m\u001b[1;33m\u001b[0m\u001b[0m\n\u001b[0;32m    436\u001b[0m                         )\n",
      "\u001b[1;32md:\\code_templates\\classification-py\\src\\ta_lib\\_vendor\\tigerml\\eda\\plotters\\feature_interactions\\interaction.py\u001b[0m in \u001b[0;36mget_bivariate_plot\u001b[1;34m(df, dtypes, corr_df, x_var, y_var)\u001b[0m\n\u001b[0;32m     95\u001b[0m             \u001b[1;31m# https://journals.plos.org/plosone/article?id=10.1371/journal.pone.0087357#s3\u001b[0m\u001b[1;33m\u001b[0m\u001b[1;33m\u001b[0m\u001b[1;33m\u001b[0m\u001b[0m\n\u001b[0;32m     96\u001b[0m             \u001b[0mn_bins\u001b[0m \u001b[1;33m=\u001b[0m \u001b[0mround\u001b[0m\u001b[1;33m(\u001b[0m\u001b[0mlen\u001b[0m\u001b[1;33m(\u001b[0m\u001b[0mclean_data\u001b[0m\u001b[1;33m[\u001b[0m\u001b[0mcount_col\u001b[0m\u001b[1;33m]\u001b[0m\u001b[1;33m)\u001b[0m \u001b[1;33m**\u001b[0m \u001b[1;36m0.7\u001b[0m\u001b[1;33m)\u001b[0m\u001b[1;33m\u001b[0m\u001b[1;33m\u001b[0m\u001b[0m\n\u001b[1;32m---> 97\u001b[1;33m             \u001b[0mbinned_data\u001b[0m \u001b[1;33m=\u001b[0m \u001b[0mpd\u001b[0m\u001b[1;33m.\u001b[0m\u001b[0mcut\u001b[0m\u001b[1;33m(\u001b[0m\u001b[0mclean_data\u001b[0m\u001b[1;33m[\u001b[0m\u001b[0mcount_col\u001b[0m\u001b[1;33m]\u001b[0m\u001b[1;33m,\u001b[0m \u001b[0mbins\u001b[0m\u001b[1;33m=\u001b[0m\u001b[0mn_bins\u001b[0m\u001b[1;33m)\u001b[0m\u001b[1;33m.\u001b[0m\u001b[0mastype\u001b[0m\u001b[1;33m(\u001b[0m\u001b[0mstr\u001b[0m\u001b[1;33m)\u001b[0m\u001b[1;33m\u001b[0m\u001b[1;33m\u001b[0m\u001b[0m\n\u001b[0m\u001b[0;32m     98\u001b[0m             \u001b[0mmutual_info\u001b[0m \u001b[1;33m=\u001b[0m \u001b[0mmutual_info_score\u001b[0m\u001b[1;33m(\u001b[0m\u001b[0mclean_data\u001b[0m\u001b[1;33m[\u001b[0m\u001b[0mgroup_col\u001b[0m\u001b[1;33m]\u001b[0m\u001b[1;33m.\u001b[0m\u001b[0mvalues\u001b[0m\u001b[1;33m,\u001b[0m \u001b[0mbinned_data\u001b[0m\u001b[1;33m)\u001b[0m\u001b[1;33m\u001b[0m\u001b[1;33m\u001b[0m\u001b[0m\n\u001b[0;32m     99\u001b[0m             title = (\n",
      "\u001b[1;32m~\\Anaconda3\\envs\\try-cla-dev-dev\\lib\\site-packages\\pandas\\core\\generic.py\u001b[0m in \u001b[0;36mastype\u001b[1;34m(self, dtype, copy, errors)\u001b[0m\n\u001b[0;32m   5696\u001b[0m         \u001b[1;32melse\u001b[0m\u001b[1;33m:\u001b[0m\u001b[1;33m\u001b[0m\u001b[1;33m\u001b[0m\u001b[0m\n\u001b[0;32m   5697\u001b[0m             \u001b[1;31m# else, only a single dtype is given\u001b[0m\u001b[1;33m\u001b[0m\u001b[1;33m\u001b[0m\u001b[1;33m\u001b[0m\u001b[0m\n\u001b[1;32m-> 5698\u001b[1;33m             \u001b[0mnew_data\u001b[0m \u001b[1;33m=\u001b[0m \u001b[0mself\u001b[0m\u001b[1;33m.\u001b[0m\u001b[0m_data\u001b[0m\u001b[1;33m.\u001b[0m\u001b[0mastype\u001b[0m\u001b[1;33m(\u001b[0m\u001b[0mdtype\u001b[0m\u001b[1;33m=\u001b[0m\u001b[0mdtype\u001b[0m\u001b[1;33m,\u001b[0m \u001b[0mcopy\u001b[0m\u001b[1;33m=\u001b[0m\u001b[0mcopy\u001b[0m\u001b[1;33m,\u001b[0m \u001b[0merrors\u001b[0m\u001b[1;33m=\u001b[0m\u001b[0merrors\u001b[0m\u001b[1;33m)\u001b[0m\u001b[1;33m\u001b[0m\u001b[1;33m\u001b[0m\u001b[0m\n\u001b[0m\u001b[0;32m   5699\u001b[0m             \u001b[1;32mreturn\u001b[0m \u001b[0mself\u001b[0m\u001b[1;33m.\u001b[0m\u001b[0m_constructor\u001b[0m\u001b[1;33m(\u001b[0m\u001b[0mnew_data\u001b[0m\u001b[1;33m)\u001b[0m\u001b[1;33m.\u001b[0m\u001b[0m__finalize__\u001b[0m\u001b[1;33m(\u001b[0m\u001b[0mself\u001b[0m\u001b[1;33m)\u001b[0m\u001b[1;33m\u001b[0m\u001b[1;33m\u001b[0m\u001b[0m\n\u001b[0;32m   5700\u001b[0m \u001b[1;33m\u001b[0m\u001b[0m\n",
      "\u001b[1;32m~\\Anaconda3\\envs\\try-cla-dev-dev\\lib\\site-packages\\pandas\\core\\internals\\managers.py\u001b[0m in \u001b[0;36mastype\u001b[1;34m(self, dtype, copy, errors)\u001b[0m\n\u001b[0;32m    580\u001b[0m \u001b[1;33m\u001b[0m\u001b[0m\n\u001b[0;32m    581\u001b[0m     \u001b[1;32mdef\u001b[0m \u001b[0mastype\u001b[0m\u001b[1;33m(\u001b[0m\u001b[0mself\u001b[0m\u001b[1;33m,\u001b[0m \u001b[0mdtype\u001b[0m\u001b[1;33m,\u001b[0m \u001b[0mcopy\u001b[0m\u001b[1;33m:\u001b[0m \u001b[0mbool\u001b[0m \u001b[1;33m=\u001b[0m \u001b[1;32mFalse\u001b[0m\u001b[1;33m,\u001b[0m \u001b[0merrors\u001b[0m\u001b[1;33m:\u001b[0m \u001b[0mstr\u001b[0m \u001b[1;33m=\u001b[0m \u001b[1;34m\"raise\"\u001b[0m\u001b[1;33m)\u001b[0m\u001b[1;33m:\u001b[0m\u001b[1;33m\u001b[0m\u001b[1;33m\u001b[0m\u001b[0m\n\u001b[1;32m--> 582\u001b[1;33m         \u001b[1;32mreturn\u001b[0m \u001b[0mself\u001b[0m\u001b[1;33m.\u001b[0m\u001b[0mapply\u001b[0m\u001b[1;33m(\u001b[0m\u001b[1;34m\"astype\"\u001b[0m\u001b[1;33m,\u001b[0m \u001b[0mdtype\u001b[0m\u001b[1;33m=\u001b[0m\u001b[0mdtype\u001b[0m\u001b[1;33m,\u001b[0m \u001b[0mcopy\u001b[0m\u001b[1;33m=\u001b[0m\u001b[0mcopy\u001b[0m\u001b[1;33m,\u001b[0m \u001b[0merrors\u001b[0m\u001b[1;33m=\u001b[0m\u001b[0merrors\u001b[0m\u001b[1;33m)\u001b[0m\u001b[1;33m\u001b[0m\u001b[1;33m\u001b[0m\u001b[0m\n\u001b[0m\u001b[0;32m    583\u001b[0m \u001b[1;33m\u001b[0m\u001b[0m\n\u001b[0;32m    584\u001b[0m     \u001b[1;32mdef\u001b[0m \u001b[0mconvert\u001b[0m\u001b[1;33m(\u001b[0m\u001b[0mself\u001b[0m\u001b[1;33m,\u001b[0m \u001b[1;33m**\u001b[0m\u001b[0mkwargs\u001b[0m\u001b[1;33m)\u001b[0m\u001b[1;33m:\u001b[0m\u001b[1;33m\u001b[0m\u001b[1;33m\u001b[0m\u001b[0m\n",
      "\u001b[1;32m~\\Anaconda3\\envs\\try-cla-dev-dev\\lib\\site-packages\\pandas\\core\\internals\\managers.py\u001b[0m in \u001b[0;36mapply\u001b[1;34m(self, f, filter, **kwargs)\u001b[0m\n\u001b[0;32m    440\u001b[0m                 \u001b[0mapplied\u001b[0m \u001b[1;33m=\u001b[0m \u001b[0mb\u001b[0m\u001b[1;33m.\u001b[0m\u001b[0mapply\u001b[0m\u001b[1;33m(\u001b[0m\u001b[0mf\u001b[0m\u001b[1;33m,\u001b[0m \u001b[1;33m**\u001b[0m\u001b[0mkwargs\u001b[0m\u001b[1;33m)\u001b[0m\u001b[1;33m\u001b[0m\u001b[1;33m\u001b[0m\u001b[0m\n\u001b[0;32m    441\u001b[0m             \u001b[1;32melse\u001b[0m\u001b[1;33m:\u001b[0m\u001b[1;33m\u001b[0m\u001b[1;33m\u001b[0m\u001b[0m\n\u001b[1;32m--> 442\u001b[1;33m                 \u001b[0mapplied\u001b[0m \u001b[1;33m=\u001b[0m \u001b[0mgetattr\u001b[0m\u001b[1;33m(\u001b[0m\u001b[0mb\u001b[0m\u001b[1;33m,\u001b[0m \u001b[0mf\u001b[0m\u001b[1;33m)\u001b[0m\u001b[1;33m(\u001b[0m\u001b[1;33m**\u001b[0m\u001b[0mkwargs\u001b[0m\u001b[1;33m)\u001b[0m\u001b[1;33m\u001b[0m\u001b[1;33m\u001b[0m\u001b[0m\n\u001b[0m\u001b[0;32m    443\u001b[0m             \u001b[0mresult_blocks\u001b[0m \u001b[1;33m=\u001b[0m \u001b[0m_extend_blocks\u001b[0m\u001b[1;33m(\u001b[0m\u001b[0mapplied\u001b[0m\u001b[1;33m,\u001b[0m \u001b[0mresult_blocks\u001b[0m\u001b[1;33m)\u001b[0m\u001b[1;33m\u001b[0m\u001b[1;33m\u001b[0m\u001b[0m\n\u001b[0;32m    444\u001b[0m \u001b[1;33m\u001b[0m\u001b[0m\n",
      "\u001b[1;32m~\\Anaconda3\\envs\\try-cla-dev-dev\\lib\\site-packages\\pandas\\core\\internals\\blocks.py\u001b[0m in \u001b[0;36mastype\u001b[1;34m(self, dtype, copy, errors)\u001b[0m\n\u001b[0;32m    605\u001b[0m         \u001b[1;32mif\u001b[0m \u001b[0mself\u001b[0m\u001b[1;33m.\u001b[0m\u001b[0mis_extension\u001b[0m\u001b[1;33m:\u001b[0m\u001b[1;33m\u001b[0m\u001b[1;33m\u001b[0m\u001b[0m\n\u001b[0;32m    606\u001b[0m             \u001b[1;31m# TODO: Should we try/except this astype?\u001b[0m\u001b[1;33m\u001b[0m\u001b[1;33m\u001b[0m\u001b[1;33m\u001b[0m\u001b[0m\n\u001b[1;32m--> 607\u001b[1;33m             \u001b[0mvalues\u001b[0m \u001b[1;33m=\u001b[0m \u001b[0mself\u001b[0m\u001b[1;33m.\u001b[0m\u001b[0mvalues\u001b[0m\u001b[1;33m.\u001b[0m\u001b[0mastype\u001b[0m\u001b[1;33m(\u001b[0m\u001b[0mdtype\u001b[0m\u001b[1;33m)\u001b[0m\u001b[1;33m\u001b[0m\u001b[1;33m\u001b[0m\u001b[0m\n\u001b[0m\u001b[0;32m    608\u001b[0m         \u001b[1;32melse\u001b[0m\u001b[1;33m:\u001b[0m\u001b[1;33m\u001b[0m\u001b[1;33m\u001b[0m\u001b[0m\n\u001b[0;32m    609\u001b[0m             \u001b[1;32mif\u001b[0m \u001b[0missubclass\u001b[0m\u001b[1;33m(\u001b[0m\u001b[0mdtype\u001b[0m\u001b[1;33m.\u001b[0m\u001b[0mtype\u001b[0m\u001b[1;33m,\u001b[0m \u001b[0mstr\u001b[0m\u001b[1;33m)\u001b[0m\u001b[1;33m:\u001b[0m\u001b[1;33m\u001b[0m\u001b[1;33m\u001b[0m\u001b[0m\n",
      "\u001b[1;32m~\\Anaconda3\\envs\\try-cla-dev-dev\\lib\\site-packages\\pandas\\core\\arrays\\categorical.py\u001b[0m in \u001b[0;36mastype\u001b[1;34m(self, dtype, copy)\u001b[0m\n\u001b[0;32m    500\u001b[0m         \u001b[1;32mif\u001b[0m \u001b[0mis_integer_dtype\u001b[0m\u001b[1;33m(\u001b[0m\u001b[0mdtype\u001b[0m\u001b[1;33m)\u001b[0m \u001b[1;32mand\u001b[0m \u001b[0mself\u001b[0m\u001b[1;33m.\u001b[0m\u001b[0misna\u001b[0m\u001b[1;33m(\u001b[0m\u001b[1;33m)\u001b[0m\u001b[1;33m.\u001b[0m\u001b[0many\u001b[0m\u001b[1;33m(\u001b[0m\u001b[1;33m)\u001b[0m\u001b[1;33m:\u001b[0m\u001b[1;33m\u001b[0m\u001b[1;33m\u001b[0m\u001b[0m\n\u001b[0;32m    501\u001b[0m             \u001b[1;32mraise\u001b[0m \u001b[0mValueError\u001b[0m\u001b[1;33m(\u001b[0m\u001b[1;34m\"Cannot convert float NaN to integer\"\u001b[0m\u001b[1;33m)\u001b[0m\u001b[1;33m\u001b[0m\u001b[1;33m\u001b[0m\u001b[0m\n\u001b[1;32m--> 502\u001b[1;33m         \u001b[1;32mreturn\u001b[0m \u001b[0mnp\u001b[0m\u001b[1;33m.\u001b[0m\u001b[0marray\u001b[0m\u001b[1;33m(\u001b[0m\u001b[0mself\u001b[0m\u001b[1;33m,\u001b[0m \u001b[0mdtype\u001b[0m\u001b[1;33m=\u001b[0m\u001b[0mdtype\u001b[0m\u001b[1;33m,\u001b[0m \u001b[0mcopy\u001b[0m\u001b[1;33m=\u001b[0m\u001b[0mcopy\u001b[0m\u001b[1;33m)\u001b[0m\u001b[1;33m\u001b[0m\u001b[1;33m\u001b[0m\u001b[0m\n\u001b[0m\u001b[0;32m    503\u001b[0m \u001b[1;33m\u001b[0m\u001b[0m\n\u001b[0;32m    504\u001b[0m     \u001b[1;33m@\u001b[0m\u001b[0mcache_readonly\u001b[0m\u001b[1;33m\u001b[0m\u001b[1;33m\u001b[0m\u001b[0m\n",
      "\u001b[1;32m~\\Anaconda3\\envs\\try-cla-dev-dev\\lib\\site-packages\\pandas\\core\\arrays\\categorical.py\u001b[0m in \u001b[0;36m__array__\u001b[1;34m(self, dtype)\u001b[0m\n\u001b[0;32m   1284\u001b[0m         \u001b[0mret\u001b[0m \u001b[1;33m=\u001b[0m \u001b[0mtake_1d\u001b[0m\u001b[1;33m(\u001b[0m\u001b[0mself\u001b[0m\u001b[1;33m.\u001b[0m\u001b[0mcategories\u001b[0m\u001b[1;33m.\u001b[0m\u001b[0mvalues\u001b[0m\u001b[1;33m,\u001b[0m \u001b[0mself\u001b[0m\u001b[1;33m.\u001b[0m\u001b[0m_codes\u001b[0m\u001b[1;33m)\u001b[0m\u001b[1;33m\u001b[0m\u001b[1;33m\u001b[0m\u001b[0m\n\u001b[0;32m   1285\u001b[0m         \u001b[1;32mif\u001b[0m \u001b[0mdtype\u001b[0m \u001b[1;32mand\u001b[0m \u001b[1;32mnot\u001b[0m \u001b[0mis_dtype_equal\u001b[0m\u001b[1;33m(\u001b[0m\u001b[0mdtype\u001b[0m\u001b[1;33m,\u001b[0m \u001b[0mself\u001b[0m\u001b[1;33m.\u001b[0m\u001b[0mcategories\u001b[0m\u001b[1;33m.\u001b[0m\u001b[0mdtype\u001b[0m\u001b[1;33m)\u001b[0m\u001b[1;33m:\u001b[0m\u001b[1;33m\u001b[0m\u001b[1;33m\u001b[0m\u001b[0m\n\u001b[1;32m-> 1286\u001b[1;33m             \u001b[1;32mreturn\u001b[0m \u001b[0mnp\u001b[0m\u001b[1;33m.\u001b[0m\u001b[0masarray\u001b[0m\u001b[1;33m(\u001b[0m\u001b[0mret\u001b[0m\u001b[1;33m,\u001b[0m \u001b[0mdtype\u001b[0m\u001b[1;33m)\u001b[0m\u001b[1;33m\u001b[0m\u001b[1;33m\u001b[0m\u001b[0m\n\u001b[0m\u001b[0;32m   1287\u001b[0m         \u001b[1;32mif\u001b[0m \u001b[0mis_extension_array_dtype\u001b[0m\u001b[1;33m(\u001b[0m\u001b[0mret\u001b[0m\u001b[1;33m)\u001b[0m\u001b[1;33m:\u001b[0m\u001b[1;33m\u001b[0m\u001b[1;33m\u001b[0m\u001b[0m\n\u001b[0;32m   1288\u001b[0m             \u001b[1;31m# When we're a Categorical[ExtensionArray], like Interval,\u001b[0m\u001b[1;33m\u001b[0m\u001b[1;33m\u001b[0m\u001b[1;33m\u001b[0m\u001b[0m\n",
      "\u001b[1;31mKeyboardInterrupt\u001b[0m: "
     ]
    }
   ],
   "source": [
    "# health.key_drivers(train_X, train_y[['target']],'./key_drivers_report.html')"
   ]
  },
  {
   "cell_type": "markdown",
   "metadata": {},
   "source": [
    "**Dev Notes**\n",
    "<details>\n",
    "    \n",
    "- The SHAP plots and bivariate plots in key drivers reports can be obtained by including quick=False as a parameter to key_drivers function call. \n",
    "- SHAP plots and bivariate plots often take long depending on data shape.\n",
    "- The plot with shap is present [here](https://drive.google.com/file/d/1KvcVzYvhVgpe1rZiQY_en3ZeyCNY7fC5/view?usp=sharing)\n",
    "\n",
    "</details>"
   ]
  },
  {
   "cell_type": "markdown",
   "metadata": {},
   "source": [
    "\n",
    "All the plots like feature analysis, interaction, key drivers can be obtained as a single plot using data exploration method as shown below. The output from this is available [here](https://drive.google.com/file/d/1hDwSooqSIZnAuVATZjfG78CfkJQqNBaM/view?usp=sharing)"
   ]
  },
  {
   "cell_type": "code",
   "execution_count": 34,
   "metadata": {},
   "outputs": [],
   "source": [
    "# health.data_exploration(train_X,train_y,'./data_exploration_report.html')"
   ]
  },
  {
   "cell_type": "code",
   "execution_count": 35,
   "metadata": {},
   "outputs": [],
   "source": [
    "# # saving the list of relevant columns\n",
    "# save_pipeline(curated_columns, op.abspath(op.join(artifacts_folder, 'curated_columns.joblib')))\n",
    "\n",
    "# # saving the list of relevant transformers/pipelines\n",
    "# save_pipeline(feature_generation_ppln, op.abspath(op.join(artifacts_folder, 'feature_generation_ppln.joblib')))\n",
    "\n",
    "# save_pipeline(outlier_transformer, op.abspath(op.join(artifacts_folder, 'outlier_transformer.joblib')))\n",
    "\n",
    "# save_pipeline(features_transformer, op.abspath(op.join(artifacts_folder, 'features_transformer.joblib')))"
   ]
  },
  {
   "cell_type": "markdown",
   "metadata": {},
   "source": [
    "# 4 Modelling"
   ]
  },
  {
   "cell_type": "markdown",
   "metadata": {},
   "source": [
    "## 4.1 Modelling - Logistic Regression"
   ]
  },
  {
   "cell_type": "markdown",
   "metadata": {},
   "source": [
    "### 4.1.1 Feature Selection(Specific to Logistic Regression)\n",
    "\n",
    "- Selecting Features specific to logistic regression\n",
    "- VIF : measure of the amount of multi-collinearity in a set of multiple regressor variables. \n",
    "- On a case to case basis VIF thresholds change. Generally 5 or 10 are acceptable levels.\n",
    "- Usually on a recursive basis when removing the most collinear variable, there can be shuffle in VIF. \n",
    "- Often this section will not be part of the production code."
   ]
  },
  {
   "cell_type": "code",
   "execution_count": 74,
   "metadata": {},
   "outputs": [
    {
     "data": {
      "text/html": [
       "<div>\n",
       "<style scoped>\n",
       "    .dataframe tbody tr th:only-of-type {\n",
       "        vertical-align: middle;\n",
       "    }\n",
       "\n",
       "    .dataframe tbody tr th {\n",
       "        vertical-align: top;\n",
       "    }\n",
       "\n",
       "    .dataframe thead th {\n",
       "        text-align: right;\n",
       "    }\n",
       "</style>\n",
       "<table border=\"1\" class=\"dataframe\">\n",
       "  <thead>\n",
       "    <tr style=\"text-align: right;\">\n",
       "      <th></th>\n",
       "      <th>oppo_pro_tr_time_geo_id</th>\n",
       "      <th>transition_to_stage</th>\n",
       "      <th>transition_from_stage_name</th>\n",
       "      <th>opportunity_status</th>\n",
       "      <th>opportunity_type</th>\n",
       "      <th>core_consumption_market</th>\n",
       "      <th>core_product_segment</th>\n",
       "      <th>core_sales_segment</th>\n",
       "      <th>geography</th>\n",
       "      <th>core_product_application</th>\n",
       "      <th>stage_level</th>\n",
       "      <th>transition_time_days</th>\n",
       "      <th>decision_time_days</th>\n",
       "      <th>early_stages</th>\n",
       "      <th>did_convert</th>\n",
       "      <th>product_id</th>\n",
       "      <th>product_$</th>\n",
       "      <th>product_quantity</th>\n",
       "      <th>target</th>\n",
       "    </tr>\n",
       "  </thead>\n",
       "  <tbody>\n",
       "    <tr>\n",
       "      <th>0</th>\n",
       "      <td>opp_598_pro_557_20150415161402_4_4_closed_geo3</td>\n",
       "      <td>0.970140</td>\n",
       "      <td>0.950087</td>\n",
       "      <td>0.966951</td>\n",
       "      <td>0.499614</td>\n",
       "      <td>0.367637</td>\n",
       "      <td>0.489466</td>\n",
       "      <td>0.499836</td>\n",
       "      <td>0.464878</td>\n",
       "      <td>0.497863</td>\n",
       "      <td>1.00</td>\n",
       "      <td>6.03</td>\n",
       "      <td>24.0</td>\n",
       "      <td>0.646537</td>\n",
       "      <td>0.966951</td>\n",
       "      <td>0.666667</td>\n",
       "      <td>707400.0</td>\n",
       "      <td>1800.0</td>\n",
       "      <td>1.0</td>\n",
       "    </tr>\n",
       "    <tr>\n",
       "      <th>1</th>\n",
       "      <td>opp_20274_pro_35147_20151025050002_5_5_open_geo3</td>\n",
       "      <td>0.091408</td>\n",
       "      <td>0.362647</td>\n",
       "      <td>0.166704</td>\n",
       "      <td>0.499614</td>\n",
       "      <td>0.450390</td>\n",
       "      <td>0.489466</td>\n",
       "      <td>0.351630</td>\n",
       "      <td>0.464878</td>\n",
       "      <td>0.494337</td>\n",
       "      <td>0.25</td>\n",
       "      <td>5.00</td>\n",
       "      <td>52.0</td>\n",
       "      <td>0.234339</td>\n",
       "      <td>0.158535</td>\n",
       "      <td>0.750000</td>\n",
       "      <td>553500.0</td>\n",
       "      <td>1500.0</td>\n",
       "      <td>1.0</td>\n",
       "    </tr>\n",
       "    <tr>\n",
       "      <th>2</th>\n",
       "      <td>opp_5205_pro_5098_20150323210001_4_4_closed_geo4</td>\n",
       "      <td>0.970140</td>\n",
       "      <td>0.950087</td>\n",
       "      <td>0.966951</td>\n",
       "      <td>0.499614</td>\n",
       "      <td>0.545786</td>\n",
       "      <td>0.489466</td>\n",
       "      <td>0.499836</td>\n",
       "      <td>0.550499</td>\n",
       "      <td>0.497863</td>\n",
       "      <td>1.00</td>\n",
       "      <td>0.33</td>\n",
       "      <td>15.0</td>\n",
       "      <td>0.646537</td>\n",
       "      <td>0.966951</td>\n",
       "      <td>0.500000</td>\n",
       "      <td>1742.0</td>\n",
       "      <td>13.0</td>\n",
       "      <td>1.0</td>\n",
       "    </tr>\n",
       "    <tr>\n",
       "      <th>3</th>\n",
       "      <td>opp_22849_pro_43803_20151225050003_4_4_closed_...</td>\n",
       "      <td>0.970140</td>\n",
       "      <td>0.950087</td>\n",
       "      <td>0.966951</td>\n",
       "      <td>0.499614</td>\n",
       "      <td>0.464238</td>\n",
       "      <td>0.489466</td>\n",
       "      <td>0.499836</td>\n",
       "      <td>0.550499</td>\n",
       "      <td>0.419265</td>\n",
       "      <td>1.00</td>\n",
       "      <td>3.67</td>\n",
       "      <td>70.0</td>\n",
       "      <td>0.646537</td>\n",
       "      <td>0.966951</td>\n",
       "      <td>0.666667</td>\n",
       "      <td>23506.0</td>\n",
       "      <td>146.0</td>\n",
       "      <td>1.0</td>\n",
       "    </tr>\n",
       "    <tr>\n",
       "      <th>4</th>\n",
       "      <td>opp_263_pro_282_20150320050001_3_3_open_geo1</td>\n",
       "      <td>0.297586</td>\n",
       "      <td>0.569515</td>\n",
       "      <td>0.166704</td>\n",
       "      <td>0.499614</td>\n",
       "      <td>0.374421</td>\n",
       "      <td>0.489466</td>\n",
       "      <td>0.499836</td>\n",
       "      <td>0.230423</td>\n",
       "      <td>0.497863</td>\n",
       "      <td>0.50</td>\n",
       "      <td>8.33</td>\n",
       "      <td>15.0</td>\n",
       "      <td>0.646537</td>\n",
       "      <td>0.158535</td>\n",
       "      <td>0.600000</td>\n",
       "      <td>477700.0</td>\n",
       "      <td>1700.0</td>\n",
       "      <td>1.0</td>\n",
       "    </tr>\n",
       "    <tr>\n",
       "      <th>...</th>\n",
       "      <td>...</td>\n",
       "      <td>...</td>\n",
       "      <td>...</td>\n",
       "      <td>...</td>\n",
       "      <td>...</td>\n",
       "      <td>...</td>\n",
       "      <td>...</td>\n",
       "      <td>...</td>\n",
       "      <td>...</td>\n",
       "      <td>...</td>\n",
       "      <td>...</td>\n",
       "      <td>...</td>\n",
       "      <td>...</td>\n",
       "      <td>...</td>\n",
       "      <td>...</td>\n",
       "      <td>...</td>\n",
       "      <td>...</td>\n",
       "      <td>...</td>\n",
       "      <td>...</td>\n",
       "    </tr>\n",
       "    <tr>\n",
       "      <th>12744</th>\n",
       "      <td>opp_23070_pro_41317_20151210050003_4_4_closed_...</td>\n",
       "      <td>0.970140</td>\n",
       "      <td>0.950087</td>\n",
       "      <td>0.966951</td>\n",
       "      <td>0.499614</td>\n",
       "      <td>0.545786</td>\n",
       "      <td>0.489466</td>\n",
       "      <td>0.499836</td>\n",
       "      <td>0.550499</td>\n",
       "      <td>0.558594</td>\n",
       "      <td>1.00</td>\n",
       "      <td>5.00</td>\n",
       "      <td>69.0</td>\n",
       "      <td>0.646537</td>\n",
       "      <td>0.966951</td>\n",
       "      <td>0.500000</td>\n",
       "      <td>425.0</td>\n",
       "      <td>25.0</td>\n",
       "      <td>0.0</td>\n",
       "    </tr>\n",
       "    <tr>\n",
       "      <th>12745</th>\n",
       "      <td>opp_8625_pro_10930_20150327100401_6_0_open_geo5</td>\n",
       "      <td>0.057836</td>\n",
       "      <td>0.098784</td>\n",
       "      <td>0.166704</td>\n",
       "      <td>0.499614</td>\n",
       "      <td>0.440150</td>\n",
       "      <td>0.489466</td>\n",
       "      <td>0.499836</td>\n",
       "      <td>0.525655</td>\n",
       "      <td>0.494337</td>\n",
       "      <td>0.25</td>\n",
       "      <td>0.00</td>\n",
       "      <td>32.0</td>\n",
       "      <td>0.234339</td>\n",
       "      <td>0.158535</td>\n",
       "      <td>0.600000</td>\n",
       "      <td>722688.0</td>\n",
       "      <td>3764.0</td>\n",
       "      <td>0.0</td>\n",
       "    </tr>\n",
       "    <tr>\n",
       "      <th>12746</th>\n",
       "      <td>opp_19284_pro_33699_20151110050002_5_5_open_geo4</td>\n",
       "      <td>0.091408</td>\n",
       "      <td>0.362647</td>\n",
       "      <td>0.166704</td>\n",
       "      <td>0.499614</td>\n",
       "      <td>0.455556</td>\n",
       "      <td>0.489466</td>\n",
       "      <td>0.499836</td>\n",
       "      <td>0.550499</td>\n",
       "      <td>0.558594</td>\n",
       "      <td>0.25</td>\n",
       "      <td>5.00</td>\n",
       "      <td>112.0</td>\n",
       "      <td>0.234339</td>\n",
       "      <td>0.158535</td>\n",
       "      <td>0.500000</td>\n",
       "      <td>14040.0</td>\n",
       "      <td>120.0</td>\n",
       "      <td>0.0</td>\n",
       "    </tr>\n",
       "    <tr>\n",
       "      <th>12747</th>\n",
       "      <td>opp_20186_pro_28994_20150824210005_6_0_open_geo3</td>\n",
       "      <td>0.057836</td>\n",
       "      <td>0.098784</td>\n",
       "      <td>0.166704</td>\n",
       "      <td>0.499614</td>\n",
       "      <td>0.481184</td>\n",
       "      <td>0.489466</td>\n",
       "      <td>0.499836</td>\n",
       "      <td>0.464878</td>\n",
       "      <td>0.497863</td>\n",
       "      <td>0.25</td>\n",
       "      <td>0.00</td>\n",
       "      <td>31.0</td>\n",
       "      <td>0.234339</td>\n",
       "      <td>0.158535</td>\n",
       "      <td>0.500000</td>\n",
       "      <td>1124.0</td>\n",
       "      <td>4.0</td>\n",
       "      <td>0.0</td>\n",
       "    </tr>\n",
       "    <tr>\n",
       "      <th>12748</th>\n",
       "      <td>opp_6750_pro_9750_20150323130002_3_5_open_geo3</td>\n",
       "      <td>0.297586</td>\n",
       "      <td>0.362647</td>\n",
       "      <td>0.166704</td>\n",
       "      <td>0.499614</td>\n",
       "      <td>0.374421</td>\n",
       "      <td>0.489466</td>\n",
       "      <td>0.499836</td>\n",
       "      <td>0.464878</td>\n",
       "      <td>0.497863</td>\n",
       "      <td>0.50</td>\n",
       "      <td>5.00</td>\n",
       "      <td>13.0</td>\n",
       "      <td>0.234339</td>\n",
       "      <td>0.158535</td>\n",
       "      <td>0.666667</td>\n",
       "      <td>4500.0</td>\n",
       "      <td>500.0</td>\n",
       "      <td>0.0</td>\n",
       "    </tr>\n",
       "  </tbody>\n",
       "</table>\n",
       "<p>12749 rows × 19 columns</p>\n",
       "</div>"
      ],
      "text/plain": [
       "                                 oppo_pro_tr_time_geo_id  transition_to_stage  \\\n",
       "0         opp_598_pro_557_20150415161402_4_4_closed_geo3             0.970140   \n",
       "1       opp_20274_pro_35147_20151025050002_5_5_open_geo3             0.091408   \n",
       "2       opp_5205_pro_5098_20150323210001_4_4_closed_geo4             0.970140   \n",
       "3      opp_22849_pro_43803_20151225050003_4_4_closed_...             0.970140   \n",
       "4           opp_263_pro_282_20150320050001_3_3_open_geo1             0.297586   \n",
       "...                                                  ...                  ...   \n",
       "12744  opp_23070_pro_41317_20151210050003_4_4_closed_...             0.970140   \n",
       "12745    opp_8625_pro_10930_20150327100401_6_0_open_geo5             0.057836   \n",
       "12746   opp_19284_pro_33699_20151110050002_5_5_open_geo4             0.091408   \n",
       "12747   opp_20186_pro_28994_20150824210005_6_0_open_geo3             0.057836   \n",
       "12748     opp_6750_pro_9750_20150323130002_3_5_open_geo3             0.297586   \n",
       "\n",
       "       transition_from_stage_name  opportunity_status  opportunity_type  \\\n",
       "0                        0.950087            0.966951          0.499614   \n",
       "1                        0.362647            0.166704          0.499614   \n",
       "2                        0.950087            0.966951          0.499614   \n",
       "3                        0.950087            0.966951          0.499614   \n",
       "4                        0.569515            0.166704          0.499614   \n",
       "...                           ...                 ...               ...   \n",
       "12744                    0.950087            0.966951          0.499614   \n",
       "12745                    0.098784            0.166704          0.499614   \n",
       "12746                    0.362647            0.166704          0.499614   \n",
       "12747                    0.098784            0.166704          0.499614   \n",
       "12748                    0.362647            0.166704          0.499614   \n",
       "\n",
       "       core_consumption_market  core_product_segment  core_sales_segment  \\\n",
       "0                     0.367637              0.489466            0.499836   \n",
       "1                     0.450390              0.489466            0.351630   \n",
       "2                     0.545786              0.489466            0.499836   \n",
       "3                     0.464238              0.489466            0.499836   \n",
       "4                     0.374421              0.489466            0.499836   \n",
       "...                        ...                   ...                 ...   \n",
       "12744                 0.545786              0.489466            0.499836   \n",
       "12745                 0.440150              0.489466            0.499836   \n",
       "12746                 0.455556              0.489466            0.499836   \n",
       "12747                 0.481184              0.489466            0.499836   \n",
       "12748                 0.374421              0.489466            0.499836   \n",
       "\n",
       "       geography  core_product_application  stage_level  transition_time_days  \\\n",
       "0       0.464878                  0.497863         1.00                  6.03   \n",
       "1       0.464878                  0.494337         0.25                  5.00   \n",
       "2       0.550499                  0.497863         1.00                  0.33   \n",
       "3       0.550499                  0.419265         1.00                  3.67   \n",
       "4       0.230423                  0.497863         0.50                  8.33   \n",
       "...          ...                       ...          ...                   ...   \n",
       "12744   0.550499                  0.558594         1.00                  5.00   \n",
       "12745   0.525655                  0.494337         0.25                  0.00   \n",
       "12746   0.550499                  0.558594         0.25                  5.00   \n",
       "12747   0.464878                  0.497863         0.25                  0.00   \n",
       "12748   0.464878                  0.497863         0.50                  5.00   \n",
       "\n",
       "       decision_time_days  early_stages  did_convert  product_id  product_$  \\\n",
       "0                    24.0      0.646537     0.966951    0.666667   707400.0   \n",
       "1                    52.0      0.234339     0.158535    0.750000   553500.0   \n",
       "2                    15.0      0.646537     0.966951    0.500000     1742.0   \n",
       "3                    70.0      0.646537     0.966951    0.666667    23506.0   \n",
       "4                    15.0      0.646537     0.158535    0.600000   477700.0   \n",
       "...                   ...           ...          ...         ...        ...   \n",
       "12744                69.0      0.646537     0.966951    0.500000      425.0   \n",
       "12745                32.0      0.234339     0.158535    0.600000   722688.0   \n",
       "12746               112.0      0.234339     0.158535    0.500000    14040.0   \n",
       "12747                31.0      0.234339     0.158535    0.500000     1124.0   \n",
       "12748                13.0      0.234339     0.158535    0.666667     4500.0   \n",
       "\n",
       "       product_quantity  target  \n",
       "0                1800.0     1.0  \n",
       "1                1500.0     1.0  \n",
       "2                  13.0     1.0  \n",
       "3                 146.0     1.0  \n",
       "4                1700.0     1.0  \n",
       "...                 ...     ...  \n",
       "12744              25.0     0.0  \n",
       "12745            3764.0     0.0  \n",
       "12746             120.0     0.0  \n",
       "12747               4.0     0.0  \n",
       "12748             500.0     0.0  \n",
       "\n",
       "[12749 rows x 19 columns]"
      ]
     },
     "execution_count": 74,
     "metadata": {},
     "output_type": "execute_result"
    }
   ],
   "source": [
    "train_X"
   ]
  },
  {
   "cell_type": "code",
   "execution_count": 124,
   "metadata": {},
   "outputs": [
    {
     "name": "stdout",
     "output_type": "stream",
     "text": [
      "13\n",
      "12\n",
      "11\n",
      "10\n",
      "9\n"
     ]
    },
    {
     "data": {
      "text/plain": [
       "(['index',\n",
       "  'decision_time_days',\n",
       "  'product_id',\n",
       "  'opportunity_status',\n",
       "  'product_$',\n",
       "  'early_stages',\n",
       "  'core_product_application',\n",
       "  'transition_time_days'],\n",
       " 8)"
      ]
     },
     "execution_count": 124,
     "metadata": {},
     "output_type": "execute_result"
    }
   ],
   "source": [
    "cols_vif_analysis = curated_columns.copy()\n",
    "vif = ta_analysis.calc_vif(train_X[cols_vif_analysis])\n",
    "while vif.VIF.max() > 15:\n",
    "    #removing the largest variable from VIF\n",
    "    print(len(cols_vif_analysis))\n",
    "    cols_vif_analysis.remove(vif[(vif.VIF==vif.VIF.max())].variables.tolist()[0])\n",
    "    vif = ta_analysis.calc_vif(train_X[cols_vif_analysis])\n",
    "reg_vars = vif.variables.tolist()\n",
    "reg_vars, len(reg_vars)"
   ]
  },
  {
   "cell_type": "markdown",
   "metadata": {},
   "source": [
    "Removing Columns with very less variance"
   ]
  },
  {
   "cell_type": "code",
   "execution_count": 125,
   "metadata": {},
   "outputs": [
    {
     "data": {
      "text/plain": [
       "(['index',\n",
       "  'decision_time_days',\n",
       "  'product_id',\n",
       "  'opportunity_status',\n",
       "  'product_$',\n",
       "  'transition_time_days'],\n",
       " 6)"
      ]
     },
     "execution_count": 125,
     "metadata": {},
     "output_type": "execute_result"
    }
   ],
   "source": [
    "variance_df = (train_X[reg_vars].var())\n",
    "reg_vars=variance_df[variance_df>0.1].index.tolist()\n",
    "reg_vars, len(reg_vars)"
   ]
  },
  {
   "cell_type": "markdown",
   "metadata": {},
   "source": [
    "### 4.1.2 Data transformations"
   ]
  },
  {
   "cell_type": "markdown",
   "metadata": {},
   "source": [
    "Custom Transformations like these can be utilised in case to select different set of features for different models"
   ]
  },
  {
   "cell_type": "code",
   "execution_count": 126,
   "metadata": {},
   "outputs": [],
   "source": [
    "def custom_data_transform(df, cols2keep=[]):\n",
    "    \"\"\"Drop columns in the data.\n",
    "\n",
    "    Parameters\n",
    "    ----------\n",
    "        df:  pd.DataFrame\n",
    "            Dataframe in which requiredcolumns are to be kept\n",
    "        cols2keep: list\n",
    "            Columns to keep in the dataframe\n",
    "\n",
    "    Returns\n",
    "    -------\n",
    "        df: pd.DataFrame\n",
    "    \"\"\"\n",
    "    if len(cols2keep):\n",
    "        return df.select_columns(cols2keep)\n",
    "    else:\n",
    "        return df"
   ]
  },
  {
   "cell_type": "markdown",
   "metadata": {},
   "source": [
    "### 4.1.3 Model training pipeline\n",
    "\n",
    "- Here we focus on creating a collection of pipelines that can be used for training respective models.\n",
    "- Each model pipeline will essentially be of the form\n",
    "```\n",
    "[\n",
    "('preprocessing', preprocessing_pipeline),\n",
    "('feature_selection', feature_selection_pipeline),\n",
    "('estimator', estimator),\n",
    "]\n",
    "```"
   ]
  },
  {
   "cell_type": "markdown",
   "metadata": {},
   "source": [
    "### 4.1.4 Model Pipeline Build\n",
    "\n",
    "- This will be part of the production code (training only)."
   ]
  },
  {
   "cell_type": "code",
   "execution_count": 127,
   "metadata": {},
   "outputs": [
    {
     "name": "stdout",
     "output_type": "stream",
     "text": [
      "Optimization terminated successfully.\n",
      "         Current function value: 0.160366\n",
      "         Iterations 9\n"
     ]
    },
    {
     "data": {
      "text/html": [
       "<table class=\"simpletable\">\n",
       "<caption>Logit Regression Results</caption>\n",
       "<tr>\n",
       "  <th>Dep. Variable:</th>           <td>y</td>        <th>  No. Observations:  </th>  <td> 12749</td> \n",
       "</tr>\n",
       "<tr>\n",
       "  <th>Model:</th>                 <td>Logit</td>      <th>  Df Residuals:      </th>  <td> 12742</td> \n",
       "</tr>\n",
       "<tr>\n",
       "  <th>Method:</th>                 <td>MLE</td>       <th>  Df Model:          </th>  <td>     6</td> \n",
       "</tr>\n",
       "<tr>\n",
       "  <th>Date:</th>            <td>Sun, 27 Feb 2022</td> <th>  Pseudo R-squ.:     </th>  <td>0.7684</td> \n",
       "</tr>\n",
       "<tr>\n",
       "  <th>Time:</th>                <td>16:59:10</td>     <th>  Log-Likelihood:    </th> <td> -2044.5</td>\n",
       "</tr>\n",
       "<tr>\n",
       "  <th>converged:</th>             <td>True</td>       <th>  LL-Null:           </th> <td> -8826.0</td>\n",
       "</tr>\n",
       "<tr>\n",
       "  <th>Covariance Type:</th>     <td>nonrobust</td>    <th>  LLR p-value:       </th>  <td> 0.000</td> \n",
       "</tr>\n",
       "</table>\n",
       "<table class=\"simpletable\">\n",
       "<tr>\n",
       "            <td></td>              <th>coef</th>     <th>std err</th>      <th>z</th>      <th>P>|z|</th>  <th>[0.025</th>    <th>0.975]</th>  \n",
       "</tr>\n",
       "<tr>\n",
       "  <th>intercept</th>            <td>   -9.0101</td> <td>    0.228</td> <td>  -39.580</td> <td> 0.000</td> <td>   -9.456</td> <td>   -8.564</td>\n",
       "</tr>\n",
       "<tr>\n",
       "  <th>index</th>                <td>  4.61e-06</td> <td> 1.46e-06</td> <td>    3.162</td> <td> 0.002</td> <td> 1.75e-06</td> <td> 7.47e-06</td>\n",
       "</tr>\n",
       "<tr>\n",
       "  <th>decision_time_days</th>   <td>    0.0039</td> <td>    0.001</td> <td>    5.956</td> <td> 0.000</td> <td>    0.003</td> <td>    0.005</td>\n",
       "</tr>\n",
       "<tr>\n",
       "  <th>product_id</th>           <td>    9.8982</td> <td>    0.258</td> <td>   38.420</td> <td> 0.000</td> <td>    9.393</td> <td>   10.403</td>\n",
       "</tr>\n",
       "<tr>\n",
       "  <th>opportunity_status</th>   <td>    7.4693</td> <td>    0.168</td> <td>   44.336</td> <td> 0.000</td> <td>    7.139</td> <td>    7.800</td>\n",
       "</tr>\n",
       "<tr>\n",
       "  <th>product_$</th>            <td>-7.644e-09</td> <td> 2.57e-08</td> <td>   -0.298</td> <td> 0.766</td> <td> -5.8e-08</td> <td> 4.27e-08</td>\n",
       "</tr>\n",
       "<tr>\n",
       "  <th>transition_time_days</th> <td>    0.0391</td> <td>    0.007</td> <td>    5.295</td> <td> 0.000</td> <td>    0.025</td> <td>    0.054</td>\n",
       "</tr>\n",
       "</table>"
      ],
      "text/plain": [
       "<class 'statsmodels.iolib.summary.Summary'>\n",
       "\"\"\"\n",
       "                           Logit Regression Results                           \n",
       "==============================================================================\n",
       "Dep. Variable:                      y   No. Observations:                12749\n",
       "Model:                          Logit   Df Residuals:                    12742\n",
       "Method:                           MLE   Df Model:                            6\n",
       "Date:                Sun, 27 Feb 2022   Pseudo R-squ.:                  0.7684\n",
       "Time:                        16:59:10   Log-Likelihood:                -2044.5\n",
       "converged:                       True   LL-Null:                       -8826.0\n",
       "Covariance Type:            nonrobust   LLR p-value:                     0.000\n",
       "========================================================================================\n",
       "                           coef    std err          z      P>|z|      [0.025      0.975]\n",
       "----------------------------------------------------------------------------------------\n",
       "intercept               -9.0101      0.228    -39.580      0.000      -9.456      -8.564\n",
       "index                  4.61e-06   1.46e-06      3.162      0.002    1.75e-06    7.47e-06\n",
       "decision_time_days       0.0039      0.001      5.956      0.000       0.003       0.005\n",
       "product_id               9.8982      0.258     38.420      0.000       9.393      10.403\n",
       "opportunity_status       7.4693      0.168     44.336      0.000       7.139       7.800\n",
       "product_$            -7.644e-09   2.57e-08     -0.298      0.766    -5.8e-08    4.27e-08\n",
       "transition_time_days     0.0391      0.007      5.295      0.000       0.025       0.054\n",
       "========================================================================================\n",
       "\"\"\""
      ]
     },
     "execution_count": 127,
     "metadata": {},
     "output_type": "execute_result"
    }
   ],
   "source": [
    "ppln_logit_stats = Pipeline([\n",
    "    ('',FunctionTransformer(custom_data_transform, kw_args={'cols2keep':reg_vars})),\n",
    "    ('estimator', SKLStatsmodelLogit(method=\"l-bfgs-b\"))\n",
    "])\n",
    "ppln_logit_stats.fit(train_X, train_y['target'])\n",
    "ppln_logit_stats['estimator'].summary()"
   ]
  },
  {
   "cell_type": "markdown",
   "metadata": {},
   "source": [
    "### 4.1.5 Model Evaluation(Logistic Model)\n",
    "\n",
    "This will be part of the production code."
   ]
  },
  {
   "cell_type": "code",
   "execution_count": 128,
   "metadata": {},
   "outputs": [
    {
     "name": "stdout",
     "output_type": "stream",
     "text": [
      "Optimization terminated successfully.\n",
      "         Current function value: 0.160366\n",
      "         Iterations 9\n"
     ]
    },
    {
     "ename": "ValueError",
     "evalue": "Could not determine what to plot. Set x explicitly",
     "output_type": "error",
     "traceback": [
      "\u001b[1;31m---------------------------------------------------------------------------\u001b[0m",
      "\u001b[1;31mValueError\u001b[0m                                Traceback (most recent call last)",
      "\u001b[1;32m<ipython-input-128-e87cc3775399>\u001b[0m in \u001b[0;36m<module>\u001b[1;34m\u001b[0m\n\u001b[0;32m     16\u001b[0m \u001b[1;33m\u001b[0m\u001b[0m\n\u001b[0;32m     17\u001b[0m \u001b[0mreg_logit_report\u001b[0m \u001b[1;33m=\u001b[0m \u001b[0mClassificationReport\u001b[0m\u001b[1;33m(\u001b[0m\u001b[0mmodel\u001b[0m\u001b[1;33m=\u001b[0m\u001b[0mlogit_ppln\u001b[0m\u001b[1;33m,\u001b[0m \u001b[0mx_train\u001b[0m\u001b[1;33m=\u001b[0m\u001b[0mtrain_X\u001b[0m\u001b[1;33m,\u001b[0m \u001b[0my_train\u001b[0m\u001b[1;33m=\u001b[0m\u001b[0mtrain_y\u001b[0m\u001b[1;33m[\u001b[0m\u001b[1;34m'target'\u001b[0m\u001b[1;33m]\u001b[0m\u001b[1;33m,\u001b[0m \u001b[0mx_test\u001b[0m\u001b[1;33m=\u001b[0m \u001b[0mtest_X\u001b[0m\u001b[1;33m,\u001b[0m \u001b[0my_test\u001b[0m\u001b[1;33m=\u001b[0m \u001b[0mtest_y\u001b[0m\u001b[1;33m[\u001b[0m\u001b[1;34m'target'\u001b[0m\u001b[1;33m]\u001b[0m\u001b[1;33m,\u001b[0m \u001b[0mrefit\u001b[0m\u001b[1;33m=\u001b[0m\u001b[1;32mTrue\u001b[0m\u001b[1;33m)\u001b[0m\u001b[1;33m\u001b[0m\u001b[1;33m\u001b[0m\u001b[0m\n\u001b[1;32m---> 18\u001b[1;33m \u001b[0mreg_logit_report\u001b[0m\u001b[1;33m.\u001b[0m\u001b[0mget_report\u001b[0m\u001b[1;33m(\u001b[0m\u001b[0minclude_shap\u001b[0m\u001b[1;33m=\u001b[0m\u001b[1;32mFalse\u001b[0m\u001b[1;33m,\u001b[0m \u001b[0mfile_path\u001b[0m\u001b[1;33m=\u001b[0m\u001b[1;34m'classification_logistic_model_report'\u001b[0m\u001b[1;33m)\u001b[0m\u001b[1;33m\u001b[0m\u001b[1;33m\u001b[0m\u001b[0m\n\u001b[0m",
      "\u001b[1;32md:\\code_templates\\classification-py\\src\\ta_lib\\_vendor\\tigerml\\model_eval\\base.py\u001b[0m in \u001b[0;36mget_report\u001b[1;34m(self, format, file_path, include_shap, errorbuckets_spec, n_features, cutoff_value, **kwargs)\u001b[0m\n\u001b[0;32m   1257\u001b[0m             )\n\u001b[0;32m   1258\u001b[0m \u001b[1;33m\u001b[0m\u001b[0m\n\u001b[1;32m-> 1259\u001b[1;33m         super()._get_report(\n\u001b[0m\u001b[0;32m   1260\u001b[0m             \u001b[0mformat\u001b[0m\u001b[1;33m=\u001b[0m\u001b[0mformat\u001b[0m\u001b[1;33m,\u001b[0m\u001b[1;33m\u001b[0m\u001b[1;33m\u001b[0m\u001b[0m\n\u001b[0;32m   1261\u001b[0m             \u001b[0mfile_path\u001b[0m\u001b[1;33m=\u001b[0m\u001b[0mfile_path\u001b[0m\u001b[1;33m,\u001b[0m\u001b[1;33m\u001b[0m\u001b[1;33m\u001b[0m\u001b[0m\n",
      "\u001b[1;32md:\\code_templates\\classification-py\\src\\ta_lib\\_vendor\\tigerml\\model_eval\\base.py\u001b[0m in \u001b[0;36m_get_report\u001b[1;34m(self, format, file_path, include_shap, errorbuckets_spec, n_features, include_shap_test_error_analysis, cutoff_value, **kwargs)\u001b[0m\n\u001b[0;32m    697\u001b[0m         )\n\u001b[0;32m    698\u001b[0m         \u001b[1;32mif\u001b[0m \u001b[1;33m(\u001b[0m\u001b[0mlen\u001b[0m\u001b[1;33m(\u001b[0m\u001b[0mself\u001b[0m\u001b[1;33m.\u001b[0m\u001b[0mexplainer\u001b[0m\u001b[1;33m.\u001b[0m\u001b[0minterpretations\u001b[0m\u001b[1;33m)\u001b[0m \u001b[1;33m>\u001b[0m \u001b[1;36m0\u001b[0m\u001b[1;33m)\u001b[0m \u001b[1;32mor\u001b[0m \u001b[0mself\u001b[0m\u001b[1;33m.\u001b[0m\u001b[0mmulti_class\u001b[0m\u001b[1;33m:\u001b[0m\u001b[1;33m\u001b[0m\u001b[1;33m\u001b[0m\u001b[0m\n\u001b[1;32m--> 699\u001b[1;33m             report_dict[\"model_interpretation\"] = self.get_interpretation_report(\n\u001b[0m\u001b[0;32m    700\u001b[0m                 \u001b[0minclude_shap\u001b[0m\u001b[1;33m=\u001b[0m\u001b[0minclude_shap\u001b[0m\u001b[1;33m,\u001b[0m\u001b[1;33m\u001b[0m\u001b[1;33m\u001b[0m\u001b[0m\n\u001b[0;32m    701\u001b[0m                 \u001b[0merrorbuckets_spec\u001b[0m\u001b[1;33m=\u001b[0m\u001b[0merrorbuckets_spec\u001b[0m\u001b[1;33m,\u001b[0m\u001b[1;33m\u001b[0m\u001b[1;33m\u001b[0m\u001b[0m\n",
      "\u001b[1;32md:\\code_templates\\classification-py\\src\\ta_lib\\_vendor\\tigerml\\model_eval\\base.py\u001b[0m in \u001b[0;36mget_interpretation_report\u001b[1;34m(self, include_shap, errorbuckets_spec, n_features, include_shap_test_error_analysis)\u001b[0m\n\u001b[0;32m    673\u001b[0m                 \u001b[0mprint\u001b[0m\u001b[1;33m(\u001b[0m\u001b[1;34m\"SHAP disabled as it is not applicable for the input provided\"\u001b[0m\u001b[1;33m)\u001b[0m\u001b[1;33m\u001b[0m\u001b[1;33m\u001b[0m\u001b[0m\n\u001b[0;32m    674\u001b[0m                 \u001b[0minclude_shap\u001b[0m \u001b[1;33m=\u001b[0m \u001b[1;32mFalse\u001b[0m\u001b[1;33m\u001b[0m\u001b[1;33m\u001b[0m\u001b[0m\n\u001b[1;32m--> 675\u001b[1;33m         return self.explainer.get_plots(\n\u001b[0m\u001b[0;32m    676\u001b[0m             \u001b[0minclude_shap\u001b[0m\u001b[1;33m=\u001b[0m\u001b[0minclude_shap\u001b[0m\u001b[1;33m,\u001b[0m\u001b[1;33m\u001b[0m\u001b[1;33m\u001b[0m\u001b[0m\n\u001b[0;32m    677\u001b[0m             \u001b[0merrorbuckets_spec\u001b[0m\u001b[1;33m=\u001b[0m\u001b[0merrorbuckets_spec\u001b[0m\u001b[1;33m,\u001b[0m\u001b[1;33m\u001b[0m\u001b[1;33m\u001b[0m\u001b[0m\n",
      "\u001b[1;32md:\\code_templates\\classification-py\\src\\ta_lib\\_vendor\\tigerml\\model_eval\\plotters\\interpretation.py\u001b[0m in \u001b[0;36mget_plots\u001b[1;34m(self, include_shap, errorbuckets_spec, include_shap_test_error_analysis, n_features)\u001b[0m\n\u001b[0;32m   1260\u001b[0m                     plots_dict[\"error_analysis\"][\"residual_analysis\"][\n\u001b[0;32m   1261\u001b[0m                         \u001b[1;34m\"errorbucket_profiles\"\u001b[0m\u001b[1;33m\u001b[0m\u001b[1;33m\u001b[0m\u001b[0m\n\u001b[1;32m-> 1262\u001b[1;33m                     ] = self.get_errorbucket_profiles()\n\u001b[0m\u001b[0;32m   1263\u001b[0m                 if (\n\u001b[0;32m   1264\u001b[0m                     \u001b[1;34m\"errorbucket_drivers\"\u001b[0m\u001b[1;33m\u001b[0m\u001b[1;33m\u001b[0m\u001b[0m\n",
      "\u001b[1;32md:\\code_templates\\classification-py\\src\\ta_lib\\_vendor\\tigerml\\model_eval\\plotters\\interpretation.py\u001b[0m in \u001b[0;36mget_errorbucket_profiles\u001b[1;34m(self)\u001b[0m\n\u001b[0;32m    873\u001b[0m         \u001b[0mplots_dict\u001b[0m \u001b[1;33m=\u001b[0m \u001b[1;33m{\u001b[0m\u001b[1;33m}\u001b[0m\u001b[1;33m\u001b[0m\u001b[1;33m\u001b[0m\u001b[0m\n\u001b[0;32m    874\u001b[0m         \u001b[1;32mfor\u001b[0m \u001b[0mi\u001b[0m \u001b[1;32min\u001b[0m \u001b[0mnum_cols\u001b[0m\u001b[1;33m:\u001b[0m\u001b[1;33m\u001b[0m\u001b[1;33m\u001b[0m\u001b[0m\n\u001b[1;32m--> 875\u001b[1;33m             \u001b[0mtrain_plot\u001b[0m \u001b[1;33m=\u001b[0m \u001b[0mself\u001b[0m\u001b[1;33m.\u001b[0m\u001b[0m_residual_analysis_by_feature\u001b[0m\u001b[1;33m(\u001b[0m\u001b[0mX\u001b[0m\u001b[1;33m,\u001b[0m \u001b[0mi\u001b[0m\u001b[1;33m,\u001b[0m \u001b[1;32mFalse\u001b[0m\u001b[1;33m)\u001b[0m\u001b[1;33m\u001b[0m\u001b[1;33m\u001b[0m\u001b[0m\n\u001b[0m\u001b[0;32m    876\u001b[0m             \u001b[1;32mif\u001b[0m \u001b[0mself\u001b[0m\u001b[1;33m.\u001b[0m\u001b[0mhas_test\u001b[0m\u001b[1;33m:\u001b[0m\u001b[1;33m\u001b[0m\u001b[1;33m\u001b[0m\u001b[0m\n\u001b[0;32m    877\u001b[0m                 train_plot = (\n",
      "\u001b[1;32md:\\code_templates\\classification-py\\src\\ta_lib\\_vendor\\tigerml\\model_eval\\plotters\\interpretation.py\u001b[0m in \u001b[0;36m_residual_analysis_by_feature\u001b[1;34m(self, X, col_idv, categorical, train)\u001b[0m\n\u001b[0;32m    751\u001b[0m             \u001b[1;32mreturn\u001b[0m \u001b[0mheatmap\u001b[0m\u001b[1;33m\u001b[0m\u001b[1;33m\u001b[0m\u001b[0m\n\u001b[0;32m    752\u001b[0m         \u001b[1;32melse\u001b[0m\u001b[1;33m:\u001b[0m\u001b[1;33m\u001b[0m\u001b[1;33m\u001b[0m\u001b[0m\n\u001b[1;32m--> 753\u001b[1;33m             return dataset.hvplot.kde(\n\u001b[0m\u001b[0;32m    754\u001b[0m                 \u001b[0my\u001b[0m\u001b[1;33m=\u001b[0m\u001b[0mcol_idv\u001b[0m\u001b[1;33m,\u001b[0m\u001b[1;33m\u001b[0m\u001b[1;33m\u001b[0m\u001b[0m\n\u001b[0;32m    755\u001b[0m                 \u001b[0mby\u001b[0m\u001b[1;33m=\u001b[0m\u001b[1;34m\"errorbucket_label\"\u001b[0m\u001b[1;33m,\u001b[0m  \u001b[1;31m# Grouping by Predictions\u001b[0m\u001b[1;33m\u001b[0m\u001b[1;33m\u001b[0m\u001b[0m\n",
      "\u001b[1;32m~\\Anaconda3\\envs\\try-cla-dev-dev\\lib\\site-packages\\hvplot\\plotting\\core.py\u001b[0m in \u001b[0;36mkde\u001b[1;34m(self, y, by, **kwds)\u001b[0m\n\u001b[0;32m    419\u001b[0m             \u001b[0mThe\u001b[0m \u001b[0mHoloViews\u001b[0m \u001b[0mrepresentation\u001b[0m \u001b[0mof\u001b[0m \u001b[0mthe\u001b[0m \u001b[0mplot\u001b[0m\u001b[1;33m.\u001b[0m\u001b[1;33m\u001b[0m\u001b[1;33m\u001b[0m\u001b[0m\n\u001b[0;32m    420\u001b[0m         \"\"\"\n\u001b[1;32m--> 421\u001b[1;33m         \u001b[1;32mreturn\u001b[0m \u001b[0mself\u001b[0m\u001b[1;33m(\u001b[0m\u001b[0mkind\u001b[0m\u001b[1;33m=\u001b[0m\u001b[1;34m'kde'\u001b[0m\u001b[1;33m,\u001b[0m \u001b[0mx\u001b[0m\u001b[1;33m=\u001b[0m\u001b[1;32mNone\u001b[0m\u001b[1;33m,\u001b[0m \u001b[0my\u001b[0m\u001b[1;33m=\u001b[0m\u001b[0my\u001b[0m\u001b[1;33m,\u001b[0m \u001b[0mby\u001b[0m\u001b[1;33m=\u001b[0m\u001b[0mby\u001b[0m\u001b[1;33m,\u001b[0m \u001b[1;33m**\u001b[0m\u001b[0mkwds\u001b[0m\u001b[1;33m)\u001b[0m\u001b[1;33m\u001b[0m\u001b[1;33m\u001b[0m\u001b[0m\n\u001b[0m\u001b[0;32m    422\u001b[0m \u001b[1;33m\u001b[0m\u001b[0m\n\u001b[0;32m    423\u001b[0m     \u001b[1;32mdef\u001b[0m \u001b[0mdensity\u001b[0m\u001b[1;33m(\u001b[0m\u001b[0mself\u001b[0m\u001b[1;33m,\u001b[0m \u001b[0my\u001b[0m\u001b[1;33m=\u001b[0m\u001b[1;32mNone\u001b[0m\u001b[1;33m,\u001b[0m \u001b[0mby\u001b[0m\u001b[1;33m=\u001b[0m\u001b[1;32mNone\u001b[0m\u001b[1;33m,\u001b[0m \u001b[1;33m**\u001b[0m\u001b[0mkwds\u001b[0m\u001b[1;33m)\u001b[0m\u001b[1;33m:\u001b[0m\u001b[1;33m\u001b[0m\u001b[1;33m\u001b[0m\u001b[0m\n",
      "\u001b[1;32m~\\Anaconda3\\envs\\try-cla-dev-dev\\lib\\site-packages\\hvplot\\plotting\\core.py\u001b[0m in \u001b[0;36m__call__\u001b[1;34m(self, x, y, kind, **kwds)\u001b[0m\n\u001b[0;32m     70\u001b[0m                 \u001b[1;32mreturn\u001b[0m \u001b[0mpn\u001b[0m\u001b[1;33m.\u001b[0m\u001b[0mpanel\u001b[0m\u001b[1;33m(\u001b[0m\u001b[0mplot\u001b[0m\u001b[1;33m,\u001b[0m \u001b[1;33m**\u001b[0m\u001b[0mpanel_dict\u001b[0m\u001b[1;33m)\u001b[0m\u001b[1;33m\u001b[0m\u001b[1;33m\u001b[0m\u001b[0m\n\u001b[0;32m     71\u001b[0m \u001b[1;33m\u001b[0m\u001b[0m\n\u001b[1;32m---> 72\u001b[1;33m         \u001b[1;32mreturn\u001b[0m \u001b[0mself\u001b[0m\u001b[1;33m.\u001b[0m\u001b[0m_get_converter\u001b[0m\u001b[1;33m(\u001b[0m\u001b[0mx\u001b[0m\u001b[1;33m,\u001b[0m \u001b[0my\u001b[0m\u001b[1;33m,\u001b[0m \u001b[0mkind\u001b[0m\u001b[1;33m,\u001b[0m \u001b[1;33m**\u001b[0m\u001b[0mkwds\u001b[0m\u001b[1;33m)\u001b[0m\u001b[1;33m(\u001b[0m\u001b[0mkind\u001b[0m\u001b[1;33m,\u001b[0m \u001b[0mx\u001b[0m\u001b[1;33m,\u001b[0m \u001b[0my\u001b[0m\u001b[1;33m)\u001b[0m\u001b[1;33m\u001b[0m\u001b[1;33m\u001b[0m\u001b[0m\n\u001b[0m\u001b[0;32m     73\u001b[0m \u001b[1;33m\u001b[0m\u001b[0m\n\u001b[0;32m     74\u001b[0m     \u001b[1;32mdef\u001b[0m \u001b[0m_get_converter\u001b[0m\u001b[1;33m(\u001b[0m\u001b[0mself\u001b[0m\u001b[1;33m,\u001b[0m \u001b[0mx\u001b[0m\u001b[1;33m=\u001b[0m\u001b[1;32mNone\u001b[0m\u001b[1;33m,\u001b[0m \u001b[0my\u001b[0m\u001b[1;33m=\u001b[0m\u001b[1;32mNone\u001b[0m\u001b[1;33m,\u001b[0m \u001b[0mkind\u001b[0m\u001b[1;33m=\u001b[0m\u001b[1;32mNone\u001b[0m\u001b[1;33m,\u001b[0m \u001b[1;33m**\u001b[0m\u001b[0mkwds\u001b[0m\u001b[1;33m)\u001b[0m\u001b[1;33m:\u001b[0m\u001b[1;33m\u001b[0m\u001b[1;33m\u001b[0m\u001b[0m\n",
      "\u001b[1;32m~\\Anaconda3\\envs\\try-cla-dev-dev\\lib\\site-packages\\hvplot\\converter.py\u001b[0m in \u001b[0;36m__call__\u001b[1;34m(self, kind, x, y)\u001b[0m\n\u001b[0;32m   1022\u001b[0m                     \u001b[0mdataset\u001b[0m \u001b[1;33m=\u001b[0m \u001b[0mDataset\u001b[0m\u001b[1;33m(\u001b[0m\u001b[0mdata\u001b[0m\u001b[1;33m)\u001b[0m\u001b[1;33m\u001b[0m\u001b[1;33m\u001b[0m\u001b[0m\n\u001b[0;32m   1023\u001b[0m                     \u001b[0mdataset\u001b[0m \u001b[1;33m=\u001b[0m \u001b[0mdataset\u001b[0m\u001b[1;33m.\u001b[0m\u001b[0mredim\u001b[0m\u001b[1;33m(\u001b[0m\u001b[1;33m**\u001b[0m\u001b[0mself\u001b[0m\u001b[1;33m.\u001b[0m\u001b[0m_redim\u001b[0m\u001b[1;33m)\u001b[0m\u001b[1;33m\u001b[0m\u001b[1;33m\u001b[0m\u001b[0m\n\u001b[1;32m-> 1024\u001b[1;33m                 \u001b[0mobj\u001b[0m \u001b[1;33m=\u001b[0m \u001b[0mmethod\u001b[0m\u001b[1;33m(\u001b[0m\u001b[0mx\u001b[0m\u001b[1;33m,\u001b[0m \u001b[0my\u001b[0m\u001b[1;33m)\u001b[0m\u001b[1;33m\u001b[0m\u001b[1;33m\u001b[0m\u001b[0m\n\u001b[0m\u001b[0;32m   1025\u001b[0m                 \u001b[0mobj\u001b[0m\u001b[1;33m.\u001b[0m\u001b[0m_dataset\u001b[0m \u001b[1;33m=\u001b[0m \u001b[0mdataset\u001b[0m\u001b[1;33m\u001b[0m\u001b[1;33m\u001b[0m\u001b[0m\n\u001b[0;32m   1026\u001b[0m \u001b[1;33m\u001b[0m\u001b[0m\n",
      "\u001b[1;32m~\\Anaconda3\\envs\\try-cla-dev-dev\\lib\\site-packages\\hvplot\\converter.py\u001b[0m in \u001b[0;36mkde\u001b[1;34m(self, x, y, data)\u001b[0m\n\u001b[0;32m   1506\u001b[0m \u001b[1;33m\u001b[0m\u001b[0m\n\u001b[0;32m   1507\u001b[0m         \u001b[0mdist_opts\u001b[0m \u001b[1;33m=\u001b[0m \u001b[0mdict\u001b[0m\u001b[1;33m(\u001b[0m\u001b[0mself\u001b[0m\u001b[1;33m.\u001b[0m\u001b[0mkwds\u001b[0m\u001b[1;33m)\u001b[0m\u001b[1;33m\u001b[0m\u001b[1;33m\u001b[0m\u001b[0m\n\u001b[1;32m-> 1508\u001b[1;33m         \u001b[0mdata\u001b[0m\u001b[1;33m,\u001b[0m \u001b[0mx\u001b[0m\u001b[1;33m,\u001b[0m \u001b[0my\u001b[0m \u001b[1;33m=\u001b[0m \u001b[0mself\u001b[0m\u001b[1;33m.\u001b[0m\u001b[0m_process_chart_args\u001b[0m\u001b[1;33m(\u001b[0m\u001b[0mdata\u001b[0m\u001b[1;33m,\u001b[0m \u001b[0mx\u001b[0m\u001b[1;33m,\u001b[0m \u001b[0my\u001b[0m\u001b[1;33m)\u001b[0m\u001b[1;33m\u001b[0m\u001b[1;33m\u001b[0m\u001b[0m\n\u001b[0m\u001b[0;32m   1509\u001b[0m         \u001b[0mopts\u001b[0m \u001b[1;33m=\u001b[0m \u001b[0mself\u001b[0m\u001b[1;33m.\u001b[0m\u001b[0m_get_opts\u001b[0m\u001b[1;33m(\u001b[0m\u001b[1;34m'Distribution'\u001b[0m\u001b[1;33m)\u001b[0m\u001b[1;33m\u001b[0m\u001b[1;33m\u001b[0m\u001b[0m\n\u001b[0;32m   1510\u001b[0m         opts = {'Distribution': dict(opts, **dist_opts), 'Area': opts,\n",
      "\u001b[1;32m~\\Anaconda3\\envs\\try-cla-dev-dev\\lib\\site-packages\\hvplot\\converter.py\u001b[0m in \u001b[0;36m_process_chart_args\u001b[1;34m(self, data, x, y, single_y, categories)\u001b[0m\n\u001b[0;32m   1266\u001b[0m         \u001b[0mdata\u001b[0m \u001b[1;33m=\u001b[0m \u001b[0mself\u001b[0m\u001b[1;33m.\u001b[0m\u001b[0mdata\u001b[0m \u001b[1;32mif\u001b[0m \u001b[0mdata\u001b[0m \u001b[1;32mis\u001b[0m \u001b[1;32mNone\u001b[0m \u001b[1;32melse\u001b[0m \u001b[0mdata\u001b[0m\u001b[1;33m\u001b[0m\u001b[1;33m\u001b[0m\u001b[0m\n\u001b[0;32m   1267\u001b[0m \u001b[1;33m\u001b[0m\u001b[0m\n\u001b[1;32m-> 1268\u001b[1;33m         \u001b[0mx\u001b[0m \u001b[1;33m=\u001b[0m \u001b[0mself\u001b[0m\u001b[1;33m.\u001b[0m\u001b[0m_process_chart_x\u001b[0m\u001b[1;33m(\u001b[0m\u001b[0mdata\u001b[0m\u001b[1;33m,\u001b[0m \u001b[0mx\u001b[0m\u001b[1;33m,\u001b[0m \u001b[0my\u001b[0m\u001b[1;33m,\u001b[0m \u001b[0msingle_y\u001b[0m\u001b[1;33m,\u001b[0m \u001b[0mcategories\u001b[0m\u001b[1;33m=\u001b[0m\u001b[0mcategories\u001b[0m\u001b[1;33m)\u001b[0m\u001b[1;33m\u001b[0m\u001b[1;33m\u001b[0m\u001b[0m\n\u001b[0m\u001b[0;32m   1269\u001b[0m         \u001b[0my\u001b[0m \u001b[1;33m=\u001b[0m \u001b[0mself\u001b[0m\u001b[1;33m.\u001b[0m\u001b[0m_process_chart_y\u001b[0m\u001b[1;33m(\u001b[0m\u001b[0mdata\u001b[0m\u001b[1;33m,\u001b[0m \u001b[0mx\u001b[0m\u001b[1;33m,\u001b[0m \u001b[0my\u001b[0m\u001b[1;33m,\u001b[0m \u001b[0msingle_y\u001b[0m\u001b[1;33m)\u001b[0m\u001b[1;33m\u001b[0m\u001b[1;33m\u001b[0m\u001b[0m\n\u001b[0;32m   1270\u001b[0m \u001b[1;33m\u001b[0m\u001b[0m\n",
      "\u001b[1;32m~\\Anaconda3\\envs\\try-cla-dev-dev\\lib\\site-packages\\hvplot\\converter.py\u001b[0m in \u001b[0;36m_process_chart_x\u001b[1;34m(self, data, x, y, single_y, categories)\u001b[0m\n\u001b[0;32m   1246\u001b[0m \u001b[1;33m\u001b[0m\u001b[0m\n\u001b[0;32m   1247\u001b[0m         \u001b[1;32mif\u001b[0m \u001b[1;32mnot\u001b[0m \u001b[0mx\u001b[0m \u001b[1;32mand\u001b[0m \u001b[1;32mnot\u001b[0m \u001b[0mcategories\u001b[0m\u001b[1;33m:\u001b[0m\u001b[1;33m\u001b[0m\u001b[1;33m\u001b[0m\u001b[0m\n\u001b[1;32m-> 1248\u001b[1;33m             \u001b[1;32mraise\u001b[0m \u001b[0mValueError\u001b[0m\u001b[1;33m(\u001b[0m\u001b[1;34m'Could not determine what to plot. Set x explicitly'\u001b[0m\u001b[1;33m)\u001b[0m\u001b[1;33m\u001b[0m\u001b[1;33m\u001b[0m\u001b[0m\n\u001b[0m\u001b[0;32m   1249\u001b[0m         \u001b[1;32mreturn\u001b[0m \u001b[0mx\u001b[0m\u001b[1;33m\u001b[0m\u001b[1;33m\u001b[0m\u001b[0m\n\u001b[0;32m   1250\u001b[0m \u001b[1;33m\u001b[0m\u001b[0m\n",
      "\u001b[1;31mValueError\u001b[0m: Could not determine what to plot. Set x explicitly"
     ]
    }
   ],
   "source": [
    "logit_ppln = Pipeline([\n",
    "    ('', FunctionTransformer(custom_data_transform, kw_args={'cols2keep':reg_vars})),\n",
    "    ('estimator', SKLStatsmodelLogit(method=\"l-bfgs-b\"))\n",
    "])\n",
    "\n",
    "\n",
    "# test_X = get_dataframe(\n",
    "#     features_transformer.transform(test_X), \n",
    "#     get_feature_names_from_column_transformer(features_transformer)\n",
    "# )\n",
    "\n",
    "cols_not_in_test = list(set(curated_columns) - set(test_X.columns))\n",
    "cols_not_in_test_df = dict.fromkeys(cols_not_in_test, 0)\n",
    "test_X = test_X.assign(**cols_not_in_test_df)\n",
    "test_X = test_X[curated_columns]\n",
    "\n",
    "reg_logit_report = ClassificationReport(model=logit_ppln, x_train=train_X, y_train=train_y['target'], x_test= test_X, y_test= test_y['target'], refit=True)\n",
    "reg_logit_report.get_report(include_shap=False, file_path='classification_logistic_model_report')"
   ]
  },
  {
   "cell_type": "markdown",
   "metadata": {},
   "source": [
    "**Dev Notes**\n",
    "Use SHAP for variable interpretability.\n",
    "<details>\n",
    "\n",
    "    1. Use SHAP=True to generate variable interpretability plots in the report\n",
    "    2. SHAP is recommended for non parameteric models such as RF, xgboost.\n",
    "    3. However, SHAP reports are time consuming depending on no.of records and model complexity.\n",
    "    \n",
    "A sample of regerssion report with SHAP can be found [here](https://drive.google.com/file/d/1KW-Nmy8HlG9eyUsUpSKBlcvw7hYGONKS/view?usp=sharing).\n",
    "</details>"
   ]
  },
  {
   "cell_type": "markdown",
   "metadata": {},
   "source": [
    "### 4.1.6 Classification error analysis"
   ]
  },
  {
   "cell_type": "markdown",
   "metadata": {},
   "source": [
    "Here is a sample of error tuning for classification models. For more refer [here](https://tiger-analytic-code-templates.readthedocs-hosted.com/en/latest/code_templates/classification.html#understanding-error-patterns)"
   ]
  },
  {
   "cell_type": "code",
   "execution_count": 129,
   "metadata": {},
   "outputs": [
    {
     "name": "stderr",
     "output_type": "stream",
     "text": [
      "WARNING:param.Warning: Nesting Layouts within a HoloMap makes it difficult to access your data or control how it appears; we recommend calling .collate() on the HoloMap in order to follow the recommended nesting structure shown in the Composing Data user guide (https://goo.gl/2YS8LJ)\n",
      "Nesting Layouts within a HoloMap makes it difficult to access your data or control how it appears; we recommend calling .collate() on the HoloMap in order to follow the recommended nesting structure shown in the Composing Data user guide (https://goo.gl/2YS8LJ)\n"
     ]
    },
    {
     "data": {},
     "metadata": {},
     "output_type": "display_data"
    },
    {
     "data": {
      "application/vnd.holoviews_exec.v0+json": "",
      "text/html": [
       "<div id='30087'>\n",
       "\n",
       "\n",
       "\n",
       "\n",
       "\n",
       "  <div class=\"bk-root\" id=\"1eaf9a6c-eab8-4c42-b760-f7e20a2d9a38\" data-root-id=\"30087\"></div>\n",
       "</div>\n",
       "<script type=\"application/javascript\">(function(root) {\n",
       "  function embed_document(root) {\n",
       "  var docs_json = {\"26ac255f-8ed4-44ce-8534-c5d683279753\":{\"roots\":{\"references\":[{\"attributes\":{},\"id\":\"31011\",\"type\":\"IntEditor\"},{\"attributes\":{\"end\":18,\"format\":\"0[.]00\",\"js_property_callbacks\":{\"change:value\":[{\"id\":\"30253\"},{\"id\":\"30255\"}]},\"margin\":[0,20,20,20],\"min_width\":250,\"show_value\":false,\"start\":0,\"tooltips\":false,\"value\":9,\"width\":250},\"id\":\"30246\",\"type\":\"Slider\"},{\"attributes\":{},\"id\":\"31034\",\"type\":\"NumberFormatter\"},{\"attributes\":{},\"id\":\"31015\",\"type\":\"NumberFormatter\"},{\"attributes\":{\"columns\":[{\"id\":\"31007\"},{\"id\":\"31012\"},{\"id\":\"31017\"}],\"height\":100,\"reorderable\":false,\"source\":{\"id\":\"30092\"},\"view\":{\"id\":\"30110\"},\"width\":350},\"id\":\"30109\",\"type\":\"DataTable\"},{\"attributes\":{\"data\":{\"Actual_0\":[6424,214],\"Actual_1\":[527,5584],\"number\":[\"Predicted_0\",\"Predicted_1\"]},\"selected\":{\"id\":\"30093\"},\"selection_policy\":{\"id\":\"30134\"}},\"id\":\"30092\",\"type\":\"ColumnDataSource\"},{\"attributes\":{\"margin\":[20,0,0,20],\"name\":\"\",\"style\":{\"white-space\":\"nowrap\"},\"text\":\"decision_threshold: <b>0.5</b>\",\"width\":250},\"id\":\"30245\",\"type\":\"Div\"},{\"attributes\":{},\"id\":\"31006\",\"type\":\"StringEditor\"},{\"attributes\":{},\"id\":\"31030\",\"type\":\"IntEditor\"},{\"attributes\":{\"children\":[{\"id\":\"30142\"},{\"id\":\"30141\"}]},\"id\":\"30143\",\"type\":\"Column\"},{\"attributes\":{},\"id\":\"31005\",\"type\":\"StringFormatter\"},{\"attributes\":{\"editor\":{\"id\":\"31006\"},\"field\":\"number\",\"formatter\":{\"id\":\"31005\"},\"title\":\"#\"},\"id\":\"31007\",\"type\":\"TableColumn\"},{\"attributes\":{},\"id\":\"30093\",\"type\":\"Selection\"},{\"attributes\":{\"children\":[{\"id\":\"30091\"},{\"id\":\"30143\"},{\"id\":\"30240\"}],\"margin\":[0,0,0,0],\"name\":\"Row98010\"},\"id\":\"30090\",\"type\":\"Row\"},{\"attributes\":{\"margin\":[5,5,5,5],\"name\":\"HSpacer98012\",\"sizing_mode\":\"stretch_width\"},\"id\":\"30248\",\"type\":\"Spacer\"},{\"attributes\":{\"columns\":[{\"id\":\"31026\"},{\"id\":\"31031\"},{\"id\":\"31036\"}],\"height\":100,\"reorderable\":false,\"source\":{\"id\":\"30113\"},\"view\":{\"id\":\"30131\"},\"width\":350},\"id\":\"30130\",\"type\":\"DataTable\"},{\"attributes\":{},\"id\":\"31029\",\"type\":\"NumberFormatter\"},{\"attributes\":{\"children\":[{\"id\":\"30244\"}],\"css_classes\":[\"panel-widget-box\"],\"margin\":[5,5,5,5],\"name\":\"WidgetBox97990\"},\"id\":\"30243\",\"type\":\"Column\"},{\"attributes\":{\"editor\":{\"id\":\"31011\"},\"field\":\"Actual_0\",\"formatter\":{\"id\":\"31010\"},\"title\":\"Actual_0\"},\"id\":\"31012\",\"type\":\"TableColumn\"},{\"attributes\":{\"editor\":{\"id\":\"31025\"},\"field\":\"number\",\"formatter\":{\"id\":\"31024\"},\"title\":\"#\"},\"id\":\"31026\",\"type\":\"TableColumn\"},{\"attributes\":{},\"id\":\"31024\",\"type\":\"StringFormatter\"},{\"attributes\":{\"children\":[{\"id\":\"30140\"},{\"id\":\"30138\"}]},\"id\":\"30141\",\"type\":\"Column\"},{\"attributes\":{\"toolbar\":{\"id\":\"30139\"},\"toolbar_location\":\"above\"},\"id\":\"30140\",\"type\":\"ToolbarBox\"},{\"attributes\":{\"children\":[{\"id\":\"30132\"},{\"id\":\"30130\"}]},\"id\":\"30133\",\"type\":\"Column\"},{\"attributes\":{\"source\":{\"id\":\"30113\"}},\"id\":\"30131\",\"type\":\"CDSView\"},{\"attributes\":{\"state\":{\"0\":{\"content\":\"{\\\"events\\\": [{\\\"attr\\\": \\\"columns\\\", \\\"kind\\\": \\\"ModelChanged\\\", \\\"model\\\": {\\\"id\\\": \\\"30109\\\"}, \\\"new\\\": [{\\\"id\\\": \\\"30968\\\"}, {\\\"id\\\": \\\"30973\\\"}, {\\\"id\\\": \\\"30978\\\"}]}, {\\\"cols\\\": null, \\\"column_source\\\": {\\\"id\\\": \\\"30092\\\"}, \\\"kind\\\": \\\"ColumnDataChanged\\\", \\\"new\\\": {\\\"Actual_0\\\": [4125, 2513], \\\"Actual_1\\\": [62, 6049], \\\"number\\\": [\\\"Predicted_0\\\", \\\"Predicted_1\\\"]}}, {\\\"attr\\\": \\\"columns\\\", \\\"kind\\\": \\\"ModelChanged\\\", \\\"model\\\": {\\\"id\\\": \\\"30130\\\"}, \\\"new\\\": [{\\\"id\\\": \\\"30987\\\"}, {\\\"id\\\": \\\"30992\\\"}, {\\\"id\\\": \\\"30997\\\"}]}, {\\\"cols\\\": null, \\\"column_source\\\": {\\\"id\\\": \\\"30113\\\"}, \\\"kind\\\": \\\"ColumnDataChanged\\\", \\\"new\\\": {\\\"Actual_0\\\": [1030, 630], \\\"Actual_1\\\": [11, 1517], \\\"number\\\": [\\\"Predicted_0\\\", \\\"Predicted_1\\\"]}}, {\\\"attr\\\": \\\"text\\\", \\\"kind\\\": \\\"ModelChanged\\\", \\\"model\\\": {\\\"id\\\": \\\"30142\\\"}, \\\"new\\\": \\\"<span style=\\\\\\\"color:black;font-family:Arial;font-style:bold;font-weight:bold;font-size:12pt\\\\\\\">decision_threshold: 0.05<\\\\/span>\\\"}], \\\"references\\\": [{\\\"attributes\\\": {\\\"editor\\\": {\\\"id\\\": \\\"30977\\\"}, \\\"field\\\": \\\"Actual_1\\\", \\\"formatter\\\": {\\\"id\\\": \\\"30976\\\"}, \\\"title\\\": \\\"Actual_1\\\"}, \\\"id\\\": \\\"30978\\\", \\\"type\\\": \\\"TableColumn\\\"}, {\\\"attributes\\\": {}, \\\"id\\\": \\\"30986\\\", \\\"type\\\": \\\"StringEditor\\\"}, {\\\"attributes\\\": {\\\"editor\\\": {\\\"id\\\": \\\"30967\\\"}, \\\"field\\\": \\\"number\\\", \\\"formatter\\\": {\\\"id\\\": \\\"30966\\\"}, \\\"title\\\": \\\"#\\\"}, \\\"id\\\": \\\"30968\\\", \\\"type\\\": \\\"TableColumn\\\"}, {\\\"attributes\\\": {}, \\\"id\\\": \\\"30966\\\", \\\"type\\\": \\\"StringFormatter\\\"}, {\\\"attributes\\\": {}, \\\"id\\\": \\\"30976\\\", \\\"type\\\": \\\"NumberFormatter\\\"}, {\\\"attributes\\\": {}, \\\"id\\\": \\\"30991\\\", \\\"type\\\": \\\"IntEditor\\\"}, {\\\"attributes\\\": {\\\"editor\\\": {\\\"id\\\": \\\"30986\\\"}, \\\"field\\\": \\\"number\\\", \\\"formatter\\\": {\\\"id\\\": \\\"30985\\\"}, \\\"title\\\": \\\"#\\\"}, \\\"id\\\": \\\"30987\\\", \\\"type\\\": \\\"TableColumn\\\"}, {\\\"attributes\\\": {}, \\\"id\\\": \\\"30985\\\", \\\"type\\\": \\\"StringFormatter\\\"}, {\\\"attributes\\\": {}, \\\"id\\\": \\\"30972\\\", \\\"type\\\": \\\"IntEditor\\\"}, {\\\"attributes\\\": {}, \\\"id\\\": \\\"30996\\\", \\\"type\\\": \\\"IntEditor\\\"}, {\\\"attributes\\\": {}, \\\"id\\\": \\\"30967\\\", \\\"type\\\": \\\"StringEditor\\\"}, {\\\"attributes\\\": {\\\"editor\\\": {\\\"id\\\": \\\"30991\\\"}, \\\"field\\\": \\\"Actual_0\\\", \\\"formatter\\\": {\\\"id\\\": \\\"30990\\\"}, \\\"title\\\": \\\"Actual_0\\\"}, \\\"id\\\": \\\"30992\\\", \\\"type\\\": \\\"TableColumn\\\"}, {\\\"attributes\\\": {}, \\\"id\\\": \\\"30977\\\", \\\"type\\\": \\\"IntEditor\\\"}, {\\\"attributes\\\": {}, \\\"id\\\": \\\"30971\\\", \\\"type\\\": \\\"NumberFormatter\\\"}, {\\\"attributes\\\": {}, \\\"id\\\": \\\"30990\\\", \\\"type\\\": \\\"NumberFormatter\\\"}, {\\\"attributes\\\": {\\\"editor\\\": {\\\"id\\\": \\\"30996\\\"}, \\\"field\\\": \\\"Actual_1\\\", \\\"formatter\\\": {\\\"id\\\": \\\"30995\\\"}, \\\"title\\\": \\\"Actual_1\\\"}, \\\"id\\\": \\\"30997\\\", \\\"type\\\": \\\"TableColumn\\\"}, {\\\"attributes\\\": {\\\"editor\\\": {\\\"id\\\": \\\"30972\\\"}, \\\"field\\\": \\\"Actual_0\\\", \\\"formatter\\\": {\\\"id\\\": \\\"30971\\\"}, \\\"title\\\": \\\"Actual_0\\\"}, \\\"id\\\": \\\"30973\\\", \\\"type\\\": \\\"TableColumn\\\"}, {\\\"attributes\\\": {}, \\\"id\\\": \\\"30995\\\", \\\"type\\\": \\\"NumberFormatter\\\"}]}\",\"header\":\"{\\\"msgid\\\": \\\"31004\\\", \\\"msgtype\\\": \\\"PATCH-DOC\\\"}\",\"metadata\":\"{}\"},\"1\":{\"content\":\"{\\\"events\\\": [{\\\"attr\\\": \\\"columns\\\", \\\"kind\\\": \\\"ModelChanged\\\", \\\"model\\\": {\\\"id\\\": \\\"30109\\\"}, \\\"new\\\": [{\\\"id\\\": \\\"30929\\\"}, {\\\"id\\\": \\\"30934\\\"}, {\\\"id\\\": \\\"30939\\\"}]}, {\\\"cols\\\": null, \\\"column_source\\\": {\\\"id\\\": \\\"30092\\\"}, \\\"kind\\\": \\\"ColumnDataChanged\\\", \\\"new\\\": {\\\"Actual_0\\\": [4859, 1779], \\\"Actual_1\\\": [123, 5988], \\\"number\\\": [\\\"Predicted_0\\\", \\\"Predicted_1\\\"]}}, {\\\"attr\\\": \\\"columns\\\", \\\"kind\\\": \\\"ModelChanged\\\", \\\"model\\\": {\\\"id\\\": \\\"30130\\\"}, \\\"new\\\": [{\\\"id\\\": \\\"30948\\\"}, {\\\"id\\\": \\\"30953\\\"}, {\\\"id\\\": \\\"30958\\\"}]}, {\\\"cols\\\": null, \\\"column_source\\\": {\\\"id\\\": \\\"30113\\\"}, \\\"kind\\\": \\\"ColumnDataChanged\\\", \\\"new\\\": {\\\"Actual_0\\\": [1215, 445], \\\"Actual_1\\\": [20, 1508], \\\"number\\\": [\\\"Predicted_0\\\", \\\"Predicted_1\\\"]}}, {\\\"attr\\\": \\\"text\\\", \\\"kind\\\": \\\"ModelChanged\\\", \\\"model\\\": {\\\"id\\\": \\\"30142\\\"}, \\\"new\\\": \\\"<span style=\\\\\\\"color:black;font-family:Arial;font-style:bold;font-weight:bold;font-size:12pt\\\\\\\">decision_threshold: 0.1<\\\\/span>\\\"}], \\\"references\\\": [{\\\"attributes\\\": {}, \\\"id\\\": \\\"30957\\\", \\\"type\\\": \\\"IntEditor\\\"}, {\\\"attributes\\\": {}, \\\"id\\\": \\\"30938\\\", \\\"type\\\": \\\"IntEditor\\\"}, {\\\"attributes\\\": {}, \\\"id\\\": \\\"30927\\\", \\\"type\\\": \\\"StringFormatter\\\"}, {\\\"attributes\\\": {\\\"editor\\\": {\\\"id\\\": \\\"30947\\\"}, \\\"field\\\": \\\"number\\\", \\\"formatter\\\": {\\\"id\\\": \\\"30946\\\"}, \\\"title\\\": \\\"#\\\"}, \\\"id\\\": \\\"30948\\\", \\\"type\\\": \\\"TableColumn\\\"}, {\\\"attributes\\\": {}, \\\"id\\\": \\\"30951\\\", \\\"type\\\": \\\"NumberFormatter\\\"}, {\\\"attributes\\\": {}, \\\"id\\\": \\\"30933\\\", \\\"type\\\": \\\"IntEditor\\\"}, {\\\"attributes\\\": {}, \\\"id\\\": \\\"30947\\\", \\\"type\\\": \\\"StringEditor\\\"}, {\\\"attributes\\\": {}, \\\"id\\\": \\\"30937\\\", \\\"type\\\": \\\"NumberFormatter\\\"}, {\\\"attributes\\\": {}, \\\"id\\\": \\\"30946\\\", \\\"type\\\": \\\"StringFormatter\\\"}, {\\\"attributes\\\": {}, \\\"id\\\": \\\"30956\\\", \\\"type\\\": \\\"NumberFormatter\\\"}, {\\\"attributes\\\": {\\\"editor\\\": {\\\"id\\\": \\\"30938\\\"}, \\\"field\\\": \\\"Actual_1\\\", \\\"formatter\\\": {\\\"id\\\": \\\"30937\\\"}, \\\"title\\\": \\\"Actual_1\\\"}, \\\"id\\\": \\\"30939\\\", \\\"type\\\": \\\"TableColumn\\\"}, {\\\"attributes\\\": {\\\"editor\\\": {\\\"id\\\": \\\"30933\\\"}, \\\"field\\\": \\\"Actual_0\\\", \\\"formatter\\\": {\\\"id\\\": \\\"30932\\\"}, \\\"title\\\": \\\"Actual_0\\\"}, \\\"id\\\": \\\"30934\\\", \\\"type\\\": \\\"TableColumn\\\"}, {\\\"attributes\\\": {}, \\\"id\\\": \\\"30928\\\", \\\"type\\\": \\\"StringEditor\\\"}, {\\\"attributes\\\": {}, \\\"id\\\": \\\"30932\\\", \\\"type\\\": \\\"NumberFormatter\\\"}, {\\\"attributes\\\": {\\\"editor\\\": {\\\"id\\\": \\\"30957\\\"}, \\\"field\\\": \\\"Actual_1\\\", \\\"formatter\\\": {\\\"id\\\": \\\"30956\\\"}, \\\"title\\\": \\\"Actual_1\\\"}, \\\"id\\\": \\\"30958\\\", \\\"type\\\": \\\"TableColumn\\\"}, {\\\"attributes\\\": {}, \\\"id\\\": \\\"30952\\\", \\\"type\\\": \\\"IntEditor\\\"}, {\\\"attributes\\\": {\\\"editor\\\": {\\\"id\\\": \\\"30928\\\"}, \\\"field\\\": \\\"number\\\", \\\"formatter\\\": {\\\"id\\\": \\\"30927\\\"}, \\\"title\\\": \\\"#\\\"}, \\\"id\\\": \\\"30929\\\", \\\"type\\\": \\\"TableColumn\\\"}, {\\\"attributes\\\": {\\\"editor\\\": {\\\"id\\\": \\\"30952\\\"}, \\\"field\\\": \\\"Actual_0\\\", \\\"formatter\\\": {\\\"id\\\": \\\"30951\\\"}, \\\"title\\\": \\\"Actual_0\\\"}, \\\"id\\\": \\\"30953\\\", \\\"type\\\": \\\"TableColumn\\\"}]}\",\"header\":\"{\\\"msgid\\\": \\\"30965\\\", \\\"msgtype\\\": \\\"PATCH-DOC\\\"}\",\"metadata\":\"{}\"},\"10\":{\"content\":\"{\\\"events\\\": [{\\\"attr\\\": \\\"columns\\\", \\\"kind\\\": \\\"ModelChanged\\\", \\\"model\\\": {\\\"id\\\": \\\"30109\\\"}, \\\"new\\\": [{\\\"id\\\": \\\"30578\\\"}, {\\\"id\\\": \\\"30583\\\"}, {\\\"id\\\": \\\"30588\\\"}]}, {\\\"cols\\\": null, \\\"column_source\\\": {\\\"id\\\": \\\"30092\\\"}, \\\"kind\\\": \\\"ColumnDataChanged\\\", \\\"new\\\": {\\\"Actual_0\\\": [6498, 140], \\\"Actual_1\\\": [546, 5565], \\\"number\\\": [\\\"Predicted_0\\\", \\\"Predicted_1\\\"]}}, {\\\"attr\\\": \\\"columns\\\", \\\"kind\\\": \\\"ModelChanged\\\", \\\"model\\\": {\\\"id\\\": \\\"30130\\\"}, \\\"new\\\": [{\\\"id\\\": \\\"30597\\\"}, {\\\"id\\\": \\\"30602\\\"}, {\\\"id\\\": \\\"30607\\\"}]}, {\\\"cols\\\": null, \\\"column_source\\\": {\\\"id\\\": \\\"30113\\\"}, \\\"kind\\\": \\\"ColumnDataChanged\\\", \\\"new\\\": {\\\"Actual_0\\\": [1624, 36], \\\"Actual_1\\\": [130, 1398], \\\"number\\\": [\\\"Predicted_0\\\", \\\"Predicted_1\\\"]}}, {\\\"attr\\\": \\\"text\\\", \\\"kind\\\": \\\"ModelChanged\\\", \\\"model\\\": {\\\"id\\\": \\\"30142\\\"}, \\\"new\\\": \\\"<span style=\\\\\\\"color:black;font-family:Arial;font-style:bold;font-weight:bold;font-size:12pt\\\\\\\">decision_threshold: 0.55<\\\\/span>\\\"}], \\\"references\\\": [{\\\"attributes\\\": {}, \\\"id\\\": \\\"30596\\\", \\\"type\\\": \\\"StringEditor\\\"}, {\\\"attributes\\\": {\\\"editor\\\": {\\\"id\\\": \\\"30606\\\"}, \\\"field\\\": \\\"Actual_1\\\", \\\"formatter\\\": {\\\"id\\\": \\\"30605\\\"}, \\\"title\\\": \\\"Actual_1\\\"}, \\\"id\\\": \\\"30607\\\", \\\"type\\\": \\\"TableColumn\\\"}, {\\\"attributes\\\": {}, \\\"id\\\": \\\"30582\\\", \\\"type\\\": \\\"IntEditor\\\"}, {\\\"attributes\\\": {}, \\\"id\\\": \\\"30577\\\", \\\"type\\\": \\\"StringEditor\\\"}, {\\\"attributes\\\": {}, \\\"id\\\": \\\"30606\\\", \\\"type\\\": \\\"IntEditor\\\"}, {\\\"attributes\\\": {}, \\\"id\\\": \\\"30605\\\", \\\"type\\\": \\\"NumberFormatter\\\"}, {\\\"attributes\\\": {\\\"editor\\\": {\\\"id\\\": \\\"30596\\\"}, \\\"field\\\": \\\"number\\\", \\\"formatter\\\": {\\\"id\\\": \\\"30595\\\"}, \\\"title\\\": \\\"#\\\"}, \\\"id\\\": \\\"30597\\\", \\\"type\\\": \\\"TableColumn\\\"}, {\\\"attributes\\\": {}, \\\"id\\\": \\\"30595\\\", \\\"type\\\": \\\"StringFormatter\\\"}, {\\\"attributes\\\": {\\\"editor\\\": {\\\"id\\\": \\\"30587\\\"}, \\\"field\\\": \\\"Actual_1\\\", \\\"formatter\\\": {\\\"id\\\": \\\"30586\\\"}, \\\"title\\\": \\\"Actual_1\\\"}, \\\"id\\\": \\\"30588\\\", \\\"type\\\": \\\"TableColumn\\\"}, {\\\"attributes\\\": {\\\"editor\\\": {\\\"id\\\": \\\"30577\\\"}, \\\"field\\\": \\\"number\\\", \\\"formatter\\\": {\\\"id\\\": \\\"30576\\\"}, \\\"title\\\": \\\"#\\\"}, \\\"id\\\": \\\"30578\\\", \\\"type\\\": \\\"TableColumn\\\"}, {\\\"attributes\\\": {}, \\\"id\\\": \\\"30587\\\", \\\"type\\\": \\\"IntEditor\\\"}, {\\\"attributes\\\": {}, \\\"id\\\": \\\"30600\\\", \\\"type\\\": \\\"NumberFormatter\\\"}, {\\\"attributes\\\": {}, \\\"id\\\": \\\"30576\\\", \\\"type\\\": \\\"StringFormatter\\\"}, {\\\"attributes\\\": {}, \\\"id\\\": \\\"30601\\\", \\\"type\\\": \\\"IntEditor\\\"}, {\\\"attributes\\\": {\\\"editor\\\": {\\\"id\\\": \\\"30582\\\"}, \\\"field\\\": \\\"Actual_0\\\", \\\"formatter\\\": {\\\"id\\\": \\\"30581\\\"}, \\\"title\\\": \\\"Actual_0\\\"}, \\\"id\\\": \\\"30583\\\", \\\"type\\\": \\\"TableColumn\\\"}, {\\\"attributes\\\": {}, \\\"id\\\": \\\"30586\\\", \\\"type\\\": \\\"NumberFormatter\\\"}, {\\\"attributes\\\": {\\\"editor\\\": {\\\"id\\\": \\\"30601\\\"}, \\\"field\\\": \\\"Actual_0\\\", \\\"formatter\\\": {\\\"id\\\": \\\"30600\\\"}, \\\"title\\\": \\\"Actual_0\\\"}, \\\"id\\\": \\\"30602\\\", \\\"type\\\": \\\"TableColumn\\\"}, {\\\"attributes\\\": {}, \\\"id\\\": \\\"30581\\\", \\\"type\\\": \\\"NumberFormatter\\\"}]}\",\"header\":\"{\\\"msgid\\\": \\\"30614\\\", \\\"msgtype\\\": \\\"PATCH-DOC\\\"}\",\"metadata\":\"{}\"},\"11\":{\"content\":\"{\\\"events\\\": [{\\\"attr\\\": \\\"columns\\\", \\\"kind\\\": \\\"ModelChanged\\\", \\\"model\\\": {\\\"id\\\": \\\"30109\\\"}, \\\"new\\\": [{\\\"id\\\": \\\"30539\\\"}, {\\\"id\\\": \\\"30544\\\"}, {\\\"id\\\": \\\"30549\\\"}]}, {\\\"cols\\\": null, \\\"column_source\\\": {\\\"id\\\": \\\"30092\\\"}, \\\"kind\\\": \\\"ColumnDataChanged\\\", \\\"new\\\": {\\\"Actual_0\\\": [6536, 102], \\\"Actual_1\\\": [601, 5510], \\\"number\\\": [\\\"Predicted_0\\\", \\\"Predicted_1\\\"]}}, {\\\"attr\\\": \\\"columns\\\", \\\"kind\\\": \\\"ModelChanged\\\", \\\"model\\\": {\\\"id\\\": \\\"30130\\\"}, \\\"new\\\": [{\\\"id\\\": \\\"30558\\\"}, {\\\"id\\\": \\\"30563\\\"}, {\\\"id\\\": \\\"30568\\\"}]}, {\\\"cols\\\": null, \\\"column_source\\\": {\\\"id\\\": \\\"30113\\\"}, \\\"kind\\\": \\\"ColumnDataChanged\\\", \\\"new\\\": {\\\"Actual_0\\\": [1633, 27], \\\"Actual_1\\\": [144, 1384], \\\"number\\\": [\\\"Predicted_0\\\", \\\"Predicted_1\\\"]}}, {\\\"attr\\\": \\\"text\\\", \\\"kind\\\": \\\"ModelChanged\\\", \\\"model\\\": {\\\"id\\\": \\\"30142\\\"}, \\\"new\\\": \\\"<span style=\\\\\\\"color:black;font-family:Arial;font-style:bold;font-weight:bold;font-size:12pt\\\\\\\">decision_threshold: 0.6<\\\\/span>\\\"}], \\\"references\\\": [{\\\"attributes\\\": {}, \\\"id\\\": \\\"30547\\\", \\\"type\\\": \\\"NumberFormatter\\\"}, {\\\"attributes\\\": {}, \\\"id\\\": \\\"30561\\\", \\\"type\\\": \\\"NumberFormatter\\\"}, {\\\"attributes\\\": {}, \\\"id\\\": \\\"30562\\\", \\\"type\\\": \\\"IntEditor\\\"}, {\\\"attributes\\\": {}, \\\"id\\\": \\\"30567\\\", \\\"type\\\": \\\"IntEditor\\\"}, {\\\"attributes\\\": {}, \\\"id\\\": \\\"30556\\\", \\\"type\\\": \\\"StringFormatter\\\"}, {\\\"attributes\\\": {\\\"editor\\\": {\\\"id\\\": \\\"30543\\\"}, \\\"field\\\": \\\"Actual_0\\\", \\\"formatter\\\": {\\\"id\\\": \\\"30542\\\"}, \\\"title\\\": \\\"Actual_0\\\"}, \\\"id\\\": \\\"30544\\\", \\\"type\\\": \\\"TableColumn\\\"}, {\\\"attributes\\\": {}, \\\"id\\\": \\\"30538\\\", \\\"type\\\": \\\"StringEditor\\\"}, {\\\"attributes\\\": {\\\"editor\\\": {\\\"id\\\": \\\"30548\\\"}, \\\"field\\\": \\\"Actual_1\\\", \\\"formatter\\\": {\\\"id\\\": \\\"30547\\\"}, \\\"title\\\": \\\"Actual_1\\\"}, \\\"id\\\": \\\"30549\\\", \\\"type\\\": \\\"TableColumn\\\"}, {\\\"attributes\\\": {}, \\\"id\\\": \\\"30543\\\", \\\"type\\\": \\\"IntEditor\\\"}, {\\\"attributes\\\": {\\\"editor\\\": {\\\"id\\\": \\\"30557\\\"}, \\\"field\\\": \\\"number\\\", \\\"formatter\\\": {\\\"id\\\": \\\"30556\\\"}, \\\"title\\\": \\\"#\\\"}, \\\"id\\\": \\\"30558\\\", \\\"type\\\": \\\"TableColumn\\\"}, {\\\"attributes\\\": {\\\"editor\\\": {\\\"id\\\": \\\"30562\\\"}, \\\"field\\\": \\\"Actual_0\\\", \\\"formatter\\\": {\\\"id\\\": \\\"30561\\\"}, \\\"title\\\": \\\"Actual_0\\\"}, \\\"id\\\": \\\"30563\\\", \\\"type\\\": \\\"TableColumn\\\"}, {\\\"attributes\\\": {}, \\\"id\\\": \\\"30542\\\", \\\"type\\\": \\\"NumberFormatter\\\"}, {\\\"attributes\\\": {}, \\\"id\\\": \\\"30557\\\", \\\"type\\\": \\\"StringEditor\\\"}, {\\\"attributes\\\": {\\\"editor\\\": {\\\"id\\\": \\\"30538\\\"}, \\\"field\\\": \\\"number\\\", \\\"formatter\\\": {\\\"id\\\": \\\"30537\\\"}, \\\"title\\\": \\\"#\\\"}, \\\"id\\\": \\\"30539\\\", \\\"type\\\": \\\"TableColumn\\\"}, {\\\"attributes\\\": {\\\"editor\\\": {\\\"id\\\": \\\"30567\\\"}, \\\"field\\\": \\\"Actual_1\\\", \\\"formatter\\\": {\\\"id\\\": \\\"30566\\\"}, \\\"title\\\": \\\"Actual_1\\\"}, \\\"id\\\": \\\"30568\\\", \\\"type\\\": \\\"TableColumn\\\"}, {\\\"attributes\\\": {}, \\\"id\\\": \\\"30537\\\", \\\"type\\\": \\\"StringFormatter\\\"}, {\\\"attributes\\\": {}, \\\"id\\\": \\\"30548\\\", \\\"type\\\": \\\"IntEditor\\\"}, {\\\"attributes\\\": {}, \\\"id\\\": \\\"30566\\\", \\\"type\\\": \\\"NumberFormatter\\\"}]}\",\"header\":\"{\\\"msgid\\\": \\\"30575\\\", \\\"msgtype\\\": \\\"PATCH-DOC\\\"}\",\"metadata\":\"{}\"},\"12\":{\"content\":\"{\\\"events\\\": [{\\\"attr\\\": \\\"columns\\\", \\\"kind\\\": \\\"ModelChanged\\\", \\\"model\\\": {\\\"id\\\": \\\"30109\\\"}, \\\"new\\\": [{\\\"id\\\": \\\"30500\\\"}, {\\\"id\\\": \\\"30505\\\"}, {\\\"id\\\": \\\"30510\\\"}]}, {\\\"cols\\\": null, \\\"column_source\\\": {\\\"id\\\": \\\"30092\\\"}, \\\"kind\\\": \\\"ColumnDataChanged\\\", \\\"new\\\": {\\\"Actual_0\\\": [6559, 79], \\\"Actual_1\\\": [641, 5470], \\\"number\\\": [\\\"Predicted_0\\\", \\\"Predicted_1\\\"]}}, {\\\"attr\\\": \\\"columns\\\", \\\"kind\\\": \\\"ModelChanged\\\", \\\"model\\\": {\\\"id\\\": \\\"30130\\\"}, \\\"new\\\": [{\\\"id\\\": \\\"30519\\\"}, {\\\"id\\\": \\\"30524\\\"}, {\\\"id\\\": \\\"30529\\\"}]}, {\\\"cols\\\": null, \\\"column_source\\\": {\\\"id\\\": \\\"30113\\\"}, \\\"kind\\\": \\\"ColumnDataChanged\\\", \\\"new\\\": {\\\"Actual_0\\\": [1637, 23], \\\"Actual_1\\\": [161, 1367], \\\"number\\\": [\\\"Predicted_0\\\", \\\"Predicted_1\\\"]}}, {\\\"attr\\\": \\\"text\\\", \\\"kind\\\": \\\"ModelChanged\\\", \\\"model\\\": {\\\"id\\\": \\\"30142\\\"}, \\\"new\\\": \\\"<span style=\\\\\\\"color:black;font-family:Arial;font-style:bold;font-weight:bold;font-size:12pt\\\\\\\">decision_threshold: 0.65<\\\\/span>\\\"}], \\\"references\\\": [{\\\"attributes\\\": {}, \\\"id\\\": \\\"30498\\\", \\\"type\\\": \\\"StringFormatter\\\"}, {\\\"attributes\\\": {}, \\\"id\\\": \\\"30523\\\", \\\"type\\\": \\\"IntEditor\\\"}, {\\\"attributes\\\": {}, \\\"id\\\": \\\"30517\\\", \\\"type\\\": \\\"StringFormatter\\\"}, {\\\"attributes\\\": {}, \\\"id\\\": \\\"30508\\\", \\\"type\\\": \\\"NumberFormatter\\\"}, {\\\"attributes\\\": {}, \\\"id\\\": \\\"30527\\\", \\\"type\\\": \\\"NumberFormatter\\\"}, {\\\"attributes\\\": {\\\"editor\\\": {\\\"id\\\": \\\"30528\\\"}, \\\"field\\\": \\\"Actual_1\\\", \\\"formatter\\\": {\\\"id\\\": \\\"30527\\\"}, \\\"title\\\": \\\"Actual_1\\\"}, \\\"id\\\": \\\"30529\\\", \\\"type\\\": \\\"TableColumn\\\"}, {\\\"attributes\\\": {\\\"editor\\\": {\\\"id\\\": \\\"30523\\\"}, \\\"field\\\": \\\"Actual_0\\\", \\\"formatter\\\": {\\\"id\\\": \\\"30522\\\"}, \\\"title\\\": \\\"Actual_0\\\"}, \\\"id\\\": \\\"30524\\\", \\\"type\\\": \\\"TableColumn\\\"}, {\\\"attributes\\\": {}, \\\"id\\\": \\\"30503\\\", \\\"type\\\": \\\"NumberFormatter\\\"}, {\\\"attributes\\\": {}, \\\"id\\\": \\\"30504\\\", \\\"type\\\": \\\"IntEditor\\\"}, {\\\"attributes\\\": {\\\"editor\\\": {\\\"id\\\": \\\"30504\\\"}, \\\"field\\\": \\\"Actual_0\\\", \\\"formatter\\\": {\\\"id\\\": \\\"30503\\\"}, \\\"title\\\": \\\"Actual_0\\\"}, \\\"id\\\": \\\"30505\\\", \\\"type\\\": \\\"TableColumn\\\"}, {\\\"attributes\\\": {}, \\\"id\\\": \\\"30509\\\", \\\"type\\\": \\\"IntEditor\\\"}, {\\\"attributes\\\": {}, \\\"id\\\": \\\"30518\\\", \\\"type\\\": \\\"StringEditor\\\"}, {\\\"attributes\\\": {\\\"editor\\\": {\\\"id\\\": \\\"30499\\\"}, \\\"field\\\": \\\"number\\\", \\\"formatter\\\": {\\\"id\\\": \\\"30498\\\"}, \\\"title\\\": \\\"#\\\"}, \\\"id\\\": \\\"30500\\\", \\\"type\\\": \\\"TableColumn\\\"}, {\\\"attributes\\\": {}, \\\"id\\\": \\\"30522\\\", \\\"type\\\": \\\"NumberFormatter\\\"}, {\\\"attributes\\\": {}, \\\"id\\\": \\\"30499\\\", \\\"type\\\": \\\"StringEditor\\\"}, {\\\"attributes\\\": {}, \\\"id\\\": \\\"30528\\\", \\\"type\\\": \\\"IntEditor\\\"}, {\\\"attributes\\\": {\\\"editor\\\": {\\\"id\\\": \\\"30509\\\"}, \\\"field\\\": \\\"Actual_1\\\", \\\"formatter\\\": {\\\"id\\\": \\\"30508\\\"}, \\\"title\\\": \\\"Actual_1\\\"}, \\\"id\\\": \\\"30510\\\", \\\"type\\\": \\\"TableColumn\\\"}, {\\\"attributes\\\": {\\\"editor\\\": {\\\"id\\\": \\\"30518\\\"}, \\\"field\\\": \\\"number\\\", \\\"formatter\\\": {\\\"id\\\": \\\"30517\\\"}, \\\"title\\\": \\\"#\\\"}, \\\"id\\\": \\\"30519\\\", \\\"type\\\": \\\"TableColumn\\\"}]}\",\"header\":\"{\\\"msgid\\\": \\\"30536\\\", \\\"msgtype\\\": \\\"PATCH-DOC\\\"}\",\"metadata\":\"{}\"},\"13\":{\"content\":\"{\\\"events\\\": [{\\\"attr\\\": \\\"columns\\\", \\\"kind\\\": \\\"ModelChanged\\\", \\\"model\\\": {\\\"id\\\": \\\"30109\\\"}, \\\"new\\\": [{\\\"id\\\": \\\"30461\\\"}, {\\\"id\\\": \\\"30466\\\"}, {\\\"id\\\": \\\"30471\\\"}]}, {\\\"cols\\\": null, \\\"column_source\\\": {\\\"id\\\": \\\"30092\\\"}, \\\"kind\\\": \\\"ColumnDataChanged\\\", \\\"new\\\": {\\\"Actual_0\\\": [6575, 63], \\\"Actual_1\\\": [676, 5435], \\\"number\\\": [\\\"Predicted_0\\\", \\\"Predicted_1\\\"]}}, {\\\"attr\\\": \\\"columns\\\", \\\"kind\\\": \\\"ModelChanged\\\", \\\"model\\\": {\\\"id\\\": \\\"30130\\\"}, \\\"new\\\": [{\\\"id\\\": \\\"30480\\\"}, {\\\"id\\\": \\\"30485\\\"}, {\\\"id\\\": \\\"30490\\\"}]}, {\\\"cols\\\": null, \\\"column_source\\\": {\\\"id\\\": \\\"30113\\\"}, \\\"kind\\\": \\\"ColumnDataChanged\\\", \\\"new\\\": {\\\"Actual_0\\\": [1646, 14], \\\"Actual_1\\\": [168, 1360], \\\"number\\\": [\\\"Predicted_0\\\", \\\"Predicted_1\\\"]}}, {\\\"attr\\\": \\\"text\\\", \\\"kind\\\": \\\"ModelChanged\\\", \\\"model\\\": {\\\"id\\\": \\\"30142\\\"}, \\\"new\\\": \\\"<span style=\\\\\\\"color:black;font-family:Arial;font-style:bold;font-weight:bold;font-size:12pt\\\\\\\">decision_threshold: 0.7<\\\\/span>\\\"}], \\\"references\\\": [{\\\"attributes\\\": {\\\"editor\\\": {\\\"id\\\": \\\"30465\\\"}, \\\"field\\\": \\\"Actual_0\\\", \\\"formatter\\\": {\\\"id\\\": \\\"30464\\\"}, \\\"title\\\": \\\"Actual_0\\\"}, \\\"id\\\": \\\"30466\\\", \\\"type\\\": \\\"TableColumn\\\"}, {\\\"attributes\\\": {}, \\\"id\\\": \\\"30488\\\", \\\"type\\\": \\\"NumberFormatter\\\"}, {\\\"attributes\\\": {}, \\\"id\\\": \\\"30459\\\", \\\"type\\\": \\\"StringFormatter\\\"}, {\\\"attributes\\\": {}, \\\"id\\\": \\\"30484\\\", \\\"type\\\": \\\"IntEditor\\\"}, {\\\"attributes\\\": {\\\"editor\\\": {\\\"id\\\": \\\"30470\\\"}, \\\"field\\\": \\\"Actual_1\\\", \\\"formatter\\\": {\\\"id\\\": \\\"30469\\\"}, \\\"title\\\": \\\"Actual_1\\\"}, \\\"id\\\": \\\"30471\\\", \\\"type\\\": \\\"TableColumn\\\"}, {\\\"attributes\\\": {}, \\\"id\\\": \\\"30470\\\", \\\"type\\\": \\\"IntEditor\\\"}, {\\\"attributes\\\": {\\\"editor\\\": {\\\"id\\\": \\\"30489\\\"}, \\\"field\\\": \\\"Actual_1\\\", \\\"formatter\\\": {\\\"id\\\": \\\"30488\\\"}, \\\"title\\\": \\\"Actual_1\\\"}, \\\"id\\\": \\\"30490\\\", \\\"type\\\": \\\"TableColumn\\\"}, {\\\"attributes\\\": {}, \\\"id\\\": \\\"30483\\\", \\\"type\\\": \\\"NumberFormatter\\\"}, {\\\"attributes\\\": {\\\"editor\\\": {\\\"id\\\": \\\"30484\\\"}, \\\"field\\\": \\\"Actual_0\\\", \\\"formatter\\\": {\\\"id\\\": \\\"30483\\\"}, \\\"title\\\": \\\"Actual_0\\\"}, \\\"id\\\": \\\"30485\\\", \\\"type\\\": \\\"TableColumn\\\"}, {\\\"attributes\\\": {}, \\\"id\\\": \\\"30479\\\", \\\"type\\\": \\\"StringEditor\\\"}, {\\\"attributes\\\": {}, \\\"id\\\": \\\"30489\\\", \\\"type\\\": \\\"IntEditor\\\"}, {\\\"attributes\\\": {}, \\\"id\\\": \\\"30469\\\", \\\"type\\\": \\\"NumberFormatter\\\"}, {\\\"attributes\\\": {}, \\\"id\\\": \\\"30460\\\", \\\"type\\\": \\\"StringEditor\\\"}, {\\\"attributes\\\": {\\\"editor\\\": {\\\"id\\\": \\\"30479\\\"}, \\\"field\\\": \\\"number\\\", \\\"formatter\\\": {\\\"id\\\": \\\"30478\\\"}, \\\"title\\\": \\\"#\\\"}, \\\"id\\\": \\\"30480\\\", \\\"type\\\": \\\"TableColumn\\\"}, {\\\"attributes\\\": {}, \\\"id\\\": \\\"30464\\\", \\\"type\\\": \\\"NumberFormatter\\\"}, {\\\"attributes\\\": {}, \\\"id\\\": \\\"30465\\\", \\\"type\\\": \\\"IntEditor\\\"}, {\\\"attributes\\\": {}, \\\"id\\\": \\\"30478\\\", \\\"type\\\": \\\"StringFormatter\\\"}, {\\\"attributes\\\": {\\\"editor\\\": {\\\"id\\\": \\\"30460\\\"}, \\\"field\\\": \\\"number\\\", \\\"formatter\\\": {\\\"id\\\": \\\"30459\\\"}, \\\"title\\\": \\\"#\\\"}, \\\"id\\\": \\\"30461\\\", \\\"type\\\": \\\"TableColumn\\\"}]}\",\"header\":\"{\\\"msgid\\\": \\\"30497\\\", \\\"msgtype\\\": \\\"PATCH-DOC\\\"}\",\"metadata\":\"{}\"},\"14\":{\"content\":\"{\\\"events\\\": [{\\\"attr\\\": \\\"columns\\\", \\\"kind\\\": \\\"ModelChanged\\\", \\\"model\\\": {\\\"id\\\": \\\"30109\\\"}, \\\"new\\\": [{\\\"id\\\": \\\"30422\\\"}, {\\\"id\\\": \\\"30427\\\"}, {\\\"id\\\": \\\"30432\\\"}]}, {\\\"cols\\\": null, \\\"column_source\\\": {\\\"id\\\": \\\"30092\\\"}, \\\"kind\\\": \\\"ColumnDataChanged\\\", \\\"new\\\": {\\\"Actual_0\\\": [6583, 55], \\\"Actual_1\\\": [702, 5409], \\\"number\\\": [\\\"Predicted_0\\\", \\\"Predicted_1\\\"]}}, {\\\"attr\\\": \\\"columns\\\", \\\"kind\\\": \\\"ModelChanged\\\", \\\"model\\\": {\\\"id\\\": \\\"30130\\\"}, \\\"new\\\": [{\\\"id\\\": \\\"30441\\\"}, {\\\"id\\\": \\\"30446\\\"}, {\\\"id\\\": \\\"30451\\\"}]}, {\\\"cols\\\": null, \\\"column_source\\\": {\\\"id\\\": \\\"30113\\\"}, \\\"kind\\\": \\\"ColumnDataChanged\\\", \\\"new\\\": {\\\"Actual_0\\\": [1648, 12], \\\"Actual_1\\\": [175, 1353], \\\"number\\\": [\\\"Predicted_0\\\", \\\"Predicted_1\\\"]}}, {\\\"attr\\\": \\\"text\\\", \\\"kind\\\": \\\"ModelChanged\\\", \\\"model\\\": {\\\"id\\\": \\\"30142\\\"}, \\\"new\\\": \\\"<span style=\\\\\\\"color:black;font-family:Arial;font-style:bold;font-weight:bold;font-size:12pt\\\\\\\">decision_threshold: 0.75<\\\\/span>\\\"}], \\\"references\\\": [{\\\"attributes\\\": {}, \\\"id\\\": \\\"30421\\\", \\\"type\\\": \\\"StringEditor\\\"}, {\\\"attributes\\\": {}, \\\"id\\\": \\\"30440\\\", \\\"type\\\": \\\"StringEditor\\\"}, {\\\"attributes\\\": {\\\"editor\\\": {\\\"id\\\": \\\"30445\\\"}, \\\"field\\\": \\\"Actual_0\\\", \\\"formatter\\\": {\\\"id\\\": \\\"30444\\\"}, \\\"title\\\": \\\"Actual_0\\\"}, \\\"id\\\": \\\"30446\\\", \\\"type\\\": \\\"TableColumn\\\"}, {\\\"attributes\\\": {}, \\\"id\\\": \\\"30439\\\", \\\"type\\\": \\\"StringFormatter\\\"}, {\\\"attributes\\\": {}, \\\"id\\\": \\\"30426\\\", \\\"type\\\": \\\"IntEditor\\\"}, {\\\"attributes\\\": {\\\"editor\\\": {\\\"id\\\": \\\"30440\\\"}, \\\"field\\\": \\\"number\\\", \\\"formatter\\\": {\\\"id\\\": \\\"30439\\\"}, \\\"title\\\": \\\"#\\\"}, \\\"id\\\": \\\"30441\\\", \\\"type\\\": \\\"TableColumn\\\"}, {\\\"attributes\\\": {\\\"editor\\\": {\\\"id\\\": \\\"30450\\\"}, \\\"field\\\": \\\"Actual_1\\\", \\\"formatter\\\": {\\\"id\\\": \\\"30449\\\"}, \\\"title\\\": \\\"Actual_1\\\"}, \\\"id\\\": \\\"30451\\\", \\\"type\\\": \\\"TableColumn\\\"}, {\\\"attributes\\\": {}, \\\"id\\\": \\\"30450\\\", \\\"type\\\": \\\"IntEditor\\\"}, {\\\"attributes\\\": {}, \\\"id\\\": \\\"30444\\\", \\\"type\\\": \\\"NumberFormatter\\\"}, {\\\"attributes\\\": {}, \\\"id\\\": \\\"30431\\\", \\\"type\\\": \\\"IntEditor\\\"}, {\\\"attributes\\\": {}, \\\"id\\\": \\\"30425\\\", \\\"type\\\": \\\"NumberFormatter\\\"}, {\\\"attributes\\\": {}, \\\"id\\\": \\\"30449\\\", \\\"type\\\": \\\"NumberFormatter\\\"}, {\\\"attributes\\\": {}, \\\"id\\\": \\\"30420\\\", \\\"type\\\": \\\"StringFormatter\\\"}, {\\\"attributes\\\": {}, \\\"id\\\": \\\"30445\\\", \\\"type\\\": \\\"IntEditor\\\"}, {\\\"attributes\\\": {\\\"editor\\\": {\\\"id\\\": \\\"30426\\\"}, \\\"field\\\": \\\"Actual_0\\\", \\\"formatter\\\": {\\\"id\\\": \\\"30425\\\"}, \\\"title\\\": \\\"Actual_0\\\"}, \\\"id\\\": \\\"30427\\\", \\\"type\\\": \\\"TableColumn\\\"}, {\\\"attributes\\\": {}, \\\"id\\\": \\\"30430\\\", \\\"type\\\": \\\"NumberFormatter\\\"}, {\\\"attributes\\\": {\\\"editor\\\": {\\\"id\\\": \\\"30421\\\"}, \\\"field\\\": \\\"number\\\", \\\"formatter\\\": {\\\"id\\\": \\\"30420\\\"}, \\\"title\\\": \\\"#\\\"}, \\\"id\\\": \\\"30422\\\", \\\"type\\\": \\\"TableColumn\\\"}, {\\\"attributes\\\": {\\\"editor\\\": {\\\"id\\\": \\\"30431\\\"}, \\\"field\\\": \\\"Actual_1\\\", \\\"formatter\\\": {\\\"id\\\": \\\"30430\\\"}, \\\"title\\\": \\\"Actual_1\\\"}, \\\"id\\\": \\\"30432\\\", \\\"type\\\": \\\"TableColumn\\\"}]}\",\"header\":\"{\\\"msgid\\\": \\\"30458\\\", \\\"msgtype\\\": \\\"PATCH-DOC\\\"}\",\"metadata\":\"{}\"},\"15\":{\"content\":\"{\\\"events\\\": [{\\\"attr\\\": \\\"columns\\\", \\\"kind\\\": \\\"ModelChanged\\\", \\\"model\\\": {\\\"id\\\": \\\"30109\\\"}, \\\"new\\\": [{\\\"id\\\": \\\"30383\\\"}, {\\\"id\\\": \\\"30388\\\"}, {\\\"id\\\": \\\"30393\\\"}]}, {\\\"cols\\\": null, \\\"column_source\\\": {\\\"id\\\": \\\"30092\\\"}, \\\"kind\\\": \\\"ColumnDataChanged\\\", \\\"new\\\": {\\\"Actual_0\\\": [6590, 48], \\\"Actual_1\\\": [711, 5400], \\\"number\\\": [\\\"Predicted_0\\\", \\\"Predicted_1\\\"]}}, {\\\"attr\\\": \\\"columns\\\", \\\"kind\\\": \\\"ModelChanged\\\", \\\"model\\\": {\\\"id\\\": \\\"30130\\\"}, \\\"new\\\": [{\\\"id\\\": \\\"30402\\\"}, {\\\"id\\\": \\\"30407\\\"}, {\\\"id\\\": \\\"30412\\\"}]}, {\\\"cols\\\": null, \\\"column_source\\\": {\\\"id\\\": \\\"30113\\\"}, \\\"kind\\\": \\\"ColumnDataChanged\\\", \\\"new\\\": {\\\"Actual_0\\\": [1648, 12], \\\"Actual_1\\\": [177, 1351], \\\"number\\\": [\\\"Predicted_0\\\", \\\"Predicted_1\\\"]}}, {\\\"attr\\\": \\\"text\\\", \\\"kind\\\": \\\"ModelChanged\\\", \\\"model\\\": {\\\"id\\\": \\\"30142\\\"}, \\\"new\\\": \\\"<span style=\\\\\\\"color:black;font-family:Arial;font-style:bold;font-weight:bold;font-size:12pt\\\\\\\">decision_threshold: 0.8<\\\\/span>\\\"}], \\\"references\\\": [{\\\"attributes\\\": {\\\"editor\\\": {\\\"id\\\": \\\"30401\\\"}, \\\"field\\\": \\\"number\\\", \\\"formatter\\\": {\\\"id\\\": \\\"30400\\\"}, \\\"title\\\": \\\"#\\\"}, \\\"id\\\": \\\"30402\\\", \\\"type\\\": \\\"TableColumn\\\"}, {\\\"attributes\\\": {\\\"editor\\\": {\\\"id\\\": \\\"30411\\\"}, \\\"field\\\": \\\"Actual_1\\\", \\\"formatter\\\": {\\\"id\\\": \\\"30410\\\"}, \\\"title\\\": \\\"Actual_1\\\"}, \\\"id\\\": \\\"30412\\\", \\\"type\\\": \\\"TableColumn\\\"}, {\\\"attributes\\\": {}, \\\"id\\\": \\\"30386\\\", \\\"type\\\": \\\"NumberFormatter\\\"}, {\\\"attributes\\\": {\\\"editor\\\": {\\\"id\\\": \\\"30406\\\"}, \\\"field\\\": \\\"Actual_0\\\", \\\"formatter\\\": {\\\"id\\\": \\\"30405\\\"}, \\\"title\\\": \\\"Actual_0\\\"}, \\\"id\\\": \\\"30407\\\", \\\"type\\\": \\\"TableColumn\\\"}, {\\\"attributes\\\": {}, \\\"id\\\": \\\"30400\\\", \\\"type\\\": \\\"StringFormatter\\\"}, {\\\"attributes\\\": {}, \\\"id\\\": \\\"30411\\\", \\\"type\\\": \\\"IntEditor\\\"}, {\\\"attributes\\\": {\\\"editor\\\": {\\\"id\\\": \\\"30382\\\"}, \\\"field\\\": \\\"number\\\", \\\"formatter\\\": {\\\"id\\\": \\\"30381\\\"}, \\\"title\\\": \\\"#\\\"}, \\\"id\\\": \\\"30383\\\", \\\"type\\\": \\\"TableColumn\\\"}, {\\\"attributes\\\": {\\\"editor\\\": {\\\"id\\\": \\\"30387\\\"}, \\\"field\\\": \\\"Actual_0\\\", \\\"formatter\\\": {\\\"id\\\": \\\"30386\\\"}, \\\"title\\\": \\\"Actual_0\\\"}, \\\"id\\\": \\\"30388\\\", \\\"type\\\": \\\"TableColumn\\\"}, {\\\"attributes\\\": {}, \\\"id\\\": \\\"30410\\\", \\\"type\\\": \\\"NumberFormatter\\\"}, {\\\"attributes\\\": {}, \\\"id\\\": \\\"30382\\\", \\\"type\\\": \\\"StringEditor\\\"}, {\\\"attributes\\\": {}, \\\"id\\\": \\\"30405\\\", \\\"type\\\": \\\"NumberFormatter\\\"}, {\\\"attributes\\\": {}, \\\"id\\\": \\\"30401\\\", \\\"type\\\": \\\"StringEditor\\\"}, {\\\"attributes\\\": {}, \\\"id\\\": \\\"30381\\\", \\\"type\\\": \\\"StringFormatter\\\"}, {\\\"attributes\\\": {}, \\\"id\\\": \\\"30392\\\", \\\"type\\\": \\\"IntEditor\\\"}, {\\\"attributes\\\": {\\\"editor\\\": {\\\"id\\\": \\\"30392\\\"}, \\\"field\\\": \\\"Actual_1\\\", \\\"formatter\\\": {\\\"id\\\": \\\"30391\\\"}, \\\"title\\\": \\\"Actual_1\\\"}, \\\"id\\\": \\\"30393\\\", \\\"type\\\": \\\"TableColumn\\\"}, {\\\"attributes\\\": {}, \\\"id\\\": \\\"30391\\\", \\\"type\\\": \\\"NumberFormatter\\\"}, {\\\"attributes\\\": {}, \\\"id\\\": \\\"30406\\\", \\\"type\\\": \\\"IntEditor\\\"}, {\\\"attributes\\\": {}, \\\"id\\\": \\\"30387\\\", \\\"type\\\": \\\"IntEditor\\\"}]}\",\"header\":\"{\\\"msgid\\\": \\\"30419\\\", \\\"msgtype\\\": \\\"PATCH-DOC\\\"}\",\"metadata\":\"{}\"},\"16\":{\"content\":\"{\\\"events\\\": [{\\\"attr\\\": \\\"columns\\\", \\\"kind\\\": \\\"ModelChanged\\\", \\\"model\\\": {\\\"id\\\": \\\"30109\\\"}, \\\"new\\\": [{\\\"id\\\": \\\"30344\\\"}, {\\\"id\\\": \\\"30349\\\"}, {\\\"id\\\": \\\"30354\\\"}]}, {\\\"cols\\\": null, \\\"column_source\\\": {\\\"id\\\": \\\"30092\\\"}, \\\"kind\\\": \\\"ColumnDataChanged\\\", \\\"new\\\": {\\\"Actual_0\\\": [6591, 47], \\\"Actual_1\\\": [751, 5360], \\\"number\\\": [\\\"Predicted_0\\\", \\\"Predicted_1\\\"]}}, {\\\"attr\\\": \\\"columns\\\", \\\"kind\\\": \\\"ModelChanged\\\", \\\"model\\\": {\\\"id\\\": \\\"30130\\\"}, \\\"new\\\": [{\\\"id\\\": \\\"30363\\\"}, {\\\"id\\\": \\\"30368\\\"}, {\\\"id\\\": \\\"30373\\\"}]}, {\\\"cols\\\": null, \\\"column_source\\\": {\\\"id\\\": \\\"30113\\\"}, \\\"kind\\\": \\\"ColumnDataChanged\\\", \\\"new\\\": {\\\"Actual_0\\\": [1648, 12], \\\"Actual_1\\\": [188, 1340], \\\"number\\\": [\\\"Predicted_0\\\", \\\"Predicted_1\\\"]}}, {\\\"attr\\\": \\\"text\\\", \\\"kind\\\": \\\"ModelChanged\\\", \\\"model\\\": {\\\"id\\\": \\\"30142\\\"}, \\\"new\\\": \\\"<span style=\\\\\\\"color:black;font-family:Arial;font-style:bold;font-weight:bold;font-size:12pt\\\\\\\">decision_threshold: 0.85<\\\\/span>\\\"}], \\\"references\\\": [{\\\"attributes\\\": {\\\"editor\\\": {\\\"id\\\": \\\"30343\\\"}, \\\"field\\\": \\\"number\\\", \\\"formatter\\\": {\\\"id\\\": \\\"30342\\\"}, \\\"title\\\": \\\"#\\\"}, \\\"id\\\": \\\"30344\\\", \\\"type\\\": \\\"TableColumn\\\"}, {\\\"attributes\\\": {}, \\\"id\\\": \\\"30372\\\", \\\"type\\\": \\\"IntEditor\\\"}, {\\\"attributes\\\": {\\\"editor\\\": {\\\"id\\\": \\\"30367\\\"}, \\\"field\\\": \\\"Actual_0\\\", \\\"formatter\\\": {\\\"id\\\": \\\"30366\\\"}, \\\"title\\\": \\\"Actual_0\\\"}, \\\"id\\\": \\\"30368\\\", \\\"type\\\": \\\"TableColumn\\\"}, {\\\"attributes\\\": {}, \\\"id\\\": \\\"30361\\\", \\\"type\\\": \\\"StringFormatter\\\"}, {\\\"attributes\\\": {\\\"editor\\\": {\\\"id\\\": \\\"30362\\\"}, \\\"field\\\": \\\"number\\\", \\\"formatter\\\": {\\\"id\\\": \\\"30361\\\"}, \\\"title\\\": \\\"#\\\"}, \\\"id\\\": \\\"30363\\\", \\\"type\\\": \\\"TableColumn\\\"}, {\\\"attributes\\\": {}, \\\"id\\\": \\\"30353\\\", \\\"type\\\": \\\"IntEditor\\\"}, {\\\"attributes\\\": {}, \\\"id\\\": \\\"30348\\\", \\\"type\\\": \\\"IntEditor\\\"}, {\\\"attributes\\\": {\\\"editor\\\": {\\\"id\\\": \\\"30348\\\"}, \\\"field\\\": \\\"Actual_0\\\", \\\"formatter\\\": {\\\"id\\\": \\\"30347\\\"}, \\\"title\\\": \\\"Actual_0\\\"}, \\\"id\\\": \\\"30349\\\", \\\"type\\\": \\\"TableColumn\\\"}, {\\\"attributes\\\": {\\\"editor\\\": {\\\"id\\\": \\\"30372\\\"}, \\\"field\\\": \\\"Actual_1\\\", \\\"formatter\\\": {\\\"id\\\": \\\"30371\\\"}, \\\"title\\\": \\\"Actual_1\\\"}, \\\"id\\\": \\\"30373\\\", \\\"type\\\": \\\"TableColumn\\\"}, {\\\"attributes\\\": {}, \\\"id\\\": \\\"30362\\\", \\\"type\\\": \\\"StringEditor\\\"}, {\\\"attributes\\\": {}, \\\"id\\\": \\\"30342\\\", \\\"type\\\": \\\"StringFormatter\\\"}, {\\\"attributes\\\": {}, \\\"id\\\": \\\"30347\\\", \\\"type\\\": \\\"NumberFormatter\\\"}, {\\\"attributes\\\": {}, \\\"id\\\": \\\"30371\\\", \\\"type\\\": \\\"NumberFormatter\\\"}, {\\\"attributes\\\": {}, \\\"id\\\": \\\"30343\\\", \\\"type\\\": \\\"StringEditor\\\"}, {\\\"attributes\\\": {}, \\\"id\\\": \\\"30366\\\", \\\"type\\\": \\\"NumberFormatter\\\"}, {\\\"attributes\\\": {}, \\\"id\\\": \\\"30367\\\", \\\"type\\\": \\\"IntEditor\\\"}, {\\\"attributes\\\": {}, \\\"id\\\": \\\"30352\\\", \\\"type\\\": \\\"NumberFormatter\\\"}, {\\\"attributes\\\": {\\\"editor\\\": {\\\"id\\\": \\\"30353\\\"}, \\\"field\\\": \\\"Actual_1\\\", \\\"formatter\\\": {\\\"id\\\": \\\"30352\\\"}, \\\"title\\\": \\\"Actual_1\\\"}, \\\"id\\\": \\\"30354\\\", \\\"type\\\": \\\"TableColumn\\\"}]}\",\"header\":\"{\\\"msgid\\\": \\\"30380\\\", \\\"msgtype\\\": \\\"PATCH-DOC\\\"}\",\"metadata\":\"{}\"},\"17\":{\"content\":\"{\\\"events\\\": [{\\\"attr\\\": \\\"columns\\\", \\\"kind\\\": \\\"ModelChanged\\\", \\\"model\\\": {\\\"id\\\": \\\"30109\\\"}, \\\"new\\\": [{\\\"id\\\": \\\"30305\\\"}, {\\\"id\\\": \\\"30310\\\"}, {\\\"id\\\": \\\"30315\\\"}]}, {\\\"cols\\\": null, \\\"column_source\\\": {\\\"id\\\": \\\"30092\\\"}, \\\"kind\\\": \\\"ColumnDataChanged\\\", \\\"new\\\": {\\\"Actual_0\\\": [6597, 41], \\\"Actual_1\\\": [826, 5285], \\\"number\\\": [\\\"Predicted_0\\\", \\\"Predicted_1\\\"]}}, {\\\"attr\\\": \\\"columns\\\", \\\"kind\\\": \\\"ModelChanged\\\", \\\"model\\\": {\\\"id\\\": \\\"30130\\\"}, \\\"new\\\": [{\\\"id\\\": \\\"30324\\\"}, {\\\"id\\\": \\\"30329\\\"}, {\\\"id\\\": \\\"30334\\\"}]}, {\\\"cols\\\": null, \\\"column_source\\\": {\\\"id\\\": \\\"30113\\\"}, \\\"kind\\\": \\\"ColumnDataChanged\\\", \\\"new\\\": {\\\"Actual_0\\\": [1648, 12], \\\"Actual_1\\\": [206, 1322], \\\"number\\\": [\\\"Predicted_0\\\", \\\"Predicted_1\\\"]}}, {\\\"attr\\\": \\\"text\\\", \\\"kind\\\": \\\"ModelChanged\\\", \\\"model\\\": {\\\"id\\\": \\\"30142\\\"}, \\\"new\\\": \\\"<span style=\\\\\\\"color:black;font-family:Arial;font-style:bold;font-weight:bold;font-size:12pt\\\\\\\">decision_threshold: 0.9<\\\\/span>\\\"}], \\\"references\\\": [{\\\"attributes\\\": {}, \\\"id\\\": \\\"30323\\\", \\\"type\\\": \\\"StringEditor\\\"}, {\\\"attributes\\\": {}, \\\"id\\\": \\\"30313\\\", \\\"type\\\": \\\"NumberFormatter\\\"}, {\\\"attributes\\\": {}, \\\"id\\\": \\\"30304\\\", \\\"type\\\": \\\"StringEditor\\\"}, {\\\"attributes\\\": {\\\"editor\\\": {\\\"id\\\": \\\"30333\\\"}, \\\"field\\\": \\\"Actual_1\\\", \\\"formatter\\\": {\\\"id\\\": \\\"30332\\\"}, \\\"title\\\": \\\"Actual_1\\\"}, \\\"id\\\": \\\"30334\\\", \\\"type\\\": \\\"TableColumn\\\"}, {\\\"attributes\\\": {\\\"editor\\\": {\\\"id\\\": \\\"30309\\\"}, \\\"field\\\": \\\"Actual_0\\\", \\\"formatter\\\": {\\\"id\\\": \\\"30308\\\"}, \\\"title\\\": \\\"Actual_0\\\"}, \\\"id\\\": \\\"30310\\\", \\\"type\\\": \\\"TableColumn\\\"}, {\\\"attributes\\\": {}, \\\"id\\\": \\\"30322\\\", \\\"type\\\": \\\"StringFormatter\\\"}, {\\\"attributes\\\": {}, \\\"id\\\": \\\"30332\\\", \\\"type\\\": \\\"NumberFormatter\\\"}, {\\\"attributes\\\": {}, \\\"id\\\": \\\"30333\\\", \\\"type\\\": \\\"IntEditor\\\"}, {\\\"attributes\\\": {\\\"editor\\\": {\\\"id\\\": \\\"30314\\\"}, \\\"field\\\": \\\"Actual_1\\\", \\\"formatter\\\": {\\\"id\\\": \\\"30313\\\"}, \\\"title\\\": \\\"Actual_1\\\"}, \\\"id\\\": \\\"30315\\\", \\\"type\\\": \\\"TableColumn\\\"}, {\\\"attributes\\\": {}, \\\"id\\\": \\\"30303\\\", \\\"type\\\": \\\"StringFormatter\\\"}, {\\\"attributes\\\": {\\\"editor\\\": {\\\"id\\\": \\\"30328\\\"}, \\\"field\\\": \\\"Actual_0\\\", \\\"formatter\\\": {\\\"id\\\": \\\"30327\\\"}, \\\"title\\\": \\\"Actual_0\\\"}, \\\"id\\\": \\\"30329\\\", \\\"type\\\": \\\"TableColumn\\\"}, {\\\"attributes\\\": {}, \\\"id\\\": \\\"30308\\\", \\\"type\\\": \\\"NumberFormatter\\\"}, {\\\"attributes\\\": {\\\"editor\\\": {\\\"id\\\": \\\"30304\\\"}, \\\"field\\\": \\\"number\\\", \\\"formatter\\\": {\\\"id\\\": \\\"30303\\\"}, \\\"title\\\": \\\"#\\\"}, \\\"id\\\": \\\"30305\\\", \\\"type\\\": \\\"TableColumn\\\"}, {\\\"attributes\\\": {}, \\\"id\\\": \\\"30328\\\", \\\"type\\\": \\\"IntEditor\\\"}, {\\\"attributes\\\": {}, \\\"id\\\": \\\"30327\\\", \\\"type\\\": \\\"NumberFormatter\\\"}, {\\\"attributes\\\": {}, \\\"id\\\": \\\"30314\\\", \\\"type\\\": \\\"IntEditor\\\"}, {\\\"attributes\\\": {}, \\\"id\\\": \\\"30309\\\", \\\"type\\\": \\\"IntEditor\\\"}, {\\\"attributes\\\": {\\\"editor\\\": {\\\"id\\\": \\\"30323\\\"}, \\\"field\\\": \\\"number\\\", \\\"formatter\\\": {\\\"id\\\": \\\"30322\\\"}, \\\"title\\\": \\\"#\\\"}, \\\"id\\\": \\\"30324\\\", \\\"type\\\": \\\"TableColumn\\\"}]}\",\"header\":\"{\\\"msgid\\\": \\\"30341\\\", \\\"msgtype\\\": \\\"PATCH-DOC\\\"}\",\"metadata\":\"{}\"},\"18\":{\"content\":\"{\\\"events\\\": [{\\\"attr\\\": \\\"columns\\\", \\\"kind\\\": \\\"ModelChanged\\\", \\\"model\\\": {\\\"id\\\": \\\"30109\\\"}, \\\"new\\\": [{\\\"id\\\": \\\"30266\\\"}, {\\\"id\\\": \\\"30271\\\"}, {\\\"id\\\": \\\"30276\\\"}]}, {\\\"cols\\\": null, \\\"column_source\\\": {\\\"id\\\": \\\"30092\\\"}, \\\"kind\\\": \\\"ColumnDataChanged\\\", \\\"new\\\": {\\\"Actual_0\\\": [6597, 41], \\\"Actual_1\\\": [1508, 4603], \\\"number\\\": [\\\"Predicted_0\\\", \\\"Predicted_1\\\"]}}, {\\\"attr\\\": \\\"columns\\\", \\\"kind\\\": \\\"ModelChanged\\\", \\\"model\\\": {\\\"id\\\": \\\"30130\\\"}, \\\"new\\\": [{\\\"id\\\": \\\"30285\\\"}, {\\\"id\\\": \\\"30290\\\"}, {\\\"id\\\": \\\"30295\\\"}]}, {\\\"cols\\\": null, \\\"column_source\\\": {\\\"id\\\": \\\"30113\\\"}, \\\"kind\\\": \\\"ColumnDataChanged\\\", \\\"new\\\": {\\\"Actual_0\\\": [1649, 11], \\\"Actual_1\\\": [359, 1169], \\\"number\\\": [\\\"Predicted_0\\\", \\\"Predicted_1\\\"]}}, {\\\"attr\\\": \\\"text\\\", \\\"kind\\\": \\\"ModelChanged\\\", \\\"model\\\": {\\\"id\\\": \\\"30142\\\"}, \\\"new\\\": \\\"<span style=\\\\\\\"color:black;font-family:Arial;font-style:bold;font-weight:bold;font-size:12pt\\\\\\\">decision_threshold: 0.95<\\\\/span>\\\"}], \\\"references\\\": [{\\\"attributes\\\": {\\\"editor\\\": {\\\"id\\\": \\\"30284\\\"}, \\\"field\\\": \\\"number\\\", \\\"formatter\\\": {\\\"id\\\": \\\"30283\\\"}, \\\"title\\\": \\\"#\\\"}, \\\"id\\\": \\\"30285\\\", \\\"type\\\": \\\"TableColumn\\\"}, {\\\"attributes\\\": {}, \\\"id\\\": \\\"30269\\\", \\\"type\\\": \\\"NumberFormatter\\\"}, {\\\"attributes\\\": {\\\"editor\\\": {\\\"id\\\": \\\"30270\\\"}, \\\"field\\\": \\\"Actual_0\\\", \\\"formatter\\\": {\\\"id\\\": \\\"30269\\\"}, \\\"title\\\": \\\"Actual_0\\\"}, \\\"id\\\": \\\"30271\\\", \\\"type\\\": \\\"TableColumn\\\"}, {\\\"attributes\\\": {}, \\\"id\\\": \\\"30265\\\", \\\"type\\\": \\\"StringEditor\\\"}, {\\\"attributes\\\": {}, \\\"id\\\": \\\"30289\\\", \\\"type\\\": \\\"IntEditor\\\"}, {\\\"attributes\\\": {}, \\\"id\\\": \\\"30284\\\", \\\"type\\\": \\\"StringEditor\\\"}, {\\\"attributes\\\": {}, \\\"id\\\": \\\"30283\\\", \\\"type\\\": \\\"StringFormatter\\\"}, {\\\"attributes\\\": {}, \\\"id\\\": \\\"30275\\\", \\\"type\\\": \\\"IntEditor\\\"}, {\\\"attributes\\\": {}, \\\"id\\\": \\\"30264\\\", \\\"type\\\": \\\"StringFormatter\\\"}, {\\\"attributes\\\": {\\\"editor\\\": {\\\"id\\\": \\\"30265\\\"}, \\\"field\\\": \\\"number\\\", \\\"formatter\\\": {\\\"id\\\": \\\"30264\\\"}, \\\"title\\\": \\\"#\\\"}, \\\"id\\\": \\\"30266\\\", \\\"type\\\": \\\"TableColumn\\\"}, {\\\"attributes\\\": {\\\"editor\\\": {\\\"id\\\": \\\"30275\\\"}, \\\"field\\\": \\\"Actual_1\\\", \\\"formatter\\\": {\\\"id\\\": \\\"30274\\\"}, \\\"title\\\": \\\"Actual_1\\\"}, \\\"id\\\": \\\"30276\\\", \\\"type\\\": \\\"TableColumn\\\"}, {\\\"attributes\\\": {\\\"editor\\\": {\\\"id\\\": \\\"30289\\\"}, \\\"field\\\": \\\"Actual_0\\\", \\\"formatter\\\": {\\\"id\\\": \\\"30288\\\"}, \\\"title\\\": \\\"Actual_0\\\"}, \\\"id\\\": \\\"30290\\\", \\\"type\\\": \\\"TableColumn\\\"}, {\\\"attributes\\\": {}, \\\"id\\\": \\\"30288\\\", \\\"type\\\": \\\"NumberFormatter\\\"}, {\\\"attributes\\\": {}, \\\"id\\\": \\\"30294\\\", \\\"type\\\": \\\"IntEditor\\\"}, {\\\"attributes\\\": {}, \\\"id\\\": \\\"30274\\\", \\\"type\\\": \\\"NumberFormatter\\\"}, {\\\"attributes\\\": {\\\"editor\\\": {\\\"id\\\": \\\"30294\\\"}, \\\"field\\\": \\\"Actual_1\\\", \\\"formatter\\\": {\\\"id\\\": \\\"30293\\\"}, \\\"title\\\": \\\"Actual_1\\\"}, \\\"id\\\": \\\"30295\\\", \\\"type\\\": \\\"TableColumn\\\"}, {\\\"attributes\\\": {}, \\\"id\\\": \\\"30270\\\", \\\"type\\\": \\\"IntEditor\\\"}, {\\\"attributes\\\": {}, \\\"id\\\": \\\"30293\\\", \\\"type\\\": \\\"NumberFormatter\\\"}]}\",\"header\":\"{\\\"msgid\\\": \\\"30302\\\", \\\"msgtype\\\": \\\"PATCH-DOC\\\"}\",\"metadata\":\"{}\"},\"2\":{\"content\":\"{\\\"events\\\": [{\\\"attr\\\": \\\"columns\\\", \\\"kind\\\": \\\"ModelChanged\\\", \\\"model\\\": {\\\"id\\\": \\\"30109\\\"}, \\\"new\\\": [{\\\"id\\\": \\\"30890\\\"}, {\\\"id\\\": \\\"30895\\\"}, {\\\"id\\\": \\\"30900\\\"}]}, {\\\"cols\\\": null, \\\"column_source\\\": {\\\"id\\\": \\\"30092\\\"}, \\\"kind\\\": \\\"ColumnDataChanged\\\", \\\"new\\\": {\\\"Actual_0\\\": [5319, 1319], \\\"Actual_1\\\": [206, 5905], \\\"number\\\": [\\\"Predicted_0\\\", \\\"Predicted_1\\\"]}}, {\\\"attr\\\": \\\"columns\\\", \\\"kind\\\": \\\"ModelChanged\\\", \\\"model\\\": {\\\"id\\\": \\\"30130\\\"}, \\\"new\\\": [{\\\"id\\\": \\\"30909\\\"}, {\\\"id\\\": \\\"30914\\\"}, {\\\"id\\\": \\\"30919\\\"}]}, {\\\"cols\\\": null, \\\"column_source\\\": {\\\"id\\\": \\\"30113\\\"}, \\\"kind\\\": \\\"ColumnDataChanged\\\", \\\"new\\\": {\\\"Actual_0\\\": [1317, 343], \\\"Actual_1\\\": [37, 1491], \\\"number\\\": [\\\"Predicted_0\\\", \\\"Predicted_1\\\"]}}, {\\\"attr\\\": \\\"text\\\", \\\"kind\\\": \\\"ModelChanged\\\", \\\"model\\\": {\\\"id\\\": \\\"30142\\\"}, \\\"new\\\": \\\"<span style=\\\\\\\"color:black;font-family:Arial;font-style:bold;font-weight:bold;font-size:12pt\\\\\\\">decision_threshold: 0.15<\\\\/span>\\\"}], \\\"references\\\": [{\\\"attributes\\\": {}, \\\"id\\\": \\\"30908\\\", \\\"type\\\": \\\"StringEditor\\\"}, {\\\"attributes\\\": {}, \\\"id\\\": \\\"30899\\\", \\\"type\\\": \\\"IntEditor\\\"}, {\\\"attributes\\\": {}, \\\"id\\\": \\\"30893\\\", \\\"type\\\": \\\"NumberFormatter\\\"}, {\\\"attributes\\\": {}, \\\"id\\\": \\\"30888\\\", \\\"type\\\": \\\"StringFormatter\\\"}, {\\\"attributes\\\": {\\\"editor\\\": {\\\"id\\\": \\\"30908\\\"}, \\\"field\\\": \\\"number\\\", \\\"formatter\\\": {\\\"id\\\": \\\"30907\\\"}, \\\"title\\\": \\\"#\\\"}, \\\"id\\\": \\\"30909\\\", \\\"type\\\": \\\"TableColumn\\\"}, {\\\"attributes\\\": {}, \\\"id\\\": \\\"30894\\\", \\\"type\\\": \\\"IntEditor\\\"}, {\\\"attributes\\\": {}, \\\"id\\\": \\\"30889\\\", \\\"type\\\": \\\"StringEditor\\\"}, {\\\"attributes\\\": {}, \\\"id\\\": \\\"30907\\\", \\\"type\\\": \\\"StringFormatter\\\"}, {\\\"attributes\\\": {}, \\\"id\\\": \\\"30918\\\", \\\"type\\\": \\\"IntEditor\\\"}, {\\\"attributes\\\": {}, \\\"id\\\": \\\"30912\\\", \\\"type\\\": \\\"NumberFormatter\\\"}, {\\\"attributes\\\": {\\\"editor\\\": {\\\"id\\\": \\\"30918\\\"}, \\\"field\\\": \\\"Actual_1\\\", \\\"formatter\\\": {\\\"id\\\": \\\"30917\\\"}, \\\"title\\\": \\\"Actual_1\\\"}, \\\"id\\\": \\\"30919\\\", \\\"type\\\": \\\"TableColumn\\\"}, {\\\"attributes\\\": {}, \\\"id\\\": \\\"30917\\\", \\\"type\\\": \\\"NumberFormatter\\\"}, {\\\"attributes\\\": {\\\"editor\\\": {\\\"id\\\": \\\"30889\\\"}, \\\"field\\\": \\\"number\\\", \\\"formatter\\\": {\\\"id\\\": \\\"30888\\\"}, \\\"title\\\": \\\"#\\\"}, \\\"id\\\": \\\"30890\\\", \\\"type\\\": \\\"TableColumn\\\"}, {\\\"attributes\\\": {}, \\\"id\\\": \\\"30913\\\", \\\"type\\\": \\\"IntEditor\\\"}, {\\\"attributes\\\": {\\\"editor\\\": {\\\"id\\\": \\\"30899\\\"}, \\\"field\\\": \\\"Actual_1\\\", \\\"formatter\\\": {\\\"id\\\": \\\"30898\\\"}, \\\"title\\\": \\\"Actual_1\\\"}, \\\"id\\\": \\\"30900\\\", \\\"type\\\": \\\"TableColumn\\\"}, {\\\"attributes\\\": {}, \\\"id\\\": \\\"30898\\\", \\\"type\\\": \\\"NumberFormatter\\\"}, {\\\"attributes\\\": {\\\"editor\\\": {\\\"id\\\": \\\"30913\\\"}, \\\"field\\\": \\\"Actual_0\\\", \\\"formatter\\\": {\\\"id\\\": \\\"30912\\\"}, \\\"title\\\": \\\"Actual_0\\\"}, \\\"id\\\": \\\"30914\\\", \\\"type\\\": \\\"TableColumn\\\"}, {\\\"attributes\\\": {\\\"editor\\\": {\\\"id\\\": \\\"30894\\\"}, \\\"field\\\": \\\"Actual_0\\\", \\\"formatter\\\": {\\\"id\\\": \\\"30893\\\"}, \\\"title\\\": \\\"Actual_0\\\"}, \\\"id\\\": \\\"30895\\\", \\\"type\\\": \\\"TableColumn\\\"}]}\",\"header\":\"{\\\"msgid\\\": \\\"30926\\\", \\\"msgtype\\\": \\\"PATCH-DOC\\\"}\",\"metadata\":\"{}\"},\"3\":{\"content\":\"{\\\"events\\\": [{\\\"attr\\\": \\\"columns\\\", \\\"kind\\\": \\\"ModelChanged\\\", \\\"model\\\": {\\\"id\\\": \\\"30109\\\"}, \\\"new\\\": [{\\\"id\\\": \\\"30851\\\"}, {\\\"id\\\": \\\"30856\\\"}, {\\\"id\\\": \\\"30861\\\"}]}, {\\\"cols\\\": null, \\\"column_source\\\": {\\\"id\\\": \\\"30092\\\"}, \\\"kind\\\": \\\"ColumnDataChanged\\\", \\\"new\\\": {\\\"Actual_0\\\": [5614, 1024], \\\"Actual_1\\\": [248, 5863], \\\"number\\\": [\\\"Predicted_0\\\", \\\"Predicted_1\\\"]}}, {\\\"attr\\\": \\\"columns\\\", \\\"kind\\\": \\\"ModelChanged\\\", \\\"model\\\": {\\\"id\\\": \\\"30130\\\"}, \\\"new\\\": [{\\\"id\\\": \\\"30870\\\"}, {\\\"id\\\": \\\"30875\\\"}, {\\\"id\\\": \\\"30880\\\"}]}, {\\\"cols\\\": null, \\\"column_source\\\": {\\\"id\\\": \\\"30113\\\"}, \\\"kind\\\": \\\"ColumnDataChanged\\\", \\\"new\\\": {\\\"Actual_0\\\": [1384, 276], \\\"Actual_1\\\": [44, 1484], \\\"number\\\": [\\\"Predicted_0\\\", \\\"Predicted_1\\\"]}}, {\\\"attr\\\": \\\"text\\\", \\\"kind\\\": \\\"ModelChanged\\\", \\\"model\\\": {\\\"id\\\": \\\"30142\\\"}, \\\"new\\\": \\\"<span style=\\\\\\\"color:black;font-family:Arial;font-style:bold;font-weight:bold;font-size:12pt\\\\\\\">decision_threshold: 0.2<\\\\/span>\\\"}], \\\"references\\\": [{\\\"attributes\\\": {\\\"editor\\\": {\\\"id\\\": \\\"30855\\\"}, \\\"field\\\": \\\"Actual_0\\\", \\\"formatter\\\": {\\\"id\\\": \\\"30854\\\"}, \\\"title\\\": \\\"Actual_0\\\"}, \\\"id\\\": \\\"30856\\\", \\\"type\\\": \\\"TableColumn\\\"}, {\\\"attributes\\\": {}, \\\"id\\\": \\\"30860\\\", \\\"type\\\": \\\"IntEditor\\\"}, {\\\"attributes\\\": {\\\"editor\\\": {\\\"id\\\": \\\"30850\\\"}, \\\"field\\\": \\\"number\\\", \\\"formatter\\\": {\\\"id\\\": \\\"30849\\\"}, \\\"title\\\": \\\"#\\\"}, \\\"id\\\": \\\"30851\\\", \\\"type\\\": \\\"TableColumn\\\"}, {\\\"attributes\\\": {\\\"editor\\\": {\\\"id\\\": \\\"30869\\\"}, \\\"field\\\": \\\"number\\\", \\\"formatter\\\": {\\\"id\\\": \\\"30868\\\"}, \\\"title\\\": \\\"#\\\"}, \\\"id\\\": \\\"30870\\\", \\\"type\\\": \\\"TableColumn\\\"}, {\\\"attributes\\\": {}, \\\"id\\\": \\\"30879\\\", \\\"type\\\": \\\"IntEditor\\\"}, {\\\"attributes\\\": {}, \\\"id\\\": \\\"30874\\\", \\\"type\\\": \\\"IntEditor\\\"}, {\\\"attributes\\\": {}, \\\"id\\\": \\\"30859\\\", \\\"type\\\": \\\"NumberFormatter\\\"}, {\\\"attributes\\\": {}, \\\"id\\\": \\\"30854\\\", \\\"type\\\": \\\"NumberFormatter\\\"}, {\\\"attributes\\\": {}, \\\"id\\\": \\\"30849\\\", \\\"type\\\": \\\"StringFormatter\\\"}, {\\\"attributes\\\": {\\\"editor\\\": {\\\"id\\\": \\\"30879\\\"}, \\\"field\\\": \\\"Actual_1\\\", \\\"formatter\\\": {\\\"id\\\": \\\"30878\\\"}, \\\"title\\\": \\\"Actual_1\\\"}, \\\"id\\\": \\\"30880\\\", \\\"type\\\": \\\"TableColumn\\\"}, {\\\"attributes\\\": {}, \\\"id\\\": \\\"30869\\\", \\\"type\\\": \\\"StringEditor\\\"}, {\\\"attributes\\\": {}, \\\"id\\\": \\\"30873\\\", \\\"type\\\": \\\"NumberFormatter\\\"}, {\\\"attributes\\\": {}, \\\"id\\\": \\\"30868\\\", \\\"type\\\": \\\"StringFormatter\\\"}, {\\\"attributes\\\": {\\\"editor\\\": {\\\"id\\\": \\\"30860\\\"}, \\\"field\\\": \\\"Actual_1\\\", \\\"formatter\\\": {\\\"id\\\": \\\"30859\\\"}, \\\"title\\\": \\\"Actual_1\\\"}, \\\"id\\\": \\\"30861\\\", \\\"type\\\": \\\"TableColumn\\\"}, {\\\"attributes\\\": {}, \\\"id\\\": \\\"30850\\\", \\\"type\\\": \\\"StringEditor\\\"}, {\\\"attributes\\\": {}, \\\"id\\\": \\\"30878\\\", \\\"type\\\": \\\"NumberFormatter\\\"}, {\\\"attributes\\\": {\\\"editor\\\": {\\\"id\\\": \\\"30874\\\"}, \\\"field\\\": \\\"Actual_0\\\", \\\"formatter\\\": {\\\"id\\\": \\\"30873\\\"}, \\\"title\\\": \\\"Actual_0\\\"}, \\\"id\\\": \\\"30875\\\", \\\"type\\\": \\\"TableColumn\\\"}, {\\\"attributes\\\": {}, \\\"id\\\": \\\"30855\\\", \\\"type\\\": \\\"IntEditor\\\"}]}\",\"header\":\"{\\\"msgid\\\": \\\"30887\\\", \\\"msgtype\\\": \\\"PATCH-DOC\\\"}\",\"metadata\":\"{}\"},\"4\":{\"content\":\"{\\\"events\\\": [{\\\"attr\\\": \\\"columns\\\", \\\"kind\\\": \\\"ModelChanged\\\", \\\"model\\\": {\\\"id\\\": \\\"30109\\\"}, \\\"new\\\": [{\\\"id\\\": \\\"30812\\\"}, {\\\"id\\\": \\\"30817\\\"}, {\\\"id\\\": \\\"30822\\\"}]}, {\\\"cols\\\": null, \\\"column_source\\\": {\\\"id\\\": \\\"30092\\\"}, \\\"kind\\\": \\\"ColumnDataChanged\\\", \\\"new\\\": {\\\"Actual_0\\\": [5833, 805], \\\"Actual_1\\\": [344, 5767], \\\"number\\\": [\\\"Predicted_0\\\", \\\"Predicted_1\\\"]}}, {\\\"attr\\\": \\\"columns\\\", \\\"kind\\\": \\\"ModelChanged\\\", \\\"model\\\": {\\\"id\\\": \\\"30130\\\"}, \\\"new\\\": [{\\\"id\\\": \\\"30831\\\"}, {\\\"id\\\": \\\"30836\\\"}, {\\\"id\\\": \\\"30841\\\"}]}, {\\\"cols\\\": null, \\\"column_source\\\": {\\\"id\\\": \\\"30113\\\"}, \\\"kind\\\": \\\"ColumnDataChanged\\\", \\\"new\\\": {\\\"Actual_0\\\": [1441, 219], \\\"Actual_1\\\": [69, 1459], \\\"number\\\": [\\\"Predicted_0\\\", \\\"Predicted_1\\\"]}}, {\\\"attr\\\": \\\"text\\\", \\\"kind\\\": \\\"ModelChanged\\\", \\\"model\\\": {\\\"id\\\": \\\"30142\\\"}, \\\"new\\\": \\\"<span style=\\\\\\\"color:black;font-family:Arial;font-style:bold;font-weight:bold;font-size:12pt\\\\\\\">decision_threshold: 0.25<\\\\/span>\\\"}], \\\"references\\\": [{\\\"attributes\\\": {}, \\\"id\\\": \\\"30834\\\", \\\"type\\\": \\\"NumberFormatter\\\"}, {\\\"attributes\\\": {}, \\\"id\\\": \\\"30816\\\", \\\"type\\\": \\\"IntEditor\\\"}, {\\\"attributes\\\": {}, \\\"id\\\": \\\"30821\\\", \\\"type\\\": \\\"IntEditor\\\"}, {\\\"attributes\\\": {\\\"editor\\\": {\\\"id\\\": \\\"30835\\\"}, \\\"field\\\": \\\"Actual_0\\\", \\\"formatter\\\": {\\\"id\\\": \\\"30834\\\"}, \\\"title\\\": \\\"Actual_0\\\"}, \\\"id\\\": \\\"30836\\\", \\\"type\\\": \\\"TableColumn\\\"}, {\\\"attributes\\\": {}, \\\"id\\\": \\\"30830\\\", \\\"type\\\": \\\"StringEditor\\\"}, {\\\"attributes\\\": {}, \\\"id\\\": \\\"30810\\\", \\\"type\\\": \\\"StringFormatter\\\"}, {\\\"attributes\\\": {}, \\\"id\\\": \\\"30811\\\", \\\"type\\\": \\\"StringEditor\\\"}, {\\\"attributes\\\": {\\\"editor\\\": {\\\"id\\\": \\\"30830\\\"}, \\\"field\\\": \\\"number\\\", \\\"formatter\\\": {\\\"id\\\": \\\"30829\\\"}, \\\"title\\\": \\\"#\\\"}, \\\"id\\\": \\\"30831\\\", \\\"type\\\": \\\"TableColumn\\\"}, {\\\"attributes\\\": {}, \\\"id\\\": \\\"30839\\\", \\\"type\\\": \\\"NumberFormatter\\\"}, {\\\"attributes\\\": {\\\"editor\\\": {\\\"id\\\": \\\"30816\\\"}, \\\"field\\\": \\\"Actual_0\\\", \\\"formatter\\\": {\\\"id\\\": \\\"30815\\\"}, \\\"title\\\": \\\"Actual_0\\\"}, \\\"id\\\": \\\"30817\\\", \\\"type\\\": \\\"TableColumn\\\"}, {\\\"attributes\\\": {\\\"editor\\\": {\\\"id\\\": \\\"30840\\\"}, \\\"field\\\": \\\"Actual_1\\\", \\\"formatter\\\": {\\\"id\\\": \\\"30839\\\"}, \\\"title\\\": \\\"Actual_1\\\"}, \\\"id\\\": \\\"30841\\\", \\\"type\\\": \\\"TableColumn\\\"}, {\\\"attributes\\\": {}, \\\"id\\\": \\\"30840\\\", \\\"type\\\": \\\"IntEditor\\\"}, {\\\"attributes\\\": {}, \\\"id\\\": \\\"30815\\\", \\\"type\\\": \\\"NumberFormatter\\\"}, {\\\"attributes\\\": {\\\"editor\\\": {\\\"id\\\": \\\"30821\\\"}, \\\"field\\\": \\\"Actual_1\\\", \\\"formatter\\\": {\\\"id\\\": \\\"30820\\\"}, \\\"title\\\": \\\"Actual_1\\\"}, \\\"id\\\": \\\"30822\\\", \\\"type\\\": \\\"TableColumn\\\"}, {\\\"attributes\\\": {\\\"editor\\\": {\\\"id\\\": \\\"30811\\\"}, \\\"field\\\": \\\"number\\\", \\\"formatter\\\": {\\\"id\\\": \\\"30810\\\"}, \\\"title\\\": \\\"#\\\"}, \\\"id\\\": \\\"30812\\\", \\\"type\\\": \\\"TableColumn\\\"}, {\\\"attributes\\\": {}, \\\"id\\\": \\\"30835\\\", \\\"type\\\": \\\"IntEditor\\\"}, {\\\"attributes\\\": {}, \\\"id\\\": \\\"30829\\\", \\\"type\\\": \\\"StringFormatter\\\"}, {\\\"attributes\\\": {}, \\\"id\\\": \\\"30820\\\", \\\"type\\\": \\\"NumberFormatter\\\"}]}\",\"header\":\"{\\\"msgid\\\": \\\"30848\\\", \\\"msgtype\\\": \\\"PATCH-DOC\\\"}\",\"metadata\":\"{}\"},\"5\":{\"content\":\"{\\\"events\\\": [{\\\"attr\\\": \\\"columns\\\", \\\"kind\\\": \\\"ModelChanged\\\", \\\"model\\\": {\\\"id\\\": \\\"30109\\\"}, \\\"new\\\": [{\\\"id\\\": \\\"30773\\\"}, {\\\"id\\\": \\\"30778\\\"}, {\\\"id\\\": \\\"30783\\\"}]}, {\\\"cols\\\": null, \\\"column_source\\\": {\\\"id\\\": \\\"30092\\\"}, \\\"kind\\\": \\\"ColumnDataChanged\\\", \\\"new\\\": {\\\"Actual_0\\\": [6029, 609], \\\"Actual_1\\\": [398, 5713], \\\"number\\\": [\\\"Predicted_0\\\", \\\"Predicted_1\\\"]}}, {\\\"attr\\\": \\\"columns\\\", \\\"kind\\\": \\\"ModelChanged\\\", \\\"model\\\": {\\\"id\\\": \\\"30130\\\"}, \\\"new\\\": [{\\\"id\\\": \\\"30792\\\"}, {\\\"id\\\": \\\"30797\\\"}, {\\\"id\\\": \\\"30802\\\"}]}, {\\\"cols\\\": null, \\\"column_source\\\": {\\\"id\\\": \\\"30113\\\"}, \\\"kind\\\": \\\"ColumnDataChanged\\\", \\\"new\\\": {\\\"Actual_0\\\": [1503, 157], \\\"Actual_1\\\": [80, 1448], \\\"number\\\": [\\\"Predicted_0\\\", \\\"Predicted_1\\\"]}}, {\\\"attr\\\": \\\"text\\\", \\\"kind\\\": \\\"ModelChanged\\\", \\\"model\\\": {\\\"id\\\": \\\"30142\\\"}, \\\"new\\\": \\\"<span style=\\\\\\\"color:black;font-family:Arial;font-style:bold;font-weight:bold;font-size:12pt\\\\\\\">decision_threshold: 0.3<\\\\/span>\\\"}], \\\"references\\\": [{\\\"attributes\\\": {\\\"editor\\\": {\\\"id\\\": \\\"30782\\\"}, \\\"field\\\": \\\"Actual_1\\\", \\\"formatter\\\": {\\\"id\\\": \\\"30781\\\"}, \\\"title\\\": \\\"Actual_1\\\"}, \\\"id\\\": \\\"30783\\\", \\\"type\\\": \\\"TableColumn\\\"}, {\\\"attributes\\\": {}, \\\"id\\\": \\\"30795\\\", \\\"type\\\": \\\"NumberFormatter\\\"}, {\\\"attributes\\\": {}, \\\"id\\\": \\\"30791\\\", \\\"type\\\": \\\"StringEditor\\\"}, {\\\"attributes\\\": {}, \\\"id\\\": \\\"30777\\\", \\\"type\\\": \\\"IntEditor\\\"}, {\\\"attributes\\\": {\\\"editor\\\": {\\\"id\\\": \\\"30801\\\"}, \\\"field\\\": \\\"Actual_1\\\", \\\"formatter\\\": {\\\"id\\\": \\\"30800\\\"}, \\\"title\\\": \\\"Actual_1\\\"}, \\\"id\\\": \\\"30802\\\", \\\"type\\\": \\\"TableColumn\\\"}, {\\\"attributes\\\": {}, \\\"id\\\": \\\"30772\\\", \\\"type\\\": \\\"StringEditor\\\"}, {\\\"attributes\\\": {\\\"editor\\\": {\\\"id\\\": \\\"30777\\\"}, \\\"field\\\": \\\"Actual_0\\\", \\\"formatter\\\": {\\\"id\\\": \\\"30776\\\"}, \\\"title\\\": \\\"Actual_0\\\"}, \\\"id\\\": \\\"30778\\\", \\\"type\\\": \\\"TableColumn\\\"}, {\\\"attributes\\\": {}, \\\"id\\\": \\\"30801\\\", \\\"type\\\": \\\"IntEditor\\\"}, {\\\"attributes\\\": {\\\"editor\\\": {\\\"id\\\": \\\"30796\\\"}, \\\"field\\\": \\\"Actual_0\\\", \\\"formatter\\\": {\\\"id\\\": \\\"30795\\\"}, \\\"title\\\": \\\"Actual_0\\\"}, \\\"id\\\": \\\"30797\\\", \\\"type\\\": \\\"TableColumn\\\"}, {\\\"attributes\\\": {}, \\\"id\\\": \\\"30790\\\", \\\"type\\\": \\\"StringFormatter\\\"}, {\\\"attributes\\\": {}, \\\"id\\\": \\\"30781\\\", \\\"type\\\": \\\"NumberFormatter\\\"}, {\\\"attributes\\\": {}, \\\"id\\\": \\\"30800\\\", \\\"type\\\": \\\"NumberFormatter\\\"}, {\\\"attributes\\\": {}, \\\"id\\\": \\\"30796\\\", \\\"type\\\": \\\"IntEditor\\\"}, {\\\"attributes\\\": {}, \\\"id\\\": \\\"30771\\\", \\\"type\\\": \\\"StringFormatter\\\"}, {\\\"attributes\\\": {}, \\\"id\\\": \\\"30776\\\", \\\"type\\\": \\\"NumberFormatter\\\"}, {\\\"attributes\\\": {\\\"editor\\\": {\\\"id\\\": \\\"30772\\\"}, \\\"field\\\": \\\"number\\\", \\\"formatter\\\": {\\\"id\\\": \\\"30771\\\"}, \\\"title\\\": \\\"#\\\"}, \\\"id\\\": \\\"30773\\\", \\\"type\\\": \\\"TableColumn\\\"}, {\\\"attributes\\\": {\\\"editor\\\": {\\\"id\\\": \\\"30791\\\"}, \\\"field\\\": \\\"number\\\", \\\"formatter\\\": {\\\"id\\\": \\\"30790\\\"}, \\\"title\\\": \\\"#\\\"}, \\\"id\\\": \\\"30792\\\", \\\"type\\\": \\\"TableColumn\\\"}, {\\\"attributes\\\": {}, \\\"id\\\": \\\"30782\\\", \\\"type\\\": \\\"IntEditor\\\"}]}\",\"header\":\"{\\\"msgid\\\": \\\"30809\\\", \\\"msgtype\\\": \\\"PATCH-DOC\\\"}\",\"metadata\":\"{}\"},\"6\":{\"content\":\"{\\\"events\\\": [{\\\"attr\\\": \\\"columns\\\", \\\"kind\\\": \\\"ModelChanged\\\", \\\"model\\\": {\\\"id\\\": \\\"30109\\\"}, \\\"new\\\": [{\\\"id\\\": \\\"30734\\\"}, {\\\"id\\\": \\\"30739\\\"}, {\\\"id\\\": \\\"30744\\\"}]}, {\\\"cols\\\": null, \\\"column_source\\\": {\\\"id\\\": \\\"30092\\\"}, \\\"kind\\\": \\\"ColumnDataChanged\\\", \\\"new\\\": {\\\"Actual_0\\\": [6139, 499], \\\"Actual_1\\\": [427, 5684], \\\"number\\\": [\\\"Predicted_0\\\", \\\"Predicted_1\\\"]}}, {\\\"attr\\\": \\\"columns\\\", \\\"kind\\\": \\\"ModelChanged\\\", \\\"model\\\": {\\\"id\\\": \\\"30130\\\"}, \\\"new\\\": [{\\\"id\\\": \\\"30753\\\"}, {\\\"id\\\": \\\"30758\\\"}, {\\\"id\\\": \\\"30763\\\"}]}, {\\\"cols\\\": null, \\\"column_source\\\": {\\\"id\\\": \\\"30113\\\"}, \\\"kind\\\": \\\"ColumnDataChanged\\\", \\\"new\\\": {\\\"Actual_0\\\": [1532, 128], \\\"Actual_1\\\": [88, 1440], \\\"number\\\": [\\\"Predicted_0\\\", \\\"Predicted_1\\\"]}}, {\\\"attr\\\": \\\"text\\\", \\\"kind\\\": \\\"ModelChanged\\\", \\\"model\\\": {\\\"id\\\": \\\"30142\\\"}, \\\"new\\\": \\\"<span style=\\\\\\\"color:black;font-family:Arial;font-style:bold;font-weight:bold;font-size:12pt\\\\\\\">decision_threshold: 0.35<\\\\/span>\\\"}], \\\"references\\\": [{\\\"attributes\\\": {}, \\\"id\\\": \\\"30762\\\", \\\"type\\\": \\\"IntEditor\\\"}, {\\\"attributes\\\": {\\\"editor\\\": {\\\"id\\\": \\\"30738\\\"}, \\\"field\\\": \\\"Actual_0\\\", \\\"formatter\\\": {\\\"id\\\": \\\"30737\\\"}, \\\"title\\\": \\\"Actual_0\\\"}, \\\"id\\\": \\\"30739\\\", \\\"type\\\": \\\"TableColumn\\\"}, {\\\"attributes\\\": {}, \\\"id\\\": \\\"30738\\\", \\\"type\\\": \\\"IntEditor\\\"}, {\\\"attributes\\\": {\\\"editor\\\": {\\\"id\\\": \\\"30762\\\"}, \\\"field\\\": \\\"Actual_1\\\", \\\"formatter\\\": {\\\"id\\\": \\\"30761\\\"}, \\\"title\\\": \\\"Actual_1\\\"}, \\\"id\\\": \\\"30763\\\", \\\"type\\\": \\\"TableColumn\\\"}, {\\\"attributes\\\": {}, \\\"id\\\": \\\"30742\\\", \\\"type\\\": \\\"NumberFormatter\\\"}, {\\\"attributes\\\": {}, \\\"id\\\": \\\"30733\\\", \\\"type\\\": \\\"StringEditor\\\"}, {\\\"attributes\\\": {\\\"editor\\\": {\\\"id\\\": \\\"30743\\\"}, \\\"field\\\": \\\"Actual_1\\\", \\\"formatter\\\": {\\\"id\\\": \\\"30742\\\"}, \\\"title\\\": \\\"Actual_1\\\"}, \\\"id\\\": \\\"30744\\\", \\\"type\\\": \\\"TableColumn\\\"}, {\\\"attributes\\\": {}, \\\"id\\\": \\\"30752\\\", \\\"type\\\": \\\"StringEditor\\\"}, {\\\"attributes\\\": {}, \\\"id\\\": \\\"30737\\\", \\\"type\\\": \\\"NumberFormatter\\\"}, {\\\"attributes\\\": {\\\"editor\\\": {\\\"id\\\": \\\"30752\\\"}, \\\"field\\\": \\\"number\\\", \\\"formatter\\\": {\\\"id\\\": \\\"30751\\\"}, \\\"title\\\": \\\"#\\\"}, \\\"id\\\": \\\"30753\\\", \\\"type\\\": \\\"TableColumn\\\"}, {\\\"attributes\\\": {\\\"editor\\\": {\\\"id\\\": \\\"30757\\\"}, \\\"field\\\": \\\"Actual_0\\\", \\\"formatter\\\": {\\\"id\\\": \\\"30756\\\"}, \\\"title\\\": \\\"Actual_0\\\"}, \\\"id\\\": \\\"30758\\\", \\\"type\\\": \\\"TableColumn\\\"}, {\\\"attributes\\\": {\\\"editor\\\": {\\\"id\\\": \\\"30733\\\"}, \\\"field\\\": \\\"number\\\", \\\"formatter\\\": {\\\"id\\\": \\\"30732\\\"}, \\\"title\\\": \\\"#\\\"}, \\\"id\\\": \\\"30734\\\", \\\"type\\\": \\\"TableColumn\\\"}, {\\\"attributes\\\": {}, \\\"id\\\": \\\"30743\\\", \\\"type\\\": \\\"IntEditor\\\"}, {\\\"attributes\\\": {}, \\\"id\\\": \\\"30732\\\", \\\"type\\\": \\\"StringFormatter\\\"}, {\\\"attributes\\\": {}, \\\"id\\\": \\\"30757\\\", \\\"type\\\": \\\"IntEditor\\\"}, {\\\"attributes\\\": {}, \\\"id\\\": \\\"30756\\\", \\\"type\\\": \\\"NumberFormatter\\\"}, {\\\"attributes\\\": {}, \\\"id\\\": \\\"30751\\\", \\\"type\\\": \\\"StringFormatter\\\"}, {\\\"attributes\\\": {}, \\\"id\\\": \\\"30761\\\", \\\"type\\\": \\\"NumberFormatter\\\"}]}\",\"header\":\"{\\\"msgid\\\": \\\"30770\\\", \\\"msgtype\\\": \\\"PATCH-DOC\\\"}\",\"metadata\":\"{}\"},\"7\":{\"content\":\"{\\\"events\\\": [{\\\"attr\\\": \\\"columns\\\", \\\"kind\\\": \\\"ModelChanged\\\", \\\"model\\\": {\\\"id\\\": \\\"30109\\\"}, \\\"new\\\": [{\\\"id\\\": \\\"30695\\\"}, {\\\"id\\\": \\\"30700\\\"}, {\\\"id\\\": \\\"30705\\\"}]}, {\\\"cols\\\": null, \\\"column_source\\\": {\\\"id\\\": \\\"30092\\\"}, \\\"kind\\\": \\\"ColumnDataChanged\\\", \\\"new\\\": {\\\"Actual_0\\\": [6242, 396], \\\"Actual_1\\\": [496, 5615], \\\"number\\\": [\\\"Predicted_0\\\", \\\"Predicted_1\\\"]}}, {\\\"attr\\\": \\\"columns\\\", \\\"kind\\\": \\\"ModelChanged\\\", \\\"model\\\": {\\\"id\\\": \\\"30130\\\"}, \\\"new\\\": [{\\\"id\\\": \\\"30714\\\"}, {\\\"id\\\": \\\"30719\\\"}, {\\\"id\\\": \\\"30724\\\"}]}, {\\\"cols\\\": null, \\\"column_source\\\": {\\\"id\\\": \\\"30113\\\"}, \\\"kind\\\": \\\"ColumnDataChanged\\\", \\\"new\\\": {\\\"Actual_0\\\": [1564, 96], \\\"Actual_1\\\": [109, 1419], \\\"number\\\": [\\\"Predicted_0\\\", \\\"Predicted_1\\\"]}}, {\\\"attr\\\": \\\"text\\\", \\\"kind\\\": \\\"ModelChanged\\\", \\\"model\\\": {\\\"id\\\": \\\"30142\\\"}, \\\"new\\\": \\\"<span style=\\\\\\\"color:black;font-family:Arial;font-style:bold;font-weight:bold;font-size:12pt\\\\\\\">decision_threshold: 0.4<\\\\/span>\\\"}], \\\"references\\\": [{\\\"attributes\\\": {}, \\\"id\\\": \\\"30694\\\", \\\"type\\\": \\\"StringEditor\\\"}, {\\\"attributes\\\": {}, \\\"id\\\": \\\"30704\\\", \\\"type\\\": \\\"IntEditor\\\"}, {\\\"attributes\\\": {}, \\\"id\\\": \\\"30693\\\", \\\"type\\\": \\\"StringFormatter\\\"}, {\\\"attributes\\\": {}, \\\"id\\\": \\\"30712\\\", \\\"type\\\": \\\"StringFormatter\\\"}, {\\\"attributes\\\": {}, \\\"id\\\": \\\"30703\\\", \\\"type\\\": \\\"NumberFormatter\\\"}, {\\\"attributes\\\": {\\\"editor\\\": {\\\"id\\\": \\\"30723\\\"}, \\\"field\\\": \\\"Actual_1\\\", \\\"formatter\\\": {\\\"id\\\": \\\"30722\\\"}, \\\"title\\\": \\\"Actual_1\\\"}, \\\"id\\\": \\\"30724\\\", \\\"type\\\": \\\"TableColumn\\\"}, {\\\"attributes\\\": {\\\"editor\\\": {\\\"id\\\": \\\"30718\\\"}, \\\"field\\\": \\\"Actual_0\\\", \\\"formatter\\\": {\\\"id\\\": \\\"30717\\\"}, \\\"title\\\": \\\"Actual_0\\\"}, \\\"id\\\": \\\"30719\\\", \\\"type\\\": \\\"TableColumn\\\"}, {\\\"attributes\\\": {}, \\\"id\\\": \\\"30699\\\", \\\"type\\\": \\\"IntEditor\\\"}, {\\\"attributes\\\": {}, \\\"id\\\": \\\"30713\\\", \\\"type\\\": \\\"StringEditor\\\"}, {\\\"attributes\\\": {\\\"editor\\\": {\\\"id\\\": \\\"30699\\\"}, \\\"field\\\": \\\"Actual_0\\\", \\\"formatter\\\": {\\\"id\\\": \\\"30698\\\"}, \\\"title\\\": \\\"Actual_0\\\"}, \\\"id\\\": \\\"30700\\\", \\\"type\\\": \\\"TableColumn\\\"}, {\\\"attributes\\\": {}, \\\"id\\\": \\\"30723\\\", \\\"type\\\": \\\"IntEditor\\\"}, {\\\"attributes\\\": {}, \\\"id\\\": \\\"30718\\\", \\\"type\\\": \\\"IntEditor\\\"}, {\\\"attributes\\\": {}, \\\"id\\\": \\\"30722\\\", \\\"type\\\": \\\"NumberFormatter\\\"}, {\\\"attributes\\\": {\\\"editor\\\": {\\\"id\\\": \\\"30694\\\"}, \\\"field\\\": \\\"number\\\", \\\"formatter\\\": {\\\"id\\\": \\\"30693\\\"}, \\\"title\\\": \\\"#\\\"}, \\\"id\\\": \\\"30695\\\", \\\"type\\\": \\\"TableColumn\\\"}, {\\\"attributes\\\": {}, \\\"id\\\": \\\"30717\\\", \\\"type\\\": \\\"NumberFormatter\\\"}, {\\\"attributes\\\": {}, \\\"id\\\": \\\"30698\\\", \\\"type\\\": \\\"NumberFormatter\\\"}, {\\\"attributes\\\": {\\\"editor\\\": {\\\"id\\\": \\\"30704\\\"}, \\\"field\\\": \\\"Actual_1\\\", \\\"formatter\\\": {\\\"id\\\": \\\"30703\\\"}, \\\"title\\\": \\\"Actual_1\\\"}, \\\"id\\\": \\\"30705\\\", \\\"type\\\": \\\"TableColumn\\\"}, {\\\"attributes\\\": {\\\"editor\\\": {\\\"id\\\": \\\"30713\\\"}, \\\"field\\\": \\\"number\\\", \\\"formatter\\\": {\\\"id\\\": \\\"30712\\\"}, \\\"title\\\": \\\"#\\\"}, \\\"id\\\": \\\"30714\\\", \\\"type\\\": \\\"TableColumn\\\"}]}\",\"header\":\"{\\\"msgid\\\": \\\"30731\\\", \\\"msgtype\\\": \\\"PATCH-DOC\\\"}\",\"metadata\":\"{}\"},\"8\":{\"content\":\"{\\\"events\\\": [{\\\"attr\\\": \\\"columns\\\", \\\"kind\\\": \\\"ModelChanged\\\", \\\"model\\\": {\\\"id\\\": \\\"30109\\\"}, \\\"new\\\": [{\\\"id\\\": \\\"30656\\\"}, {\\\"id\\\": \\\"30661\\\"}, {\\\"id\\\": \\\"30666\\\"}]}, {\\\"cols\\\": null, \\\"column_source\\\": {\\\"id\\\": \\\"30092\\\"}, \\\"kind\\\": \\\"ColumnDataChanged\\\", \\\"new\\\": {\\\"Actual_0\\\": [6338, 300], \\\"Actual_1\\\": [510, 5601], \\\"number\\\": [\\\"Predicted_0\\\", \\\"Predicted_1\\\"]}}, {\\\"attr\\\": \\\"columns\\\", \\\"kind\\\": \\\"ModelChanged\\\", \\\"model\\\": {\\\"id\\\": \\\"30130\\\"}, \\\"new\\\": [{\\\"id\\\": \\\"30675\\\"}, {\\\"id\\\": \\\"30680\\\"}, {\\\"id\\\": \\\"30685\\\"}]}, {\\\"cols\\\": null, \\\"column_source\\\": {\\\"id\\\": \\\"30113\\\"}, \\\"kind\\\": \\\"ColumnDataChanged\\\", \\\"new\\\": {\\\"Actual_0\\\": [1593, 67], \\\"Actual_1\\\": [115, 1413], \\\"number\\\": [\\\"Predicted_0\\\", \\\"Predicted_1\\\"]}}, {\\\"attr\\\": \\\"text\\\", \\\"kind\\\": \\\"ModelChanged\\\", \\\"model\\\": {\\\"id\\\": \\\"30142\\\"}, \\\"new\\\": \\\"<span style=\\\\\\\"color:black;font-family:Arial;font-style:bold;font-weight:bold;font-size:12pt\\\\\\\">decision_threshold: 0.45<\\\\/span>\\\"}], \\\"references\\\": [{\\\"attributes\\\": {}, \\\"id\\\": \\\"30665\\\", \\\"type\\\": \\\"IntEditor\\\"}, {\\\"attributes\\\": {\\\"editor\\\": {\\\"id\\\": \\\"30660\\\"}, \\\"field\\\": \\\"Actual_0\\\", \\\"formatter\\\": {\\\"id\\\": \\\"30659\\\"}, \\\"title\\\": \\\"Actual_0\\\"}, \\\"id\\\": \\\"30661\\\", \\\"type\\\": \\\"TableColumn\\\"}, {\\\"attributes\\\": {\\\"editor\\\": {\\\"id\\\": \\\"30684\\\"}, \\\"field\\\": \\\"Actual_1\\\", \\\"formatter\\\": {\\\"id\\\": \\\"30683\\\"}, \\\"title\\\": \\\"Actual_1\\\"}, \\\"id\\\": \\\"30685\\\", \\\"type\\\": \\\"TableColumn\\\"}, {\\\"attributes\\\": {}, \\\"id\\\": \\\"30664\\\", \\\"type\\\": \\\"NumberFormatter\\\"}, {\\\"attributes\\\": {}, \\\"id\\\": \\\"30673\\\", \\\"type\\\": \\\"StringFormatter\\\"}, {\\\"attributes\\\": {}, \\\"id\\\": \\\"30655\\\", \\\"type\\\": \\\"StringEditor\\\"}, {\\\"attributes\\\": {\\\"editor\\\": {\\\"id\\\": \\\"30665\\\"}, \\\"field\\\": \\\"Actual_1\\\", \\\"formatter\\\": {\\\"id\\\": \\\"30664\\\"}, \\\"title\\\": \\\"Actual_1\\\"}, \\\"id\\\": \\\"30666\\\", \\\"type\\\": \\\"TableColumn\\\"}, {\\\"attributes\\\": {\\\"editor\\\": {\\\"id\\\": \\\"30679\\\"}, \\\"field\\\": \\\"Actual_0\\\", \\\"formatter\\\": {\\\"id\\\": \\\"30678\\\"}, \\\"title\\\": \\\"Actual_0\\\"}, \\\"id\\\": \\\"30680\\\", \\\"type\\\": \\\"TableColumn\\\"}, {\\\"attributes\\\": {}, \\\"id\\\": \\\"30679\\\", \\\"type\\\": \\\"IntEditor\\\"}, {\\\"attributes\\\": {\\\"editor\\\": {\\\"id\\\": \\\"30674\\\"}, \\\"field\\\": \\\"number\\\", \\\"formatter\\\": {\\\"id\\\": \\\"30673\\\"}, \\\"title\\\": \\\"#\\\"}, \\\"id\\\": \\\"30675\\\", \\\"type\\\": \\\"TableColumn\\\"}, {\\\"attributes\\\": {}, \\\"id\\\": \\\"30678\\\", \\\"type\\\": \\\"NumberFormatter\\\"}, {\\\"attributes\\\": {}, \\\"id\\\": \\\"30674\\\", \\\"type\\\": \\\"StringEditor\\\"}, {\\\"attributes\\\": {}, \\\"id\\\": \\\"30684\\\", \\\"type\\\": \\\"IntEditor\\\"}, {\\\"attributes\\\": {\\\"editor\\\": {\\\"id\\\": \\\"30655\\\"}, \\\"field\\\": \\\"number\\\", \\\"formatter\\\": {\\\"id\\\": \\\"30654\\\"}, \\\"title\\\": \\\"#\\\"}, \\\"id\\\": \\\"30656\\\", \\\"type\\\": \\\"TableColumn\\\"}, {\\\"attributes\\\": {}, \\\"id\\\": \\\"30683\\\", \\\"type\\\": \\\"NumberFormatter\\\"}, {\\\"attributes\\\": {}, \\\"id\\\": \\\"30660\\\", \\\"type\\\": \\\"IntEditor\\\"}, {\\\"attributes\\\": {}, \\\"id\\\": \\\"30654\\\", \\\"type\\\": \\\"StringFormatter\\\"}, {\\\"attributes\\\": {}, \\\"id\\\": \\\"30659\\\", \\\"type\\\": \\\"NumberFormatter\\\"}]}\",\"header\":\"{\\\"msgid\\\": \\\"30692\\\", \\\"msgtype\\\": \\\"PATCH-DOC\\\"}\",\"metadata\":\"{}\"},\"9\":{\"content\":\"{\\\"events\\\": [{\\\"attr\\\": \\\"columns\\\", \\\"kind\\\": \\\"ModelChanged\\\", \\\"model\\\": {\\\"id\\\": \\\"30109\\\"}, \\\"new\\\": [{\\\"id\\\": \\\"30617\\\"}, {\\\"id\\\": \\\"30622\\\"}, {\\\"id\\\": \\\"30627\\\"}]}, {\\\"cols\\\": null, \\\"column_source\\\": {\\\"id\\\": \\\"30092\\\"}, \\\"kind\\\": \\\"ColumnDataChanged\\\", \\\"new\\\": {\\\"Actual_0\\\": [6424, 214], \\\"Actual_1\\\": [527, 5584], \\\"number\\\": [\\\"Predicted_0\\\", \\\"Predicted_1\\\"]}}, {\\\"attr\\\": \\\"columns\\\", \\\"kind\\\": \\\"ModelChanged\\\", \\\"model\\\": {\\\"id\\\": \\\"30130\\\"}, \\\"new\\\": [{\\\"id\\\": \\\"30636\\\"}, {\\\"id\\\": \\\"30641\\\"}, {\\\"id\\\": \\\"30646\\\"}]}, {\\\"cols\\\": null, \\\"column_source\\\": {\\\"id\\\": \\\"30113\\\"}, \\\"kind\\\": \\\"ColumnDataChanged\\\", \\\"new\\\": {\\\"Actual_0\\\": [1608, 52], \\\"Actual_1\\\": [121, 1407], \\\"number\\\": [\\\"Predicted_0\\\", \\\"Predicted_1\\\"]}}, {\\\"attr\\\": \\\"text\\\", \\\"kind\\\": \\\"ModelChanged\\\", \\\"model\\\": {\\\"id\\\": \\\"30142\\\"}, \\\"new\\\": \\\"<span style=\\\\\\\"color:black;font-family:Arial;font-style:bold;font-weight:bold;font-size:12pt\\\\\\\">decision_threshold: 0.5<\\\\/span>\\\"}], \\\"references\\\": [{\\\"attributes\\\": {\\\"editor\\\": {\\\"id\\\": \\\"30645\\\"}, \\\"field\\\": \\\"Actual_1\\\", \\\"formatter\\\": {\\\"id\\\": \\\"30644\\\"}, \\\"title\\\": \\\"Actual_1\\\"}, \\\"id\\\": \\\"30646\\\", \\\"type\\\": \\\"TableColumn\\\"}, {\\\"attributes\\\": {}, \\\"id\\\": \\\"30625\\\", \\\"type\\\": \\\"NumberFormatter\\\"}, {\\\"attributes\\\": {}, \\\"id\\\": \\\"30621\\\", \\\"type\\\": \\\"IntEditor\\\"}, {\\\"attributes\\\": {}, \\\"id\\\": \\\"30620\\\", \\\"type\\\": \\\"NumberFormatter\\\"}, {\\\"attributes\\\": {}, \\\"id\\\": \\\"30645\\\", \\\"type\\\": \\\"IntEditor\\\"}, {\\\"attributes\\\": {\\\"editor\\\": {\\\"id\\\": \\\"30626\\\"}, \\\"field\\\": \\\"Actual_1\\\", \\\"formatter\\\": {\\\"id\\\": \\\"30625\\\"}, \\\"title\\\": \\\"Actual_1\\\"}, \\\"id\\\": \\\"30627\\\", \\\"type\\\": \\\"TableColumn\\\"}, {\\\"attributes\\\": {\\\"editor\\\": {\\\"id\\\": \\\"30635\\\"}, \\\"field\\\": \\\"number\\\", \\\"formatter\\\": {\\\"id\\\": \\\"30634\\\"}, \\\"title\\\": \\\"#\\\"}, \\\"id\\\": \\\"30636\\\", \\\"type\\\": \\\"TableColumn\\\"}, {\\\"attributes\\\": {}, \\\"id\\\": \\\"30616\\\", \\\"type\\\": \\\"StringEditor\\\"}, {\\\"attributes\\\": {}, \\\"id\\\": \\\"30634\\\", \\\"type\\\": \\\"StringFormatter\\\"}, {\\\"attributes\\\": {}, \\\"id\\\": \\\"30626\\\", \\\"type\\\": \\\"IntEditor\\\"}, {\\\"attributes\\\": {\\\"editor\\\": {\\\"id\\\": \\\"30621\\\"}, \\\"field\\\": \\\"Actual_0\\\", \\\"formatter\\\": {\\\"id\\\": \\\"30620\\\"}, \\\"title\\\": \\\"Actual_0\\\"}, \\\"id\\\": \\\"30622\\\", \\\"type\\\": \\\"TableColumn\\\"}, {\\\"attributes\\\": {}, \\\"id\\\": \\\"30635\\\", \\\"type\\\": \\\"StringEditor\\\"}, {\\\"attributes\\\": {}, \\\"id\\\": \\\"30639\\\", \\\"type\\\": \\\"NumberFormatter\\\"}, {\\\"attributes\\\": {\\\"editor\\\": {\\\"id\\\": \\\"30616\\\"}, \\\"field\\\": \\\"number\\\", \\\"formatter\\\": {\\\"id\\\": \\\"30615\\\"}, \\\"title\\\": \\\"#\\\"}, \\\"id\\\": \\\"30617\\\", \\\"type\\\": \\\"TableColumn\\\"}, {\\\"attributes\\\": {}, \\\"id\\\": \\\"30640\\\", \\\"type\\\": \\\"IntEditor\\\"}, {\\\"attributes\\\": {\\\"editor\\\": {\\\"id\\\": \\\"30640\\\"}, \\\"field\\\": \\\"Actual_0\\\", \\\"formatter\\\": {\\\"id\\\": \\\"30639\\\"}, \\\"title\\\": \\\"Actual_0\\\"}, \\\"id\\\": \\\"30641\\\", \\\"type\\\": \\\"TableColumn\\\"}, {\\\"attributes\\\": {}, \\\"id\\\": \\\"30644\\\", \\\"type\\\": \\\"NumberFormatter\\\"}, {\\\"attributes\\\": {}, \\\"id\\\": \\\"30615\\\", \\\"type\\\": \\\"StringFormatter\\\"}]}\",\"header\":\"{\\\"msgid\\\": \\\"30653\\\", \\\"msgtype\\\": \\\"PATCH-DOC\\\"}\",\"metadata\":\"{}\"}},\"values\":[9],\"widgets\":{\"30246\":0}},\"id\":\"30254\",\"type\":\"panel.models.state.State\"},{\"attributes\":{\"children\":[{\"id\":\"30090\"},{\"id\":\"30241\"}],\"margin\":[0,0,0,0],\"name\":\"Column98011\"},\"id\":\"30089\",\"type\":\"Column\"},{\"attributes\":{\"editor\":{\"id\":\"31035\"},\"field\":\"Actual_1\",\"formatter\":{\"id\":\"31034\"},\"title\":\"Actual_1\"},\"id\":\"31036\",\"type\":\"TableColumn\"},{\"attributes\":{},\"id\":\"31016\",\"type\":\"IntEditor\"},{\"attributes\":{},\"id\":\"30114\",\"type\":\"Selection\"},{\"attributes\":{\"args\":{\"bidirectional\":false,\"properties\":{},\"source\":{\"id\":\"30246\"},\"target\":{\"id\":\"30245\"}},\"code\":\"try { \\n    var labels = ['decision_threshold: <b>0.05</b>', 'decision_threshold: <b>0.1</b>', 'decision_threshold: <b>0.15</b>', 'decision_threshold: <b>0.2</b>', 'decision_threshold: <b>0.25</b>', 'decision_threshold: <b>0.3</b>', 'decision_threshold: <b>0.35</b>', 'decision_threshold: <b>0.4</b>', 'decision_threshold: <b>0.45</b>', 'decision_threshold: <b>0.5</b>', 'decision_threshold: <b>0.55</b>', 'decision_threshold: <b>0.6</b>', 'decision_threshold: <b>0.65</b>', 'decision_threshold: <b>0.7</b>', 'decision_threshold: <b>0.75</b>', 'decision_threshold: <b>0.8</b>', 'decision_threshold: <b>0.85</b>', 'decision_threshold: <b>0.9</b>', 'decision_threshold: <b>0.95</b>']\\n    target.text = labels[source.value]\\n     } catch(err) { console.log(err) }\",\"tags\":[1876461062752]},\"id\":\"30253\",\"type\":\"CustomJS\"},{\"attributes\":{\"source\":{\"id\":\"30092\"}},\"id\":\"30110\",\"type\":\"CDSView\"},{\"attributes\":{\"children\":[{\"id\":\"30242\"},{\"id\":\"30243\"},{\"id\":\"30247\"}],\"margin\":[0,0,0,0],\"name\":\"Row98006\"},\"id\":\"30241\",\"type\":\"Row\"},{\"attributes\":{},\"id\":\"31035\",\"type\":\"IntEditor\"},{\"attributes\":{\"children\":[{\"id\":\"30245\"},{\"id\":\"30246\"}],\"margin\":[0,0,0,0],\"min_width\":290,\"name\":\"Column98001\",\"width\":290},\"id\":\"30244\",\"type\":\"Column\"},{\"attributes\":{\"editor\":{\"id\":\"31030\"},\"field\":\"Actual_0\",\"formatter\":{\"id\":\"31029\"},\"title\":\"Actual_0\"},\"id\":\"31031\",\"type\":\"TableColumn\"},{\"attributes\":{\"style\":{\"white-space\":\"nowrap\"},\"text\":\"<span style=\\\"color:black;font-family:Arial;font-style:bold;font-weight:bold;font-size:12pt\\\">Test Data</span>\",\"width\":450},\"id\":\"30132\",\"type\":\"Div\"},{\"attributes\":{},\"id\":\"31025\",\"type\":\"StringEditor\"},{\"attributes\":{\"margin\":[5,5,5,5],\"name\":\"HSpacer98007\",\"sizing_mode\":\"stretch_width\"},\"id\":\"30088\",\"type\":\"Spacer\"},{\"attributes\":{},\"id\":\"30134\",\"type\":\"UnionRenderers\"},{\"attributes\":{},\"id\":\"30136\",\"type\":\"UnionRenderers\"},{\"attributes\":{\"margin\":[5,5,5,5],\"name\":\"HSpacer98005\",\"sizing_mode\":\"stretch_width\"},\"id\":\"30247\",\"type\":\"Spacer\"},{\"attributes\":{\"style\":{\"white-space\":\"nowrap\"},\"text\":\"<span style=\\\"color:black;font-family:Arial;font-style:bold;font-weight:bold;font-size:12pt\\\">decision_threshold: 0.5</span>\",\"width\":450},\"id\":\"30142\",\"type\":\"Div\"},{\"attributes\":{\"margin\":[5,5,5,5],\"name\":\"HSpacer98004\",\"sizing_mode\":\"stretch_width\"},\"id\":\"30242\",\"type\":\"Spacer\"},{\"attributes\":{\"editor\":{\"id\":\"31016\"},\"field\":\"Actual_1\",\"formatter\":{\"id\":\"31015\"},\"title\":\"Actual_1\"},\"id\":\"31017\",\"type\":\"TableColumn\"},{\"attributes\":{},\"id\":\"30139\",\"type\":\"ProxyToolbar\"},{\"attributes\":{\"style\":{\"white-space\":\"nowrap\"},\"text\":\"<span style=\\\"color:black;font-family:Arial;font-style:bold;font-weight:bold;font-size:12pt\\\">Train Data</span>\",\"width\":450},\"id\":\"30111\",\"type\":\"Div\"},{\"attributes\":{\"children\":[{\"id\":\"30111\"},{\"id\":\"30109\"}]},\"id\":\"30112\",\"type\":\"Column\"},{\"attributes\":{\"code\":\"\\nvar state = null\\nfor (var root of cb_obj.document.roots()) {\\n  if (root.id == '30254') {\\n    state = root;\\n    break;\\n  }\\n}\\nif (!state) { return; }\\nstate.set_state(cb_obj, cb_obj.value)\\n\"},\"id\":\"30255\",\"type\":\"CustomJS\"},{\"attributes\":{\"data\":{\"Actual_0\":[1608,52],\"Actual_1\":[121,1407],\"number\":[\"Predicted_0\",\"Predicted_1\"]},\"selected\":{\"id\":\"30114\"},\"selection_policy\":{\"id\":\"30136\"}},\"id\":\"30113\",\"type\":\"ColumnDataSource\"},{\"attributes\":{\"children\":[{\"id\":\"30088\"},{\"id\":\"30089\"},{\"id\":\"30248\"}],\"margin\":[0,0,0,0],\"name\":\"Row97989\",\"tags\":[\"embedded\"]},\"id\":\"30087\",\"type\":\"Row\"},{\"attributes\":{\"margin\":[5,5,5,5],\"name\":\"HSpacer98008\",\"sizing_mode\":\"stretch_width\"},\"id\":\"30091\",\"type\":\"Spacer\"},{\"attributes\":{\"children\":[[{\"id\":\"30112\"},0,0],[{\"id\":\"30133\"},0,1]]},\"id\":\"30138\",\"type\":\"GridBox\"},{\"attributes\":{\"margin\":[5,5,5,5],\"name\":\"HSpacer98009\",\"sizing_mode\":\"stretch_width\"},\"id\":\"30240\",\"type\":\"Spacer\"},{\"attributes\":{},\"id\":\"31010\",\"type\":\"NumberFormatter\"}],\"root_ids\":[\"30087\",\"30254\"]},\"title\":\"Bokeh Application\",\"version\":\"2.2.3\"}};\n",
       "  var render_items = [{\"docid\":\"26ac255f-8ed4-44ce-8534-c5d683279753\",\"root_ids\":[\"30087\"],\"roots\":{\"30087\":\"1eaf9a6c-eab8-4c42-b760-f7e20a2d9a38\"}}];\n",
       "  root.Bokeh.embed.embed_items_notebook(docs_json, render_items);\n",
       "  }\n",
       "if (root.Bokeh !== undefined) {\n",
       "    embed_document(root);\n",
       "  } else {\n",
       "    var attempts = 0;\n",
       "    var timer = setInterval(function(root) {\n",
       "      if (root.Bokeh !== undefined) {\n",
       "        clearInterval(timer);\n",
       "        embed_document(root);\n",
       "      } else if (document.readyState == \"complete\") {\n",
       "        attempts++;\n",
       "        if (attempts > 100) {\n",
       "          clearInterval(timer);\n",
       "          console.log(\"Bokeh: ERROR: Unable to run BokehJS code because BokehJS library is missing\");\n",
       "        }\n",
       "      }\n",
       "    }, 10, root)\n",
       "  }\n",
       "})(window);</script>"
      ],
      "text/plain": [
       ":HoloMap   [decision_threshold]\n",
       "   :Layout\n",
       "      .Table.I  :Table   [#,Actual_0,Actual_1]\n",
       "      .Table.II :Table   [#,Actual_0,Actual_1]"
      ]
     },
     "execution_count": 129,
     "metadata": {
      "application/vnd.holoviews_exec.v0+json": {
       "id": "30087"
      }
     },
     "output_type": "execute_result"
    }
   ],
   "source": [
    "reg_logit_report.evaluator.get_confusion_matrix()"
   ]
  },
  {
   "cell_type": "code",
   "execution_count": 109,
   "metadata": {},
   "outputs": [
    {
     "data": {
      "text/plain": [
       "array([1, 0, 1, ..., 0, 0, 1])"
      ]
     },
     "execution_count": 109,
     "metadata": {},
     "output_type": "execute_result"
    }
   ],
   "source": [
    "# test_y.reset_index(drop = True).iloc[:,1].isna().sum()\n",
    "(logit_ppln.predict_proba(x_eval)[:,1]>0.4).astype(int)"
   ]
  },
  {
   "cell_type": "markdown",
   "metadata": {},
   "source": [
    "**The default probability cutoff of 0.5 is too high in this example. Let us try to change cutoff to 0.4**"
   ]
  },
  {
   "cell_type": "code",
   "execution_count": 130,
   "metadata": {},
   "outputs": [
    {
     "ename": "KeyError",
     "evalue": "'Passing list-likes to .loc or [] with any missing labels is no longer supported, see https://pandas.pydata.org/pandas-docs/stable/user_guide/indexing.html#deprecate-loc-reindex-listlike'",
     "output_type": "error",
     "traceback": [
      "\u001b[1;31m---------------------------------------------------------------------------\u001b[0m",
      "\u001b[1;31mKeyError\u001b[0m                                  Traceback (most recent call last)",
      "\u001b[1;32m<ipython-input-130-351d75463f94>\u001b[0m in \u001b[0;36m<module>\u001b[1;34m\u001b[0m\n\u001b[0;32m      6\u001b[0m \u001b[0mx_eval\u001b[0m\u001b[1;33m[\u001b[0m\u001b[1;34m'actuals'\u001b[0m\u001b[1;33m]\u001b[0m\u001b[1;33m=\u001b[0m\u001b[0mx_eval\u001b[0m\u001b[1;33m[\u001b[0m\u001b[1;34m'actuals'\u001b[0m\u001b[1;33m]\u001b[0m\u001b[1;33m.\u001b[0m\u001b[0mastype\u001b[0m\u001b[1;33m(\u001b[0m\u001b[1;34m'int'\u001b[0m\u001b[1;33m)\u001b[0m\u001b[1;33m\u001b[0m\u001b[1;33m\u001b[0m\u001b[0m\n\u001b[0;32m      7\u001b[0m \u001b[1;32mfor\u001b[0m \u001b[0mcol_\u001b[0m \u001b[1;32min\u001b[0m \u001b[1;33m[\u001b[0m\u001b[1;34m'policy_count_pend'\u001b[0m\u001b[1;33m,\u001b[0m\u001b[1;34m'days_in_business'\u001b[0m\u001b[1;33m]\u001b[0m\u001b[1;33m:\u001b[0m\u001b[1;33m\u001b[0m\u001b[1;33m\u001b[0m\u001b[0m\n\u001b[1;32m----> 8\u001b[1;33m     \u001b[0mconfusion_matrix_by_feature\u001b[0m\u001b[1;33m(\u001b[0m\u001b[0mx_eval\u001b[0m\u001b[1;33m,\u001b[0m \u001b[1;34m'actuals'\u001b[0m\u001b[1;33m,\u001b[0m \u001b[1;34m'prediction'\u001b[0m\u001b[1;33m,\u001b[0m\u001b[0mcol_idv\u001b[0m\u001b[1;33m=\u001b[0m\u001b[0mcol_\u001b[0m\u001b[1;33m,\u001b[0m\u001b[0mcategorical\u001b[0m\u001b[1;33m=\u001b[0m\u001b[1;32mFalse\u001b[0m\u001b[1;33m)\u001b[0m\u001b[1;33m\u001b[0m\u001b[1;33m\u001b[0m\u001b[0m\n\u001b[0m",
      "\u001b[1;32md:\\code_templates\\classification-py\\src\\ta_lib\\classification\\evaluation.py\u001b[0m in \u001b[0;36mconfusion_matrix_by_feature\u001b[1;34m(dataset, y_true, y_pred, col_idv, categorical)\u001b[0m\n\u001b[0;32m    138\u001b[0m     \u001b[1;32melse\u001b[0m\u001b[1;33m:\u001b[0m\u001b[1;33m\u001b[0m\u001b[1;33m\u001b[0m\u001b[0m\n\u001b[0;32m    139\u001b[0m \u001b[1;33m\u001b[0m\u001b[0m\n\u001b[1;32m--> 140\u001b[1;33m         \u001b[0mdataset\u001b[0m \u001b[1;33m=\u001b[0m \u001b[0mpd\u001b[0m\u001b[1;33m.\u001b[0m\u001b[0mmelt\u001b[0m\u001b[1;33m(\u001b[0m\u001b[0mdataset\u001b[0m\u001b[1;33m,\u001b[0m \u001b[0mid_vars\u001b[0m\u001b[1;33m=\u001b[0m\u001b[0mcol_idv\u001b[0m\u001b[1;33m,\u001b[0m \u001b[0mvalue_vars\u001b[0m\u001b[1;33m=\u001b[0m\u001b[1;33m[\u001b[0m\u001b[1;34m\"TN\"\u001b[0m\u001b[1;33m,\u001b[0m \u001b[1;34m\"TP\"\u001b[0m\u001b[1;33m,\u001b[0m \u001b[1;34m\"FN\"\u001b[0m\u001b[1;33m,\u001b[0m \u001b[1;34m\"FP\"\u001b[0m\u001b[1;33m]\u001b[0m\u001b[1;33m)\u001b[0m\u001b[1;33m\u001b[0m\u001b[1;33m\u001b[0m\u001b[0m\n\u001b[0m\u001b[0;32m    141\u001b[0m         \u001b[0mdataset\u001b[0m \u001b[1;33m=\u001b[0m \u001b[0mdataset\u001b[0m\u001b[1;33m[\u001b[0m\u001b[0mdataset\u001b[0m\u001b[1;33m[\u001b[0m\u001b[1;34m\"value\"\u001b[0m\u001b[1;33m]\u001b[0m \u001b[1;33m==\u001b[0m \u001b[1;36m1\u001b[0m\u001b[1;33m]\u001b[0m\u001b[1;33m\u001b[0m\u001b[1;33m\u001b[0m\u001b[0m\n\u001b[0;32m    142\u001b[0m \u001b[1;33m\u001b[0m\u001b[0m\n",
      "\u001b[1;32m~\\Anaconda3\\envs\\try-cla-dev-dev\\lib\\site-packages\\pandas\\core\\reshape\\melt.py\u001b[0m in \u001b[0;36mmelt\u001b[1;34m(frame, id_vars, value_vars, var_name, value_name, col_level)\u001b[0m\n\u001b[0;32m     78\u001b[0m                     \u001b[1;34m\"\"\u001b[0m\u001b[1;33m.\u001b[0m\u001b[0mformat\u001b[0m\u001b[1;33m(\u001b[0m\u001b[0mmissing\u001b[0m\u001b[1;33m=\u001b[0m\u001b[0mlist\u001b[0m\u001b[1;33m(\u001b[0m\u001b[0mmissing\u001b[0m\u001b[1;33m)\u001b[0m\u001b[1;33m)\u001b[0m\u001b[1;33m\u001b[0m\u001b[1;33m\u001b[0m\u001b[0m\n\u001b[0;32m     79\u001b[0m                 )\n\u001b[1;32m---> 80\u001b[1;33m         \u001b[0mframe\u001b[0m \u001b[1;33m=\u001b[0m \u001b[0mframe\u001b[0m\u001b[1;33m.\u001b[0m\u001b[0mloc\u001b[0m\u001b[1;33m[\u001b[0m\u001b[1;33m:\u001b[0m\u001b[1;33m,\u001b[0m \u001b[0mid_vars\u001b[0m \u001b[1;33m+\u001b[0m \u001b[0mvalue_vars\u001b[0m\u001b[1;33m]\u001b[0m\u001b[1;33m\u001b[0m\u001b[1;33m\u001b[0m\u001b[0m\n\u001b[0m\u001b[0;32m     81\u001b[0m     \u001b[1;32melse\u001b[0m\u001b[1;33m:\u001b[0m\u001b[1;33m\u001b[0m\u001b[1;33m\u001b[0m\u001b[0m\n\u001b[0;32m     82\u001b[0m         \u001b[0mframe\u001b[0m \u001b[1;33m=\u001b[0m \u001b[0mframe\u001b[0m\u001b[1;33m.\u001b[0m\u001b[0mcopy\u001b[0m\u001b[1;33m(\u001b[0m\u001b[1;33m)\u001b[0m\u001b[1;33m\u001b[0m\u001b[1;33m\u001b[0m\u001b[0m\n",
      "\u001b[1;32m~\\Anaconda3\\envs\\try-cla-dev-dev\\lib\\site-packages\\pandas\\core\\indexing.py\u001b[0m in \u001b[0;36m__getitem__\u001b[1;34m(self, key)\u001b[0m\n\u001b[0;32m   1760\u001b[0m                 \u001b[1;32mexcept\u001b[0m \u001b[1;33m(\u001b[0m\u001b[0mKeyError\u001b[0m\u001b[1;33m,\u001b[0m \u001b[0mIndexError\u001b[0m\u001b[1;33m,\u001b[0m \u001b[0mAttributeError\u001b[0m\u001b[1;33m)\u001b[0m\u001b[1;33m:\u001b[0m\u001b[1;33m\u001b[0m\u001b[1;33m\u001b[0m\u001b[0m\n\u001b[0;32m   1761\u001b[0m                     \u001b[1;32mpass\u001b[0m\u001b[1;33m\u001b[0m\u001b[1;33m\u001b[0m\u001b[0m\n\u001b[1;32m-> 1762\u001b[1;33m             \u001b[1;32mreturn\u001b[0m \u001b[0mself\u001b[0m\u001b[1;33m.\u001b[0m\u001b[0m_getitem_tuple\u001b[0m\u001b[1;33m(\u001b[0m\u001b[0mkey\u001b[0m\u001b[1;33m)\u001b[0m\u001b[1;33m\u001b[0m\u001b[1;33m\u001b[0m\u001b[0m\n\u001b[0m\u001b[0;32m   1763\u001b[0m         \u001b[1;32melse\u001b[0m\u001b[1;33m:\u001b[0m\u001b[1;33m\u001b[0m\u001b[1;33m\u001b[0m\u001b[0m\n\u001b[0;32m   1764\u001b[0m             \u001b[1;31m# we by definition only have the 0th axis\u001b[0m\u001b[1;33m\u001b[0m\u001b[1;33m\u001b[0m\u001b[1;33m\u001b[0m\u001b[0m\n",
      "\u001b[1;32m~\\Anaconda3\\envs\\try-cla-dev-dev\\lib\\site-packages\\pandas\\core\\indexing.py\u001b[0m in \u001b[0;36m_getitem_tuple\u001b[1;34m(self, tup)\u001b[0m\n\u001b[0;32m   1287\u001b[0m                 \u001b[1;32mcontinue\u001b[0m\u001b[1;33m\u001b[0m\u001b[1;33m\u001b[0m\u001b[0m\n\u001b[0;32m   1288\u001b[0m \u001b[1;33m\u001b[0m\u001b[0m\n\u001b[1;32m-> 1289\u001b[1;33m             \u001b[0mretval\u001b[0m \u001b[1;33m=\u001b[0m \u001b[0mgetattr\u001b[0m\u001b[1;33m(\u001b[0m\u001b[0mretval\u001b[0m\u001b[1;33m,\u001b[0m \u001b[0mself\u001b[0m\u001b[1;33m.\u001b[0m\u001b[0mname\u001b[0m\u001b[1;33m)\u001b[0m\u001b[1;33m.\u001b[0m\u001b[0m_getitem_axis\u001b[0m\u001b[1;33m(\u001b[0m\u001b[0mkey\u001b[0m\u001b[1;33m,\u001b[0m \u001b[0maxis\u001b[0m\u001b[1;33m=\u001b[0m\u001b[0mi\u001b[0m\u001b[1;33m)\u001b[0m\u001b[1;33m\u001b[0m\u001b[1;33m\u001b[0m\u001b[0m\n\u001b[0m\u001b[0;32m   1290\u001b[0m \u001b[1;33m\u001b[0m\u001b[0m\n\u001b[0;32m   1291\u001b[0m         \u001b[1;32mreturn\u001b[0m \u001b[0mretval\u001b[0m\u001b[1;33m\u001b[0m\u001b[1;33m\u001b[0m\u001b[0m\n",
      "\u001b[1;32m~\\Anaconda3\\envs\\try-cla-dev-dev\\lib\\site-packages\\pandas\\core\\indexing.py\u001b[0m in \u001b[0;36m_getitem_axis\u001b[1;34m(self, key, axis)\u001b[0m\n\u001b[0;32m   1952\u001b[0m                     \u001b[1;32mraise\u001b[0m \u001b[0mValueError\u001b[0m\u001b[1;33m(\u001b[0m\u001b[1;34m\"Cannot index with multidimensional key\"\u001b[0m\u001b[1;33m)\u001b[0m\u001b[1;33m\u001b[0m\u001b[1;33m\u001b[0m\u001b[0m\n\u001b[0;32m   1953\u001b[0m \u001b[1;33m\u001b[0m\u001b[0m\n\u001b[1;32m-> 1954\u001b[1;33m                 \u001b[1;32mreturn\u001b[0m \u001b[0mself\u001b[0m\u001b[1;33m.\u001b[0m\u001b[0m_getitem_iterable\u001b[0m\u001b[1;33m(\u001b[0m\u001b[0mkey\u001b[0m\u001b[1;33m,\u001b[0m \u001b[0maxis\u001b[0m\u001b[1;33m=\u001b[0m\u001b[0maxis\u001b[0m\u001b[1;33m)\u001b[0m\u001b[1;33m\u001b[0m\u001b[1;33m\u001b[0m\u001b[0m\n\u001b[0m\u001b[0;32m   1955\u001b[0m \u001b[1;33m\u001b[0m\u001b[0m\n\u001b[0;32m   1956\u001b[0m             \u001b[1;31m# nested tuple slicing\u001b[0m\u001b[1;33m\u001b[0m\u001b[1;33m\u001b[0m\u001b[1;33m\u001b[0m\u001b[0m\n",
      "\u001b[1;32m~\\Anaconda3\\envs\\try-cla-dev-dev\\lib\\site-packages\\pandas\\core\\indexing.py\u001b[0m in \u001b[0;36m_getitem_iterable\u001b[1;34m(self, key, axis)\u001b[0m\n\u001b[0;32m   1593\u001b[0m         \u001b[1;32melse\u001b[0m\u001b[1;33m:\u001b[0m\u001b[1;33m\u001b[0m\u001b[1;33m\u001b[0m\u001b[0m\n\u001b[0;32m   1594\u001b[0m             \u001b[1;31m# A collection of keys\u001b[0m\u001b[1;33m\u001b[0m\u001b[1;33m\u001b[0m\u001b[1;33m\u001b[0m\u001b[0m\n\u001b[1;32m-> 1595\u001b[1;33m             \u001b[0mkeyarr\u001b[0m\u001b[1;33m,\u001b[0m \u001b[0mindexer\u001b[0m \u001b[1;33m=\u001b[0m \u001b[0mself\u001b[0m\u001b[1;33m.\u001b[0m\u001b[0m_get_listlike_indexer\u001b[0m\u001b[1;33m(\u001b[0m\u001b[0mkey\u001b[0m\u001b[1;33m,\u001b[0m \u001b[0maxis\u001b[0m\u001b[1;33m,\u001b[0m \u001b[0mraise_missing\u001b[0m\u001b[1;33m=\u001b[0m\u001b[1;32mFalse\u001b[0m\u001b[1;33m)\u001b[0m\u001b[1;33m\u001b[0m\u001b[1;33m\u001b[0m\u001b[0m\n\u001b[0m\u001b[0;32m   1596\u001b[0m             return self.obj._reindex_with_indexers(\n\u001b[0;32m   1597\u001b[0m                 \u001b[1;33m{\u001b[0m\u001b[0maxis\u001b[0m\u001b[1;33m:\u001b[0m \u001b[1;33m[\u001b[0m\u001b[0mkeyarr\u001b[0m\u001b[1;33m,\u001b[0m \u001b[0mindexer\u001b[0m\u001b[1;33m]\u001b[0m\u001b[1;33m}\u001b[0m\u001b[1;33m,\u001b[0m \u001b[0mcopy\u001b[0m\u001b[1;33m=\u001b[0m\u001b[1;32mTrue\u001b[0m\u001b[1;33m,\u001b[0m \u001b[0mallow_dups\u001b[0m\u001b[1;33m=\u001b[0m\u001b[1;32mTrue\u001b[0m\u001b[1;33m\u001b[0m\u001b[1;33m\u001b[0m\u001b[0m\n",
      "\u001b[1;32m~\\Anaconda3\\envs\\try-cla-dev-dev\\lib\\site-packages\\pandas\\core\\indexing.py\u001b[0m in \u001b[0;36m_get_listlike_indexer\u001b[1;34m(self, key, axis, raise_missing)\u001b[0m\n\u001b[0;32m   1550\u001b[0m             \u001b[0mkeyarr\u001b[0m\u001b[1;33m,\u001b[0m \u001b[0mindexer\u001b[0m\u001b[1;33m,\u001b[0m \u001b[0mnew_indexer\u001b[0m \u001b[1;33m=\u001b[0m \u001b[0max\u001b[0m\u001b[1;33m.\u001b[0m\u001b[0m_reindex_non_unique\u001b[0m\u001b[1;33m(\u001b[0m\u001b[0mkeyarr\u001b[0m\u001b[1;33m)\u001b[0m\u001b[1;33m\u001b[0m\u001b[1;33m\u001b[0m\u001b[0m\n\u001b[0;32m   1551\u001b[0m \u001b[1;33m\u001b[0m\u001b[0m\n\u001b[1;32m-> 1552\u001b[1;33m         self._validate_read_indexer(\n\u001b[0m\u001b[0;32m   1553\u001b[0m             \u001b[0mkeyarr\u001b[0m\u001b[1;33m,\u001b[0m \u001b[0mindexer\u001b[0m\u001b[1;33m,\u001b[0m \u001b[0mo\u001b[0m\u001b[1;33m.\u001b[0m\u001b[0m_get_axis_number\u001b[0m\u001b[1;33m(\u001b[0m\u001b[0maxis\u001b[0m\u001b[1;33m)\u001b[0m\u001b[1;33m,\u001b[0m \u001b[0mraise_missing\u001b[0m\u001b[1;33m=\u001b[0m\u001b[0mraise_missing\u001b[0m\u001b[1;33m\u001b[0m\u001b[1;33m\u001b[0m\u001b[0m\n\u001b[0;32m   1554\u001b[0m         )\n",
      "\u001b[1;32m~\\Anaconda3\\envs\\try-cla-dev-dev\\lib\\site-packages\\pandas\\core\\indexing.py\u001b[0m in \u001b[0;36m_validate_read_indexer\u001b[1;34m(self, key, indexer, axis, raise_missing)\u001b[0m\n\u001b[0;32m   1652\u001b[0m             \u001b[1;31m# just raising\u001b[0m\u001b[1;33m\u001b[0m\u001b[1;33m\u001b[0m\u001b[1;33m\u001b[0m\u001b[0m\n\u001b[0;32m   1653\u001b[0m             \u001b[1;32mif\u001b[0m \u001b[1;32mnot\u001b[0m \u001b[1;33m(\u001b[0m\u001b[0max\u001b[0m\u001b[1;33m.\u001b[0m\u001b[0mis_categorical\u001b[0m\u001b[1;33m(\u001b[0m\u001b[1;33m)\u001b[0m \u001b[1;32mor\u001b[0m \u001b[0max\u001b[0m\u001b[1;33m.\u001b[0m\u001b[0mis_interval\u001b[0m\u001b[1;33m(\u001b[0m\u001b[1;33m)\u001b[0m\u001b[1;33m)\u001b[0m\u001b[1;33m:\u001b[0m\u001b[1;33m\u001b[0m\u001b[1;33m\u001b[0m\u001b[0m\n\u001b[1;32m-> 1654\u001b[1;33m                 raise KeyError(\n\u001b[0m\u001b[0;32m   1655\u001b[0m                     \u001b[1;34m\"Passing list-likes to .loc or [] with any missing labels \"\u001b[0m\u001b[1;33m\u001b[0m\u001b[1;33m\u001b[0m\u001b[0m\n\u001b[0;32m   1656\u001b[0m                     \u001b[1;34m\"is no longer supported, see \"\u001b[0m\u001b[1;33m\u001b[0m\u001b[1;33m\u001b[0m\u001b[0m\n",
      "\u001b[1;31mKeyError\u001b[0m: 'Passing list-likes to .loc or [] with any missing labels is no longer supported, see https://pandas.pydata.org/pandas-docs/stable/user_guide/indexing.html#deprecate-loc-reindex-listlike'"
     ]
    }
   ],
   "source": [
    "%matplotlib inline\n",
    "x_eval = test_X.copy()\n",
    "x_eval['prediction'] = (logit_ppln.predict_proba(x_eval)[:,1]>0.5).astype(int)\n",
    "x_eval['actuals'] = test_y.reset_index(drop = True).iloc[:,1].values.copy()\n",
    "x_eval['prediction']=x_eval['prediction'].astype('int')\n",
    "x_eval['actuals']=x_eval['actuals'].astype('int')\n",
    "for col_ in ['policy_count_pend','days_in_business']:\n",
    "    confusion_matrix_by_feature(x_eval, 'actuals', 'prediction',col_idv=col_,categorical=False)"
   ]
  },
  {
   "cell_type": "markdown",
   "metadata": {},
   "source": [
    "Clearly there are outliers in `days_in_business` variable which needs to be capped. Similarly, one can iterate on all the variables to hand tune the logistic regression model"
   ]
  },
  {
   "cell_type": "markdown",
   "metadata": {},
   "source": [
    "# 4.2 Modelling - Random Forest"
   ]
  },
  {
   "cell_type": "markdown",
   "metadata": {},
   "source": [
    "## 4.2.1 Model training pipeline\n",
    "\n",
    "Here we focus on creating a collection of pipelines that can be used for tranining respective models.\n",
    "\n",
    "Each model pipeline will essentially be of the form\n",
    "```\n",
    "[\n",
    "('preprocessing', preprocessing_pipeline),\n",
    "('feature_selection', feature_selection_pipeline),\n",
    "('estimator', estimator),\n",
    "]\n",
    "```"
   ]
  },
  {
   "cell_type": "markdown",
   "metadata": {},
   "source": [
    "### 4.2.2 Model Pipeline Build"
   ]
  },
  {
   "cell_type": "code",
   "execution_count": 131,
   "metadata": {},
   "outputs": [
    {
     "ename": "MemoryError",
     "evalue": "could not allocate 1671036928 bytes",
     "output_type": "error",
     "traceback": [
      "\u001b[1;31m---------------------------------------------------------------------------\u001b[0m",
      "\u001b[1;31mMemoryError\u001b[0m                               Traceback (most recent call last)",
      "\u001b[1;32m<ipython-input-131-ca7d8d9c6a0b>\u001b[0m in \u001b[0;36m<module>\u001b[1;34m\u001b[0m\n\u001b[0;32m      5\u001b[0m     \u001b[1;33m(\u001b[0m\u001b[1;34m'estimator'\u001b[0m\u001b[1;33m,\u001b[0m \u001b[0mRandomForestClassifier\u001b[0m\u001b[1;33m(\u001b[0m\u001b[1;33m)\u001b[0m\u001b[1;33m)\u001b[0m\u001b[1;33m\u001b[0m\u001b[1;33m\u001b[0m\u001b[0m\n\u001b[0;32m      6\u001b[0m ])\n\u001b[1;32m----> 7\u001b[1;33m \u001b[0mrf_training_pipe_init\u001b[0m\u001b[1;33m.\u001b[0m\u001b[0mfit\u001b[0m\u001b[1;33m(\u001b[0m\u001b[0mtrain_X\u001b[0m\u001b[1;33m,\u001b[0m \u001b[0mtrain_y\u001b[0m\u001b[1;33m)\u001b[0m\u001b[1;33m\u001b[0m\u001b[1;33m\u001b[0m\u001b[0m\n\u001b[0m",
      "\u001b[1;32m~\\Anaconda3\\envs\\try-cla-dev-dev\\lib\\site-packages\\sklearn\\pipeline.py\u001b[0m in \u001b[0;36mfit\u001b[1;34m(self, X, y, **fit_params)\u001b[0m\n\u001b[0;32m    333\u001b[0m             \u001b[1;32mif\u001b[0m \u001b[0mself\u001b[0m\u001b[1;33m.\u001b[0m\u001b[0m_final_estimator\u001b[0m \u001b[1;33m!=\u001b[0m \u001b[1;34m'passthrough'\u001b[0m\u001b[1;33m:\u001b[0m\u001b[1;33m\u001b[0m\u001b[1;33m\u001b[0m\u001b[0m\n\u001b[0;32m    334\u001b[0m                 \u001b[0mfit_params_last_step\u001b[0m \u001b[1;33m=\u001b[0m \u001b[0mfit_params_steps\u001b[0m\u001b[1;33m[\u001b[0m\u001b[0mself\u001b[0m\u001b[1;33m.\u001b[0m\u001b[0msteps\u001b[0m\u001b[1;33m[\u001b[0m\u001b[1;33m-\u001b[0m\u001b[1;36m1\u001b[0m\u001b[1;33m]\u001b[0m\u001b[1;33m[\u001b[0m\u001b[1;36m0\u001b[0m\u001b[1;33m]\u001b[0m\u001b[1;33m]\u001b[0m\u001b[1;33m\u001b[0m\u001b[1;33m\u001b[0m\u001b[0m\n\u001b[1;32m--> 335\u001b[1;33m                 \u001b[0mself\u001b[0m\u001b[1;33m.\u001b[0m\u001b[0m_final_estimator\u001b[0m\u001b[1;33m.\u001b[0m\u001b[0mfit\u001b[0m\u001b[1;33m(\u001b[0m\u001b[0mXt\u001b[0m\u001b[1;33m,\u001b[0m \u001b[0my\u001b[0m\u001b[1;33m,\u001b[0m \u001b[1;33m**\u001b[0m\u001b[0mfit_params_last_step\u001b[0m\u001b[1;33m)\u001b[0m\u001b[1;33m\u001b[0m\u001b[1;33m\u001b[0m\u001b[0m\n\u001b[0m\u001b[0;32m    336\u001b[0m \u001b[1;33m\u001b[0m\u001b[0m\n\u001b[0;32m    337\u001b[0m         \u001b[1;32mreturn\u001b[0m \u001b[0mself\u001b[0m\u001b[1;33m\u001b[0m\u001b[1;33m\u001b[0m\u001b[0m\n",
      "\u001b[1;32m~\\Anaconda3\\envs\\try-cla-dev-dev\\lib\\site-packages\\sklearn\\ensemble\\_forest.py\u001b[0m in \u001b[0;36mfit\u001b[1;34m(self, X, y, sample_weight)\u001b[0m\n\u001b[0;32m    384\u001b[0m             \u001b[1;31m# parallel_backend contexts set at a higher level,\u001b[0m\u001b[1;33m\u001b[0m\u001b[1;33m\u001b[0m\u001b[1;33m\u001b[0m\u001b[0m\n\u001b[0;32m    385\u001b[0m             \u001b[1;31m# since correctness does not rely on using threads.\u001b[0m\u001b[1;33m\u001b[0m\u001b[1;33m\u001b[0m\u001b[1;33m\u001b[0m\u001b[0m\n\u001b[1;32m--> 386\u001b[1;33m             trees = Parallel(n_jobs=self.n_jobs, verbose=self.verbose,\n\u001b[0m\u001b[0;32m    387\u001b[0m                              \u001b[1;33m**\u001b[0m\u001b[0m_joblib_parallel_args\u001b[0m\u001b[1;33m(\u001b[0m\u001b[0mprefer\u001b[0m\u001b[1;33m=\u001b[0m\u001b[1;34m'threads'\u001b[0m\u001b[1;33m)\u001b[0m\u001b[1;33m)\u001b[0m\u001b[1;33m(\u001b[0m\u001b[1;33m\u001b[0m\u001b[1;33m\u001b[0m\u001b[0m\n\u001b[0;32m    388\u001b[0m                 delayed(_parallel_build_trees)(\n",
      "\u001b[1;32m~\\Anaconda3\\envs\\try-cla-dev-dev\\lib\\site-packages\\joblib\\parallel.py\u001b[0m in \u001b[0;36m__call__\u001b[1;34m(self, iterable)\u001b[0m\n\u001b[0;32m   1042\u001b[0m                 \u001b[0mself\u001b[0m\u001b[1;33m.\u001b[0m\u001b[0m_iterating\u001b[0m \u001b[1;33m=\u001b[0m \u001b[0mself\u001b[0m\u001b[1;33m.\u001b[0m\u001b[0m_original_iterator\u001b[0m \u001b[1;32mis\u001b[0m \u001b[1;32mnot\u001b[0m \u001b[1;32mNone\u001b[0m\u001b[1;33m\u001b[0m\u001b[1;33m\u001b[0m\u001b[0m\n\u001b[0;32m   1043\u001b[0m \u001b[1;33m\u001b[0m\u001b[0m\n\u001b[1;32m-> 1044\u001b[1;33m             \u001b[1;32mwhile\u001b[0m \u001b[0mself\u001b[0m\u001b[1;33m.\u001b[0m\u001b[0mdispatch_one_batch\u001b[0m\u001b[1;33m(\u001b[0m\u001b[0miterator\u001b[0m\u001b[1;33m)\u001b[0m\u001b[1;33m:\u001b[0m\u001b[1;33m\u001b[0m\u001b[1;33m\u001b[0m\u001b[0m\n\u001b[0m\u001b[0;32m   1045\u001b[0m                 \u001b[1;32mpass\u001b[0m\u001b[1;33m\u001b[0m\u001b[1;33m\u001b[0m\u001b[0m\n\u001b[0;32m   1046\u001b[0m \u001b[1;33m\u001b[0m\u001b[0m\n",
      "\u001b[1;32m~\\Anaconda3\\envs\\try-cla-dev-dev\\lib\\site-packages\\joblib\\parallel.py\u001b[0m in \u001b[0;36mdispatch_one_batch\u001b[1;34m(self, iterator)\u001b[0m\n\u001b[0;32m    857\u001b[0m                 \u001b[1;32mreturn\u001b[0m \u001b[1;32mFalse\u001b[0m\u001b[1;33m\u001b[0m\u001b[1;33m\u001b[0m\u001b[0m\n\u001b[0;32m    858\u001b[0m             \u001b[1;32melse\u001b[0m\u001b[1;33m:\u001b[0m\u001b[1;33m\u001b[0m\u001b[1;33m\u001b[0m\u001b[0m\n\u001b[1;32m--> 859\u001b[1;33m                 \u001b[0mself\u001b[0m\u001b[1;33m.\u001b[0m\u001b[0m_dispatch\u001b[0m\u001b[1;33m(\u001b[0m\u001b[0mtasks\u001b[0m\u001b[1;33m)\u001b[0m\u001b[1;33m\u001b[0m\u001b[1;33m\u001b[0m\u001b[0m\n\u001b[0m\u001b[0;32m    860\u001b[0m                 \u001b[1;32mreturn\u001b[0m \u001b[1;32mTrue\u001b[0m\u001b[1;33m\u001b[0m\u001b[1;33m\u001b[0m\u001b[0m\n\u001b[0;32m    861\u001b[0m \u001b[1;33m\u001b[0m\u001b[0m\n",
      "\u001b[1;32m~\\Anaconda3\\envs\\try-cla-dev-dev\\lib\\site-packages\\joblib\\parallel.py\u001b[0m in \u001b[0;36m_dispatch\u001b[1;34m(self, batch)\u001b[0m\n\u001b[0;32m    775\u001b[0m         \u001b[1;32mwith\u001b[0m \u001b[0mself\u001b[0m\u001b[1;33m.\u001b[0m\u001b[0m_lock\u001b[0m\u001b[1;33m:\u001b[0m\u001b[1;33m\u001b[0m\u001b[1;33m\u001b[0m\u001b[0m\n\u001b[0;32m    776\u001b[0m             \u001b[0mjob_idx\u001b[0m \u001b[1;33m=\u001b[0m \u001b[0mlen\u001b[0m\u001b[1;33m(\u001b[0m\u001b[0mself\u001b[0m\u001b[1;33m.\u001b[0m\u001b[0m_jobs\u001b[0m\u001b[1;33m)\u001b[0m\u001b[1;33m\u001b[0m\u001b[1;33m\u001b[0m\u001b[0m\n\u001b[1;32m--> 777\u001b[1;33m             \u001b[0mjob\u001b[0m \u001b[1;33m=\u001b[0m \u001b[0mself\u001b[0m\u001b[1;33m.\u001b[0m\u001b[0m_backend\u001b[0m\u001b[1;33m.\u001b[0m\u001b[0mapply_async\u001b[0m\u001b[1;33m(\u001b[0m\u001b[0mbatch\u001b[0m\u001b[1;33m,\u001b[0m \u001b[0mcallback\u001b[0m\u001b[1;33m=\u001b[0m\u001b[0mcb\u001b[0m\u001b[1;33m)\u001b[0m\u001b[1;33m\u001b[0m\u001b[1;33m\u001b[0m\u001b[0m\n\u001b[0m\u001b[0;32m    778\u001b[0m             \u001b[1;31m# A job can complete so quickly than its callback is\u001b[0m\u001b[1;33m\u001b[0m\u001b[1;33m\u001b[0m\u001b[1;33m\u001b[0m\u001b[0m\n\u001b[0;32m    779\u001b[0m             \u001b[1;31m# called before we get here, causing self._jobs to\u001b[0m\u001b[1;33m\u001b[0m\u001b[1;33m\u001b[0m\u001b[1;33m\u001b[0m\u001b[0m\n",
      "\u001b[1;32m~\\Anaconda3\\envs\\try-cla-dev-dev\\lib\\site-packages\\joblib\\_parallel_backends.py\u001b[0m in \u001b[0;36mapply_async\u001b[1;34m(self, func, callback)\u001b[0m\n\u001b[0;32m    206\u001b[0m     \u001b[1;32mdef\u001b[0m \u001b[0mapply_async\u001b[0m\u001b[1;33m(\u001b[0m\u001b[0mself\u001b[0m\u001b[1;33m,\u001b[0m \u001b[0mfunc\u001b[0m\u001b[1;33m,\u001b[0m \u001b[0mcallback\u001b[0m\u001b[1;33m=\u001b[0m\u001b[1;32mNone\u001b[0m\u001b[1;33m)\u001b[0m\u001b[1;33m:\u001b[0m\u001b[1;33m\u001b[0m\u001b[1;33m\u001b[0m\u001b[0m\n\u001b[0;32m    207\u001b[0m         \u001b[1;34m\"\"\"Schedule a func to be run\"\"\"\u001b[0m\u001b[1;33m\u001b[0m\u001b[1;33m\u001b[0m\u001b[0m\n\u001b[1;32m--> 208\u001b[1;33m         \u001b[0mresult\u001b[0m \u001b[1;33m=\u001b[0m \u001b[0mImmediateResult\u001b[0m\u001b[1;33m(\u001b[0m\u001b[0mfunc\u001b[0m\u001b[1;33m)\u001b[0m\u001b[1;33m\u001b[0m\u001b[1;33m\u001b[0m\u001b[0m\n\u001b[0m\u001b[0;32m    209\u001b[0m         \u001b[1;32mif\u001b[0m \u001b[0mcallback\u001b[0m\u001b[1;33m:\u001b[0m\u001b[1;33m\u001b[0m\u001b[1;33m\u001b[0m\u001b[0m\n\u001b[0;32m    210\u001b[0m             \u001b[0mcallback\u001b[0m\u001b[1;33m(\u001b[0m\u001b[0mresult\u001b[0m\u001b[1;33m)\u001b[0m\u001b[1;33m\u001b[0m\u001b[1;33m\u001b[0m\u001b[0m\n",
      "\u001b[1;32m~\\Anaconda3\\envs\\try-cla-dev-dev\\lib\\site-packages\\joblib\\_parallel_backends.py\u001b[0m in \u001b[0;36m__init__\u001b[1;34m(self, batch)\u001b[0m\n\u001b[0;32m    570\u001b[0m         \u001b[1;31m# Don't delay the application, to avoid keeping the input\u001b[0m\u001b[1;33m\u001b[0m\u001b[1;33m\u001b[0m\u001b[1;33m\u001b[0m\u001b[0m\n\u001b[0;32m    571\u001b[0m         \u001b[1;31m# arguments in memory\u001b[0m\u001b[1;33m\u001b[0m\u001b[1;33m\u001b[0m\u001b[1;33m\u001b[0m\u001b[0m\n\u001b[1;32m--> 572\u001b[1;33m         \u001b[0mself\u001b[0m\u001b[1;33m.\u001b[0m\u001b[0mresults\u001b[0m \u001b[1;33m=\u001b[0m \u001b[0mbatch\u001b[0m\u001b[1;33m(\u001b[0m\u001b[1;33m)\u001b[0m\u001b[1;33m\u001b[0m\u001b[1;33m\u001b[0m\u001b[0m\n\u001b[0m\u001b[0;32m    573\u001b[0m \u001b[1;33m\u001b[0m\u001b[0m\n\u001b[0;32m    574\u001b[0m     \u001b[1;32mdef\u001b[0m \u001b[0mget\u001b[0m\u001b[1;33m(\u001b[0m\u001b[0mself\u001b[0m\u001b[1;33m)\u001b[0m\u001b[1;33m:\u001b[0m\u001b[1;33m\u001b[0m\u001b[1;33m\u001b[0m\u001b[0m\n",
      "\u001b[1;32m~\\Anaconda3\\envs\\try-cla-dev-dev\\lib\\site-packages\\joblib\\parallel.py\u001b[0m in \u001b[0;36m__call__\u001b[1;34m(self)\u001b[0m\n\u001b[0;32m    260\u001b[0m         \u001b[1;31m# change the default number of processes to -1\u001b[0m\u001b[1;33m\u001b[0m\u001b[1;33m\u001b[0m\u001b[1;33m\u001b[0m\u001b[0m\n\u001b[0;32m    261\u001b[0m         \u001b[1;32mwith\u001b[0m \u001b[0mparallel_backend\u001b[0m\u001b[1;33m(\u001b[0m\u001b[0mself\u001b[0m\u001b[1;33m.\u001b[0m\u001b[0m_backend\u001b[0m\u001b[1;33m,\u001b[0m \u001b[0mn_jobs\u001b[0m\u001b[1;33m=\u001b[0m\u001b[0mself\u001b[0m\u001b[1;33m.\u001b[0m\u001b[0m_n_jobs\u001b[0m\u001b[1;33m)\u001b[0m\u001b[1;33m:\u001b[0m\u001b[1;33m\u001b[0m\u001b[1;33m\u001b[0m\u001b[0m\n\u001b[1;32m--> 262\u001b[1;33m             return [func(*args, **kwargs)\n\u001b[0m\u001b[0;32m    263\u001b[0m                     for func, args, kwargs in self.items]\n\u001b[0;32m    264\u001b[0m \u001b[1;33m\u001b[0m\u001b[0m\n",
      "\u001b[1;32m~\\Anaconda3\\envs\\try-cla-dev-dev\\lib\\site-packages\\joblib\\parallel.py\u001b[0m in \u001b[0;36m<listcomp>\u001b[1;34m(.0)\u001b[0m\n\u001b[0;32m    260\u001b[0m         \u001b[1;31m# change the default number of processes to -1\u001b[0m\u001b[1;33m\u001b[0m\u001b[1;33m\u001b[0m\u001b[1;33m\u001b[0m\u001b[0m\n\u001b[0;32m    261\u001b[0m         \u001b[1;32mwith\u001b[0m \u001b[0mparallel_backend\u001b[0m\u001b[1;33m(\u001b[0m\u001b[0mself\u001b[0m\u001b[1;33m.\u001b[0m\u001b[0m_backend\u001b[0m\u001b[1;33m,\u001b[0m \u001b[0mn_jobs\u001b[0m\u001b[1;33m=\u001b[0m\u001b[0mself\u001b[0m\u001b[1;33m.\u001b[0m\u001b[0m_n_jobs\u001b[0m\u001b[1;33m)\u001b[0m\u001b[1;33m:\u001b[0m\u001b[1;33m\u001b[0m\u001b[1;33m\u001b[0m\u001b[0m\n\u001b[1;32m--> 262\u001b[1;33m             return [func(*args, **kwargs)\n\u001b[0m\u001b[0;32m    263\u001b[0m                     for func, args, kwargs in self.items]\n\u001b[0;32m    264\u001b[0m \u001b[1;33m\u001b[0m\u001b[0m\n",
      "\u001b[1;32m~\\Anaconda3\\envs\\try-cla-dev-dev\\lib\\site-packages\\sklearn\\ensemble\\_forest.py\u001b[0m in \u001b[0;36m_parallel_build_trees\u001b[1;34m(tree, forest, X, y, sample_weight, tree_idx, n_trees, verbose, class_weight, n_samples_bootstrap)\u001b[0m\n\u001b[0;32m    166\u001b[0m                                                         indices=indices)\n\u001b[0;32m    167\u001b[0m \u001b[1;33m\u001b[0m\u001b[0m\n\u001b[1;32m--> 168\u001b[1;33m         \u001b[0mtree\u001b[0m\u001b[1;33m.\u001b[0m\u001b[0mfit\u001b[0m\u001b[1;33m(\u001b[0m\u001b[0mX\u001b[0m\u001b[1;33m,\u001b[0m \u001b[0my\u001b[0m\u001b[1;33m,\u001b[0m \u001b[0msample_weight\u001b[0m\u001b[1;33m=\u001b[0m\u001b[0mcurr_sample_weight\u001b[0m\u001b[1;33m,\u001b[0m \u001b[0mcheck_input\u001b[0m\u001b[1;33m=\u001b[0m\u001b[1;32mFalse\u001b[0m\u001b[1;33m)\u001b[0m\u001b[1;33m\u001b[0m\u001b[1;33m\u001b[0m\u001b[0m\n\u001b[0m\u001b[0;32m    169\u001b[0m     \u001b[1;32melse\u001b[0m\u001b[1;33m:\u001b[0m\u001b[1;33m\u001b[0m\u001b[1;33m\u001b[0m\u001b[0m\n\u001b[0;32m    170\u001b[0m         \u001b[0mtree\u001b[0m\u001b[1;33m.\u001b[0m\u001b[0mfit\u001b[0m\u001b[1;33m(\u001b[0m\u001b[0mX\u001b[0m\u001b[1;33m,\u001b[0m \u001b[0my\u001b[0m\u001b[1;33m,\u001b[0m \u001b[0msample_weight\u001b[0m\u001b[1;33m=\u001b[0m\u001b[0msample_weight\u001b[0m\u001b[1;33m,\u001b[0m \u001b[0mcheck_input\u001b[0m\u001b[1;33m=\u001b[0m\u001b[1;32mFalse\u001b[0m\u001b[1;33m)\u001b[0m\u001b[1;33m\u001b[0m\u001b[1;33m\u001b[0m\u001b[0m\n",
      "\u001b[1;32m~\\Anaconda3\\envs\\try-cla-dev-dev\\lib\\site-packages\\sklearn\\tree\\_classes.py\u001b[0m in \u001b[0;36mfit\u001b[1;34m(self, X, y, sample_weight, check_input, X_idx_sorted)\u001b[0m\n\u001b[0;32m    888\u001b[0m         \"\"\"\n\u001b[0;32m    889\u001b[0m \u001b[1;33m\u001b[0m\u001b[0m\n\u001b[1;32m--> 890\u001b[1;33m         super().fit(\n\u001b[0m\u001b[0;32m    891\u001b[0m             \u001b[0mX\u001b[0m\u001b[1;33m,\u001b[0m \u001b[0my\u001b[0m\u001b[1;33m,\u001b[0m\u001b[1;33m\u001b[0m\u001b[1;33m\u001b[0m\u001b[0m\n\u001b[0;32m    892\u001b[0m             \u001b[0msample_weight\u001b[0m\u001b[1;33m=\u001b[0m\u001b[0msample_weight\u001b[0m\u001b[1;33m,\u001b[0m\u001b[1;33m\u001b[0m\u001b[1;33m\u001b[0m\u001b[0m\n",
      "\u001b[1;32m~\\Anaconda3\\envs\\try-cla-dev-dev\\lib\\site-packages\\sklearn\\tree\\_classes.py\u001b[0m in \u001b[0;36mfit\u001b[1;34m(self, X, y, sample_weight, check_input, X_idx_sorted)\u001b[0m\n\u001b[0;32m    373\u001b[0m                                            min_impurity_split)\n\u001b[0;32m    374\u001b[0m \u001b[1;33m\u001b[0m\u001b[0m\n\u001b[1;32m--> 375\u001b[1;33m         \u001b[0mbuilder\u001b[0m\u001b[1;33m.\u001b[0m\u001b[0mbuild\u001b[0m\u001b[1;33m(\u001b[0m\u001b[0mself\u001b[0m\u001b[1;33m.\u001b[0m\u001b[0mtree_\u001b[0m\u001b[1;33m,\u001b[0m \u001b[0mX\u001b[0m\u001b[1;33m,\u001b[0m \u001b[0my\u001b[0m\u001b[1;33m,\u001b[0m \u001b[0msample_weight\u001b[0m\u001b[1;33m,\u001b[0m \u001b[0mX_idx_sorted\u001b[0m\u001b[1;33m)\u001b[0m\u001b[1;33m\u001b[0m\u001b[1;33m\u001b[0m\u001b[0m\n\u001b[0m\u001b[0;32m    376\u001b[0m \u001b[1;33m\u001b[0m\u001b[0m\n\u001b[0;32m    377\u001b[0m         \u001b[1;32mif\u001b[0m \u001b[0mself\u001b[0m\u001b[1;33m.\u001b[0m\u001b[0mn_outputs_\u001b[0m \u001b[1;33m==\u001b[0m \u001b[1;36m1\u001b[0m \u001b[1;32mand\u001b[0m \u001b[0mis_classifier\u001b[0m\u001b[1;33m(\u001b[0m\u001b[0mself\u001b[0m\u001b[1;33m)\u001b[0m\u001b[1;33m:\u001b[0m\u001b[1;33m\u001b[0m\u001b[1;33m\u001b[0m\u001b[0m\n",
      "\u001b[1;32msklearn\\tree\\_tree.pyx\u001b[0m in \u001b[0;36msklearn.tree._tree.DepthFirstTreeBuilder.build\u001b[1;34m()\u001b[0m\n",
      "\u001b[1;32msklearn\\tree\\_tree.pyx\u001b[0m in \u001b[0;36msklearn.tree._tree.DepthFirstTreeBuilder.build\u001b[1;34m()\u001b[0m\n",
      "\u001b[1;32msklearn\\tree\\_tree.pyx\u001b[0m in \u001b[0;36msklearn.tree._tree.Tree._add_node\u001b[1;34m()\u001b[0m\n",
      "\u001b[1;32msklearn\\tree\\_tree.pyx\u001b[0m in \u001b[0;36msklearn.tree._tree.Tree._resize_c\u001b[1;34m()\u001b[0m\n",
      "\u001b[1;32msklearn\\tree\\_utils.pyx\u001b[0m in \u001b[0;36msklearn.tree._utils.safe_realloc\u001b[1;34m()\u001b[0m\n",
      "\u001b[1;31mMemoryError\u001b[0m: could not allocate 1671036928 bytes"
     ]
    }
   ],
   "source": [
    "# let's find features for some decent defaults\n",
    "estimator = RandomForestClassifier()\n",
    "rf_training_pipe_init = Pipeline([\n",
    "    ('', FunctionTransformer(custom_data_transform, kw_args={'cols2keep':curated_columns})),\n",
    "    ('estimator', RandomForestClassifier())\n",
    "])\n",
    "rf_training_pipe_init.fit(train_X, train_y)"
   ]
  },
  {
   "cell_type": "markdown",
   "metadata": {},
   "source": [
    "### 4.2.3 Model Tuning"
   ]
  },
  {
   "cell_type": "code",
   "execution_count": 44,
   "metadata": {},
   "outputs": [
    {
     "data": {
      "text/plain": [
       "<AxesSubplot:>"
      ]
     },
     "execution_count": 44,
     "metadata": {},
     "output_type": "execute_result"
    },
    {
     "data": {
      "image/png": "[encoded data removed]",
      "text/plain": [
       "<Figure size 720x1440 with 1 Axes>"
      ]
     },
     "metadata": {
      "needs_background": "light"
     },
     "output_type": "display_data"
    }
   ],
   "source": [
    "# Understanding the Feature Importance\n",
    "imp = pd.DataFrame({'importance': rf_training_pipe_init['estimator'].feature_importances_})\n",
    "imp.index = curated_columns\n",
    "imp.sort_values('importance',inplace=True)\n",
    "\n",
    "%matplotlib inline\n",
    "imp.plot(kind='barh', figsize=(10,20))"
   ]
  },
  {
   "cell_type": "markdown",
   "metadata": {},
   "source": [
    "Considering the top 10 features from above importances"
   ]
  },
  {
   "cell_type": "markdown",
   "metadata": {},
   "source": [
    "##### Pipeline build based on new importance features"
   ]
  },
  {
   "cell_type": "code",
   "execution_count": 45,
   "metadata": {},
   "outputs": [],
   "source": [
    "# let's find features for some decent defaults\n",
    "imp_features = imp.tail(10).index.to_list()\n",
    "estimator = RandomForestClassifier()\n",
    "rf_training_pipe2 = Pipeline([\n",
    "    ('', FunctionTransformer(custom_data_transform, kw_args={'cols2keep':imp_features})),\n",
    "    ('estimator', RandomForestClassifier())\n",
    "])"
   ]
  },
  {
   "cell_type": "markdown",
   "metadata": {},
   "source": [
    "#### Grid Search of the Estimator"
   ]
  },
  {
   "cell_type": "code",
   "execution_count": 46,
   "metadata": {},
   "outputs": [
    {
     "name": "stdout",
     "output_type": "stream",
     "text": [
      "Fitting 2 folds for each of 4 candidates, totalling 8 fits\n"
     ]
    },
    {
     "name": "stderr",
     "output_type": "stream",
     "text": [
      "[Parallel(n_jobs=2)]: Using backend LokyBackend with 2 concurrent workers.\n",
      "[Parallel(n_jobs=2)]: Done   8 out of   8 | elapsed:    3.7s finished\n"
     ]
    },
    {
     "name": "stdout",
     "output_type": "stream",
     "text": [
      "0.9144295302013423\n",
      "{'criterion': 'gini', 'max_depth': 5, 'max_features': 'auto', 'n_estimators': 200}\n"
     ]
    }
   ],
   "source": [
    "parameters = {\n",
    "    'n_estimators': [200],\n",
    "    'max_features': ['auto'],\n",
    "    'max_depth': [4, 5],\n",
    "    'criterion': ['gini', 'entropy']\n",
    "}\n",
    "est = RandomForestClassifier()\n",
    "rf_grid = GridSearchCV(est,\n",
    "                       parameters,\n",
    "                       cv = 2,\n",
    "                       n_jobs = 2,\n",
    "                       verbose=True)\n",
    "\n",
    "rf_grid.fit(train_X[imp_features],\n",
    "            train_y)\n",
    "\n",
    "print(rf_grid.best_score_)\n",
    "print(rf_grid.best_params_)"
   ]
  },
  {
   "cell_type": "markdown",
   "metadata": {},
   "source": [
    "#### Pipeline Build using the best estimator"
   ]
  },
  {
   "cell_type": "code",
   "execution_count": 47,
   "metadata": {},
   "outputs": [
    {
     "name": "stdout",
     "output_type": "stream",
     "text": [
      "                                      "
     ]
    },
    {
     "name": "stderr",
     "output_type": "stream",
     "text": [
      "WARNING:param.Warning: Nesting Layouts within a HoloMap makes it difficult to access your data or control how it appears; we recommend calling .collate() on the HoloMap in order to follow the recommended nesting structure shown in the Composing Data user guide (https://goo.gl/2YS8LJ)\n",
      "Nesting Layouts within a HoloMap makes it difficult to access your data or control how it appears; we recommend calling .collate() on the HoloMap in order to follow the recommended nesting structure shown in the Composing Data user guide (https://goo.gl/2YS8LJ)\n"
     ]
    },
    {
     "name": "stdout",
     "output_type": "stream",
     "text": [
      "                                                \r"
     ]
    }
   ],
   "source": [
    "rf_pipeline_final = Pipeline([\n",
    "    ('', FunctionTransformer(custom_data_transform, kw_args={'cols2keep':imp_features})),\n",
    "    ('estimator', rf_grid.best_estimator_)\n",
    "])\n",
    "rf_pipeline_final.fit(train_X, train_y)\n",
    "\n",
    "reg_tree_report = ClassificationReport(model=rf_pipeline_final, x_train=train_X, y_train=train_y['target'], x_test= test_X, y_test= test_y['target'])\n",
    "reg_tree_report.get_report(include_shap=False, file_path='classification_tree_model_report')"
   ]
  },
  {
   "cell_type": "markdown",
   "metadata": {},
   "source": [
    "Confusion Matrix for a model can be obtained as follows"
   ]
  },
  {
   "cell_type": "code",
   "execution_count": 48,
   "metadata": {},
   "outputs": [
    {
     "name": "stderr",
     "output_type": "stream",
     "text": [
      "WARNING:param.Warning: Nesting Layouts within a HoloMap makes it difficult to access your data or control how it appears; we recommend calling .collate() on the HoloMap in order to follow the recommended nesting structure shown in the Composing Data user guide (https://goo.gl/2YS8LJ)\n",
      "Nesting Layouts within a HoloMap makes it difficult to access your data or control how it appears; we recommend calling .collate() on the HoloMap in order to follow the recommended nesting structure shown in the Composing Data user guide (https://goo.gl/2YS8LJ)\n"
     ]
    },
    {
     "data": {},
     "metadata": {},
     "output_type": "display_data"
    },
    {
     "data": {
      "application/vnd.holoviews_exec.v0+json": "",
      "text/html": [
       "<div id='173652'>\n",
       "\n",
       "\n",
       "\n",
       "\n",
       "\n",
       "  <div class=\"bk-root\" id=\"0079ec4d-d0bb-439a-8c28-7c48eafc050b\" data-root-id=\"173652\"></div>\n",
       "</div>\n",
       "<script type=\"application/javascript\">(function(root) {\n",
       "  function embed_document(root) {\n",
       "  var docs_json = {\"0aca0a1f-83db-4813-9924-824ddb18600f\":{\"roots\":{\"references\":[{\"attributes\":{},\"id\":\"174599\",\"type\":\"NumberFormatter\"},{\"attributes\":{\"children\":[{\"id\":\"173676\"},{\"id\":\"173674\"}]},\"id\":\"173677\",\"type\":\"Column\"},{\"attributes\":{\"args\":{\"bidirectional\":false,\"properties\":{},\"source\":{\"id\":\"173811\"},\"target\":{\"id\":\"173810\"}},\"code\":\"try { \\n    var labels = ['decision_threshold: <b>0.05</b>', 'decision_threshold: <b>0.1</b>', 'decision_threshold: <b>0.15</b>', 'decision_threshold: <b>0.2</b>', 'decision_threshold: <b>0.25</b>', 'decision_threshold: <b>0.3</b>', 'decision_threshold: <b>0.35</b>', 'decision_threshold: <b>0.4</b>', 'decision_threshold: <b>0.45</b>', 'decision_threshold: <b>0.5</b>', 'decision_threshold: <b>0.55</b>', 'decision_threshold: <b>0.6</b>', 'decision_threshold: <b>0.65</b>', 'decision_threshold: <b>0.7</b>', 'decision_threshold: <b>0.75</b>', 'decision_threshold: <b>0.8</b>', 'decision_threshold: <b>0.85</b>', 'decision_threshold: <b>0.9</b>', 'decision_threshold: <b>0.95</b>']\\n    target.text = labels[source.value]\\n     } catch(err) { console.log(err) }\",\"tags\":[2820539027568]},\"id\":\"173818\",\"type\":\"CustomJS\"},{\"attributes\":{},\"id\":\"174570\",\"type\":\"StringFormatter\"},{\"attributes\":{},\"id\":\"173679\",\"type\":\"Selection\"},{\"attributes\":{},\"id\":\"173702\",\"type\":\"UnionRenderers\"},{\"attributes\":{\"end\":18,\"format\":\"0[.]00\",\"js_property_callbacks\":{\"change:value\":[{\"id\":\"173818\"},{\"id\":\"173820\"}]},\"margin\":[0,20,20,20],\"min_width\":250,\"show_value\":false,\"start\":0,\"tooltips\":false,\"value\":9,\"width\":250},\"id\":\"173811\",\"type\":\"Slider\"},{\"attributes\":{\"style\":{\"white-space\":\"nowrap\"},\"text\":\"<span style=\\\"color:black;font-family:Arial;font-style:bold;font-weight:bold;font-size:12pt\\\">Train Data</span>\",\"width\":450},\"id\":\"173676\",\"type\":\"Div\"},{\"attributes\":{\"margin\":[5,5,5,5],\"name\":\"HSpacer432227\",\"sizing_mode\":\"stretch_width\"},\"id\":\"173813\",\"type\":\"Spacer\"},{\"attributes\":{\"children\":[{\"id\":\"173655\"},{\"id\":\"173806\"}],\"margin\":[0,0,0,0],\"name\":\"Column432226\"},\"id\":\"173654\",\"type\":\"Column\"},{\"attributes\":{\"children\":[{\"id\":\"173810\"},{\"id\":\"173811\"}],\"margin\":[0,0,0,0],\"min_width\":290,\"name\":\"Column432216\",\"width\":290},\"id\":\"173809\",\"type\":\"Column\"},{\"attributes\":{\"data\":{\"Actual_0\":[133,1],\"Actual_1\":[12,3],\"number\":[\"Predicted_0\",\"Predicted_1\"]},\"selected\":{\"id\":\"173679\"},\"selection_policy\":{\"id\":\"173702\"}},\"id\":\"173678\",\"type\":\"ColumnDataSource\"},{\"attributes\":{\"margin\":[5,5,5,5],\"name\":\"HSpacer432219\",\"sizing_mode\":\"stretch_width\"},\"id\":\"173807\",\"type\":\"Spacer\"},{\"attributes\":{\"margin\":[20,0,0,20],\"name\":\"\",\"style\":{\"white-space\":\"nowrap\"},\"text\":\"decision_threshold: <b>0.5</b>\",\"width\":250},\"id\":\"173810\",\"type\":\"Div\"},{\"attributes\":{},\"id\":\"174575\",\"type\":\"NumberFormatter\"},{\"attributes\":{\"code\":\"\\nvar state = null\\nfor (var root of cb_obj.document.roots()) {\\n  if (root.id == '173819') {\\n    state = root;\\n    break;\\n  }\\n}\\nif (!state) { return; }\\nstate.set_state(cb_obj, cb_obj.value)\\n\"},\"id\":\"173820\",\"type\":\"CustomJS\"},{\"attributes\":{},\"id\":\"173700\",\"type\":\"UnionRenderers\"},{\"attributes\":{\"children\":[[{\"id\":\"173677\"},0,0],[{\"id\":\"173698\"},0,1]]},\"id\":\"173703\",\"type\":\"GridBox\"},{\"attributes\":{\"state\":{\"0\":{\"content\":\"{\\\"events\\\": [{\\\"attr\\\": \\\"columns\\\", \\\"kind\\\": \\\"ModelChanged\\\", \\\"model\\\": {\\\"id\\\": \\\"173674\\\"}, \\\"new\\\": [{\\\"id\\\": \\\"174533\\\"}, {\\\"id\\\": \\\"174538\\\"}, {\\\"id\\\": \\\"174543\\\"}]}, {\\\"cols\\\": null, \\\"column_source\\\": {\\\"id\\\": \\\"173657\\\"}, \\\"kind\\\": \\\"ColumnDataChanged\\\", \\\"new\\\": {\\\"Actual_0\\\": [366, 176], \\\"Actual_1\\\": [0, 54], \\\"number\\\": [\\\"Predicted_0\\\", \\\"Predicted_1\\\"]}}, {\\\"attr\\\": \\\"columns\\\", \\\"kind\\\": \\\"ModelChanged\\\", \\\"model\\\": {\\\"id\\\": \\\"173695\\\"}, \\\"new\\\": [{\\\"id\\\": \\\"174552\\\"}, {\\\"id\\\": \\\"174557\\\"}, {\\\"id\\\": \\\"174562\\\"}]}, {\\\"cols\\\": null, \\\"column_source\\\": {\\\"id\\\": \\\"173678\\\"}, \\\"kind\\\": \\\"ColumnDataChanged\\\", \\\"new\\\": {\\\"Actual_0\\\": [88, 46], \\\"Actual_1\\\": [1, 14], \\\"number\\\": [\\\"Predicted_0\\\", \\\"Predicted_1\\\"]}}, {\\\"attr\\\": \\\"text\\\", \\\"kind\\\": \\\"ModelChanged\\\", \\\"model\\\": {\\\"id\\\": \\\"173707\\\"}, \\\"new\\\": \\\"<span style=\\\\\\\"color:black;font-family:Arial;font-style:bold;font-weight:bold;font-size:12pt\\\\\\\">decision_threshold: 0.05<\\\\/span>\\\"}], \\\"references\\\": [{\\\"attributes\\\": {}, \\\"id\\\": \\\"174542\\\", \\\"type\\\": \\\"IntEditor\\\"}, {\\\"attributes\\\": {\\\"editor\\\": {\\\"id\\\": \\\"174551\\\"}, \\\"field\\\": \\\"number\\\", \\\"formatter\\\": {\\\"id\\\": \\\"174550\\\"}, \\\"title\\\": \\\"#\\\"}, \\\"id\\\": \\\"174552\\\", \\\"type\\\": \\\"TableColumn\\\"}, {\\\"attributes\\\": {\\\"editor\\\": {\\\"id\\\": \\\"174542\\\"}, \\\"field\\\": \\\"Actual_1\\\", \\\"formatter\\\": {\\\"id\\\": \\\"174541\\\"}, \\\"title\\\": \\\"Actual_1\\\"}, \\\"id\\\": \\\"174543\\\", \\\"type\\\": \\\"TableColumn\\\"}, {\\\"attributes\\\": {}, \\\"id\\\": \\\"174537\\\", \\\"type\\\": \\\"IntEditor\\\"}, {\\\"attributes\\\": {}, \\\"id\\\": \\\"174536\\\", \\\"type\\\": \\\"NumberFormatter\\\"}, {\\\"attributes\\\": {}, \\\"id\\\": \\\"174550\\\", \\\"type\\\": \\\"StringFormatter\\\"}, {\\\"attributes\\\": {}, \\\"id\\\": \\\"174532\\\", \\\"type\\\": \\\"StringEditor\\\"}, {\\\"attributes\\\": {}, \\\"id\\\": \\\"174556\\\", \\\"type\\\": \\\"IntEditor\\\"}, {\\\"attributes\\\": {}, \\\"id\\\": \\\"174561\\\", \\\"type\\\": \\\"IntEditor\\\"}, {\\\"attributes\\\": {}, \\\"id\\\": \\\"174551\\\", \\\"type\\\": \\\"StringEditor\\\"}, {\\\"attributes\\\": {}, \\\"id\\\": \\\"174555\\\", \\\"type\\\": \\\"NumberFormatter\\\"}, {\\\"attributes\\\": {\\\"editor\\\": {\\\"id\\\": \\\"174537\\\"}, \\\"field\\\": \\\"Actual_0\\\", \\\"formatter\\\": {\\\"id\\\": \\\"174536\\\"}, \\\"title\\\": \\\"Actual_0\\\"}, \\\"id\\\": \\\"174538\\\", \\\"type\\\": \\\"TableColumn\\\"}, {\\\"attributes\\\": {}, \\\"id\\\": \\\"174531\\\", \\\"type\\\": \\\"StringFormatter\\\"}, {\\\"attributes\\\": {}, \\\"id\\\": \\\"174541\\\", \\\"type\\\": \\\"NumberFormatter\\\"}, {\\\"attributes\\\": {\\\"editor\\\": {\\\"id\\\": \\\"174561\\\"}, \\\"field\\\": \\\"Actual_1\\\", \\\"formatter\\\": {\\\"id\\\": \\\"174560\\\"}, \\\"title\\\": \\\"Actual_1\\\"}, \\\"id\\\": \\\"174562\\\", \\\"type\\\": \\\"TableColumn\\\"}, {\\\"attributes\\\": {}, \\\"id\\\": \\\"174560\\\", \\\"type\\\": \\\"NumberFormatter\\\"}, {\\\"attributes\\\": {\\\"editor\\\": {\\\"id\\\": \\\"174556\\\"}, \\\"field\\\": \\\"Actual_0\\\", \\\"formatter\\\": {\\\"id\\\": \\\"174555\\\"}, \\\"title\\\": \\\"Actual_0\\\"}, \\\"id\\\": \\\"174557\\\", \\\"type\\\": \\\"TableColumn\\\"}, {\\\"attributes\\\": {\\\"editor\\\": {\\\"id\\\": \\\"174532\\\"}, \\\"field\\\": \\\"number\\\", \\\"formatter\\\": {\\\"id\\\": \\\"174531\\\"}, \\\"title\\\": \\\"#\\\"}, \\\"id\\\": \\\"174533\\\", \\\"type\\\": \\\"TableColumn\\\"}]}\",\"header\":\"{\\\"msgid\\\": \\\"174569\\\", \\\"msgtype\\\": \\\"PATCH-DOC\\\"}\",\"metadata\":\"{}\"},\"1\":{\"content\":\"{\\\"events\\\": [{\\\"attr\\\": \\\"columns\\\", \\\"kind\\\": \\\"ModelChanged\\\", \\\"model\\\": {\\\"id\\\": \\\"173674\\\"}, \\\"new\\\": [{\\\"id\\\": \\\"174494\\\"}, {\\\"id\\\": \\\"174499\\\"}, {\\\"id\\\": \\\"174504\\\"}]}, {\\\"cols\\\": null, \\\"column_source\\\": {\\\"id\\\": \\\"173657\\\"}, \\\"kind\\\": \\\"ColumnDataChanged\\\", \\\"new\\\": {\\\"Actual_0\\\": [467, 75], \\\"Actual_1\\\": [0, 54], \\\"number\\\": [\\\"Predicted_0\\\", \\\"Predicted_1\\\"]}}, {\\\"attr\\\": \\\"columns\\\", \\\"kind\\\": \\\"ModelChanged\\\", \\\"model\\\": {\\\"id\\\": \\\"173695\\\"}, \\\"new\\\": [{\\\"id\\\": \\\"174513\\\"}, {\\\"id\\\": \\\"174518\\\"}, {\\\"id\\\": \\\"174523\\\"}]}, {\\\"cols\\\": null, \\\"column_source\\\": {\\\"id\\\": \\\"173678\\\"}, \\\"kind\\\": \\\"ColumnDataChanged\\\", \\\"new\\\": {\\\"Actual_0\\\": [109, 25], \\\"Actual_1\\\": [3, 12], \\\"number\\\": [\\\"Predicted_0\\\", \\\"Predicted_1\\\"]}}, {\\\"attr\\\": \\\"text\\\", \\\"kind\\\": \\\"ModelChanged\\\", \\\"model\\\": {\\\"id\\\": \\\"173707\\\"}, \\\"new\\\": \\\"<span style=\\\\\\\"color:black;font-family:Arial;font-style:bold;font-weight:bold;font-size:12pt\\\\\\\">decision_threshold: 0.1<\\\\/span>\\\"}], \\\"references\\\": [{\\\"attributes\\\": {}, \\\"id\\\": \\\"174498\\\", \\\"type\\\": \\\"IntEditor\\\"}, {\\\"attributes\\\": {}, \\\"id\\\": \\\"174503\\\", \\\"type\\\": \\\"IntEditor\\\"}, {\\\"attributes\\\": {}, \\\"id\\\": \\\"174493\\\", \\\"type\\\": \\\"StringEditor\\\"}, {\\\"attributes\\\": {\\\"editor\\\": {\\\"id\\\": \\\"174493\\\"}, \\\"field\\\": \\\"number\\\", \\\"formatter\\\": {\\\"id\\\": \\\"174492\\\"}, \\\"title\\\": \\\"#\\\"}, \\\"id\\\": \\\"174494\\\", \\\"type\\\": \\\"TableColumn\\\"}, {\\\"attributes\\\": {\\\"editor\\\": {\\\"id\\\": \\\"174517\\\"}, \\\"field\\\": \\\"Actual_0\\\", \\\"formatter\\\": {\\\"id\\\": \\\"174516\\\"}, \\\"title\\\": \\\"Actual_0\\\"}, \\\"id\\\": \\\"174518\\\", \\\"type\\\": \\\"TableColumn\\\"}, {\\\"attributes\\\": {}, \\\"id\\\": \\\"174516\\\", \\\"type\\\": \\\"NumberFormatter\\\"}, {\\\"attributes\\\": {\\\"editor\\\": {\\\"id\\\": \\\"174503\\\"}, \\\"field\\\": \\\"Actual_1\\\", \\\"formatter\\\": {\\\"id\\\": \\\"174502\\\"}, \\\"title\\\": \\\"Actual_1\\\"}, \\\"id\\\": \\\"174504\\\", \\\"type\\\": \\\"TableColumn\\\"}, {\\\"attributes\\\": {}, \\\"id\\\": \\\"174522\\\", \\\"type\\\": \\\"IntEditor\\\"}, {\\\"attributes\\\": {\\\"editor\\\": {\\\"id\\\": \\\"174498\\\"}, \\\"field\\\": \\\"Actual_0\\\", \\\"formatter\\\": {\\\"id\\\": \\\"174497\\\"}, \\\"title\\\": \\\"Actual_0\\\"}, \\\"id\\\": \\\"174499\\\", \\\"type\\\": \\\"TableColumn\\\"}, {\\\"attributes\\\": {}, \\\"id\\\": \\\"174497\\\", \\\"type\\\": \\\"NumberFormatter\\\"}, {\\\"attributes\\\": {}, \\\"id\\\": \\\"174517\\\", \\\"type\\\": \\\"IntEditor\\\"}, {\\\"attributes\\\": {}, \\\"id\\\": \\\"174521\\\", \\\"type\\\": \\\"NumberFormatter\\\"}, {\\\"attributes\\\": {}, \\\"id\\\": \\\"174492\\\", \\\"type\\\": \\\"StringFormatter\\\"}, {\\\"attributes\\\": {\\\"editor\\\": {\\\"id\\\": \\\"174522\\\"}, \\\"field\\\": \\\"Actual_1\\\", \\\"formatter\\\": {\\\"id\\\": \\\"174521\\\"}, \\\"title\\\": \\\"Actual_1\\\"}, \\\"id\\\": \\\"174523\\\", \\\"type\\\": \\\"TableColumn\\\"}, {\\\"attributes\\\": {}, \\\"id\\\": \\\"174502\\\", \\\"type\\\": \\\"NumberFormatter\\\"}, {\\\"attributes\\\": {\\\"editor\\\": {\\\"id\\\": \\\"174512\\\"}, \\\"field\\\": \\\"number\\\", \\\"formatter\\\": {\\\"id\\\": \\\"174511\\\"}, \\\"title\\\": \\\"#\\\"}, \\\"id\\\": \\\"174513\\\", \\\"type\\\": \\\"TableColumn\\\"}, {\\\"attributes\\\": {}, \\\"id\\\": \\\"174511\\\", \\\"type\\\": \\\"StringFormatter\\\"}, {\\\"attributes\\\": {}, \\\"id\\\": \\\"174512\\\", \\\"type\\\": \\\"StringEditor\\\"}]}\",\"header\":\"{\\\"msgid\\\": \\\"174530\\\", \\\"msgtype\\\": \\\"PATCH-DOC\\\"}\",\"metadata\":\"{}\"},\"10\":{\"content\":\"{\\\"events\\\": [{\\\"attr\\\": \\\"columns\\\", \\\"kind\\\": \\\"ModelChanged\\\", \\\"model\\\": {\\\"id\\\": \\\"173674\\\"}, \\\"new\\\": [{\\\"id\\\": \\\"174143\\\"}, {\\\"id\\\": \\\"174148\\\"}, {\\\"id\\\": \\\"174153\\\"}]}, {\\\"cols\\\": null, \\\"column_source\\\": {\\\"id\\\": \\\"173657\\\"}, \\\"kind\\\": \\\"ColumnDataChanged\\\", \\\"new\\\": {\\\"Actual_0\\\": [542, 0], \\\"Actual_1\\\": [35, 19], \\\"number\\\": [\\\"Predicted_0\\\", \\\"Predicted_1\\\"]}}, {\\\"attr\\\": \\\"columns\\\", \\\"kind\\\": \\\"ModelChanged\\\", \\\"model\\\": {\\\"id\\\": \\\"173695\\\"}, \\\"new\\\": [{\\\"id\\\": \\\"174162\\\"}, {\\\"id\\\": \\\"174167\\\"}, {\\\"id\\\": \\\"174172\\\"}]}, {\\\"cols\\\": null, \\\"column_source\\\": {\\\"id\\\": \\\"173678\\\"}, \\\"kind\\\": \\\"ColumnDataChanged\\\", \\\"new\\\": {\\\"Actual_0\\\": [133, 1], \\\"Actual_1\\\": [13, 2], \\\"number\\\": [\\\"Predicted_0\\\", \\\"Predicted_1\\\"]}}, {\\\"attr\\\": \\\"text\\\", \\\"kind\\\": \\\"ModelChanged\\\", \\\"model\\\": {\\\"id\\\": \\\"173707\\\"}, \\\"new\\\": \\\"<span style=\\\\\\\"color:black;font-family:Arial;font-style:bold;font-weight:bold;font-size:12pt\\\\\\\">decision_threshold: 0.55<\\\\/span>\\\"}], \\\"references\\\": [{\\\"attributes\\\": {}, \\\"id\\\": \\\"174141\\\", \\\"type\\\": \\\"StringFormatter\\\"}, {\\\"attributes\\\": {}, \\\"id\\\": \\\"174166\\\", \\\"type\\\": \\\"IntEditor\\\"}, {\\\"attributes\\\": {\\\"editor\\\": {\\\"id\\\": \\\"174161\\\"}, \\\"field\\\": \\\"number\\\", \\\"formatter\\\": {\\\"id\\\": \\\"174160\\\"}, \\\"title\\\": \\\"#\\\"}, \\\"id\\\": \\\"174162\\\", \\\"type\\\": \\\"TableColumn\\\"}, {\\\"attributes\\\": {\\\"editor\\\": {\\\"id\\\": \\\"174147\\\"}, \\\"field\\\": \\\"Actual_0\\\", \\\"formatter\\\": {\\\"id\\\": \\\"174146\\\"}, \\\"title\\\": \\\"Actual_0\\\"}, \\\"id\\\": \\\"174148\\\", \\\"type\\\": \\\"TableColumn\\\"}, {\\\"attributes\\\": {\\\"editor\\\": {\\\"id\\\": \\\"174142\\\"}, \\\"field\\\": \\\"number\\\", \\\"formatter\\\": {\\\"id\\\": \\\"174141\\\"}, \\\"title\\\": \\\"#\\\"}, \\\"id\\\": \\\"174143\\\", \\\"type\\\": \\\"TableColumn\\\"}, {\\\"attributes\\\": {}, \\\"id\\\": \\\"174151\\\", \\\"type\\\": \\\"NumberFormatter\\\"}, {\\\"attributes\\\": {}, \\\"id\\\": \\\"174142\\\", \\\"type\\\": \\\"StringEditor\\\"}, {\\\"attributes\\\": {\\\"editor\\\": {\\\"id\\\": \\\"174152\\\"}, \\\"field\\\": \\\"Actual_1\\\", \\\"formatter\\\": {\\\"id\\\": \\\"174151\\\"}, \\\"title\\\": \\\"Actual_1\\\"}, \\\"id\\\": \\\"174153\\\", \\\"type\\\": \\\"TableColumn\\\"}, {\\\"attributes\\\": {}, \\\"id\\\": \\\"174161\\\", \\\"type\\\": \\\"StringEditor\\\"}, {\\\"attributes\\\": {}, \\\"id\\\": \\\"174165\\\", \\\"type\\\": \\\"NumberFormatter\\\"}, {\\\"attributes\\\": {}, \\\"id\\\": \\\"174146\\\", \\\"type\\\": \\\"NumberFormatter\\\"}, {\\\"attributes\\\": {}, \\\"id\\\": \\\"174171\\\", \\\"type\\\": \\\"IntEditor\\\"}, {\\\"attributes\\\": {}, \\\"id\\\": \\\"174170\\\", \\\"type\\\": \\\"NumberFormatter\\\"}, {\\\"attributes\\\": {\\\"editor\\\": {\\\"id\\\": \\\"174171\\\"}, \\\"field\\\": \\\"Actual_1\\\", \\\"formatter\\\": {\\\"id\\\": \\\"174170\\\"}, \\\"title\\\": \\\"Actual_1\\\"}, \\\"id\\\": \\\"174172\\\", \\\"type\\\": \\\"TableColumn\\\"}, {\\\"attributes\\\": {}, \\\"id\\\": \\\"174160\\\", \\\"type\\\": \\\"StringFormatter\\\"}, {\\\"attributes\\\": {\\\"editor\\\": {\\\"id\\\": \\\"174166\\\"}, \\\"field\\\": \\\"Actual_0\\\", \\\"formatter\\\": {\\\"id\\\": \\\"174165\\\"}, \\\"title\\\": \\\"Actual_0\\\"}, \\\"id\\\": \\\"174167\\\", \\\"type\\\": \\\"TableColumn\\\"}, {\\\"attributes\\\": {}, \\\"id\\\": \\\"174152\\\", \\\"type\\\": \\\"IntEditor\\\"}, {\\\"attributes\\\": {}, \\\"id\\\": \\\"174147\\\", \\\"type\\\": \\\"IntEditor\\\"}]}\",\"header\":\"{\\\"msgid\\\": \\\"174179\\\", \\\"msgtype\\\": \\\"PATCH-DOC\\\"}\",\"metadata\":\"{}\"},\"11\":{\"content\":\"{\\\"events\\\": [{\\\"attr\\\": \\\"columns\\\", \\\"kind\\\": \\\"ModelChanged\\\", \\\"model\\\": {\\\"id\\\": \\\"173674\\\"}, \\\"new\\\": [{\\\"id\\\": \\\"174104\\\"}, {\\\"id\\\": \\\"174109\\\"}, {\\\"id\\\": \\\"174114\\\"}]}, {\\\"cols\\\": null, \\\"column_source\\\": {\\\"id\\\": \\\"173657\\\"}, \\\"kind\\\": \\\"ColumnDataChanged\\\", \\\"new\\\": {\\\"Actual_0\\\": [542, 0], \\\"Actual_1\\\": [41, 13], \\\"number\\\": [\\\"Predicted_0\\\", \\\"Predicted_1\\\"]}}, {\\\"attr\\\": \\\"columns\\\", \\\"kind\\\": \\\"ModelChanged\\\", \\\"model\\\": {\\\"id\\\": \\\"173695\\\"}, \\\"new\\\": [{\\\"id\\\": \\\"174123\\\"}, {\\\"id\\\": \\\"174128\\\"}, {\\\"id\\\": \\\"174133\\\"}]}, {\\\"cols\\\": null, \\\"column_source\\\": {\\\"id\\\": \\\"173678\\\"}, \\\"kind\\\": \\\"ColumnDataChanged\\\", \\\"new\\\": {\\\"Actual_0\\\": [133, 1], \\\"Actual_1\\\": [14, 1], \\\"number\\\": [\\\"Predicted_0\\\", \\\"Predicted_1\\\"]}}, {\\\"attr\\\": \\\"text\\\", \\\"kind\\\": \\\"ModelChanged\\\", \\\"model\\\": {\\\"id\\\": \\\"173707\\\"}, \\\"new\\\": \\\"<span style=\\\\\\\"color:black;font-family:Arial;font-style:bold;font-weight:bold;font-size:12pt\\\\\\\">decision_threshold: 0.6<\\\\/span>\\\"}], \\\"references\\\": [{\\\"attributes\\\": {\\\"editor\\\": {\\\"id\\\": \\\"174108\\\"}, \\\"field\\\": \\\"Actual_0\\\", \\\"formatter\\\": {\\\"id\\\": \\\"174107\\\"}, \\\"title\\\": \\\"Actual_0\\\"}, \\\"id\\\": \\\"174109\\\", \\\"type\\\": \\\"TableColumn\\\"}, {\\\"attributes\\\": {}, \\\"id\\\": \\\"174122\\\", \\\"type\\\": \\\"StringEditor\\\"}, {\\\"attributes\\\": {}, \\\"id\\\": \\\"174121\\\", \\\"type\\\": \\\"StringFormatter\\\"}, {\\\"attributes\\\": {}, \\\"id\\\": \\\"174132\\\", \\\"type\\\": \\\"IntEditor\\\"}, {\\\"attributes\\\": {}, \\\"id\\\": \\\"174131\\\", \\\"type\\\": \\\"NumberFormatter\\\"}, {\\\"attributes\\\": {}, \\\"id\\\": \\\"174107\\\", \\\"type\\\": \\\"NumberFormatter\\\"}, {\\\"attributes\\\": {}, \\\"id\\\": \\\"174127\\\", \\\"type\\\": \\\"IntEditor\\\"}, {\\\"attributes\\\": {}, \\\"id\\\": \\\"174102\\\", \\\"type\\\": \\\"StringFormatter\\\"}, {\\\"attributes\\\": {}, \\\"id\\\": \\\"174112\\\", \\\"type\\\": \\\"NumberFormatter\\\"}, {\\\"attributes\\\": {}, \\\"id\\\": \\\"174103\\\", \\\"type\\\": \\\"StringEditor\\\"}, {\\\"attributes\\\": {}, \\\"id\\\": \\\"174108\\\", \\\"type\\\": \\\"IntEditor\\\"}, {\\\"attributes\\\": {\\\"editor\\\": {\\\"id\\\": \\\"174127\\\"}, \\\"field\\\": \\\"Actual_0\\\", \\\"formatter\\\": {\\\"id\\\": \\\"174126\\\"}, \\\"title\\\": \\\"Actual_0\\\"}, \\\"id\\\": \\\"174128\\\", \\\"type\\\": \\\"TableColumn\\\"}, {\\\"attributes\\\": {}, \\\"id\\\": \\\"174126\\\", \\\"type\\\": \\\"NumberFormatter\\\"}, {\\\"attributes\\\": {\\\"editor\\\": {\\\"id\\\": \\\"174122\\\"}, \\\"field\\\": \\\"number\\\", \\\"formatter\\\": {\\\"id\\\": \\\"174121\\\"}, \\\"title\\\": \\\"#\\\"}, \\\"id\\\": \\\"174123\\\", \\\"type\\\": \\\"TableColumn\\\"}, {\\\"attributes\\\": {}, \\\"id\\\": \\\"174113\\\", \\\"type\\\": \\\"IntEditor\\\"}, {\\\"attributes\\\": {\\\"editor\\\": {\\\"id\\\": \\\"174132\\\"}, \\\"field\\\": \\\"Actual_1\\\", \\\"formatter\\\": {\\\"id\\\": \\\"174131\\\"}, \\\"title\\\": \\\"Actual_1\\\"}, \\\"id\\\": \\\"174133\\\", \\\"type\\\": \\\"TableColumn\\\"}, {\\\"attributes\\\": {\\\"editor\\\": {\\\"id\\\": \\\"174103\\\"}, \\\"field\\\": \\\"number\\\", \\\"formatter\\\": {\\\"id\\\": \\\"174102\\\"}, \\\"title\\\": \\\"#\\\"}, \\\"id\\\": \\\"174104\\\", \\\"type\\\": \\\"TableColumn\\\"}, {\\\"attributes\\\": {\\\"editor\\\": {\\\"id\\\": \\\"174113\\\"}, \\\"field\\\": \\\"Actual_1\\\", \\\"formatter\\\": {\\\"id\\\": \\\"174112\\\"}, \\\"title\\\": \\\"Actual_1\\\"}, \\\"id\\\": \\\"174114\\\", \\\"type\\\": \\\"TableColumn\\\"}]}\",\"header\":\"{\\\"msgid\\\": \\\"174140\\\", \\\"msgtype\\\": \\\"PATCH-DOC\\\"}\",\"metadata\":\"{}\"},\"12\":{\"content\":\"{\\\"events\\\": [{\\\"attr\\\": \\\"columns\\\", \\\"kind\\\": \\\"ModelChanged\\\", \\\"model\\\": {\\\"id\\\": \\\"173674\\\"}, \\\"new\\\": [{\\\"id\\\": \\\"174065\\\"}, {\\\"id\\\": \\\"174070\\\"}, {\\\"id\\\": \\\"174075\\\"}]}, {\\\"cols\\\": null, \\\"column_source\\\": {\\\"id\\\": \\\"173657\\\"}, \\\"kind\\\": \\\"ColumnDataChanged\\\", \\\"new\\\": {\\\"Actual_0\\\": [542, 0], \\\"Actual_1\\\": [45, 9], \\\"number\\\": [\\\"Predicted_0\\\", \\\"Predicted_1\\\"]}}, {\\\"attr\\\": \\\"columns\\\", \\\"kind\\\": \\\"ModelChanged\\\", \\\"model\\\": {\\\"id\\\": \\\"173695\\\"}, \\\"new\\\": [{\\\"id\\\": \\\"174084\\\"}, {\\\"id\\\": \\\"174089\\\"}, {\\\"id\\\": \\\"174094\\\"}]}, {\\\"cols\\\": null, \\\"column_source\\\": {\\\"id\\\": \\\"173678\\\"}, \\\"kind\\\": \\\"ColumnDataChanged\\\", \\\"new\\\": {\\\"Actual_0\\\": [133, 1], \\\"Actual_1\\\": [14, 1], \\\"number\\\": [\\\"Predicted_0\\\", \\\"Predicted_1\\\"]}}, {\\\"attr\\\": \\\"text\\\", \\\"kind\\\": \\\"ModelChanged\\\", \\\"model\\\": {\\\"id\\\": \\\"173707\\\"}, \\\"new\\\": \\\"<span style=\\\\\\\"color:black;font-family:Arial;font-style:bold;font-weight:bold;font-size:12pt\\\\\\\">decision_threshold: 0.65<\\\\/span>\\\"}], \\\"references\\\": [{\\\"attributes\\\": {}, \\\"id\\\": \\\"174087\\\", \\\"type\\\": \\\"NumberFormatter\\\"}, {\\\"attributes\\\": {}, \\\"id\\\": \\\"174083\\\", \\\"type\\\": \\\"StringEditor\\\"}, {\\\"attributes\\\": {}, \\\"id\\\": \\\"174073\\\", \\\"type\\\": \\\"NumberFormatter\\\"}, {\\\"attributes\\\": {}, \\\"id\\\": \\\"174093\\\", \\\"type\\\": \\\"IntEditor\\\"}, {\\\"attributes\\\": {}, \\\"id\\\": \\\"174088\\\", \\\"type\\\": \\\"IntEditor\\\"}, {\\\"attributes\\\": {\\\"editor\\\": {\\\"id\\\": \\\"174069\\\"}, \\\"field\\\": \\\"Actual_0\\\", \\\"formatter\\\": {\\\"id\\\": \\\"174068\\\"}, \\\"title\\\": \\\"Actual_0\\\"}, \\\"id\\\": \\\"174070\\\", \\\"type\\\": \\\"TableColumn\\\"}, {\\\"attributes\\\": {}, \\\"id\\\": \\\"174068\\\", \\\"type\\\": \\\"NumberFormatter\\\"}, {\\\"attributes\\\": {}, \\\"id\\\": \\\"174082\\\", \\\"type\\\": \\\"StringFormatter\\\"}, {\\\"attributes\\\": {\\\"editor\\\": {\\\"id\\\": \\\"174093\\\"}, \\\"field\\\": \\\"Actual_1\\\", \\\"formatter\\\": {\\\"id\\\": \\\"174092\\\"}, \\\"title\\\": \\\"Actual_1\\\"}, \\\"id\\\": \\\"174094\\\", \\\"type\\\": \\\"TableColumn\\\"}, {\\\"attributes\\\": {\\\"editor\\\": {\\\"id\\\": \\\"174074\\\"}, \\\"field\\\": \\\"Actual_1\\\", \\\"formatter\\\": {\\\"id\\\": \\\"174073\\\"}, \\\"title\\\": \\\"Actual_1\\\"}, \\\"id\\\": \\\"174075\\\", \\\"type\\\": \\\"TableColumn\\\"}, {\\\"attributes\\\": {\\\"editor\\\": {\\\"id\\\": \\\"174088\\\"}, \\\"field\\\": \\\"Actual_0\\\", \\\"formatter\\\": {\\\"id\\\": \\\"174087\\\"}, \\\"title\\\": \\\"Actual_0\\\"}, \\\"id\\\": \\\"174089\\\", \\\"type\\\": \\\"TableColumn\\\"}, {\\\"attributes\\\": {\\\"editor\\\": {\\\"id\\\": \\\"174064\\\"}, \\\"field\\\": \\\"number\\\", \\\"formatter\\\": {\\\"id\\\": \\\"174063\\\"}, \\\"title\\\": \\\"#\\\"}, \\\"id\\\": \\\"174065\\\", \\\"type\\\": \\\"TableColumn\\\"}, {\\\"attributes\\\": {}, \\\"id\\\": \\\"174074\\\", \\\"type\\\": \\\"IntEditor\\\"}, {\\\"attributes\\\": {}, \\\"id\\\": \\\"174092\\\", \\\"type\\\": \\\"NumberFormatter\\\"}, {\\\"attributes\\\": {}, \\\"id\\\": \\\"174069\\\", \\\"type\\\": \\\"IntEditor\\\"}, {\\\"attributes\\\": {\\\"editor\\\": {\\\"id\\\": \\\"174083\\\"}, \\\"field\\\": \\\"number\\\", \\\"formatter\\\": {\\\"id\\\": \\\"174082\\\"}, \\\"title\\\": \\\"#\\\"}, \\\"id\\\": \\\"174084\\\", \\\"type\\\": \\\"TableColumn\\\"}, {\\\"attributes\\\": {}, \\\"id\\\": \\\"174063\\\", \\\"type\\\": \\\"StringFormatter\\\"}, {\\\"attributes\\\": {}, \\\"id\\\": \\\"174064\\\", \\\"type\\\": \\\"StringEditor\\\"}]}\",\"header\":\"{\\\"msgid\\\": \\\"174101\\\", \\\"msgtype\\\": \\\"PATCH-DOC\\\"}\",\"metadata\":\"{}\"},\"13\":{\"content\":\"{\\\"events\\\": [{\\\"attr\\\": \\\"columns\\\", \\\"kind\\\": \\\"ModelChanged\\\", \\\"model\\\": {\\\"id\\\": \\\"173674\\\"}, \\\"new\\\": [{\\\"id\\\": \\\"174026\\\"}, {\\\"id\\\": \\\"174031\\\"}, {\\\"id\\\": \\\"174036\\\"}]}, {\\\"cols\\\": null, \\\"column_source\\\": {\\\"id\\\": \\\"173657\\\"}, \\\"kind\\\": \\\"ColumnDataChanged\\\", \\\"new\\\": {\\\"Actual_0\\\": [542, 0], \\\"Actual_1\\\": [46, 8], \\\"number\\\": [\\\"Predicted_0\\\", \\\"Predicted_1\\\"]}}, {\\\"attr\\\": \\\"columns\\\", \\\"kind\\\": \\\"ModelChanged\\\", \\\"model\\\": {\\\"id\\\": \\\"173695\\\"}, \\\"new\\\": [{\\\"id\\\": \\\"174045\\\"}, {\\\"id\\\": \\\"174050\\\"}, {\\\"id\\\": \\\"174055\\\"}]}, {\\\"cols\\\": null, \\\"column_source\\\": {\\\"id\\\": \\\"173678\\\"}, \\\"kind\\\": \\\"ColumnDataChanged\\\", \\\"new\\\": {\\\"Actual_0\\\": [133, 1], \\\"Actual_1\\\": [14, 1], \\\"number\\\": [\\\"Predicted_0\\\", \\\"Predicted_1\\\"]}}, {\\\"attr\\\": \\\"text\\\", \\\"kind\\\": \\\"ModelChanged\\\", \\\"model\\\": {\\\"id\\\": \\\"173707\\\"}, \\\"new\\\": \\\"<span style=\\\\\\\"color:black;font-family:Arial;font-style:bold;font-weight:bold;font-size:12pt\\\\\\\">decision_threshold: 0.7<\\\\/span>\\\"}], \\\"references\\\": [{\\\"attributes\\\": {\\\"editor\\\": {\\\"id\\\": \\\"174030\\\"}, \\\"field\\\": \\\"Actual_0\\\", \\\"formatter\\\": {\\\"id\\\": \\\"174029\\\"}, \\\"title\\\": \\\"Actual_0\\\"}, \\\"id\\\": \\\"174031\\\", \\\"type\\\": \\\"TableColumn\\\"}, {\\\"attributes\\\": {\\\"editor\\\": {\\\"id\\\": \\\"174054\\\"}, \\\"field\\\": \\\"Actual_1\\\", \\\"formatter\\\": {\\\"id\\\": \\\"174053\\\"}, \\\"title\\\": \\\"Actual_1\\\"}, \\\"id\\\": \\\"174055\\\", \\\"type\\\": \\\"TableColumn\\\"}, {\\\"attributes\\\": {}, \\\"id\\\": \\\"174025\\\", \\\"type\\\": \\\"StringEditor\\\"}, {\\\"attributes\\\": {\\\"editor\\\": {\\\"id\\\": \\\"174025\\\"}, \\\"field\\\": \\\"number\\\", \\\"formatter\\\": {\\\"id\\\": \\\"174024\\\"}, \\\"title\\\": \\\"#\\\"}, \\\"id\\\": \\\"174026\\\", \\\"type\\\": \\\"TableColumn\\\"}, {\\\"attributes\\\": {\\\"editor\\\": {\\\"id\\\": \\\"174035\\\"}, \\\"field\\\": \\\"Actual_1\\\", \\\"formatter\\\": {\\\"id\\\": \\\"174034\\\"}, \\\"title\\\": \\\"Actual_1\\\"}, \\\"id\\\": \\\"174036\\\", \\\"type\\\": \\\"TableColumn\\\"}, {\\\"attributes\\\": {}, \\\"id\\\": \\\"174048\\\", \\\"type\\\": \\\"NumberFormatter\\\"}, {\\\"attributes\\\": {}, \\\"id\\\": \\\"174053\\\", \\\"type\\\": \\\"NumberFormatter\\\"}, {\\\"attributes\\\": {}, \\\"id\\\": \\\"174049\\\", \\\"type\\\": \\\"IntEditor\\\"}, {\\\"attributes\\\": {}, \\\"id\\\": \\\"174054\\\", \\\"type\\\": \\\"IntEditor\\\"}, {\\\"attributes\\\": {}, \\\"id\\\": \\\"174030\\\", \\\"type\\\": \\\"IntEditor\\\"}, {\\\"attributes\\\": {\\\"editor\\\": {\\\"id\\\": \\\"174044\\\"}, \\\"field\\\": \\\"number\\\", \\\"formatter\\\": {\\\"id\\\": \\\"174043\\\"}, \\\"title\\\": \\\"#\\\"}, \\\"id\\\": \\\"174045\\\", \\\"type\\\": \\\"TableColumn\\\"}, {\\\"attributes\\\": {}, \\\"id\\\": \\\"174035\\\", \\\"type\\\": \\\"IntEditor\\\"}, {\\\"attributes\\\": {}, \\\"id\\\": \\\"174043\\\", \\\"type\\\": \\\"StringFormatter\\\"}, {\\\"attributes\\\": {}, \\\"id\\\": \\\"174044\\\", \\\"type\\\": \\\"StringEditor\\\"}, {\\\"attributes\\\": {\\\"editor\\\": {\\\"id\\\": \\\"174049\\\"}, \\\"field\\\": \\\"Actual_0\\\", \\\"formatter\\\": {\\\"id\\\": \\\"174048\\\"}, \\\"title\\\": \\\"Actual_0\\\"}, \\\"id\\\": \\\"174050\\\", \\\"type\\\": \\\"TableColumn\\\"}, {\\\"attributes\\\": {}, \\\"id\\\": \\\"174024\\\", \\\"type\\\": \\\"StringFormatter\\\"}, {\\\"attributes\\\": {}, \\\"id\\\": \\\"174034\\\", \\\"type\\\": \\\"NumberFormatter\\\"}, {\\\"attributes\\\": {}, \\\"id\\\": \\\"174029\\\", \\\"type\\\": \\\"NumberFormatter\\\"}]}\",\"header\":\"{\\\"msgid\\\": \\\"174062\\\", \\\"msgtype\\\": \\\"PATCH-DOC\\\"}\",\"metadata\":\"{}\"},\"14\":{\"content\":\"{\\\"events\\\": [{\\\"attr\\\": \\\"columns\\\", \\\"kind\\\": \\\"ModelChanged\\\", \\\"model\\\": {\\\"id\\\": \\\"173674\\\"}, \\\"new\\\": [{\\\"id\\\": \\\"173987\\\"}, {\\\"id\\\": \\\"173992\\\"}, {\\\"id\\\": \\\"173997\\\"}]}, {\\\"cols\\\": null, \\\"column_source\\\": {\\\"id\\\": \\\"173657\\\"}, \\\"kind\\\": \\\"ColumnDataChanged\\\", \\\"new\\\": {\\\"Actual_0\\\": [542, 0], \\\"Actual_1\\\": [48, 6], \\\"number\\\": [\\\"Predicted_0\\\", \\\"Predicted_1\\\"]}}, {\\\"attr\\\": \\\"columns\\\", \\\"kind\\\": \\\"ModelChanged\\\", \\\"model\\\": {\\\"id\\\": \\\"173695\\\"}, \\\"new\\\": [{\\\"id\\\": \\\"174006\\\"}, {\\\"id\\\": \\\"174011\\\"}, {\\\"id\\\": \\\"174016\\\"}]}, {\\\"cols\\\": null, \\\"column_source\\\": {\\\"id\\\": \\\"173678\\\"}, \\\"kind\\\": \\\"ColumnDataChanged\\\", \\\"new\\\": {\\\"Actual_0\\\": [134, 0], \\\"Actual_1\\\": [14, 1], \\\"number\\\": [\\\"Predicted_0\\\", \\\"Predicted_1\\\"]}}, {\\\"attr\\\": \\\"text\\\", \\\"kind\\\": \\\"ModelChanged\\\", \\\"model\\\": {\\\"id\\\": \\\"173707\\\"}, \\\"new\\\": \\\"<span style=\\\\\\\"color:black;font-family:Arial;font-style:bold;font-weight:bold;font-size:12pt\\\\\\\">decision_threshold: 0.75<\\\\/span>\\\"}], \\\"references\\\": [{\\\"attributes\\\": {}, \\\"id\\\": \\\"173996\\\", \\\"type\\\": \\\"IntEditor\\\"}, {\\\"attributes\\\": {}, \\\"id\\\": \\\"174004\\\", \\\"type\\\": \\\"StringFormatter\\\"}, {\\\"attributes\\\": {\\\"editor\\\": {\\\"id\\\": \\\"174010\\\"}, \\\"field\\\": \\\"Actual_0\\\", \\\"formatter\\\": {\\\"id\\\": \\\"174009\\\"}, \\\"title\\\": \\\"Actual_0\\\"}, \\\"id\\\": \\\"174011\\\", \\\"type\\\": \\\"TableColumn\\\"}, {\\\"attributes\\\": {\\\"editor\\\": {\\\"id\\\": \\\"174015\\\"}, \\\"field\\\": \\\"Actual_1\\\", \\\"formatter\\\": {\\\"id\\\": \\\"174014\\\"}, \\\"title\\\": \\\"Actual_1\\\"}, \\\"id\\\": \\\"174016\\\", \\\"type\\\": \\\"TableColumn\\\"}, {\\\"attributes\\\": {\\\"editor\\\": {\\\"id\\\": \\\"174005\\\"}, \\\"field\\\": \\\"number\\\", \\\"formatter\\\": {\\\"id\\\": \\\"174004\\\"}, \\\"title\\\": \\\"#\\\"}, \\\"id\\\": \\\"174006\\\", \\\"type\\\": \\\"TableColumn\\\"}, {\\\"attributes\\\": {}, \\\"id\\\": \\\"173985\\\", \\\"type\\\": \\\"StringFormatter\\\"}, {\\\"attributes\\\": {}, \\\"id\\\": \\\"173991\\\", \\\"type\\\": \\\"IntEditor\\\"}, {\\\"attributes\\\": {}, \\\"id\\\": \\\"174009\\\", \\\"type\\\": \\\"NumberFormatter\\\"}, {\\\"attributes\\\": {}, \\\"id\\\": \\\"173986\\\", \\\"type\\\": \\\"StringEditor\\\"}, {\\\"attributes\\\": {}, \\\"id\\\": \\\"174014\\\", \\\"type\\\": \\\"NumberFormatter\\\"}, {\\\"attributes\\\": {\\\"editor\\\": {\\\"id\\\": \\\"173991\\\"}, \\\"field\\\": \\\"Actual_0\\\", \\\"formatter\\\": {\\\"id\\\": \\\"173990\\\"}, \\\"title\\\": \\\"Actual_0\\\"}, \\\"id\\\": \\\"173992\\\", \\\"type\\\": \\\"TableColumn\\\"}, {\\\"attributes\\\": {}, \\\"id\\\": \\\"174005\\\", \\\"type\\\": \\\"StringEditor\\\"}, {\\\"attributes\\\": {\\\"editor\\\": {\\\"id\\\": \\\"173996\\\"}, \\\"field\\\": \\\"Actual_1\\\", \\\"formatter\\\": {\\\"id\\\": \\\"173995\\\"}, \\\"title\\\": \\\"Actual_1\\\"}, \\\"id\\\": \\\"173997\\\", \\\"type\\\": \\\"TableColumn\\\"}, {\\\"attributes\\\": {}, \\\"id\\\": \\\"174010\\\", \\\"type\\\": \\\"IntEditor\\\"}, {\\\"attributes\\\": {\\\"editor\\\": {\\\"id\\\": \\\"173986\\\"}, \\\"field\\\": \\\"number\\\", \\\"formatter\\\": {\\\"id\\\": \\\"173985\\\"}, \\\"title\\\": \\\"#\\\"}, \\\"id\\\": \\\"173987\\\", \\\"type\\\": \\\"TableColumn\\\"}, {\\\"attributes\\\": {}, \\\"id\\\": \\\"174015\\\", \\\"type\\\": \\\"IntEditor\\\"}, {\\\"attributes\\\": {}, \\\"id\\\": \\\"173990\\\", \\\"type\\\": \\\"NumberFormatter\\\"}, {\\\"attributes\\\": {}, \\\"id\\\": \\\"173995\\\", \\\"type\\\": \\\"NumberFormatter\\\"}]}\",\"header\":\"{\\\"msgid\\\": \\\"174023\\\", \\\"msgtype\\\": \\\"PATCH-DOC\\\"}\",\"metadata\":\"{}\"},\"15\":{\"content\":\"{\\\"events\\\": [{\\\"attr\\\": \\\"columns\\\", \\\"kind\\\": \\\"ModelChanged\\\", \\\"model\\\": {\\\"id\\\": \\\"173674\\\"}, \\\"new\\\": [{\\\"id\\\": \\\"173948\\\"}, {\\\"id\\\": \\\"173953\\\"}, {\\\"id\\\": \\\"173958\\\"}]}, {\\\"cols\\\": null, \\\"column_source\\\": {\\\"id\\\": \\\"173657\\\"}, \\\"kind\\\": \\\"ColumnDataChanged\\\", \\\"new\\\": {\\\"Actual_0\\\": [542, 0], \\\"Actual_1\\\": [48, 6], \\\"number\\\": [\\\"Predicted_0\\\", \\\"Predicted_1\\\"]}}, {\\\"attr\\\": \\\"columns\\\", \\\"kind\\\": \\\"ModelChanged\\\", \\\"model\\\": {\\\"id\\\": \\\"173695\\\"}, \\\"new\\\": [{\\\"id\\\": \\\"173967\\\"}, {\\\"id\\\": \\\"173972\\\"}, {\\\"id\\\": \\\"173977\\\"}]}, {\\\"cols\\\": null, \\\"column_source\\\": {\\\"id\\\": \\\"173678\\\"}, \\\"kind\\\": \\\"ColumnDataChanged\\\", \\\"new\\\": {\\\"Actual_0\\\": [134, 0], \\\"Actual_1\\\": [15, 0], \\\"number\\\": [\\\"Predicted_0\\\", \\\"Predicted_1\\\"]}}, {\\\"attr\\\": \\\"text\\\", \\\"kind\\\": \\\"ModelChanged\\\", \\\"model\\\": {\\\"id\\\": \\\"173707\\\"}, \\\"new\\\": \\\"<span style=\\\\\\\"color:black;font-family:Arial;font-style:bold;font-weight:bold;font-size:12pt\\\\\\\">decision_threshold: 0.8<\\\\/span>\\\"}], \\\"references\\\": [{\\\"attributes\\\": {\\\"editor\\\": {\\\"id\\\": \\\"173957\\\"}, \\\"field\\\": \\\"Actual_1\\\", \\\"formatter\\\": {\\\"id\\\": \\\"173956\\\"}, \\\"title\\\": \\\"Actual_1\\\"}, \\\"id\\\": \\\"173958\\\", \\\"type\\\": \\\"TableColumn\\\"}, {\\\"attributes\\\": {}, \\\"id\\\": \\\"173976\\\", \\\"type\\\": \\\"IntEditor\\\"}, {\\\"attributes\\\": {\\\"editor\\\": {\\\"id\\\": \\\"173952\\\"}, \\\"field\\\": \\\"Actual_0\\\", \\\"formatter\\\": {\\\"id\\\": \\\"173951\\\"}, \\\"title\\\": \\\"Actual_0\\\"}, \\\"id\\\": \\\"173953\\\", \\\"type\\\": \\\"TableColumn\\\"}, {\\\"attributes\\\": {\\\"editor\\\": {\\\"id\\\": \\\"173947\\\"}, \\\"field\\\": \\\"number\\\", \\\"formatter\\\": {\\\"id\\\": \\\"173946\\\"}, \\\"title\\\": \\\"#\\\"}, \\\"id\\\": \\\"173948\\\", \\\"type\\\": \\\"TableColumn\\\"}, {\\\"attributes\\\": {}, \\\"id\\\": \\\"173951\\\", \\\"type\\\": \\\"NumberFormatter\\\"}, {\\\"attributes\\\": {}, \\\"id\\\": \\\"173956\\\", \\\"type\\\": \\\"NumberFormatter\\\"}, {\\\"attributes\\\": {\\\"editor\\\": {\\\"id\\\": \\\"173971\\\"}, \\\"field\\\": \\\"Actual_0\\\", \\\"formatter\\\": {\\\"id\\\": \\\"173970\\\"}, \\\"title\\\": \\\"Actual_0\\\"}, \\\"id\\\": \\\"173972\\\", \\\"type\\\": \\\"TableColumn\\\"}, {\\\"attributes\\\": {}, \\\"id\\\": \\\"173957\\\", \\\"type\\\": \\\"IntEditor\\\"}, {\\\"attributes\\\": {\\\"editor\\\": {\\\"id\\\": \\\"173976\\\"}, \\\"field\\\": \\\"Actual_1\\\", \\\"formatter\\\": {\\\"id\\\": \\\"173975\\\"}, \\\"title\\\": \\\"Actual_1\\\"}, \\\"id\\\": \\\"173977\\\", \\\"type\\\": \\\"TableColumn\\\"}, {\\\"attributes\\\": {}, \\\"id\\\": \\\"173965\\\", \\\"type\\\": \\\"StringFormatter\\\"}, {\\\"attributes\\\": {}, \\\"id\\\": \\\"173966\\\", \\\"type\\\": \\\"StringEditor\\\"}, {\\\"attributes\\\": {}, \\\"id\\\": \\\"173970\\\", \\\"type\\\": \\\"NumberFormatter\\\"}, {\\\"attributes\\\": {\\\"editor\\\": {\\\"id\\\": \\\"173966\\\"}, \\\"field\\\": \\\"number\\\", \\\"formatter\\\": {\\\"id\\\": \\\"173965\\\"}, \\\"title\\\": \\\"#\\\"}, \\\"id\\\": \\\"173967\\\", \\\"type\\\": \\\"TableColumn\\\"}, {\\\"attributes\\\": {}, \\\"id\\\": \\\"173975\\\", \\\"type\\\": \\\"NumberFormatter\\\"}, {\\\"attributes\\\": {}, \\\"id\\\": \\\"173946\\\", \\\"type\\\": \\\"StringFormatter\\\"}, {\\\"attributes\\\": {}, \\\"id\\\": \\\"173952\\\", \\\"type\\\": \\\"IntEditor\\\"}, {\\\"attributes\\\": {}, \\\"id\\\": \\\"173971\\\", \\\"type\\\": \\\"IntEditor\\\"}, {\\\"attributes\\\": {}, \\\"id\\\": \\\"173947\\\", \\\"type\\\": \\\"StringEditor\\\"}]}\",\"header\":\"{\\\"msgid\\\": \\\"173984\\\", \\\"msgtype\\\": \\\"PATCH-DOC\\\"}\",\"metadata\":\"{}\"},\"16\":{\"content\":\"{\\\"events\\\": [{\\\"attr\\\": \\\"columns\\\", \\\"kind\\\": \\\"ModelChanged\\\", \\\"model\\\": {\\\"id\\\": \\\"173674\\\"}, \\\"new\\\": [{\\\"id\\\": \\\"173909\\\"}, {\\\"id\\\": \\\"173914\\\"}, {\\\"id\\\": \\\"173919\\\"}]}, {\\\"cols\\\": null, \\\"column_source\\\": {\\\"id\\\": \\\"173657\\\"}, \\\"kind\\\": \\\"ColumnDataChanged\\\", \\\"new\\\": {\\\"Actual_0\\\": [542, 0], \\\"Actual_1\\\": [49, 5], \\\"number\\\": [\\\"Predicted_0\\\", \\\"Predicted_1\\\"]}}, {\\\"attr\\\": \\\"columns\\\", \\\"kind\\\": \\\"ModelChanged\\\", \\\"model\\\": {\\\"id\\\": \\\"173695\\\"}, \\\"new\\\": [{\\\"id\\\": \\\"173928\\\"}, {\\\"id\\\": \\\"173933\\\"}, {\\\"id\\\": \\\"173938\\\"}]}, {\\\"cols\\\": null, \\\"column_source\\\": {\\\"id\\\": \\\"173678\\\"}, \\\"kind\\\": \\\"ColumnDataChanged\\\", \\\"new\\\": {\\\"Actual_0\\\": [134, 0], \\\"Actual_1\\\": [15, 0], \\\"number\\\": [\\\"Predicted_0\\\", \\\"Predicted_1\\\"]}}, {\\\"attr\\\": \\\"text\\\", \\\"kind\\\": \\\"ModelChanged\\\", \\\"model\\\": {\\\"id\\\": \\\"173707\\\"}, \\\"new\\\": \\\"<span style=\\\\\\\"color:black;font-family:Arial;font-style:bold;font-weight:bold;font-size:12pt\\\\\\\">decision_threshold: 0.85<\\\\/span>\\\"}], \\\"references\\\": [{\\\"attributes\\\": {}, \\\"id\\\": \\\"173932\\\", \\\"type\\\": \\\"IntEditor\\\"}, {\\\"attributes\\\": {}, \\\"id\\\": \\\"173908\\\", \\\"type\\\": \\\"StringEditor\\\"}, {\\\"attributes\\\": {\\\"editor\\\": {\\\"id\\\": \\\"173908\\\"}, \\\"field\\\": \\\"number\\\", \\\"formatter\\\": {\\\"id\\\": \\\"173907\\\"}, \\\"title\\\": \\\"#\\\"}, \\\"id\\\": \\\"173909\\\", \\\"type\\\": \\\"TableColumn\\\"}, {\\\"attributes\\\": {\\\"editor\\\": {\\\"id\\\": \\\"173937\\\"}, \\\"field\\\": \\\"Actual_1\\\", \\\"formatter\\\": {\\\"id\\\": \\\"173936\\\"}, \\\"title\\\": \\\"Actual_1\\\"}, \\\"id\\\": \\\"173938\\\", \\\"type\\\": \\\"TableColumn\\\"}, {\\\"attributes\\\": {}, \\\"id\\\": \\\"173927\\\", \\\"type\\\": \\\"StringEditor\\\"}, {\\\"attributes\\\": {}, \\\"id\\\": \\\"173937\\\", \\\"type\\\": \\\"IntEditor\\\"}, {\\\"attributes\\\": {}, \\\"id\\\": \\\"173926\\\", \\\"type\\\": \\\"StringFormatter\\\"}, {\\\"attributes\\\": {}, \\\"id\\\": \\\"173917\\\", \\\"type\\\": \\\"NumberFormatter\\\"}, {\\\"attributes\\\": {}, \\\"id\\\": \\\"173912\\\", \\\"type\\\": \\\"NumberFormatter\\\"}, {\\\"attributes\\\": {\\\"editor\\\": {\\\"id\\\": \\\"173927\\\"}, \\\"field\\\": \\\"number\\\", \\\"formatter\\\": {\\\"id\\\": \\\"173926\\\"}, \\\"title\\\": \\\"#\\\"}, \\\"id\\\": \\\"173928\\\", \\\"type\\\": \\\"TableColumn\\\"}, {\\\"attributes\\\": {}, \\\"id\\\": \\\"173918\\\", \\\"type\\\": \\\"IntEditor\\\"}, {\\\"attributes\\\": {}, \\\"id\\\": \\\"173931\\\", \\\"type\\\": \\\"NumberFormatter\\\"}, {\\\"attributes\\\": {}, \\\"id\\\": \\\"173936\\\", \\\"type\\\": \\\"NumberFormatter\\\"}, {\\\"attributes\\\": {\\\"editor\\\": {\\\"id\\\": \\\"173913\\\"}, \\\"field\\\": \\\"Actual_0\\\", \\\"formatter\\\": {\\\"id\\\": \\\"173912\\\"}, \\\"title\\\": \\\"Actual_0\\\"}, \\\"id\\\": \\\"173914\\\", \\\"type\\\": \\\"TableColumn\\\"}, {\\\"attributes\\\": {}, \\\"id\\\": \\\"173913\\\", \\\"type\\\": \\\"IntEditor\\\"}, {\\\"attributes\\\": {}, \\\"id\\\": \\\"173907\\\", \\\"type\\\": \\\"StringFormatter\\\"}, {\\\"attributes\\\": {\\\"editor\\\": {\\\"id\\\": \\\"173932\\\"}, \\\"field\\\": \\\"Actual_0\\\", \\\"formatter\\\": {\\\"id\\\": \\\"173931\\\"}, \\\"title\\\": \\\"Actual_0\\\"}, \\\"id\\\": \\\"173933\\\", \\\"type\\\": \\\"TableColumn\\\"}, {\\\"attributes\\\": {\\\"editor\\\": {\\\"id\\\": \\\"173918\\\"}, \\\"field\\\": \\\"Actual_1\\\", \\\"formatter\\\": {\\\"id\\\": \\\"173917\\\"}, \\\"title\\\": \\\"Actual_1\\\"}, \\\"id\\\": \\\"173919\\\", \\\"type\\\": \\\"TableColumn\\\"}]}\",\"header\":\"{\\\"msgid\\\": \\\"173945\\\", \\\"msgtype\\\": \\\"PATCH-DOC\\\"}\",\"metadata\":\"{}\"},\"17\":{\"content\":\"{\\\"events\\\": [{\\\"attr\\\": \\\"columns\\\", \\\"kind\\\": \\\"ModelChanged\\\", \\\"model\\\": {\\\"id\\\": \\\"173674\\\"}, \\\"new\\\": [{\\\"id\\\": \\\"173870\\\"}, {\\\"id\\\": \\\"173875\\\"}, {\\\"id\\\": \\\"173880\\\"}]}, {\\\"cols\\\": null, \\\"column_source\\\": {\\\"id\\\": \\\"173657\\\"}, \\\"kind\\\": \\\"ColumnDataChanged\\\", \\\"new\\\": {\\\"Actual_0\\\": [542, 0], \\\"Actual_1\\\": [53, 1], \\\"number\\\": [\\\"Predicted_0\\\", \\\"Predicted_1\\\"]}}, {\\\"attr\\\": \\\"columns\\\", \\\"kind\\\": \\\"ModelChanged\\\", \\\"model\\\": {\\\"id\\\": \\\"173695\\\"}, \\\"new\\\": [{\\\"id\\\": \\\"173889\\\"}, {\\\"id\\\": \\\"173894\\\"}, {\\\"id\\\": \\\"173899\\\"}]}, {\\\"cols\\\": null, \\\"column_source\\\": {\\\"id\\\": \\\"173678\\\"}, \\\"kind\\\": \\\"ColumnDataChanged\\\", \\\"new\\\": {\\\"Actual_0\\\": [134, 0], \\\"Actual_1\\\": [15, 0], \\\"number\\\": [\\\"Predicted_0\\\", \\\"Predicted_1\\\"]}}, {\\\"attr\\\": \\\"text\\\", \\\"kind\\\": \\\"ModelChanged\\\", \\\"model\\\": {\\\"id\\\": \\\"173707\\\"}, \\\"new\\\": \\\"<span style=\\\\\\\"color:black;font-family:Arial;font-style:bold;font-weight:bold;font-size:12pt\\\\\\\">decision_threshold: 0.9<\\\\/span>\\\"}], \\\"references\\\": [{\\\"attributes\\\": {\\\"editor\\\": {\\\"id\\\": \\\"173888\\\"}, \\\"field\\\": \\\"number\\\", \\\"formatter\\\": {\\\"id\\\": \\\"173887\\\"}, \\\"title\\\": \\\"#\\\"}, \\\"id\\\": \\\"173889\\\", \\\"type\\\": \\\"TableColumn\\\"}, {\\\"attributes\\\": {}, \\\"id\\\": \\\"173874\\\", \\\"type\\\": \\\"IntEditor\\\"}, {\\\"attributes\\\": {}, \\\"id\\\": \\\"173893\\\", \\\"type\\\": \\\"IntEditor\\\"}, {\\\"attributes\\\": {}, \\\"id\\\": \\\"173869\\\", \\\"type\\\": \\\"StringEditor\\\"}, {\\\"attributes\\\": {}, \\\"id\\\": \\\"173888\\\", \\\"type\\\": \\\"StringEditor\\\"}, {\\\"attributes\\\": {\\\"editor\\\": {\\\"id\\\": \\\"173893\\\"}, \\\"field\\\": \\\"Actual_0\\\", \\\"formatter\\\": {\\\"id\\\": \\\"173892\\\"}, \\\"title\\\": \\\"Actual_0\\\"}, \\\"id\\\": \\\"173894\\\", \\\"type\\\": \\\"TableColumn\\\"}, {\\\"attributes\\\": {}, \\\"id\\\": \\\"173897\\\", \\\"type\\\": \\\"NumberFormatter\\\"}, {\\\"attributes\\\": {}, \\\"id\\\": \\\"173898\\\", \\\"type\\\": \\\"IntEditor\\\"}, {\\\"attributes\\\": {\\\"editor\\\": {\\\"id\\\": \\\"173874\\\"}, \\\"field\\\": \\\"Actual_0\\\", \\\"formatter\\\": {\\\"id\\\": \\\"173873\\\"}, \\\"title\\\": \\\"Actual_0\\\"}, \\\"id\\\": \\\"173875\\\", \\\"type\\\": \\\"TableColumn\\\"}, {\\\"attributes\\\": {}, \\\"id\\\": \\\"173887\\\", \\\"type\\\": \\\"StringFormatter\\\"}, {\\\"attributes\\\": {\\\"editor\\\": {\\\"id\\\": \\\"173898\\\"}, \\\"field\\\": \\\"Actual_1\\\", \\\"formatter\\\": {\\\"id\\\": \\\"173897\\\"}, \\\"title\\\": \\\"Actual_1\\\"}, \\\"id\\\": \\\"173899\\\", \\\"type\\\": \\\"TableColumn\\\"}, {\\\"attributes\\\": {}, \\\"id\\\": \\\"173873\\\", \\\"type\\\": \\\"NumberFormatter\\\"}, {\\\"attributes\\\": {}, \\\"id\\\": \\\"173879\\\", \\\"type\\\": \\\"IntEditor\\\"}, {\\\"attributes\\\": {}, \\\"id\\\": \\\"173892\\\", \\\"type\\\": \\\"NumberFormatter\\\"}, {\\\"attributes\\\": {}, \\\"id\\\": \\\"173878\\\", \\\"type\\\": \\\"NumberFormatter\\\"}, {\\\"attributes\\\": {\\\"editor\\\": {\\\"id\\\": \\\"173869\\\"}, \\\"field\\\": \\\"number\\\", \\\"formatter\\\": {\\\"id\\\": \\\"173868\\\"}, \\\"title\\\": \\\"#\\\"}, \\\"id\\\": \\\"173870\\\", \\\"type\\\": \\\"TableColumn\\\"}, {\\\"attributes\\\": {}, \\\"id\\\": \\\"173868\\\", \\\"type\\\": \\\"StringFormatter\\\"}, {\\\"attributes\\\": {\\\"editor\\\": {\\\"id\\\": \\\"173879\\\"}, \\\"field\\\": \\\"Actual_1\\\", \\\"formatter\\\": {\\\"id\\\": \\\"173878\\\"}, \\\"title\\\": \\\"Actual_1\\\"}, \\\"id\\\": \\\"173880\\\", \\\"type\\\": \\\"TableColumn\\\"}]}\",\"header\":\"{\\\"msgid\\\": \\\"173906\\\", \\\"msgtype\\\": \\\"PATCH-DOC\\\"}\",\"metadata\":\"{}\"},\"18\":{\"content\":\"{\\\"events\\\": [{\\\"attr\\\": \\\"columns\\\", \\\"kind\\\": \\\"ModelChanged\\\", \\\"model\\\": {\\\"id\\\": \\\"173674\\\"}, \\\"new\\\": [{\\\"id\\\": \\\"173831\\\"}, {\\\"id\\\": \\\"173836\\\"}, {\\\"id\\\": \\\"173841\\\"}]}, {\\\"cols\\\": null, \\\"column_source\\\": {\\\"id\\\": \\\"173657\\\"}, \\\"kind\\\": \\\"ColumnDataChanged\\\", \\\"new\\\": {\\\"Actual_0\\\": [542, 0], \\\"Actual_1\\\": [54, 0], \\\"number\\\": [\\\"Predicted_0\\\", \\\"Predicted_1\\\"]}}, {\\\"attr\\\": \\\"columns\\\", \\\"kind\\\": \\\"ModelChanged\\\", \\\"model\\\": {\\\"id\\\": \\\"173695\\\"}, \\\"new\\\": [{\\\"id\\\": \\\"173850\\\"}, {\\\"id\\\": \\\"173855\\\"}, {\\\"id\\\": \\\"173860\\\"}]}, {\\\"cols\\\": null, \\\"column_source\\\": {\\\"id\\\": \\\"173678\\\"}, \\\"kind\\\": \\\"ColumnDataChanged\\\", \\\"new\\\": {\\\"Actual_0\\\": [134, 0], \\\"Actual_1\\\": [15, 0], \\\"number\\\": [\\\"Predicted_0\\\", \\\"Predicted_1\\\"]}}, {\\\"attr\\\": \\\"text\\\", \\\"kind\\\": \\\"ModelChanged\\\", \\\"model\\\": {\\\"id\\\": \\\"173707\\\"}, \\\"new\\\": \\\"<span style=\\\\\\\"color:black;font-family:Arial;font-style:bold;font-weight:bold;font-size:12pt\\\\\\\">decision_threshold: 0.95<\\\\/span>\\\"}], \\\"references\\\": [{\\\"attributes\\\": {}, \\\"id\\\": \\\"173840\\\", \\\"type\\\": \\\"IntEditor\\\"}, {\\\"attributes\\\": {}, \\\"id\\\": \\\"173829\\\", \\\"type\\\": \\\"StringFormatter\\\"}, {\\\"attributes\\\": {}, \\\"id\\\": \\\"173839\\\", \\\"type\\\": \\\"NumberFormatter\\\"}, {\\\"attributes\\\": {}, \\\"id\\\": \\\"173854\\\", \\\"type\\\": \\\"IntEditor\\\"}, {\\\"attributes\\\": {}, \\\"id\\\": \\\"173849\\\", \\\"type\\\": \\\"StringEditor\\\"}, {\\\"attributes\\\": {\\\"editor\\\": {\\\"id\\\": \\\"173835\\\"}, \\\"field\\\": \\\"Actual_0\\\", \\\"formatter\\\": {\\\"id\\\": \\\"173834\\\"}, \\\"title\\\": \\\"Actual_0\\\"}, \\\"id\\\": \\\"173836\\\", \\\"type\\\": \\\"TableColumn\\\"}, {\\\"attributes\\\": {}, \\\"id\\\": \\\"173834\\\", \\\"type\\\": \\\"NumberFormatter\\\"}, {\\\"attributes\\\": {\\\"editor\\\": {\\\"id\\\": \\\"173854\\\"}, \\\"field\\\": \\\"Actual_0\\\", \\\"formatter\\\": {\\\"id\\\": \\\"173853\\\"}, \\\"title\\\": \\\"Actual_0\\\"}, \\\"id\\\": \\\"173855\\\", \\\"type\\\": \\\"TableColumn\\\"}, {\\\"attributes\\\": {}, \\\"id\\\": \\\"173835\\\", \\\"type\\\": \\\"IntEditor\\\"}, {\\\"attributes\\\": {}, \\\"id\\\": \\\"173858\\\", \\\"type\\\": \\\"NumberFormatter\\\"}, {\\\"attributes\\\": {\\\"editor\\\": {\\\"id\\\": \\\"173830\\\"}, \\\"field\\\": \\\"number\\\", \\\"formatter\\\": {\\\"id\\\": \\\"173829\\\"}, \\\"title\\\": \\\"#\\\"}, \\\"id\\\": \\\"173831\\\", \\\"type\\\": \\\"TableColumn\\\"}, {\\\"attributes\\\": {\\\"editor\\\": {\\\"id\\\": \\\"173859\\\"}, \\\"field\\\": \\\"Actual_1\\\", \\\"formatter\\\": {\\\"id\\\": \\\"173858\\\"}, \\\"title\\\": \\\"Actual_1\\\"}, \\\"id\\\": \\\"173860\\\", \\\"type\\\": \\\"TableColumn\\\"}, {\\\"attributes\\\": {}, \\\"id\\\": \\\"173830\\\", \\\"type\\\": \\\"StringEditor\\\"}, {\\\"attributes\\\": {\\\"editor\\\": {\\\"id\\\": \\\"173840\\\"}, \\\"field\\\": \\\"Actual_1\\\", \\\"formatter\\\": {\\\"id\\\": \\\"173839\\\"}, \\\"title\\\": \\\"Actual_1\\\"}, \\\"id\\\": \\\"173841\\\", \\\"type\\\": \\\"TableColumn\\\"}, {\\\"attributes\\\": {}, \\\"id\\\": \\\"173853\\\", \\\"type\\\": \\\"NumberFormatter\\\"}, {\\\"attributes\\\": {}, \\\"id\\\": \\\"173859\\\", \\\"type\\\": \\\"IntEditor\\\"}, {\\\"attributes\\\": {\\\"editor\\\": {\\\"id\\\": \\\"173849\\\"}, \\\"field\\\": \\\"number\\\", \\\"formatter\\\": {\\\"id\\\": \\\"173848\\\"}, \\\"title\\\": \\\"#\\\"}, \\\"id\\\": \\\"173850\\\", \\\"type\\\": \\\"TableColumn\\\"}, {\\\"attributes\\\": {}, \\\"id\\\": \\\"173848\\\", \\\"type\\\": \\\"StringFormatter\\\"}]}\",\"header\":\"{\\\"msgid\\\": \\\"173867\\\", \\\"msgtype\\\": \\\"PATCH-DOC\\\"}\",\"metadata\":\"{}\"},\"2\":{\"content\":\"{\\\"events\\\": [{\\\"attr\\\": \\\"columns\\\", \\\"kind\\\": \\\"ModelChanged\\\", \\\"model\\\": {\\\"id\\\": \\\"173674\\\"}, \\\"new\\\": [{\\\"id\\\": \\\"174455\\\"}, {\\\"id\\\": \\\"174460\\\"}, {\\\"id\\\": \\\"174465\\\"}]}, {\\\"cols\\\": null, \\\"column_source\\\": {\\\"id\\\": \\\"173657\\\"}, \\\"kind\\\": \\\"ColumnDataChanged\\\", \\\"new\\\": {\\\"Actual_0\\\": [509, 33], \\\"Actual_1\\\": [1, 53], \\\"number\\\": [\\\"Predicted_0\\\", \\\"Predicted_1\\\"]}}, {\\\"attr\\\": \\\"columns\\\", \\\"kind\\\": \\\"ModelChanged\\\", \\\"model\\\": {\\\"id\\\": \\\"173695\\\"}, \\\"new\\\": [{\\\"id\\\": \\\"174474\\\"}, {\\\"id\\\": \\\"174479\\\"}, {\\\"id\\\": \\\"174484\\\"}]}, {\\\"cols\\\": null, \\\"column_source\\\": {\\\"id\\\": \\\"173678\\\"}, \\\"kind\\\": \\\"ColumnDataChanged\\\", \\\"new\\\": {\\\"Actual_0\\\": [123, 11], \\\"Actual_1\\\": [6, 9], \\\"number\\\": [\\\"Predicted_0\\\", \\\"Predicted_1\\\"]}}, {\\\"attr\\\": \\\"text\\\", \\\"kind\\\": \\\"ModelChanged\\\", \\\"model\\\": {\\\"id\\\": \\\"173707\\\"}, \\\"new\\\": \\\"<span style=\\\\\\\"color:black;font-family:Arial;font-style:bold;font-weight:bold;font-size:12pt\\\\\\\">decision_threshold: 0.15<\\\\/span>\\\"}], \\\"references\\\": [{\\\"attributes\\\": {\\\"editor\\\": {\\\"id\\\": \\\"174478\\\"}, \\\"field\\\": \\\"Actual_0\\\", \\\"formatter\\\": {\\\"id\\\": \\\"174477\\\"}, \\\"title\\\": \\\"Actual_0\\\"}, \\\"id\\\": \\\"174479\\\", \\\"type\\\": \\\"TableColumn\\\"}, {\\\"attributes\\\": {}, \\\"id\\\": \\\"174472\\\", \\\"type\\\": \\\"StringFormatter\\\"}, {\\\"attributes\\\": {}, \\\"id\\\": \\\"174463\\\", \\\"type\\\": \\\"NumberFormatter\\\"}, {\\\"attributes\\\": {}, \\\"id\\\": \\\"174477\\\", \\\"type\\\": \\\"NumberFormatter\\\"}, {\\\"attributes\\\": {}, \\\"id\\\": \\\"174458\\\", \\\"type\\\": \\\"NumberFormatter\\\"}, {\\\"attributes\\\": {}, \\\"id\\\": \\\"174482\\\", \\\"type\\\": \\\"NumberFormatter\\\"}, {\\\"attributes\\\": {\\\"editor\\\": {\\\"id\\\": \\\"174464\\\"}, \\\"field\\\": \\\"Actual_1\\\", \\\"formatter\\\": {\\\"id\\\": \\\"174463\\\"}, \\\"title\\\": \\\"Actual_1\\\"}, \\\"id\\\": \\\"174465\\\", \\\"type\\\": \\\"TableColumn\\\"}, {\\\"attributes\\\": {}, \\\"id\\\": \\\"174453\\\", \\\"type\\\": \\\"StringFormatter\\\"}, {\\\"attributes\\\": {\\\"editor\\\": {\\\"id\\\": \\\"174473\\\"}, \\\"field\\\": \\\"number\\\", \\\"formatter\\\": {\\\"id\\\": \\\"174472\\\"}, \\\"title\\\": \\\"#\\\"}, \\\"id\\\": \\\"174474\\\", \\\"type\\\": \\\"TableColumn\\\"}, {\\\"attributes\\\": {\\\"editor\\\": {\\\"id\\\": \\\"174483\\\"}, \\\"field\\\": \\\"Actual_1\\\", \\\"formatter\\\": {\\\"id\\\": \\\"174482\\\"}, \\\"title\\\": \\\"Actual_1\\\"}, \\\"id\\\": \\\"174484\\\", \\\"type\\\": \\\"TableColumn\\\"}, {\\\"attributes\\\": {}, \\\"id\\\": \\\"174454\\\", \\\"type\\\": \\\"StringEditor\\\"}, {\\\"attributes\\\": {}, \\\"id\\\": \\\"174483\\\", \\\"type\\\": \\\"IntEditor\\\"}, {\\\"attributes\\\": {}, \\\"id\\\": \\\"174478\\\", \\\"type\\\": \\\"IntEditor\\\"}, {\\\"attributes\\\": {\\\"editor\\\": {\\\"id\\\": \\\"174454\\\"}, \\\"field\\\": \\\"number\\\", \\\"formatter\\\": {\\\"id\\\": \\\"174453\\\"}, \\\"title\\\": \\\"#\\\"}, \\\"id\\\": \\\"174455\\\", \\\"type\\\": \\\"TableColumn\\\"}, {\\\"attributes\\\": {}, \\\"id\\\": \\\"174459\\\", \\\"type\\\": \\\"IntEditor\\\"}, {\\\"attributes\\\": {}, \\\"id\\\": \\\"174473\\\", \\\"type\\\": \\\"StringEditor\\\"}, {\\\"attributes\\\": {}, \\\"id\\\": \\\"174464\\\", \\\"type\\\": \\\"IntEditor\\\"}, {\\\"attributes\\\": {\\\"editor\\\": {\\\"id\\\": \\\"174459\\\"}, \\\"field\\\": \\\"Actual_0\\\", \\\"formatter\\\": {\\\"id\\\": \\\"174458\\\"}, \\\"title\\\": \\\"Actual_0\\\"}, \\\"id\\\": \\\"174460\\\", \\\"type\\\": \\\"TableColumn\\\"}]}\",\"header\":\"{\\\"msgid\\\": \\\"174491\\\", \\\"msgtype\\\": \\\"PATCH-DOC\\\"}\",\"metadata\":\"{}\"},\"3\":{\"content\":\"{\\\"events\\\": [{\\\"attr\\\": \\\"columns\\\", \\\"kind\\\": \\\"ModelChanged\\\", \\\"model\\\": {\\\"id\\\": \\\"173674\\\"}, \\\"new\\\": [{\\\"id\\\": \\\"174416\\\"}, {\\\"id\\\": \\\"174421\\\"}, {\\\"id\\\": \\\"174426\\\"}]}, {\\\"cols\\\": null, \\\"column_source\\\": {\\\"id\\\": \\\"173657\\\"}, \\\"kind\\\": \\\"ColumnDataChanged\\\", \\\"new\\\": {\\\"Actual_0\\\": [528, 14], \\\"Actual_1\\\": [3, 51], \\\"number\\\": [\\\"Predicted_0\\\", \\\"Predicted_1\\\"]}}, {\\\"attr\\\": \\\"columns\\\", \\\"kind\\\": \\\"ModelChanged\\\", \\\"model\\\": {\\\"id\\\": \\\"173695\\\"}, \\\"new\\\": [{\\\"id\\\": \\\"174435\\\"}, {\\\"id\\\": \\\"174440\\\"}, {\\\"id\\\": \\\"174445\\\"}]}, {\\\"cols\\\": null, \\\"column_source\\\": {\\\"id\\\": \\\"173678\\\"}, \\\"kind\\\": \\\"ColumnDataChanged\\\", \\\"new\\\": {\\\"Actual_0\\\": [127, 7], \\\"Actual_1\\\": [8, 7], \\\"number\\\": [\\\"Predicted_0\\\", \\\"Predicted_1\\\"]}}, {\\\"attr\\\": \\\"text\\\", \\\"kind\\\": \\\"ModelChanged\\\", \\\"model\\\": {\\\"id\\\": \\\"173707\\\"}, \\\"new\\\": \\\"<span style=\\\\\\\"color:black;font-family:Arial;font-style:bold;font-weight:bold;font-size:12pt\\\\\\\">decision_threshold: 0.2<\\\\/span>\\\"}], \\\"references\\\": [{\\\"attributes\\\": {}, \\\"id\\\": \\\"174414\\\", \\\"type\\\": \\\"StringFormatter\\\"}, {\\\"attributes\\\": {}, \\\"id\\\": \\\"174444\\\", \\\"type\\\": \\\"IntEditor\\\"}, {\\\"attributes\\\": {\\\"editor\\\": {\\\"id\\\": \\\"174420\\\"}, \\\"field\\\": \\\"Actual_0\\\", \\\"formatter\\\": {\\\"id\\\": \\\"174419\\\"}, \\\"title\\\": \\\"Actual_0\\\"}, \\\"id\\\": \\\"174421\\\", \\\"type\\\": \\\"TableColumn\\\"}, {\\\"attributes\\\": {\\\"editor\\\": {\\\"id\\\": \\\"174439\\\"}, \\\"field\\\": \\\"Actual_0\\\", \\\"formatter\\\": {\\\"id\\\": \\\"174438\\\"}, \\\"title\\\": \\\"Actual_0\\\"}, \\\"id\\\": \\\"174440\\\", \\\"type\\\": \\\"TableColumn\\\"}, {\\\"attributes\\\": {\\\"editor\\\": {\\\"id\\\": \\\"174425\\\"}, \\\"field\\\": \\\"Actual_1\\\", \\\"formatter\\\": {\\\"id\\\": \\\"174424\\\"}, \\\"title\\\": \\\"Actual_1\\\"}, \\\"id\\\": \\\"174426\\\", \\\"type\\\": \\\"TableColumn\\\"}, {\\\"attributes\\\": {\\\"editor\\\": {\\\"id\\\": \\\"174434\\\"}, \\\"field\\\": \\\"number\\\", \\\"formatter\\\": {\\\"id\\\": \\\"174433\\\"}, \\\"title\\\": \\\"#\\\"}, \\\"id\\\": \\\"174435\\\", \\\"type\\\": \\\"TableColumn\\\"}, {\\\"attributes\\\": {\\\"editor\\\": {\\\"id\\\": \\\"174444\\\"}, \\\"field\\\": \\\"Actual_1\\\", \\\"formatter\\\": {\\\"id\\\": \\\"174443\\\"}, \\\"title\\\": \\\"Actual_1\\\"}, \\\"id\\\": \\\"174445\\\", \\\"type\\\": \\\"TableColumn\\\"}, {\\\"attributes\\\": {}, \\\"id\\\": \\\"174424\\\", \\\"type\\\": \\\"NumberFormatter\\\"}, {\\\"attributes\\\": {}, \\\"id\\\": \\\"174420\\\", \\\"type\\\": \\\"IntEditor\\\"}, {\\\"attributes\\\": {}, \\\"id\\\": \\\"174438\\\", \\\"type\\\": \\\"NumberFormatter\\\"}, {\\\"attributes\\\": {}, \\\"id\\\": \\\"174419\\\", \\\"type\\\": \\\"NumberFormatter\\\"}, {\\\"attributes\\\": {\\\"editor\\\": {\\\"id\\\": \\\"174415\\\"}, \\\"field\\\": \\\"number\\\", \\\"formatter\\\": {\\\"id\\\": \\\"174414\\\"}, \\\"title\\\": \\\"#\\\"}, \\\"id\\\": \\\"174416\\\", \\\"type\\\": \\\"TableColumn\\\"}, {\\\"attributes\\\": {}, \\\"id\\\": \\\"174434\\\", \\\"type\\\": \\\"StringEditor\\\"}, {\\\"attributes\\\": {}, \\\"id\\\": \\\"174443\\\", \\\"type\\\": \\\"NumberFormatter\\\"}, {\\\"attributes\\\": {}, \\\"id\\\": \\\"174433\\\", \\\"type\\\": \\\"StringFormatter\\\"}, {\\\"attributes\\\": {}, \\\"id\\\": \\\"174425\\\", \\\"type\\\": \\\"IntEditor\\\"}, {\\\"attributes\\\": {}, \\\"id\\\": \\\"174439\\\", \\\"type\\\": \\\"IntEditor\\\"}, {\\\"attributes\\\": {}, \\\"id\\\": \\\"174415\\\", \\\"type\\\": \\\"StringEditor\\\"}]}\",\"header\":\"{\\\"msgid\\\": \\\"174452\\\", \\\"msgtype\\\": \\\"PATCH-DOC\\\"}\",\"metadata\":\"{}\"},\"4\":{\"content\":\"{\\\"events\\\": [{\\\"attr\\\": \\\"columns\\\", \\\"kind\\\": \\\"ModelChanged\\\", \\\"model\\\": {\\\"id\\\": \\\"173674\\\"}, \\\"new\\\": [{\\\"id\\\": \\\"174377\\\"}, {\\\"id\\\": \\\"174382\\\"}, {\\\"id\\\": \\\"174387\\\"}]}, {\\\"cols\\\": null, \\\"column_source\\\": {\\\"id\\\": \\\"173657\\\"}, \\\"kind\\\": \\\"ColumnDataChanged\\\", \\\"new\\\": {\\\"Actual_0\\\": [533, 9], \\\"Actual_1\\\": [8, 46], \\\"number\\\": [\\\"Predicted_0\\\", \\\"Predicted_1\\\"]}}, {\\\"attr\\\": \\\"columns\\\", \\\"kind\\\": \\\"ModelChanged\\\", \\\"model\\\": {\\\"id\\\": \\\"173695\\\"}, \\\"new\\\": [{\\\"id\\\": \\\"174396\\\"}, {\\\"id\\\": \\\"174401\\\"}, {\\\"id\\\": \\\"174406\\\"}]}, {\\\"cols\\\": null, \\\"column_source\\\": {\\\"id\\\": \\\"173678\\\"}, \\\"kind\\\": \\\"ColumnDataChanged\\\", \\\"new\\\": {\\\"Actual_0\\\": [132, 2], \\\"Actual_1\\\": [9, 6], \\\"number\\\": [\\\"Predicted_0\\\", \\\"Predicted_1\\\"]}}, {\\\"attr\\\": \\\"text\\\", \\\"kind\\\": \\\"ModelChanged\\\", \\\"model\\\": {\\\"id\\\": \\\"173707\\\"}, \\\"new\\\": \\\"<span style=\\\\\\\"color:black;font-family:Arial;font-style:bold;font-weight:bold;font-size:12pt\\\\\\\">decision_threshold: 0.25<\\\\/span>\\\"}], \\\"references\\\": [{\\\"attributes\\\": {\\\"editor\\\": {\\\"id\\\": \\\"174386\\\"}, \\\"field\\\": \\\"Actual_1\\\", \\\"formatter\\\": {\\\"id\\\": \\\"174385\\\"}, \\\"title\\\": \\\"Actual_1\\\"}, \\\"id\\\": \\\"174387\\\", \\\"type\\\": \\\"TableColumn\\\"}, {\\\"attributes\\\": {\\\"editor\\\": {\\\"id\\\": \\\"174381\\\"}, \\\"field\\\": \\\"Actual_0\\\", \\\"formatter\\\": {\\\"id\\\": \\\"174380\\\"}, \\\"title\\\": \\\"Actual_0\\\"}, \\\"id\\\": \\\"174382\\\", \\\"type\\\": \\\"TableColumn\\\"}, {\\\"attributes\\\": {}, \\\"id\\\": \\\"174385\\\", \\\"type\\\": \\\"NumberFormatter\\\"}, {\\\"attributes\\\": {}, \\\"id\\\": \\\"174375\\\", \\\"type\\\": \\\"StringFormatter\\\"}, {\\\"attributes\\\": {}, \\\"id\\\": \\\"174394\\\", \\\"type\\\": \\\"StringFormatter\\\"}, {\\\"attributes\\\": {}, \\\"id\\\": \\\"174405\\\", \\\"type\\\": \\\"IntEditor\\\"}, {\\\"attributes\\\": {}, \\\"id\\\": \\\"174395\\\", \\\"type\\\": \\\"StringEditor\\\"}, {\\\"attributes\\\": {}, \\\"id\\\": \\\"174386\\\", \\\"type\\\": \\\"IntEditor\\\"}, {\\\"attributes\\\": {\\\"editor\\\": {\\\"id\\\": \\\"174400\\\"}, \\\"field\\\": \\\"Actual_0\\\", \\\"formatter\\\": {\\\"id\\\": \\\"174399\\\"}, \\\"title\\\": \\\"Actual_0\\\"}, \\\"id\\\": \\\"174401\\\", \\\"type\\\": \\\"TableColumn\\\"}, {\\\"attributes\\\": {}, \\\"id\\\": \\\"174399\\\", \\\"type\\\": \\\"NumberFormatter\\\"}, {\\\"attributes\\\": {}, \\\"id\\\": \\\"174376\\\", \\\"type\\\": \\\"StringEditor\\\"}, {\\\"attributes\\\": {}, \\\"id\\\": \\\"174380\\\", \\\"type\\\": \\\"NumberFormatter\\\"}, {\\\"attributes\\\": {\\\"editor\\\": {\\\"id\\\": \\\"174395\\\"}, \\\"field\\\": \\\"number\\\", \\\"formatter\\\": {\\\"id\\\": \\\"174394\\\"}, \\\"title\\\": \\\"#\\\"}, \\\"id\\\": \\\"174396\\\", \\\"type\\\": \\\"TableColumn\\\"}, {\\\"attributes\\\": {}, \\\"id\\\": \\\"174404\\\", \\\"type\\\": \\\"NumberFormatter\\\"}, {\\\"attributes\\\": {}, \\\"id\\\": \\\"174381\\\", \\\"type\\\": \\\"IntEditor\\\"}, {\\\"attributes\\\": {\\\"editor\\\": {\\\"id\\\": \\\"174405\\\"}, \\\"field\\\": \\\"Actual_1\\\", \\\"formatter\\\": {\\\"id\\\": \\\"174404\\\"}, \\\"title\\\": \\\"Actual_1\\\"}, \\\"id\\\": \\\"174406\\\", \\\"type\\\": \\\"TableColumn\\\"}, {\\\"attributes\\\": {}, \\\"id\\\": \\\"174400\\\", \\\"type\\\": \\\"IntEditor\\\"}, {\\\"attributes\\\": {\\\"editor\\\": {\\\"id\\\": \\\"174376\\\"}, \\\"field\\\": \\\"number\\\", \\\"formatter\\\": {\\\"id\\\": \\\"174375\\\"}, \\\"title\\\": \\\"#\\\"}, \\\"id\\\": \\\"174377\\\", \\\"type\\\": \\\"TableColumn\\\"}]}\",\"header\":\"{\\\"msgid\\\": \\\"174413\\\", \\\"msgtype\\\": \\\"PATCH-DOC\\\"}\",\"metadata\":\"{}\"},\"5\":{\"content\":\"{\\\"events\\\": [{\\\"attr\\\": \\\"columns\\\", \\\"kind\\\": \\\"ModelChanged\\\", \\\"model\\\": {\\\"id\\\": \\\"173674\\\"}, \\\"new\\\": [{\\\"id\\\": \\\"174338\\\"}, {\\\"id\\\": \\\"174343\\\"}, {\\\"id\\\": \\\"174348\\\"}]}, {\\\"cols\\\": null, \\\"column_source\\\": {\\\"id\\\": \\\"173657\\\"}, \\\"kind\\\": \\\"ColumnDataChanged\\\", \\\"new\\\": {\\\"Actual_0\\\": [539, 3], \\\"Actual_1\\\": [14, 40], \\\"number\\\": [\\\"Predicted_0\\\", \\\"Predicted_1\\\"]}}, {\\\"attr\\\": \\\"columns\\\", \\\"kind\\\": \\\"ModelChanged\\\", \\\"model\\\": {\\\"id\\\": \\\"173695\\\"}, \\\"new\\\": [{\\\"id\\\": \\\"174357\\\"}, {\\\"id\\\": \\\"174362\\\"}, {\\\"id\\\": \\\"174367\\\"}]}, {\\\"cols\\\": null, \\\"column_source\\\": {\\\"id\\\": \\\"173678\\\"}, \\\"kind\\\": \\\"ColumnDataChanged\\\", \\\"new\\\": {\\\"Actual_0\\\": [132, 2], \\\"Actual_1\\\": [9, 6], \\\"number\\\": [\\\"Predicted_0\\\", \\\"Predicted_1\\\"]}}, {\\\"attr\\\": \\\"text\\\", \\\"kind\\\": \\\"ModelChanged\\\", \\\"model\\\": {\\\"id\\\": \\\"173707\\\"}, \\\"new\\\": \\\"<span style=\\\\\\\"color:black;font-family:Arial;font-style:bold;font-weight:bold;font-size:12pt\\\\\\\">decision_threshold: 0.3<\\\\/span>\\\"}], \\\"references\\\": [{\\\"attributes\\\": {\\\"editor\\\": {\\\"id\\\": \\\"174361\\\"}, \\\"field\\\": \\\"Actual_0\\\", \\\"formatter\\\": {\\\"id\\\": \\\"174360\\\"}, \\\"title\\\": \\\"Actual_0\\\"}, \\\"id\\\": \\\"174362\\\", \\\"type\\\": \\\"TableColumn\\\"}, {\\\"attributes\\\": {}, \\\"id\\\": \\\"174347\\\", \\\"type\\\": \\\"IntEditor\\\"}, {\\\"attributes\\\": {}, \\\"id\\\": \\\"174361\\\", \\\"type\\\": \\\"IntEditor\\\"}, {\\\"attributes\\\": {\\\"editor\\\": {\\\"id\\\": \\\"174366\\\"}, \\\"field\\\": \\\"Actual_1\\\", \\\"formatter\\\": {\\\"id\\\": \\\"174365\\\"}, \\\"title\\\": \\\"Actual_1\\\"}, \\\"id\\\": \\\"174367\\\", \\\"type\\\": \\\"TableColumn\\\"}, {\\\"attributes\\\": {\\\"editor\\\": {\\\"id\\\": \\\"174337\\\"}, \\\"field\\\": \\\"number\\\", \\\"formatter\\\": {\\\"id\\\": \\\"174336\\\"}, \\\"title\\\": \\\"#\\\"}, \\\"id\\\": \\\"174338\\\", \\\"type\\\": \\\"TableColumn\\\"}, {\\\"attributes\\\": {}, \\\"id\\\": \\\"174365\\\", \\\"type\\\": \\\"NumberFormatter\\\"}, {\\\"attributes\\\": {}, \\\"id\\\": \\\"174337\\\", \\\"type\\\": \\\"StringEditor\\\"}, {\\\"attributes\\\": {}, \\\"id\\\": \\\"174355\\\", \\\"type\\\": \\\"StringFormatter\\\"}, {\\\"attributes\\\": {}, \\\"id\\\": \\\"174336\\\", \\\"type\\\": \\\"StringFormatter\\\"}, {\\\"attributes\\\": {}, \\\"id\\\": \\\"174341\\\", \\\"type\\\": \\\"NumberFormatter\\\"}, {\\\"attributes\\\": {\\\"editor\\\": {\\\"id\\\": \\\"174347\\\"}, \\\"field\\\": \\\"Actual_1\\\", \\\"formatter\\\": {\\\"id\\\": \\\"174346\\\"}, \\\"title\\\": \\\"Actual_1\\\"}, \\\"id\\\": \\\"174348\\\", \\\"type\\\": \\\"TableColumn\\\"}, {\\\"attributes\\\": {}, \\\"id\\\": \\\"174366\\\", \\\"type\\\": \\\"IntEditor\\\"}, {\\\"attributes\\\": {}, \\\"id\\\": \\\"174356\\\", \\\"type\\\": \\\"StringEditor\\\"}, {\\\"attributes\\\": {}, \\\"id\\\": \\\"174360\\\", \\\"type\\\": \\\"NumberFormatter\\\"}, {\\\"attributes\\\": {\\\"editor\\\": {\\\"id\\\": \\\"174356\\\"}, \\\"field\\\": \\\"number\\\", \\\"formatter\\\": {\\\"id\\\": \\\"174355\\\"}, \\\"title\\\": \\\"#\\\"}, \\\"id\\\": \\\"174357\\\", \\\"type\\\": \\\"TableColumn\\\"}, {\\\"attributes\\\": {\\\"editor\\\": {\\\"id\\\": \\\"174342\\\"}, \\\"field\\\": \\\"Actual_0\\\", \\\"formatter\\\": {\\\"id\\\": \\\"174341\\\"}, \\\"title\\\": \\\"Actual_0\\\"}, \\\"id\\\": \\\"174343\\\", \\\"type\\\": \\\"TableColumn\\\"}, {\\\"attributes\\\": {}, \\\"id\\\": \\\"174346\\\", \\\"type\\\": \\\"NumberFormatter\\\"}, {\\\"attributes\\\": {}, \\\"id\\\": \\\"174342\\\", \\\"type\\\": \\\"IntEditor\\\"}]}\",\"header\":\"{\\\"msgid\\\": \\\"174374\\\", \\\"msgtype\\\": \\\"PATCH-DOC\\\"}\",\"metadata\":\"{}\"},\"6\":{\"content\":\"{\\\"events\\\": [{\\\"attr\\\": \\\"columns\\\", \\\"kind\\\": \\\"ModelChanged\\\", \\\"model\\\": {\\\"id\\\": \\\"173674\\\"}, \\\"new\\\": [{\\\"id\\\": \\\"174299\\\"}, {\\\"id\\\": \\\"174304\\\"}, {\\\"id\\\": \\\"174309\\\"}]}, {\\\"cols\\\": null, \\\"column_source\\\": {\\\"id\\\": \\\"173657\\\"}, \\\"kind\\\": \\\"ColumnDataChanged\\\", \\\"new\\\": {\\\"Actual_0\\\": [541, 1], \\\"Actual_1\\\": [19, 35], \\\"number\\\": [\\\"Predicted_0\\\", \\\"Predicted_1\\\"]}}, {\\\"attr\\\": \\\"columns\\\", \\\"kind\\\": \\\"ModelChanged\\\", \\\"model\\\": {\\\"id\\\": \\\"173695\\\"}, \\\"new\\\": [{\\\"id\\\": \\\"174318\\\"}, {\\\"id\\\": \\\"174323\\\"}, {\\\"id\\\": \\\"174328\\\"}]}, {\\\"cols\\\": null, \\\"column_source\\\": {\\\"id\\\": \\\"173678\\\"}, \\\"kind\\\": \\\"ColumnDataChanged\\\", \\\"new\\\": {\\\"Actual_0\\\": [132, 2], \\\"Actual_1\\\": [11, 4], \\\"number\\\": [\\\"Predicted_0\\\", \\\"Predicted_1\\\"]}}, {\\\"attr\\\": \\\"text\\\", \\\"kind\\\": \\\"ModelChanged\\\", \\\"model\\\": {\\\"id\\\": \\\"173707\\\"}, \\\"new\\\": \\\"<span style=\\\\\\\"color:black;font-family:Arial;font-style:bold;font-weight:bold;font-size:12pt\\\\\\\">decision_threshold: 0.35<\\\\/span>\\\"}], \\\"references\\\": [{\\\"attributes\\\": {}, \\\"id\\\": \\\"174321\\\", \\\"type\\\": \\\"NumberFormatter\\\"}, {\\\"attributes\\\": {}, \\\"id\\\": \\\"174326\\\", \\\"type\\\": \\\"NumberFormatter\\\"}, {\\\"attributes\\\": {\\\"editor\\\": {\\\"id\\\": \\\"174317\\\"}, \\\"field\\\": \\\"number\\\", \\\"formatter\\\": {\\\"id\\\": \\\"174316\\\"}, \\\"title\\\": \\\"#\\\"}, \\\"id\\\": \\\"174318\\\", \\\"type\\\": \\\"TableColumn\\\"}, {\\\"attributes\\\": {}, \\\"id\\\": \\\"174307\\\", \\\"type\\\": \\\"NumberFormatter\\\"}, {\\\"attributes\\\": {}, \\\"id\\\": \\\"174302\\\", \\\"type\\\": \\\"NumberFormatter\\\"}, {\\\"attributes\\\": {\\\"editor\\\": {\\\"id\\\": \\\"174308\\\"}, \\\"field\\\": \\\"Actual_1\\\", \\\"formatter\\\": {\\\"id\\\": \\\"174307\\\"}, \\\"title\\\": \\\"Actual_1\\\"}, \\\"id\\\": \\\"174309\\\", \\\"type\\\": \\\"TableColumn\\\"}, {\\\"attributes\\\": {}, \\\"id\\\": \\\"174322\\\", \\\"type\\\": \\\"IntEditor\\\"}, {\\\"attributes\\\": {\\\"editor\\\": {\\\"id\\\": \\\"174327\\\"}, \\\"field\\\": \\\"Actual_1\\\", \\\"formatter\\\": {\\\"id\\\": \\\"174326\\\"}, \\\"title\\\": \\\"Actual_1\\\"}, \\\"id\\\": \\\"174328\\\", \\\"type\\\": \\\"TableColumn\\\"}, {\\\"attributes\\\": {}, \\\"id\\\": \\\"174327\\\", \\\"type\\\": \\\"IntEditor\\\"}, {\\\"attributes\\\": {}, \\\"id\\\": \\\"174303\\\", \\\"type\\\": \\\"IntEditor\\\"}, {\\\"attributes\\\": {}, \\\"id\\\": \\\"174298\\\", \\\"type\\\": \\\"StringEditor\\\"}, {\\\"attributes\\\": {}, \\\"id\\\": \\\"174316\\\", \\\"type\\\": \\\"StringFormatter\\\"}, {\\\"attributes\\\": {\\\"editor\\\": {\\\"id\\\": \\\"174322\\\"}, \\\"field\\\": \\\"Actual_0\\\", \\\"formatter\\\": {\\\"id\\\": \\\"174321\\\"}, \\\"title\\\": \\\"Actual_0\\\"}, \\\"id\\\": \\\"174323\\\", \\\"type\\\": \\\"TableColumn\\\"}, {\\\"attributes\\\": {\\\"editor\\\": {\\\"id\\\": \\\"174298\\\"}, \\\"field\\\": \\\"number\\\", \\\"formatter\\\": {\\\"id\\\": \\\"174297\\\"}, \\\"title\\\": \\\"#\\\"}, \\\"id\\\": \\\"174299\\\", \\\"type\\\": \\\"TableColumn\\\"}, {\\\"attributes\\\": {}, \\\"id\\\": \\\"174308\\\", \\\"type\\\": \\\"IntEditor\\\"}, {\\\"attributes\\\": {}, \\\"id\\\": \\\"174317\\\", \\\"type\\\": \\\"StringEditor\\\"}, {\\\"attributes\\\": {\\\"editor\\\": {\\\"id\\\": \\\"174303\\\"}, \\\"field\\\": \\\"Actual_0\\\", \\\"formatter\\\": {\\\"id\\\": \\\"174302\\\"}, \\\"title\\\": \\\"Actual_0\\\"}, \\\"id\\\": \\\"174304\\\", \\\"type\\\": \\\"TableColumn\\\"}, {\\\"attributes\\\": {}, \\\"id\\\": \\\"174297\\\", \\\"type\\\": \\\"StringFormatter\\\"}]}\",\"header\":\"{\\\"msgid\\\": \\\"174335\\\", \\\"msgtype\\\": \\\"PATCH-DOC\\\"}\",\"metadata\":\"{}\"},\"7\":{\"content\":\"{\\\"events\\\": [{\\\"attr\\\": \\\"columns\\\", \\\"kind\\\": \\\"ModelChanged\\\", \\\"model\\\": {\\\"id\\\": \\\"173674\\\"}, \\\"new\\\": [{\\\"id\\\": \\\"174260\\\"}, {\\\"id\\\": \\\"174265\\\"}, {\\\"id\\\": \\\"174270\\\"}]}, {\\\"cols\\\": null, \\\"column_source\\\": {\\\"id\\\": \\\"173657\\\"}, \\\"kind\\\": \\\"ColumnDataChanged\\\", \\\"new\\\": {\\\"Actual_0\\\": [541, 1], \\\"Actual_1\\\": [26, 28], \\\"number\\\": [\\\"Predicted_0\\\", \\\"Predicted_1\\\"]}}, {\\\"attr\\\": \\\"columns\\\", \\\"kind\\\": \\\"ModelChanged\\\", \\\"model\\\": {\\\"id\\\": \\\"173695\\\"}, \\\"new\\\": [{\\\"id\\\": \\\"174279\\\"}, {\\\"id\\\": \\\"174284\\\"}, {\\\"id\\\": \\\"174289\\\"}]}, {\\\"cols\\\": null, \\\"column_source\\\": {\\\"id\\\": \\\"173678\\\"}, \\\"kind\\\": \\\"ColumnDataChanged\\\", \\\"new\\\": {\\\"Actual_0\\\": [133, 1], \\\"Actual_1\\\": [12, 3], \\\"number\\\": [\\\"Predicted_0\\\", \\\"Predicted_1\\\"]}}, {\\\"attr\\\": \\\"text\\\", \\\"kind\\\": \\\"ModelChanged\\\", \\\"model\\\": {\\\"id\\\": \\\"173707\\\"}, \\\"new\\\": \\\"<span style=\\\\\\\"color:black;font-family:Arial;font-style:bold;font-weight:bold;font-size:12pt\\\\\\\">decision_threshold: 0.4<\\\\/span>\\\"}], \\\"references\\\": [{\\\"attributes\\\": {\\\"editor\\\": {\\\"id\\\": \\\"174259\\\"}, \\\"field\\\": \\\"number\\\", \\\"formatter\\\": {\\\"id\\\": \\\"174258\\\"}, \\\"title\\\": \\\"#\\\"}, \\\"id\\\": \\\"174260\\\", \\\"type\\\": \\\"TableColumn\\\"}, {\\\"attributes\\\": {}, \\\"id\\\": \\\"174268\\\", \\\"type\\\": \\\"NumberFormatter\\\"}, {\\\"attributes\\\": {\\\"editor\\\": {\\\"id\\\": \\\"174283\\\"}, \\\"field\\\": \\\"Actual_0\\\", \\\"formatter\\\": {\\\"id\\\": \\\"174282\\\"}, \\\"title\\\": \\\"Actual_0\\\"}, \\\"id\\\": \\\"174284\\\", \\\"type\\\": \\\"TableColumn\\\"}, {\\\"attributes\\\": {}, \\\"id\\\": \\\"174283\\\", \\\"type\\\": \\\"IntEditor\\\"}, {\\\"attributes\\\": {}, \\\"id\\\": \\\"174278\\\", \\\"type\\\": \\\"StringEditor\\\"}, {\\\"attributes\\\": {}, \\\"id\\\": \\\"174287\\\", \\\"type\\\": \\\"NumberFormatter\\\"}, {\\\"attributes\\\": {}, \\\"id\\\": \\\"174277\\\", \\\"type\\\": \\\"StringFormatter\\\"}, {\\\"attributes\\\": {\\\"editor\\\": {\\\"id\\\": \\\"174264\\\"}, \\\"field\\\": \\\"Actual_0\\\", \\\"formatter\\\": {\\\"id\\\": \\\"174263\\\"}, \\\"title\\\": \\\"Actual_0\\\"}, \\\"id\\\": \\\"174265\\\", \\\"type\\\": \\\"TableColumn\\\"}, {\\\"attributes\\\": {}, \\\"id\\\": \\\"174269\\\", \\\"type\\\": \\\"IntEditor\\\"}, {\\\"attributes\\\": {}, \\\"id\\\": \\\"174259\\\", \\\"type\\\": \\\"StringEditor\\\"}, {\\\"attributes\\\": {}, \\\"id\\\": \\\"174282\\\", \\\"type\\\": \\\"NumberFormatter\\\"}, {\\\"attributes\\\": {}, \\\"id\\\": \\\"174288\\\", \\\"type\\\": \\\"IntEditor\\\"}, {\\\"attributes\\\": {\\\"editor\\\": {\\\"id\\\": \\\"174278\\\"}, \\\"field\\\": \\\"number\\\", \\\"formatter\\\": {\\\"id\\\": \\\"174277\\\"}, \\\"title\\\": \\\"#\\\"}, \\\"id\\\": \\\"174279\\\", \\\"type\\\": \\\"TableColumn\\\"}, {\\\"attributes\\\": {\\\"editor\\\": {\\\"id\\\": \\\"174288\\\"}, \\\"field\\\": \\\"Actual_1\\\", \\\"formatter\\\": {\\\"id\\\": \\\"174287\\\"}, \\\"title\\\": \\\"Actual_1\\\"}, \\\"id\\\": \\\"174289\\\", \\\"type\\\": \\\"TableColumn\\\"}, {\\\"attributes\\\": {}, \\\"id\\\": \\\"174258\\\", \\\"type\\\": \\\"StringFormatter\\\"}, {\\\"attributes\\\": {}, \\\"id\\\": \\\"174264\\\", \\\"type\\\": \\\"IntEditor\\\"}, {\\\"attributes\\\": {}, \\\"id\\\": \\\"174263\\\", \\\"type\\\": \\\"NumberFormatter\\\"}, {\\\"attributes\\\": {\\\"editor\\\": {\\\"id\\\": \\\"174269\\\"}, \\\"field\\\": \\\"Actual_1\\\", \\\"formatter\\\": {\\\"id\\\": \\\"174268\\\"}, \\\"title\\\": \\\"Actual_1\\\"}, \\\"id\\\": \\\"174270\\\", \\\"type\\\": \\\"TableColumn\\\"}]}\",\"header\":\"{\\\"msgid\\\": \\\"174296\\\", \\\"msgtype\\\": \\\"PATCH-DOC\\\"}\",\"metadata\":\"{}\"},\"8\":{\"content\":\"{\\\"events\\\": [{\\\"attr\\\": \\\"columns\\\", \\\"kind\\\": \\\"ModelChanged\\\", \\\"model\\\": {\\\"id\\\": \\\"173674\\\"}, \\\"new\\\": [{\\\"id\\\": \\\"174221\\\"}, {\\\"id\\\": \\\"174226\\\"}, {\\\"id\\\": \\\"174231\\\"}]}, {\\\"cols\\\": null, \\\"column_source\\\": {\\\"id\\\": \\\"173657\\\"}, \\\"kind\\\": \\\"ColumnDataChanged\\\", \\\"new\\\": {\\\"Actual_0\\\": [541, 1], \\\"Actual_1\\\": [29, 25], \\\"number\\\": [\\\"Predicted_0\\\", \\\"Predicted_1\\\"]}}, {\\\"attr\\\": \\\"columns\\\", \\\"kind\\\": \\\"ModelChanged\\\", \\\"model\\\": {\\\"id\\\": \\\"173695\\\"}, \\\"new\\\": [{\\\"id\\\": \\\"174240\\\"}, {\\\"id\\\": \\\"174245\\\"}, {\\\"id\\\": \\\"174250\\\"}]}, {\\\"cols\\\": null, \\\"column_source\\\": {\\\"id\\\": \\\"173678\\\"}, \\\"kind\\\": \\\"ColumnDataChanged\\\", \\\"new\\\": {\\\"Actual_0\\\": [133, 1], \\\"Actual_1\\\": [12, 3], \\\"number\\\": [\\\"Predicted_0\\\", \\\"Predicted_1\\\"]}}, {\\\"attr\\\": \\\"text\\\", \\\"kind\\\": \\\"ModelChanged\\\", \\\"model\\\": {\\\"id\\\": \\\"173707\\\"}, \\\"new\\\": \\\"<span style=\\\\\\\"color:black;font-family:Arial;font-style:bold;font-weight:bold;font-size:12pt\\\\\\\">decision_threshold: 0.45<\\\\/span>\\\"}], \\\"references\\\": [{\\\"attributes\\\": {}, \\\"id\\\": \\\"174249\\\", \\\"type\\\": \\\"IntEditor\\\"}, {\\\"attributes\\\": {}, \\\"id\\\": \\\"174243\\\", \\\"type\\\": \\\"NumberFormatter\\\"}, {\\\"attributes\\\": {\\\"editor\\\": {\\\"id\\\": \\\"174230\\\"}, \\\"field\\\": \\\"Actual_1\\\", \\\"formatter\\\": {\\\"id\\\": \\\"174229\\\"}, \\\"title\\\": \\\"Actual_1\\\"}, \\\"id\\\": \\\"174231\\\", \\\"type\\\": \\\"TableColumn\\\"}, {\\\"attributes\\\": {\\\"editor\\\": {\\\"id\\\": \\\"174239\\\"}, \\\"field\\\": \\\"number\\\", \\\"formatter\\\": {\\\"id\\\": \\\"174238\\\"}, \\\"title\\\": \\\"#\\\"}, \\\"id\\\": \\\"174240\\\", \\\"type\\\": \\\"TableColumn\\\"}, {\\\"attributes\\\": {}, \\\"id\\\": \\\"174239\\\", \\\"type\\\": \\\"StringEditor\\\"}, {\\\"attributes\\\": {}, \\\"id\\\": \\\"174244\\\", \\\"type\\\": \\\"IntEditor\\\"}, {\\\"attributes\\\": {}, \\\"id\\\": \\\"174225\\\", \\\"type\\\": \\\"IntEditor\\\"}, {\\\"attributes\\\": {}, \\\"id\\\": \\\"174238\\\", \\\"type\\\": \\\"StringFormatter\\\"}, {\\\"attributes\\\": {}, \\\"id\\\": \\\"174219\\\", \\\"type\\\": \\\"StringFormatter\\\"}, {\\\"attributes\\\": {\\\"editor\\\": {\\\"id\\\": \\\"174220\\\"}, \\\"field\\\": \\\"number\\\", \\\"formatter\\\": {\\\"id\\\": \\\"174219\\\"}, \\\"title\\\": \\\"#\\\"}, \\\"id\\\": \\\"174221\\\", \\\"type\\\": \\\"TableColumn\\\"}, {\\\"attributes\\\": {\\\"editor\\\": {\\\"id\\\": \\\"174244\\\"}, \\\"field\\\": \\\"Actual_0\\\", \\\"formatter\\\": {\\\"id\\\": \\\"174243\\\"}, \\\"title\\\": \\\"Actual_0\\\"}, \\\"id\\\": \\\"174245\\\", \\\"type\\\": \\\"TableColumn\\\"}, {\\\"attributes\\\": {}, \\\"id\\\": \\\"174230\\\", \\\"type\\\": \\\"IntEditor\\\"}, {\\\"attributes\\\": {\\\"editor\\\": {\\\"id\\\": \\\"174225\\\"}, \\\"field\\\": \\\"Actual_0\\\", \\\"formatter\\\": {\\\"id\\\": \\\"174224\\\"}, \\\"title\\\": \\\"Actual_0\\\"}, \\\"id\\\": \\\"174226\\\", \\\"type\\\": \\\"TableColumn\\\"}, {\\\"attributes\\\": {}, \\\"id\\\": \\\"174224\\\", \\\"type\\\": \\\"NumberFormatter\\\"}, {\\\"attributes\\\": {}, \\\"id\\\": \\\"174248\\\", \\\"type\\\": \\\"NumberFormatter\\\"}, {\\\"attributes\\\": {}, \\\"id\\\": \\\"174220\\\", \\\"type\\\": \\\"StringEditor\\\"}, {\\\"attributes\\\": {\\\"editor\\\": {\\\"id\\\": \\\"174249\\\"}, \\\"field\\\": \\\"Actual_1\\\", \\\"formatter\\\": {\\\"id\\\": \\\"174248\\\"}, \\\"title\\\": \\\"Actual_1\\\"}, \\\"id\\\": \\\"174250\\\", \\\"type\\\": \\\"TableColumn\\\"}, {\\\"attributes\\\": {}, \\\"id\\\": \\\"174229\\\", \\\"type\\\": \\\"NumberFormatter\\\"}]}\",\"header\":\"{\\\"msgid\\\": \\\"174257\\\", \\\"msgtype\\\": \\\"PATCH-DOC\\\"}\",\"metadata\":\"{}\"},\"9\":{\"content\":\"{\\\"events\\\": [{\\\"attr\\\": \\\"columns\\\", \\\"kind\\\": \\\"ModelChanged\\\", \\\"model\\\": {\\\"id\\\": \\\"173674\\\"}, \\\"new\\\": [{\\\"id\\\": \\\"174182\\\"}, {\\\"id\\\": \\\"174187\\\"}, {\\\"id\\\": \\\"174192\\\"}]}, {\\\"cols\\\": null, \\\"column_source\\\": {\\\"id\\\": \\\"173657\\\"}, \\\"kind\\\": \\\"ColumnDataChanged\\\", \\\"new\\\": {\\\"Actual_0\\\": [541, 1], \\\"Actual_1\\\": [33, 21], \\\"number\\\": [\\\"Predicted_0\\\", \\\"Predicted_1\\\"]}}, {\\\"attr\\\": \\\"columns\\\", \\\"kind\\\": \\\"ModelChanged\\\", \\\"model\\\": {\\\"id\\\": \\\"173695\\\"}, \\\"new\\\": [{\\\"id\\\": \\\"174201\\\"}, {\\\"id\\\": \\\"174206\\\"}, {\\\"id\\\": \\\"174211\\\"}]}, {\\\"cols\\\": null, \\\"column_source\\\": {\\\"id\\\": \\\"173678\\\"}, \\\"kind\\\": \\\"ColumnDataChanged\\\", \\\"new\\\": {\\\"Actual_0\\\": [133, 1], \\\"Actual_1\\\": [12, 3], \\\"number\\\": [\\\"Predicted_0\\\", \\\"Predicted_1\\\"]}}, {\\\"attr\\\": \\\"text\\\", \\\"kind\\\": \\\"ModelChanged\\\", \\\"model\\\": {\\\"id\\\": \\\"173707\\\"}, \\\"new\\\": \\\"<span style=\\\\\\\"color:black;font-family:Arial;font-style:bold;font-weight:bold;font-size:12pt\\\\\\\">decision_threshold: 0.5<\\\\/span>\\\"}], \\\"references\\\": [{\\\"attributes\\\": {\\\"editor\\\": {\\\"id\\\": \\\"174191\\\"}, \\\"field\\\": \\\"Actual_1\\\", \\\"formatter\\\": {\\\"id\\\": \\\"174190\\\"}, \\\"title\\\": \\\"Actual_1\\\"}, \\\"id\\\": \\\"174192\\\", \\\"type\\\": \\\"TableColumn\\\"}, {\\\"attributes\\\": {}, \\\"id\\\": \\\"174180\\\", \\\"type\\\": \\\"StringFormatter\\\"}, {\\\"attributes\\\": {}, \\\"id\\\": \\\"174204\\\", \\\"type\\\": \\\"NumberFormatter\\\"}, {\\\"attributes\\\": {}, \\\"id\\\": \\\"174181\\\", \\\"type\\\": \\\"StringEditor\\\"}, {\\\"attributes\\\": {}, \\\"id\\\": \\\"174209\\\", \\\"type\\\": \\\"NumberFormatter\\\"}, {\\\"attributes\\\": {\\\"editor\\\": {\\\"id\\\": \\\"174186\\\"}, \\\"field\\\": \\\"Actual_0\\\", \\\"formatter\\\": {\\\"id\\\": \\\"174185\\\"}, \\\"title\\\": \\\"Actual_0\\\"}, \\\"id\\\": \\\"174187\\\", \\\"type\\\": \\\"TableColumn\\\"}, {\\\"attributes\\\": {\\\"editor\\\": {\\\"id\\\": \\\"174181\\\"}, \\\"field\\\": \\\"number\\\", \\\"formatter\\\": {\\\"id\\\": \\\"174180\\\"}, \\\"title\\\": \\\"#\\\"}, \\\"id\\\": \\\"174182\\\", \\\"type\\\": \\\"TableColumn\\\"}, {\\\"attributes\\\": {\\\"editor\\\": {\\\"id\\\": \\\"174210\\\"}, \\\"field\\\": \\\"Actual_1\\\", \\\"formatter\\\": {\\\"id\\\": \\\"174209\\\"}, \\\"title\\\": \\\"Actual_1\\\"}, \\\"id\\\": \\\"174211\\\", \\\"type\\\": \\\"TableColumn\\\"}, {\\\"attributes\\\": {\\\"editor\\\": {\\\"id\\\": \\\"174205\\\"}, \\\"field\\\": \\\"Actual_0\\\", \\\"formatter\\\": {\\\"id\\\": \\\"174204\\\"}, \\\"title\\\": \\\"Actual_0\\\"}, \\\"id\\\": \\\"174206\\\", \\\"type\\\": \\\"TableColumn\\\"}, {\\\"attributes\\\": {}, \\\"id\\\": \\\"174186\\\", \\\"type\\\": \\\"IntEditor\\\"}, {\\\"attributes\\\": {}, \\\"id\\\": \\\"174190\\\", \\\"type\\\": \\\"NumberFormatter\\\"}, {\\\"attributes\\\": {}, \\\"id\\\": \\\"174199\\\", \\\"type\\\": \\\"StringFormatter\\\"}, {\\\"attributes\\\": {\\\"editor\\\": {\\\"id\\\": \\\"174200\\\"}, \\\"field\\\": \\\"number\\\", \\\"formatter\\\": {\\\"id\\\": \\\"174199\\\"}, \\\"title\\\": \\\"#\\\"}, \\\"id\\\": \\\"174201\\\", \\\"type\\\": \\\"TableColumn\\\"}, {\\\"attributes\\\": {}, \\\"id\\\": \\\"174210\\\", \\\"type\\\": \\\"IntEditor\\\"}, {\\\"attributes\\\": {}, \\\"id\\\": \\\"174205\\\", \\\"type\\\": \\\"IntEditor\\\"}, {\\\"attributes\\\": {}, \\\"id\\\": \\\"174185\\\", \\\"type\\\": \\\"NumberFormatter\\\"}, {\\\"attributes\\\": {}, \\\"id\\\": \\\"174191\\\", \\\"type\\\": \\\"IntEditor\\\"}, {\\\"attributes\\\": {}, \\\"id\\\": \\\"174200\\\", \\\"type\\\": \\\"StringEditor\\\"}]}\",\"header\":\"{\\\"msgid\\\": \\\"174218\\\", \\\"msgtype\\\": \\\"PATCH-DOC\\\"}\",\"metadata\":\"{}\"}},\"values\":[9],\"widgets\":{\"173811\":0}},\"id\":\"173819\",\"type\":\"panel.models.state.State\"},{\"attributes\":{},\"id\":\"174576\",\"type\":\"IntEditor\"},{\"attributes\":{\"editor\":{\"id\":\"174571\"},\"field\":\"number\",\"formatter\":{\"id\":\"174570\"},\"title\":\"#\"},\"id\":\"174572\",\"type\":\"TableColumn\"},{\"attributes\":{\"editor\":{\"id\":\"174590\"},\"field\":\"number\",\"formatter\":{\"id\":\"174589\"},\"title\":\"#\"},\"id\":\"174591\",\"type\":\"TableColumn\"},{\"attributes\":{\"margin\":[5,5,5,5],\"name\":\"HSpacer432220\",\"sizing_mode\":\"stretch_width\"},\"id\":\"173812\",\"type\":\"Spacer\"},{\"attributes\":{\"columns\":[{\"id\":\"174572\"},{\"id\":\"174577\"},{\"id\":\"174582\"}],\"height\":100,\"reorderable\":false,\"source\":{\"id\":\"173657\"},\"view\":{\"id\":\"173675\"},\"width\":350},\"id\":\"173674\",\"type\":\"DataTable\"},{\"attributes\":{\"children\":[{\"id\":\"173653\"},{\"id\":\"173654\"},{\"id\":\"173813\"}],\"margin\":[0,0,0,0],\"name\":\"Row432204\",\"tags\":[\"embedded\"]},\"id\":\"173652\",\"type\":\"Row\"},{\"attributes\":{},\"id\":\"173704\",\"type\":\"ProxyToolbar\"},{\"attributes\":{\"editor\":{\"id\":\"174581\"},\"field\":\"Actual_1\",\"formatter\":{\"id\":\"174580\"},\"title\":\"Actual_1\"},\"id\":\"174582\",\"type\":\"TableColumn\"},{\"attributes\":{\"children\":[{\"id\":\"173705\"},{\"id\":\"173703\"}]},\"id\":\"173706\",\"type\":\"Column\"},{\"attributes\":{\"style\":{\"white-space\":\"nowrap\"},\"text\":\"<span style=\\\"color:black;font-family:Arial;font-style:bold;font-weight:bold;font-size:12pt\\\">Test Data</span>\",\"width\":450},\"id\":\"173697\",\"type\":\"Div\"},{\"attributes\":{\"children\":[{\"id\":\"173707\"},{\"id\":\"173706\"}]},\"id\":\"173708\",\"type\":\"Column\"},{\"attributes\":{},\"id\":\"174590\",\"type\":\"StringEditor\"},{\"attributes\":{},\"id\":\"173658\",\"type\":\"Selection\"},{\"attributes\":{\"toolbar\":{\"id\":\"173704\"},\"toolbar_location\":\"above\"},\"id\":\"173705\",\"type\":\"ToolbarBox\"},{\"attributes\":{\"children\":[{\"id\":\"173697\"},{\"id\":\"173695\"}]},\"id\":\"173698\",\"type\":\"Column\"},{\"attributes\":{},\"id\":\"174594\",\"type\":\"NumberFormatter\"},{\"attributes\":{\"style\":{\"white-space\":\"nowrap\"},\"text\":\"<span style=\\\"color:black;font-family:Arial;font-style:bold;font-weight:bold;font-size:12pt\\\">decision_threshold: 0.5</span>\",\"width\":450},\"id\":\"173707\",\"type\":\"Div\"},{\"attributes\":{},\"id\":\"174595\",\"type\":\"IntEditor\"},{\"attributes\":{\"children\":[{\"id\":\"173809\"}],\"css_classes\":[\"panel-widget-box\"],\"margin\":[5,5,5,5],\"name\":\"WidgetBox432205\"},\"id\":\"173808\",\"type\":\"Column\"},{\"attributes\":{\"source\":{\"id\":\"173657\"}},\"id\":\"173675\",\"type\":\"CDSView\"},{\"attributes\":{\"editor\":{\"id\":\"174576\"},\"field\":\"Actual_0\",\"formatter\":{\"id\":\"174575\"},\"title\":\"Actual_0\"},\"id\":\"174577\",\"type\":\"TableColumn\"},{\"attributes\":{},\"id\":\"174589\",\"type\":\"StringFormatter\"},{\"attributes\":{\"margin\":[5,5,5,5],\"name\":\"HSpacer432222\",\"sizing_mode\":\"stretch_width\"},\"id\":\"173653\",\"type\":\"Spacer\"},{\"attributes\":{\"margin\":[5,5,5,5],\"name\":\"HSpacer432224\",\"sizing_mode\":\"stretch_width\"},\"id\":\"173805\",\"type\":\"Spacer\"},{\"attributes\":{\"editor\":{\"id\":\"174595\"},\"field\":\"Actual_0\",\"formatter\":{\"id\":\"174594\"},\"title\":\"Actual_0\"},\"id\":\"174596\",\"type\":\"TableColumn\"},{\"attributes\":{\"children\":[{\"id\":\"173807\"},{\"id\":\"173808\"},{\"id\":\"173812\"}],\"margin\":[0,0,0,0],\"name\":\"Row432221\"},\"id\":\"173806\",\"type\":\"Row\"},{\"attributes\":{\"data\":{\"Actual_0\":[541,1],\"Actual_1\":[33,21],\"number\":[\"Predicted_0\",\"Predicted_1\"]},\"selected\":{\"id\":\"173658\"},\"selection_policy\":{\"id\":\"173700\"}},\"id\":\"173657\",\"type\":\"ColumnDataSource\"},{\"attributes\":{},\"id\":\"174581\",\"type\":\"IntEditor\"},{\"attributes\":{\"editor\":{\"id\":\"174600\"},\"field\":\"Actual_1\",\"formatter\":{\"id\":\"174599\"},\"title\":\"Actual_1\"},\"id\":\"174601\",\"type\":\"TableColumn\"},{\"attributes\":{},\"id\":\"174580\",\"type\":\"NumberFormatter\"},{\"attributes\":{\"margin\":[5,5,5,5],\"name\":\"HSpacer432223\",\"sizing_mode\":\"stretch_width\"},\"id\":\"173656\",\"type\":\"Spacer\"},{\"attributes\":{\"columns\":[{\"id\":\"174591\"},{\"id\":\"174596\"},{\"id\":\"174601\"}],\"height\":100,\"reorderable\":false,\"source\":{\"id\":\"173678\"},\"view\":{\"id\":\"173696\"},\"width\":350},\"id\":\"173695\",\"type\":\"DataTable\"},{\"attributes\":{},\"id\":\"174600\",\"type\":\"IntEditor\"},{\"attributes\":{\"children\":[{\"id\":\"173656\"},{\"id\":\"173708\"},{\"id\":\"173805\"}],\"margin\":[0,0,0,0],\"name\":\"Row432225\"},\"id\":\"173655\",\"type\":\"Row\"},{\"attributes\":{},\"id\":\"174571\",\"type\":\"StringEditor\"},{\"attributes\":{\"source\":{\"id\":\"173678\"}},\"id\":\"173696\",\"type\":\"CDSView\"}],\"root_ids\":[\"173652\",\"173819\"]},\"title\":\"Bokeh Application\",\"version\":\"2.2.3\"}};\n",
       "  var render_items = [{\"docid\":\"0aca0a1f-83db-4813-9924-824ddb18600f\",\"root_ids\":[\"173652\"],\"roots\":{\"173652\":\"0079ec4d-d0bb-439a-8c28-7c48eafc050b\"}}];\n",
       "  root.Bokeh.embed.embed_items_notebook(docs_json, render_items);\n",
       "  }\n",
       "if (root.Bokeh !== undefined) {\n",
       "    embed_document(root);\n",
       "  } else {\n",
       "    var attempts = 0;\n",
       "    var timer = setInterval(function(root) {\n",
       "      if (root.Bokeh !== undefined) {\n",
       "        clearInterval(timer);\n",
       "        embed_document(root);\n",
       "      } else if (document.readyState == \"complete\") {\n",
       "        attempts++;\n",
       "        if (attempts > 100) {\n",
       "          clearInterval(timer);\n",
       "          console.log(\"Bokeh: ERROR: Unable to run BokehJS code because BokehJS library is missing\");\n",
       "        }\n",
       "      }\n",
       "    }, 10, root)\n",
       "  }\n",
       "})(window);</script>"
      ],
      "text/plain": [
       ":HoloMap   [decision_threshold]\n",
       "   :Layout\n",
       "      .Table.I  :Table   [#,Actual_0,Actual_1]\n",
       "      .Table.II :Table   [#,Actual_0,Actual_1]"
      ]
     },
     "execution_count": 48,
     "metadata": {
      "application/vnd.holoviews_exec.v0+json": {
       "id": "173652"
      }
     },
     "output_type": "execute_result"
    }
   ],
   "source": [
    "reg_tree_report.evaluator.get_confusion_matrix()"
   ]
  },
  {
   "cell_type": "markdown",
   "metadata": {},
   "source": [
    "Gains Table can be obtained as follows"
   ]
  },
  {
   "cell_type": "code",
   "execution_count": 49,
   "metadata": {},
   "outputs": [
    {
     "data": {
      "text/html": [
       "<div>\n",
       "<style scoped>\n",
       "    .dataframe tbody tr th:only-of-type {\n",
       "        vertical-align: middle;\n",
       "    }\n",
       "\n",
       "    .dataframe tbody tr th {\n",
       "        vertical-align: top;\n",
       "    }\n",
       "\n",
       "    .dataframe thead th {\n",
       "        text-align: right;\n",
       "    }\n",
       "</style>\n",
       "<table border=\"1\" class=\"dataframe\">\n",
       "  <thead>\n",
       "    <tr style=\"text-align: right;\">\n",
       "      <th></th>\n",
       "      <th>Thresholds</th>\n",
       "      <th>bucket_size</th>\n",
       "      <th>true_positive</th>\n",
       "      <th>false_positive</th>\n",
       "      <th>true_negative</th>\n",
       "      <th>false_negative</th>\n",
       "      <th>targets_in_bucket</th>\n",
       "      <th>percent_targets_captured</th>\n",
       "      <th>lift</th>\n",
       "    </tr>\n",
       "    <tr>\n",
       "      <th>Bucket</th>\n",
       "      <th></th>\n",
       "      <th></th>\n",
       "      <th></th>\n",
       "      <th></th>\n",
       "      <th></th>\n",
       "      <th></th>\n",
       "      <th></th>\n",
       "      <th></th>\n",
       "      <th></th>\n",
       "    </tr>\n",
       "  </thead>\n",
       "  <tbody>\n",
       "    <tr>\n",
       "      <th>10%</th>\n",
       "      <td>0.216835</td>\n",
       "      <td>59</td>\n",
       "      <td>48</td>\n",
       "      <td>11</td>\n",
       "      <td>531</td>\n",
       "      <td>6</td>\n",
       "      <td>0.813559</td>\n",
       "      <td>0.888889</td>\n",
       "      <td>8.979284</td>\n",
       "    </tr>\n",
       "    <tr>\n",
       "      <th>20%</th>\n",
       "      <td>0.110344</td>\n",
       "      <td>119</td>\n",
       "      <td>54</td>\n",
       "      <td>65</td>\n",
       "      <td>477</td>\n",
       "      <td>0</td>\n",
       "      <td>0.453782</td>\n",
       "      <td>1.000000</td>\n",
       "      <td>5.008403</td>\n",
       "    </tr>\n",
       "    <tr>\n",
       "      <th>30%</th>\n",
       "      <td>0.072274</td>\n",
       "      <td>178</td>\n",
       "      <td>54</td>\n",
       "      <td>124</td>\n",
       "      <td>418</td>\n",
       "      <td>0</td>\n",
       "      <td>0.303371</td>\n",
       "      <td>1.000000</td>\n",
       "      <td>3.348315</td>\n",
       "    </tr>\n",
       "    <tr>\n",
       "      <th>40%</th>\n",
       "      <td>0.048605</td>\n",
       "      <td>238</td>\n",
       "      <td>54</td>\n",
       "      <td>184</td>\n",
       "      <td>358</td>\n",
       "      <td>0</td>\n",
       "      <td>0.226891</td>\n",
       "      <td>1.000000</td>\n",
       "      <td>2.504202</td>\n",
       "    </tr>\n",
       "    <tr>\n",
       "      <th>50%</th>\n",
       "      <td>0.036874</td>\n",
       "      <td>298</td>\n",
       "      <td>54</td>\n",
       "      <td>244</td>\n",
       "      <td>298</td>\n",
       "      <td>0</td>\n",
       "      <td>0.181208</td>\n",
       "      <td>1.000000</td>\n",
       "      <td>2.000000</td>\n",
       "    </tr>\n",
       "    <tr>\n",
       "      <th>60%</th>\n",
       "      <td>0.029526</td>\n",
       "      <td>357</td>\n",
       "      <td>54</td>\n",
       "      <td>303</td>\n",
       "      <td>239</td>\n",
       "      <td>0</td>\n",
       "      <td>0.151261</td>\n",
       "      <td>1.000000</td>\n",
       "      <td>1.669468</td>\n",
       "    </tr>\n",
       "    <tr>\n",
       "      <th>70%</th>\n",
       "      <td>0.020275</td>\n",
       "      <td>417</td>\n",
       "      <td>54</td>\n",
       "      <td>363</td>\n",
       "      <td>179</td>\n",
       "      <td>0</td>\n",
       "      <td>0.129496</td>\n",
       "      <td>1.000000</td>\n",
       "      <td>1.429257</td>\n",
       "    </tr>\n",
       "    <tr>\n",
       "      <th>80%</th>\n",
       "      <td>0.012247</td>\n",
       "      <td>476</td>\n",
       "      <td>54</td>\n",
       "      <td>422</td>\n",
       "      <td>120</td>\n",
       "      <td>0</td>\n",
       "      <td>0.113445</td>\n",
       "      <td>1.000000</td>\n",
       "      <td>1.252101</td>\n",
       "    </tr>\n",
       "    <tr>\n",
       "      <th>90%</th>\n",
       "      <td>0.006954</td>\n",
       "      <td>536</td>\n",
       "      <td>54</td>\n",
       "      <td>482</td>\n",
       "      <td>60</td>\n",
       "      <td>0</td>\n",
       "      <td>0.100746</td>\n",
       "      <td>1.000000</td>\n",
       "      <td>1.111940</td>\n",
       "    </tr>\n",
       "    <tr>\n",
       "      <th>100%</th>\n",
       "      <td>0.003430</td>\n",
       "      <td>596</td>\n",
       "      <td>54</td>\n",
       "      <td>542</td>\n",
       "      <td>0</td>\n",
       "      <td>0</td>\n",
       "      <td>0.090604</td>\n",
       "      <td>1.000000</td>\n",
       "      <td>1.000000</td>\n",
       "    </tr>\n",
       "  </tbody>\n",
       "</table>\n",
       "</div>"
      ],
      "text/plain": [
       "        Thresholds  bucket_size  true_positive  false_positive  true_negative  \\\n",
       "Bucket                                                                          \n",
       "10%       0.216835           59             48              11            531   \n",
       "20%       0.110344          119             54              65            477   \n",
       "30%       0.072274          178             54             124            418   \n",
       "40%       0.048605          238             54             184            358   \n",
       "50%       0.036874          298             54             244            298   \n",
       "60%       0.029526          357             54             303            239   \n",
       "70%       0.020275          417             54             363            179   \n",
       "80%       0.012247          476             54             422            120   \n",
       "90%       0.006954          536             54             482             60   \n",
       "100%      0.003430          596             54             542              0   \n",
       "\n",
       "        false_negative  targets_in_bucket  percent_targets_captured      lift  \n",
       "Bucket                                                                         \n",
       "10%                  6           0.813559                  0.888889  8.979284  \n",
       "20%                  0           0.453782                  1.000000  5.008403  \n",
       "30%                  0           0.303371                  1.000000  3.348315  \n",
       "40%                  0           0.226891                  1.000000  2.504202  \n",
       "50%                  0           0.181208                  1.000000  2.000000  \n",
       "60%                  0           0.151261                  1.000000  1.669468  \n",
       "70%                  0           0.129496                  1.000000  1.429257  \n",
       "80%                  0           0.113445                  1.000000  1.252101  \n",
       "90%                  0           0.100746                  1.000000  1.111940  \n",
       "100%                 0           0.090604                  1.000000  1.000000  "
      ]
     },
     "execution_count": 49,
     "metadata": {},
     "output_type": "execute_result"
    }
   ],
   "source": [
    "temp=reg_tree_report.evaluator.gains_table()\n",
    "temp['train'][0]"
   ]
  },
  {
   "cell_type": "markdown",
   "metadata": {},
   "source": [
    "**If we want to increase the resolution in top buckets you can customize your gains table as follows.**"
   ]
  },
  {
   "cell_type": "markdown",
   "metadata": {},
   "source": [
    "The Classification report containing the feature importances are available [here](https://drive.google.com/file/d/1E_o1lz_6AqS7LLEZ6l4u94RmQWUwJvau/view?usp=sharing)"
   ]
  },
  {
   "cell_type": "markdown",
   "metadata": {},
   "source": [
    "# 5 Model Comparison"
   ]
  },
  {
   "cell_type": "markdown",
   "metadata": {},
   "source": [
    "Now, a comparison report of the  linear (vs) tree -based model  approach can be generated as follows.\n",
    "\n",
    "This code will not be part of the production code."
   ]
  },
  {
   "cell_type": "code",
   "execution_count": 50,
   "metadata": {},
   "outputs": [
    {
     "name": "stderr",
     "output_type": "stream",
     "text": [
      "WARNING:param.Warning: Nesting Layouts within a HoloMap makes it difficult to access your data or control how it appears; we recommend calling .collate() on the HoloMap in order to follow the recommended nesting structure shown in the Composing Data user guide (https://goo.gl/2YS8LJ)\n",
      "Nesting Layouts within a HoloMap makes it difficult to access your data or control how it appears; we recommend calling .collate() on the HoloMap in order to follow the recommended nesting structure shown in the Composing Data user guide (https://goo.gl/2YS8LJ)\n"
     ]
    },
    {
     "name": "stdout",
     "output_type": "stream",
     "text": [
      "                                               \r"
     ]
    }
   ],
   "source": [
    "model_pipelines = [logit_ppln, rf_pipeline_final]\n",
    "model_comparison_report = ClassificationComparison(models=model_pipelines,x=train_X, y=train_y)\n",
    "model_comparison_report.get_report(file_path='classification_comparison')"
   ]
  },
  {
   "cell_type": "code",
   "execution_count": 51,
   "metadata": {},
   "outputs": [
    {
     "name": "stderr",
     "output_type": "stream",
     "text": [
      "WARNING:param.Warning: Nesting Layouts within a HoloMap makes it difficult to access your data or control how it appears; we recommend calling .collate() on the HoloMap in order to follow the recommended nesting structure shown in the Composing Data user guide (https://goo.gl/2YS8LJ)\n",
      "Nesting Layouts within a HoloMap makes it difficult to access your data or control how it appears; we recommend calling .collate() on the HoloMap in order to follow the recommended nesting structure shown in the Composing Data user guide (https://goo.gl/2YS8LJ)\n"
     ]
    },
    {
     "data": {},
     "metadata": {},
     "output_type": "display_data"
    },
    {
     "data": {
      "application/vnd.holoviews_exec.v0+json": "",
      "text/html": [
       "<div id='177192'>\n",
       "\n",
       "\n",
       "\n",
       "\n",
       "\n",
       "  <div class=\"bk-root\" id=\"cedae9ee-dd5f-45d0-b378-2a9fb3b0c4e6\" data-root-id=\"177192\"></div>\n",
       "</div>\n",
       "<script type=\"application/javascript\">(function(root) {\n",
       "  function embed_document(root) {\n",
       "  var docs_json = {\"c5d9b037-b26c-450e-a8f9-7849fccb5ea6\":{\"roots\":{\"references\":[{\"attributes\":{},\"id\":\"178129\",\"type\":\"StringFormatter\"},{\"attributes\":{\"children\":[{\"id\":\"177350\"},{\"id\":\"177351\"}],\"margin\":[0,0,0,0],\"min_width\":290,\"name\":\"Column450317\",\"width\":290},\"id\":\"177349\",\"type\":\"Column\"},{\"attributes\":{\"margin\":[5,5,5,5],\"name\":\"HSpacer450320\",\"sizing_mode\":\"stretch_width\"},\"id\":\"177347\",\"type\":\"Spacer\"},{\"attributes\":{\"children\":[{\"id\":\"177245\"},{\"id\":\"177243\"}]},\"id\":\"177246\",\"type\":\"Column\"},{\"attributes\":{\"children\":[{\"id\":\"177216\"},{\"id\":\"177214\"}]},\"id\":\"177217\",\"type\":\"Column\"},{\"attributes\":{},\"id\":\"178110\",\"type\":\"StringFormatter\"},{\"attributes\":{},\"id\":\"177242\",\"type\":\"UnionRenderers\"},{\"attributes\":{},\"id\":\"178140\",\"type\":\"IntEditor\"},{\"attributes\":{},\"id\":\"178139\",\"type\":\"NumberFormatter\"},{\"attributes\":{\"editor\":{\"id\":\"178130\"},\"field\":\"number\",\"formatter\":{\"id\":\"178129\"},\"title\":\"#\"},\"id\":\"178131\",\"type\":\"TableColumn\"},{\"attributes\":{},\"id\":\"177198\",\"type\":\"Selection\"},{\"attributes\":{\"end\":18,\"format\":\"0[.]00\",\"js_property_callbacks\":{\"change:value\":[{\"id\":\"177358\"},{\"id\":\"177360\"}]},\"margin\":[0,20,20,20],\"min_width\":250,\"show_value\":false,\"start\":0,\"tooltips\":false,\"value\":9,\"width\":250},\"id\":\"177351\",\"type\":\"Slider\"},{\"attributes\":{\"editor\":{\"id\":\"178135\"},\"field\":\"Actual_0\",\"formatter\":{\"id\":\"178134\"},\"title\":\"Actual_0\"},\"id\":\"178136\",\"type\":\"TableColumn\"},{\"attributes\":{},\"id\":\"178135\",\"type\":\"IntEditor\"},{\"attributes\":{},\"id\":\"177240\",\"type\":\"UnionRenderers\"},{\"attributes\":{\"children\":[{\"id\":\"177196\"},{\"id\":\"177248\"},{\"id\":\"177345\"}],\"margin\":[0,0,0,0],\"name\":\"Row450326\"},\"id\":\"177195\",\"type\":\"Row\"},{\"attributes\":{\"editor\":{\"id\":\"178121\"},\"field\":\"Actual_1\",\"formatter\":{\"id\":\"178120\"},\"title\":\"Actual_1\"},\"id\":\"178122\",\"type\":\"TableColumn\"},{\"attributes\":{\"margin\":[5,5,5,5],\"name\":\"HSpacer450324\",\"sizing_mode\":\"stretch_width\"},\"id\":\"177196\",\"type\":\"Spacer\"},{\"attributes\":{\"margin\":[5,5,5,5],\"name\":\"HSpacer450328\",\"sizing_mode\":\"stretch_width\"},\"id\":\"177353\",\"type\":\"Spacer\"},{\"attributes\":{},\"id\":\"177244\",\"type\":\"ProxyToolbar\"},{\"attributes\":{\"children\":[{\"id\":\"177237\"},{\"id\":\"177235\"}]},\"id\":\"177238\",\"type\":\"Column\"},{\"attributes\":{\"children\":[[{\"id\":\"177217\"},0,0],[{\"id\":\"177238\"},0,1]]},\"id\":\"177243\",\"type\":\"GridBox\"},{\"attributes\":{\"state\":{\"0\":{\"content\":\"{\\\"events\\\": [{\\\"attr\\\": \\\"columns\\\", \\\"kind\\\": \\\"ModelChanged\\\", \\\"model\\\": {\\\"id\\\": \\\"177214\\\"}, \\\"new\\\": [{\\\"id\\\": \\\"178073\\\"}, {\\\"id\\\": \\\"178078\\\"}, {\\\"id\\\": \\\"178083\\\"}]}, {\\\"cols\\\": null, \\\"column_source\\\": {\\\"id\\\": \\\"177197\\\"}, \\\"kind\\\": \\\"ColumnDataChanged\\\", \\\"new\\\": {\\\"Actual_0\\\": [279, 263], \\\"Actual_1\\\": [9, 45], \\\"number\\\": [\\\"Predicted_0\\\", \\\"Predicted_1\\\"]}}, {\\\"attr\\\": \\\"columns\\\", \\\"kind\\\": \\\"ModelChanged\\\", \\\"model\\\": {\\\"id\\\": \\\"177235\\\"}, \\\"new\\\": [{\\\"id\\\": \\\"178092\\\"}, {\\\"id\\\": \\\"178097\\\"}, {\\\"id\\\": \\\"178102\\\"}]}, {\\\"cols\\\": null, \\\"column_source\\\": {\\\"id\\\": \\\"177218\\\"}, \\\"kind\\\": \\\"ColumnDataChanged\\\", \\\"new\\\": {\\\"Actual_0\\\": [366, 176], \\\"Actual_1\\\": [0, 54], \\\"number\\\": [\\\"Predicted_0\\\", \\\"Predicted_1\\\"]}}, {\\\"attr\\\": \\\"text\\\", \\\"kind\\\": \\\"ModelChanged\\\", \\\"model\\\": {\\\"id\\\": \\\"177247\\\"}, \\\"new\\\": \\\"<span style=\\\\\\\"color:black;font-family:Arial;font-style:bold;font-weight:bold;font-size:12pt\\\\\\\">decision_threshold: 0.05<\\\\/span>\\\"}], \\\"references\\\": [{\\\"attributes\\\": {}, \\\"id\\\": \\\"178100\\\", \\\"type\\\": \\\"NumberFormatter\\\"}, {\\\"attributes\\\": {}, \\\"id\\\": \\\"178091\\\", \\\"type\\\": \\\"StringEditor\\\"}, {\\\"attributes\\\": {}, \\\"id\\\": \\\"178081\\\", \\\"type\\\": \\\"NumberFormatter\\\"}, {\\\"attributes\\\": {}, \\\"id\\\": \\\"178072\\\", \\\"type\\\": \\\"StringEditor\\\"}, {\\\"attributes\\\": {}, \\\"id\\\": \\\"178076\\\", \\\"type\\\": \\\"NumberFormatter\\\"}, {\\\"attributes\\\": {\\\"editor\\\": {\\\"id\\\": \\\"178101\\\"}, \\\"field\\\": \\\"Actual_1\\\", \\\"formatter\\\": {\\\"id\\\": \\\"178100\\\"}, \\\"title\\\": \\\"Actual_1\\\"}, \\\"id\\\": \\\"178102\\\", \\\"type\\\": \\\"TableColumn\\\"}, {\\\"attributes\\\": {}, \\\"id\\\": \\\"178096\\\", \\\"type\\\": \\\"IntEditor\\\"}, {\\\"attributes\\\": {\\\"editor\\\": {\\\"id\\\": \\\"178082\\\"}, \\\"field\\\": \\\"Actual_1\\\", \\\"formatter\\\": {\\\"id\\\": \\\"178081\\\"}, \\\"title\\\": \\\"Actual_1\\\"}, \\\"id\\\": \\\"178083\\\", \\\"type\\\": \\\"TableColumn\\\"}, {\\\"attributes\\\": {\\\"editor\\\": {\\\"id\\\": \\\"178072\\\"}, \\\"field\\\": \\\"number\\\", \\\"formatter\\\": {\\\"id\\\": \\\"178071\\\"}, \\\"title\\\": \\\"#\\\"}, \\\"id\\\": \\\"178073\\\", \\\"type\\\": \\\"TableColumn\\\"}, {\\\"attributes\\\": {}, \\\"id\\\": \\\"178071\\\", \\\"type\\\": \\\"StringFormatter\\\"}, {\\\"attributes\\\": {}, \\\"id\\\": \\\"178101\\\", \\\"type\\\": \\\"IntEditor\\\"}, {\\\"attributes\\\": {}, \\\"id\\\": \\\"178090\\\", \\\"type\\\": \\\"StringFormatter\\\"}, {\\\"attributes\\\": {\\\"editor\\\": {\\\"id\\\": \\\"178077\\\"}, \\\"field\\\": \\\"Actual_0\\\", \\\"formatter\\\": {\\\"id\\\": \\\"178076\\\"}, \\\"title\\\": \\\"Actual_0\\\"}, \\\"id\\\": \\\"178078\\\", \\\"type\\\": \\\"TableColumn\\\"}, {\\\"attributes\\\": {\\\"editor\\\": {\\\"id\\\": \\\"178091\\\"}, \\\"field\\\": \\\"number\\\", \\\"formatter\\\": {\\\"id\\\": \\\"178090\\\"}, \\\"title\\\": \\\"#\\\"}, \\\"id\\\": \\\"178092\\\", \\\"type\\\": \\\"TableColumn\\\"}, {\\\"attributes\\\": {\\\"editor\\\": {\\\"id\\\": \\\"178096\\\"}, \\\"field\\\": \\\"Actual_0\\\", \\\"formatter\\\": {\\\"id\\\": \\\"178095\\\"}, \\\"title\\\": \\\"Actual_0\\\"}, \\\"id\\\": \\\"178097\\\", \\\"type\\\": \\\"TableColumn\\\"}, {\\\"attributes\\\": {}, \\\"id\\\": \\\"178082\\\", \\\"type\\\": \\\"IntEditor\\\"}, {\\\"attributes\\\": {}, \\\"id\\\": \\\"178077\\\", \\\"type\\\": \\\"IntEditor\\\"}, {\\\"attributes\\\": {}, \\\"id\\\": \\\"178095\\\", \\\"type\\\": \\\"NumberFormatter\\\"}]}\",\"header\":\"{\\\"msgid\\\": \\\"178109\\\", \\\"msgtype\\\": \\\"PATCH-DOC\\\"}\",\"metadata\":\"{}\"},\"1\":{\"content\":\"{\\\"events\\\": [{\\\"attr\\\": \\\"columns\\\", \\\"kind\\\": \\\"ModelChanged\\\", \\\"model\\\": {\\\"id\\\": \\\"177214\\\"}, \\\"new\\\": [{\\\"id\\\": \\\"178034\\\"}, {\\\"id\\\": \\\"178039\\\"}, {\\\"id\\\": \\\"178044\\\"}]}, {\\\"cols\\\": null, \\\"column_source\\\": {\\\"id\\\": \\\"177197\\\"}, \\\"kind\\\": \\\"ColumnDataChanged\\\", \\\"new\\\": {\\\"Actual_0\\\": [386, 156], \\\"Actual_1\\\": [16, 38], \\\"number\\\": [\\\"Predicted_0\\\", \\\"Predicted_1\\\"]}}, {\\\"attr\\\": \\\"columns\\\", \\\"kind\\\": \\\"ModelChanged\\\", \\\"model\\\": {\\\"id\\\": \\\"177235\\\"}, \\\"new\\\": [{\\\"id\\\": \\\"178053\\\"}, {\\\"id\\\": \\\"178058\\\"}, {\\\"id\\\": \\\"178063\\\"}]}, {\\\"cols\\\": null, \\\"column_source\\\": {\\\"id\\\": \\\"177218\\\"}, \\\"kind\\\": \\\"ColumnDataChanged\\\", \\\"new\\\": {\\\"Actual_0\\\": [467, 75], \\\"Actual_1\\\": [0, 54], \\\"number\\\": [\\\"Predicted_0\\\", \\\"Predicted_1\\\"]}}, {\\\"attr\\\": \\\"text\\\", \\\"kind\\\": \\\"ModelChanged\\\", \\\"model\\\": {\\\"id\\\": \\\"177247\\\"}, \\\"new\\\": \\\"<span style=\\\\\\\"color:black;font-family:Arial;font-style:bold;font-weight:bold;font-size:12pt\\\\\\\">decision_threshold: 0.1<\\\\/span>\\\"}], \\\"references\\\": [{\\\"attributes\\\": {}, \\\"id\\\": \\\"178042\\\", \\\"type\\\": \\\"NumberFormatter\\\"}, {\\\"attributes\\\": {}, \\\"id\\\": \\\"178037\\\", \\\"type\\\": \\\"NumberFormatter\\\"}, {\\\"attributes\\\": {}, \\\"id\\\": \\\"178038\\\", \\\"type\\\": \\\"IntEditor\\\"}, {\\\"attributes\\\": {}, \\\"id\\\": \\\"178056\\\", \\\"type\\\": \\\"NumberFormatter\\\"}, {\\\"attributes\\\": {}, \\\"id\\\": \\\"178062\\\", \\\"type\\\": \\\"IntEditor\\\"}, {\\\"attributes\\\": {\\\"editor\\\": {\\\"id\\\": \\\"178033\\\"}, \\\"field\\\": \\\"number\\\", \\\"formatter\\\": {\\\"id\\\": \\\"178032\\\"}, \\\"title\\\": \\\"#\\\"}, \\\"id\\\": \\\"178034\\\", \\\"type\\\": \\\"TableColumn\\\"}, {\\\"attributes\\\": {}, \\\"id\\\": \\\"178032\\\", \\\"type\\\": \\\"StringFormatter\\\"}, {\\\"attributes\\\": {\\\"editor\\\": {\\\"id\\\": \\\"178052\\\"}, \\\"field\\\": \\\"number\\\", \\\"formatter\\\": {\\\"id\\\": \\\"178051\\\"}, \\\"title\\\": \\\"#\\\"}, \\\"id\\\": \\\"178053\\\", \\\"type\\\": \\\"TableColumn\\\"}, {\\\"attributes\\\": {}, \\\"id\\\": \\\"178033\\\", \\\"type\\\": \\\"StringEditor\\\"}, {\\\"attributes\\\": {}, \\\"id\\\": \\\"178043\\\", \\\"type\\\": \\\"IntEditor\\\"}, {\\\"attributes\\\": {}, \\\"id\\\": \\\"178051\\\", \\\"type\\\": \\\"StringFormatter\\\"}, {\\\"attributes\\\": {}, \\\"id\\\": \\\"178057\\\", \\\"type\\\": \\\"IntEditor\\\"}, {\\\"attributes\\\": {\\\"editor\\\": {\\\"id\\\": \\\"178062\\\"}, \\\"field\\\": \\\"Actual_1\\\", \\\"formatter\\\": {\\\"id\\\": \\\"178061\\\"}, \\\"title\\\": \\\"Actual_1\\\"}, \\\"id\\\": \\\"178063\\\", \\\"type\\\": \\\"TableColumn\\\"}, {\\\"attributes\\\": {}, \\\"id\\\": \\\"178061\\\", \\\"type\\\": \\\"NumberFormatter\\\"}, {\\\"attributes\\\": {\\\"editor\\\": {\\\"id\\\": \\\"178043\\\"}, \\\"field\\\": \\\"Actual_1\\\", \\\"formatter\\\": {\\\"id\\\": \\\"178042\\\"}, \\\"title\\\": \\\"Actual_1\\\"}, \\\"id\\\": \\\"178044\\\", \\\"type\\\": \\\"TableColumn\\\"}, {\\\"attributes\\\": {}, \\\"id\\\": \\\"178052\\\", \\\"type\\\": \\\"StringEditor\\\"}, {\\\"attributes\\\": {\\\"editor\\\": {\\\"id\\\": \\\"178057\\\"}, \\\"field\\\": \\\"Actual_0\\\", \\\"formatter\\\": {\\\"id\\\": \\\"178056\\\"}, \\\"title\\\": \\\"Actual_0\\\"}, \\\"id\\\": \\\"178058\\\", \\\"type\\\": \\\"TableColumn\\\"}, {\\\"attributes\\\": {\\\"editor\\\": {\\\"id\\\": \\\"178038\\\"}, \\\"field\\\": \\\"Actual_0\\\", \\\"formatter\\\": {\\\"id\\\": \\\"178037\\\"}, \\\"title\\\": \\\"Actual_0\\\"}, \\\"id\\\": \\\"178039\\\", \\\"type\\\": \\\"TableColumn\\\"}]}\",\"header\":\"{\\\"msgid\\\": \\\"178070\\\", \\\"msgtype\\\": \\\"PATCH-DOC\\\"}\",\"metadata\":\"{}\"},\"10\":{\"content\":\"{\\\"events\\\": [{\\\"attr\\\": \\\"columns\\\", \\\"kind\\\": \\\"ModelChanged\\\", \\\"model\\\": {\\\"id\\\": \\\"177214\\\"}, \\\"new\\\": [{\\\"id\\\": \\\"177683\\\"}, {\\\"id\\\": \\\"177688\\\"}, {\\\"id\\\": \\\"177693\\\"}]}, {\\\"cols\\\": null, \\\"column_source\\\": {\\\"id\\\": \\\"177197\\\"}, \\\"kind\\\": \\\"ColumnDataChanged\\\", \\\"new\\\": {\\\"Actual_0\\\": [542, 0], \\\"Actual_1\\\": [52, 2], \\\"number\\\": [\\\"Predicted_0\\\", \\\"Predicted_1\\\"]}}, {\\\"attr\\\": \\\"columns\\\", \\\"kind\\\": \\\"ModelChanged\\\", \\\"model\\\": {\\\"id\\\": \\\"177235\\\"}, \\\"new\\\": [{\\\"id\\\": \\\"177702\\\"}, {\\\"id\\\": \\\"177707\\\"}, {\\\"id\\\": \\\"177712\\\"}]}, {\\\"cols\\\": null, \\\"column_source\\\": {\\\"id\\\": \\\"177218\\\"}, \\\"kind\\\": \\\"ColumnDataChanged\\\", \\\"new\\\": {\\\"Actual_0\\\": [542, 0], \\\"Actual_1\\\": [35, 19], \\\"number\\\": [\\\"Predicted_0\\\", \\\"Predicted_1\\\"]}}, {\\\"attr\\\": \\\"text\\\", \\\"kind\\\": \\\"ModelChanged\\\", \\\"model\\\": {\\\"id\\\": \\\"177247\\\"}, \\\"new\\\": \\\"<span style=\\\\\\\"color:black;font-family:Arial;font-style:bold;font-weight:bold;font-size:12pt\\\\\\\">decision_threshold: 0.55<\\\\/span>\\\"}], \\\"references\\\": [{\\\"attributes\\\": {}, \\\"id\\\": \\\"177692\\\", \\\"type\\\": \\\"IntEditor\\\"}, {\\\"attributes\\\": {\\\"editor\\\": {\\\"id\\\": \\\"177692\\\"}, \\\"field\\\": \\\"Actual_1\\\", \\\"formatter\\\": {\\\"id\\\": \\\"177691\\\"}, \\\"title\\\": \\\"Actual_1\\\"}, \\\"id\\\": \\\"177693\\\", \\\"type\\\": \\\"TableColumn\\\"}, {\\\"attributes\\\": {}, \\\"id\\\": \\\"177691\\\", \\\"type\\\": \\\"NumberFormatter\\\"}, {\\\"attributes\\\": {}, \\\"id\\\": \\\"177705\\\", \\\"type\\\": \\\"NumberFormatter\\\"}, {\\\"attributes\\\": {}, \\\"id\\\": \\\"177681\\\", \\\"type\\\": \\\"StringFormatter\\\"}, {\\\"attributes\\\": {}, \\\"id\\\": \\\"177710\\\", \\\"type\\\": \\\"NumberFormatter\\\"}, {\\\"attributes\\\": {\\\"editor\\\": {\\\"id\\\": \\\"177682\\\"}, \\\"field\\\": \\\"number\\\", \\\"formatter\\\": {\\\"id\\\": \\\"177681\\\"}, \\\"title\\\": \\\"#\\\"}, \\\"id\\\": \\\"177683\\\", \\\"type\\\": \\\"TableColumn\\\"}, {\\\"attributes\\\": {}, \\\"id\\\": \\\"177687\\\", \\\"type\\\": \\\"IntEditor\\\"}, {\\\"attributes\\\": {\\\"editor\\\": {\\\"id\\\": \\\"177687\\\"}, \\\"field\\\": \\\"Actual_0\\\", \\\"formatter\\\": {\\\"id\\\": \\\"177686\\\"}, \\\"title\\\": \\\"Actual_0\\\"}, \\\"id\\\": \\\"177688\\\", \\\"type\\\": \\\"TableColumn\\\"}, {\\\"attributes\\\": {\\\"editor\\\": {\\\"id\\\": \\\"177706\\\"}, \\\"field\\\": \\\"Actual_0\\\", \\\"formatter\\\": {\\\"id\\\": \\\"177705\\\"}, \\\"title\\\": \\\"Actual_0\\\"}, \\\"id\\\": \\\"177707\\\", \\\"type\\\": \\\"TableColumn\\\"}, {\\\"attributes\\\": {}, \\\"id\\\": \\\"177700\\\", \\\"type\\\": \\\"StringFormatter\\\"}, {\\\"attributes\\\": {}, \\\"id\\\": \\\"177706\\\", \\\"type\\\": \\\"IntEditor\\\"}, {\\\"attributes\\\": {\\\"editor\\\": {\\\"id\\\": \\\"177711\\\"}, \\\"field\\\": \\\"Actual_1\\\", \\\"formatter\\\": {\\\"id\\\": \\\"177710\\\"}, \\\"title\\\": \\\"Actual_1\\\"}, \\\"id\\\": \\\"177712\\\", \\\"type\\\": \\\"TableColumn\\\"}, {\\\"attributes\\\": {}, \\\"id\\\": \\\"177682\\\", \\\"type\\\": \\\"StringEditor\\\"}, {\\\"attributes\\\": {}, \\\"id\\\": \\\"177701\\\", \\\"type\\\": \\\"StringEditor\\\"}, {\\\"attributes\\\": {}, \\\"id\\\": \\\"177686\\\", \\\"type\\\": \\\"NumberFormatter\\\"}, {\\\"attributes\\\": {}, \\\"id\\\": \\\"177711\\\", \\\"type\\\": \\\"IntEditor\\\"}, {\\\"attributes\\\": {\\\"editor\\\": {\\\"id\\\": \\\"177701\\\"}, \\\"field\\\": \\\"number\\\", \\\"formatter\\\": {\\\"id\\\": \\\"177700\\\"}, \\\"title\\\": \\\"#\\\"}, \\\"id\\\": \\\"177702\\\", \\\"type\\\": \\\"TableColumn\\\"}]}\",\"header\":\"{\\\"msgid\\\": \\\"177719\\\", \\\"msgtype\\\": \\\"PATCH-DOC\\\"}\",\"metadata\":\"{}\"},\"11\":{\"content\":\"{\\\"events\\\": [{\\\"attr\\\": \\\"columns\\\", \\\"kind\\\": \\\"ModelChanged\\\", \\\"model\\\": {\\\"id\\\": \\\"177214\\\"}, \\\"new\\\": [{\\\"id\\\": \\\"177644\\\"}, {\\\"id\\\": \\\"177649\\\"}, {\\\"id\\\": \\\"177654\\\"}]}, {\\\"cols\\\": null, \\\"column_source\\\": {\\\"id\\\": \\\"177197\\\"}, \\\"kind\\\": \\\"ColumnDataChanged\\\", \\\"new\\\": {\\\"Actual_0\\\": [542, 0], \\\"Actual_1\\\": [52, 2], \\\"number\\\": [\\\"Predicted_0\\\", \\\"Predicted_1\\\"]}}, {\\\"attr\\\": \\\"columns\\\", \\\"kind\\\": \\\"ModelChanged\\\", \\\"model\\\": {\\\"id\\\": \\\"177235\\\"}, \\\"new\\\": [{\\\"id\\\": \\\"177663\\\"}, {\\\"id\\\": \\\"177668\\\"}, {\\\"id\\\": \\\"177673\\\"}]}, {\\\"cols\\\": null, \\\"column_source\\\": {\\\"id\\\": \\\"177218\\\"}, \\\"kind\\\": \\\"ColumnDataChanged\\\", \\\"new\\\": {\\\"Actual_0\\\": [542, 0], \\\"Actual_1\\\": [41, 13], \\\"number\\\": [\\\"Predicted_0\\\", \\\"Predicted_1\\\"]}}, {\\\"attr\\\": \\\"text\\\", \\\"kind\\\": \\\"ModelChanged\\\", \\\"model\\\": {\\\"id\\\": \\\"177247\\\"}, \\\"new\\\": \\\"<span style=\\\\\\\"color:black;font-family:Arial;font-style:bold;font-weight:bold;font-size:12pt\\\\\\\">decision_threshold: 0.6<\\\\/span>\\\"}], \\\"references\\\": [{\\\"attributes\\\": {}, \\\"id\\\": \\\"177666\\\", \\\"type\\\": \\\"NumberFormatter\\\"}, {\\\"attributes\\\": {\\\"editor\\\": {\\\"id\\\": \\\"177648\\\"}, \\\"field\\\": \\\"Actual_0\\\", \\\"formatter\\\": {\\\"id\\\": \\\"177647\\\"}, \\\"title\\\": \\\"Actual_0\\\"}, \\\"id\\\": \\\"177649\\\", \\\"type\\\": \\\"TableColumn\\\"}, {\\\"attributes\\\": {}, \\\"id\\\": \\\"177643\\\", \\\"type\\\": \\\"StringEditor\\\"}, {\\\"attributes\\\": {}, \\\"id\\\": \\\"177648\\\", \\\"type\\\": \\\"IntEditor\\\"}, {\\\"attributes\\\": {}, \\\"id\\\": \\\"177653\\\", \\\"type\\\": \\\"IntEditor\\\"}, {\\\"attributes\\\": {}, \\\"id\\\": \\\"177652\\\", \\\"type\\\": \\\"NumberFormatter\\\"}, {\\\"attributes\\\": {}, \\\"id\\\": \\\"177647\\\", \\\"type\\\": \\\"NumberFormatter\\\"}, {\\\"attributes\\\": {\\\"editor\\\": {\\\"id\\\": \\\"177672\\\"}, \\\"field\\\": \\\"Actual_1\\\", \\\"formatter\\\": {\\\"id\\\": \\\"177671\\\"}, \\\"title\\\": \\\"Actual_1\\\"}, \\\"id\\\": \\\"177673\\\", \\\"type\\\": \\\"TableColumn\\\"}, {\\\"attributes\\\": {\\\"editor\\\": {\\\"id\\\": \\\"177643\\\"}, \\\"field\\\": \\\"number\\\", \\\"formatter\\\": {\\\"id\\\": \\\"177642\\\"}, \\\"title\\\": \\\"#\\\"}, \\\"id\\\": \\\"177644\\\", \\\"type\\\": \\\"TableColumn\\\"}, {\\\"attributes\\\": {}, \\\"id\\\": \\\"177661\\\", \\\"type\\\": \\\"StringFormatter\\\"}, {\\\"attributes\\\": {}, \\\"id\\\": \\\"177662\\\", \\\"type\\\": \\\"StringEditor\\\"}, {\\\"attributes\\\": {}, \\\"id\\\": \\\"177671\\\", \\\"type\\\": \\\"NumberFormatter\\\"}, {\\\"attributes\\\": {\\\"editor\\\": {\\\"id\\\": \\\"177653\\\"}, \\\"field\\\": \\\"Actual_1\\\", \\\"formatter\\\": {\\\"id\\\": \\\"177652\\\"}, \\\"title\\\": \\\"Actual_1\\\"}, \\\"id\\\": \\\"177654\\\", \\\"type\\\": \\\"TableColumn\\\"}, {\\\"attributes\\\": {\\\"editor\\\": {\\\"id\\\": \\\"177662\\\"}, \\\"field\\\": \\\"number\\\", \\\"formatter\\\": {\\\"id\\\": \\\"177661\\\"}, \\\"title\\\": \\\"#\\\"}, \\\"id\\\": \\\"177663\\\", \\\"type\\\": \\\"TableColumn\\\"}, {\\\"attributes\\\": {}, \\\"id\\\": \\\"177667\\\", \\\"type\\\": \\\"IntEditor\\\"}, {\\\"attributes\\\": {}, \\\"id\\\": \\\"177672\\\", \\\"type\\\": \\\"IntEditor\\\"}, {\\\"attributes\\\": {\\\"editor\\\": {\\\"id\\\": \\\"177667\\\"}, \\\"field\\\": \\\"Actual_0\\\", \\\"formatter\\\": {\\\"id\\\": \\\"177666\\\"}, \\\"title\\\": \\\"Actual_0\\\"}, \\\"id\\\": \\\"177668\\\", \\\"type\\\": \\\"TableColumn\\\"}, {\\\"attributes\\\": {}, \\\"id\\\": \\\"177642\\\", \\\"type\\\": \\\"StringFormatter\\\"}]}\",\"header\":\"{\\\"msgid\\\": \\\"177680\\\", \\\"msgtype\\\": \\\"PATCH-DOC\\\"}\",\"metadata\":\"{}\"},\"12\":{\"content\":\"{\\\"events\\\": [{\\\"attr\\\": \\\"columns\\\", \\\"kind\\\": \\\"ModelChanged\\\", \\\"model\\\": {\\\"id\\\": \\\"177214\\\"}, \\\"new\\\": [{\\\"id\\\": \\\"177605\\\"}, {\\\"id\\\": \\\"177610\\\"}, {\\\"id\\\": \\\"177615\\\"}]}, {\\\"cols\\\": null, \\\"column_source\\\": {\\\"id\\\": \\\"177197\\\"}, \\\"kind\\\": \\\"ColumnDataChanged\\\", \\\"new\\\": {\\\"Actual_0\\\": [542, 0], \\\"Actual_1\\\": [52, 2], \\\"number\\\": [\\\"Predicted_0\\\", \\\"Predicted_1\\\"]}}, {\\\"attr\\\": \\\"columns\\\", \\\"kind\\\": \\\"ModelChanged\\\", \\\"model\\\": {\\\"id\\\": \\\"177235\\\"}, \\\"new\\\": [{\\\"id\\\": \\\"177624\\\"}, {\\\"id\\\": \\\"177629\\\"}, {\\\"id\\\": \\\"177634\\\"}]}, {\\\"cols\\\": null, \\\"column_source\\\": {\\\"id\\\": \\\"177218\\\"}, \\\"kind\\\": \\\"ColumnDataChanged\\\", \\\"new\\\": {\\\"Actual_0\\\": [542, 0], \\\"Actual_1\\\": [45, 9], \\\"number\\\": [\\\"Predicted_0\\\", \\\"Predicted_1\\\"]}}, {\\\"attr\\\": \\\"text\\\", \\\"kind\\\": \\\"ModelChanged\\\", \\\"model\\\": {\\\"id\\\": \\\"177247\\\"}, \\\"new\\\": \\\"<span style=\\\\\\\"color:black;font-family:Arial;font-style:bold;font-weight:bold;font-size:12pt\\\\\\\">decision_threshold: 0.65<\\\\/span>\\\"}], \\\"references\\\": [{\\\"attributes\\\": {}, \\\"id\\\": \\\"177632\\\", \\\"type\\\": \\\"NumberFormatter\\\"}, {\\\"attributes\\\": {}, \\\"id\\\": \\\"177604\\\", \\\"type\\\": \\\"StringEditor\\\"}, {\\\"attributes\\\": {\\\"editor\\\": {\\\"id\\\": \\\"177628\\\"}, \\\"field\\\": \\\"Actual_0\\\", \\\"formatter\\\": {\\\"id\\\": \\\"177627\\\"}, \\\"title\\\": \\\"Actual_0\\\"}, \\\"id\\\": \\\"177629\\\", \\\"type\\\": \\\"TableColumn\\\"}, {\\\"attributes\\\": {\\\"editor\\\": {\\\"id\\\": \\\"177609\\\"}, \\\"field\\\": \\\"Actual_0\\\", \\\"formatter\\\": {\\\"id\\\": \\\"177608\\\"}, \\\"title\\\": \\\"Actual_0\\\"}, \\\"id\\\": \\\"177610\\\", \\\"type\\\": \\\"TableColumn\\\"}, {\\\"attributes\\\": {}, \\\"id\\\": \\\"177627\\\", \\\"type\\\": \\\"NumberFormatter\\\"}, {\\\"attributes\\\": {}, \\\"id\\\": \\\"177608\\\", \\\"type\\\": \\\"NumberFormatter\\\"}, {\\\"attributes\\\": {\\\"editor\\\": {\\\"id\\\": \\\"177604\\\"}, \\\"field\\\": \\\"number\\\", \\\"formatter\\\": {\\\"id\\\": \\\"177603\\\"}, \\\"title\\\": \\\"#\\\"}, \\\"id\\\": \\\"177605\\\", \\\"type\\\": \\\"TableColumn\\\"}, {\\\"attributes\\\": {}, \\\"id\\\": \\\"177614\\\", \\\"type\\\": \\\"IntEditor\\\"}, {\\\"attributes\\\": {}, \\\"id\\\": \\\"177628\\\", \\\"type\\\": \\\"IntEditor\\\"}, {\\\"attributes\\\": {}, \\\"id\\\": \\\"177633\\\", \\\"type\\\": \\\"IntEditor\\\"}, {\\\"attributes\\\": {\\\"editor\\\": {\\\"id\\\": \\\"177614\\\"}, \\\"field\\\": \\\"Actual_1\\\", \\\"formatter\\\": {\\\"id\\\": \\\"177613\\\"}, \\\"title\\\": \\\"Actual_1\\\"}, \\\"id\\\": \\\"177615\\\", \\\"type\\\": \\\"TableColumn\\\"}, {\\\"attributes\\\": {}, \\\"id\\\": \\\"177613\\\", \\\"type\\\": \\\"NumberFormatter\\\"}, {\\\"attributes\\\": {}, \\\"id\\\": \\\"177622\\\", \\\"type\\\": \\\"StringFormatter\\\"}, {\\\"attributes\\\": {\\\"editor\\\": {\\\"id\\\": \\\"177623\\\"}, \\\"field\\\": \\\"number\\\", \\\"formatter\\\": {\\\"id\\\": \\\"177622\\\"}, \\\"title\\\": \\\"#\\\"}, \\\"id\\\": \\\"177624\\\", \\\"type\\\": \\\"TableColumn\\\"}, {\\\"attributes\\\": {\\\"editor\\\": {\\\"id\\\": \\\"177633\\\"}, \\\"field\\\": \\\"Actual_1\\\", \\\"formatter\\\": {\\\"id\\\": \\\"177632\\\"}, \\\"title\\\": \\\"Actual_1\\\"}, \\\"id\\\": \\\"177634\\\", \\\"type\\\": \\\"TableColumn\\\"}, {\\\"attributes\\\": {}, \\\"id\\\": \\\"177603\\\", \\\"type\\\": \\\"StringFormatter\\\"}, {\\\"attributes\\\": {}, \\\"id\\\": \\\"177609\\\", \\\"type\\\": \\\"IntEditor\\\"}, {\\\"attributes\\\": {}, \\\"id\\\": \\\"177623\\\", \\\"type\\\": \\\"StringEditor\\\"}]}\",\"header\":\"{\\\"msgid\\\": \\\"177641\\\", \\\"msgtype\\\": \\\"PATCH-DOC\\\"}\",\"metadata\":\"{}\"},\"13\":{\"content\":\"{\\\"events\\\": [{\\\"attr\\\": \\\"columns\\\", \\\"kind\\\": \\\"ModelChanged\\\", \\\"model\\\": {\\\"id\\\": \\\"177214\\\"}, \\\"new\\\": [{\\\"id\\\": \\\"177566\\\"}, {\\\"id\\\": \\\"177571\\\"}, {\\\"id\\\": \\\"177576\\\"}]}, {\\\"cols\\\": null, \\\"column_source\\\": {\\\"id\\\": \\\"177197\\\"}, \\\"kind\\\": \\\"ColumnDataChanged\\\", \\\"new\\\": {\\\"Actual_0\\\": [542, 0], \\\"Actual_1\\\": [52, 2], \\\"number\\\": [\\\"Predicted_0\\\", \\\"Predicted_1\\\"]}}, {\\\"attr\\\": \\\"columns\\\", \\\"kind\\\": \\\"ModelChanged\\\", \\\"model\\\": {\\\"id\\\": \\\"177235\\\"}, \\\"new\\\": [{\\\"id\\\": \\\"177585\\\"}, {\\\"id\\\": \\\"177590\\\"}, {\\\"id\\\": \\\"177595\\\"}]}, {\\\"cols\\\": null, \\\"column_source\\\": {\\\"id\\\": \\\"177218\\\"}, \\\"kind\\\": \\\"ColumnDataChanged\\\", \\\"new\\\": {\\\"Actual_0\\\": [542, 0], \\\"Actual_1\\\": [46, 8], \\\"number\\\": [\\\"Predicted_0\\\", \\\"Predicted_1\\\"]}}, {\\\"attr\\\": \\\"text\\\", \\\"kind\\\": \\\"ModelChanged\\\", \\\"model\\\": {\\\"id\\\": \\\"177247\\\"}, \\\"new\\\": \\\"<span style=\\\\\\\"color:black;font-family:Arial;font-style:bold;font-weight:bold;font-size:12pt\\\\\\\">decision_threshold: 0.7<\\\\/span>\\\"}], \\\"references\\\": [{\\\"attributes\\\": {\\\"editor\\\": {\\\"id\\\": \\\"177565\\\"}, \\\"field\\\": \\\"number\\\", \\\"formatter\\\": {\\\"id\\\": \\\"177564\\\"}, \\\"title\\\": \\\"#\\\"}, \\\"id\\\": \\\"177566\\\", \\\"type\\\": \\\"TableColumn\\\"}, {\\\"attributes\\\": {\\\"editor\\\": {\\\"id\\\": \\\"177584\\\"}, \\\"field\\\": \\\"number\\\", \\\"formatter\\\": {\\\"id\\\": \\\"177583\\\"}, \\\"title\\\": \\\"#\\\"}, \\\"id\\\": \\\"177585\\\", \\\"type\\\": \\\"TableColumn\\\"}, {\\\"attributes\\\": {}, \\\"id\\\": \\\"177565\\\", \\\"type\\\": \\\"StringEditor\\\"}, {\\\"attributes\\\": {\\\"editor\\\": {\\\"id\\\": \\\"177594\\\"}, \\\"field\\\": \\\"Actual_1\\\", \\\"formatter\\\": {\\\"id\\\": \\\"177593\\\"}, \\\"title\\\": \\\"Actual_1\\\"}, \\\"id\\\": \\\"177595\\\", \\\"type\\\": \\\"TableColumn\\\"}, {\\\"attributes\\\": {}, \\\"id\\\": \\\"177589\\\", \\\"type\\\": \\\"IntEditor\\\"}, {\\\"attributes\\\": {}, \\\"id\\\": \\\"177564\\\", \\\"type\\\": \\\"StringFormatter\\\"}, {\\\"attributes\\\": {}, \\\"id\\\": \\\"177584\\\", \\\"type\\\": \\\"StringEditor\\\"}, {\\\"attributes\\\": {}, \\\"id\\\": \\\"177594\\\", \\\"type\\\": \\\"IntEditor\\\"}, {\\\"attributes\\\": {}, \\\"id\\\": \\\"177574\\\", \\\"type\\\": \\\"NumberFormatter\\\"}, {\\\"attributes\\\": {}, \\\"id\\\": \\\"177588\\\", \\\"type\\\": \\\"NumberFormatter\\\"}, {\\\"attributes\\\": {}, \\\"id\\\": \\\"177569\\\", \\\"type\\\": \\\"NumberFormatter\\\"}, {\\\"attributes\\\": {\\\"editor\\\": {\\\"id\\\": \\\"177575\\\"}, \\\"field\\\": \\\"Actual_1\\\", \\\"formatter\\\": {\\\"id\\\": \\\"177574\\\"}, \\\"title\\\": \\\"Actual_1\\\"}, \\\"id\\\": \\\"177576\\\", \\\"type\\\": \\\"TableColumn\\\"}, {\\\"attributes\\\": {}, \\\"id\\\": \\\"177583\\\", \\\"type\\\": \\\"StringFormatter\\\"}, {\\\"attributes\\\": {}, \\\"id\\\": \\\"177570\\\", \\\"type\\\": \\\"IntEditor\\\"}, {\\\"attributes\\\": {}, \\\"id\\\": \\\"177575\\\", \\\"type\\\": \\\"IntEditor\\\"}, {\\\"attributes\\\": {\\\"editor\\\": {\\\"id\\\": \\\"177589\\\"}, \\\"field\\\": \\\"Actual_0\\\", \\\"formatter\\\": {\\\"id\\\": \\\"177588\\\"}, \\\"title\\\": \\\"Actual_0\\\"}, \\\"id\\\": \\\"177590\\\", \\\"type\\\": \\\"TableColumn\\\"}, {\\\"attributes\\\": {\\\"editor\\\": {\\\"id\\\": \\\"177570\\\"}, \\\"field\\\": \\\"Actual_0\\\", \\\"formatter\\\": {\\\"id\\\": \\\"177569\\\"}, \\\"title\\\": \\\"Actual_0\\\"}, \\\"id\\\": \\\"177571\\\", \\\"type\\\": \\\"TableColumn\\\"}, {\\\"attributes\\\": {}, \\\"id\\\": \\\"177593\\\", \\\"type\\\": \\\"NumberFormatter\\\"}]}\",\"header\":\"{\\\"msgid\\\": \\\"177602\\\", \\\"msgtype\\\": \\\"PATCH-DOC\\\"}\",\"metadata\":\"{}\"},\"14\":{\"content\":\"{\\\"events\\\": [{\\\"attr\\\": \\\"columns\\\", \\\"kind\\\": \\\"ModelChanged\\\", \\\"model\\\": {\\\"id\\\": \\\"177214\\\"}, \\\"new\\\": [{\\\"id\\\": \\\"177527\\\"}, {\\\"id\\\": \\\"177532\\\"}, {\\\"id\\\": \\\"177537\\\"}]}, {\\\"cols\\\": null, \\\"column_source\\\": {\\\"id\\\": \\\"177197\\\"}, \\\"kind\\\": \\\"ColumnDataChanged\\\", \\\"new\\\": {\\\"Actual_0\\\": [542, 0], \\\"Actual_1\\\": [53, 1], \\\"number\\\": [\\\"Predicted_0\\\", \\\"Predicted_1\\\"]}}, {\\\"attr\\\": \\\"columns\\\", \\\"kind\\\": \\\"ModelChanged\\\", \\\"model\\\": {\\\"id\\\": \\\"177235\\\"}, \\\"new\\\": [{\\\"id\\\": \\\"177546\\\"}, {\\\"id\\\": \\\"177551\\\"}, {\\\"id\\\": \\\"177556\\\"}]}, {\\\"cols\\\": null, \\\"column_source\\\": {\\\"id\\\": \\\"177218\\\"}, \\\"kind\\\": \\\"ColumnDataChanged\\\", \\\"new\\\": {\\\"Actual_0\\\": [542, 0], \\\"Actual_1\\\": [48, 6], \\\"number\\\": [\\\"Predicted_0\\\", \\\"Predicted_1\\\"]}}, {\\\"attr\\\": \\\"text\\\", \\\"kind\\\": \\\"ModelChanged\\\", \\\"model\\\": {\\\"id\\\": \\\"177247\\\"}, \\\"new\\\": \\\"<span style=\\\\\\\"color:black;font-family:Arial;font-style:bold;font-weight:bold;font-size:12pt\\\\\\\">decision_threshold: 0.75<\\\\/span>\\\"}], \\\"references\\\": [{\\\"attributes\\\": {\\\"editor\\\": {\\\"id\\\": \\\"177531\\\"}, \\\"field\\\": \\\"Actual_0\\\", \\\"formatter\\\": {\\\"id\\\": \\\"177530\\\"}, \\\"title\\\": \\\"Actual_0\\\"}, \\\"id\\\": \\\"177532\\\", \\\"type\\\": \\\"TableColumn\\\"}, {\\\"attributes\\\": {\\\"editor\\\": {\\\"id\\\": \\\"177545\\\"}, \\\"field\\\": \\\"number\\\", \\\"formatter\\\": {\\\"id\\\": \\\"177544\\\"}, \\\"title\\\": \\\"#\\\"}, \\\"id\\\": \\\"177546\\\", \\\"type\\\": \\\"TableColumn\\\"}, {\\\"attributes\\\": {\\\"editor\\\": {\\\"id\\\": \\\"177526\\\"}, \\\"field\\\": \\\"number\\\", \\\"formatter\\\": {\\\"id\\\": \\\"177525\\\"}, \\\"title\\\": \\\"#\\\"}, \\\"id\\\": \\\"177527\\\", \\\"type\\\": \\\"TableColumn\\\"}, {\\\"attributes\\\": {}, \\\"id\\\": \\\"177554\\\", \\\"type\\\": \\\"NumberFormatter\\\"}, {\\\"attributes\\\": {\\\"editor\\\": {\\\"id\\\": \\\"177555\\\"}, \\\"field\\\": \\\"Actual_1\\\", \\\"formatter\\\": {\\\"id\\\": \\\"177554\\\"}, \\\"title\\\": \\\"Actual_1\\\"}, \\\"id\\\": \\\"177556\\\", \\\"type\\\": \\\"TableColumn\\\"}, {\\\"attributes\\\": {\\\"editor\\\": {\\\"id\\\": \\\"177550\\\"}, \\\"field\\\": \\\"Actual_0\\\", \\\"formatter\\\": {\\\"id\\\": \\\"177549\\\"}, \\\"title\\\": \\\"Actual_0\\\"}, \\\"id\\\": \\\"177551\\\", \\\"type\\\": \\\"TableColumn\\\"}, {\\\"attributes\\\": {}, \\\"id\\\": \\\"177531\\\", \\\"type\\\": \\\"IntEditor\\\"}, {\\\"attributes\\\": {}, \\\"id\\\": \\\"177535\\\", \\\"type\\\": \\\"NumberFormatter\\\"}, {\\\"attributes\\\": {}, \\\"id\\\": \\\"177544\\\", \\\"type\\\": \\\"StringFormatter\\\"}, {\\\"attributes\\\": {}, \\\"id\\\": \\\"177525\\\", \\\"type\\\": \\\"StringFormatter\\\"}, {\\\"attributes\\\": {}, \\\"id\\\": \\\"177536\\\", \\\"type\\\": \\\"IntEditor\\\"}, {\\\"attributes\\\": {}, \\\"id\\\": \\\"177545\\\", \\\"type\\\": \\\"StringEditor\\\"}, {\\\"attributes\\\": {\\\"editor\\\": {\\\"id\\\": \\\"177536\\\"}, \\\"field\\\": \\\"Actual_1\\\", \\\"formatter\\\": {\\\"id\\\": \\\"177535\\\"}, \\\"title\\\": \\\"Actual_1\\\"}, \\\"id\\\": \\\"177537\\\", \\\"type\\\": \\\"TableColumn\\\"}, {\\\"attributes\\\": {}, \\\"id\\\": \\\"177550\\\", \\\"type\\\": \\\"IntEditor\\\"}, {\\\"attributes\\\": {}, \\\"id\\\": \\\"177530\\\", \\\"type\\\": \\\"NumberFormatter\\\"}, {\\\"attributes\\\": {}, \\\"id\\\": \\\"177526\\\", \\\"type\\\": \\\"StringEditor\\\"}, {\\\"attributes\\\": {}, \\\"id\\\": \\\"177549\\\", \\\"type\\\": \\\"NumberFormatter\\\"}, {\\\"attributes\\\": {}, \\\"id\\\": \\\"177555\\\", \\\"type\\\": \\\"IntEditor\\\"}]}\",\"header\":\"{\\\"msgid\\\": \\\"177563\\\", \\\"msgtype\\\": \\\"PATCH-DOC\\\"}\",\"metadata\":\"{}\"},\"15\":{\"content\":\"{\\\"events\\\": [{\\\"attr\\\": \\\"columns\\\", \\\"kind\\\": \\\"ModelChanged\\\", \\\"model\\\": {\\\"id\\\": \\\"177214\\\"}, \\\"new\\\": [{\\\"id\\\": \\\"177488\\\"}, {\\\"id\\\": \\\"177493\\\"}, {\\\"id\\\": \\\"177498\\\"}]}, {\\\"cols\\\": null, \\\"column_source\\\": {\\\"id\\\": \\\"177197\\\"}, \\\"kind\\\": \\\"ColumnDataChanged\\\", \\\"new\\\": {\\\"Actual_0\\\": [542, 0], \\\"Actual_1\\\": [54, 0], \\\"number\\\": [\\\"Predicted_0\\\", \\\"Predicted_1\\\"]}}, {\\\"attr\\\": \\\"columns\\\", \\\"kind\\\": \\\"ModelChanged\\\", \\\"model\\\": {\\\"id\\\": \\\"177235\\\"}, \\\"new\\\": [{\\\"id\\\": \\\"177507\\\"}, {\\\"id\\\": \\\"177512\\\"}, {\\\"id\\\": \\\"177517\\\"}]}, {\\\"cols\\\": null, \\\"column_source\\\": {\\\"id\\\": \\\"177218\\\"}, \\\"kind\\\": \\\"ColumnDataChanged\\\", \\\"new\\\": {\\\"Actual_0\\\": [542, 0], \\\"Actual_1\\\": [48, 6], \\\"number\\\": [\\\"Predicted_0\\\", \\\"Predicted_1\\\"]}}, {\\\"attr\\\": \\\"text\\\", \\\"kind\\\": \\\"ModelChanged\\\", \\\"model\\\": {\\\"id\\\": \\\"177247\\\"}, \\\"new\\\": \\\"<span style=\\\\\\\"color:black;font-family:Arial;font-style:bold;font-weight:bold;font-size:12pt\\\\\\\">decision_threshold: 0.8<\\\\/span>\\\"}], \\\"references\\\": [{\\\"attributes\\\": {\\\"editor\\\": {\\\"id\\\": \\\"177497\\\"}, \\\"field\\\": \\\"Actual_1\\\", \\\"formatter\\\": {\\\"id\\\": \\\"177496\\\"}, \\\"title\\\": \\\"Actual_1\\\"}, \\\"id\\\": \\\"177498\\\", \\\"type\\\": \\\"TableColumn\\\"}, {\\\"attributes\\\": {}, \\\"id\\\": \\\"177492\\\", \\\"type\\\": \\\"IntEditor\\\"}, {\\\"attributes\\\": {}, \\\"id\\\": \\\"177497\\\", \\\"type\\\": \\\"IntEditor\\\"}, {\\\"attributes\\\": {}, \\\"id\\\": \\\"177510\\\", \\\"type\\\": \\\"NumberFormatter\\\"}, {\\\"attributes\\\": {}, \\\"id\\\": \\\"177505\\\", \\\"type\\\": \\\"StringFormatter\\\"}, {\\\"attributes\\\": {}, \\\"id\\\": \\\"177487\\\", \\\"type\\\": \\\"StringEditor\\\"}, {\\\"attributes\\\": {\\\"editor\\\": {\\\"id\\\": \\\"177506\\\"}, \\\"field\\\": \\\"number\\\", \\\"formatter\\\": {\\\"id\\\": \\\"177505\\\"}, \\\"title\\\": \\\"#\\\"}, \\\"id\\\": \\\"177507\\\", \\\"type\\\": \\\"TableColumn\\\"}, {\\\"attributes\\\": {\\\"editor\\\": {\\\"id\\\": \\\"177511\\\"}, \\\"field\\\": \\\"Actual_0\\\", \\\"formatter\\\": {\\\"id\\\": \\\"177510\\\"}, \\\"title\\\": \\\"Actual_0\\\"}, \\\"id\\\": \\\"177512\\\", \\\"type\\\": \\\"TableColumn\\\"}, {\\\"attributes\\\": {}, \\\"id\\\": \\\"177496\\\", \\\"type\\\": \\\"NumberFormatter\\\"}, {\\\"attributes\\\": {}, \\\"id\\\": \\\"177515\\\", \\\"type\\\": \\\"NumberFormatter\\\"}, {\\\"attributes\\\": {}, \\\"id\\\": \\\"177506\\\", \\\"type\\\": \\\"StringEditor\\\"}, {\\\"attributes\\\": {}, \\\"id\\\": \\\"177511\\\", \\\"type\\\": \\\"IntEditor\\\"}, {\\\"attributes\\\": {}, \\\"id\\\": \\\"177516\\\", \\\"type\\\": \\\"IntEditor\\\"}, {\\\"attributes\\\": {\\\"editor\\\": {\\\"id\\\": \\\"177492\\\"}, \\\"field\\\": \\\"Actual_0\\\", \\\"formatter\\\": {\\\"id\\\": \\\"177491\\\"}, \\\"title\\\": \\\"Actual_0\\\"}, \\\"id\\\": \\\"177493\\\", \\\"type\\\": \\\"TableColumn\\\"}, {\\\"attributes\\\": {}, \\\"id\\\": \\\"177486\\\", \\\"type\\\": \\\"StringFormatter\\\"}, {\\\"attributes\\\": {\\\"editor\\\": {\\\"id\\\": \\\"177516\\\"}, \\\"field\\\": \\\"Actual_1\\\", \\\"formatter\\\": {\\\"id\\\": \\\"177515\\\"}, \\\"title\\\": \\\"Actual_1\\\"}, \\\"id\\\": \\\"177517\\\", \\\"type\\\": \\\"TableColumn\\\"}, {\\\"attributes\\\": {}, \\\"id\\\": \\\"177491\\\", \\\"type\\\": \\\"NumberFormatter\\\"}, {\\\"attributes\\\": {\\\"editor\\\": {\\\"id\\\": \\\"177487\\\"}, \\\"field\\\": \\\"number\\\", \\\"formatter\\\": {\\\"id\\\": \\\"177486\\\"}, \\\"title\\\": \\\"#\\\"}, \\\"id\\\": \\\"177488\\\", \\\"type\\\": \\\"TableColumn\\\"}]}\",\"header\":\"{\\\"msgid\\\": \\\"177524\\\", \\\"msgtype\\\": \\\"PATCH-DOC\\\"}\",\"metadata\":\"{}\"},\"16\":{\"content\":\"{\\\"events\\\": [{\\\"attr\\\": \\\"columns\\\", \\\"kind\\\": \\\"ModelChanged\\\", \\\"model\\\": {\\\"id\\\": \\\"177214\\\"}, \\\"new\\\": [{\\\"id\\\": \\\"177449\\\"}, {\\\"id\\\": \\\"177454\\\"}, {\\\"id\\\": \\\"177459\\\"}]}, {\\\"cols\\\": null, \\\"column_source\\\": {\\\"id\\\": \\\"177197\\\"}, \\\"kind\\\": \\\"ColumnDataChanged\\\", \\\"new\\\": {\\\"Actual_0\\\": [542, 0], \\\"Actual_1\\\": [54, 0], \\\"number\\\": [\\\"Predicted_0\\\", \\\"Predicted_1\\\"]}}, {\\\"attr\\\": \\\"columns\\\", \\\"kind\\\": \\\"ModelChanged\\\", \\\"model\\\": {\\\"id\\\": \\\"177235\\\"}, \\\"new\\\": [{\\\"id\\\": \\\"177468\\\"}, {\\\"id\\\": \\\"177473\\\"}, {\\\"id\\\": \\\"177478\\\"}]}, {\\\"cols\\\": null, \\\"column_source\\\": {\\\"id\\\": \\\"177218\\\"}, \\\"kind\\\": \\\"ColumnDataChanged\\\", \\\"new\\\": {\\\"Actual_0\\\": [542, 0], \\\"Actual_1\\\": [49, 5], \\\"number\\\": [\\\"Predicted_0\\\", \\\"Predicted_1\\\"]}}, {\\\"attr\\\": \\\"text\\\", \\\"kind\\\": \\\"ModelChanged\\\", \\\"model\\\": {\\\"id\\\": \\\"177247\\\"}, \\\"new\\\": \\\"<span style=\\\\\\\"color:black;font-family:Arial;font-style:bold;font-weight:bold;font-size:12pt\\\\\\\">decision_threshold: 0.85<\\\\/span>\\\"}], \\\"references\\\": [{\\\"attributes\\\": {\\\"editor\\\": {\\\"id\\\": \\\"177448\\\"}, \\\"field\\\": \\\"number\\\", \\\"formatter\\\": {\\\"id\\\": \\\"177447\\\"}, \\\"title\\\": \\\"#\\\"}, \\\"id\\\": \\\"177449\\\", \\\"type\\\": \\\"TableColumn\\\"}, {\\\"attributes\\\": {\\\"editor\\\": {\\\"id\\\": \\\"177477\\\"}, \\\"field\\\": \\\"Actual_1\\\", \\\"formatter\\\": {\\\"id\\\": \\\"177476\\\"}, \\\"title\\\": \\\"Actual_1\\\"}, \\\"id\\\": \\\"177478\\\", \\\"type\\\": \\\"TableColumn\\\"}, {\\\"attributes\\\": {}, \\\"id\\\": \\\"177467\\\", \\\"type\\\": \\\"StringEditor\\\"}, {\\\"attributes\\\": {\\\"editor\\\": {\\\"id\\\": \\\"177453\\\"}, \\\"field\\\": \\\"Actual_0\\\", \\\"formatter\\\": {\\\"id\\\": \\\"177452\\\"}, \\\"title\\\": \\\"Actual_0\\\"}, \\\"id\\\": \\\"177454\\\", \\\"type\\\": \\\"TableColumn\\\"}, {\\\"attributes\\\": {}, \\\"id\\\": \\\"177472\\\", \\\"type\\\": \\\"IntEditor\\\"}, {\\\"attributes\\\": {}, \\\"id\\\": \\\"177447\\\", \\\"type\\\": \\\"StringFormatter\\\"}, {\\\"attributes\\\": {}, \\\"id\\\": \\\"177448\\\", \\\"type\\\": \\\"StringEditor\\\"}, {\\\"attributes\\\": {}, \\\"id\\\": \\\"177476\\\", \\\"type\\\": \\\"NumberFormatter\\\"}, {\\\"attributes\\\": {\\\"editor\\\": {\\\"id\\\": \\\"177472\\\"}, \\\"field\\\": \\\"Actual_0\\\", \\\"formatter\\\": {\\\"id\\\": \\\"177471\\\"}, \\\"title\\\": \\\"Actual_0\\\"}, \\\"id\\\": \\\"177473\\\", \\\"type\\\": \\\"TableColumn\\\"}, {\\\"attributes\\\": {\\\"editor\\\": {\\\"id\\\": \\\"177467\\\"}, \\\"field\\\": \\\"number\\\", \\\"formatter\\\": {\\\"id\\\": \\\"177466\\\"}, \\\"title\\\": \\\"#\\\"}, \\\"id\\\": \\\"177468\\\", \\\"type\\\": \\\"TableColumn\\\"}, {\\\"attributes\\\": {}, \\\"id\\\": \\\"177477\\\", \\\"type\\\": \\\"IntEditor\\\"}, {\\\"attributes\\\": {}, \\\"id\\\": \\\"177466\\\", \\\"type\\\": \\\"StringFormatter\\\"}, {\\\"attributes\\\": {}, \\\"id\\\": \\\"177457\\\", \\\"type\\\": \\\"NumberFormatter\\\"}, {\\\"attributes\\\": {\\\"editor\\\": {\\\"id\\\": \\\"177458\\\"}, \\\"field\\\": \\\"Actual_1\\\", \\\"formatter\\\": {\\\"id\\\": \\\"177457\\\"}, \\\"title\\\": \\\"Actual_1\\\"}, \\\"id\\\": \\\"177459\\\", \\\"type\\\": \\\"TableColumn\\\"}, {\\\"attributes\\\": {}, \\\"id\\\": \\\"177453\\\", \\\"type\\\": \\\"IntEditor\\\"}, {\\\"attributes\\\": {}, \\\"id\\\": \\\"177452\\\", \\\"type\\\": \\\"NumberFormatter\\\"}, {\\\"attributes\\\": {}, \\\"id\\\": \\\"177458\\\", \\\"type\\\": \\\"IntEditor\\\"}, {\\\"attributes\\\": {}, \\\"id\\\": \\\"177471\\\", \\\"type\\\": \\\"NumberFormatter\\\"}]}\",\"header\":\"{\\\"msgid\\\": \\\"177485\\\", \\\"msgtype\\\": \\\"PATCH-DOC\\\"}\",\"metadata\":\"{}\"},\"17\":{\"content\":\"{\\\"events\\\": [{\\\"attr\\\": \\\"columns\\\", \\\"kind\\\": \\\"ModelChanged\\\", \\\"model\\\": {\\\"id\\\": \\\"177214\\\"}, \\\"new\\\": [{\\\"id\\\": \\\"177410\\\"}, {\\\"id\\\": \\\"177415\\\"}, {\\\"id\\\": \\\"177420\\\"}]}, {\\\"cols\\\": null, \\\"column_source\\\": {\\\"id\\\": \\\"177197\\\"}, \\\"kind\\\": \\\"ColumnDataChanged\\\", \\\"new\\\": {\\\"Actual_0\\\": [542, 0], \\\"Actual_1\\\": [54, 0], \\\"number\\\": [\\\"Predicted_0\\\", \\\"Predicted_1\\\"]}}, {\\\"attr\\\": \\\"columns\\\", \\\"kind\\\": \\\"ModelChanged\\\", \\\"model\\\": {\\\"id\\\": \\\"177235\\\"}, \\\"new\\\": [{\\\"id\\\": \\\"177429\\\"}, {\\\"id\\\": \\\"177434\\\"}, {\\\"id\\\": \\\"177439\\\"}]}, {\\\"cols\\\": null, \\\"column_source\\\": {\\\"id\\\": \\\"177218\\\"}, \\\"kind\\\": \\\"ColumnDataChanged\\\", \\\"new\\\": {\\\"Actual_0\\\": [542, 0], \\\"Actual_1\\\": [53, 1], \\\"number\\\": [\\\"Predicted_0\\\", \\\"Predicted_1\\\"]}}, {\\\"attr\\\": \\\"text\\\", \\\"kind\\\": \\\"ModelChanged\\\", \\\"model\\\": {\\\"id\\\": \\\"177247\\\"}, \\\"new\\\": \\\"<span style=\\\\\\\"color:black;font-family:Arial;font-style:bold;font-weight:bold;font-size:12pt\\\\\\\">decision_threshold: 0.9<\\\\/span>\\\"}], \\\"references\\\": [{\\\"attributes\\\": {}, \\\"id\\\": \\\"177409\\\", \\\"type\\\": \\\"StringEditor\\\"}, {\\\"attributes\\\": {\\\"editor\\\": {\\\"id\\\": \\\"177438\\\"}, \\\"field\\\": \\\"Actual_1\\\", \\\"formatter\\\": {\\\"id\\\": \\\"177437\\\"}, \\\"title\\\": \\\"Actual_1\\\"}, \\\"id\\\": \\\"177439\\\", \\\"type\\\": \\\"TableColumn\\\"}, {\\\"attributes\\\": {}, \\\"id\\\": \\\"177419\\\", \\\"type\\\": \\\"IntEditor\\\"}, {\\\"attributes\\\": {\\\"editor\\\": {\\\"id\\\": \\\"177409\\\"}, \\\"field\\\": \\\"number\\\", \\\"formatter\\\": {\\\"id\\\": \\\"177408\\\"}, \\\"title\\\": \\\"#\\\"}, \\\"id\\\": \\\"177410\\\", \\\"type\\\": \\\"TableColumn\\\"}, {\\\"attributes\\\": {\\\"editor\\\": {\\\"id\\\": \\\"177433\\\"}, \\\"field\\\": \\\"Actual_0\\\", \\\"formatter\\\": {\\\"id\\\": \\\"177432\\\"}, \\\"title\\\": \\\"Actual_0\\\"}, \\\"id\\\": \\\"177434\\\", \\\"type\\\": \\\"TableColumn\\\"}, {\\\"attributes\\\": {}, \\\"id\\\": \\\"177413\\\", \\\"type\\\": \\\"NumberFormatter\\\"}, {\\\"attributes\\\": {}, \\\"id\\\": \\\"177433\\\", \\\"type\\\": \\\"IntEditor\\\"}, {\\\"attributes\\\": {\\\"editor\\\": {\\\"id\\\": \\\"177419\\\"}, \\\"field\\\": \\\"Actual_1\\\", \\\"formatter\\\": {\\\"id\\\": \\\"177418\\\"}, \\\"title\\\": \\\"Actual_1\\\"}, \\\"id\\\": \\\"177420\\\", \\\"type\\\": \\\"TableColumn\\\"}, {\\\"attributes\\\": {}, \\\"id\\\": \\\"177438\\\", \\\"type\\\": \\\"IntEditor\\\"}, {\\\"attributes\\\": {}, \\\"id\\\": \\\"177427\\\", \\\"type\\\": \\\"StringFormatter\\\"}, {\\\"attributes\\\": {}, \\\"id\\\": \\\"177432\\\", \\\"type\\\": \\\"NumberFormatter\\\"}, {\\\"attributes\\\": {}, \\\"id\\\": \\\"177437\\\", \\\"type\\\": \\\"NumberFormatter\\\"}, {\\\"attributes\\\": {\\\"editor\\\": {\\\"id\\\": \\\"177414\\\"}, \\\"field\\\": \\\"Actual_0\\\", \\\"formatter\\\": {\\\"id\\\": \\\"177413\\\"}, \\\"title\\\": \\\"Actual_0\\\"}, \\\"id\\\": \\\"177415\\\", \\\"type\\\": \\\"TableColumn\\\"}, {\\\"attributes\\\": {}, \\\"id\\\": \\\"177418\\\", \\\"type\\\": \\\"NumberFormatter\\\"}, {\\\"attributes\\\": {}, \\\"id\\\": \\\"177428\\\", \\\"type\\\": \\\"StringEditor\\\"}, {\\\"attributes\\\": {}, \\\"id\\\": \\\"177408\\\", \\\"type\\\": \\\"StringFormatter\\\"}, {\\\"attributes\\\": {}, \\\"id\\\": \\\"177414\\\", \\\"type\\\": \\\"IntEditor\\\"}, {\\\"attributes\\\": {\\\"editor\\\": {\\\"id\\\": \\\"177428\\\"}, \\\"field\\\": \\\"number\\\", \\\"formatter\\\": {\\\"id\\\": \\\"177427\\\"}, \\\"title\\\": \\\"#\\\"}, \\\"id\\\": \\\"177429\\\", \\\"type\\\": \\\"TableColumn\\\"}]}\",\"header\":\"{\\\"msgid\\\": \\\"177446\\\", \\\"msgtype\\\": \\\"PATCH-DOC\\\"}\",\"metadata\":\"{}\"},\"18\":{\"content\":\"{\\\"events\\\": [{\\\"attr\\\": \\\"columns\\\", \\\"kind\\\": \\\"ModelChanged\\\", \\\"model\\\": {\\\"id\\\": \\\"177214\\\"}, \\\"new\\\": [{\\\"id\\\": \\\"177371\\\"}, {\\\"id\\\": \\\"177376\\\"}, {\\\"id\\\": \\\"177381\\\"}]}, {\\\"cols\\\": null, \\\"column_source\\\": {\\\"id\\\": \\\"177197\\\"}, \\\"kind\\\": \\\"ColumnDataChanged\\\", \\\"new\\\": {\\\"Actual_0\\\": [542, 0], \\\"Actual_1\\\": [54, 0], \\\"number\\\": [\\\"Predicted_0\\\", \\\"Predicted_1\\\"]}}, {\\\"attr\\\": \\\"columns\\\", \\\"kind\\\": \\\"ModelChanged\\\", \\\"model\\\": {\\\"id\\\": \\\"177235\\\"}, \\\"new\\\": [{\\\"id\\\": \\\"177390\\\"}, {\\\"id\\\": \\\"177395\\\"}, {\\\"id\\\": \\\"177400\\\"}]}, {\\\"cols\\\": null, \\\"column_source\\\": {\\\"id\\\": \\\"177218\\\"}, \\\"kind\\\": \\\"ColumnDataChanged\\\", \\\"new\\\": {\\\"Actual_0\\\": [542, 0], \\\"Actual_1\\\": [54, 0], \\\"number\\\": [\\\"Predicted_0\\\", \\\"Predicted_1\\\"]}}, {\\\"attr\\\": \\\"text\\\", \\\"kind\\\": \\\"ModelChanged\\\", \\\"model\\\": {\\\"id\\\": \\\"177247\\\"}, \\\"new\\\": \\\"<span style=\\\\\\\"color:black;font-family:Arial;font-style:bold;font-weight:bold;font-size:12pt\\\\\\\">decision_threshold: 0.95<\\\\/span>\\\"}], \\\"references\\\": [{\\\"attributes\\\": {}, \\\"id\\\": \\\"177398\\\", \\\"type\\\": \\\"NumberFormatter\\\"}, {\\\"attributes\\\": {\\\"editor\\\": {\\\"id\\\": \\\"177380\\\"}, \\\"field\\\": \\\"Actual_1\\\", \\\"formatter\\\": {\\\"id\\\": \\\"177379\\\"}, \\\"title\\\": \\\"Actual_1\\\"}, \\\"id\\\": \\\"177381\\\", \\\"type\\\": \\\"TableColumn\\\"}, {\\\"attributes\\\": {\\\"editor\\\": {\\\"id\\\": \\\"177375\\\"}, \\\"field\\\": \\\"Actual_0\\\", \\\"formatter\\\": {\\\"id\\\": \\\"177374\\\"}, \\\"title\\\": \\\"Actual_0\\\"}, \\\"id\\\": \\\"177376\\\", \\\"type\\\": \\\"TableColumn\\\"}, {\\\"attributes\\\": {}, \\\"id\\\": \\\"177379\\\", \\\"type\\\": \\\"NumberFormatter\\\"}, {\\\"attributes\\\": {\\\"editor\\\": {\\\"id\\\": \\\"177399\\\"}, \\\"field\\\": \\\"Actual_1\\\", \\\"formatter\\\": {\\\"id\\\": \\\"177398\\\"}, \\\"title\\\": \\\"Actual_1\\\"}, \\\"id\\\": \\\"177400\\\", \\\"type\\\": \\\"TableColumn\\\"}, {\\\"attributes\\\": {}, \\\"id\\\": \\\"177375\\\", \\\"type\\\": \\\"IntEditor\\\"}, {\\\"attributes\\\": {}, \\\"id\\\": \\\"177369\\\", \\\"type\\\": \\\"StringFormatter\\\"}, {\\\"attributes\\\": {}, \\\"id\\\": \\\"177399\\\", \\\"type\\\": \\\"IntEditor\\\"}, {\\\"attributes\\\": {}, \\\"id\\\": \\\"177389\\\", \\\"type\\\": \\\"StringEditor\\\"}, {\\\"attributes\\\": {}, \\\"id\\\": \\\"177374\\\", \\\"type\\\": \\\"NumberFormatter\\\"}, {\\\"attributes\\\": {}, \\\"id\\\": \\\"177393\\\", \\\"type\\\": \\\"NumberFormatter\\\"}, {\\\"attributes\\\": {}, \\\"id\\\": \\\"177380\\\", \\\"type\\\": \\\"IntEditor\\\"}, {\\\"attributes\\\": {}, \\\"id\\\": \\\"177394\\\", \\\"type\\\": \\\"IntEditor\\\"}, {\\\"attributes\\\": {\\\"editor\\\": {\\\"id\\\": \\\"177394\\\"}, \\\"field\\\": \\\"Actual_0\\\", \\\"formatter\\\": {\\\"id\\\": \\\"177393\\\"}, \\\"title\\\": \\\"Actual_0\\\"}, \\\"id\\\": \\\"177395\\\", \\\"type\\\": \\\"TableColumn\\\"}, {\\\"attributes\\\": {\\\"editor\\\": {\\\"id\\\": \\\"177370\\\"}, \\\"field\\\": \\\"number\\\", \\\"formatter\\\": {\\\"id\\\": \\\"177369\\\"}, \\\"title\\\": \\\"#\\\"}, \\\"id\\\": \\\"177371\\\", \\\"type\\\": \\\"TableColumn\\\"}, {\\\"attributes\\\": {}, \\\"id\\\": \\\"177370\\\", \\\"type\\\": \\\"StringEditor\\\"}, {\\\"attributes\\\": {}, \\\"id\\\": \\\"177388\\\", \\\"type\\\": \\\"StringFormatter\\\"}, {\\\"attributes\\\": {\\\"editor\\\": {\\\"id\\\": \\\"177389\\\"}, \\\"field\\\": \\\"number\\\", \\\"formatter\\\": {\\\"id\\\": \\\"177388\\\"}, \\\"title\\\": \\\"#\\\"}, \\\"id\\\": \\\"177390\\\", \\\"type\\\": \\\"TableColumn\\\"}]}\",\"header\":\"{\\\"msgid\\\": \\\"177407\\\", \\\"msgtype\\\": \\\"PATCH-DOC\\\"}\",\"metadata\":\"{}\"},\"2\":{\"content\":\"{\\\"events\\\": [{\\\"attr\\\": \\\"columns\\\", \\\"kind\\\": \\\"ModelChanged\\\", \\\"model\\\": {\\\"id\\\": \\\"177214\\\"}, \\\"new\\\": [{\\\"id\\\": \\\"177995\\\"}, {\\\"id\\\": \\\"178000\\\"}, {\\\"id\\\": \\\"178005\\\"}]}, {\\\"cols\\\": null, \\\"column_source\\\": {\\\"id\\\": \\\"177197\\\"}, \\\"kind\\\": \\\"ColumnDataChanged\\\", \\\"new\\\": {\\\"Actual_0\\\": [459, 83], \\\"Actual_1\\\": [24, 30], \\\"number\\\": [\\\"Predicted_0\\\", \\\"Predicted_1\\\"]}}, {\\\"attr\\\": \\\"columns\\\", \\\"kind\\\": \\\"ModelChanged\\\", \\\"model\\\": {\\\"id\\\": \\\"177235\\\"}, \\\"new\\\": [{\\\"id\\\": \\\"178014\\\"}, {\\\"id\\\": \\\"178019\\\"}, {\\\"id\\\": \\\"178024\\\"}]}, {\\\"cols\\\": null, \\\"column_source\\\": {\\\"id\\\": \\\"177218\\\"}, \\\"kind\\\": \\\"ColumnDataChanged\\\", \\\"new\\\": {\\\"Actual_0\\\": [509, 33], \\\"Actual_1\\\": [1, 53], \\\"number\\\": [\\\"Predicted_0\\\", \\\"Predicted_1\\\"]}}, {\\\"attr\\\": \\\"text\\\", \\\"kind\\\": \\\"ModelChanged\\\", \\\"model\\\": {\\\"id\\\": \\\"177247\\\"}, \\\"new\\\": \\\"<span style=\\\\\\\"color:black;font-family:Arial;font-style:bold;font-weight:bold;font-size:12pt\\\\\\\">decision_threshold: 0.15<\\\\/span>\\\"}], \\\"references\\\": [{\\\"attributes\\\": {}, \\\"id\\\": \\\"178003\\\", \\\"type\\\": \\\"NumberFormatter\\\"}, {\\\"attributes\\\": {}, \\\"id\\\": \\\"178013\\\", \\\"type\\\": \\\"StringEditor\\\"}, {\\\"attributes\\\": {\\\"editor\\\": {\\\"id\\\": \\\"178004\\\"}, \\\"field\\\": \\\"Actual_1\\\", \\\"formatter\\\": {\\\"id\\\": \\\"178003\\\"}, \\\"title\\\": \\\"Actual_1\\\"}, \\\"id\\\": \\\"178005\\\", \\\"type\\\": \\\"TableColumn\\\"}, {\\\"attributes\\\": {\\\"editor\\\": {\\\"id\\\": \\\"177999\\\"}, \\\"field\\\": \\\"Actual_0\\\", \\\"formatter\\\": {\\\"id\\\": \\\"177998\\\"}, \\\"title\\\": \\\"Actual_0\\\"}, \\\"id\\\": \\\"178000\\\", \\\"type\\\": \\\"TableColumn\\\"}, {\\\"attributes\\\": {}, \\\"id\\\": \\\"178018\\\", \\\"type\\\": \\\"IntEditor\\\"}, {\\\"attributes\\\": {\\\"editor\\\": {\\\"id\\\": \\\"178018\\\"}, \\\"field\\\": \\\"Actual_0\\\", \\\"formatter\\\": {\\\"id\\\": \\\"178017\\\"}, \\\"title\\\": \\\"Actual_0\\\"}, \\\"id\\\": \\\"178019\\\", \\\"type\\\": \\\"TableColumn\\\"}, {\\\"attributes\\\": {}, \\\"id\\\": \\\"178004\\\", \\\"type\\\": \\\"IntEditor\\\"}, {\\\"attributes\\\": {}, \\\"id\\\": \\\"178017\\\", \\\"type\\\": \\\"NumberFormatter\\\"}, {\\\"attributes\\\": {}, \\\"id\\\": \\\"177998\\\", \\\"type\\\": \\\"NumberFormatter\\\"}, {\\\"attributes\\\": {}, \\\"id\\\": \\\"178012\\\", \\\"type\\\": \\\"StringFormatter\\\"}, {\\\"attributes\\\": {}, \\\"id\\\": \\\"178022\\\", \\\"type\\\": \\\"NumberFormatter\\\"}, {\\\"attributes\\\": {}, \\\"id\\\": \\\"177999\\\", \\\"type\\\": \\\"IntEditor\\\"}, {\\\"attributes\\\": {}, \\\"id\\\": \\\"177993\\\", \\\"type\\\": \\\"StringFormatter\\\"}, {\\\"attributes\\\": {\\\"editor\\\": {\\\"id\\\": \\\"178023\\\"}, \\\"field\\\": \\\"Actual_1\\\", \\\"formatter\\\": {\\\"id\\\": \\\"178022\\\"}, \\\"title\\\": \\\"Actual_1\\\"}, \\\"id\\\": \\\"178024\\\", \\\"type\\\": \\\"TableColumn\\\"}, {\\\"attributes\\\": {}, \\\"id\\\": \\\"177994\\\", \\\"type\\\": \\\"StringEditor\\\"}, {\\\"attributes\\\": {\\\"editor\\\": {\\\"id\\\": \\\"178013\\\"}, \\\"field\\\": \\\"number\\\", \\\"formatter\\\": {\\\"id\\\": \\\"178012\\\"}, \\\"title\\\": \\\"#\\\"}, \\\"id\\\": \\\"178014\\\", \\\"type\\\": \\\"TableColumn\\\"}, {\\\"attributes\\\": {}, \\\"id\\\": \\\"178023\\\", \\\"type\\\": \\\"IntEditor\\\"}, {\\\"attributes\\\": {\\\"editor\\\": {\\\"id\\\": \\\"177994\\\"}, \\\"field\\\": \\\"number\\\", \\\"formatter\\\": {\\\"id\\\": \\\"177993\\\"}, \\\"title\\\": \\\"#\\\"}, \\\"id\\\": \\\"177995\\\", \\\"type\\\": \\\"TableColumn\\\"}]}\",\"header\":\"{\\\"msgid\\\": \\\"178031\\\", \\\"msgtype\\\": \\\"PATCH-DOC\\\"}\",\"metadata\":\"{}\"},\"3\":{\"content\":\"{\\\"events\\\": [{\\\"attr\\\": \\\"columns\\\", \\\"kind\\\": \\\"ModelChanged\\\", \\\"model\\\": {\\\"id\\\": \\\"177214\\\"}, \\\"new\\\": [{\\\"id\\\": \\\"177956\\\"}, {\\\"id\\\": \\\"177961\\\"}, {\\\"id\\\": \\\"177966\\\"}]}, {\\\"cols\\\": null, \\\"column_source\\\": {\\\"id\\\": \\\"177197\\\"}, \\\"kind\\\": \\\"ColumnDataChanged\\\", \\\"new\\\": {\\\"Actual_0\\\": [488, 54], \\\"Actual_1\\\": [31, 23], \\\"number\\\": [\\\"Predicted_0\\\", \\\"Predicted_1\\\"]}}, {\\\"attr\\\": \\\"columns\\\", \\\"kind\\\": \\\"ModelChanged\\\", \\\"model\\\": {\\\"id\\\": \\\"177235\\\"}, \\\"new\\\": [{\\\"id\\\": \\\"177975\\\"}, {\\\"id\\\": \\\"177980\\\"}, {\\\"id\\\": \\\"177985\\\"}]}, {\\\"cols\\\": null, \\\"column_source\\\": {\\\"id\\\": \\\"177218\\\"}, \\\"kind\\\": \\\"ColumnDataChanged\\\", \\\"new\\\": {\\\"Actual_0\\\": [528, 14], \\\"Actual_1\\\": [3, 51], \\\"number\\\": [\\\"Predicted_0\\\", \\\"Predicted_1\\\"]}}, {\\\"attr\\\": \\\"text\\\", \\\"kind\\\": \\\"ModelChanged\\\", \\\"model\\\": {\\\"id\\\": \\\"177247\\\"}, \\\"new\\\": \\\"<span style=\\\\\\\"color:black;font-family:Arial;font-style:bold;font-weight:bold;font-size:12pt\\\\\\\">decision_threshold: 0.2<\\\\/span>\\\"}], \\\"references\\\": [{\\\"attributes\\\": {\\\"editor\\\": {\\\"id\\\": \\\"177974\\\"}, \\\"field\\\": \\\"number\\\", \\\"formatter\\\": {\\\"id\\\": \\\"177973\\\"}, \\\"title\\\": \\\"#\\\"}, \\\"id\\\": \\\"177975\\\", \\\"type\\\": \\\"TableColumn\\\"}, {\\\"attributes\\\": {}, \\\"id\\\": \\\"177983\\\", \\\"type\\\": \\\"NumberFormatter\\\"}, {\\\"attributes\\\": {}, \\\"id\\\": \\\"177965\\\", \\\"type\\\": \\\"IntEditor\\\"}, {\\\"attributes\\\": {}, \\\"id\\\": \\\"177959\\\", \\\"type\\\": \\\"NumberFormatter\\\"}, {\\\"attributes\\\": {}, \\\"id\\\": \\\"177984\\\", \\\"type\\\": \\\"IntEditor\\\"}, {\\\"attributes\\\": {}, \\\"id\\\": \\\"177955\\\", \\\"type\\\": \\\"StringEditor\\\"}, {\\\"attributes\\\": {}, \\\"id\\\": \\\"177973\\\", \\\"type\\\": \\\"StringFormatter\\\"}, {\\\"attributes\\\": {}, \\\"id\\\": \\\"177978\\\", \\\"type\\\": \\\"NumberFormatter\\\"}, {\\\"attributes\\\": {}, \\\"id\\\": \\\"177979\\\", \\\"type\\\": \\\"IntEditor\\\"}, {\\\"attributes\\\": {\\\"editor\\\": {\\\"id\\\": \\\"177960\\\"}, \\\"field\\\": \\\"Actual_0\\\", \\\"formatter\\\": {\\\"id\\\": \\\"177959\\\"}, \\\"title\\\": \\\"Actual_0\\\"}, \\\"id\\\": \\\"177961\\\", \\\"type\\\": \\\"TableColumn\\\"}, {\\\"attributes\\\": {\\\"editor\\\": {\\\"id\\\": \\\"177984\\\"}, \\\"field\\\": \\\"Actual_1\\\", \\\"formatter\\\": {\\\"id\\\": \\\"177983\\\"}, \\\"title\\\": \\\"Actual_1\\\"}, \\\"id\\\": \\\"177985\\\", \\\"type\\\": \\\"TableColumn\\\"}, {\\\"attributes\\\": {}, \\\"id\\\": \\\"177974\\\", \\\"type\\\": \\\"StringEditor\\\"}, {\\\"attributes\\\": {\\\"editor\\\": {\\\"id\\\": \\\"177955\\\"}, \\\"field\\\": \\\"number\\\", \\\"formatter\\\": {\\\"id\\\": \\\"177954\\\"}, \\\"title\\\": \\\"#\\\"}, \\\"id\\\": \\\"177956\\\", \\\"type\\\": \\\"TableColumn\\\"}, {\\\"attributes\\\": {}, \\\"id\\\": \\\"177960\\\", \\\"type\\\": \\\"IntEditor\\\"}, {\\\"attributes\\\": {}, \\\"id\\\": \\\"177964\\\", \\\"type\\\": \\\"NumberFormatter\\\"}, {\\\"attributes\\\": {\\\"editor\\\": {\\\"id\\\": \\\"177979\\\"}, \\\"field\\\": \\\"Actual_0\\\", \\\"formatter\\\": {\\\"id\\\": \\\"177978\\\"}, \\\"title\\\": \\\"Actual_0\\\"}, \\\"id\\\": \\\"177980\\\", \\\"type\\\": \\\"TableColumn\\\"}, {\\\"attributes\\\": {}, \\\"id\\\": \\\"177954\\\", \\\"type\\\": \\\"StringFormatter\\\"}, {\\\"attributes\\\": {\\\"editor\\\": {\\\"id\\\": \\\"177965\\\"}, \\\"field\\\": \\\"Actual_1\\\", \\\"formatter\\\": {\\\"id\\\": \\\"177964\\\"}, \\\"title\\\": \\\"Actual_1\\\"}, \\\"id\\\": \\\"177966\\\", \\\"type\\\": \\\"TableColumn\\\"}]}\",\"header\":\"{\\\"msgid\\\": \\\"177992\\\", \\\"msgtype\\\": \\\"PATCH-DOC\\\"}\",\"metadata\":\"{}\"},\"4\":{\"content\":\"{\\\"events\\\": [{\\\"attr\\\": \\\"columns\\\", \\\"kind\\\": \\\"ModelChanged\\\", \\\"model\\\": {\\\"id\\\": \\\"177214\\\"}, \\\"new\\\": [{\\\"id\\\": \\\"177917\\\"}, {\\\"id\\\": \\\"177922\\\"}, {\\\"id\\\": \\\"177927\\\"}]}, {\\\"cols\\\": null, \\\"column_source\\\": {\\\"id\\\": \\\"177197\\\"}, \\\"kind\\\": \\\"ColumnDataChanged\\\", \\\"new\\\": {\\\"Actual_0\\\": [515, 27], \\\"Actual_1\\\": [40, 14], \\\"number\\\": [\\\"Predicted_0\\\", \\\"Predicted_1\\\"]}}, {\\\"attr\\\": \\\"columns\\\", \\\"kind\\\": \\\"ModelChanged\\\", \\\"model\\\": {\\\"id\\\": \\\"177235\\\"}, \\\"new\\\": [{\\\"id\\\": \\\"177936\\\"}, {\\\"id\\\": \\\"177941\\\"}, {\\\"id\\\": \\\"177946\\\"}]}, {\\\"cols\\\": null, \\\"column_source\\\": {\\\"id\\\": \\\"177218\\\"}, \\\"kind\\\": \\\"ColumnDataChanged\\\", \\\"new\\\": {\\\"Actual_0\\\": [533, 9], \\\"Actual_1\\\": [8, 46], \\\"number\\\": [\\\"Predicted_0\\\", \\\"Predicted_1\\\"]}}, {\\\"attr\\\": \\\"text\\\", \\\"kind\\\": \\\"ModelChanged\\\", \\\"model\\\": {\\\"id\\\": \\\"177247\\\"}, \\\"new\\\": \\\"<span style=\\\\\\\"color:black;font-family:Arial;font-style:bold;font-weight:bold;font-size:12pt\\\\\\\">decision_threshold: 0.25<\\\\/span>\\\"}], \\\"references\\\": [{\\\"attributes\\\": {}, \\\"id\\\": \\\"177926\\\", \\\"type\\\": \\\"IntEditor\\\"}, {\\\"attributes\\\": {}, \\\"id\\\": \\\"177939\\\", \\\"type\\\": \\\"NumberFormatter\\\"}, {\\\"attributes\\\": {\\\"editor\\\": {\\\"id\\\": \\\"177935\\\"}, \\\"field\\\": \\\"number\\\", \\\"formatter\\\": {\\\"id\\\": \\\"177934\\\"}, \\\"title\\\": \\\"#\\\"}, \\\"id\\\": \\\"177936\\\", \\\"type\\\": \\\"TableColumn\\\"}, {\\\"attributes\\\": {}, \\\"id\\\": \\\"177935\\\", \\\"type\\\": \\\"StringEditor\\\"}, {\\\"attributes\\\": {\\\"editor\\\": {\\\"id\\\": \\\"177945\\\"}, \\\"field\\\": \\\"Actual_1\\\", \\\"formatter\\\": {\\\"id\\\": \\\"177944\\\"}, \\\"title\\\": \\\"Actual_1\\\"}, \\\"id\\\": \\\"177946\\\", \\\"type\\\": \\\"TableColumn\\\"}, {\\\"attributes\\\": {}, \\\"id\\\": \\\"177925\\\", \\\"type\\\": \\\"NumberFormatter\\\"}, {\\\"attributes\\\": {\\\"editor\\\": {\\\"id\\\": \\\"177940\\\"}, \\\"field\\\": \\\"Actual_0\\\", \\\"formatter\\\": {\\\"id\\\": \\\"177939\\\"}, \\\"title\\\": \\\"Actual_0\\\"}, \\\"id\\\": \\\"177941\\\", \\\"type\\\": \\\"TableColumn\\\"}, {\\\"attributes\\\": {}, \\\"id\\\": \\\"177945\\\", \\\"type\\\": \\\"IntEditor\\\"}, {\\\"attributes\\\": {\\\"editor\\\": {\\\"id\\\": \\\"177916\\\"}, \\\"field\\\": \\\"number\\\", \\\"formatter\\\": {\\\"id\\\": \\\"177915\\\"}, \\\"title\\\": \\\"#\\\"}, \\\"id\\\": \\\"177917\\\", \\\"type\\\": \\\"TableColumn\\\"}, {\\\"attributes\\\": {}, \\\"id\\\": \\\"177915\\\", \\\"type\\\": \\\"StringFormatter\\\"}, {\\\"attributes\\\": {}, \\\"id\\\": \\\"177940\\\", \\\"type\\\": \\\"IntEditor\\\"}, {\\\"attributes\\\": {}, \\\"id\\\": \\\"177916\\\", \\\"type\\\": \\\"StringEditor\\\"}, {\\\"attributes\\\": {}, \\\"id\\\": \\\"177921\\\", \\\"type\\\": \\\"IntEditor\\\"}, {\\\"attributes\\\": {}, \\\"id\\\": \\\"177920\\\", \\\"type\\\": \\\"NumberFormatter\\\"}, {\\\"attributes\\\": {\\\"editor\\\": {\\\"id\\\": \\\"177926\\\"}, \\\"field\\\": \\\"Actual_1\\\", \\\"formatter\\\": {\\\"id\\\": \\\"177925\\\"}, \\\"title\\\": \\\"Actual_1\\\"}, \\\"id\\\": \\\"177927\\\", \\\"type\\\": \\\"TableColumn\\\"}, {\\\"attributes\\\": {}, \\\"id\\\": \\\"177934\\\", \\\"type\\\": \\\"StringFormatter\\\"}, {\\\"attributes\\\": {}, \\\"id\\\": \\\"177944\\\", \\\"type\\\": \\\"NumberFormatter\\\"}, {\\\"attributes\\\": {\\\"editor\\\": {\\\"id\\\": \\\"177921\\\"}, \\\"field\\\": \\\"Actual_0\\\", \\\"formatter\\\": {\\\"id\\\": \\\"177920\\\"}, \\\"title\\\": \\\"Actual_0\\\"}, \\\"id\\\": \\\"177922\\\", \\\"type\\\": \\\"TableColumn\\\"}]}\",\"header\":\"{\\\"msgid\\\": \\\"177953\\\", \\\"msgtype\\\": \\\"PATCH-DOC\\\"}\",\"metadata\":\"{}\"},\"5\":{\"content\":\"{\\\"events\\\": [{\\\"attr\\\": \\\"columns\\\", \\\"kind\\\": \\\"ModelChanged\\\", \\\"model\\\": {\\\"id\\\": \\\"177214\\\"}, \\\"new\\\": [{\\\"id\\\": \\\"177878\\\"}, {\\\"id\\\": \\\"177883\\\"}, {\\\"id\\\": \\\"177888\\\"}]}, {\\\"cols\\\": null, \\\"column_source\\\": {\\\"id\\\": \\\"177197\\\"}, \\\"kind\\\": \\\"ColumnDataChanged\\\", \\\"new\\\": {\\\"Actual_0\\\": [524, 18], \\\"Actual_1\\\": [44, 10], \\\"number\\\": [\\\"Predicted_0\\\", \\\"Predicted_1\\\"]}}, {\\\"attr\\\": \\\"columns\\\", \\\"kind\\\": \\\"ModelChanged\\\", \\\"model\\\": {\\\"id\\\": \\\"177235\\\"}, \\\"new\\\": [{\\\"id\\\": \\\"177897\\\"}, {\\\"id\\\": \\\"177902\\\"}, {\\\"id\\\": \\\"177907\\\"}]}, {\\\"cols\\\": null, \\\"column_source\\\": {\\\"id\\\": \\\"177218\\\"}, \\\"kind\\\": \\\"ColumnDataChanged\\\", \\\"new\\\": {\\\"Actual_0\\\": [539, 3], \\\"Actual_1\\\": [14, 40], \\\"number\\\": [\\\"Predicted_0\\\", \\\"Predicted_1\\\"]}}, {\\\"attr\\\": \\\"text\\\", \\\"kind\\\": \\\"ModelChanged\\\", \\\"model\\\": {\\\"id\\\": \\\"177247\\\"}, \\\"new\\\": \\\"<span style=\\\\\\\"color:black;font-family:Arial;font-style:bold;font-weight:bold;font-size:12pt\\\\\\\">decision_threshold: 0.3<\\\\/span>\\\"}], \\\"references\\\": [{\\\"attributes\\\": {}, \\\"id\\\": \\\"177881\\\", \\\"type\\\": \\\"NumberFormatter\\\"}, {\\\"attributes\\\": {\\\"editor\\\": {\\\"id\\\": \\\"177887\\\"}, \\\"field\\\": \\\"Actual_1\\\", \\\"formatter\\\": {\\\"id\\\": \\\"177886\\\"}, \\\"title\\\": \\\"Actual_1\\\"}, \\\"id\\\": \\\"177888\\\", \\\"type\\\": \\\"TableColumn\\\"}, {\\\"attributes\\\": {\\\"editor\\\": {\\\"id\\\": \\\"177882\\\"}, \\\"field\\\": \\\"Actual_0\\\", \\\"formatter\\\": {\\\"id\\\": \\\"177881\\\"}, \\\"title\\\": \\\"Actual_0\\\"}, \\\"id\\\": \\\"177883\\\", \\\"type\\\": \\\"TableColumn\\\"}, {\\\"attributes\\\": {}, \\\"id\\\": \\\"177901\\\", \\\"type\\\": \\\"IntEditor\\\"}, {\\\"attributes\\\": {}, \\\"id\\\": \\\"177886\\\", \\\"type\\\": \\\"NumberFormatter\\\"}, {\\\"attributes\\\": {\\\"editor\\\": {\\\"id\\\": \\\"177896\\\"}, \\\"field\\\": \\\"number\\\", \\\"formatter\\\": {\\\"id\\\": \\\"177895\\\"}, \\\"title\\\": \\\"#\\\"}, \\\"id\\\": \\\"177897\\\", \\\"type\\\": \\\"TableColumn\\\"}, {\\\"attributes\\\": {}, \\\"id\\\": \\\"177887\\\", \\\"type\\\": \\\"IntEditor\\\"}, {\\\"attributes\\\": {}, \\\"id\\\": \\\"177895\\\", \\\"type\\\": \\\"StringFormatter\\\"}, {\\\"attributes\\\": {}, \\\"id\\\": \\\"177877\\\", \\\"type\\\": \\\"StringEditor\\\"}, {\\\"attributes\\\": {}, \\\"id\\\": \\\"177876\\\", \\\"type\\\": \\\"StringFormatter\\\"}, {\\\"attributes\\\": {}, \\\"id\\\": \\\"177900\\\", \\\"type\\\": \\\"NumberFormatter\\\"}, {\\\"attributes\\\": {\\\"editor\\\": {\\\"id\\\": \\\"177906\\\"}, \\\"field\\\": \\\"Actual_1\\\", \\\"formatter\\\": {\\\"id\\\": \\\"177905\\\"}, \\\"title\\\": \\\"Actual_1\\\"}, \\\"id\\\": \\\"177907\\\", \\\"type\\\": \\\"TableColumn\\\"}, {\\\"attributes\\\": {}, \\\"id\\\": \\\"177882\\\", \\\"type\\\": \\\"IntEditor\\\"}, {\\\"attributes\\\": {}, \\\"id\\\": \\\"177896\\\", \\\"type\\\": \\\"StringEditor\\\"}, {\\\"attributes\\\": {\\\"editor\\\": {\\\"id\\\": \\\"177877\\\"}, \\\"field\\\": \\\"number\\\", \\\"formatter\\\": {\\\"id\\\": \\\"177876\\\"}, \\\"title\\\": \\\"#\\\"}, \\\"id\\\": \\\"177878\\\", \\\"type\\\": \\\"TableColumn\\\"}, {\\\"attributes\\\": {\\\"editor\\\": {\\\"id\\\": \\\"177901\\\"}, \\\"field\\\": \\\"Actual_0\\\", \\\"formatter\\\": {\\\"id\\\": \\\"177900\\\"}, \\\"title\\\": \\\"Actual_0\\\"}, \\\"id\\\": \\\"177902\\\", \\\"type\\\": \\\"TableColumn\\\"}, {\\\"attributes\\\": {}, \\\"id\\\": \\\"177906\\\", \\\"type\\\": \\\"IntEditor\\\"}, {\\\"attributes\\\": {}, \\\"id\\\": \\\"177905\\\", \\\"type\\\": \\\"NumberFormatter\\\"}]}\",\"header\":\"{\\\"msgid\\\": \\\"177914\\\", \\\"msgtype\\\": \\\"PATCH-DOC\\\"}\",\"metadata\":\"{}\"},\"6\":{\"content\":\"{\\\"events\\\": [{\\\"attr\\\": \\\"columns\\\", \\\"kind\\\": \\\"ModelChanged\\\", \\\"model\\\": {\\\"id\\\": \\\"177214\\\"}, \\\"new\\\": [{\\\"id\\\": \\\"177839\\\"}, {\\\"id\\\": \\\"177844\\\"}, {\\\"id\\\": \\\"177849\\\"}]}, {\\\"cols\\\": null, \\\"column_source\\\": {\\\"id\\\": \\\"177197\\\"}, \\\"kind\\\": \\\"ColumnDataChanged\\\", \\\"new\\\": {\\\"Actual_0\\\": [534, 8], \\\"Actual_1\\\": [46, 8], \\\"number\\\": [\\\"Predicted_0\\\", \\\"Predicted_1\\\"]}}, {\\\"attr\\\": \\\"columns\\\", \\\"kind\\\": \\\"ModelChanged\\\", \\\"model\\\": {\\\"id\\\": \\\"177235\\\"}, \\\"new\\\": [{\\\"id\\\": \\\"177858\\\"}, {\\\"id\\\": \\\"177863\\\"}, {\\\"id\\\": \\\"177868\\\"}]}, {\\\"cols\\\": null, \\\"column_source\\\": {\\\"id\\\": \\\"177218\\\"}, \\\"kind\\\": \\\"ColumnDataChanged\\\", \\\"new\\\": {\\\"Actual_0\\\": [541, 1], \\\"Actual_1\\\": [19, 35], \\\"number\\\": [\\\"Predicted_0\\\", \\\"Predicted_1\\\"]}}, {\\\"attr\\\": \\\"text\\\", \\\"kind\\\": \\\"ModelChanged\\\", \\\"model\\\": {\\\"id\\\": \\\"177247\\\"}, \\\"new\\\": \\\"<span style=\\\\\\\"color:black;font-family:Arial;font-style:bold;font-weight:bold;font-size:12pt\\\\\\\">decision_threshold: 0.35<\\\\/span>\\\"}], \\\"references\\\": [{\\\"attributes\\\": {\\\"editor\\\": {\\\"id\\\": \\\"177862\\\"}, \\\"field\\\": \\\"Actual_0\\\", \\\"formatter\\\": {\\\"id\\\": \\\"177861\\\"}, \\\"title\\\": \\\"Actual_0\\\"}, \\\"id\\\": \\\"177863\\\", \\\"type\\\": \\\"TableColumn\\\"}, {\\\"attributes\\\": {}, \\\"id\\\": \\\"177837\\\", \\\"type\\\": \\\"StringFormatter\\\"}, {\\\"attributes\\\": {\\\"editor\\\": {\\\"id\\\": \\\"177843\\\"}, \\\"field\\\": \\\"Actual_0\\\", \\\"formatter\\\": {\\\"id\\\": \\\"177842\\\"}, \\\"title\\\": \\\"Actual_0\\\"}, \\\"id\\\": \\\"177844\\\", \\\"type\\\": \\\"TableColumn\\\"}, {\\\"attributes\\\": {}, \\\"id\\\": \\\"177847\\\", \\\"type\\\": \\\"NumberFormatter\\\"}, {\\\"attributes\\\": {}, \\\"id\\\": \\\"177861\\\", \\\"type\\\": \\\"NumberFormatter\\\"}, {\\\"attributes\\\": {}, \\\"id\\\": \\\"177848\\\", \\\"type\\\": \\\"IntEditor\\\"}, {\\\"attributes\\\": {\\\"editor\\\": {\\\"id\\\": \\\"177857\\\"}, \\\"field\\\": \\\"number\\\", \\\"formatter\\\": {\\\"id\\\": \\\"177856\\\"}, \\\"title\\\": \\\"#\\\"}, \\\"id\\\": \\\"177858\\\", \\\"type\\\": \\\"TableColumn\\\"}, {\\\"attributes\\\": {}, \\\"id\\\": \\\"177867\\\", \\\"type\\\": \\\"IntEditor\\\"}, {\\\"attributes\\\": {}, \\\"id\\\": \\\"177856\\\", \\\"type\\\": \\\"StringFormatter\\\"}, {\\\"attributes\\\": {}, \\\"id\\\": \\\"177838\\\", \\\"type\\\": \\\"StringEditor\\\"}, {\\\"attributes\\\": {}, \\\"id\\\": \\\"177843\\\", \\\"type\\\": \\\"IntEditor\\\"}, {\\\"attributes\\\": {\\\"editor\\\": {\\\"id\\\": \\\"177848\\\"}, \\\"field\\\": \\\"Actual_1\\\", \\\"formatter\\\": {\\\"id\\\": \\\"177847\\\"}, \\\"title\\\": \\\"Actual_1\\\"}, \\\"id\\\": \\\"177849\\\", \\\"type\\\": \\\"TableColumn\\\"}, {\\\"attributes\\\": {}, \\\"id\\\": \\\"177842\\\", \\\"type\\\": \\\"NumberFormatter\\\"}, {\\\"attributes\\\": {\\\"editor\\\": {\\\"id\\\": \\\"177867\\\"}, \\\"field\\\": \\\"Actual_1\\\", \\\"formatter\\\": {\\\"id\\\": \\\"177866\\\"}, \\\"title\\\": \\\"Actual_1\\\"}, \\\"id\\\": \\\"177868\\\", \\\"type\\\": \\\"TableColumn\\\"}, {\\\"attributes\\\": {\\\"editor\\\": {\\\"id\\\": \\\"177838\\\"}, \\\"field\\\": \\\"number\\\", \\\"formatter\\\": {\\\"id\\\": \\\"177837\\\"}, \\\"title\\\": \\\"#\\\"}, \\\"id\\\": \\\"177839\\\", \\\"type\\\": \\\"TableColumn\\\"}, {\\\"attributes\\\": {}, \\\"id\\\": \\\"177857\\\", \\\"type\\\": \\\"StringEditor\\\"}, {\\\"attributes\\\": {}, \\\"id\\\": \\\"177866\\\", \\\"type\\\": \\\"NumberFormatter\\\"}, {\\\"attributes\\\": {}, \\\"id\\\": \\\"177862\\\", \\\"type\\\": \\\"IntEditor\\\"}]}\",\"header\":\"{\\\"msgid\\\": \\\"177875\\\", \\\"msgtype\\\": \\\"PATCH-DOC\\\"}\",\"metadata\":\"{}\"},\"7\":{\"content\":\"{\\\"events\\\": [{\\\"attr\\\": \\\"columns\\\", \\\"kind\\\": \\\"ModelChanged\\\", \\\"model\\\": {\\\"id\\\": \\\"177214\\\"}, \\\"new\\\": [{\\\"id\\\": \\\"177800\\\"}, {\\\"id\\\": \\\"177805\\\"}, {\\\"id\\\": \\\"177810\\\"}]}, {\\\"cols\\\": null, \\\"column_source\\\": {\\\"id\\\": \\\"177197\\\"}, \\\"kind\\\": \\\"ColumnDataChanged\\\", \\\"new\\\": {\\\"Actual_0\\\": [539, 3], \\\"Actual_1\\\": [49, 5], \\\"number\\\": [\\\"Predicted_0\\\", \\\"Predicted_1\\\"]}}, {\\\"attr\\\": \\\"columns\\\", \\\"kind\\\": \\\"ModelChanged\\\", \\\"model\\\": {\\\"id\\\": \\\"177235\\\"}, \\\"new\\\": [{\\\"id\\\": \\\"177819\\\"}, {\\\"id\\\": \\\"177824\\\"}, {\\\"id\\\": \\\"177829\\\"}]}, {\\\"cols\\\": null, \\\"column_source\\\": {\\\"id\\\": \\\"177218\\\"}, \\\"kind\\\": \\\"ColumnDataChanged\\\", \\\"new\\\": {\\\"Actual_0\\\": [541, 1], \\\"Actual_1\\\": [26, 28], \\\"number\\\": [\\\"Predicted_0\\\", \\\"Predicted_1\\\"]}}, {\\\"attr\\\": \\\"text\\\", \\\"kind\\\": \\\"ModelChanged\\\", \\\"model\\\": {\\\"id\\\": \\\"177247\\\"}, \\\"new\\\": \\\"<span style=\\\\\\\"color:black;font-family:Arial;font-style:bold;font-weight:bold;font-size:12pt\\\\\\\">decision_threshold: 0.4<\\\\/span>\\\"}], \\\"references\\\": [{\\\"attributes\\\": {}, \\\"id\\\": \\\"177809\\\", \\\"type\\\": \\\"IntEditor\\\"}, {\\\"attributes\\\": {}, \\\"id\\\": \\\"177799\\\", \\\"type\\\": \\\"StringEditor\\\"}, {\\\"attributes\\\": {\\\"editor\\\": {\\\"id\\\": \\\"177828\\\"}, \\\"field\\\": \\\"Actual_1\\\", \\\"formatter\\\": {\\\"id\\\": \\\"177827\\\"}, \\\"title\\\": \\\"Actual_1\\\"}, \\\"id\\\": \\\"177829\\\", \\\"type\\\": \\\"TableColumn\\\"}, {\\\"attributes\\\": {}, \\\"id\\\": \\\"177808\\\", \\\"type\\\": \\\"NumberFormatter\\\"}, {\\\"attributes\\\": {\\\"editor\\\": {\\\"id\\\": \\\"177818\\\"}, \\\"field\\\": \\\"number\\\", \\\"formatter\\\": {\\\"id\\\": \\\"177817\\\"}, \\\"title\\\": \\\"#\\\"}, \\\"id\\\": \\\"177819\\\", \\\"type\\\": \\\"TableColumn\\\"}, {\\\"attributes\\\": {}, \\\"id\\\": \\\"177822\\\", \\\"type\\\": \\\"NumberFormatter\\\"}, {\\\"attributes\\\": {\\\"editor\\\": {\\\"id\\\": \\\"177823\\\"}, \\\"field\\\": \\\"Actual_0\\\", \\\"formatter\\\": {\\\"id\\\": \\\"177822\\\"}, \\\"title\\\": \\\"Actual_0\\\"}, \\\"id\\\": \\\"177824\\\", \\\"type\\\": \\\"TableColumn\\\"}, {\\\"attributes\\\": {}, \\\"id\\\": \\\"177827\\\", \\\"type\\\": \\\"NumberFormatter\\\"}, {\\\"attributes\\\": {}, \\\"id\\\": \\\"177823\\\", \\\"type\\\": \\\"IntEditor\\\"}, {\\\"attributes\\\": {}, \\\"id\\\": \\\"177828\\\", \\\"type\\\": \\\"IntEditor\\\"}, {\\\"attributes\\\": {\\\"editor\\\": {\\\"id\\\": \\\"177809\\\"}, \\\"field\\\": \\\"Actual_1\\\", \\\"formatter\\\": {\\\"id\\\": \\\"177808\\\"}, \\\"title\\\": \\\"Actual_1\\\"}, \\\"id\\\": \\\"177810\\\", \\\"type\\\": \\\"TableColumn\\\"}, {\\\"attributes\\\": {}, \\\"id\\\": \\\"177818\\\", \\\"type\\\": \\\"StringEditor\\\"}, {\\\"attributes\\\": {}, \\\"id\\\": \\\"177817\\\", \\\"type\\\": \\\"StringFormatter\\\"}, {\\\"attributes\\\": {}, \\\"id\\\": \\\"177804\\\", \\\"type\\\": \\\"IntEditor\\\"}, {\\\"attributes\\\": {}, \\\"id\\\": \\\"177798\\\", \\\"type\\\": \\\"StringFormatter\\\"}, {\\\"attributes\\\": {}, \\\"id\\\": \\\"177803\\\", \\\"type\\\": \\\"NumberFormatter\\\"}, {\\\"attributes\\\": {\\\"editor\\\": {\\\"id\\\": \\\"177799\\\"}, \\\"field\\\": \\\"number\\\", \\\"formatter\\\": {\\\"id\\\": \\\"177798\\\"}, \\\"title\\\": \\\"#\\\"}, \\\"id\\\": \\\"177800\\\", \\\"type\\\": \\\"TableColumn\\\"}, {\\\"attributes\\\": {\\\"editor\\\": {\\\"id\\\": \\\"177804\\\"}, \\\"field\\\": \\\"Actual_0\\\", \\\"formatter\\\": {\\\"id\\\": \\\"177803\\\"}, \\\"title\\\": \\\"Actual_0\\\"}, \\\"id\\\": \\\"177805\\\", \\\"type\\\": \\\"TableColumn\\\"}]}\",\"header\":\"{\\\"msgid\\\": \\\"177836\\\", \\\"msgtype\\\": \\\"PATCH-DOC\\\"}\",\"metadata\":\"{}\"},\"8\":{\"content\":\"{\\\"events\\\": [{\\\"attr\\\": \\\"columns\\\", \\\"kind\\\": \\\"ModelChanged\\\", \\\"model\\\": {\\\"id\\\": \\\"177214\\\"}, \\\"new\\\": [{\\\"id\\\": \\\"177761\\\"}, {\\\"id\\\": \\\"177766\\\"}, {\\\"id\\\": \\\"177771\\\"}]}, {\\\"cols\\\": null, \\\"column_source\\\": {\\\"id\\\": \\\"177197\\\"}, \\\"kind\\\": \\\"ColumnDataChanged\\\", \\\"new\\\": {\\\"Actual_0\\\": [541, 1], \\\"Actual_1\\\": [51, 3], \\\"number\\\": [\\\"Predicted_0\\\", \\\"Predicted_1\\\"]}}, {\\\"attr\\\": \\\"columns\\\", \\\"kind\\\": \\\"ModelChanged\\\", \\\"model\\\": {\\\"id\\\": \\\"177235\\\"}, \\\"new\\\": [{\\\"id\\\": \\\"177780\\\"}, {\\\"id\\\": \\\"177785\\\"}, {\\\"id\\\": \\\"177790\\\"}]}, {\\\"cols\\\": null, \\\"column_source\\\": {\\\"id\\\": \\\"177218\\\"}, \\\"kind\\\": \\\"ColumnDataChanged\\\", \\\"new\\\": {\\\"Actual_0\\\": [541, 1], \\\"Actual_1\\\": [29, 25], \\\"number\\\": [\\\"Predicted_0\\\", \\\"Predicted_1\\\"]}}, {\\\"attr\\\": \\\"text\\\", \\\"kind\\\": \\\"ModelChanged\\\", \\\"model\\\": {\\\"id\\\": \\\"177247\\\"}, \\\"new\\\": \\\"<span style=\\\\\\\"color:black;font-family:Arial;font-style:bold;font-weight:bold;font-size:12pt\\\\\\\">decision_threshold: 0.45<\\\\/span>\\\"}], \\\"references\\\": [{\\\"attributes\\\": {}, \\\"id\\\": \\\"177789\\\", \\\"type\\\": \\\"IntEditor\\\"}, {\\\"attributes\\\": {\\\"editor\\\": {\\\"id\\\": \\\"177760\\\"}, \\\"field\\\": \\\"number\\\", \\\"formatter\\\": {\\\"id\\\": \\\"177759\\\"}, \\\"title\\\": \\\"#\\\"}, \\\"id\\\": \\\"177761\\\", \\\"type\\\": \\\"TableColumn\\\"}, {\\\"attributes\\\": {}, \\\"id\\\": \\\"177779\\\", \\\"type\\\": \\\"StringEditor\\\"}, {\\\"attributes\\\": {}, \\\"id\\\": \\\"177778\\\", \\\"type\\\": \\\"StringFormatter\\\"}, {\\\"attributes\\\": {}, \\\"id\\\": \\\"177759\\\", \\\"type\\\": \\\"StringFormatter\\\"}, {\\\"attributes\\\": {}, \\\"id\\\": \\\"177784\\\", \\\"type\\\": \\\"IntEditor\\\"}, {\\\"attributes\\\": {\\\"editor\\\": {\\\"id\\\": \\\"177770\\\"}, \\\"field\\\": \\\"Actual_1\\\", \\\"formatter\\\": {\\\"id\\\": \\\"177769\\\"}, \\\"title\\\": \\\"Actual_1\\\"}, \\\"id\\\": \\\"177771\\\", \\\"type\\\": \\\"TableColumn\\\"}, {\\\"attributes\\\": {}, \\\"id\\\": \\\"177783\\\", \\\"type\\\": \\\"NumberFormatter\\\"}, {\\\"attributes\\\": {\\\"editor\\\": {\\\"id\\\": \\\"177779\\\"}, \\\"field\\\": \\\"number\\\", \\\"formatter\\\": {\\\"id\\\": \\\"177778\\\"}, \\\"title\\\": \\\"#\\\"}, \\\"id\\\": \\\"177780\\\", \\\"type\\\": \\\"TableColumn\\\"}, {\\\"attributes\\\": {}, \\\"id\\\": \\\"177769\\\", \\\"type\\\": \\\"NumberFormatter\\\"}, {\\\"attributes\\\": {}, \\\"id\\\": \\\"177760\\\", \\\"type\\\": \\\"StringEditor\\\"}, {\\\"attributes\\\": {\\\"editor\\\": {\\\"id\\\": \\\"177784\\\"}, \\\"field\\\": \\\"Actual_0\\\", \\\"formatter\\\": {\\\"id\\\": \\\"177783\\\"}, \\\"title\\\": \\\"Actual_0\\\"}, \\\"id\\\": \\\"177785\\\", \\\"type\\\": \\\"TableColumn\\\"}, {\\\"attributes\\\": {}, \\\"id\\\": \\\"177765\\\", \\\"type\\\": \\\"IntEditor\\\"}, {\\\"attributes\\\": {}, \\\"id\\\": \\\"177764\\\", \\\"type\\\": \\\"NumberFormatter\\\"}, {\\\"attributes\\\": {\\\"editor\\\": {\\\"id\\\": \\\"177765\\\"}, \\\"field\\\": \\\"Actual_0\\\", \\\"formatter\\\": {\\\"id\\\": \\\"177764\\\"}, \\\"title\\\": \\\"Actual_0\\\"}, \\\"id\\\": \\\"177766\\\", \\\"type\\\": \\\"TableColumn\\\"}, {\\\"attributes\\\": {}, \\\"id\\\": \\\"177770\\\", \\\"type\\\": \\\"IntEditor\\\"}, {\\\"attributes\\\": {}, \\\"id\\\": \\\"177788\\\", \\\"type\\\": \\\"NumberFormatter\\\"}, {\\\"attributes\\\": {\\\"editor\\\": {\\\"id\\\": \\\"177789\\\"}, \\\"field\\\": \\\"Actual_1\\\", \\\"formatter\\\": {\\\"id\\\": \\\"177788\\\"}, \\\"title\\\": \\\"Actual_1\\\"}, \\\"id\\\": \\\"177790\\\", \\\"type\\\": \\\"TableColumn\\\"}]}\",\"header\":\"{\\\"msgid\\\": \\\"177797\\\", \\\"msgtype\\\": \\\"PATCH-DOC\\\"}\",\"metadata\":\"{}\"},\"9\":{\"content\":\"{\\\"events\\\": [{\\\"attr\\\": \\\"columns\\\", \\\"kind\\\": \\\"ModelChanged\\\", \\\"model\\\": {\\\"id\\\": \\\"177214\\\"}, \\\"new\\\": [{\\\"id\\\": \\\"177722\\\"}, {\\\"id\\\": \\\"177727\\\"}, {\\\"id\\\": \\\"177732\\\"}]}, {\\\"cols\\\": null, \\\"column_source\\\": {\\\"id\\\": \\\"177197\\\"}, \\\"kind\\\": \\\"ColumnDataChanged\\\", \\\"new\\\": {\\\"Actual_0\\\": [542, 0], \\\"Actual_1\\\": [51, 3], \\\"number\\\": [\\\"Predicted_0\\\", \\\"Predicted_1\\\"]}}, {\\\"attr\\\": \\\"columns\\\", \\\"kind\\\": \\\"ModelChanged\\\", \\\"model\\\": {\\\"id\\\": \\\"177235\\\"}, \\\"new\\\": [{\\\"id\\\": \\\"177741\\\"}, {\\\"id\\\": \\\"177746\\\"}, {\\\"id\\\": \\\"177751\\\"}]}, {\\\"cols\\\": null, \\\"column_source\\\": {\\\"id\\\": \\\"177218\\\"}, \\\"kind\\\": \\\"ColumnDataChanged\\\", \\\"new\\\": {\\\"Actual_0\\\": [541, 1], \\\"Actual_1\\\": [33, 21], \\\"number\\\": [\\\"Predicted_0\\\", \\\"Predicted_1\\\"]}}, {\\\"attr\\\": \\\"text\\\", \\\"kind\\\": \\\"ModelChanged\\\", \\\"model\\\": {\\\"id\\\": \\\"177247\\\"}, \\\"new\\\": \\\"<span style=\\\\\\\"color:black;font-family:Arial;font-style:bold;font-weight:bold;font-size:12pt\\\\\\\">decision_threshold: 0.5<\\\\/span>\\\"}], \\\"references\\\": [{\\\"attributes\\\": {}, \\\"id\\\": \\\"177726\\\", \\\"type\\\": \\\"IntEditor\\\"}, {\\\"attributes\\\": {}, \\\"id\\\": \\\"177730\\\", \\\"type\\\": \\\"NumberFormatter\\\"}, {\\\"attributes\\\": {\\\"editor\\\": {\\\"id\\\": \\\"177750\\\"}, \\\"field\\\": \\\"Actual_1\\\", \\\"formatter\\\": {\\\"id\\\": \\\"177749\\\"}, \\\"title\\\": \\\"Actual_1\\\"}, \\\"id\\\": \\\"177751\\\", \\\"type\\\": \\\"TableColumn\\\"}, {\\\"attributes\\\": {\\\"editor\\\": {\\\"id\\\": \\\"177745\\\"}, \\\"field\\\": \\\"Actual_0\\\", \\\"formatter\\\": {\\\"id\\\": \\\"177744\\\"}, \\\"title\\\": \\\"Actual_0\\\"}, \\\"id\\\": \\\"177746\\\", \\\"type\\\": \\\"TableColumn\\\"}, {\\\"attributes\\\": {}, \\\"id\\\": \\\"177749\\\", \\\"type\\\": \\\"NumberFormatter\\\"}, {\\\"attributes\\\": {\\\"editor\\\": {\\\"id\\\": \\\"177740\\\"}, \\\"field\\\": \\\"number\\\", \\\"formatter\\\": {\\\"id\\\": \\\"177739\\\"}, \\\"title\\\": \\\"#\\\"}, \\\"id\\\": \\\"177741\\\", \\\"type\\\": \\\"TableColumn\\\"}, {\\\"attributes\\\": {}, \\\"id\\\": \\\"177725\\\", \\\"type\\\": \\\"NumberFormatter\\\"}, {\\\"attributes\\\": {}, \\\"id\\\": \\\"177739\\\", \\\"type\\\": \\\"StringFormatter\\\"}, {\\\"attributes\\\": {}, \\\"id\\\": \\\"177721\\\", \\\"type\\\": \\\"StringEditor\\\"}, {\\\"attributes\\\": {}, \\\"id\\\": \\\"177744\\\", \\\"type\\\": \\\"NumberFormatter\\\"}, {\\\"attributes\\\": {}, \\\"id\\\": \\\"177745\\\", \\\"type\\\": \\\"IntEditor\\\"}, {\\\"attributes\\\": {\\\"editor\\\": {\\\"id\\\": \\\"177721\\\"}, \\\"field\\\": \\\"number\\\", \\\"formatter\\\": {\\\"id\\\": \\\"177720\\\"}, \\\"title\\\": \\\"#\\\"}, \\\"id\\\": \\\"177722\\\", \\\"type\\\": \\\"TableColumn\\\"}, {\\\"attributes\\\": {}, \\\"id\\\": \\\"177720\\\", \\\"type\\\": \\\"StringFormatter\\\"}, {\\\"attributes\\\": {\\\"editor\\\": {\\\"id\\\": \\\"177726\\\"}, \\\"field\\\": \\\"Actual_0\\\", \\\"formatter\\\": {\\\"id\\\": \\\"177725\\\"}, \\\"title\\\": \\\"Actual_0\\\"}, \\\"id\\\": \\\"177727\\\", \\\"type\\\": \\\"TableColumn\\\"}, {\\\"attributes\\\": {}, \\\"id\\\": \\\"177731\\\", \\\"type\\\": \\\"IntEditor\\\"}, {\\\"attributes\\\": {}, \\\"id\\\": \\\"177750\\\", \\\"type\\\": \\\"IntEditor\\\"}, {\\\"attributes\\\": {}, \\\"id\\\": \\\"177740\\\", \\\"type\\\": \\\"StringEditor\\\"}, {\\\"attributes\\\": {\\\"editor\\\": {\\\"id\\\": \\\"177731\\\"}, \\\"field\\\": \\\"Actual_1\\\", \\\"formatter\\\": {\\\"id\\\": \\\"177730\\\"}, \\\"title\\\": \\\"Actual_1\\\"}, \\\"id\\\": \\\"177732\\\", \\\"type\\\": \\\"TableColumn\\\"}]}\",\"header\":\"{\\\"msgid\\\": \\\"177758\\\", \\\"msgtype\\\": \\\"PATCH-DOC\\\"}\",\"metadata\":\"{}\"}},\"values\":[9],\"widgets\":{\"177351\":0}},\"id\":\"177359\",\"type\":\"panel.models.state.State\"},{\"attributes\":{},\"id\":\"178111\",\"type\":\"StringEditor\"},{\"attributes\":{\"columns\":[{\"id\":\"178112\"},{\"id\":\"178117\"},{\"id\":\"178122\"}],\"height\":100,\"reorderable\":false,\"source\":{\"id\":\"177197\"},\"view\":{\"id\":\"177215\"},\"width\":350},\"id\":\"177214\",\"type\":\"DataTable\"},{\"attributes\":{},\"id\":\"178116\",\"type\":\"IntEditor\"},{\"attributes\":{\"data\":{\"Actual_0\":[542,0],\"Actual_1\":[51,3],\"number\":[\"Predicted_0\",\"Predicted_1\"]},\"selected\":{\"id\":\"177198\"},\"selection_policy\":{\"id\":\"177240\"}},\"id\":\"177197\",\"type\":\"ColumnDataSource\"},{\"attributes\":{\"editor\":{\"id\":\"178111\"},\"field\":\"number\",\"formatter\":{\"id\":\"178110\"},\"title\":\"#\"},\"id\":\"178112\",\"type\":\"TableColumn\"},{\"attributes\":{\"margin\":[20,0,0,20],\"name\":\"\",\"style\":{\"white-space\":\"nowrap\"},\"text\":\"decision_threshold: <b>0.5</b>\",\"width\":250},\"id\":\"177350\",\"type\":\"Div\"},{\"attributes\":{\"children\":[{\"id\":\"177195\"},{\"id\":\"177346\"}],\"margin\":[0,0,0,0],\"name\":\"Column450327\"},\"id\":\"177194\",\"type\":\"Column\"},{\"attributes\":{\"children\":[{\"id\":\"177349\"}],\"css_classes\":[\"panel-widget-box\"],\"margin\":[5,5,5,5],\"name\":\"WidgetBox450306\"},\"id\":\"177348\",\"type\":\"Column\"},{\"attributes\":{\"source\":{\"id\":\"177197\"}},\"id\":\"177215\",\"type\":\"CDSView\"},{\"attributes\":{\"editor\":{\"id\":\"178140\"},\"field\":\"Actual_1\",\"formatter\":{\"id\":\"178139\"},\"title\":\"Actual_1\"},\"id\":\"178141\",\"type\":\"TableColumn\"},{\"attributes\":{\"toolbar\":{\"id\":\"177244\"},\"toolbar_location\":\"above\"},\"id\":\"177245\",\"type\":\"ToolbarBox\"},{\"attributes\":{\"children\":[{\"id\":\"177193\"},{\"id\":\"177194\"},{\"id\":\"177353\"}],\"margin\":[0,0,0,0],\"name\":\"Row450305\",\"tags\":[\"embedded\"]},\"id\":\"177192\",\"type\":\"Row\"},{\"attributes\":{\"data\":{\"Actual_0\":[541,1],\"Actual_1\":[33,21],\"number\":[\"Predicted_0\",\"Predicted_1\"]},\"selected\":{\"id\":\"177219\"},\"selection_policy\":{\"id\":\"177242\"}},\"id\":\"177218\",\"type\":\"ColumnDataSource\"},{\"attributes\":{\"columns\":[{\"id\":\"178131\"},{\"id\":\"178136\"},{\"id\":\"178141\"}],\"height\":100,\"reorderable\":false,\"source\":{\"id\":\"177218\"},\"view\":{\"id\":\"177236\"},\"width\":350},\"id\":\"177235\",\"type\":\"DataTable\"},{\"attributes\":{\"margin\":[5,5,5,5],\"name\":\"HSpacer450325\",\"sizing_mode\":\"stretch_width\"},\"id\":\"177345\",\"type\":\"Spacer\"},{\"attributes\":{\"source\":{\"id\":\"177218\"}},\"id\":\"177236\",\"type\":\"CDSView\"},{\"attributes\":{},\"id\":\"178134\",\"type\":\"NumberFormatter\"},{\"attributes\":{\"children\":[{\"id\":\"177247\"},{\"id\":\"177246\"}]},\"id\":\"177248\",\"type\":\"Column\"},{\"attributes\":{},\"id\":\"178130\",\"type\":\"StringEditor\"},{\"attributes\":{\"style\":{\"white-space\":\"nowrap\"},\"text\":\"<span style=\\\"color:black;font-family:Arial;font-style:bold;font-weight:bold;font-size:12pt\\\">decision_threshold: 0.5</span>\",\"width\":450},\"id\":\"177247\",\"type\":\"Div\"},{\"attributes\":{},\"id\":\"177219\",\"type\":\"Selection\"},{\"attributes\":{\"style\":{\"white-space\":\"nowrap\"},\"text\":\"<span style=\\\"color:black;font-family:Arial;font-style:bold;font-weight:bold;font-size:12pt\\\">, estimator (0)</span>\",\"width\":450},\"id\":\"177216\",\"type\":\"Div\"},{\"attributes\":{},\"id\":\"178120\",\"type\":\"NumberFormatter\"},{\"attributes\":{\"code\":\"\\nvar state = null\\nfor (var root of cb_obj.document.roots()) {\\n  if (root.id == '177359') {\\n    state = root;\\n    break;\\n  }\\n}\\nif (!state) { return; }\\nstate.set_state(cb_obj, cb_obj.value)\\n\"},\"id\":\"177360\",\"type\":\"CustomJS\"},{\"attributes\":{\"style\":{\"white-space\":\"nowrap\"},\"text\":\"<span style=\\\"color:black;font-family:Arial;font-style:bold;font-weight:bold;font-size:12pt\\\">, estimator (1)</span>\",\"width\":450},\"id\":\"177237\",\"type\":\"Div\"},{\"attributes\":{},\"id\":\"178121\",\"type\":\"IntEditor\"},{\"attributes\":{\"children\":[{\"id\":\"177347\"},{\"id\":\"177348\"},{\"id\":\"177352\"}],\"margin\":[0,0,0,0],\"name\":\"Row450322\"},\"id\":\"177346\",\"type\":\"Row\"},{\"attributes\":{\"margin\":[5,5,5,5],\"name\":\"HSpacer450321\",\"sizing_mode\":\"stretch_width\"},\"id\":\"177352\",\"type\":\"Spacer\"},{\"attributes\":{},\"id\":\"178115\",\"type\":\"NumberFormatter\"},{\"attributes\":{\"editor\":{\"id\":\"178116\"},\"field\":\"Actual_0\",\"formatter\":{\"id\":\"178115\"},\"title\":\"Actual_0\"},\"id\":\"178117\",\"type\":\"TableColumn\"},{\"attributes\":{\"args\":{\"bidirectional\":false,\"properties\":{},\"source\":{\"id\":\"177351\"},\"target\":{\"id\":\"177350\"}},\"code\":\"try { \\n    var labels = ['decision_threshold: <b>0.05</b>', 'decision_threshold: <b>0.1</b>', 'decision_threshold: <b>0.15</b>', 'decision_threshold: <b>0.2</b>', 'decision_threshold: <b>0.25</b>', 'decision_threshold: <b>0.3</b>', 'decision_threshold: <b>0.35</b>', 'decision_threshold: <b>0.4</b>', 'decision_threshold: <b>0.45</b>', 'decision_threshold: <b>0.5</b>', 'decision_threshold: <b>0.55</b>', 'decision_threshold: <b>0.6</b>', 'decision_threshold: <b>0.65</b>', 'decision_threshold: <b>0.7</b>', 'decision_threshold: <b>0.75</b>', 'decision_threshold: <b>0.8</b>', 'decision_threshold: <b>0.85</b>', 'decision_threshold: <b>0.9</b>', 'decision_threshold: <b>0.95</b>']\\n    target.text = labels[source.value]\\n     } catch(err) { console.log(err) }\",\"tags\":[2820505236576]},\"id\":\"177358\",\"type\":\"CustomJS\"},{\"attributes\":{\"margin\":[5,5,5,5],\"name\":\"HSpacer450323\",\"sizing_mode\":\"stretch_width\"},\"id\":\"177193\",\"type\":\"Spacer\"}],\"root_ids\":[\"177192\",\"177359\"]},\"title\":\"Bokeh Application\",\"version\":\"2.2.3\"}};\n",
       "  var render_items = [{\"docid\":\"c5d9b037-b26c-450e-a8f9-7849fccb5ea6\",\"root_ids\":[\"177192\"],\"roots\":{\"177192\":\"cedae9ee-dd5f-45d0-b378-2a9fb3b0c4e6\"}}];\n",
       "  root.Bokeh.embed.embed_items_notebook(docs_json, render_items);\n",
       "  }\n",
       "if (root.Bokeh !== undefined) {\n",
       "    embed_document(root);\n",
       "  } else {\n",
       "    var attempts = 0;\n",
       "    var timer = setInterval(function(root) {\n",
       "      if (root.Bokeh !== undefined) {\n",
       "        clearInterval(timer);\n",
       "        embed_document(root);\n",
       "      } else if (document.readyState == \"complete\") {\n",
       "        attempts++;\n",
       "        if (attempts > 100) {\n",
       "          clearInterval(timer);\n",
       "          console.log(\"Bokeh: ERROR: Unable to run BokehJS code because BokehJS library is missing\");\n",
       "        }\n",
       "      }\n",
       "    }, 10, root)\n",
       "  }\n",
       "})(window);</script>"
      ],
      "text/plain": [
       ":HoloMap   [decision_threshold]\n",
       "   :Layout\n",
       "      .Table.I  :Table   [#,Actual_0,Actual_1]\n",
       "      .Table.II :Table   [#,Actual_0,Actual_1]"
      ]
     },
     "execution_count": 51,
     "metadata": {
      "application/vnd.holoviews_exec.v0+json": {
       "id": "177192"
      }
     },
     "output_type": "execute_result"
    }
   ],
   "source": [
    "model_comparison_report.confusion_matrices()"
   ]
  },
  {
   "cell_type": "code",
   "execution_count": 52,
   "metadata": {},
   "outputs": [
    {
     "data": {},
     "metadata": {},
     "output_type": "display_data"
    },
    {
     "data": {
      "application/vnd.holoviews_exec.v0+json": "",
      "text/html": [
       "<div id='178160'>\n",
       "\n",
       "\n",
       "\n",
       "\n",
       "\n",
       "  <div class=\"bk-root\" id=\"e9592b17-f388-42f0-babc-827d8d596178\" data-root-id=\"178160\"></div>\n",
       "</div>\n",
       "<script type=\"application/javascript\">(function(root) {\n",
       "  function embed_document(root) {\n",
       "  var docs_json = {\"3d546c31-9d61-4fe2-b71a-a8f5ed4b73de\":{\"roots\":{\"references\":[{\"attributes\":{\"click_policy\":\"mute\",\"items\":[{\"id\":\"178217\"},{\"id\":\"178236\"}],\"location\":[0,0]},\"id\":\"178216\",\"type\":\"Legend\"},{\"attributes\":{\"source\":{\"id\":\"178200\"}},\"id\":\"178207\",\"type\":\"CDSView\"},{\"attributes\":{\"margin\":[5,5,5,5],\"name\":\"HSpacer451667\",\"sizing_mode\":\"stretch_width\"},\"id\":\"178330\",\"type\":\"Spacer\"},{\"attributes\":{},\"id\":\"178219\",\"type\":\"Selection\"},{\"attributes\":{\"line_alpha\":0.2,\"line_color\":\"#1f77b3\",\"line_width\":2,\"x\":{\"field\":\"deciles\"},\"y\":{\"field\":\"lift\"}},\"id\":\"178205\",\"type\":\"Line\"},{\"attributes\":{\"label\":{\"value\":\", estimator (0)\"},\"renderers\":[{\"id\":\"178206\"}]},\"id\":\"178217\",\"type\":\"LegendItem\"},{\"attributes\":{},\"id\":\"178215\",\"type\":\"UnionRenderers\"},{\"attributes\":{\"overlay\":{\"id\":\"178188\"}},\"id\":\"178186\",\"type\":\"BoxZoomTool\"},{\"attributes\":{\"label\":{\"value\":\", estimator (1)\"},\"renderers\":[{\"id\":\"178224\"}]},\"id\":\"178236\",\"type\":\"LegendItem\"},{\"attributes\":{},\"id\":\"178176\",\"type\":\"BasicTicker\"},{\"attributes\":{\"reset_end\":1.0,\"reset_start\":0.1,\"start\":0.1,\"tags\":[[[\"deciles\",\"deciles\",null]]]},\"id\":\"178162\",\"type\":\"Range1d\"},{\"attributes\":{\"line_alpha\":0.1,\"line_color\":\"#ff7e0e\",\"line_width\":2,\"x\":{\"field\":\"deciles\"},\"y\":{\"field\":\"lift\"}},\"id\":\"178222\",\"type\":\"Line\"},{\"attributes\":{},\"id\":\"178187\",\"type\":\"ResetTool\"},{\"attributes\":{\"margin\":[5,5,5,5],\"name\":\"HSpacer451666\",\"sizing_mode\":\"stretch_width\"},\"id\":\"178161\",\"type\":\"Spacer\"},{\"attributes\":{},\"id\":\"178173\",\"type\":\"LinearScale\"},{\"attributes\":{\"align\":null,\"below\":[{\"id\":\"178175\"}],\"center\":[{\"id\":\"178178\"},{\"id\":\"178182\"}],\"frame_height\":300,\"frame_width\":350,\"left\":[{\"id\":\"178179\"}],\"margin\":null,\"min_border_bottom\":10,\"min_border_left\":10,\"min_border_right\":10,\"min_border_top\":10,\"plot_height\":null,\"plot_width\":null,\"renderers\":[{\"id\":\"178206\"},{\"id\":\"178224\"},{\"id\":\"178239\"}],\"right\":[{\"id\":\"178216\"}],\"sizing_mode\":\"fixed\",\"title\":{\"id\":\"178167\"},\"toolbar\":{\"id\":\"178189\"},\"x_range\":{\"id\":\"178162\"},\"x_scale\":{\"id\":\"178171\"},\"y_range\":{\"id\":\"178163\"},\"y_scale\":{\"id\":\"178173\"}},\"id\":\"178166\",\"subtype\":\"Figure\",\"type\":\"Plot\"},{\"attributes\":{\"active_drag\":\"auto\",\"active_inspect\":\"auto\",\"active_multi\":null,\"active_scroll\":\"auto\",\"active_tap\":\"auto\",\"tools\":[{\"id\":\"178164\"},{\"id\":\"178183\"},{\"id\":\"178184\"},{\"id\":\"178185\"},{\"id\":\"178186\"},{\"id\":\"178187\"}]},\"id\":\"178189\",\"type\":\"Toolbar\"},{\"attributes\":{},\"id\":\"178197\",\"type\":\"BasicTickFormatter\"},{\"attributes\":{\"text\":\"\",\"text_color\":{\"value\":\"black\"},\"text_font_size\":{\"value\":\"12pt\"}},\"id\":\"178167\",\"type\":\"Title\"},{\"attributes\":{},\"id\":\"178171\",\"type\":\"LinearScale\"},{\"attributes\":{},\"id\":\"178201\",\"type\":\"Selection\"},{\"attributes\":{},\"id\":\"178235\",\"type\":\"UnionRenderers\"},{\"attributes\":{\"children\":[{\"id\":\"178161\"},{\"id\":\"178166\"},{\"id\":\"178330\"}],\"margin\":[0,0,0,0],\"name\":\"Row451662\",\"tags\":[\"embedded\"]},\"id\":\"178160\",\"type\":\"Row\"},{\"attributes\":{},\"id\":\"178184\",\"type\":\"PanTool\"},{\"attributes\":{\"end\":3.554300062774639,\"reset_end\":3.554300062774639,\"reset_start\":1,\"start\":1,\"tags\":[[[\"lift\",\"lift\",null]]]},\"id\":\"178163\",\"type\":\"Range1d\"},{\"attributes\":{},\"id\":\"178185\",\"type\":\"WheelZoomTool\"},{\"attributes\":{\"data_source\":{\"id\":\"178218\"},\"glyph\":{\"id\":\"178221\"},\"hover_glyph\":null,\"muted_glyph\":{\"id\":\"178223\"},\"nonselection_glyph\":{\"id\":\"178222\"},\"selection_glyph\":null,\"view\":{\"id\":\"178225\"}},\"id\":\"178224\",\"type\":\"GlyphRenderer\"},{\"attributes\":{\"data_source\":{\"id\":\"178200\"},\"glyph\":{\"id\":\"178203\"},\"hover_glyph\":null,\"muted_glyph\":{\"id\":\"178205\"},\"nonselection_glyph\":{\"id\":\"178204\"},\"selection_glyph\":null,\"view\":{\"id\":\"178207\"}},\"id\":\"178206\",\"type\":\"GlyphRenderer\"},{\"attributes\":{},\"id\":\"178183\",\"type\":\"SaveTool\"},{\"attributes\":{\"callback\":null,\"renderers\":[{\"id\":\"178206\"},{\"id\":\"178224\"}],\"tags\":[\"hv_created\"],\"tooltips\":[[\"deciles\",\"@{deciles}\"],[\"lift\",\"@{lift}\"]]},\"id\":\"178164\",\"type\":\"HoverTool\"},{\"attributes\":{\"source\":{\"id\":\"178218\"}},\"id\":\"178225\",\"type\":\"CDSView\"},{\"attributes\":{\"axis_label\":\"deciles\",\"bounds\":\"auto\",\"formatter\":{\"id\":\"178197\"},\"major_label_orientation\":\"horizontal\",\"ticker\":{\"id\":\"178176\"}},\"id\":\"178175\",\"type\":\"LinearAxis\"},{\"attributes\":{\"line_alpha\":0.2,\"line_color\":\"#ff7e0e\",\"line_width\":2,\"x\":{\"field\":\"deciles\"},\"y\":{\"field\":\"lift\"}},\"id\":\"178223\",\"type\":\"Line\"},{\"attributes\":{\"line_alpha\":0.1,\"line_color\":\"#1f77b3\",\"line_width\":2,\"x\":{\"field\":\"deciles\"},\"y\":{\"field\":\"lift\"}},\"id\":\"178204\",\"type\":\"Line\"},{\"attributes\":{},\"id\":\"178180\",\"type\":\"BasicTicker\"},{\"attributes\":{\"line_color\":\"#ff7e0e\",\"line_width\":2,\"x\":{\"field\":\"deciles\"},\"y\":{\"field\":\"lift\"}},\"id\":\"178221\",\"type\":\"Line\"},{\"attributes\":{\"data\":{\"deciles\":{\"__ndarray__\":\"mpmZmZmZuT+amZmZmZnJPzMzMzMzM9M/mpmZmZmZ2T8AAAAAAADgPzMzMzMzM+M/ZmZmZmZm5j+amZmZmZnpP83MzMzMzOw/AAAAAAAA8D8=\",\"dtype\":\"float64\",\"order\":\"little\",\"shape\":[10]},\"lift\":{\"__ndarray__\":\"MKrFwmT1IUDkmgjkmggUQK5kJStZyQpA5JoI5JoIBEAAAAAAAAAAQNsjttojtvo/+Oy+KTze9j/kmgjkmgj0P78aE+mByvE/AAAAAAAA8D8=\",\"dtype\":\"float64\",\"order\":\"little\",\"shape\":[10]}},\"selected\":{\"id\":\"178219\"},\"selection_policy\":{\"id\":\"178235\"}},\"id\":\"178218\",\"type\":\"ColumnDataSource\"},{\"attributes\":{\"bottom_units\":\"screen\",\"fill_alpha\":0.5,\"fill_color\":\"lightgrey\",\"left_units\":\"screen\",\"level\":\"overlay\",\"line_alpha\":1.0,\"line_color\":\"black\",\"line_dash\":[4,4],\"line_width\":2,\"right_units\":\"screen\",\"top_units\":\"screen\"},\"id\":\"178188\",\"type\":\"BoxAnnotation\"},{\"attributes\":{\"axis\":{\"id\":\"178179\"},\"dimension\":1,\"grid_line_color\":null,\"ticker\":null},\"id\":\"178182\",\"type\":\"Grid\"},{\"attributes\":{\"axis_label\":\"lift\",\"bounds\":\"auto\",\"formatter\":{\"id\":\"178199\"},\"major_label_orientation\":\"horizontal\",\"ticker\":{\"id\":\"178180\"}},\"id\":\"178179\",\"type\":\"LinearAxis\"},{\"attributes\":{\"level\":\"glyph\",\"line_color\":\"#30a2da\",\"line_width\":3,\"location\":1},\"id\":\"178239\",\"type\":\"Span\"},{\"attributes\":{},\"id\":\"178199\",\"type\":\"BasicTickFormatter\"},{\"attributes\":{\"line_color\":\"#1f77b3\",\"line_width\":2,\"x\":{\"field\":\"deciles\"},\"y\":{\"field\":\"lift\"}},\"id\":\"178203\",\"type\":\"Line\"},{\"attributes\":{\"data\":{\"deciles\":{\"__ndarray__\":\"mpmZmZmZuT+amZmZmZnJPzMzMzMzM9M/mpmZmZmZ2T8AAAAAAADgPzMzMzMzM+M/ZmZmZmZm5j+amZmZmZnpP83MzMzMzOw/AAAAAAAA8D8=\",\"dtype\":\"float64\",\"order\":\"little\",\"shape\":[10]},\"lift\":{\"__ndarray__\":\"dU0O3zRvDEA2c0I2c0IGQIqohrCNWgJAEbTcZgky/D+rqqqqqqr6P4Azy5v6PPg/72ibV2kF9j/X9v6AoanzP78aE+mByvE/AAAAAAAA8D8=\",\"dtype\":\"float64\",\"order\":\"little\",\"shape\":[10]}},\"selected\":{\"id\":\"178201\"},\"selection_policy\":{\"id\":\"178215\"}},\"id\":\"178200\",\"type\":\"ColumnDataSource\"},{\"attributes\":{\"axis\":{\"id\":\"178175\"},\"grid_line_color\":null,\"ticker\":null},\"id\":\"178178\",\"type\":\"Grid\"}],\"root_ids\":[\"178160\"]},\"title\":\"Bokeh Application\",\"version\":\"2.2.3\"}};\n",
       "  var render_items = [{\"docid\":\"3d546c31-9d61-4fe2-b71a-a8f5ed4b73de\",\"root_ids\":[\"178160\"],\"roots\":{\"178160\":\"e9592b17-f388-42f0-babc-827d8d596178\"}}];\n",
       "  root.Bokeh.embed.embed_items_notebook(docs_json, render_items);\n",
       "  }\n",
       "if (root.Bokeh !== undefined) {\n",
       "    embed_document(root);\n",
       "  } else {\n",
       "    var attempts = 0;\n",
       "    var timer = setInterval(function(root) {\n",
       "      if (root.Bokeh !== undefined) {\n",
       "        clearInterval(timer);\n",
       "        embed_document(root);\n",
       "      } else if (document.readyState == \"complete\") {\n",
       "        attempts++;\n",
       "        if (attempts > 100) {\n",
       "          clearInterval(timer);\n",
       "          console.log(\"Bokeh: ERROR: Unable to run BokehJS code because BokehJS library is missing\");\n",
       "        }\n",
       "      }\n",
       "    }, 10, root)\n",
       "  }\n",
       "})(window);</script>"
      ],
      "text/plain": [
       ":Overlay\n",
       "   .Curve.Comma_estimator_left_parenthesis_0_right_parenthesis :Curve   [deciles]   (lift)\n",
       "   .Curve.Comma_estimator_left_parenthesis_1_right_parenthesis :Curve   [deciles]   (lift)\n",
       "   .HLine.Baseline                                             :HLine   [x,y]"
      ]
     },
     "execution_count": 52,
     "metadata": {
      "application/vnd.holoviews_exec.v0+json": {
       "id": "178160"
      }
     },
     "output_type": "execute_result"
    }
   ],
   "source": [
    "model_comparison_report.lift_charts()"
   ]
  },
  {
   "cell_type": "code",
   "execution_count": 53,
   "metadata": {},
   "outputs": [
    {
     "data": {},
     "metadata": {},
     "output_type": "display_data"
    },
    {
     "data": {
      "application/vnd.holoviews_exec.v0+json": "",
      "text/html": [
       "<div id='178382'>\n",
       "\n",
       "\n",
       "\n",
       "\n",
       "\n",
       "  <div class=\"bk-root\" id=\"a79b7c09-0755-4744-82a6-dde97c1e7043\" data-root-id=\"178382\"></div>\n",
       "</div>\n",
       "<script type=\"application/javascript\">(function(root) {\n",
       "  function embed_document(root) {\n",
       "  var docs_json = {\"05e32c44-06f9-4985-86d4-b3a9ecfe14b4\":{\"roots\":{\"references\":[{\"attributes\":{},\"id\":\"178462\",\"type\":\"Selection\"},{\"attributes\":{\"data_source\":{\"id\":\"178461\"},\"glyph\":{\"id\":\"178464\"},\"hover_glyph\":null,\"muted_glyph\":{\"id\":\"178466\"},\"nonselection_glyph\":{\"id\":\"178465\"},\"selection_glyph\":null,\"view\":{\"id\":\"178468\"}},\"id\":\"178467\",\"type\":\"GlyphRenderer\"},{\"attributes\":{\"label\":{\"value\":\", estimator (1)\"},\"renderers\":[{\"id\":\"178448\"}]},\"id\":\"178460\",\"type\":\"LegendItem\"},{\"attributes\":{},\"id\":\"178403\",\"type\":\"BasicTicker\"},{\"attributes\":{\"data\":{\"deciles\":{\"__ndarray__\":\"mpmZmZmZuT+amZmZmZnJPzMzMzMzM9M/mpmZmZmZ2T8AAAAAAADgPzMzMzMzM+M/ZmZmZmZm5j+amZmZmZnpP83MzMzMzOw/AAAAAAAA8D8=\",\"dtype\":\"float64\",\"order\":\"little\",\"shape\":[10]},\"percent_targets_captured\":{\"__ndarray__\":\"TGgvob2E1j9yHMdxHMfhP9FeQnsJ7eU/TGgvob2E5j+rqqqqqqrqP5jQXkJ7Ce0/Ce0ltJfQ7j+F9hLaS2jvPwAAAAAAAPA/AAAAAAAA8D8=\",\"dtype\":\"float64\",\"order\":\"little\",\"shape\":[10]}},\"selected\":{\"id\":\"178425\"},\"selection_policy\":{\"id\":\"178439\"}},\"id\":\"178424\",\"type\":\"ColumnDataSource\"},{\"attributes\":{},\"id\":\"178407\",\"type\":\"PanTool\"},{\"attributes\":{\"line_alpha\":0.2,\"line_color\":\"#1f77b3\",\"line_width\":2,\"x\":{\"field\":\"deciles\"},\"y\":{\"field\":\"percent_targets_captured\"}},\"id\":\"178429\",\"type\":\"Line\"},{\"attributes\":{\"line_color\":\"#ff7e0e\",\"line_width\":2,\"x\":{\"field\":\"deciles\"},\"y\":{\"field\":\"percent_targets_captured\"}},\"id\":\"178445\",\"type\":\"Line\"},{\"attributes\":{\"line_alpha\":0.2,\"line_color\":\"#2ba02b\",\"line_width\":2,\"x\":{\"field\":\"deciles\"},\"y\":{\"field\":\"deciles\"}},\"id\":\"178466\",\"type\":\"Line\"},{\"attributes\":{\"axis\":{\"id\":\"178398\"},\"grid_line_color\":null,\"ticker\":null},\"id\":\"178401\",\"type\":\"Grid\"},{\"attributes\":{\"click_policy\":\"mute\",\"items\":[{\"id\":\"178441\"},{\"id\":\"178460\"},{\"id\":\"178481\"}],\"location\":[0,0]},\"id\":\"178440\",\"type\":\"Legend\"},{\"attributes\":{\"source\":{\"id\":\"178461\"}},\"id\":\"178468\",\"type\":\"CDSView\"},{\"attributes\":{},\"id\":\"178396\",\"type\":\"LinearScale\"},{\"attributes\":{\"data_source\":{\"id\":\"178442\"},\"glyph\":{\"id\":\"178445\"},\"hover_glyph\":null,\"muted_glyph\":{\"id\":\"178447\"},\"nonselection_glyph\":{\"id\":\"178446\"},\"selection_glyph\":null,\"view\":{\"id\":\"178449\"}},\"id\":\"178448\",\"type\":\"GlyphRenderer\"},{\"attributes\":{\"axis_label\":\"percent_targets_captured\",\"bounds\":\"auto\",\"formatter\":{\"id\":\"178423\"},\"major_label_orientation\":\"horizontal\",\"ticker\":{\"id\":\"178403\"}},\"id\":\"178402\",\"type\":\"LinearAxis\"},{\"attributes\":{},\"id\":\"178425\",\"type\":\"Selection\"},{\"attributes\":{\"overlay\":{\"id\":\"178411\"}},\"id\":\"178409\",\"type\":\"BoxZoomTool\"},{\"attributes\":{},\"id\":\"178394\",\"type\":\"LinearScale\"},{\"attributes\":{},\"id\":\"178439\",\"type\":\"UnionRenderers\"},{\"attributes\":{},\"id\":\"178423\",\"type\":\"BasicTickFormatter\"},{\"attributes\":{\"line_alpha\":0.1,\"line_color\":\"#ff7e0e\",\"line_width\":2,\"x\":{\"field\":\"deciles\"},\"y\":{\"field\":\"percent_targets_captured\"}},\"id\":\"178446\",\"type\":\"Line\"},{\"attributes\":{\"axis_label\":\"deciles\",\"bounds\":\"auto\",\"formatter\":{\"id\":\"178421\"},\"major_label_orientation\":\"horizontal\",\"ticker\":{\"id\":\"178399\"}},\"id\":\"178398\",\"type\":\"LinearAxis\"},{\"attributes\":{\"margin\":[5,5,5,5],\"name\":\"HSpacer452890\",\"sizing_mode\":\"stretch_width\"},\"id\":\"178383\",\"type\":\"Spacer\"},{\"attributes\":{\"line_alpha\":0.1,\"line_color\":\"#1f77b3\",\"line_width\":2,\"x\":{\"field\":\"deciles\"},\"y\":{\"field\":\"percent_targets_captured\"}},\"id\":\"178428\",\"type\":\"Line\"},{\"attributes\":{\"line_alpha\":0.1,\"line_color\":\"#2ba02b\",\"line_width\":2,\"x\":{\"field\":\"deciles\"},\"y\":{\"field\":\"deciles\"}},\"id\":\"178465\",\"type\":\"Line\"},{\"attributes\":{\"line_color\":\"#2ba02b\",\"line_width\":2,\"x\":{\"field\":\"deciles\"},\"y\":{\"field\":\"deciles\"}},\"id\":\"178464\",\"type\":\"Line\"},{\"attributes\":{\"text\":\"\",\"text_color\":{\"value\":\"black\"},\"text_font_size\":{\"value\":\"12pt\"}},\"id\":\"178390\",\"type\":\"Title\"},{\"attributes\":{\"label\":{\"value\":\"Baseline\"},\"renderers\":[{\"id\":\"178467\"}]},\"id\":\"178481\",\"type\":\"LegendItem\"},{\"attributes\":{\"active_drag\":\"auto\",\"active_inspect\":\"auto\",\"active_multi\":null,\"active_scroll\":\"auto\",\"active_tap\":\"auto\",\"tools\":[{\"id\":\"178386\"},{\"id\":\"178388\"},{\"id\":\"178406\"},{\"id\":\"178407\"},{\"id\":\"178408\"},{\"id\":\"178409\"},{\"id\":\"178410\"}]},\"id\":\"178412\",\"type\":\"Toolbar\"},{\"attributes\":{},\"id\":\"178406\",\"type\":\"SaveTool\"},{\"attributes\":{\"source\":{\"id\":\"178442\"}},\"id\":\"178449\",\"type\":\"CDSView\"},{\"attributes\":{\"margin\":[5,5,5,5],\"name\":\"HSpacer452891\",\"sizing_mode\":\"stretch_width\"},\"id\":\"178590\",\"type\":\"Spacer\"},{\"attributes\":{\"data\":{\"deciles\":{\"__ndarray__\":\"mpmZmZmZuT+amZmZmZnJPzMzMzMzM9M/mpmZmZmZ2T8AAAAAAADgPzMzMzMzM+M/ZmZmZmZm5j+amZmZmZnpP83MzMzMzOw/AAAAAAAA8D8=\",\"dtype\":\"float64\",\"order\":\"little\",\"shape\":[10]},\"percent_targets_captured\":{\"__ndarray__\":\"HMdxHMdx7D8AAAAAAADwPwAAAAAAAPA/AAAAAAAA8D8AAAAAAADwPwAAAAAAAPA/AAAAAAAA8D8AAAAAAADwPwAAAAAAAPA/AAAAAAAA8D8=\",\"dtype\":\"float64\",\"order\":\"little\",\"shape\":[10]}},\"selected\":{\"id\":\"178443\"},\"selection_policy\":{\"id\":\"178459\"}},\"id\":\"178442\",\"type\":\"ColumnDataSource\"},{\"attributes\":{\"align\":null,\"below\":[{\"id\":\"178398\"}],\"center\":[{\"id\":\"178401\"},{\"id\":\"178405\"}],\"frame_height\":300,\"frame_width\":350,\"left\":[{\"id\":\"178402\"}],\"margin\":null,\"min_border_bottom\":10,\"min_border_left\":10,\"min_border_right\":10,\"min_border_top\":10,\"plot_height\":null,\"plot_width\":null,\"renderers\":[{\"id\":\"178430\"},{\"id\":\"178448\"},{\"id\":\"178467\"}],\"right\":[{\"id\":\"178440\"}],\"sizing_mode\":\"fixed\",\"title\":{\"id\":\"178390\"},\"toolbar\":{\"id\":\"178412\"},\"x_range\":{\"id\":\"178384\"},\"x_scale\":{\"id\":\"178394\"},\"y_range\":{\"id\":\"178385\"},\"y_scale\":{\"id\":\"178396\"}},\"id\":\"178389\",\"subtype\":\"Figure\",\"type\":\"Plot\"},{\"attributes\":{},\"id\":\"178399\",\"type\":\"BasicTicker\"},{\"attributes\":{\"children\":[{\"id\":\"178383\"},{\"id\":\"178389\"},{\"id\":\"178590\"}],\"margin\":[0,0,0,0],\"name\":\"Row452886\",\"tags\":[\"embedded\"]},\"id\":\"178382\",\"type\":\"Row\"},{\"attributes\":{\"line_alpha\":0.2,\"line_color\":\"#ff7e0e\",\"line_width\":2,\"x\":{\"field\":\"deciles\"},\"y\":{\"field\":\"percent_targets_captured\"}},\"id\":\"178447\",\"type\":\"Line\"},{\"attributes\":{},\"id\":\"178408\",\"type\":\"WheelZoomTool\"},{\"attributes\":{\"axis\":{\"id\":\"178402\"},\"dimension\":1,\"grid_line_color\":null,\"ticker\":null},\"id\":\"178405\",\"type\":\"Grid\"},{\"attributes\":{\"label\":{\"value\":\", estimator (0)\"},\"renderers\":[{\"id\":\"178430\"}]},\"id\":\"178441\",\"type\":\"LegendItem\"},{\"attributes\":{\"callback\":null,\"renderers\":[{\"id\":\"178467\"}],\"tags\":[\"hv_created\"],\"tooltips\":[[\"deciles\",\"@{deciles}\"],[\"deciles\",\"@{deciles}\"]]},\"id\":\"178388\",\"type\":\"HoverTool\"},{\"attributes\":{\"bottom_units\":\"screen\",\"fill_alpha\":0.5,\"fill_color\":\"lightgrey\",\"left_units\":\"screen\",\"level\":\"overlay\",\"line_alpha\":1.0,\"line_color\":\"black\",\"line_dash\":[4,4],\"line_width\":2,\"right_units\":\"screen\",\"top_units\":\"screen\"},\"id\":\"178411\",\"type\":\"BoxAnnotation\"},{\"attributes\":{},\"id\":\"178459\",\"type\":\"UnionRenderers\"},{\"attributes\":{},\"id\":\"178480\",\"type\":\"UnionRenderers\"},{\"attributes\":{\"data_source\":{\"id\":\"178424\"},\"glyph\":{\"id\":\"178427\"},\"hover_glyph\":null,\"muted_glyph\":{\"id\":\"178429\"},\"nonselection_glyph\":{\"id\":\"178428\"},\"selection_glyph\":null,\"view\":{\"id\":\"178431\"}},\"id\":\"178430\",\"type\":\"GlyphRenderer\"},{\"attributes\":{\"reset_end\":1.0,\"reset_start\":0,\"tags\":[[[\"percent_targets_captured\",\"percent_targets_captured\",null]]]},\"id\":\"178385\",\"type\":\"Range1d\"},{\"attributes\":{},\"id\":\"178410\",\"type\":\"ResetTool\"},{\"attributes\":{\"source\":{\"id\":\"178424\"}},\"id\":\"178431\",\"type\":\"CDSView\"},{\"attributes\":{\"data\":{\"deciles\":{\"__ndarray__\":\"mpmZmZmZuT+amZmZmZnJPzMzMzMzM9M/mpmZmZmZ2T8AAAAAAADgPzMzMzMzM+M/ZmZmZmZm5j+amZmZmZnpP83MzMzMzOw/AAAAAAAA8D8=\",\"dtype\":\"float64\",\"order\":\"little\",\"shape\":[10]}},\"selected\":{\"id\":\"178462\"},\"selection_policy\":{\"id\":\"178480\"}},\"id\":\"178461\",\"type\":\"ColumnDataSource\"},{\"attributes\":{},\"id\":\"178443\",\"type\":\"Selection\"},{\"attributes\":{\"callback\":null,\"renderers\":[{\"id\":\"178430\"},{\"id\":\"178448\"}],\"tags\":[\"hv_created\"],\"tooltips\":[[\"deciles\",\"@{deciles}\"],[\"percent_targets_captured\",\"@{percent_targets_captured}\"]]},\"id\":\"178386\",\"type\":\"HoverTool\"},{\"attributes\":{\"reset_end\":1,\"reset_start\":0,\"tags\":[[[\"deciles\",\"deciles\",null]]]},\"id\":\"178384\",\"type\":\"Range1d\"},{\"attributes\":{},\"id\":\"178421\",\"type\":\"BasicTickFormatter\"},{\"attributes\":{\"line_color\":\"#1f77b3\",\"line_width\":2,\"x\":{\"field\":\"deciles\"},\"y\":{\"field\":\"percent_targets_captured\"}},\"id\":\"178427\",\"type\":\"Line\"}],\"root_ids\":[\"178382\"]},\"title\":\"Bokeh Application\",\"version\":\"2.2.3\"}};\n",
       "  var render_items = [{\"docid\":\"05e32c44-06f9-4985-86d4-b3a9ecfe14b4\",\"root_ids\":[\"178382\"],\"roots\":{\"178382\":\"a79b7c09-0755-4744-82a6-dde97c1e7043\"}}];\n",
       "  root.Bokeh.embed.embed_items_notebook(docs_json, render_items);\n",
       "  }\n",
       "if (root.Bokeh !== undefined) {\n",
       "    embed_document(root);\n",
       "  } else {\n",
       "    var attempts = 0;\n",
       "    var timer = setInterval(function(root) {\n",
       "      if (root.Bokeh !== undefined) {\n",
       "        clearInterval(timer);\n",
       "        embed_document(root);\n",
       "      } else if (document.readyState == \"complete\") {\n",
       "        attempts++;\n",
       "        if (attempts > 100) {\n",
       "          clearInterval(timer);\n",
       "          console.log(\"Bokeh: ERROR: Unable to run BokehJS code because BokehJS library is missing\");\n",
       "        }\n",
       "      }\n",
       "    }, 10, root)\n",
       "  }\n",
       "})(window);</script>"
      ],
      "text/plain": [
       ":Overlay\n",
       "   .Curve.Comma_estimator_left_parenthesis_0_right_parenthesis :Curve   [deciles]   (percent_targets_captured)\n",
       "   .Curve.Comma_estimator_left_parenthesis_1_right_parenthesis :Curve   [deciles]   (percent_targets_captured)\n",
       "   .Curve.Baseline                                             :Curve   [deciles]   (deciles)"
      ]
     },
     "execution_count": 53,
     "metadata": {
      "application/vnd.holoviews_exec.v0+json": {
       "id": "178382"
      }
     },
     "output_type": "execute_result"
    }
   ],
   "source": [
    "model_comparison_report.gains_charts()"
   ]
  },
  {
   "cell_type": "markdown",
   "metadata": {},
   "source": [
    "A report comparing the performance, metrics between Logistic model and Tree model are available [here](https://drive.google.com/file/d/1h9Yp5WhQthQq5NCKEz0NNuCxXERJZlyT/view?usp=sharing)"
   ]
  },
  {
   "cell_type": "markdown",
   "metadata": {},
   "source": [
    "**Dev NOTES**\n",
    "<details>\n",
    "\n",
    "the above metrics are absolute nos and not %ges"
   ]
  },
  {
   "cell_type": "markdown",
   "metadata": {},
   "source": [
    "In this example we are choosing Random Forest model for pipelining. General criteria for choosing production models is:\n",
    "\n",
    "- Parametric models (aka whitebox models) such as Logistic Regression are easier to explain to non-technical audience.\n",
    "- Generally these are accepted fast and adoption is quicker.\n",
    "- If the downstream calls for optimization using these models parametric models are easier to implement.\n",
    "- When accuracy is primary goal without explainability, the above two takes a backseat"
   ]
  },
  {
   "cell_type": "code",
   "execution_count": null,
   "metadata": {},
   "outputs": [],
   "source": []
  },
  {
   "cell_type": "code",
   "execution_count": null,
   "metadata": {},
   "outputs": [],
   "source": []
  },
  {
   "cell_type": "code",
   "execution_count": null,
   "metadata": {},
   "outputs": [],
   "source": []
  }
 ],
 "metadata": {
  "kernelspec": {
   "display_name": "Python 3",
   "language": "python",
   "name": "python3"
  },
  "language_info": {
   "codemirror_mode": {
    "name": "ipython",
    "version": 3
   },
   "file_extension": ".py",
   "mimetype": "text/x-python",
   "name": "python",
   "nbconvert_exporter": "python",
   "pygments_lexer": "ipython3",
   "version": "3.8.11"
  }
 },
 "nbformat": 4,
 "nbformat_minor": 4
}
