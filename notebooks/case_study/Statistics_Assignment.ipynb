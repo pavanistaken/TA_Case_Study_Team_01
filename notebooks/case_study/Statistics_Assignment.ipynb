{
 "cells": [
  {
   "cell_type": "markdown",
   "metadata": {},
   "source": [
    "# Statistics Assignment - Springboard"
   ]
  },
  {
   "cell_type": "markdown",
   "metadata": {},
   "source": [
    "<hr style=\"border:2px solid black\"> </hr>\n",
    "\n",
    "### 1. Data Exploration: Data Handling and Formatting:"
   ]
  },
  {
   "cell_type": "code",
   "execution_count": 1,
   "metadata": {},
   "outputs": [],
   "source": [
    "# Importing Libraries\n",
    "import numpy as np\n",
    "import pandas as pd\n",
    "import seaborn as sns\n",
    "import datetime\n",
    "import matplotlib.pyplot as plt\n",
    "import scipy.stats as stats"
   ]
  },
  {
   "cell_type": "code",
   "execution_count": 2,
   "metadata": {},
   "outputs": [
    {
     "name": "stdout",
     "output_type": "stream",
     "text": [
      "<class 'pandas.core.frame.DataFrame'>\n",
      "RangeIndex: 114689 entries, 0 to 114688\n",
      "Data columns (total 7 columns):\n",
      " #   Column              Non-Null Count   Dtype \n",
      "---  ------              --------------   ----- \n",
      " 0   market_subcategory  114689 non-null  object\n",
      " 1   id                  114689 non-null  int64 \n",
      " 2   eventdate           114689 non-null  object\n",
      " 3   country             114689 non-null  object\n",
      " 4   positioning         110377 non-null  object\n",
      " 5   region              114689 non-null  object\n",
      " 6   flavor              112713 non-null  object\n",
      "dtypes: int64(1), object(6)\n",
      "memory usage: 6.1+ MB\n"
     ]
    }
   ],
   "source": [
    "pld = pd.read_csv(\"./Product Launch Dataset.csv\",encoding='latin-1')\n",
    "pld.info()"
   ]
  },
  {
   "cell_type": "code",
   "execution_count": 3,
   "metadata": {},
   "outputs": [
    {
     "data": {
      "text/html": [
       "<div>\n",
       "<style scoped>\n",
       "    .dataframe tbody tr th:only-of-type {\n",
       "        vertical-align: middle;\n",
       "    }\n",
       "\n",
       "    .dataframe tbody tr th {\n",
       "        vertical-align: top;\n",
       "    }\n",
       "\n",
       "    .dataframe thead th {\n",
       "        text-align: right;\n",
       "    }\n",
       "</style>\n",
       "<table border=\"1\" class=\"dataframe\">\n",
       "  <thead>\n",
       "    <tr style=\"text-align: right;\">\n",
       "      <th></th>\n",
       "      <th>market_subcategory</th>\n",
       "      <th>id</th>\n",
       "      <th>eventdate</th>\n",
       "      <th>country</th>\n",
       "      <th>positioning</th>\n",
       "      <th>region</th>\n",
       "      <th>flavor</th>\n",
       "    </tr>\n",
       "  </thead>\n",
       "  <tbody>\n",
       "    <tr>\n",
       "      <th>0</th>\n",
       "      <td>Other Soft Drinks</td>\n",
       "      <td>1</td>\n",
       "      <td>01-01-2005</td>\n",
       "      <td>Netherlands</td>\n",
       "      <td>Low Calorie, Natural</td>\n",
       "      <td>West Europe</td>\n",
       "      <td>Herbs, not specified; Fruit, not specified</td>\n",
       "    </tr>\n",
       "    <tr>\n",
       "      <th>1</th>\n",
       "      <td>Carbonates</td>\n",
       "      <td>2</td>\n",
       "      <td>01-01-2005</td>\n",
       "      <td>Ireland</td>\n",
       "      <td>Convenience - Consumption</td>\n",
       "      <td>West Europe</td>\n",
       "      <td>Fruit, not specified</td>\n",
       "    </tr>\n",
       "    <tr>\n",
       "      <th>2</th>\n",
       "      <td>Juice &amp; Juice Drinks</td>\n",
       "      <td>3</td>\n",
       "      <td>01-01-2005</td>\n",
       "      <td>Ireland</td>\n",
       "      <td>100% Not from Concentrate, Convenience - Consu...</td>\n",
       "      <td>West Europe</td>\n",
       "      <td>Lemon; Honey; Ginger</td>\n",
       "    </tr>\n",
       "    <tr>\n",
       "      <th>3</th>\n",
       "      <td>Juice &amp; Juice Drinks</td>\n",
       "      <td>4</td>\n",
       "      <td>01-01-2005</td>\n",
       "      <td>Ireland</td>\n",
       "      <td>100% Not from Concentrate, Convenience - Consu...</td>\n",
       "      <td>West Europe</td>\n",
       "      <td>Mango; Passion Fruit</td>\n",
       "    </tr>\n",
       "    <tr>\n",
       "      <th>4</th>\n",
       "      <td>Juice &amp; Juice Drinks</td>\n",
       "      <td>5</td>\n",
       "      <td>01-01-2005</td>\n",
       "      <td>Ireland</td>\n",
       "      <td>100% Not from Concentrate, Convenience - Consu...</td>\n",
       "      <td>West Europe</td>\n",
       "      <td>Mango</td>\n",
       "    </tr>\n",
       "  </tbody>\n",
       "</table>\n",
       "</div>"
      ],
      "text/plain": [
       "     market_subcategory  id   eventdate      country  \\\n",
       "0     Other Soft Drinks   1  01-01-2005  Netherlands   \n",
       "1            Carbonates   2  01-01-2005      Ireland   \n",
       "2  Juice & Juice Drinks   3  01-01-2005      Ireland   \n",
       "3  Juice & Juice Drinks   4  01-01-2005      Ireland   \n",
       "4  Juice & Juice Drinks   5  01-01-2005      Ireland   \n",
       "\n",
       "                                         positioning       region  \\\n",
       "0                               Low Calorie, Natural  West Europe   \n",
       "1                          Convenience - Consumption  West Europe   \n",
       "2  100% Not from Concentrate, Convenience - Consu...  West Europe   \n",
       "3  100% Not from Concentrate, Convenience - Consu...  West Europe   \n",
       "4  100% Not from Concentrate, Convenience - Consu...  West Europe   \n",
       "\n",
       "                                       flavor  \n",
       "0  Herbs, not specified; Fruit, not specified  \n",
       "1                        Fruit, not specified  \n",
       "2                        Lemon; Honey; Ginger  \n",
       "3                        Mango; Passion Fruit  \n",
       "4                                       Mango  "
      ]
     },
     "execution_count": 3,
     "metadata": {},
     "output_type": "execute_result"
    }
   ],
   "source": [
    "pld.head()"
   ]
  },
  {
   "cell_type": "code",
   "execution_count": 4,
   "metadata": {},
   "outputs": [
    {
     "name": "stdout",
     "output_type": "stream",
     "text": [
      "<class 'pandas.core.frame.DataFrame'>\n",
      "RangeIndex: 114689 entries, 0 to 114688\n",
      "Data columns (total 7 columns):\n",
      " #   Column              Non-Null Count   Dtype \n",
      "---  ------              --------------   ----- \n",
      " 0   market_subcategory  114689 non-null  object\n",
      " 1   id                  114689 non-null  int64 \n",
      " 2   eventdate           114689 non-null  object\n",
      " 3   country             114689 non-null  object\n",
      " 4   positioning         110377 non-null  object\n",
      " 5   region              114689 non-null  object\n",
      " 6   flavor              112713 non-null  object\n",
      "dtypes: int64(1), object(6)\n",
      "memory usage: 6.1+ MB\n"
     ]
    }
   ],
   "source": [
    "# Dropping NA values\n",
    "pld_flavor = pld[pld['flavor'].notna()].copy()\n",
    "pld.info()"
   ]
  },
  {
   "cell_type": "code",
   "execution_count": 5,
   "metadata": {},
   "outputs": [],
   "source": [
    "# Dividing Flavor Combinations and Flavor Variants\n",
    "def divide(s: str):\n",
    "    s = s.lower()\n",
    "    \n",
    "    # Converting long string to short for clean data.\n",
    "    s = s.replace(', not specified', '-ns')\n",
    "    \n",
    "    # `-` represents `type` of flavor.\n",
    "    s = s.replace(', ', '-')\n",
    "    \n",
    "    # `+` represents `combination` of flavors.\n",
    "    s = s.replace('; ', ' + ')\n",
    "    \n",
    "    # Putting variants in array to convert them to separate rows later\n",
    "    s = s.split('|| ')\n",
    "    return s\n",
    "\n",
    "pld_flavor['flavor'] = pd.Series(map(lambda x: divide(x), pld_flavor['flavor']))"
   ]
  },
  {
   "cell_type": "code",
   "execution_count": 6,
   "metadata": {},
   "outputs": [
    {
     "data": {
      "text/html": [
       "<div>\n",
       "<style scoped>\n",
       "    .dataframe tbody tr th:only-of-type {\n",
       "        vertical-align: middle;\n",
       "    }\n",
       "\n",
       "    .dataframe tbody tr th {\n",
       "        vertical-align: top;\n",
       "    }\n",
       "\n",
       "    .dataframe thead th {\n",
       "        text-align: right;\n",
       "    }\n",
       "</style>\n",
       "<table border=\"1\" class=\"dataframe\">\n",
       "  <thead>\n",
       "    <tr style=\"text-align: right;\">\n",
       "      <th></th>\n",
       "      <th>market_subcategory</th>\n",
       "      <th>id</th>\n",
       "      <th>eventdate</th>\n",
       "      <th>country</th>\n",
       "      <th>positioning</th>\n",
       "      <th>region</th>\n",
       "      <th>flavor</th>\n",
       "    </tr>\n",
       "  </thead>\n",
       "  <tbody>\n",
       "    <tr>\n",
       "      <th>0</th>\n",
       "      <td>Other Soft Drinks</td>\n",
       "      <td>1</td>\n",
       "      <td>01-01-2005</td>\n",
       "      <td>Netherlands</td>\n",
       "      <td>Low Calorie, Natural</td>\n",
       "      <td>West Europe</td>\n",
       "      <td>[herbs-ns + fruit-ns]</td>\n",
       "    </tr>\n",
       "    <tr>\n",
       "      <th>1</th>\n",
       "      <td>Carbonates</td>\n",
       "      <td>2</td>\n",
       "      <td>01-01-2005</td>\n",
       "      <td>Ireland</td>\n",
       "      <td>Convenience - Consumption</td>\n",
       "      <td>West Europe</td>\n",
       "      <td>[fruit-ns]</td>\n",
       "    </tr>\n",
       "    <tr>\n",
       "      <th>2</th>\n",
       "      <td>Juice &amp; Juice Drinks</td>\n",
       "      <td>3</td>\n",
       "      <td>01-01-2005</td>\n",
       "      <td>Ireland</td>\n",
       "      <td>100% Not from Concentrate, Convenience - Consu...</td>\n",
       "      <td>West Europe</td>\n",
       "      <td>[lemon + honey + ginger]</td>\n",
       "    </tr>\n",
       "    <tr>\n",
       "      <th>3</th>\n",
       "      <td>Juice &amp; Juice Drinks</td>\n",
       "      <td>4</td>\n",
       "      <td>01-01-2005</td>\n",
       "      <td>Ireland</td>\n",
       "      <td>100% Not from Concentrate, Convenience - Consu...</td>\n",
       "      <td>West Europe</td>\n",
       "      <td>[mango + passion fruit]</td>\n",
       "    </tr>\n",
       "    <tr>\n",
       "      <th>4</th>\n",
       "      <td>Juice &amp; Juice Drinks</td>\n",
       "      <td>5</td>\n",
       "      <td>01-01-2005</td>\n",
       "      <td>Ireland</td>\n",
       "      <td>100% Not from Concentrate, Convenience - Consu...</td>\n",
       "      <td>West Europe</td>\n",
       "      <td>[mango]</td>\n",
       "    </tr>\n",
       "  </tbody>\n",
       "</table>\n",
       "</div>"
      ],
      "text/plain": [
       "     market_subcategory  id   eventdate      country  \\\n",
       "0     Other Soft Drinks   1  01-01-2005  Netherlands   \n",
       "1            Carbonates   2  01-01-2005      Ireland   \n",
       "2  Juice & Juice Drinks   3  01-01-2005      Ireland   \n",
       "3  Juice & Juice Drinks   4  01-01-2005      Ireland   \n",
       "4  Juice & Juice Drinks   5  01-01-2005      Ireland   \n",
       "\n",
       "                                         positioning       region  \\\n",
       "0                               Low Calorie, Natural  West Europe   \n",
       "1                          Convenience - Consumption  West Europe   \n",
       "2  100% Not from Concentrate, Convenience - Consu...  West Europe   \n",
       "3  100% Not from Concentrate, Convenience - Consu...  West Europe   \n",
       "4  100% Not from Concentrate, Convenience - Consu...  West Europe   \n",
       "\n",
       "                     flavor  \n",
       "0     [herbs-ns + fruit-ns]  \n",
       "1                [fruit-ns]  \n",
       "2  [lemon + honey + ginger]  \n",
       "3   [mango + passion fruit]  \n",
       "4                   [mango]  "
      ]
     },
     "execution_count": 6,
     "metadata": {},
     "output_type": "execute_result"
    }
   ],
   "source": [
    "pld_flavor.head()"
   ]
  },
  {
   "cell_type": "markdown",
   "metadata": {},
   "source": [
    "***\n",
    "#### Treatment of the '||' symbol for variant division."
   ]
  },
  {
   "cell_type": "markdown",
   "metadata": {},
   "source": [
    "As a separate product:\n",
    "\n",
    "   * Below is the [chart](https://www.statista.com/statistics/283986/soft-drinks-market-share-of-fruit-juice-in-the-united-kingdom-uk-by-flavour/) for soft-drink market share divided by flavors provided by statista. If we consider all variants of flavors as one product, it will cause lack of information when a flavor is performing better than another. \n",
    "   * From the chart, it is clear that 'orange' flavor overtook the whole market. Similarly, we might have high demand for one flavor than another. Production of low performing flavors can be reduced if we consider variants as separate products.\n",
    "   * Also if a product is released in multiple flavors, the total number of products released will be 1 if considered as single product. Dividing into multiple products will give a deeper look into total number of products released in an year or region.\n",
    "   \n",
    "   \n",
    "   <a href=\"https://www.statista.com/statistics/283986/soft-drinks-market-share-of-fruit-juice-in-the-united-kingdom-uk-by-flavour/\" rel=\"nofollow\"><img src=\"https://www.statista.com/graphic/1/283986/soft-drinks-market-share-of-fruit-juice-in-the-united-kingdom-uk-by-flavour.jpg\" alt=\"Statistic: Market share of fruit juice in the United Kingdom in 2020, by flavor | Statista\" style=\"width: 40%; height: auto !important; max-width:1000px;-ms-interpolation-mode: bicubic;\"/></a>\n",
    "   \n",
    "Alternate Case: \n",
    "\n",
    "* If we consider them as single product, we will not get variant based data.\n",
    "* If we ignore them as whole, it will be considered as a unique flavor as a combination than multiple variants.\n",
    "***"
   ]
  },
  {
   "cell_type": "code",
   "execution_count": 7,
   "metadata": {},
   "outputs": [],
   "source": [
    "# Stacking the array values and converting them into rows for each element in the array\n",
    "pld_flavor = pld_flavor.explode('flavor').copy()"
   ]
  },
  {
   "cell_type": "code",
   "execution_count": 8,
   "metadata": {
    "scrolled": true
   },
   "outputs": [
    {
     "data": {
      "text/html": [
       "<div>\n",
       "<style scoped>\n",
       "    .dataframe tbody tr th:only-of-type {\n",
       "        vertical-align: middle;\n",
       "    }\n",
       "\n",
       "    .dataframe tbody tr th {\n",
       "        vertical-align: top;\n",
       "    }\n",
       "\n",
       "    .dataframe thead th {\n",
       "        text-align: right;\n",
       "    }\n",
       "</style>\n",
       "<table border=\"1\" class=\"dataframe\">\n",
       "  <thead>\n",
       "    <tr style=\"text-align: right;\">\n",
       "      <th></th>\n",
       "      <th>market_subcategory</th>\n",
       "      <th>id</th>\n",
       "      <th>eventdate</th>\n",
       "      <th>country</th>\n",
       "      <th>positioning</th>\n",
       "      <th>region</th>\n",
       "      <th>flavor</th>\n",
       "    </tr>\n",
       "  </thead>\n",
       "  <tbody>\n",
       "    <tr>\n",
       "      <th>0</th>\n",
       "      <td>Other Soft Drinks</td>\n",
       "      <td>1</td>\n",
       "      <td>01-01-2005</td>\n",
       "      <td>Netherlands</td>\n",
       "      <td>Low Calorie, Natural</td>\n",
       "      <td>West Europe</td>\n",
       "      <td>herbs-ns + fruit-ns</td>\n",
       "    </tr>\n",
       "    <tr>\n",
       "      <th>1</th>\n",
       "      <td>Carbonates</td>\n",
       "      <td>2</td>\n",
       "      <td>01-01-2005</td>\n",
       "      <td>Ireland</td>\n",
       "      <td>Convenience - Consumption</td>\n",
       "      <td>West Europe</td>\n",
       "      <td>fruit-ns</td>\n",
       "    </tr>\n",
       "    <tr>\n",
       "      <th>2</th>\n",
       "      <td>Juice &amp; Juice Drinks</td>\n",
       "      <td>3</td>\n",
       "      <td>01-01-2005</td>\n",
       "      <td>Ireland</td>\n",
       "      <td>100% Not from Concentrate, Convenience - Consu...</td>\n",
       "      <td>West Europe</td>\n",
       "      <td>lemon + honey + ginger</td>\n",
       "    </tr>\n",
       "    <tr>\n",
       "      <th>3</th>\n",
       "      <td>Juice &amp; Juice Drinks</td>\n",
       "      <td>4</td>\n",
       "      <td>01-01-2005</td>\n",
       "      <td>Ireland</td>\n",
       "      <td>100% Not from Concentrate, Convenience - Consu...</td>\n",
       "      <td>West Europe</td>\n",
       "      <td>mango + passion fruit</td>\n",
       "    </tr>\n",
       "    <tr>\n",
       "      <th>4</th>\n",
       "      <td>Juice &amp; Juice Drinks</td>\n",
       "      <td>5</td>\n",
       "      <td>01-01-2005</td>\n",
       "      <td>Ireland</td>\n",
       "      <td>100% Not from Concentrate, Convenience - Consu...</td>\n",
       "      <td>West Europe</td>\n",
       "      <td>mango</td>\n",
       "    </tr>\n",
       "  </tbody>\n",
       "</table>\n",
       "</div>"
      ],
      "text/plain": [
       "     market_subcategory  id   eventdate      country  \\\n",
       "0     Other Soft Drinks   1  01-01-2005  Netherlands   \n",
       "1            Carbonates   2  01-01-2005      Ireland   \n",
       "2  Juice & Juice Drinks   3  01-01-2005      Ireland   \n",
       "3  Juice & Juice Drinks   4  01-01-2005      Ireland   \n",
       "4  Juice & Juice Drinks   5  01-01-2005      Ireland   \n",
       "\n",
       "                                         positioning       region  \\\n",
       "0                               Low Calorie, Natural  West Europe   \n",
       "1                          Convenience - Consumption  West Europe   \n",
       "2  100% Not from Concentrate, Convenience - Consu...  West Europe   \n",
       "3  100% Not from Concentrate, Convenience - Consu...  West Europe   \n",
       "4  100% Not from Concentrate, Convenience - Consu...  West Europe   \n",
       "\n",
       "                   flavor  \n",
       "0     herbs-ns + fruit-ns  \n",
       "1                fruit-ns  \n",
       "2  lemon + honey + ginger  \n",
       "3   mango + passion fruit  \n",
       "4                   mango  "
      ]
     },
     "execution_count": 8,
     "metadata": {},
     "output_type": "execute_result"
    }
   ],
   "source": [
    "pld_flavor.head()"
   ]
  },
  {
   "cell_type": "markdown",
   "metadata": {},
   "source": [
    "***\n",
    "#### 1. Create a list of unique flavors based on your analysis. What is the total number of unique flavors in your list?"
   ]
  },
  {
   "cell_type": "code",
   "execution_count": 9,
   "metadata": {},
   "outputs": [
    {
     "name": "stdout",
     "output_type": "stream",
     "text": [
      "Total Unique Flavors: 13678\n"
     ]
    }
   ],
   "source": [
    "unique = pld_flavor.flavor.unique()\n",
    "print('Total Unique Flavors:', len(unique))"
   ]
  },
  {
   "cell_type": "markdown",
   "metadata": {},
   "source": [
    "***\n",
    "#### 2. Plot histogram of market subcategory against eventdate (years). Do any categories show negative trend over years?"
   ]
  },
  {
   "cell_type": "code",
   "execution_count": 10,
   "metadata": {},
   "outputs": [],
   "source": [
    "pld_flavor['year'] = pd.DatetimeIndex(pld_flavor['eventdate']).year\n",
    "pld_flavor['quarter'] = pd.DatetimeIndex(pld_flavor['eventdate']).quarter"
   ]
  },
  {
   "cell_type": "code",
   "execution_count": 11,
   "metadata": {
    "scrolled": true
   },
   "outputs": [
    {
     "data": {
      "text/plain": [
       "<seaborn.axisgrid.FacetGrid at 0x20f26493130>"
      ]
     },
     "execution_count": 11,
     "metadata": {},
     "output_type": "execute_result"
    },
    {
     "data": {
      "image/png": "[encoded data removed]",
      "text/plain": [
       "<Figure size 216x3024 with 14 Axes>"
      ]
     },
     "metadata": {
      "needs_background": "light"
     },
     "output_type": "display_data"
    }
   ],
   "source": [
    "g = sns.FacetGrid(data = pld_flavor, row='market_subcategory', sharey=False, hue='year')\n",
    "g.map(sns.countplot, 'year', order = pld_flavor.year.unique())"
   ]
  },
  {
   "cell_type": "markdown",
   "metadata": {},
   "source": [
    "#### Looking for negative trends\n",
    "* Each bar represents an year from 2005 to 2014\n",
    "* Sports Others, Other Soft Drinks have seen complete negative trend. \n",
    "* Sports Powder, Energy Drinks, Sports Drinks RTD have seen a negative trend when compared to the early years, but after that it has seen a postive trend."
   ]
  },
  {
   "cell_type": "markdown",
   "metadata": {},
   "source": [
    "***\n",
    "#### 3. Which market subcategory has highest unique flavors?"
   ]
  },
  {
   "cell_type": "code",
   "execution_count": 12,
   "metadata": {},
   "outputs": [
    {
     "data": {
      "text/plain": [
       "'Juice & Juice Drinks'"
      ]
     },
     "execution_count": 12,
     "metadata": {},
     "output_type": "execute_result"
    }
   ],
   "source": [
    "pld_nodup = pld.drop_duplicates(subset=['flavor'])\n",
    "pld_nodup['market_subcategory'].mode()[0]"
   ]
  },
  {
   "cell_type": "markdown",
   "metadata": {},
   "source": [
    "<hr style=\"border:2px solid black\"> </hr>\n",
    "\n",
    "### 2. Data Exploration: Merging and Manipulating Datasets:"
   ]
  },
  {
   "cell_type": "code",
   "execution_count": 13,
   "metadata": {},
   "outputs": [
    {
     "name": "stdout",
     "output_type": "stream",
     "text": [
      "<class 'pandas.core.frame.DataFrame'>\n",
      "RangeIndex: 1445 entries, 0 to 1444\n",
      "Data columns (total 2 columns):\n",
      " #   Column        Non-Null Count  Dtype \n",
      "---  ------        --------------  ----- \n",
      " 0   Flavor_Group  1445 non-null   object\n",
      " 1   flavor        1445 non-null   object\n",
      "dtypes: object(2)\n",
      "memory usage: 22.7+ KB\n"
     ]
    }
   ],
   "source": [
    "fcd = pd.read_csv('./Flavor Classification Dataset.csv',encoding='latin-1')\n",
    "fcd.info()"
   ]
  },
  {
   "cell_type": "code",
   "execution_count": 14,
   "metadata": {},
   "outputs": [
    {
     "data": {
      "text/html": [
       "<div>\n",
       "<style scoped>\n",
       "    .dataframe tbody tr th:only-of-type {\n",
       "        vertical-align: middle;\n",
       "    }\n",
       "\n",
       "    .dataframe tbody tr th {\n",
       "        vertical-align: top;\n",
       "    }\n",
       "\n",
       "    .dataframe thead th {\n",
       "        text-align: right;\n",
       "    }\n",
       "</style>\n",
       "<table border=\"1\" class=\"dataframe\">\n",
       "  <thead>\n",
       "    <tr style=\"text-align: right;\">\n",
       "      <th></th>\n",
       "      <th>Flavor_Group</th>\n",
       "      <th>flavor</th>\n",
       "    </tr>\n",
       "  </thead>\n",
       "  <tbody>\n",
       "    <tr>\n",
       "      <th>0</th>\n",
       "      <td>Alcohol</td>\n",
       "      <td>vodka-citron</td>\n",
       "    </tr>\n",
       "    <tr>\n",
       "      <th>1</th>\n",
       "      <td>Alcohol</td>\n",
       "      <td>bacardi</td>\n",
       "    </tr>\n",
       "    <tr>\n",
       "      <th>2</th>\n",
       "      <td>Alcohol</td>\n",
       "      <td>bacardi-gold</td>\n",
       "    </tr>\n",
       "    <tr>\n",
       "      <th>3</th>\n",
       "      <td>Alcohol</td>\n",
       "      <td>bacardi-silver</td>\n",
       "    </tr>\n",
       "    <tr>\n",
       "      <th>4</th>\n",
       "      <td>Alcohol</td>\n",
       "      <td>beer-ale</td>\n",
       "    </tr>\n",
       "  </tbody>\n",
       "</table>\n",
       "</div>"
      ],
      "text/plain": [
       "  Flavor_Group          flavor\n",
       "0      Alcohol    vodka-citron\n",
       "1      Alcohol         bacardi\n",
       "2      Alcohol    bacardi-gold\n",
       "3      Alcohol  bacardi-silver\n",
       "4      Alcohol        beer-ale"
      ]
     },
     "execution_count": 14,
     "metadata": {},
     "output_type": "execute_result"
    }
   ],
   "source": [
    "# Standardising the flavor column\n",
    "fcd['flavor'] = pd.Series(map(lambda x: divide(x), fcd['flavor']))\n",
    "fcd = fcd.explode('flavor')\n",
    "fcd.head()"
   ]
  },
  {
   "cell_type": "code",
   "execution_count": 15,
   "metadata": {},
   "outputs": [
    {
     "name": "stdout",
     "output_type": "stream",
     "text": [
      "<class 'pandas.core.frame.DataFrame'>\n",
      "Int64Index: 76460 entries, 0 to 76459\n",
      "Data columns (total 10 columns):\n",
      " #   Column              Non-Null Count  Dtype \n",
      "---  ------              --------------  ----- \n",
      " 0   market_subcategory  76460 non-null  object\n",
      " 1   id                  76460 non-null  int64 \n",
      " 2   eventdate           76460 non-null  object\n",
      " 3   country             76460 non-null  object\n",
      " 4   positioning         73558 non-null  object\n",
      " 5   region              76460 non-null  object\n",
      " 6   flavor              76460 non-null  object\n",
      " 7   year                76460 non-null  int64 \n",
      " 8   quarter             76460 non-null  int64 \n",
      " 9   Flavor_Group        76460 non-null  object\n",
      "dtypes: int64(3), object(7)\n",
      "memory usage: 6.4+ MB\n"
     ]
    }
   ],
   "source": [
    "# Merging PLD with FCD over flavor to get Flavor_Group\n",
    "pld_withFG = pld_flavor.merge(fcd, left_on='flavor', right_on='flavor')\n",
    "pld_withFG.info()"
   ]
  },
  {
   "cell_type": "markdown",
   "metadata": {},
   "source": [
    "***\n",
    "#### Number of product launches over different quarters for “fruit” flavor"
   ]
  },
  {
   "cell_type": "code",
   "execution_count": 16,
   "metadata": {
    "scrolled": true
   },
   "outputs": [
    {
     "data": {
      "text/plain": [
       "<AxesSubplot:xlabel='year', ylabel='count'>"
      ]
     },
     "execution_count": 16,
     "metadata": {},
     "output_type": "execute_result"
    },
    {
     "data": {
      "image/png": "[encoded data removed]",
      "text/plain": [
       "<Figure size 432x288 with 1 Axes>"
      ]
     },
     "metadata": {
      "needs_background": "light"
     },
     "output_type": "display_data"
    }
   ],
   "source": [
    "sns.countplot(data=pld_withFG[pld_withFG['Flavor_Group']=='Fruit'], x='year', hue='quarter')"
   ]
  },
  {
   "cell_type": "markdown",
   "metadata": {},
   "source": [
    "Since there is high difference between Q1 and other quarters, it is better to see tabular data."
   ]
  },
  {
   "cell_type": "code",
   "execution_count": 17,
   "metadata": {},
   "outputs": [
    {
     "data": {
      "text/plain": [
       "year  quarter\n",
       "2005  1          4679\n",
       "      2             5\n",
       "      3             2\n",
       "      4             1\n",
       "2006  1          3981\n",
       "2007  1          3897\n",
       "2008  1          3985\n",
       "2009  1          4457\n",
       "2010  1          5091\n",
       "      2             3\n",
       "      3             4\n",
       "2011  1          6188\n",
       "2012  1          6135\n",
       "2013  1          7449\n",
       "      3             1\n",
       "      4             2\n",
       "2014  1          6249\n",
       "Name: id, dtype: int64"
      ]
     },
     "execution_count": 17,
     "metadata": {},
     "output_type": "execute_result"
    }
   ],
   "source": [
    "pld_withFG[pld_withFG['Flavor_Group']=='Fruit'].groupby(['year', 'quarter']).count()['id']"
   ]
  },
  {
   "cell_type": "markdown",
   "metadata": {},
   "source": [
    "Here, we can see Q1 has more product launches in 'Fruit' flavor group, with negligible product launches in 2,3,4 quarters.\n",
    "\n",
    "**Since, Q2 is the beginning of the summer season, product launches for 'fruit' flavor right before the season is seen.**"
   ]
  },
  {
   "cell_type": "markdown",
   "metadata": {},
   "source": [
    "<hr style=\"border:2px solid black\"> </hr>\n",
    "\n",
    "### 3. Data Formatting, Merging and Manipulating Datasets:"
   ]
  },
  {
   "cell_type": "code",
   "execution_count": 18,
   "metadata": {
    "scrolled": true
   },
   "outputs": [
    {
     "name": "stdout",
     "output_type": "stream",
     "text": [
      "<class 'pandas.core.frame.DataFrame'>\n",
      "RangeIndex: 114 entries, 0 to 113\n",
      "Data columns (total 2 columns):\n",
      " #   Column                   Non-Null Count  Dtype \n",
      "---  ------                   --------------  ----- \n",
      " 0   Positioning Group        114 non-null    object\n",
      " 1   Positioning Subcategory  114 non-null    object\n",
      "dtypes: object(2)\n",
      "memory usage: 1.9+ KB\n"
     ]
    }
   ],
   "source": [
    "pcmd = pd.read_csv('./Positioning Category Mapping Dataset.csv',encoding='latin-1')\n",
    "pcmd.info()"
   ]
  },
  {
   "cell_type": "code",
   "execution_count": 19,
   "metadata": {},
   "outputs": [
    {
     "data": {
      "text/html": [
       "<div>\n",
       "<style scoped>\n",
       "    .dataframe tbody tr th:only-of-type {\n",
       "        vertical-align: middle;\n",
       "    }\n",
       "\n",
       "    .dataframe tbody tr th {\n",
       "        vertical-align: top;\n",
       "    }\n",
       "\n",
       "    .dataframe thead th {\n",
       "        text-align: right;\n",
       "    }\n",
       "</style>\n",
       "<table border=\"1\" class=\"dataframe\">\n",
       "  <thead>\n",
       "    <tr style=\"text-align: right;\">\n",
       "      <th></th>\n",
       "      <th>Positioning Group</th>\n",
       "      <th>Positioning Subcategory</th>\n",
       "    </tr>\n",
       "  </thead>\n",
       "  <tbody>\n",
       "    <tr>\n",
       "      <th>0</th>\n",
       "      <td>Age</td>\n",
       "      <td>Children (5-12 years)</td>\n",
       "    </tr>\n",
       "    <tr>\n",
       "      <th>1</th>\n",
       "      <td>Age</td>\n",
       "      <td>Seniors (55+)</td>\n",
       "    </tr>\n",
       "    <tr>\n",
       "      <th>2</th>\n",
       "      <td>Others</td>\n",
       "      <td>Economy</td>\n",
       "    </tr>\n",
       "    <tr>\n",
       "      <th>3</th>\n",
       "      <td>Choice</td>\n",
       "      <td>Halal</td>\n",
       "    </tr>\n",
       "    <tr>\n",
       "      <th>4</th>\n",
       "      <td>Choice</td>\n",
       "      <td>Kosher</td>\n",
       "    </tr>\n",
       "  </tbody>\n",
       "</table>\n",
       "</div>"
      ],
      "text/plain": [
       "  Positioning Group Positioning Subcategory\n",
       "0               Age   Children (5-12 years)\n",
       "1               Age           Seniors (55+)\n",
       "2            Others                 Economy\n",
       "3            Choice                   Halal\n",
       "4            Choice                  Kosher"
      ]
     },
     "execution_count": 19,
     "metadata": {},
     "output_type": "execute_result"
    }
   ],
   "source": [
    "pcmd.head()"
   ]
  },
  {
   "cell_type": "code",
   "execution_count": 20,
   "metadata": {},
   "outputs": [],
   "source": [
    "# Dividing Multiple Positioning values into a list\n",
    "def divide(s: str):\n",
    "    s = s.lower()\n",
    "    \n",
    "    # Putting variants in array to convert them to separate rows later\n",
    "    s = s.split(', ')\n",
    "    return s\n",
    "\n",
    "pld_pos = pld[pld['positioning'].notna()].copy()\n",
    "pld_pos['positioning'] = pd.Series(map(lambda x: divide(x), pld_pos['positioning']))"
   ]
  },
  {
   "cell_type": "code",
   "execution_count": 21,
   "metadata": {},
   "outputs": [
    {
     "name": "stdout",
     "output_type": "stream",
     "text": [
      "<class 'pandas.core.frame.DataFrame'>\n",
      "Int64Index: 321671 entries, 0 to 114688\n",
      "Data columns (total 7 columns):\n",
      " #   Column              Non-Null Count   Dtype \n",
      "---  ------              --------------   ----- \n",
      " 0   market_subcategory  321671 non-null  object\n",
      " 1   id                  321671 non-null  int64 \n",
      " 2   eventdate           321671 non-null  object\n",
      " 3   country             321671 non-null  object\n",
      " 4   positioning         317455 non-null  object\n",
      " 5   region              321671 non-null  object\n",
      " 6   flavor              316814 non-null  object\n",
      "dtypes: int64(1), object(6)\n",
      "memory usage: 19.6+ MB\n"
     ]
    }
   ],
   "source": [
    "pld_pos = pld_pos.explode('positioning')\n",
    "pld_pos.info()"
   ]
  },
  {
   "cell_type": "markdown",
   "metadata": {},
   "source": [
    "***\n",
    "#### Standardizing the positioning subcategory column in PCMD and merging with PLD"
   ]
  },
  {
   "cell_type": "code",
   "execution_count": 22,
   "metadata": {},
   "outputs": [],
   "source": [
    "pcmd['Positioning Subcategory'] = pcmd['Positioning Subcategory'].apply(lambda x: x.lower())"
   ]
  },
  {
   "cell_type": "code",
   "execution_count": 23,
   "metadata": {},
   "outputs": [],
   "source": [
    "pld_withPSC = pld_pos.merge(pcmd, left_on='positioning', right_on='Positioning Subcategory')"
   ]
  },
  {
   "cell_type": "markdown",
   "metadata": {},
   "source": [
    "#### Distribution of Convenience Positioning Group along with pie chart"
   ]
  },
  {
   "cell_type": "code",
   "execution_count": 24,
   "metadata": {},
   "outputs": [
    {
     "data": {
      "text/plain": [
       "positioning\n",
       "convenience - consumption        55674\n",
       "convenience - easy-to-prepare    10851\n",
       "convenience - packaging           9572\n",
       "convenience - ready prepared       607\n",
       "convenience - time saving          793\n",
       "Name: id, dtype: int64"
      ]
     },
     "execution_count": 24,
     "metadata": {},
     "output_type": "execute_result"
    }
   ],
   "source": [
    "pld_withPSC[pld_withPSC['Positioning Group']=='Convenience'].groupby('positioning').count()['id']"
   ]
  },
  {
   "cell_type": "code",
   "execution_count": 25,
   "metadata": {},
   "outputs": [
    {
     "data": {
      "image/png": "[encoded data removed]",
      "text/plain": [
       "<Figure size 360x360 with 1 Axes>"
      ]
     },
     "metadata": {},
     "output_type": "display_data"
    }
   ],
   "source": [
    "# Plotting Pie chart\n",
    "fig = plt.figure(figsize =(5, 5))\n",
    "labels=['Consumption', 'Easy-To-Prepare', 'Packaging', 'Ready Prepared', 'Time Saving']\n",
    "wp = { 'linewidth' : 1.5, 'edgecolor' : \"black\" }\n",
    "temp = plt.pie(data=pld_withPSC[pld_withPSC['Positioning Group']=='Convenience'].groupby('positioning').count(), \n",
    "               x='id',\n",
    "               labels=labels, \n",
    "               wedgeprops=wp, \n",
    "               autopct='%.0f%%')"
   ]
  },
  {
   "cell_type": "markdown",
   "metadata": {},
   "source": [
    "Convenience Consumption takes 72% of the total distribution of Convenience Positioning Group."
   ]
  },
  {
   "cell_type": "markdown",
   "metadata": {},
   "source": [
    "#### Distribution of Ethical Positioning Group along with pie chart"
   ]
  },
  {
   "cell_type": "code",
   "execution_count": 26,
   "metadata": {},
   "outputs": [
    {
     "data": {
      "text/plain": [
       "positioning\n",
       "ethical - animal/fish & bird      104\n",
       "ethical - environment            1587\n",
       "ethical - human                  1164\n",
       "ethical - not specific             26\n",
       "ethical - packaging             17521\n",
       "dtype: int64"
      ]
     },
     "execution_count": 26,
     "metadata": {},
     "output_type": "execute_result"
    }
   ],
   "source": [
    "pld_withPSC[pld_withPSC['Positioning Group'] == 'Ethical'].groupby('positioning').size()"
   ]
  },
  {
   "cell_type": "code",
   "execution_count": 27,
   "metadata": {},
   "outputs": [
    {
     "data": {
      "image/png": "[encoded data removed]",
      "text/plain": [
       "<Figure size 360x360 with 1 Axes>"
      ]
     },
     "metadata": {},
     "output_type": "display_data"
    }
   ],
   "source": [
    "fig = plt.figure(figsize =(5, 5))\n",
    "labels=['Animal/Fish&Bird', 'Environment', 'Human', 'Not Specific', 'Packaging']\n",
    "wp = { 'linewidth' : 1.5, 'edgecolor' : \"black\" }\n",
    "temp = plt.pie(data=pld_withPSC[pld_withPSC['Positioning Group']=='Ethical'].groupby('positioning').count(), \n",
    "               x='id',\n",
    "               labels=labels, \n",
    "               wedgeprops=wp,\n",
    "               autopct='%.0f%%')"
   ]
  },
  {
   "cell_type": "markdown",
   "metadata": {},
   "source": [
    "Ethical Packaging takes 86% of the total distribution of Ethical Positioning Group."
   ]
  },
  {
   "cell_type": "markdown",
   "metadata": {},
   "source": [
    "<hr style=\"border:2px solid black\"> </hr>\n",
    "\n",
    "### 4. Data Aggregation\n",
    "Since Pivot Tables, Charts, and Slicers are required, It is done in <u>Excel</u>.\n",
    "\n",
    "file: `\"./Product Launch Dataset - Summary Stats.xlsx\"`"
   ]
  },
  {
   "cell_type": "markdown",
   "metadata": {},
   "source": [
    "<hr style=\"border:2px solid black\"> </hr>\n",
    "\n",
    "### 5. Data Exploration: Filtering and Subsetting"
   ]
  },
  {
   "cell_type": "markdown",
   "metadata": {},
   "source": [
    "####  Data from the Canada market for the year 2013 about Energy-Drinks with Ethical packaging."
   ]
  },
  {
   "cell_type": "code",
   "execution_count": 28,
   "metadata": {},
   "outputs": [
    {
     "data": {
      "text/html": [
       "<div>\n",
       "<style scoped>\n",
       "    .dataframe tbody tr th:only-of-type {\n",
       "        vertical-align: middle;\n",
       "    }\n",
       "\n",
       "    .dataframe tbody tr th {\n",
       "        vertical-align: top;\n",
       "    }\n",
       "\n",
       "    .dataframe thead th {\n",
       "        text-align: right;\n",
       "    }\n",
       "</style>\n",
       "<table border=\"1\" class=\"dataframe\">\n",
       "  <thead>\n",
       "    <tr style=\"text-align: right;\">\n",
       "      <th></th>\n",
       "      <th>market_subcategory</th>\n",
       "      <th>id</th>\n",
       "      <th>eventdate</th>\n",
       "      <th>country</th>\n",
       "      <th>positioning</th>\n",
       "      <th>region</th>\n",
       "      <th>flavor</th>\n",
       "    </tr>\n",
       "  </thead>\n",
       "  <tbody>\n",
       "    <tr>\n",
       "      <th>82404</th>\n",
       "      <td>Energy Drinks</td>\n",
       "      <td>82405</td>\n",
       "      <td>01-11-2013</td>\n",
       "      <td>Canada</td>\n",
       "      <td>Organic, Energy/Alertness, Ethical - Human, Et...</td>\n",
       "      <td>North America</td>\n",
       "      <td>Berry, Not specified; Tea, Green; Tea, Mate</td>\n",
       "    </tr>\n",
       "    <tr>\n",
       "      <th>82405</th>\n",
       "      <td>Energy Drinks</td>\n",
       "      <td>82406</td>\n",
       "      <td>01-11-2013</td>\n",
       "      <td>Canada</td>\n",
       "      <td>Brain Health, Energy/Alertness, Ethical - Pack...</td>\n",
       "      <td>North America</td>\n",
       "      <td>Citrus, Not Specified</td>\n",
       "    </tr>\n",
       "    <tr>\n",
       "      <th>82439</th>\n",
       "      <td>Energy Drinks</td>\n",
       "      <td>82440</td>\n",
       "      <td>01-11-2013</td>\n",
       "      <td>Canada</td>\n",
       "      <td>Brain Health, Energy/Alertness, Ethical - Pack...</td>\n",
       "      <td>North America</td>\n",
       "      <td>Cherry, Not Specified</td>\n",
       "    </tr>\n",
       "    <tr>\n",
       "      <th>82440</th>\n",
       "      <td>Energy Drinks</td>\n",
       "      <td>82441</td>\n",
       "      <td>01-11-2013</td>\n",
       "      <td>Canada</td>\n",
       "      <td>Brain Health, Energy/Alertness, Ethical - Pack...</td>\n",
       "      <td>North America</td>\n",
       "      <td>Berry, Mixed</td>\n",
       "    </tr>\n",
       "  </tbody>\n",
       "</table>\n",
       "</div>"
      ],
      "text/plain": [
       "      market_subcategory     id   eventdate country  \\\n",
       "82404      Energy Drinks  82405  01-11-2013  Canada   \n",
       "82405      Energy Drinks  82406  01-11-2013  Canada   \n",
       "82439      Energy Drinks  82440  01-11-2013  Canada   \n",
       "82440      Energy Drinks  82441  01-11-2013  Canada   \n",
       "\n",
       "                                             positioning         region  \\\n",
       "82404  Organic, Energy/Alertness, Ethical - Human, Et...  North America   \n",
       "82405  Brain Health, Energy/Alertness, Ethical - Pack...  North America   \n",
       "82439  Brain Health, Energy/Alertness, Ethical - Pack...  North America   \n",
       "82440  Brain Health, Energy/Alertness, Ethical - Pack...  North America   \n",
       "\n",
       "                                            flavor  \n",
       "82404  Berry, Not specified; Tea, Green; Tea, Mate  \n",
       "82405                        Citrus, Not Specified  \n",
       "82439                        Cherry, Not Specified  \n",
       "82440                                 Berry, Mixed  "
      ]
     },
     "execution_count": 28,
     "metadata": {},
     "output_type": "execute_result"
    }
   ],
   "source": [
    "pld[(pld['eventdate'].str.endswith('2013')) \n",
    "    & (pld['country']=='Canada') & (pld['market_subcategory']=='Energy Drinks') \n",
    "    & (pld['positioning'].str.find('Ethical - Packaging') != -1)]"
   ]
  },
  {
   "cell_type": "markdown",
   "metadata": {},
   "source": [
    "***\n",
    "#### Top 5 most produced unique flavors across each country in 2013."
   ]
  },
  {
   "cell_type": "code",
   "execution_count": 29,
   "metadata": {
    "scrolled": true
   },
   "outputs": [
    {
     "data": {
      "text/plain": [
       "country\n",
       "Albania                 [unflavored, cola, guava, lemon + malt, pineap...\n",
       "Algeria                 [unflavored, fruit-ns, grape-white + aloe vera...\n",
       "Angola                               [tea-ns + lemon + superfruit-cactus]\n",
       "Argentina               [orange-ns, apple-red, unflavored, lemon, grap...\n",
       "Australia               [unflavored, orange-ns, fruit-ns, apple-red, c...\n",
       "                                              ...                        \n",
       "United Arab Emirates    [orange-ns, mango, unflavored, apple-red, frui...\n",
       "United Kingdom          [unflavored, orange-ns, apple-red, lemon, grap...\n",
       "United States             [unflavored, orange-ns, apple-red, cola, mango]\n",
       "Uruguay                                                [mango, grape-red]\n",
       "Vietnam                 [orange-ns, coffee-ns, cola, superfruit-pomegr...\n",
       "Name: flavor, Length: 89, dtype: object"
      ]
     },
     "execution_count": 29,
     "metadata": {},
     "output_type": "execute_result"
    }
   ],
   "source": [
    "pld_flavor[pld_flavor['year']==2013].groupby(['country'])['flavor'].apply(lambda x: x.value_counts()[:5].index.tolist())"
   ]
  },
  {
   "cell_type": "markdown",
   "metadata": {},
   "source": [
    "***\n",
    "#### Top 5 most produced unique flavors across all countries in 2013."
   ]
  },
  {
   "cell_type": "code",
   "execution_count": 30,
   "metadata": {},
   "outputs": [
    {
     "data": {
      "text/plain": [
       "['unflavored', 'orange-ns', 'apple-red', 'lemon', 'fruit-ns']"
      ]
     },
     "execution_count": 30,
     "metadata": {},
     "output_type": "execute_result"
    }
   ],
   "source": [
    "pld_flavor[pld_flavor['year']==2013]['flavor'].value_counts()[:5].index.tolist()"
   ]
  },
  {
   "cell_type": "markdown",
   "metadata": {},
   "source": [
    "<hr style=\"border:2px solid black\"> </hr>\n",
    "\n",
    "### 6. Hypothesis Testing: TOP 5 Positioning Groups"
   ]
  },
  {
   "cell_type": "markdown",
   "metadata": {},
   "source": [
    "#### Top 5 most positioning groups across each country in 2013."
   ]
  },
  {
   "cell_type": "code",
   "execution_count": 31,
   "metadata": {},
   "outputs": [
    {
     "data": {
      "text/plain": [
       "country\n",
       "Albania                 [Convenience, Health (Passive), Juice, Ethical...\n",
       "Algeria                 [Convenience, Health (Passive), Juice, Health ...\n",
       "Angola                                              [Others, Convenience]\n",
       "Argentina               [Convenience, Health (Passive), Juice, Ethical...\n",
       "Australia               [Convenience, Health (Passive), Choice, Ethica...\n",
       "                                              ...                        \n",
       "Ukraine                 [Convenience, Juice, Health (Passive), Ethical...\n",
       "United Arab Emirates    [Convenience, Health (Passive), Juice, Ethical...\n",
       "United Kingdom          [Convenience, Health (Passive), Juice, Ethical...\n",
       "United States           [Convenience, Health (Passive), Ethical, Choic...\n",
       "Vietnam                 [Convenience, Health (Passive), Juice, Ethical...\n",
       "Name: Positioning Group, Length: 88, dtype: object"
      ]
     },
     "execution_count": 31,
     "metadata": {},
     "output_type": "execute_result"
    }
   ],
   "source": [
    "pld_withPSC[pld_withPSC['eventdate'].str.endswith('2013')\n",
    "           ].drop_duplicates(subset=['id','Positioning Group'\n",
    "                                    ]).groupby(['country'])['Positioning Group'\n",
    "                                                           ].apply(lambda x: x.value_counts()[:5].index.tolist())"
   ]
  },
  {
   "cell_type": "markdown",
   "metadata": {},
   "source": [
    "#### Top 5 most positioning groups across all countries in 2013."
   ]
  },
  {
   "cell_type": "code",
   "execution_count": 32,
   "metadata": {},
   "outputs": [
    {
     "data": {
      "text/plain": [
       "['Convenience', 'Health (Passive)', 'Juice', 'Ethical', 'Choice']"
      ]
     },
     "execution_count": 32,
     "metadata": {},
     "output_type": "execute_result"
    }
   ],
   "source": [
    "pld_withPSC[pld_withPSC['eventdate'].str.endswith('2013')\n",
    "           ].drop_duplicates(subset=['id','Positioning Group'])['Positioning Group'\n",
    "                                                               ].value_counts()[:5].index.tolist()"
   ]
  },
  {
   "cell_type": "markdown",
   "metadata": {},
   "source": [
    "***\n",
    "#### Testing Top 5 Positioning Groups for Dependency between each other."
   ]
  },
  {
   "cell_type": "code",
   "execution_count": 33,
   "metadata": {},
   "outputs": [],
   "source": [
    "hyp = pld_withPSC.sort_values('id')[['id', 'Positioning Group']].drop_duplicates(subset=['id', 'Positioning Group'])"
   ]
  },
  {
   "cell_type": "code",
   "execution_count": 34,
   "metadata": {},
   "outputs": [
    {
     "data": {
      "text/html": [
       "<div>\n",
       "<style scoped>\n",
       "    .dataframe tbody tr th:only-of-type {\n",
       "        vertical-align: middle;\n",
       "    }\n",
       "\n",
       "    .dataframe tbody tr th {\n",
       "        vertical-align: top;\n",
       "    }\n",
       "\n",
       "    .dataframe thead th {\n",
       "        text-align: right;\n",
       "    }\n",
       "</style>\n",
       "<table border=\"1\" class=\"dataframe\">\n",
       "  <thead>\n",
       "    <tr style=\"text-align: right;\">\n",
       "      <th></th>\n",
       "      <th>Convenience</th>\n",
       "      <th>Health (Passive)</th>\n",
       "      <th>Juice</th>\n",
       "      <th>Ethical</th>\n",
       "      <th>Choice</th>\n",
       "    </tr>\n",
       "    <tr>\n",
       "      <th>id</th>\n",
       "      <th></th>\n",
       "      <th></th>\n",
       "      <th></th>\n",
       "      <th></th>\n",
       "      <th></th>\n",
       "    </tr>\n",
       "  </thead>\n",
       "  <tbody>\n",
       "    <tr>\n",
       "      <th>1</th>\n",
       "      <td>False</td>\n",
       "      <td>True</td>\n",
       "      <td>False</td>\n",
       "      <td>False</td>\n",
       "      <td>False</td>\n",
       "    </tr>\n",
       "    <tr>\n",
       "      <th>2</th>\n",
       "      <td>True</td>\n",
       "      <td>False</td>\n",
       "      <td>False</td>\n",
       "      <td>False</td>\n",
       "      <td>False</td>\n",
       "    </tr>\n",
       "    <tr>\n",
       "      <th>3</th>\n",
       "      <td>True</td>\n",
       "      <td>True</td>\n",
       "      <td>True</td>\n",
       "      <td>False</td>\n",
       "      <td>False</td>\n",
       "    </tr>\n",
       "    <tr>\n",
       "      <th>4</th>\n",
       "      <td>True</td>\n",
       "      <td>True</td>\n",
       "      <td>True</td>\n",
       "      <td>False</td>\n",
       "      <td>False</td>\n",
       "    </tr>\n",
       "    <tr>\n",
       "      <th>5</th>\n",
       "      <td>True</td>\n",
       "      <td>True</td>\n",
       "      <td>True</td>\n",
       "      <td>False</td>\n",
       "      <td>False</td>\n",
       "    </tr>\n",
       "  </tbody>\n",
       "</table>\n",
       "</div>"
      ],
      "text/plain": [
       "    Convenience  Health (Passive)  Juice  Ethical  Choice\n",
       "id                                                       \n",
       "1         False              True  False    False   False\n",
       "2          True             False  False    False   False\n",
       "3          True              True   True    False   False\n",
       "4          True              True   True    False   False\n",
       "5          True              True   True    False   False"
      ]
     },
     "execution_count": 34,
     "metadata": {},
     "output_type": "execute_result"
    }
   ],
   "source": [
    "hyp['Convenience'] = hyp['Positioning Group'].apply(lambda x: x=='Convenience')\n",
    "hyp['Health (Passive)'] = hyp['Positioning Group'].apply(lambda x: x=='Health (Passive)')\n",
    "hyp['Juice'] = hyp['Positioning Group'].apply(lambda x: x=='Juice')\n",
    "hyp['Ethical'] = hyp['Positioning Group'].apply(lambda x: x=='Ethical')\n",
    "hyp['Choice'] = hyp['Positioning Group'].apply(lambda x: x=='Choice')\n",
    "hyp = hyp[['id','Convenience', 'Health (Passive)', 'Juice', 'Ethical', 'Choice']]\n",
    "hyp = hyp.groupby('id').sum().astype(bool)\n",
    "hyp.head()"
   ]
  },
  {
   "cell_type": "markdown",
   "metadata": {},
   "source": [
    "#### As we do not have numerical data, we have to go with <u>chi-square</u> test. As we are interested in independency, we use <u>pearson's chi-square test.</u>"
   ]
  },
  {
   "cell_type": "code",
   "execution_count": 35,
   "metadata": {},
   "outputs": [],
   "source": [
    "# Significance level - 5%\n",
    "alpha = 0.05"
   ]
  },
  {
   "cell_type": "markdown",
   "metadata": {},
   "source": [
    "#### Null Hypothesis - 1\n",
    "H0: Convenience PG is independent of Health (Passive) PG"
   ]
  },
  {
   "cell_type": "code",
   "execution_count": 36,
   "metadata": {},
   "outputs": [
    {
     "name": "stdout",
     "output_type": "stream",
     "text": [
      "Reject Null Hypothesis\n",
      "p-value: 0.0\n"
     ]
    }
   ],
   "source": [
    "(_, _), cont_tab_1 = stats.contingency.crosstab(hyp['Convenience'], hyp['Health (Passive)'])\n",
    "stat_1, p_1, dof_1, expected_1 = stats.chi2_contingency(cont_tab_1)\n",
    "\n",
    "if p_1 < alpha:\n",
    "    print('Reject Null Hypothesis')\n",
    "else:\n",
    "    print('Failed to Reject Null Hypothesis')\n",
    "\n",
    "print('p-value:', round(p_1, 3))"
   ]
  },
  {
   "cell_type": "markdown",
   "metadata": {},
   "source": [
    "* Since the p_value is less than our significance level 0.05, we reject the null hypothesis.\n",
    "* At 5% significance, we found a statistical evidence to prove dependency between Convenience and Health (Passive) Positional Groups\n",
    "* Since p-value has more than 3 `0`'s after decimal, there is no place for type-1 error\n",
    "---"
   ]
  },
  {
   "cell_type": "markdown",
   "metadata": {},
   "source": [
    "#### Null Hypothesis - 2\n",
    "H0: Health (Passive) PG is independent of Juice PG"
   ]
  },
  {
   "cell_type": "code",
   "execution_count": 37,
   "metadata": {},
   "outputs": [
    {
     "name": "stdout",
     "output_type": "stream",
     "text": [
      "Reject Null Hypothesis\n",
      "p-value: 0.0\n"
     ]
    }
   ],
   "source": [
    "(_, _), cont_tab_2 = stats.contingency.crosstab(hyp['Health (Passive)'], hyp['Juice'])\n",
    "stat_2, p_2, dof_2, expected_2 = stats.chi2_contingency(cont_tab_2)\n",
    "\n",
    "if p_2 < alpha:\n",
    "    print('Reject Null Hypothesis')\n",
    "else:\n",
    "    print('Failed to Reject Null Hypothesis')\n",
    "\n",
    "print('p-value:', round(p_2, 3))"
   ]
  },
  {
   "cell_type": "markdown",
   "metadata": {},
   "source": [
    "* Since the p_value is less than our significance level 0.05, we reject the null hypothesis.\n",
    "* At 5% significance, we found a statistical evidence to prove dependency between Health (Passive) and Juice Positional Groups\n",
    "* Since p-value has more than 3 `0`'s after decimal, there is no place for type-1 error \n",
    "---"
   ]
  },
  {
   "cell_type": "markdown",
   "metadata": {},
   "source": [
    "#### Null Hypothesis - 3\n",
    "H0: Juice PG is independent of Ethical PG"
   ]
  },
  {
   "cell_type": "code",
   "execution_count": 38,
   "metadata": {},
   "outputs": [
    {
     "name": "stdout",
     "output_type": "stream",
     "text": [
      "Reject Null Hypothesis\n",
      "p-value: 0.0\n"
     ]
    }
   ],
   "source": [
    "(_, _), cont_tab_3 = stats.contingency.crosstab(hyp['Juice'], hyp['Ethical'])\n",
    "stat_3, p_3, dof_3, expected_3 = stats.chi2_contingency(cont_tab_3)\n",
    "\n",
    "if p_3 < alpha:\n",
    "    print('Reject Null Hypothesis')\n",
    "else:\n",
    "    print('Failed to Reject Null Hypothesis')\n",
    "\n",
    "print('p-value:', round(p_3, 3))"
   ]
  },
  {
   "cell_type": "markdown",
   "metadata": {},
   "source": [
    "* Since the p_value is less than our significance level 0.05, we reject the null hypothesis.\n",
    "* At 5% significance, we found a statistical evidence to prove dependency between Juice and Ethical Positional Groups\n",
    "* Since p-value has more than 3 `0`'s after decimal, there is no place for type-1 error \n",
    "---"
   ]
  },
  {
   "cell_type": "markdown",
   "metadata": {},
   "source": [
    "#### Null Hypothesis - 4\n",
    "H0: Ethical PG is independent of Choice PG"
   ]
  },
  {
   "cell_type": "code",
   "execution_count": 39,
   "metadata": {},
   "outputs": [
    {
     "name": "stdout",
     "output_type": "stream",
     "text": [
      "Reject Null Hypothesis\n",
      "p-value: 0.0\n"
     ]
    }
   ],
   "source": [
    "(_, _), cont_tab_4 = stats.contingency.crosstab(hyp['Ethical'], hyp['Choice'])\n",
    "stat_4, p_4, dof_4, expected_4 = stats.chi2_contingency(cont_tab_4)\n",
    "if p_4 < alpha:\n",
    "    print('Reject Null Hypothesis')\n",
    "else:\n",
    "    print('Failed to Reject Null Hypothesis')\n",
    "\n",
    "print('p-value:', round(p_4, 3))"
   ]
  },
  {
   "cell_type": "markdown",
   "metadata": {},
   "source": [
    "\n",
    "* Since the p_value is less than our significance level 0.05, we reject the null hypothesis.\n",
    "* At 5% significance, we found a statistical evidence to prove dependency between Ethical and Choice Positional Groups\n",
    "* Since p-value has more than 3 `0`'s after decimal, there is no place for type-1 error "
   ]
  },
  {
   "cell_type": "markdown",
   "metadata": {},
   "source": [
    "#### Rejecting all the null hypotheses, we can state:\n",
    "* All the positioning groups are dependent on each other.\n",
    "* All of the tests revealing negligible p-values giving us strong statistical evidence on our decision.\n",
    "<hr style=\"border:2px solid black\"> </hr>"
   ]
  }
 ],
 "metadata": {
  "kernelspec": {
   "display_name": "Python 3",
   "language": "python",
   "name": "python3"
  },
  "language_info": {
   "codemirror_mode": {
    "name": "ipython",
    "version": 3
   },
   "file_extension": ".py",
   "mimetype": "text/x-python",
   "name": "python",
   "nbconvert_exporter": "python",
   "pygments_lexer": "ipython3",
   "version": "3.8.11"
  }
 },
 "nbformat": 4,
 "nbformat_minor": 5
}
