{
 "cells": [
  {
   "cell_type": "markdown",
   "metadata": {},
   "source": [
    "# Purpose\n",
    "This notebook describes the typical activities carried out at the beginning to a project / thread when customer shares new data. We will be trying to understand the tables, columns and information flow. Typically we also look for data issues and confirm with respective owners for resolution. At the end of this activity, the data sources and their treatment is finalized. Code in this notebook will not be part of the production code.\n",
    "\n",
    "This data can be downloaded from [here](https://drive.google.com/file/d/14FaUvJuhQLZevvqQcnOZZxvkvKbdPhZ7/view?usp=sharing)"
   ]
  },
  {
   "cell_type": "markdown",
   "metadata": {},
   "source": [
    "# Initialization"
   ]
  },
  {
   "cell_type": "code",
   "execution_count": 24,
   "metadata": {},
   "outputs": [
    {
     "name": "stdout",
     "output_type": "stream",
     "text": [
      "The autoreload extension is already loaded. To reload it, use:\n",
      "  %reload_ext autoreload\n"
     ]
    }
   ],
   "source": [
    "%load_ext autoreload\n",
    "%autoreload 2 "
   ]
  },
  {
   "cell_type": "code",
   "execution_count": 25,
   "metadata": {},
   "outputs": [],
   "source": [
    "import os\n",
    "import os.path as op\n",
    "import pandas as pd \n",
    "import great_expectations as ge\n",
    "from dateutil.relativedelta import relativedelta\n",
    "os.environ['TA_DEBUG'] = \"False\"\n",
    "os.environ['TA_ALLOW_EXCEPTIONS'] = \"True\""
   ]
  },
  {
   "cell_type": "code",
   "execution_count": 26,
   "metadata": {},
   "outputs": [],
   "source": [
    "import warnings\n",
    "\n",
    "warnings.filterwarnings('ignore', message=\"The sklearn.metrics.classification module\", category=FutureWarning)\n",
    "warnings.filterwarnings('ignore', message=\".*title_format is deprecated. Please use title instead.*\")"
   ]
  },
  {
   "cell_type": "code",
   "execution_count": 27,
   "metadata": {},
   "outputs": [
    {
     "name": "stdout",
     "output_type": "stream",
     "text": [
      "Wall time: 0 ns\n"
     ]
    }
   ],
   "source": [
    "%%time\n",
    "from ta_lib.core.api import (\n",
    "    create_context,\n",
    "    get_package_path,\n",
    "    display_as_tabs,\n",
    "    initialize_environment,\n",
    "    string_cleaning,\n",
    "    setanalyse,\n",
    "    merge_expectations\n",
    ")\n",
    "import ta_lib.core.api as dataset\n",
    "import ta_lib.eda.api as analysis\n",
    "import ta_lib.reports.api as health"
   ]
  },
  {
   "cell_type": "code",
   "execution_count": 28,
   "metadata": {},
   "outputs": [],
   "source": [
    "# Initialization\n",
    "initialize_environment(debug=False, hide_warnings=True)"
   ]
  },
  {
   "cell_type": "code",
   "execution_count": 166,
   "metadata": {},
   "outputs": [
    {
     "ename": "OSError",
     "evalue": "[Errno 22] Invalid argument",
     "output_type": "error",
     "traceback": [
      "\u001b[1;31m---------------------------------------------------------------------------\u001b[0m",
      "\u001b[1;31mOSError\u001b[0m                                   Traceback (most recent call last)",
      "\u001b[1;32m<ipython-input-166-6a5e7b07c7f0>\u001b[0m in \u001b[0;36m<module>\u001b[1;34m\u001b[0m\n\u001b[0;32m      1\u001b[0m \u001b[1;32mfrom\u001b[0m \u001b[0mdatetime\u001b[0m \u001b[1;32mimport\u001b[0m \u001b[0mdatetime\u001b[0m\u001b[1;33m\u001b[0m\u001b[1;33m\u001b[0m\u001b[0m\n\u001b[1;32m----> 2\u001b[1;33m \u001b[0mdatetime\u001b[0m\u001b[1;33m.\u001b[0m\u001b[0mfromtimestamp\u001b[0m\u001b[1;33m(\u001b[0m\u001b[1;36m20150304210002\u001b[0m\u001b[1;33m)\u001b[0m\u001b[1;33m\u001b[0m\u001b[1;33m\u001b[0m\u001b[0m\n\u001b[0m",
      "\u001b[1;31mOSError\u001b[0m: [Errno 22] Invalid argument"
     ]
    }
   ],
   "source": []
  },
  {
   "cell_type": "markdown",
   "metadata": {},
   "source": [
    "# Data"
   ]
  },
  {
   "cell_type": "markdown",
   "metadata": {},
   "source": [
    "## Background\n",
    "\n",
    "Customer is a distributor of consumption goods. There are a variety of data files which we would be using. For more refer to the readme in the data archive. Business wants to know whether a particular customer will churn or not with Machine learning. \n",
    "\n",
    "Below is an overview of each of the keys in the dataset:\n",
    "\n",
    "| | Key | Dataset | Details |\n",
    "|--|--|--|--|\n",
    "| 1 | opportunity_id | opportunity.xlsb | The monthly primary sales from the manufacturer to each distributor. The column pri_sales_amount indicates the sales. We will use this column for defining churn of a distributor, i.e. whenever the sales turn 0 or negative, the distributor would be defined as churned. The cutoff or reference date we'll use to predict future churn is 2013-05-01 |\n",
    "| 2 | product_id | product.xlsb | The monthly secondary business, with column sec_netvalues identifying the total sales from each distributor |"
   ]
  },
  {
   "cell_type": "code",
   "execution_count": 133,
   "metadata": {},
   "outputs": [
    {
     "name": "stdout",
     "output_type": "stream",
     "text": [
      "Requirement already satisfied: pyxlsb in c:\\users\\pavankumar.balij\\anaconda3\\envs\\try-cla-dev-dev\\lib\\site-packages (1.0.9)\n",
      "Wall time: 55.3 s\n"
     ]
    },
    {
     "data": {
      "text/plain": [
       "((313571, 16), (142431, 8))"
      ]
     },
     "execution_count": 133,
     "metadata": {},
     "output_type": "execute_result"
    }
   ],
   "source": [
    "%%time\n",
    "!pip install pyxlsb\n",
    "opp_xlsb = pd.read_excel('../../data/raw/opportunity/opportunity.xlsb', engine='pyxlsb')\n",
    "pro_xlsb = pd.read_excel('../../data/raw/opportunity/product.xlsb', engine='pyxlsb')\n",
    "opp_xlsb.shape, pro_xlsb.shape"
   ]
  },
  {
   "cell_type": "code",
   "execution_count": 161,
   "metadata": {},
   "outputs": [
    {
     "name": "stdout",
     "output_type": "stream",
     "text": [
      "\n",
      "Opportunity Data Null Values:\n",
      "\n",
      "Opportunity ID                     0\n",
      "Transition To Stage                0\n",
      "Transition To Timestamp            0\n",
      "Transition From Stage Name      5250\n",
      "Transition From Timestamp       5250\n",
      "Customer Name                      0\n",
      "Risk Status                   200380\n",
      "Creation Date                      0\n",
      "Decision Date                      0\n",
      "Opportunity Status               826\n",
      "Opportunity Type               21384\n",
      "Core Consumption Market            0\n",
      "Core Product Segment               0\n",
      "Core Sales Segment                 0\n",
      "Geography                          0\n",
      "Core Product Application           0\n",
      "dtype: int64\n",
      "\n",
      "Product Data Null Values:\n",
      "\n",
      "Opportunity ID            0\n",
      "Product ID                0\n",
      "Product Segment  Name     0\n",
      "Product Status           48\n",
      "Product $                 0\n",
      "Product Quantity          0\n",
      "Decision Date             0\n",
      "Snapshot Time             0\n",
      "dtype: int64\n"
     ]
    }
   ],
   "source": [
    "print('\\nOpportunity Data Null Values:\\n')\n",
    "print(opp_xlsb.isna().sum())\n",
    "print('\\nProduct Data Null Values:\\n')\n",
    "print(pro_xlsb.isna().sum())"
   ]
  },
  {
   "cell_type": "code",
   "execution_count": 31,
   "metadata": {},
   "outputs": [],
   "source": [
    "# opp_xlsb['Creation Date'] = pd.to_datetime(opp_xlsb['Creation Date'], unit='D', origin='1899-12-30')\n",
    "# opp_xlsb['Decision Date'] = pd.to_datetime(opp_xlsb['Decision Date'], unit='D', origin='1899-12-30')\n",
    "# pro_xlsb['Decision Date'] = pd.to_datetime(pro_xlsb['Decision Date'], unit='D', origin='1899-12-30')"
   ]
  },
  {
   "cell_type": "code",
   "execution_count": 32,
   "metadata": {},
   "outputs": [],
   "source": [
    "# opp_xlsb['Transition From Timestamp'] = opp_xlsb['Transition From Timestamp'].fillna(0).astype('int64').copy()\n",
    "# opp_xlsb['Transition From Stage Name'] = opp_xlsb['Transition From Stage Name'].fillna('Stage 0').astype('object').copy()"
   ]
  },
  {
   "cell_type": "code",
   "execution_count": 135,
   "metadata": {},
   "outputs": [],
   "source": [
    "opp_xlsb.to_csv('../../data/raw/opportunity/csv/opportunity.csv', index=False)\n",
    "pro_xlsb.to_csv('../../data/raw/opportunity/csv/product.csv', index=False)"
   ]
  },
  {
   "cell_type": "code",
   "execution_count": 136,
   "metadata": {},
   "outputs": [
    {
     "data": {
      "text/html": [
       "['/raw/product', '/raw/opportunity', '/cleaned/product', '/cleaned/opportunity', '/processed/merged', '/train/merged/features', '/train/merged/target', '/test/merged/features', '/test/merged/target', '/score/merged/output']"
      ],
      "text/plain": [
       "['/raw/product',\n",
       " '/raw/opportunity',\n",
       " '/cleaned/product',\n",
       " '/cleaned/opportunity',\n",
       " '/processed/merged',\n",
       " '/train/merged/features',\n",
       " '/train/merged/target',\n",
       " '/test/merged/features',\n",
       " '/test/merged/target',\n",
       " '/score/merged/output']"
      ]
     },
     "execution_count": 136,
     "metadata": {},
     "output_type": "execute_result"
    }
   ],
   "source": [
    "config_path = op.join('conf', 'config.yml')\n",
    "context = create_context(config_path)\n",
    "dataset.list_datasets(context)"
   ]
  },
  {
   "cell_type": "code",
   "execution_count": 137,
   "metadata": {},
   "outputs": [],
   "source": [
    "# Loading all datasets in a loop\n",
    "data = dict()\n",
    "for i in dataset.list_datasets(context):\n",
    "    if '/raw/' in i:\n",
    "        key_ = i.replace('/raw/','')+'_df'\n",
    "        data[key_] = dataset.load_dataset(context,i)\n",
    "        # Standardize column names\n",
    "        data[key_].columns = string_cleaning(data[key_].columns,lower=True)"
   ]
  },
  {
   "cell_type": "markdown",
   "metadata": {},
   "source": [
    "## Exploratory Data Analysis"
   ]
  },
  {
   "cell_type": "markdown",
   "metadata": {},
   "source": [
    "### Shape of Data"
   ]
  },
  {
   "cell_type": "code",
   "execution_count": 138,
   "metadata": {},
   "outputs": [
    {
     "data": {
      "text/html": [
       "<div>\n",
       "<style scoped>\n",
       "    .dataframe tbody tr th:only-of-type {\n",
       "        vertical-align: middle;\n",
       "    }\n",
       "\n",
       "    .dataframe tbody tr th {\n",
       "        vertical-align: top;\n",
       "    }\n",
       "\n",
       "    .dataframe thead th {\n",
       "        text-align: right;\n",
       "    }\n",
       "</style>\n",
       "<table border=\"1\" class=\"dataframe\">\n",
       "  <thead>\n",
       "    <tr style=\"text-align: right;\">\n",
       "      <th></th>\n",
       "      <th>rows</th>\n",
       "      <th>columns</th>\n",
       "    </tr>\n",
       "  </thead>\n",
       "  <tbody>\n",
       "    <tr>\n",
       "      <th>opportunity_df</th>\n",
       "      <td>313571</td>\n",
       "      <td>16</td>\n",
       "    </tr>\n",
       "    <tr>\n",
       "      <th>product_df</th>\n",
       "      <td>142431</td>\n",
       "      <td>8</td>\n",
       "    </tr>\n",
       "  </tbody>\n",
       "</table>\n",
       "</div>"
      ],
      "text/plain": [
       "                  rows  columns\n",
       "opportunity_df  313571       16\n",
       "product_df      142431        8"
      ]
     },
     "execution_count": 138,
     "metadata": {},
     "output_type": "execute_result"
    }
   ],
   "source": [
    "(\n",
    "    pd.DataFrame({x:data[x].shape for x in data.keys()})\n",
    "    .T\n",
    "    .rename(columns={0:'rows',1:'columns'})\n",
    "    .sort_values('rows',ascending=False)\n",
    ")"
   ]
  },
  {
   "cell_type": "code",
   "execution_count": 173,
   "metadata": {},
   "outputs": [
    {
     "data": {
      "text/plain": [
       "0        2015-02-11 13:00:01\n",
       "1        2015-02-13 05:00:02\n",
       "2        2015-02-18 21:00:07\n",
       "3        2015-03-04 21:00:02\n",
       "4        2015-03-04 21:00:02\n",
       "                 ...        \n",
       "313566   2016-10-25 07:51:57\n",
       "313567   2016-10-23 13:00:03\n",
       "313568   2016-10-25 07:51:57\n",
       "313569   2016-10-23 21:00:04\n",
       "313570   2016-10-25 07:51:57\n",
       "Name: transition to timestamp, Length: 313571, dtype: datetime64[ns]"
      ]
     },
     "execution_count": 173,
     "metadata": {},
     "output_type": "execute_result"
    }
   ],
   "source": [
    "pd.to_datetime(data['opportunity_df']['transition to timestamp'], format='%Y%m%d%H%M%S')"
   ]
  },
  {
   "cell_type": "markdown",
   "metadata": {},
   "source": [
    "## Variable summary"
   ]
  },
  {
   "cell_type": "code",
   "execution_count": 139,
   "metadata": {},
   "outputs": [
    {
     "data": {},
     "metadata": {},
     "output_type": "display_data"
    },
    {
     "data": {
      "application/vnd.holoviews_exec.v0+json": "",
      "text/html": [
       "<div id='1421'>\n",
       "\n",
       "\n",
       "\n",
       "\n",
       "\n",
       "  <div class=\"bk-root\" id=\"0f936167-8f90-4186-8e3e-7660572bf5bb\" data-root-id=\"1421\"></div>\n",
       "</div>\n",
       "<script type=\"application/javascript\">(function(root) {\n",
       "  function embed_document(root) {\n",
       "  var docs_json = {\"58961887-d1e4-47f2-acc4-3a0e035539aa\":{\"roots\":{\"references\":[{\"attributes\":{},\"id\":\"1424\",\"type\":\"StringEditor\"},{\"attributes\":{},\"id\":\"1434\",\"type\":\"StringEditor\"},{\"attributes\":{},\"id\":\"1454\",\"type\":\"StringEditor\"},{\"attributes\":{\"columns\":[{\"id\":\"1425\"},{\"id\":\"1430\"},{\"id\":\"1435\"},{\"id\":\"1440\"},{\"id\":\"1445\"}],\"editable\":true,\"fit_columns\":true,\"height\":230,\"index_position\":null,\"margin\":[5,10,5,10],\"name\":\"product_df\",\"source\":{\"id\":\"1422\"},\"view\":{\"id\":\"1449\"}},\"id\":\"1448\",\"type\":\"DataTable\"},{\"attributes\":{},\"id\":\"1423\",\"type\":\"StringFormatter\"},{\"attributes\":{},\"id\":\"1453\",\"type\":\"StringFormatter\"},{\"attributes\":{\"source\":{\"id\":\"1422\"}},\"id\":\"1449\",\"type\":\"CDSView\"},{\"attributes\":{},\"id\":\"1458\",\"type\":\"StringFormatter\"},{\"attributes\":{},\"id\":\"1468\",\"type\":\"StringFormatter\"},{\"attributes\":{\"child\":{\"id\":\"1478\"},\"name\":\"opportunity_df\",\"title\":\"opportunity_df\"},\"id\":\"1481\",\"type\":\"Panel\"},{\"attributes\":{\"data\":{\"Datatype\":[\"int64\",\"int64\",\"object\",\"object\",\"int64\",\"int64\",\"int64\",\"int64\"],\"No of Unique\":[\"2538\",\"4384\",\"1\",\"6\",\"2775\",\"1098\",\"496\",\"783\"],\"Samples\":[\"[1361, 1363, 1364, 5, 19]\",\"[6669, 6756, 6659, 6660, 404]\",\"['Product Segment NA']\",\"['Win Approved', 'Pending', 'Win Submitted', 'Cancelled', 'Deleted']\",\"[0, 230400, 1056000, 777000, 647500]\",\"[1, 1200, 400000, 200000, 3000]\",\"[42228, 42247, 42109, 42204, 42216]\",\"[20151125050002, 20151025050002, 20160105050003, 20160101050003, 20150525050003]\"],\"Variable Name\":[\"opportunity id\",\"product id\",\"product segment name\",\"product status\",\"product $\",\"product quantity\",\"decision date\",\"snapshot time\"],\"index\":[\"opportunity id\",\"product id\",\"product segment name\",\"product status\",\"product $\",\"product quantity\",\"decision date\",\"snapshot time\"]},\"selected\":{\"id\":\"1450\"},\"selection_policy\":{\"id\":\"1483\"}},\"id\":\"1422\",\"type\":\"ColumnDataSource\"},{\"attributes\":{\"editor\":{\"id\":\"1469\"},\"field\":\"No of Unique\",\"formatter\":{\"id\":\"1468\"},\"title\":\"No of Unique\",\"width\":null},\"id\":\"1470\",\"type\":\"TableColumn\"},{\"attributes\":{},\"id\":\"1474\",\"type\":\"StringEditor\"},{\"attributes\":{\"data\":{\"Datatype\":[\"int64\",\"object\",\"int64\",\"object\",\"float64\",\"object\",\"object\",\"int64\",\"int64\",\"object\",\"object\",\"object\",\"object\",\"object\",\"object\",\"object\"],\"No of Unique\":[\"5250\",\"9\",\"1558\",\"9\",\"1557\",\"2649\",\"3\",\"559\",\"779\",\"3\",\"2\",\"20\",\"11\",\"20\",\"6\",\"49\"],\"Samples\":[\"[5, 19, 46, 47, 93]\",\"['Stage 3', 'Stage 4', 'Stage 5', 'Stage 9', 'Stage 2']\",\"[20150211130001, 20150213050002, 20150218210007, 20150304210002, 20150316130001]\",\"['Stage 3', 'Stage 4', 'Stage 5', 'Stage 9', 'Stage 2']\",\"[nan, 20150211130001.0, 20150213050002.0, 20150218210007.0, 20150304210002.0]\",\"['Customer 83', 'Customer 216', 'Customer 108', 'Customer 8478', 'Customer 117']\",\"['No Risk', 'Others', 'Pricing']\",\"[42046, 42047, 42048, 42049, 42051]\",\"[42075, 42005, 42230, 42111, 42156]\",\"['Open', 'Closed/Won', 'Closed/Lost']\",\"['Deal', 'Design']\",\"['Core Market 11', 'Core Market 19', 'Core Market 3', 'Core Market 16', 'Core Market 6']\",\"['Core Prd Seg 3', 'Core Prd Seg 4', 'Core Prd Seg 5', 'Core Prd Seg 8', 'Core Prd Seg 2']\",\"['Sales Segment 8', 'Sales Segment 1', 'Sales Segment 2', 'Sales Segment 4', 'Sales Segment 7']\",\"['Geo NA', 'Geo 1', 'Geo 3', 'Geo 5', 'Geo 2']\",\"['Prd App 4', 'Prd App 13', 'Prd App 15', 'Prd App 22', 'Prd App 18']\"],\"Variable Name\":[\"opportunity id\",\"transition to stage\",\"transition to timestamp\",\"transition from stage name\",\"transition from timestamp\",\"customer name\",\"risk status\",\"creation date\",\"decision date\",\"opportunity status\",\"opportunity type\",\"core consumption market\",\"core product segment\",\"core sales segment\",\"geography\",\"core product application\"],\"index\":[\"opportunity id\",\"transition to stage\",\"transition to timestamp\",\"transition from stage name\",\"transition from timestamp\",\"customer name\",\"risk status\",\"creation date\",\"decision date\",\"opportunity status\",\"opportunity type\",\"core consumption market\",\"core product segment\",\"core sales segment\",\"geography\",\"core product application\"]},\"selected\":{\"id\":\"1480\"},\"selection_policy\":{\"id\":\"1485\"}},\"id\":\"1452\",\"type\":\"ColumnDataSource\"},{\"attributes\":{},\"id\":\"1485\",\"type\":\"UnionRenderers\"},{\"attributes\":{},\"id\":\"1459\",\"type\":\"StringEditor\"},{\"attributes\":{\"editor\":{\"id\":\"1434\"},\"field\":\"Datatype\",\"formatter\":{\"id\":\"1433\"},\"title\":\"Datatype\",\"width\":null},\"id\":\"1435\",\"type\":\"TableColumn\"},{\"attributes\":{},\"id\":\"1428\",\"type\":\"StringFormatter\"},{\"attributes\":{},\"id\":\"1473\",\"type\":\"StringFormatter\"},{\"attributes\":{\"source\":{\"id\":\"1452\"}},\"id\":\"1479\",\"type\":\"CDSView\"},{\"attributes\":{\"child\":{\"id\":\"1448\"},\"name\":\"product_df\",\"title\":\"product_df\"},\"id\":\"1451\",\"type\":\"Panel\"},{\"attributes\":{\"editor\":{\"id\":\"1454\"},\"field\":\"index\",\"formatter\":{\"id\":\"1453\"},\"title\":\"index\",\"width\":null},\"id\":\"1455\",\"type\":\"TableColumn\"},{\"attributes\":{\"editor\":{\"id\":\"1444\"},\"field\":\"Samples\",\"formatter\":{\"id\":\"1443\"},\"title\":\"Samples\",\"width\":null},\"id\":\"1445\",\"type\":\"TableColumn\"},{\"attributes\":{},\"id\":\"1439\",\"type\":\"StringEditor\"},{\"attributes\":{},\"id\":\"1463\",\"type\":\"StringFormatter\"},{\"attributes\":{},\"id\":\"1480\",\"type\":\"Selection\"},{\"attributes\":{\"columns\":[{\"id\":\"1455\"},{\"id\":\"1460\"},{\"id\":\"1465\"},{\"id\":\"1470\"},{\"id\":\"1475\"}],\"editable\":true,\"fit_columns\":true,\"height\":430,\"index_position\":null,\"margin\":[5,10,5,10],\"name\":\"opportunity_df\",\"source\":{\"id\":\"1452\"},\"view\":{\"id\":\"1479\"}},\"id\":\"1478\",\"type\":\"DataTable\"},{\"attributes\":{\"editor\":{\"id\":\"1459\"},\"field\":\"Variable Name\",\"formatter\":{\"id\":\"1458\"},\"title\":\"Variable Name\",\"width\":null},\"id\":\"1460\",\"type\":\"TableColumn\"},{\"attributes\":{\"editor\":{\"id\":\"1464\"},\"field\":\"Datatype\",\"formatter\":{\"id\":\"1463\"},\"title\":\"Datatype\",\"width\":null},\"id\":\"1465\",\"type\":\"TableColumn\"},{\"attributes\":{},\"id\":\"1438\",\"type\":\"StringFormatter\"},{\"attributes\":{},\"id\":\"1429\",\"type\":\"StringEditor\"},{\"attributes\":{\"editor\":{\"id\":\"1439\"},\"field\":\"No of Unique\",\"formatter\":{\"id\":\"1438\"},\"title\":\"No of Unique\",\"width\":null},\"id\":\"1440\",\"type\":\"TableColumn\"},{\"attributes\":{},\"id\":\"1444\",\"type\":\"StringEditor\"},{\"attributes\":{\"editor\":{\"id\":\"1474\"},\"field\":\"Samples\",\"formatter\":{\"id\":\"1473\"},\"title\":\"Samples\",\"width\":null},\"id\":\"1475\",\"type\":\"TableColumn\"},{\"attributes\":{\"client_comm_id\":\"d280860954744f6a969a7440ee8c58d8\",\"comm_id\":\"67626647f8e642b8beec7790da4b3dc3\",\"plot_id\":\"1421\"},\"id\":\"1494\",\"type\":\"panel.models.comm_manager.CommManager\"},{\"attributes\":{},\"id\":\"1483\",\"type\":\"UnionRenderers\"},{\"attributes\":{},\"id\":\"1433\",\"type\":\"StringFormatter\"},{\"attributes\":{\"editor\":{\"id\":\"1429\"},\"field\":\"Variable Name\",\"formatter\":{\"id\":\"1428\"},\"title\":\"Variable Name\",\"width\":null},\"id\":\"1430\",\"type\":\"TableColumn\"},{\"attributes\":{},\"id\":\"1469\",\"type\":\"StringEditor\"},{\"attributes\":{},\"id\":\"1450\",\"type\":\"Selection\"},{\"attributes\":{},\"id\":\"1464\",\"type\":\"StringEditor\"},{\"attributes\":{},\"id\":\"1443\",\"type\":\"StringFormatter\"},{\"attributes\":{\"margin\":[0,0,0,0],\"tabs\":[{\"id\":\"1451\"},{\"id\":\"1481\"}]},\"id\":\"1421\",\"type\":\"Tabs\"},{\"attributes\":{\"editor\":{\"id\":\"1424\"},\"field\":\"index\",\"formatter\":{\"id\":\"1423\"},\"title\":\"index\",\"width\":null},\"id\":\"1425\",\"type\":\"TableColumn\"}],\"root_ids\":[\"1421\",\"1494\"]},\"title\":\"Bokeh Application\",\"version\":\"2.2.3\"}};\n",
       "  var render_items = [{\"docid\":\"58961887-d1e4-47f2-acc4-3a0e035539aa\",\"root_ids\":[\"1421\"],\"roots\":{\"1421\":\"0f936167-8f90-4186-8e3e-7660572bf5bb\"}}];\n",
       "  root.Bokeh.embed.embed_items_notebook(docs_json, render_items);\n",
       "  }\n",
       "if (root.Bokeh !== undefined) {\n",
       "    embed_document(root);\n",
       "  } else {\n",
       "    var attempts = 0;\n",
       "    var timer = setInterval(function(root) {\n",
       "      if (root.Bokeh !== undefined) {\n",
       "        clearInterval(timer);\n",
       "        embed_document(root);\n",
       "      } else if (document.readyState == \"complete\") {\n",
       "        attempts++;\n",
       "        if (attempts > 100) {\n",
       "          clearInterval(timer);\n",
       "          console.log(\"Bokeh: ERROR: Unable to run BokehJS code because BokehJS library is missing\");\n",
       "        }\n",
       "      }\n",
       "    }, 10, root)\n",
       "  }\n",
       "})(window);</script>"
      ],
      "text/plain": [
       "Tabs\n",
       "    [0] DataFrame(name='product_df', value=                          ...)\n",
       "    [1] DataFrame(name='opportunity_df', value=                          ...)"
      ]
     },
     "execution_count": 139,
     "metadata": {
      "application/vnd.holoviews_exec.v0+json": {
       "id": "1421"
      }
     },
     "output_type": "execute_result"
    }
   ],
   "source": [
    "summaries = [analysis.get_variable_summary(data[x]) for x in data.keys()]\n",
    "display_as_tabs([(x, summaries[idx]) for idx, x in enumerate(data.keys())])"
   ]
  },
  {
   "cell_type": "markdown",
   "metadata": {},
   "source": [
    "## Merging"
   ]
  },
  {
   "cell_type": "markdown",
   "metadata": {},
   "source": [
    "### Expected data validation rules"
   ]
  },
  {
   "cell_type": "markdown",
   "metadata": {},
   "source": [
    "1. Creation Date is before Decision Date.\n",
    "2. Product in an specific Opportunity cannot have both ('Win Approved','Win Submitted') and ('Cancelled','Deleted').\n",
    "3. Product Quantity is an integer value.\n",
    "4. area name in returns_df should be in sec_bpm_df or retail_program_df\n",
    "5. primary keys\n",
    "6. No time gaps\n",
    "7. customer_code in all tables should be subset of doj"
   ]
  },
  {
   "cell_type": "markdown",
   "metadata": {},
   "source": [
    "#### Great Expectations \n",
    "\n",
    "We will leverage the [Great Expectations](https://docs.greatexpectations.io/en/latest/) library for exploring the data quality & validating whether it conforms to expected business rules. "
   ]
  },
  {
   "cell_type": "markdown",
   "metadata": {},
   "source": [
    "#### Rule 1 verification"
   ]
  },
  {
   "cell_type": "code",
   "execution_count": 140,
   "metadata": {},
   "outputs": [
    {
     "name": "stdout",
     "output_type": "stream",
     "text": [
      "Rule 1 failed\n"
     ]
    }
   ],
   "source": [
    "verification_dict = {}\n",
    "# Rule tests\n",
    "test_success_flag = True\n",
    "verification_dict['rule_1_test'] = (data['opportunity_df']['decision date'] - data['opportunity_df']['creation date']).apply(lambda x: x < 0).sum()\n",
    "\n",
    "test_success_flag = verification_dict['rule_1_test'] == 0\n",
    "\n",
    "# Rule 1\n",
    "if test_success_flag:\n",
    "    print(('Rule {} passed').format(1))\n",
    "else:\n",
    "    print(('Rule {} failed').format(1))"
   ]
  },
  {
   "cell_type": "code",
   "execution_count": 157,
   "metadata": {},
   "outputs": [
    {
     "data": {
      "text/plain": [
       "10956"
      ]
     },
     "execution_count": 157,
     "metadata": {},
     "output_type": "execute_result"
    }
   ],
   "source": [
    "verification_dict['rule_1_test']"
   ]
  },
  {
   "cell_type": "markdown",
   "metadata": {},
   "source": [
    "#### Rule 2 verification"
   ]
  },
  {
   "cell_type": "code",
   "execution_count": 151,
   "metadata": {},
   "outputs": [
    {
     "data": {
      "text/plain": [
       "opportunity id  product id\n",
       "5               404           [Win Approved, Pending]\n",
       "19              16377         [Win Approved, Pending]\n",
       "                16378         [Win Approved, Pending]\n",
       "                16380         [Win Approved, Pending]\n",
       "                16381         [Win Approved, Pending]\n",
       "                                       ...           \n",
       "42777           35993                       [Pending]\n",
       "42778           38156                       [Pending]\n",
       "42781           38151                       [Pending]\n",
       "42789           38158                       [Pending]\n",
       "56117           25835         [Pending, Win Approved]\n",
       "Name: product status, Length: 4384, dtype: object"
      ]
     },
     "execution_count": 151,
     "metadata": {},
     "output_type": "execute_result"
    }
   ],
   "source": [
    "# verification_dict['rule_2_test'] = data['product_df'].groupby(['opportunity id','product id'])\n",
    "# data['product_df']['product status'] = data['product_df']['product status'].str.split(' ').str[0].replace('Cancelled', 'Lost').replace('Deleted', 'Lost').copy()\n",
    "# prostat = pd.DataFrame(data['product_df'].groupby(['opportunity id','product id'])['product status'].apply(lambda x: list(set(x))))\n",
    "prostat['product status']"
   ]
  },
  {
   "cell_type": "markdown",
   "metadata": {},
   "source": [
    "### Fixes for failed rules"
   ]
  },
  {
   "cell_type": "markdown",
   "metadata": {},
   "source": [
    "#### Rule 5"
   ]
  },
  {
   "cell_type": "code",
   "execution_count": 18,
   "metadata": {},
   "outputs": [
    {
     "name": "stdout",
     "output_type": "stream",
     "text": [
      "{'data_type_mismatch': False, 'nulls_warning': True, 'data_loss_B-A': False, 'data_loss_A-B': True}\n"
     ]
    },
    {
     "data": {},
     "metadata": {},
     "output_type": "display_data"
    },
    {
     "data": {
      "application/vnd.holoviews_exec.v0+json": "",
      "text/html": [
       "<div id='1601'>\n",
       "\n",
       "\n",
       "\n",
       "\n",
       "\n",
       "  <div class=\"bk-root\" id=\"286caf51-103e-4fde-9901-474875ed2dab\" data-root-id=\"1601\"></div>\n",
       "</div>\n",
       "<script type=\"application/javascript\">(function(root) {\n",
       "  function embed_document(root) {\n",
       "  var docs_json = {\"84ff8a92-63e0-45c5-97f5-3f0d1ac6962c\":{\"roots\":{\"references\":[{\"attributes\":{\"child\":{\"id\":\"1760\"},\"name\":\"sample_duplicates_tail\",\"title\":\"sample_duplicates_tail\"},\"id\":\"1763\",\"type\":\"Panel\"},{\"attributes\":{},\"id\":\"1685\",\"type\":\"NumberFormatter\"},{\"attributes\":{},\"id\":\"1769\",\"type\":\"UnionRenderers\"},{\"attributes\":{},\"id\":\"1645\",\"type\":\"NumberFormatter\"},{\"attributes\":{\"source\":{\"id\":\"1604\"}},\"id\":\"1641\",\"type\":\"CDSView\"},{\"attributes\":{\"child\":{\"id\":\"1640\"},\"name\":\"head\",\"title\":\"head\"},\"id\":\"1643\",\"type\":\"Panel\"},{\"attributes\":{\"data\":{\"calendar_quarter\":[\"P1\",\"P1\",\"P1\",\"P1\",\"P1\"],\"calendar_year\":[2010,2010,2010,2010,2010],\"claim_year\":[2009,2009,2009,2009,2009],\"customer_code\":[39,158,1574,395,873],\"index\":[24,108,585,234,375],\"quarter\":[\"P4\",\"P4\",\"P4\",\"P4\",\"P4\"],\"size\":[4,4,4,6,6]},\"selected\":{\"id\":\"1682\"},\"selection_policy\":{\"id\":\"1767\"}},\"id\":\"1644\",\"type\":\"ColumnDataSource\"},{\"attributes\":{\"margin\":[5,5,5,5],\"name\":\"freq\",\"text\":\"&lt;table border=&quot;0&quot; class=&quot;dataframe panel-df&quot;&gt;\\n  &lt;thead&gt;\\n    &lt;tr style=&quot;text-align: right;&quot;&gt;\\n      &lt;th&gt;&lt;/th&gt;\\n      &lt;th&gt;size&lt;/th&gt;\\n    &lt;/tr&gt;\\n  &lt;/thead&gt;\\n  &lt;tbody&gt;\\n    &lt;tr&gt;\\n      &lt;th&gt;2&lt;/th&gt;\\n      &lt;td&gt;304&lt;/td&gt;\\n    &lt;/tr&gt;\\n    &lt;tr&gt;\\n      &lt;th&gt;3&lt;/th&gt;\\n      &lt;td&gt;36&lt;/td&gt;\\n    &lt;/tr&gt;\\n    &lt;tr&gt;\\n      &lt;th&gt;4&lt;/th&gt;\\n      &lt;td&gt;7&lt;/td&gt;\\n    &lt;/tr&gt;\\n    &lt;tr&gt;\\n      &lt;th&gt;6&lt;/th&gt;\\n      &lt;td&gt;2&lt;/td&gt;\\n    &lt;/tr&gt;\\n  &lt;/tbody&gt;\\n&lt;/table&gt;\"},\"id\":\"1602\",\"type\":\"panel.models.markup.HTML\"},{\"attributes\":{},\"id\":\"1706\",\"type\":\"StringEditor\"},{\"attributes\":{},\"id\":\"1611\",\"type\":\"IntEditor\"},{\"attributes\":{},\"id\":\"1686\",\"type\":\"IntEditor\"},{\"attributes\":{},\"id\":\"1711\",\"type\":\"StringEditor\"},{\"attributes\":{\"client_comm_id\":\"642aee0c93104f23abb1dd8c4c7486a5\",\"comm_id\":\"9ad135d54e2f4df3a1c426952cae447e\",\"plot_id\":\"1601\"},\"id\":\"1788\",\"type\":\"panel.models.comm_manager.CommManager\"},{\"attributes\":{\"child\":{\"id\":\"1602\"},\"name\":\"freq\",\"title\":\"freq\"},\"id\":\"1603\",\"type\":\"Panel\"},{\"attributes\":{\"editor\":{\"id\":\"1636\"},\"field\":\"size\",\"formatter\":{\"id\":\"1635\"},\"title\":\"size\",\"width\":null},\"id\":\"1637\",\"type\":\"TableColumn\"},{\"attributes\":{\"columns\":[{\"id\":\"1607\"},{\"id\":\"1612\"},{\"id\":\"1617\"},{\"id\":\"1622\"},{\"id\":\"1627\"},{\"id\":\"1632\"},{\"id\":\"1637\"}],\"editable\":true,\"fit_columns\":true,\"height\":155,\"index_position\":null,\"margin\":[5,10,5,10],\"name\":\"head\",\"source\":{\"id\":\"1604\"},\"view\":{\"id\":\"1641\"}},\"id\":\"1640\",\"type\":\"DataTable\"},{\"attributes\":{},\"id\":\"1660\",\"type\":\"NumberFormatter\"},{\"attributes\":{},\"id\":\"1771\",\"type\":\"UnionRenderers\"},{\"attributes\":{},\"id\":\"1691\",\"type\":\"IntEditor\"},{\"attributes\":{},\"id\":\"1656\",\"type\":\"StringEditor\"},{\"attributes\":{},\"id\":\"1710\",\"type\":\"StringFormatter\"},{\"attributes\":{},\"id\":\"1705\",\"type\":\"StringFormatter\"},{\"attributes\":{\"editor\":{\"id\":\"1606\"},\"field\":\"index\",\"formatter\":{\"id\":\"1605\"},\"title\":\"index\",\"width\":null},\"id\":\"1607\",\"type\":\"TableColumn\"},{\"attributes\":{},\"id\":\"1700\",\"type\":\"NumberFormatter\"},{\"attributes\":{\"editor\":{\"id\":\"1701\"},\"field\":\"customer_code\",\"formatter\":{\"id\":\"1700\"},\"title\":\"customer_code\",\"width\":null},\"id\":\"1702\",\"type\":\"TableColumn\"},{\"attributes\":{\"editor\":{\"id\":\"1621\"},\"field\":\"customer_code\",\"formatter\":{\"id\":\"1620\"},\"title\":\"customer_code\",\"width\":null},\"id\":\"1622\",\"type\":\"TableColumn\"},{\"attributes\":{\"editor\":{\"id\":\"1656\"},\"field\":\"quarter\",\"formatter\":{\"id\":\"1655\"},\"title\":\"quarter\",\"width\":null},\"id\":\"1657\",\"type\":\"TableColumn\"},{\"attributes\":{},\"id\":\"1635\",\"type\":\"NumberFormatter\"},{\"attributes\":{},\"id\":\"1642\",\"type\":\"Selection\"},{\"attributes\":{\"columns\":[{\"id\":\"1647\"},{\"id\":\"1652\"},{\"id\":\"1657\"},{\"id\":\"1662\"},{\"id\":\"1667\"},{\"id\":\"1672\"},{\"id\":\"1677\"}],\"editable\":true,\"fit_columns\":true,\"height\":155,\"index_position\":null,\"margin\":[5,10,5,10],\"name\":\"tail\",\"source\":{\"id\":\"1644\"},\"view\":{\"id\":\"1681\"}},\"id\":\"1680\",\"type\":\"DataTable\"},{\"attributes\":{\"editor\":{\"id\":\"1611\"},\"field\":\"claim_year\",\"formatter\":{\"id\":\"1610\"},\"title\":\"claim_year\",\"width\":null},\"id\":\"1612\",\"type\":\"TableColumn\"},{\"attributes\":{\"editor\":{\"id\":\"1711\"},\"field\":\"calendar_quarter\",\"formatter\":{\"id\":\"1710\"},\"title\":\"calendar_quarter\",\"width\":null},\"id\":\"1712\",\"type\":\"TableColumn\"},{\"attributes\":{},\"id\":\"1696\",\"type\":\"StringEditor\"},{\"attributes\":{},\"id\":\"1626\",\"type\":\"StringEditor\"},{\"attributes\":{},\"id\":\"1605\",\"type\":\"NumberFormatter\"},{\"attributes\":{},\"id\":\"1621\",\"type\":\"IntEditor\"},{\"attributes\":{\"margin\":[0,0,0,0],\"tabs\":[{\"id\":\"1603\"},{\"id\":\"1643\"},{\"id\":\"1683\"},{\"id\":\"1723\"},{\"id\":\"1763\"}]},\"id\":\"1601\",\"type\":\"Tabs\"},{\"attributes\":{\"editor\":{\"id\":\"1716\"},\"field\":\"calendar_year\",\"formatter\":{\"id\":\"1715\"},\"title\":\"calendar_year\",\"width\":null},\"id\":\"1717\",\"type\":\"TableColumn\"},{\"attributes\":{\"source\":{\"id\":\"1644\"}},\"id\":\"1681\",\"type\":\"CDSView\"},{\"attributes\":{},\"id\":\"1701\",\"type\":\"IntEditor\"},{\"attributes\":{},\"id\":\"1650\",\"type\":\"NumberFormatter\"},{\"attributes\":{\"editor\":{\"id\":\"1691\"},\"field\":\"claim_year\",\"formatter\":{\"id\":\"1690\"},\"title\":\"claim_year\",\"width\":null},\"id\":\"1692\",\"type\":\"TableColumn\"},{\"attributes\":{},\"id\":\"1765\",\"type\":\"UnionRenderers\"},{\"attributes\":{},\"id\":\"1736\",\"type\":\"StringEditor\"},{\"attributes\":{},\"id\":\"1715\",\"type\":\"NumberFormatter\"},{\"attributes\":{},\"id\":\"1625\",\"type\":\"StringFormatter\"},{\"attributes\":{\"columns\":[{\"id\":\"1727\"},{\"id\":\"1732\"},{\"id\":\"1737\"},{\"id\":\"1742\"},{\"id\":\"1747\"},{\"id\":\"1752\"},{\"id\":\"1757\"}],\"editable\":true,\"fit_columns\":true,\"height\":155,\"index_position\":null,\"margin\":[5,10,5,10],\"name\":\"sample_duplicates_tail\",\"source\":{\"id\":\"1724\"},\"view\":{\"id\":\"1761\"}},\"id\":\"1760\",\"type\":\"DataTable\"},{\"attributes\":{\"source\":{\"id\":\"1684\"}},\"id\":\"1721\",\"type\":\"CDSView\"},{\"attributes\":{},\"id\":\"1616\",\"type\":\"StringEditor\"},{\"attributes\":{\"editor\":{\"id\":\"1666\"},\"field\":\"calendar_quarter\",\"formatter\":{\"id\":\"1665\"},\"title\":\"calendar_quarter\",\"width\":null},\"id\":\"1667\",\"type\":\"TableColumn\"},{\"attributes\":{\"editor\":{\"id\":\"1731\"},\"field\":\"claim_year\",\"formatter\":{\"id\":\"1730\"},\"title\":\"claim_year\",\"width\":null},\"id\":\"1732\",\"type\":\"TableColumn\"},{\"attributes\":{},\"id\":\"1716\",\"type\":\"IntEditor\"},{\"attributes\":{\"child\":{\"id\":\"1720\"},\"name\":\"sample_duplicates_head\",\"title\":\"sample_duplicates_head\"},\"id\":\"1723\",\"type\":\"Panel\"},{\"attributes\":{},\"id\":\"1620\",\"type\":\"NumberFormatter\"},{\"attributes\":{},\"id\":\"1722\",\"type\":\"Selection\"},{\"attributes\":{\"editor\":{\"id\":\"1696\"},\"field\":\"quarter\",\"formatter\":{\"id\":\"1695\"},\"title\":\"quarter\",\"width\":null},\"id\":\"1697\",\"type\":\"TableColumn\"},{\"attributes\":{},\"id\":\"1631\",\"type\":\"IntEditor\"},{\"attributes\":{},\"id\":\"1690\",\"type\":\"NumberFormatter\"},{\"attributes\":{\"data\":{\"calendar_quarter\":[\"P1\",\"P1\",\"P1\",\"P1\",\"P1\"],\"calendar_year\":[2010,2010,2010,2010,2010],\"claim_year\":[2009,2009,2009,2009,2009],\"customer_code\":[873,873,873,873,873],\"index\":[357,358,359,360,361],\"policy_flag\":[\"PEND\",\"PEND\",\"PEND\",\"PEND\",\"PEND\"],\"quarter\":[\"P4\",\"P4\",\"P4\",\"P4\",\"P4\"]},\"selected\":{\"id\":\"1762\"},\"selection_policy\":{\"id\":\"1771\"}},\"id\":\"1724\",\"type\":\"ColumnDataSource\"},{\"attributes\":{},\"id\":\"1655\",\"type\":\"StringFormatter\"},{\"attributes\":{},\"id\":\"1731\",\"type\":\"IntEditor\"},{\"attributes\":{\"editor\":{\"id\":\"1626\"},\"field\":\"calendar_quarter\",\"formatter\":{\"id\":\"1625\"},\"title\":\"calendar_quarter\",\"width\":null},\"id\":\"1627\",\"type\":\"TableColumn\"},{\"attributes\":{},\"id\":\"1726\",\"type\":\"IntEditor\"},{\"attributes\":{\"editor\":{\"id\":\"1651\"},\"field\":\"claim_year\",\"formatter\":{\"id\":\"1650\"},\"title\":\"claim_year\",\"width\":null},\"id\":\"1652\",\"type\":\"TableColumn\"},{\"attributes\":{},\"id\":\"1730\",\"type\":\"NumberFormatter\"},{\"attributes\":{\"editor\":{\"id\":\"1616\"},\"field\":\"quarter\",\"formatter\":{\"id\":\"1615\"},\"title\":\"quarter\",\"width\":null},\"id\":\"1617\",\"type\":\"TableColumn\"},{\"attributes\":{},\"id\":\"1695\",\"type\":\"StringFormatter\"},{\"attributes\":{\"data\":{\"calendar_quarter\":[\"P1\",\"P1\",\"P1\",\"P1\",\"P1\"],\"calendar_year\":[2010,2010,2010,2010,2010],\"claim_year\":[2009,2009,2009,2009,2009],\"customer_code\":[1,653,649,648,645],\"index\":[0,347,345,344,343],\"quarter\":[\"P4\",\"P4\",\"P4\",\"P4\",\"P4\"],\"size\":[2,2,2,2,2]},\"selected\":{\"id\":\"1642\"},\"selection_policy\":{\"id\":\"1765\"}},\"id\":\"1604\",\"type\":\"ColumnDataSource\"},{\"attributes\":{\"editor\":{\"id\":\"1736\"},\"field\":\"quarter\",\"formatter\":{\"id\":\"1735\"},\"title\":\"quarter\",\"width\":null},\"id\":\"1737\",\"type\":\"TableColumn\"},{\"attributes\":{},\"id\":\"1735\",\"type\":\"StringFormatter\"},{\"attributes\":{},\"id\":\"1630\",\"type\":\"NumberFormatter\"},{\"attributes\":{},\"id\":\"1651\",\"type\":\"IntEditor\"},{\"attributes\":{},\"id\":\"1636\",\"type\":\"IntEditor\"},{\"attributes\":{\"editor\":{\"id\":\"1726\"},\"field\":\"index\",\"formatter\":{\"id\":\"1725\"},\"title\":\"index\",\"width\":null},\"id\":\"1727\",\"type\":\"TableColumn\"},{\"attributes\":{\"data\":{\"calendar_quarter\":[\"P1\",\"P1\",\"P1\",\"P1\",\"P1\"],\"calendar_year\":[2010,2010,2010,2010,2010],\"claim_year\":[2009,2009,2009,2009,2009],\"customer_code\":[1,1,5,5,8],\"index\":[660,661,142,143,65],\"policy_flag\":[\"PEND\",\"PEND\",\"PEND\",\"PEND\",\"PEND\"],\"quarter\":[\"P4\",\"P4\",\"P4\",\"P4\",\"P4\"]},\"selected\":{\"id\":\"1722\"},\"selection_policy\":{\"id\":\"1769\"}},\"id\":\"1684\",\"type\":\"ColumnDataSource\"},{\"attributes\":{},\"id\":\"1725\",\"type\":\"NumberFormatter\"},{\"attributes\":{\"editor\":{\"id\":\"1686\"},\"field\":\"index\",\"formatter\":{\"id\":\"1685\"},\"title\":\"index\",\"width\":null},\"id\":\"1687\",\"type\":\"TableColumn\"},{\"attributes\":{},\"id\":\"1675\",\"type\":\"NumberFormatter\"},{\"attributes\":{\"source\":{\"id\":\"1724\"}},\"id\":\"1761\",\"type\":\"CDSView\"},{\"attributes\":{\"editor\":{\"id\":\"1631\"},\"field\":\"calendar_year\",\"formatter\":{\"id\":\"1630\"},\"title\":\"calendar_year\",\"width\":null},\"id\":\"1632\",\"type\":\"TableColumn\"},{\"attributes\":{},\"id\":\"1767\",\"type\":\"UnionRenderers\"},{\"attributes\":{},\"id\":\"1666\",\"type\":\"StringEditor\"},{\"attributes\":{},\"id\":\"1676\",\"type\":\"IntEditor\"},{\"attributes\":{},\"id\":\"1741\",\"type\":\"IntEditor\"},{\"attributes\":{},\"id\":\"1665\",\"type\":\"StringFormatter\"},{\"attributes\":{},\"id\":\"1740\",\"type\":\"NumberFormatter\"},{\"attributes\":{\"editor\":{\"id\":\"1741\"},\"field\":\"customer_code\",\"formatter\":{\"id\":\"1740\"},\"title\":\"customer_code\",\"width\":null},\"id\":\"1742\",\"type\":\"TableColumn\"},{\"attributes\":{},\"id\":\"1606\",\"type\":\"IntEditor\"},{\"attributes\":{},\"id\":\"1670\",\"type\":\"NumberFormatter\"},{\"attributes\":{},\"id\":\"1682\",\"type\":\"Selection\"},{\"attributes\":{},\"id\":\"1746\",\"type\":\"StringEditor\"},{\"attributes\":{\"child\":{\"id\":\"1680\"},\"name\":\"tail\",\"title\":\"tail\"},\"id\":\"1683\",\"type\":\"Panel\"},{\"attributes\":{\"editor\":{\"id\":\"1661\"},\"field\":\"customer_code\",\"formatter\":{\"id\":\"1660\"},\"title\":\"customer_code\",\"width\":null},\"id\":\"1662\",\"type\":\"TableColumn\"},{\"attributes\":{},\"id\":\"1745\",\"type\":\"StringFormatter\"},{\"attributes\":{},\"id\":\"1671\",\"type\":\"IntEditor\"},{\"attributes\":{},\"id\":\"1661\",\"type\":\"IntEditor\"},{\"attributes\":{},\"id\":\"1615\",\"type\":\"StringFormatter\"},{\"attributes\":{\"editor\":{\"id\":\"1746\"},\"field\":\"policy_flag\",\"formatter\":{\"id\":\"1745\"},\"title\":\"policy_flag\",\"width\":null},\"id\":\"1747\",\"type\":\"TableColumn\"},{\"attributes\":{\"editor\":{\"id\":\"1646\"},\"field\":\"index\",\"formatter\":{\"id\":\"1645\"},\"title\":\"index\",\"width\":null},\"id\":\"1647\",\"type\":\"TableColumn\"},{\"attributes\":{\"editor\":{\"id\":\"1756\"},\"field\":\"calendar_year\",\"formatter\":{\"id\":\"1755\"},\"title\":\"calendar_year\",\"width\":null},\"id\":\"1757\",\"type\":\"TableColumn\"},{\"attributes\":{},\"id\":\"1751\",\"type\":\"StringEditor\"},{\"attributes\":{},\"id\":\"1750\",\"type\":\"StringFormatter\"},{\"attributes\":{\"editor\":{\"id\":\"1671\"},\"field\":\"calendar_year\",\"formatter\":{\"id\":\"1670\"},\"title\":\"calendar_year\",\"width\":null},\"id\":\"1672\",\"type\":\"TableColumn\"},{\"attributes\":{},\"id\":\"1610\",\"type\":\"NumberFormatter\"},{\"attributes\":{\"editor\":{\"id\":\"1751\"},\"field\":\"calendar_quarter\",\"formatter\":{\"id\":\"1750\"},\"title\":\"calendar_quarter\",\"width\":null},\"id\":\"1752\",\"type\":\"TableColumn\"},{\"attributes\":{\"columns\":[{\"id\":\"1687\"},{\"id\":\"1692\"},{\"id\":\"1697\"},{\"id\":\"1702\"},{\"id\":\"1707\"},{\"id\":\"1712\"},{\"id\":\"1717\"}],\"editable\":true,\"fit_columns\":true,\"height\":155,\"index_position\":null,\"margin\":[5,10,5,10],\"name\":\"sample_duplicates_head\",\"source\":{\"id\":\"1684\"},\"view\":{\"id\":\"1721\"}},\"id\":\"1720\",\"type\":\"DataTable\"},{\"attributes\":{},\"id\":\"1756\",\"type\":\"IntEditor\"},{\"attributes\":{},\"id\":\"1755\",\"type\":\"NumberFormatter\"},{\"attributes\":{},\"id\":\"1762\",\"type\":\"Selection\"},{\"attributes\":{},\"id\":\"1646\",\"type\":\"IntEditor\"},{\"attributes\":{\"editor\":{\"id\":\"1676\"},\"field\":\"size\",\"formatter\":{\"id\":\"1675\"},\"title\":\"size\",\"width\":null},\"id\":\"1677\",\"type\":\"TableColumn\"},{\"attributes\":{\"editor\":{\"id\":\"1706\"},\"field\":\"policy_flag\",\"formatter\":{\"id\":\"1705\"},\"title\":\"policy_flag\",\"width\":null},\"id\":\"1707\",\"type\":\"TableColumn\"}],\"root_ids\":[\"1601\",\"1788\"]},\"title\":\"Bokeh Application\",\"version\":\"2.2.3\"}};\n",
       "  var render_items = [{\"docid\":\"84ff8a92-63e0-45c5-97f5-3f0d1ac6962c\",\"root_ids\":[\"1601\"],\"roots\":{\"1601\":\"286caf51-103e-4fde-9901-474875ed2dab\"}}];\n",
       "  root.Bokeh.embed.embed_items_notebook(docs_json, render_items);\n",
       "  }\n",
       "if (root.Bokeh !== undefined) {\n",
       "    embed_document(root);\n",
       "  } else {\n",
       "    var attempts = 0;\n",
       "    var timer = setInterval(function(root) {\n",
       "      if (root.Bokeh !== undefined) {\n",
       "        clearInterval(timer);\n",
       "        embed_document(root);\n",
       "      } else if (document.readyState == \"complete\") {\n",
       "        attempts++;\n",
       "        if (attempts > 100) {\n",
       "          clearInterval(timer);\n",
       "          console.log(\"Bokeh: ERROR: Unable to run BokehJS code because BokehJS library is missing\");\n",
       "        }\n",
       "      }\n",
       "    }, 10, root)\n",
       "  }\n",
       "})(window);</script>"
      ],
      "text/plain": [
       "Tabs\n",
       "    [0] DataFrame(Series, name='freq')\n",
       "    [1] DataFrame(name='head', value=     claim_year q...)\n",
       "    [2] DataFrame(name='tail', value=     claim_year q...)\n",
       "    [3] DataFrame(name='sample_duplicates_head', value=     claim_year q...)\n",
       "    [4] DataFrame(name='sample_duplicates_tail', value=     claim_year q...)"
      ]
     },
     "execution_count": 18,
     "metadata": {
      "application/vnd.holoviews_exec.v0+json": {
       "id": "1601"
      }
     },
     "output_type": "execute_result"
    }
   ],
   "source": [
    "df_temp = (\n",
    "    data['no_obj_df']\n",
    "    .groupby(pk_rules['no_obj_df'])\n",
    "    .size()\n",
    "    .reset_index()\n",
    "    .rename(columns={0:'size'})\n",
    "    .query('size > 1')\n",
    "    .sort_values('size')\n",
    ")\n",
    "\n",
    "verification_dict[\"merge_1\"] = merge_expectations(data['no_obj_df'], df_temp, pk_rules['no_obj_df'])\n",
    "print(verification_dict[\"merge_1\"][\"actionable_warnings\"])\n",
    "sample_duplicates = (\n",
    "    data['no_obj_df']\n",
    "    .merge(df_temp,on=pk_rules['no_obj_df'])\n",
    "    .sort_values(['size']+pk_rules['no_obj_df'])\n",
    "    .drop('size',axis=1)\n",
    ")\n",
    "display_as_tabs([\n",
    "    ('freq',df_temp['size'].value_counts()), \n",
    "    ('head',df_temp.head()), \n",
    "    ('tail',df_temp.tail()),\n",
    "    ('sample_duplicates_head',sample_duplicates.head()),\n",
    "    ('sample_duplicates_tail',sample_duplicates.tail())\n",
    "])"
   ]
  },
  {
   "cell_type": "markdown",
   "metadata": {},
   "source": [
    "##### Data duplicates seems to be problem. Trying by dropping duplicates"
   ]
  },
  {
   "cell_type": "code",
   "execution_count": 19,
   "metadata": {},
   "outputs": [
    {
     "data": {
      "text/plain": [
       "(0, 6)"
      ]
     },
     "execution_count": 19,
     "metadata": {},
     "output_type": "execute_result"
    }
   ],
   "source": [
    "(\n",
    "    data['no_obj_df']\n",
    "    .drop_duplicates()\n",
    "    .groupby(pk_rules['no_obj_df'])\n",
    "    .size()\n",
    "    .reset_index()\n",
    "    .rename(columns={0:'size'})\n",
    "    .query('size > 1')\n",
    "    .sort_values('size')\n",
    ").shape"
   ]
  },
  {
   "cell_type": "markdown",
   "metadata": {},
   "source": [
    "#### Rule 7"
   ]
  },
  {
   "cell_type": "markdown",
   "metadata": {},
   "source": [
    "Ideally all the customers present in all data sources are should be present in the doj_df(date of joining data). However there seem to be 284 customers who have data in the business data but dont have a date of joining.\n",
    "\n",
    "This has to be reported to the client.\n",
    "\n",
    "However based on EDA we can choose to either select the customers present in both doj_df and ec_df or use ec_df and fill in proxy date of joining for the missing ones."
   ]
  },
  {
   "cell_type": "markdown",
   "metadata": {},
   "source": [
    "## Health Analysis\n",
    "\n",
    "Get an overview of the overall health of your dataset. This is usually quick to compute and hopefully highlights some problems to focus on.\n",
    "\n"
   ]
  },
  {
   "cell_type": "markdown",
   "metadata": {},
   "source": [
    "### Summary Plot\n",
    "\n",
    "Provides a high level summary of the health your dataset.\n",
    "\n",
    "**Watch out for:**\n",
    "\n",
    "* too few numeric values\n",
    "* high % of missing values\n",
    "* high % of duplicate values\n",
    "* high % of duplicate columns "
   ]
  },
  {
   "cell_type": "code",
   "execution_count": 152,
   "metadata": {},
   "outputs": [
    {
     "data": {},
     "metadata": {},
     "output_type": "display_data"
    },
    {
     "data": {},
     "metadata": {},
     "output_type": "display_data"
    },
    {
     "data": {
      "application/vnd.holoviews_exec.v0+json": "",
      "text/html": [
       "<div id='1515'>\n",
       "\n",
       "\n",
       "\n",
       "\n",
       "\n",
       "  <div class=\"bk-root\" id=\"9d250a0a-2d07-4f54-a885-5cc4bff07181\" data-root-id=\"1515\"></div>\n",
       "</div>\n",
       "<script type=\"application/javascript\">(function(root) {\n",
       "  function embed_document(root) {\n",
       "  var docs_json = {\"3e402dc1-5fb2-4587-bbc1-dcb7c097c6be\":{\"roots\":{\"references\":[{\"attributes\":{\"ticks\":[0]},\"id\":\"1624\",\"type\":\"FixedTicker\"},{\"attributes\":{\"data\":{\"Variable\":[\"Available\",\"Missing\"],\"bottom\":{\"__ndarray__\":\"AAAAAAAAAACqBczwqdZXQA==\",\"dtype\":\"float64\",\"order\":\"little\",\"shape\":[2]},\"index\":[\"values\",\"values\"],\"top\":{\"__ndarray__\":\"qgXM8KnWV0AAAAAAAABZQA==\",\"dtype\":\"float64\",\"order\":\"little\",\"shape\":[2]},\"value\":{\"__ndarray__\":\"qgXM8KnWV0BZpT/zYJUSQA==\",\"dtype\":\"float64\",\"order\":\"little\",\"shape\":[2]}},\"selected\":{\"id\":\"2127\"},\"selection_policy\":{\"id\":\"2140\"}},\"id\":\"2126\",\"type\":\"ColumnDataSource\"},{\"attributes\":{\"factors\":[\"Numeric\",\"Others\"],\"palette\":[\"#1f77b3\",\"#ff7e0e\"]},\"id\":\"1548\",\"type\":\"CategoricalColorMapper\"},{\"attributes\":{\"label\":{\"field\":\"Variable\"},\"renderers\":[{\"id\":\"2132\"}]},\"id\":\"2143\",\"type\":\"LegendItem\"},{\"attributes\":{\"items\":[{\"id\":\"2143\"}],\"location\":[0,0]},\"id\":\"2142\",\"type\":\"Legend\"},{\"attributes\":{\"source\":{\"id\":\"2126\"}},\"id\":\"2133\",\"type\":\"CDSView\"},{\"attributes\":{},\"id\":\"1734\",\"type\":\"UnionRenderers\"},{\"attributes\":{\"fill_color\":{\"field\":\"Variable\",\"transform\":{\"id\":\"1719\"}},\"height\":{\"value\":0.8},\"left\":{\"field\":\"bottom\"},\"right\":{\"field\":\"top\"},\"y\":{\"field\":\"index\"}},\"id\":\"1723\",\"type\":\"HBar\"},{\"attributes\":{\"data\":{\"Variable\":[\"Unique\",\"Duplicate\"],\"bottom\":{\"__ndarray__\":\"AAAAAAAAAAAAAAAAAABZQA==\",\"dtype\":\"float64\",\"order\":\"little\",\"shape\":[2]},\"index\":[\"values\",\"values\"],\"top\":{\"__ndarray__\":\"AAAAAAAAWUAAAAAAAABZQA==\",\"dtype\":\"float64\",\"order\":\"little\",\"shape\":[2]},\"value\":{\"__ndarray__\":\"AAAAAAAAWUAAAAAAAAAAAA==\",\"dtype\":\"float64\",\"order\":\"little\",\"shape\":[2]}},\"selected\":{\"id\":\"1721\"},\"selection_policy\":{\"id\":\"1734\"}},\"id\":\"1720\",\"type\":\"ColumnDataSource\"},{\"attributes\":{},\"id\":\"1708\",\"type\":\"WheelZoomTool\"},{\"attributes\":{\"source\":{\"id\":\"1720\"}},\"id\":\"1727\",\"type\":\"CDSView\"},{\"attributes\":{},\"id\":\"1730\",\"type\":\"BasicTickFormatter\"},{\"attributes\":{\"callback\":null,\"renderers\":[{\"id\":\"1726\"}],\"tags\":[\"hv_created\"],\"tooltips\":[[\"index\",\"@{index}\"],[\"Variable\",\"@{Variable}\"],[\"value\",\"@{value}\"]]},\"id\":\"1689\",\"type\":\"HoverTool\"},{\"attributes\":{},\"id\":\"1697\",\"type\":\"CategoricalScale\"},{\"attributes\":{},\"id\":\"1695\",\"type\":\"LinearScale\"},{\"attributes\":{\"data\":{\"Variable\":[\"Numeric\",\"Others\"],\"bottom\":{\"__ndarray__\":\"AAAAAAAAAAAAAAAAAMBSQA==\",\"dtype\":\"float64\",\"order\":\"little\",\"shape\":[2]},\"index\":[\"values\",\"values\"],\"top\":{\"__ndarray__\":\"AAAAAADAUkAAAAAAAABZQA==\",\"dtype\":\"float64\",\"order\":\"little\",\"shape\":[2]},\"value\":{\"__ndarray__\":\"AAAAAADAUkAAAAAAAAA5QA==\",\"dtype\":\"float64\",\"order\":\"little\",\"shape\":[2]}},\"selected\":{\"id\":\"1550\"},\"selection_policy\":{\"id\":\"1563\"}},\"id\":\"1549\",\"type\":\"ColumnDataSource\"},{\"attributes\":{},\"id\":\"1707\",\"type\":\"PanTool\"},{\"attributes\":{\"align\":null,\"below\":[{\"id\":\"1528\"}],\"center\":[{\"id\":\"1531\"},{\"id\":\"1534\"},{\"id\":\"1565\"}],\"left\":[{\"id\":\"1532\"}],\"margin\":null,\"min_border_bottom\":10,\"min_border_left\":10,\"min_border_right\":10,\"min_border_top\":10,\"plot_height\":100,\"plot_width\":700,\"renderers\":[{\"id\":\"1555\"}],\"right\":[{\"id\":\"1565\"}],\"sizing_mode\":\"fixed\",\"title\":{\"id\":\"1520\"},\"toolbar\":{\"id\":\"1541\"},\"toolbar_location\":null,\"x_range\":{\"id\":\"1516\"},\"x_scale\":{\"id\":\"1524\"},\"y_range\":{\"id\":\"1517\"},\"y_scale\":{\"id\":\"1526\"}},\"id\":\"1519\",\"subtype\":\"Figure\",\"type\":\"Plot\"},{\"attributes\":{\"style\":{\"white-space\":\"nowrap\"},\"text\":\"<span style=\\\"color:black;font-family:Arial;font-style:bold;font-weight:bold;font-size:12pt\\\">Data Shape:(142431, 8)</span>\",\"width\":450},\"id\":\"1781\",\"type\":\"Div\"},{\"attributes\":{},\"id\":\"1526\",\"type\":\"CategoricalScale\"},{\"attributes\":{\"children\":[{\"id\":\"1779\"},{\"id\":\"1777\"}]},\"id\":\"1780\",\"type\":\"Column\"},{\"attributes\":{\"factors\":[\"Unique\",\"Duplicate\"],\"palette\":[\"#1f77b3\",\"#ff7e0e\"]},\"id\":\"1662\",\"type\":\"CategoricalColorMapper\"},{\"attributes\":{\"fill_alpha\":{\"value\":0.2},\"fill_color\":{\"field\":\"Variable\",\"transform\":{\"id\":\"1662\"}},\"height\":{\"value\":0.8},\"left\":{\"field\":\"bottom\"},\"line_alpha\":{\"value\":0.2},\"right\":{\"field\":\"top\"},\"y\":{\"field\":\"index\"}},\"id\":\"1668\",\"type\":\"HBar\"},{\"attributes\":{\"align\":null,\"below\":[{\"id\":\"1699\"}],\"center\":[{\"id\":\"1702\"},{\"id\":\"1705\"},{\"id\":\"1736\"}],\"left\":[{\"id\":\"1703\"}],\"margin\":null,\"min_border_bottom\":10,\"min_border_left\":10,\"min_border_right\":10,\"min_border_top\":10,\"plot_height\":100,\"plot_width\":700,\"renderers\":[{\"id\":\"1726\"}],\"right\":[{\"id\":\"1736\"}],\"sizing_mode\":\"fixed\",\"title\":{\"id\":\"1691\"},\"toolbar\":{\"id\":\"1712\"},\"toolbar_location\":null,\"x_range\":{\"id\":\"1516\"},\"x_scale\":{\"id\":\"1695\"},\"y_range\":{\"id\":\"1517\"},\"y_scale\":{\"id\":\"1697\"}},\"id\":\"1690\",\"subtype\":\"Figure\",\"type\":\"Plot\"},{\"attributes\":{\"fill_color\":{\"field\":\"Variable\",\"transform\":{\"id\":\"2068\"}},\"height\":{\"value\":0.8},\"left\":{\"field\":\"bottom\"},\"right\":{\"field\":\"top\"},\"y\":{\"field\":\"index\"}},\"id\":\"2072\",\"type\":\"HBar\"},{\"attributes\":{\"children\":[{\"id\":\"1781\"},{\"id\":\"1780\"}]},\"id\":\"1782\",\"type\":\"Column\"},{\"attributes\":{},\"id\":\"1592\",\"type\":\"SaveTool\"},{\"attributes\":{\"axis\":{\"id\":\"1703\"},\"dimension\":1,\"grid_line_color\":null,\"ticker\":null},\"id\":\"1705\",\"type\":\"Grid\"},{\"attributes\":{},\"id\":\"1732\",\"type\":\"CategoricalTickFormatter\"},{\"attributes\":{},\"id\":\"1673\",\"type\":\"BasicTickFormatter\"},{\"attributes\":{\"data_source\":{\"id\":\"1720\"},\"glyph\":{\"id\":\"1723\"},\"hover_glyph\":null,\"muted_glyph\":{\"id\":\"1725\"},\"nonselection_glyph\":{\"id\":\"1724\"},\"selection_glyph\":null,\"view\":{\"id\":\"1727\"}},\"id\":\"1726\",\"type\":\"GlyphRenderer\"},{\"attributes\":{\"axis\":{\"id\":\"1585\"},\"grid_line_color\":null,\"ticker\":null},\"id\":\"1588\",\"type\":\"Grid\"},{\"attributes\":{\"data_source\":{\"id\":\"1663\"},\"glyph\":{\"id\":\"1666\"},\"hover_glyph\":null,\"muted_glyph\":{\"id\":\"1668\"},\"nonselection_glyph\":{\"id\":\"1667\"},\"selection_glyph\":null,\"view\":{\"id\":\"1670\"}},\"id\":\"1669\",\"type\":\"GlyphRenderer\"},{\"attributes\":{\"items\":[{\"id\":\"1680\"}],\"location\":[0,0]},\"id\":\"1679\",\"type\":\"Legend\"},{\"attributes\":{},\"id\":\"1721\",\"type\":\"Selection\"},{\"attributes\":{\"client_comm_id\":\"1bb2c1af845b4691b9443c0579207ea3\",\"comm_id\":\"0eaa215f3b634016a4e393e3215e65e9\",\"plot_id\":\"1515\"},\"id\":\"2724\",\"type\":\"panel.models.comm_manager.CommManager\"},{\"attributes\":{},\"id\":\"1524\",\"type\":\"LinearScale\"},{\"attributes\":{\"source\":{\"id\":\"1663\"}},\"id\":\"1670\",\"type\":\"CDSView\"},{\"attributes\":{\"factors\":[\"values\"],\"tags\":[[[\"index\",\"index\",null]]]},\"id\":\"1517\",\"type\":\"FactorRange\"},{\"attributes\":{\"overlay\":{\"id\":\"1711\"}},\"id\":\"1709\",\"type\":\"BoxZoomTool\"},{\"attributes\":{\"axis_label\":\"\",\"bounds\":\"auto\",\"formatter\":{\"id\":\"1616\"},\"major_label_orientation\":\"horizontal\",\"ticker\":{\"id\":\"1624\"}},\"id\":\"1585\",\"type\":\"LinearAxis\"},{\"attributes\":{\"label\":{\"field\":\"Variable\"},\"renderers\":[{\"id\":\"1726\"}]},\"id\":\"1737\",\"type\":\"LegendItem\"},{\"attributes\":{\"bottom_units\":\"screen\",\"fill_alpha\":0.5,\"fill_color\":\"lightgrey\",\"left_units\":\"screen\",\"level\":\"overlay\",\"line_alpha\":1.0,\"line_color\":\"black\",\"line_dash\":[4,4],\"line_width\":2,\"right_units\":\"screen\",\"top_units\":\"screen\"},\"id\":\"1597\",\"type\":\"BoxAnnotation\"},{\"attributes\":{\"fill_alpha\":{\"value\":0.2},\"fill_color\":{\"field\":\"Variable\",\"transform\":{\"id\":\"1719\"}},\"height\":{\"value\":0.8},\"left\":{\"field\":\"bottom\"},\"line_alpha\":{\"value\":0.2},\"right\":{\"field\":\"top\"},\"y\":{\"field\":\"index\"}},\"id\":\"1725\",\"type\":\"HBar\"},{\"attributes\":{\"items\":[{\"id\":\"1737\"}],\"location\":[0,0]},\"id\":\"1736\",\"type\":\"Legend\"},{\"attributes\":{\"text\":\"Duplicate Columns\",\"text_color\":{\"value\":\"black\"},\"text_font_size\":{\"value\":\"12pt\"}},\"id\":\"1691\",\"type\":\"Title\"},{\"attributes\":{},\"id\":\"1675\",\"type\":\"CategoricalTickFormatter\"},{\"attributes\":{\"callback\":null,\"renderers\":[{\"id\":\"1555\"}],\"tags\":[\"hv_created\"],\"tooltips\":[[\"index\",\"@{index}\"],[\"Variable\",\"@{Variable}\"],[\"value\",\"@{value}\"]]},\"id\":\"1518\",\"type\":\"HoverTool\"},{\"attributes\":{\"axis_label\":\"\",\"bounds\":\"auto\",\"formatter\":{\"id\":\"1559\"},\"major_label_orientation\":\"horizontal\",\"ticker\":{\"id\":\"1567\"}},\"id\":\"1528\",\"type\":\"LinearAxis\"},{\"attributes\":{\"fill_alpha\":{\"value\":0.1},\"fill_color\":{\"field\":\"Variable\",\"transform\":{\"id\":\"1719\"}},\"height\":{\"value\":0.8},\"left\":{\"field\":\"bottom\"},\"line_alpha\":{\"value\":0.1},\"right\":{\"field\":\"top\"},\"y\":{\"field\":\"index\"}},\"id\":\"1724\",\"type\":\"HBar\"},{\"attributes\":{},\"id\":\"2070\",\"type\":\"Selection\"},{\"attributes\":{\"children\":[[{\"id\":\"2039\"},0,0],[{\"id\":\"2096\"},1,0],[{\"id\":\"2153\"},2,0],[{\"id\":\"2210\"},3,0]]},\"id\":\"2297\",\"type\":\"GridBox\"},{\"attributes\":{\"axis\":{\"id\":\"1528\"},\"grid_line_color\":null,\"ticker\":null},\"id\":\"1531\",\"type\":\"Grid\"},{\"attributes\":{\"label\":{\"field\":\"Variable\"},\"renderers\":[{\"id\":\"1555\"}]},\"id\":\"1566\",\"type\":\"LegendItem\"},{\"attributes\":{\"axis_label\":\"\",\"bounds\":\"auto\",\"formatter\":{\"id\":\"1618\"},\"major_label_orientation\":\"horizontal\",\"ticker\":{\"id\":\"1590\"}},\"id\":\"1589\",\"type\":\"CategoricalAxis\"},{\"attributes\":{\"end\":100.0,\"reset_end\":100.0,\"reset_start\":0.0,\"tags\":[[[\"value\",\"value\",null]]]},\"id\":\"1516\",\"type\":\"Range1d\"},{\"attributes\":{},\"id\":\"1583\",\"type\":\"CategoricalScale\"},{\"attributes\":{\"axis\":{\"id\":\"1589\"},\"dimension\":1,\"grid_line_color\":null,\"ticker\":null},\"id\":\"1591\",\"type\":\"Grid\"},{\"attributes\":{\"fill_color\":{\"field\":\"Variable\",\"transform\":{\"id\":\"2125\"}},\"height\":{\"value\":0.8},\"left\":{\"field\":\"bottom\"},\"right\":{\"field\":\"top\"},\"y\":{\"field\":\"index\"}},\"id\":\"2129\",\"type\":\"HBar\"},{\"attributes\":{\"text\":\"Datatypes\",\"text_color\":{\"value\":\"black\"},\"text_font_size\":{\"value\":\"12pt\"}},\"id\":\"1520\",\"type\":\"Title\"},{\"attributes\":{},\"id\":\"1710\",\"type\":\"ResetTool\"},{\"attributes\":{},\"id\":\"1581\",\"type\":\"LinearScale\"},{\"attributes\":{\"source\":{\"id\":\"1606\"}},\"id\":\"1613\",\"type\":\"CDSView\"},{\"attributes\":{\"label\":{\"field\":\"Variable\"},\"renderers\":[{\"id\":\"1669\"}]},\"id\":\"1680\",\"type\":\"LegendItem\"},{\"attributes\":{\"toolbars\":[{\"id\":\"1541\"},{\"id\":\"1598\"},{\"id\":\"1655\"},{\"id\":\"1712\"}],\"tools\":[{\"id\":\"1518\"},{\"id\":\"1535\"},{\"id\":\"1536\"},{\"id\":\"1537\"},{\"id\":\"1538\"},{\"id\":\"1539\"},{\"id\":\"1575\"},{\"id\":\"1592\"},{\"id\":\"1593\"},{\"id\":\"1594\"},{\"id\":\"1595\"},{\"id\":\"1596\"},{\"id\":\"1632\"},{\"id\":\"1649\"},{\"id\":\"1650\"},{\"id\":\"1651\"},{\"id\":\"1652\"},{\"id\":\"1653\"},{\"id\":\"1689\"},{\"id\":\"1706\"},{\"id\":\"1707\"},{\"id\":\"1708\"},{\"id\":\"1709\"},{\"id\":\"1710\"}]},\"id\":\"1778\",\"type\":\"ProxyToolbar\"},{\"attributes\":{\"axis_label\":\"\",\"bounds\":\"auto\",\"formatter\":{\"id\":\"1730\"},\"major_label_orientation\":\"horizontal\",\"ticker\":{\"id\":\"1738\"}},\"id\":\"1699\",\"type\":\"LinearAxis\"},{\"attributes\":{\"fill_alpha\":{\"value\":0.1},\"fill_color\":{\"field\":\"Variable\",\"transform\":{\"id\":\"2125\"}},\"height\":{\"value\":0.8},\"left\":{\"field\":\"bottom\"},\"line_alpha\":{\"value\":0.1},\"right\":{\"field\":\"top\"},\"y\":{\"field\":\"index\"}},\"id\":\"2130\",\"type\":\"HBar\"},{\"attributes\":{\"margin\":[0,0,0,0],\"tabs\":[{\"id\":\"2035\"},{\"id\":\"2555\"}]},\"id\":\"1515\",\"type\":\"Tabs\"},{\"attributes\":{},\"id\":\"1706\",\"type\":\"SaveTool\"},{\"attributes\":{},\"id\":\"1590\",\"type\":\"CategoricalTicker\"},{\"attributes\":{\"active_drag\":\"auto\",\"active_inspect\":\"auto\",\"active_multi\":null,\"active_scroll\":\"auto\",\"active_tap\":\"auto\",\"tools\":[{\"id\":\"1689\"},{\"id\":\"1706\"},{\"id\":\"1707\"},{\"id\":\"1708\"},{\"id\":\"1709\"},{\"id\":\"1710\"}]},\"id\":\"1712\",\"type\":\"Toolbar\"},{\"attributes\":{\"fill_color\":{\"field\":\"Variable\",\"transform\":{\"id\":\"1548\"}},\"height\":{\"value\":0.8},\"left\":{\"field\":\"bottom\"},\"right\":{\"field\":\"top\"},\"y\":{\"field\":\"index\"}},\"id\":\"1552\",\"type\":\"HBar\"},{\"attributes\":{\"bottom_units\":\"screen\",\"fill_alpha\":0.5,\"fill_color\":\"lightgrey\",\"left_units\":\"screen\",\"level\":\"overlay\",\"line_alpha\":1.0,\"line_color\":\"black\",\"line_dash\":[4,4],\"line_width\":2,\"right_units\":\"screen\",\"top_units\":\"screen\"},\"id\":\"2174\",\"type\":\"BoxAnnotation\"},{\"attributes\":{\"axis\":{\"id\":\"2223\"},\"dimension\":1,\"grid_line_color\":null,\"ticker\":null},\"id\":\"2225\",\"type\":\"Grid\"},{\"attributes\":{\"axis_label\":\"\",\"bounds\":\"auto\",\"formatter\":{\"id\":\"1675\"},\"major_label_orientation\":\"horizontal\",\"ticker\":{\"id\":\"1647\"}},\"id\":\"1646\",\"type\":\"CategoricalAxis\"},{\"attributes\":{},\"id\":\"2241\",\"type\":\"Selection\"},{\"attributes\":{\"toolbar\":{\"id\":\"1778\"},\"toolbar_location\":\"above\"},\"id\":\"1779\",\"type\":\"ToolbarBox\"},{\"attributes\":{\"axis_label\":\"\",\"bounds\":\"auto\",\"formatter\":{\"id\":\"2252\"},\"major_label_orientation\":\"horizontal\",\"ticker\":{\"id\":\"2224\"}},\"id\":\"2223\",\"type\":\"CategoricalAxis\"},{\"attributes\":{\"fill_alpha\":{\"value\":0.1},\"fill_color\":{\"field\":\"Variable\",\"transform\":{\"id\":\"1548\"}},\"height\":{\"value\":0.8},\"left\":{\"field\":\"bottom\"},\"line_alpha\":{\"value\":0.1},\"right\":{\"field\":\"top\"},\"y\":{\"field\":\"index\"}},\"id\":\"1553\",\"type\":\"HBar\"},{\"attributes\":{\"text\":\"Duplicate Values\",\"text_color\":{\"value\":\"black\"},\"text_font_size\":{\"value\":\"12pt\"}},\"id\":\"1634\",\"type\":\"Title\"},{\"attributes\":{},\"id\":\"1677\",\"type\":\"UnionRenderers\"},{\"attributes\":{\"active_drag\":\"auto\",\"active_inspect\":\"auto\",\"active_multi\":null,\"active_scroll\":\"auto\",\"active_tap\":\"auto\",\"tools\":[{\"id\":\"2152\"},{\"id\":\"2169\"},{\"id\":\"2170\"},{\"id\":\"2171\"},{\"id\":\"2172\"},{\"id\":\"2173\"}]},\"id\":\"2175\",\"type\":\"Toolbar\"},{\"attributes\":{},\"id\":\"1559\",\"type\":\"BasicTickFormatter\"},{\"attributes\":{\"fill_alpha\":{\"value\":0.2},\"fill_color\":{\"field\":\"Variable\",\"transform\":{\"id\":\"2182\"}},\"height\":{\"value\":0.8},\"left\":{\"field\":\"bottom\"},\"line_alpha\":{\"value\":0.2},\"right\":{\"field\":\"top\"},\"y\":{\"field\":\"index\"}},\"id\":\"2188\",\"type\":\"HBar\"},{\"attributes\":{\"fill_alpha\":{\"value\":0.1},\"fill_color\":{\"field\":\"Variable\",\"transform\":{\"id\":\"2182\"}},\"height\":{\"value\":0.8},\"left\":{\"field\":\"bottom\"},\"line_alpha\":{\"value\":0.1},\"right\":{\"field\":\"top\"},\"y\":{\"field\":\"index\"}},\"id\":\"2187\",\"type\":\"HBar\"},{\"attributes\":{\"label\":{\"field\":\"Variable\"},\"renderers\":[{\"id\":\"2246\"}]},\"id\":\"2257\",\"type\":\"LegendItem\"},{\"attributes\":{\"ticks\":[0]},\"id\":\"2258\",\"type\":\"FixedTicker\"},{\"attributes\":{\"active_drag\":\"auto\",\"active_inspect\":\"auto\",\"active_multi\":null,\"active_scroll\":\"auto\",\"active_tap\":\"auto\",\"tools\":[{\"id\":\"1575\"},{\"id\":\"1592\"},{\"id\":\"1593\"},{\"id\":\"1594\"},{\"id\":\"1595\"},{\"id\":\"1596\"}]},\"id\":\"1598\",\"type\":\"Toolbar\"},{\"attributes\":{\"axis\":{\"id\":\"1642\"},\"grid_line_color\":null,\"ticker\":null},\"id\":\"1645\",\"type\":\"Grid\"},{\"attributes\":{\"active_drag\":\"auto\",\"active_inspect\":\"auto\",\"active_multi\":null,\"active_scroll\":\"auto\",\"active_tap\":\"auto\",\"tools\":[{\"id\":\"2209\"},{\"id\":\"2226\"},{\"id\":\"2227\"},{\"id\":\"2228\"},{\"id\":\"2229\"},{\"id\":\"2230\"}]},\"id\":\"2232\",\"type\":\"Toolbar\"},{\"attributes\":{\"fill_alpha\":{\"value\":0.2},\"fill_color\":{\"field\":\"Variable\",\"transform\":{\"id\":\"2239\"}},\"height\":{\"value\":0.8},\"left\":{\"field\":\"bottom\"},\"line_alpha\":{\"value\":0.2},\"right\":{\"field\":\"top\"},\"y\":{\"field\":\"index\"}},\"id\":\"2245\",\"type\":\"HBar\"},{\"attributes\":{\"child\":{\"id\":\"2302\"},\"name\":\"opportunity_df\",\"title\":\"opportunity_df\"},\"id\":\"2555\",\"type\":\"Panel\"},{\"attributes\":{},\"id\":\"1640\",\"type\":\"CategoricalScale\"},{\"attributes\":{},\"id\":\"2224\",\"type\":\"CategoricalTicker\"},{\"attributes\":{\"toolbars\":[{\"id\":\"2061\"},{\"id\":\"2118\"},{\"id\":\"2175\"},{\"id\":\"2232\"}],\"tools\":[{\"id\":\"2038\"},{\"id\":\"2055\"},{\"id\":\"2056\"},{\"id\":\"2057\"},{\"id\":\"2058\"},{\"id\":\"2059\"},{\"id\":\"2095\"},{\"id\":\"2112\"},{\"id\":\"2113\"},{\"id\":\"2114\"},{\"id\":\"2115\"},{\"id\":\"2116\"},{\"id\":\"2152\"},{\"id\":\"2169\"},{\"id\":\"2170\"},{\"id\":\"2171\"},{\"id\":\"2172\"},{\"id\":\"2173\"},{\"id\":\"2209\"},{\"id\":\"2226\"},{\"id\":\"2227\"},{\"id\":\"2228\"},{\"id\":\"2229\"},{\"id\":\"2230\"}]},\"id\":\"2298\",\"type\":\"ProxyToolbar\"},{\"attributes\":{\"text\":\"Missing Values\",\"text_color\":{\"value\":\"black\"},\"text_font_size\":{\"value\":\"12pt\"}},\"id\":\"1577\",\"type\":\"Title\"},{\"attributes\":{\"data_source\":{\"id\":\"2126\"},\"glyph\":{\"id\":\"2129\"},\"hover_glyph\":null,\"muted_glyph\":{\"id\":\"2131\"},\"nonselection_glyph\":{\"id\":\"2130\"},\"selection_glyph\":null,\"view\":{\"id\":\"2133\"}},\"id\":\"2132\",\"type\":\"GlyphRenderer\"},{\"attributes\":{\"ticks\":[0]},\"id\":\"1738\",\"type\":\"FixedTicker\"},{\"attributes\":{\"callback\":null,\"renderers\":[{\"id\":\"1669\"}],\"tags\":[\"hv_created\"],\"tooltips\":[[\"index\",\"@{index}\"],[\"Variable\",\"@{Variable}\"],[\"value\",\"@{value}\"]]},\"id\":\"1632\",\"type\":\"HoverTool\"},{\"attributes\":{},\"id\":\"2254\",\"type\":\"UnionRenderers\"},{\"attributes\":{\"callback\":null,\"renderers\":[{\"id\":\"1612\"}],\"tags\":[\"hv_created\"],\"tooltips\":[[\"index\",\"@{index}\"],[\"Variable\",\"@{Variable}\"],[\"value\",\"@{value}\"]]},\"id\":\"1575\",\"type\":\"HoverTool\"},{\"attributes\":{\"data_source\":{\"id\":\"2240\"},\"glyph\":{\"id\":\"2243\"},\"hover_glyph\":null,\"muted_glyph\":{\"id\":\"2245\"},\"nonselection_glyph\":{\"id\":\"2244\"},\"selection_glyph\":null,\"view\":{\"id\":\"2247\"}},\"id\":\"2246\",\"type\":\"GlyphRenderer\"},{\"attributes\":{\"data\":{\"Variable\":[\"Unique\",\"Duplicate\"],\"bottom\":{\"__ndarray__\":\"AAAAAAAAAAAAAAAAAABZQA==\",\"dtype\":\"float64\",\"order\":\"little\",\"shape\":[2]},\"index\":[\"values\",\"values\"],\"top\":{\"__ndarray__\":\"AAAAAAAAWUAAAAAAAABZQA==\",\"dtype\":\"float64\",\"order\":\"little\",\"shape\":[2]},\"value\":{\"__ndarray__\":\"AAAAAAAAWUAAAAAAAAAAAA==\",\"dtype\":\"float64\",\"order\":\"little\",\"shape\":[2]}},\"selected\":{\"id\":\"2184\"},\"selection_policy\":{\"id\":\"2197\"}},\"id\":\"2183\",\"type\":\"ColumnDataSource\"},{\"attributes\":{\"source\":{\"id\":\"2240\"}},\"id\":\"2247\",\"type\":\"CDSView\"},{\"attributes\":{\"align\":null,\"below\":[{\"id\":\"1585\"}],\"center\":[{\"id\":\"1588\"},{\"id\":\"1591\"},{\"id\":\"1622\"}],\"left\":[{\"id\":\"1589\"}],\"margin\":null,\"min_border_bottom\":10,\"min_border_left\":10,\"min_border_right\":10,\"min_border_top\":10,\"plot_height\":100,\"plot_width\":700,\"renderers\":[{\"id\":\"1612\"}],\"right\":[{\"id\":\"1622\"}],\"sizing_mode\":\"fixed\",\"title\":{\"id\":\"1577\"},\"toolbar\":{\"id\":\"1598\"},\"toolbar_location\":null,\"x_range\":{\"id\":\"1516\"},\"x_scale\":{\"id\":\"1581\"},\"y_range\":{\"id\":\"1517\"},\"y_scale\":{\"id\":\"1583\"}},\"id\":\"1576\",\"subtype\":\"Figure\",\"type\":\"Plot\"},{\"attributes\":{\"items\":[{\"id\":\"2257\"}],\"location\":[0,0]},\"id\":\"2256\",\"type\":\"Legend\"},{\"attributes\":{\"bottom_units\":\"screen\",\"fill_alpha\":0.5,\"fill_color\":\"lightgrey\",\"left_units\":\"screen\",\"level\":\"overlay\",\"line_alpha\":1.0,\"line_color\":\"black\",\"line_dash\":[4,4],\"line_width\":2,\"right_units\":\"screen\",\"top_units\":\"screen\"},\"id\":\"2231\",\"type\":\"BoxAnnotation\"},{\"attributes\":{\"fill_alpha\":{\"value\":0.1},\"fill_color\":{\"field\":\"Variable\",\"transform\":{\"id\":\"2239\"}},\"height\":{\"value\":0.8},\"left\":{\"field\":\"bottom\"},\"line_alpha\":{\"value\":0.1},\"right\":{\"field\":\"top\"},\"y\":{\"field\":\"index\"}},\"id\":\"2244\",\"type\":\"HBar\"},{\"attributes\":{\"fill_color\":{\"field\":\"Variable\",\"transform\":{\"id\":\"2239\"}},\"height\":{\"value\":0.8},\"left\":{\"field\":\"bottom\"},\"right\":{\"field\":\"top\"},\"y\":{\"field\":\"index\"}},\"id\":\"2243\",\"type\":\"HBar\"},{\"attributes\":{},\"id\":\"1607\",\"type\":\"Selection\"},{\"attributes\":{},\"id\":\"1561\",\"type\":\"CategoricalTickFormatter\"},{\"attributes\":{\"fill_alpha\":{\"value\":0.2},\"fill_color\":{\"field\":\"Variable\",\"transform\":{\"id\":\"2125\"}},\"height\":{\"value\":0.8},\"left\":{\"field\":\"bottom\"},\"line_alpha\":{\"value\":0.2},\"right\":{\"field\":\"top\"},\"y\":{\"field\":\"index\"}},\"id\":\"2131\",\"type\":\"HBar\"},{\"attributes\":{\"fill_alpha\":{\"value\":0.2},\"fill_color\":{\"field\":\"Variable\",\"transform\":{\"id\":\"1548\"}},\"height\":{\"value\":0.8},\"left\":{\"field\":\"bottom\"},\"line_alpha\":{\"value\":0.2},\"right\":{\"field\":\"top\"},\"y\":{\"field\":\"index\"}},\"id\":\"1554\",\"type\":\"HBar\"},{\"attributes\":{},\"id\":\"1647\",\"type\":\"CategoricalTicker\"},{\"attributes\":{},\"id\":\"2250\",\"type\":\"BasicTickFormatter\"},{\"attributes\":{\"axis_label\":\"\",\"bounds\":\"auto\",\"formatter\":{\"id\":\"1673\"},\"major_label_orientation\":\"horizontal\",\"ticker\":{\"id\":\"1681\"}},\"id\":\"1642\",\"type\":\"LinearAxis\"},{\"attributes\":{\"axis\":{\"id\":\"1646\"},\"dimension\":1,\"grid_line_color\":null,\"ticker\":null},\"id\":\"1648\",\"type\":\"Grid\"},{\"attributes\":{},\"id\":\"2252\",\"type\":\"CategoricalTickFormatter\"},{\"attributes\":{},\"id\":\"1638\",\"type\":\"LinearScale\"},{\"attributes\":{\"bottom_units\":\"screen\",\"fill_alpha\":0.5,\"fill_color\":\"lightgrey\",\"left_units\":\"screen\",\"level\":\"overlay\",\"line_alpha\":1.0,\"line_color\":\"black\",\"line_dash\":[4,4],\"line_width\":2,\"right_units\":\"screen\",\"top_units\":\"screen\"},\"id\":\"2060\",\"type\":\"BoxAnnotation\"},{\"attributes\":{\"source\":{\"id\":\"1549\"}},\"id\":\"1556\",\"type\":\"CDSView\"},{\"attributes\":{\"data_source\":{\"id\":\"1549\"},\"glyph\":{\"id\":\"1552\"},\"hover_glyph\":null,\"muted_glyph\":{\"id\":\"1554\"},\"nonselection_glyph\":{\"id\":\"1553\"},\"selection_glyph\":null,\"view\":{\"id\":\"1556\"}},\"id\":\"1555\",\"type\":\"GlyphRenderer\"},{\"attributes\":{\"fill_alpha\":{\"value\":0.1},\"fill_color\":{\"field\":\"Variable\",\"transform\":{\"id\":\"2068\"}},\"height\":{\"value\":0.8},\"left\":{\"field\":\"bottom\"},\"line_alpha\":{\"value\":0.1},\"right\":{\"field\":\"top\"},\"y\":{\"field\":\"index\"}},\"id\":\"2073\",\"type\":\"HBar\"},{\"attributes\":{\"align\":null,\"below\":[{\"id\":\"1642\"}],\"center\":[{\"id\":\"1645\"},{\"id\":\"1648\"},{\"id\":\"1679\"}],\"left\":[{\"id\":\"1646\"}],\"margin\":null,\"min_border_bottom\":10,\"min_border_left\":10,\"min_border_right\":10,\"min_border_top\":10,\"plot_height\":100,\"plot_width\":700,\"renderers\":[{\"id\":\"1669\"}],\"right\":[{\"id\":\"1679\"}],\"sizing_mode\":\"fixed\",\"title\":{\"id\":\"1634\"},\"toolbar\":{\"id\":\"1655\"},\"toolbar_location\":null,\"x_range\":{\"id\":\"1516\"},\"x_scale\":{\"id\":\"1638\"},\"y_range\":{\"id\":\"1517\"},\"y_scale\":{\"id\":\"1640\"}},\"id\":\"1633\",\"subtype\":\"Figure\",\"type\":\"Plot\"},{\"attributes\":{\"overlay\":{\"id\":\"2174\"}},\"id\":\"2172\",\"type\":\"BoxZoomTool\"},{\"attributes\":{\"child\":{\"id\":\"1782\"},\"name\":\"product_df\",\"title\":\"product_df\"},\"id\":\"2035\",\"type\":\"Panel\"},{\"attributes\":{\"axis_label\":\"\",\"bounds\":\"auto\",\"formatter\":{\"id\":\"2079\"},\"major_label_orientation\":\"horizontal\",\"ticker\":{\"id\":\"2087\"}},\"id\":\"2048\",\"type\":\"LinearAxis\"},{\"attributes\":{\"axis\":{\"id\":\"1532\"},\"dimension\":1,\"grid_line_color\":null,\"ticker\":null},\"id\":\"1534\",\"type\":\"Grid\"},{\"attributes\":{\"axis\":{\"id\":\"2048\"},\"grid_line_color\":null,\"ticker\":null},\"id\":\"2051\",\"type\":\"Grid\"},{\"attributes\":{},\"id\":\"2044\",\"type\":\"LinearScale\"},{\"attributes\":{},\"id\":\"2226\",\"type\":\"SaveTool\"},{\"attributes\":{\"axis_label\":\"\",\"bounds\":\"auto\",\"formatter\":{\"id\":\"1732\"},\"major_label_orientation\":\"horizontal\",\"ticker\":{\"id\":\"1704\"}},\"id\":\"1703\",\"type\":\"CategoricalAxis\"},{\"attributes\":{\"axis\":{\"id\":\"2166\"},\"dimension\":1,\"grid_line_color\":null,\"ticker\":null},\"id\":\"2168\",\"type\":\"Grid\"},{\"attributes\":{\"factors\":[\"Unique\",\"Duplicate\"],\"palette\":[\"#1f77b3\",\"#ff7e0e\"]},\"id\":\"1719\",\"type\":\"CategoricalColorMapper\"},{\"attributes\":{\"axis\":{\"id\":\"2052\"},\"dimension\":1,\"grid_line_color\":null,\"ticker\":null},\"id\":\"2054\",\"type\":\"Grid\"},{\"attributes\":{},\"id\":\"1704\",\"type\":\"CategoricalTicker\"},{\"attributes\":{},\"id\":\"1539\",\"type\":\"ResetTool\"},{\"attributes\":{\"factors\":[\"Available\",\"Missing\"],\"palette\":[\"#1f77b3\",\"#ff7e0e\"]},\"id\":\"1605\",\"type\":\"CategoricalColorMapper\"},{\"attributes\":{\"items\":[{\"id\":\"1623\"}],\"location\":[0,0]},\"id\":\"1622\",\"type\":\"Legend\"},{\"attributes\":{\"bottom_units\":\"screen\",\"fill_alpha\":0.5,\"fill_color\":\"lightgrey\",\"left_units\":\"screen\",\"level\":\"overlay\",\"line_alpha\":1.0,\"line_color\":\"black\",\"line_dash\":[4,4],\"line_width\":2,\"right_units\":\"screen\",\"top_units\":\"screen\"},\"id\":\"1654\",\"type\":\"BoxAnnotation\"},{\"attributes\":{},\"id\":\"1596\",\"type\":\"ResetTool\"},{\"attributes\":{\"overlay\":{\"id\":\"1654\"}},\"id\":\"1652\",\"type\":\"BoxZoomTool\"},{\"attributes\":{\"ticks\":[0]},\"id\":\"2087\",\"type\":\"FixedTicker\"},{\"attributes\":{\"overlay\":{\"id\":\"1597\"}},\"id\":\"1595\",\"type\":\"BoxZoomTool\"},{\"attributes\":{},\"id\":\"1563\",\"type\":\"UnionRenderers\"},{\"attributes\":{},\"id\":\"2127\",\"type\":\"Selection\"},{\"attributes\":{\"axis\":{\"id\":\"1699\"},\"grid_line_color\":null,\"ticker\":null},\"id\":\"1702\",\"type\":\"Grid\"},{\"attributes\":{\"factors\":[\"Available\",\"Missing\"],\"palette\":[\"#1f77b3\",\"#ff7e0e\"]},\"id\":\"2125\",\"type\":\"CategoricalColorMapper\"},{\"attributes\":{\"children\":[{\"id\":\"2299\"},{\"id\":\"2297\"}]},\"id\":\"2300\",\"type\":\"Column\"},{\"attributes\":{},\"id\":\"1535\",\"type\":\"SaveTool\"},{\"attributes\":{\"fill_color\":{\"field\":\"Variable\",\"transform\":{\"id\":\"2182\"}},\"height\":{\"value\":0.8},\"left\":{\"field\":\"bottom\"},\"right\":{\"field\":\"top\"},\"y\":{\"field\":\"index\"}},\"id\":\"2186\",\"type\":\"HBar\"},{\"attributes\":{},\"id\":\"2171\",\"type\":\"WheelZoomTool\"},{\"attributes\":{},\"id\":\"1650\",\"type\":\"PanTool\"},{\"attributes\":{},\"id\":\"2227\",\"type\":\"PanTool\"},{\"attributes\":{},\"id\":\"2056\",\"type\":\"PanTool\"},{\"attributes\":{},\"id\":\"2228\",\"type\":\"WheelZoomTool\"},{\"attributes\":{},\"id\":\"1616\",\"type\":\"BasicTickFormatter\"},{\"attributes\":{\"overlay\":{\"id\":\"2060\"}},\"id\":\"2058\",\"type\":\"BoxZoomTool\"},{\"attributes\":{\"active_drag\":\"auto\",\"active_inspect\":\"auto\",\"active_multi\":null,\"active_scroll\":\"auto\",\"active_tap\":\"auto\",\"tools\":[{\"id\":\"2038\"},{\"id\":\"2055\"},{\"id\":\"2056\"},{\"id\":\"2057\"},{\"id\":\"2058\"},{\"id\":\"2059\"}]},\"id\":\"2061\",\"type\":\"Toolbar\"},{\"attributes\":{},\"id\":\"2059\",\"type\":\"ResetTool\"},{\"attributes\":{},\"id\":\"1618\",\"type\":\"CategoricalTickFormatter\"},{\"attributes\":{\"items\":[{\"id\":\"1566\"}],\"location\":[0,0]},\"id\":\"1565\",\"type\":\"Legend\"},{\"attributes\":{},\"id\":\"2055\",\"type\":\"SaveTool\"},{\"attributes\":{\"axis_label\":\"\",\"bounds\":\"auto\",\"formatter\":{\"id\":\"2195\"},\"major_label_orientation\":\"horizontal\",\"ticker\":{\"id\":\"2167\"}},\"id\":\"2166\",\"type\":\"CategoricalAxis\"},{\"attributes\":{},\"id\":\"1594\",\"type\":\"WheelZoomTool\"},{\"attributes\":{\"axis\":{\"id\":\"2162\"},\"grid_line_color\":null,\"ticker\":null},\"id\":\"2165\",\"type\":\"Grid\"},{\"attributes\":{\"data\":{\"Variable\":[\"Numeric\",\"Others\"],\"bottom\":{\"__ndarray__\":\"AAAAAAAAAAAAAAAAAEA/QA==\",\"dtype\":\"float64\",\"order\":\"little\",\"shape\":[2]},\"index\":[\"values\",\"values\"],\"top\":{\"__ndarray__\":\"AAAAAABAP0AAAAAAAABZQA==\",\"dtype\":\"float64\",\"order\":\"little\",\"shape\":[2]},\"value\":{\"__ndarray__\":\"AAAAAABAP0AAAAAAADBRQA==\",\"dtype\":\"float64\",\"order\":\"little\",\"shape\":[2]}},\"selected\":{\"id\":\"2070\"},\"selection_policy\":{\"id\":\"2083\"}},\"id\":\"2069\",\"type\":\"ColumnDataSource\"},{\"attributes\":{},\"id\":\"2046\",\"type\":\"CategoricalScale\"},{\"attributes\":{\"ticks\":[0]},\"id\":\"1681\",\"type\":\"FixedTicker\"},{\"attributes\":{\"fill_color\":{\"field\":\"Variable\",\"transform\":{\"id\":\"1662\"}},\"height\":{\"value\":0.8},\"left\":{\"field\":\"bottom\"},\"right\":{\"field\":\"top\"},\"y\":{\"field\":\"index\"}},\"id\":\"1666\",\"type\":\"HBar\"},{\"attributes\":{\"fill_alpha\":{\"value\":0.1},\"fill_color\":{\"field\":\"Variable\",\"transform\":{\"id\":\"1662\"}},\"height\":{\"value\":0.8},\"left\":{\"field\":\"bottom\"},\"line_alpha\":{\"value\":0.1},\"right\":{\"field\":\"top\"},\"y\":{\"field\":\"index\"}},\"id\":\"1667\",\"type\":\"HBar\"},{\"attributes\":{\"bottom_units\":\"screen\",\"fill_alpha\":0.5,\"fill_color\":\"lightgrey\",\"left_units\":\"screen\",\"level\":\"overlay\",\"line_alpha\":1.0,\"line_color\":\"black\",\"line_dash\":[4,4],\"line_width\":2,\"right_units\":\"screen\",\"top_units\":\"screen\"},\"id\":\"2117\",\"type\":\"BoxAnnotation\"},{\"attributes\":{},\"id\":\"1550\",\"type\":\"Selection\"},{\"attributes\":{},\"id\":\"1664\",\"type\":\"Selection\"},{\"attributes\":{\"source\":{\"id\":\"2183\"}},\"id\":\"2190\",\"type\":\"CDSView\"},{\"attributes\":{},\"id\":\"2170\",\"type\":\"PanTool\"},{\"attributes\":{\"ticks\":[0]},\"id\":\"1567\",\"type\":\"FixedTicker\"},{\"attributes\":{\"bottom_units\":\"screen\",\"fill_alpha\":0.5,\"fill_color\":\"lightgrey\",\"left_units\":\"screen\",\"level\":\"overlay\",\"line_alpha\":1.0,\"line_color\":\"black\",\"line_dash\":[4,4],\"line_width\":2,\"right_units\":\"screen\",\"top_units\":\"screen\"},\"id\":\"1540\",\"type\":\"BoxAnnotation\"},{\"attributes\":{},\"id\":\"2053\",\"type\":\"CategoricalTicker\"},{\"attributes\":{},\"id\":\"2169\",\"type\":\"SaveTool\"},{\"attributes\":{},\"id\":\"1593\",\"type\":\"PanTool\"},{\"attributes\":{},\"id\":\"2140\",\"type\":\"UnionRenderers\"},{\"attributes\":{},\"id\":\"2057\",\"type\":\"WheelZoomTool\"},{\"attributes\":{},\"id\":\"2173\",\"type\":\"ResetTool\"},{\"attributes\":{},\"id\":\"1653\",\"type\":\"ResetTool\"},{\"attributes\":{\"axis_label\":\"\",\"bounds\":\"auto\",\"formatter\":{\"id\":\"2081\"},\"major_label_orientation\":\"horizontal\",\"ticker\":{\"id\":\"2053\"}},\"id\":\"2052\",\"type\":\"CategoricalAxis\"},{\"attributes\":{\"data_source\":{\"id\":\"1606\"},\"glyph\":{\"id\":\"1609\"},\"hover_glyph\":null,\"muted_glyph\":{\"id\":\"1611\"},\"nonselection_glyph\":{\"id\":\"1610\"},\"selection_glyph\":null,\"view\":{\"id\":\"1613\"}},\"id\":\"1612\",\"type\":\"GlyphRenderer\"},{\"attributes\":{},\"id\":\"1620\",\"type\":\"UnionRenderers\"},{\"attributes\":{\"children\":[[{\"id\":\"1519\"},0,0],[{\"id\":\"1576\"},1,0],[{\"id\":\"1633\"},2,0],[{\"id\":\"1690\"},3,0]]},\"id\":\"1777\",\"type\":\"GridBox\"},{\"attributes\":{\"fill_alpha\":{\"value\":0.2},\"fill_color\":{\"field\":\"Variable\",\"transform\":{\"id\":\"1605\"}},\"height\":{\"value\":0.8},\"left\":{\"field\":\"bottom\"},\"line_alpha\":{\"value\":0.2},\"right\":{\"field\":\"top\"},\"y\":{\"field\":\"index\"}},\"id\":\"1611\",\"type\":\"HBar\"},{\"attributes\":{},\"id\":\"1649\",\"type\":\"SaveTool\"},{\"attributes\":{\"style\":{\"white-space\":\"nowrap\"},\"text\":\"<span style=\\\"color:black;font-family:Arial;font-style:bold;font-weight:bold;font-size:12pt\\\">Data Shape:(313571, 16)</span>\",\"width\":450},\"id\":\"2301\",\"type\":\"Div\"},{\"attributes\":{\"active_drag\":\"auto\",\"active_inspect\":\"auto\",\"active_multi\":null,\"active_scroll\":\"auto\",\"active_tap\":\"auto\",\"tools\":[{\"id\":\"1518\"},{\"id\":\"1535\"},{\"id\":\"1536\"},{\"id\":\"1537\"},{\"id\":\"1538\"},{\"id\":\"1539\"}]},\"id\":\"1541\",\"type\":\"Toolbar\"},{\"attributes\":{\"bottom_units\":\"screen\",\"fill_alpha\":0.5,\"fill_color\":\"lightgrey\",\"left_units\":\"screen\",\"level\":\"overlay\",\"line_alpha\":1.0,\"line_color\":\"black\",\"line_dash\":[4,4],\"line_width\":2,\"right_units\":\"screen\",\"top_units\":\"screen\"},\"id\":\"1711\",\"type\":\"BoxAnnotation\"},{\"attributes\":{\"overlay\":{\"id\":\"1540\"}},\"id\":\"1538\",\"type\":\"BoxZoomTool\"},{\"attributes\":{\"overlay\":{\"id\":\"2231\"}},\"id\":\"2229\",\"type\":\"BoxZoomTool\"},{\"attributes\":{\"active_drag\":\"auto\",\"active_inspect\":\"auto\",\"active_multi\":null,\"active_scroll\":\"auto\",\"active_tap\":\"auto\",\"tools\":[{\"id\":\"2095\"},{\"id\":\"2112\"},{\"id\":\"2113\"},{\"id\":\"2114\"},{\"id\":\"2115\"},{\"id\":\"2116\"}]},\"id\":\"2118\",\"type\":\"Toolbar\"},{\"attributes\":{\"axis_label\":\"\",\"bounds\":\"auto\",\"formatter\":{\"id\":\"1561\"},\"major_label_orientation\":\"horizontal\",\"ticker\":{\"id\":\"1533\"}},\"id\":\"1532\",\"type\":\"CategoricalAxis\"},{\"attributes\":{},\"id\":\"2167\",\"type\":\"CategoricalTicker\"},{\"attributes\":{\"callback\":null,\"renderers\":[{\"id\":\"2189\"}],\"tags\":[\"hv_created\"],\"tooltips\":[[\"index\",\"@{index}\"],[\"Variable\",\"@{Variable}\"],[\"value\",\"@{value}\"]]},\"id\":\"2152\",\"type\":\"HoverTool\"},{\"attributes\":{\"children\":[{\"id\":\"2301\"},{\"id\":\"2300\"}]},\"id\":\"2302\",\"type\":\"Column\"},{\"attributes\":{},\"id\":\"2138\",\"type\":\"CategoricalTickFormatter\"},{\"attributes\":{},\"id\":\"2230\",\"type\":\"ResetTool\"},{\"attributes\":{},\"id\":\"1651\",\"type\":\"WheelZoomTool\"},{\"attributes\":{},\"id\":\"1533\",\"type\":\"CategoricalTicker\"},{\"attributes\":{\"data\":{\"Variable\":[\"Available\",\"Missing\"],\"bottom\":{\"__ndarray__\":\"AAAAAAAAAADLmzf7uv9YQA==\",\"dtype\":\"float64\",\"order\":\"little\",\"shape\":[2]},\"index\":[\"values\",\"values\"],\"top\":{\"__ndarray__\":\"y5s3+7r/WEAAAAAAAABZQA==\",\"dtype\":\"float64\",\"order\":\"little\",\"shape\":[2]},\"value\":{\"__ndarray__\":\"y5s3+7r/WEBMNw0ZMkFxPw==\",\"dtype\":\"float64\",\"order\":\"little\",\"shape\":[2]}},\"selected\":{\"id\":\"1607\"},\"selection_policy\":{\"id\":\"1620\"}},\"id\":\"1606\",\"type\":\"ColumnDataSource\"},{\"attributes\":{},\"id\":\"1537\",\"type\":\"WheelZoomTool\"},{\"attributes\":{},\"id\":\"2136\",\"type\":\"BasicTickFormatter\"},{\"attributes\":{},\"id\":\"2184\",\"type\":\"Selection\"},{\"attributes\":{},\"id\":\"1536\",\"type\":\"PanTool\"},{\"attributes\":{\"align\":null,\"below\":[{\"id\":\"2162\"}],\"center\":[{\"id\":\"2165\"},{\"id\":\"2168\"},{\"id\":\"2199\"}],\"left\":[{\"id\":\"2166\"}],\"margin\":null,\"min_border_bottom\":10,\"min_border_left\":10,\"min_border_right\":10,\"min_border_top\":10,\"plot_height\":100,\"plot_width\":700,\"renderers\":[{\"id\":\"2189\"}],\"right\":[{\"id\":\"2199\"}],\"sizing_mode\":\"fixed\",\"title\":{\"id\":\"2154\"},\"toolbar\":{\"id\":\"2175\"},\"toolbar_location\":null,\"x_range\":{\"id\":\"1516\"},\"x_scale\":{\"id\":\"2158\"},\"y_range\":{\"id\":\"1517\"},\"y_scale\":{\"id\":\"2160\"}},\"id\":\"2153\",\"subtype\":\"Figure\",\"type\":\"Plot\"},{\"attributes\":{\"active_drag\":\"auto\",\"active_inspect\":\"auto\",\"active_multi\":null,\"active_scroll\":\"auto\",\"active_tap\":\"auto\",\"tools\":[{\"id\":\"1632\"},{\"id\":\"1649\"},{\"id\":\"1650\"},{\"id\":\"1651\"},{\"id\":\"1652\"},{\"id\":\"1653\"}]},\"id\":\"1655\",\"type\":\"Toolbar\"},{\"attributes\":{\"data\":{\"Variable\":[\"Unique\",\"Duplicate\"],\"bottom\":{\"__ndarray__\":\"AAAAAAAAAABUisNZVstYQA==\",\"dtype\":\"float64\",\"order\":\"little\",\"shape\":[2]},\"index\":[\"values\",\"values\"],\"top\":{\"__ndarray__\":\"VIrDWVbLWED///////9YQA==\",\"dtype\":\"float64\",\"order\":\"little\",\"shape\":[2]},\"value\":{\"__ndarray__\":\"VIrDWVbLWEC31Toe01TqPw==\",\"dtype\":\"float64\",\"order\":\"little\",\"shape\":[2]}},\"selected\":{\"id\":\"1664\"},\"selection_policy\":{\"id\":\"1677\"}},\"id\":\"1663\",\"type\":\"ColumnDataSource\"},{\"attributes\":{\"label\":{\"field\":\"Variable\"},\"renderers\":[{\"id\":\"1612\"}]},\"id\":\"1623\",\"type\":\"LegendItem\"},{\"attributes\":{\"data_source\":{\"id\":\"2183\"},\"glyph\":{\"id\":\"2186\"},\"hover_glyph\":null,\"muted_glyph\":{\"id\":\"2188\"},\"nonselection_glyph\":{\"id\":\"2187\"},\"selection_glyph\":null,\"view\":{\"id\":\"2190\"}},\"id\":\"2189\",\"type\":\"GlyphRenderer\"},{\"attributes\":{\"text\":\"Datatypes\",\"text_color\":{\"value\":\"black\"},\"text_font_size\":{\"value\":\"12pt\"}},\"id\":\"2040\",\"type\":\"Title\"},{\"attributes\":{\"callback\":null,\"renderers\":[{\"id\":\"2075\"}],\"tags\":[\"hv_created\"],\"tooltips\":[[\"index\",\"@{index}\"],[\"Variable\",\"@{Variable}\"],[\"value\",\"@{value}\"]]},\"id\":\"2038\",\"type\":\"HoverTool\"},{\"attributes\":{},\"id\":\"2158\",\"type\":\"LinearScale\"},{\"attributes\":{\"text\":\"Duplicate Values\",\"text_color\":{\"value\":\"black\"},\"text_font_size\":{\"value\":\"12pt\"}},\"id\":\"2154\",\"type\":\"Title\"},{\"attributes\":{\"fill_alpha\":{\"value\":0.2},\"fill_color\":{\"field\":\"Variable\",\"transform\":{\"id\":\"2068\"}},\"height\":{\"value\":0.8},\"left\":{\"field\":\"bottom\"},\"line_alpha\":{\"value\":0.2},\"right\":{\"field\":\"top\"},\"y\":{\"field\":\"index\"}},\"id\":\"2074\",\"type\":\"HBar\"},{\"attributes\":{},\"id\":\"2215\",\"type\":\"LinearScale\"},{\"attributes\":{\"axis\":{\"id\":\"2105\"},\"grid_line_color\":null,\"ticker\":null},\"id\":\"2108\",\"type\":\"Grid\"},{\"attributes\":{\"ticks\":[0]},\"id\":\"2144\",\"type\":\"FixedTicker\"},{\"attributes\":{\"ticks\":[0]},\"id\":\"2201\",\"type\":\"FixedTicker\"},{\"attributes\":{\"data\":{\"Variable\":[\"Unique\",\"Duplicate\"],\"bottom\":{\"__ndarray__\":\"AAAAAAAAAAAAAAAAAABZQA==\",\"dtype\":\"float64\",\"order\":\"little\",\"shape\":[2]},\"index\":[\"values\",\"values\"],\"top\":{\"__ndarray__\":\"AAAAAAAAWUAAAAAAAABZQA==\",\"dtype\":\"float64\",\"order\":\"little\",\"shape\":[2]},\"value\":{\"__ndarray__\":\"AAAAAAAAWUAAAAAAAAAAAA==\",\"dtype\":\"float64\",\"order\":\"little\",\"shape\":[2]}},\"selected\":{\"id\":\"2241\"},\"selection_policy\":{\"id\":\"2254\"}},\"id\":\"2240\",\"type\":\"ColumnDataSource\"},{\"attributes\":{},\"id\":\"2160\",\"type\":\"CategoricalScale\"},{\"attributes\":{\"source\":{\"id\":\"2069\"}},\"id\":\"2076\",\"type\":\"CDSView\"},{\"attributes\":{\"axis_label\":\"\",\"bounds\":\"auto\",\"formatter\":{\"id\":\"2193\"},\"major_label_orientation\":\"horizontal\",\"ticker\":{\"id\":\"2201\"}},\"id\":\"2162\",\"type\":\"LinearAxis\"},{\"attributes\":{\"items\":[{\"id\":\"2086\"}],\"location\":[0,0]},\"id\":\"2085\",\"type\":\"Legend\"},{\"attributes\":{\"callback\":null,\"renderers\":[{\"id\":\"2132\"}],\"tags\":[\"hv_created\"],\"tooltips\":[[\"index\",\"@{index}\"],[\"Variable\",\"@{Variable}\"],[\"value\",\"@{value}\"]]},\"id\":\"2095\",\"type\":\"HoverTool\"},{\"attributes\":{},\"id\":\"2114\",\"type\":\"WheelZoomTool\"},{\"attributes\":{\"axis_label\":\"\",\"bounds\":\"auto\",\"formatter\":{\"id\":\"2136\"},\"major_label_orientation\":\"horizontal\",\"ticker\":{\"id\":\"2144\"}},\"id\":\"2105\",\"type\":\"LinearAxis\"},{\"attributes\":{\"factors\":[\"Numeric\",\"Others\"],\"palette\":[\"#1f77b3\",\"#ff7e0e\"]},\"id\":\"2068\",\"type\":\"CategoricalColorMapper\"},{\"attributes\":{\"align\":null,\"below\":[{\"id\":\"2105\"}],\"center\":[{\"id\":\"2108\"},{\"id\":\"2111\"},{\"id\":\"2142\"}],\"left\":[{\"id\":\"2109\"}],\"margin\":null,\"min_border_bottom\":10,\"min_border_left\":10,\"min_border_right\":10,\"min_border_top\":10,\"plot_height\":100,\"plot_width\":700,\"renderers\":[{\"id\":\"2132\"}],\"right\":[{\"id\":\"2142\"}],\"sizing_mode\":\"fixed\",\"title\":{\"id\":\"2097\"},\"toolbar\":{\"id\":\"2118\"},\"toolbar_location\":null,\"x_range\":{\"id\":\"1516\"},\"x_scale\":{\"id\":\"2101\"},\"y_range\":{\"id\":\"1517\"},\"y_scale\":{\"id\":\"2103\"}},\"id\":\"2096\",\"subtype\":\"Figure\",\"type\":\"Plot\"},{\"attributes\":{\"axis_label\":\"\",\"bounds\":\"auto\",\"formatter\":{\"id\":\"2138\"},\"major_label_orientation\":\"horizontal\",\"ticker\":{\"id\":\"2110\"}},\"id\":\"2109\",\"type\":\"CategoricalAxis\"},{\"attributes\":{},\"id\":\"2103\",\"type\":\"CategoricalScale\"},{\"attributes\":{},\"id\":\"2116\",\"type\":\"ResetTool\"},{\"attributes\":{},\"id\":\"2217\",\"type\":\"CategoricalScale\"},{\"attributes\":{},\"id\":\"2195\",\"type\":\"CategoricalTickFormatter\"},{\"attributes\":{},\"id\":\"2112\",\"type\":\"SaveTool\"},{\"attributes\":{},\"id\":\"2110\",\"type\":\"CategoricalTicker\"},{\"attributes\":{},\"id\":\"2193\",\"type\":\"BasicTickFormatter\"},{\"attributes\":{\"axis_label\":\"\",\"bounds\":\"auto\",\"formatter\":{\"id\":\"2250\"},\"major_label_orientation\":\"horizontal\",\"ticker\":{\"id\":\"2258\"}},\"id\":\"2219\",\"type\":\"LinearAxis\"},{\"attributes\":{\"fill_color\":{\"field\":\"Variable\",\"transform\":{\"id\":\"1605\"}},\"height\":{\"value\":0.8},\"left\":{\"field\":\"bottom\"},\"right\":{\"field\":\"top\"},\"y\":{\"field\":\"index\"}},\"id\":\"1609\",\"type\":\"HBar\"},{\"attributes\":{\"data_source\":{\"id\":\"2069\"},\"glyph\":{\"id\":\"2072\"},\"hover_glyph\":null,\"muted_glyph\":{\"id\":\"2074\"},\"nonselection_glyph\":{\"id\":\"2073\"},\"selection_glyph\":null,\"view\":{\"id\":\"2076\"}},\"id\":\"2075\",\"type\":\"GlyphRenderer\"},{\"attributes\":{\"label\":{\"field\":\"Variable\"},\"renderers\":[{\"id\":\"2075\"}]},\"id\":\"2086\",\"type\":\"LegendItem\"},{\"attributes\":{\"axis\":{\"id\":\"2109\"},\"dimension\":1,\"grid_line_color\":null,\"ticker\":null},\"id\":\"2111\",\"type\":\"Grid\"},{\"attributes\":{\"text\":\"Missing Values\",\"text_color\":{\"value\":\"black\"},\"text_font_size\":{\"value\":\"12pt\"}},\"id\":\"2097\",\"type\":\"Title\"},{\"attributes\":{\"factors\":[\"Unique\",\"Duplicate\"],\"palette\":[\"#1f77b3\",\"#ff7e0e\"]},\"id\":\"2239\",\"type\":\"CategoricalColorMapper\"},{\"attributes\":{},\"id\":\"2079\",\"type\":\"BasicTickFormatter\"},{\"attributes\":{\"text\":\"Duplicate Columns\",\"text_color\":{\"value\":\"black\"},\"text_font_size\":{\"value\":\"12pt\"}},\"id\":\"2211\",\"type\":\"Title\"},{\"attributes\":{\"factors\":[\"Unique\",\"Duplicate\"],\"palette\":[\"#1f77b3\",\"#ff7e0e\"]},\"id\":\"2182\",\"type\":\"CategoricalColorMapper\"},{\"attributes\":{\"align\":null,\"below\":[{\"id\":\"2219\"}],\"center\":[{\"id\":\"2222\"},{\"id\":\"2225\"},{\"id\":\"2256\"}],\"left\":[{\"id\":\"2223\"}],\"margin\":null,\"min_border_bottom\":10,\"min_border_left\":10,\"min_border_right\":10,\"min_border_top\":10,\"plot_height\":100,\"plot_width\":700,\"renderers\":[{\"id\":\"2246\"}],\"right\":[{\"id\":\"2256\"}],\"sizing_mode\":\"fixed\",\"title\":{\"id\":\"2211\"},\"toolbar\":{\"id\":\"2232\"},\"toolbar_location\":null,\"x_range\":{\"id\":\"1516\"},\"x_scale\":{\"id\":\"2215\"},\"y_range\":{\"id\":\"1517\"},\"y_scale\":{\"id\":\"2217\"}},\"id\":\"2210\",\"subtype\":\"Figure\",\"type\":\"Plot\"},{\"attributes\":{},\"id\":\"2081\",\"type\":\"CategoricalTickFormatter\"},{\"attributes\":{\"callback\":null,\"renderers\":[{\"id\":\"2246\"}],\"tags\":[\"hv_created\"],\"tooltips\":[[\"index\",\"@{index}\"],[\"Variable\",\"@{Variable}\"],[\"value\",\"@{value}\"]]},\"id\":\"2209\",\"type\":\"HoverTool\"},{\"attributes\":{\"fill_alpha\":{\"value\":0.1},\"fill_color\":{\"field\":\"Variable\",\"transform\":{\"id\":\"1605\"}},\"height\":{\"value\":0.8},\"left\":{\"field\":\"bottom\"},\"line_alpha\":{\"value\":0.1},\"right\":{\"field\":\"top\"},\"y\":{\"field\":\"index\"}},\"id\":\"1610\",\"type\":\"HBar\"},{\"attributes\":{\"toolbar\":{\"id\":\"2298\"},\"toolbar_location\":\"above\"},\"id\":\"2299\",\"type\":\"ToolbarBox\"},{\"attributes\":{\"axis\":{\"id\":\"2219\"},\"grid_line_color\":null,\"ticker\":null},\"id\":\"2222\",\"type\":\"Grid\"},{\"attributes\":{\"overlay\":{\"id\":\"2117\"}},\"id\":\"2115\",\"type\":\"BoxZoomTool\"},{\"attributes\":{\"items\":[{\"id\":\"2200\"}],\"location\":[0,0]},\"id\":\"2199\",\"type\":\"Legend\"},{\"attributes\":{\"align\":null,\"below\":[{\"id\":\"2048\"}],\"center\":[{\"id\":\"2051\"},{\"id\":\"2054\"},{\"id\":\"2085\"}],\"left\":[{\"id\":\"2052\"}],\"margin\":null,\"min_border_bottom\":10,\"min_border_left\":10,\"min_border_right\":10,\"min_border_top\":10,\"plot_height\":100,\"plot_width\":700,\"renderers\":[{\"id\":\"2075\"}],\"right\":[{\"id\":\"2085\"}],\"sizing_mode\":\"fixed\",\"title\":{\"id\":\"2040\"},\"toolbar\":{\"id\":\"2061\"},\"toolbar_location\":null,\"x_range\":{\"id\":\"1516\"},\"x_scale\":{\"id\":\"2044\"},\"y_range\":{\"id\":\"1517\"},\"y_scale\":{\"id\":\"2046\"}},\"id\":\"2039\",\"subtype\":\"Figure\",\"type\":\"Plot\"},{\"attributes\":{\"label\":{\"field\":\"Variable\"},\"renderers\":[{\"id\":\"2189\"}]},\"id\":\"2200\",\"type\":\"LegendItem\"},{\"attributes\":{},\"id\":\"2113\",\"type\":\"PanTool\"},{\"attributes\":{},\"id\":\"2197\",\"type\":\"UnionRenderers\"},{\"attributes\":{},\"id\":\"2083\",\"type\":\"UnionRenderers\"},{\"attributes\":{},\"id\":\"2101\",\"type\":\"LinearScale\"}],\"root_ids\":[\"1515\",\"2724\"]},\"title\":\"Bokeh Application\",\"version\":\"2.2.3\"}};\n",
       "  var render_items = [{\"docid\":\"3e402dc1-5fb2-4587-bbc1-dcb7c097c6be\",\"root_ids\":[\"1515\"],\"roots\":{\"1515\":\"9d250a0a-2d07-4f54-a885-5cc4bff07181\"}}];\n",
       "  root.Bokeh.embed.embed_items_notebook(docs_json, render_items);\n",
       "  }\n",
       "if (root.Bokeh !== undefined) {\n",
       "    embed_document(root);\n",
       "  } else {\n",
       "    var attempts = 0;\n",
       "    var timer = setInterval(function(root) {\n",
       "      if (root.Bokeh !== undefined) {\n",
       "        clearInterval(timer);\n",
       "        embed_document(root);\n",
       "      } else if (document.readyState == \"complete\") {\n",
       "        attempts++;\n",
       "        if (attempts > 100) {\n",
       "          clearInterval(timer);\n",
       "          console.log(\"Bokeh: ERROR: Unable to run BokehJS code because BokehJS library is missing\");\n",
       "        }\n",
       "      }\n",
       "    }, 10, root)\n",
       "  }\n",
       "})(window);</script>"
      ],
      "text/plain": [
       "Tabs\n",
       "    [0] HoloViews(Layout, name='product_df')\n",
       "    [1] HoloViews(Layout, name='opportunity_df')"
      ]
     },
     "execution_count": 152,
     "metadata": {
      "application/vnd.holoviews_exec.v0+json": {
       "id": "1515"
      }
     },
     "output_type": "execute_result"
    }
   ],
   "source": [
    "summaries_and_plots = [analysis.get_data_health_summary(data[x], return_plot=True) for x in data.keys()]\n",
    "plots = [x[1] for x in summaries_and_plots]\n",
    "display_as_tabs([(x, plots[idx]) for idx, x in enumerate(data.keys())])"
   ]
  },
  {
   "cell_type": "markdown",
   "metadata": {},
   "source": [
    "**Dev NOTES**\n",
    "\n",
    "<details>\n",
    "1. Datatypes : We have both numeric and other types. The bulk of them seem to be numeric. `Numeric` is defined to be one of [float|int|date] and the rest are categorized as `Others`. A column is assumed to have `date` values if it has the string `date` in the column name.\n",
    "\n",
    "**[TODO]** We prob. need more types: integral, float, bool, dates/timestamps, strings. We have this functionality in Dataprocessor.\n",
    "\n",
    "2. The missing value plot seems to indicate missing values are not present but we do have them. \n",
    "\n",
    "**[TODO]** The plot can be improved to better display small values\n",
    "\n",
    "3. We are looking for duplicate observations (rows in the data). The plot shows the % of rows that are an exact replica of another row (using `df.duplicated`)\n",
    "\n",
    "4. We are looking for duplicate features (columns in the data).\n",
    "\n",
    "**[TODO]** The tigerml code seems complicated but it looks like we compare each column against all other similar columns (numeric/categoric) after dropping nans, infs\n",
    "\n",
    "\n",
    "**[TODO]** We need better data inspectors. The current data inspectors show columns from the dataframe used to construct the plot and **not** the original data. This does not make sense for an end-user who didn't expicitly construct the intermediate data used for the plot. It would be more meaningful to have labels that match the legends (e.g unique_columns:100%, duplicate_columns:0). Also, the y-axis label doesen't tell anything. The x-axis prob. needs an axis (0 to 100%).\n",
    "\n",
    "</details>"
   ]
  },
  {
   "cell_type": "markdown",
   "metadata": {},
   "source": [
    "### Missing Values summary\n",
    "\n",
    "This provides an overall view focussing on amount of missing values in the dataset.\n",
    "\n",
    "**Watch out for:**\n",
    "* A few columns have significant number of missing values \n",
    "* Most columns have significant number of missing values\n"
   ]
  },
  {
   "cell_type": "code",
   "execution_count": 153,
   "metadata": {},
   "outputs": [
    {
     "data": {},
     "metadata": {},
     "output_type": "display_data"
    },
    {
     "data": {},
     "metadata": {},
     "output_type": "display_data"
    },
    {
     "data": {
      "application/vnd.holoviews_exec.v0+json": "",
      "text/html": [
       "<div id='3061'>\n",
       "\n",
       "\n",
       "\n",
       "\n",
       "\n",
       "  <div class=\"bk-root\" id=\"b18cea6e-bd2d-4c3d-9df9-3342af808621\" data-root-id=\"3061\"></div>\n",
       "</div>\n",
       "<script type=\"application/javascript\">(function(root) {\n",
       "  function embed_document(root) {\n",
       "  var docs_json = {\"de5ef9f8-89f3-4fe4-a975-b79d9af688f9\":{\"roots\":{\"references\":[{\"attributes\":{\"source\":{\"id\":\"3155\"}},\"id\":\"3162\",\"type\":\"CDSView\"},{\"attributes\":{},\"id\":\"3095\",\"type\":\"Selection\"},{\"attributes\":{\"child\":{\"id\":\"3126\"},\"name\":\"opportunity_df\",\"title\":\"opportunity_df\"},\"id\":\"3183\",\"type\":\"Panel\"},{\"attributes\":{\"factors\":[\"No Missing\",\"0-5%\",\"5-10%\",\"10-20%\",\"20-30%\",\"30-40%\",\"40-50%\",\"50-100%\"],\"tags\":[[[\"index\",\"index\",null]]]},\"id\":\"3062\",\"type\":\"FactorRange\"},{\"attributes\":{\"text\":\"Missing Variables - Data Shape:(142431, 8)\",\"text_color\":{\"value\":\"black\"},\"text_font_size\":{\"value\":\"12pt\"}},\"id\":\"3066\",\"type\":\"Title\"},{\"attributes\":{\"text\":\"Missing Variables - Data Shape:(313571, 16)\",\"text_color\":{\"value\":\"black\"},\"text_font_size\":{\"value\":\"12pt\"}},\"id\":\"3127\",\"type\":\"Title\"},{\"attributes\":{\"data\":{\"A_0\":[11,3,1,0,0,0,0,1],\"index\":[\"No Missing\",\"0-5%\",\"5-10%\",\"10-20%\",\"20-30%\",\"30-40%\",\"40-50%\",\"50-100%\"]},\"selected\":{\"id\":\"3156\"},\"selection_policy\":{\"id\":\"3173\"}},\"id\":\"3155\",\"type\":\"ColumnDataSource\"},{\"attributes\":{\"fill_color\":{\"value\":\"#1f77b3\"},\"top\":{\"field\":\"A_0\"},\"width\":{\"value\":0.8},\"x\":{\"field\":\"index\"}},\"id\":\"3097\",\"type\":\"VBar\"},{\"attributes\":{\"source\":{\"id\":\"3094\"}},\"id\":\"3101\",\"type\":\"CDSView\"},{\"attributes\":{\"callback\":null,\"renderers\":[{\"id\":\"3100\"}],\"tags\":[\"hv_created\"],\"tooltips\":[[\"index\",\"@{index}\"],[\"0\",\"@{A_0}\"]]},\"id\":\"3064\",\"type\":\"HoverTool\"},{\"attributes\":{},\"id\":\"3166\",\"type\":\"BasicTickFormatter\"},{\"attributes\":{\"callback\":null,\"renderers\":[{\"id\":\"3161\"}],\"tags\":[\"hv_created\"],\"tooltips\":[[\"index\",\"@{index}\"],[\"0\",\"@{A_0}\"]]},\"id\":\"3125\",\"type\":\"HoverTool\"},{\"attributes\":{\"margin\":[0,0,0,0],\"tabs\":[{\"id\":\"3122\"},{\"id\":\"3183\"}]},\"id\":\"3061\",\"type\":\"Tabs\"},{\"attributes\":{\"fill_color\":{\"value\":\"#1f77b3\"},\"top\":{\"field\":\"A_0\"},\"width\":{\"value\":0.8},\"x\":{\"field\":\"index\"}},\"id\":\"3158\",\"type\":\"VBar\"},{\"attributes\":{},\"id\":\"3131\",\"type\":\"CategoricalScale\"},{\"attributes\":{},\"id\":\"3070\",\"type\":\"CategoricalScale\"},{\"attributes\":{},\"id\":\"3173\",\"type\":\"UnionRenderers\"},{\"attributes\":{\"align\":null,\"below\":[{\"id\":\"3074\"}],\"center\":[{\"id\":\"3076\"},{\"id\":\"3080\"}],\"left\":[{\"id\":\"3077\"}],\"margin\":null,\"min_border_bottom\":10,\"min_border_left\":10,\"min_border_right\":10,\"min_border_top\":10,\"plot_height\":300,\"plot_width\":700,\"renderers\":[{\"id\":\"3100\"}],\"sizing_mode\":\"fixed\",\"title\":{\"id\":\"3066\"},\"toolbar\":{\"id\":\"3087\"},\"x_range\":{\"id\":\"3062\"},\"x_scale\":{\"id\":\"3070\"},\"y_range\":{\"id\":\"3063\"},\"y_scale\":{\"id\":\"3072\"}},\"id\":\"3065\",\"subtype\":\"Figure\",\"type\":\"Plot\"},{\"attributes\":{\"align\":null,\"below\":[{\"id\":\"3135\"}],\"center\":[{\"id\":\"3137\"},{\"id\":\"3141\"}],\"left\":[{\"id\":\"3138\"}],\"margin\":null,\"min_border_bottom\":10,\"min_border_left\":10,\"min_border_right\":10,\"min_border_top\":10,\"plot_height\":300,\"plot_width\":700,\"renderers\":[{\"id\":\"3161\"}],\"sizing_mode\":\"fixed\",\"title\":{\"id\":\"3127\"},\"toolbar\":{\"id\":\"3148\"},\"x_range\":{\"id\":\"3062\"},\"x_scale\":{\"id\":\"3131\"},\"y_range\":{\"id\":\"3063\"},\"y_scale\":{\"id\":\"3133\"}},\"id\":\"3126\",\"subtype\":\"Figure\",\"type\":\"Plot\"},{\"attributes\":{\"end\":7.7,\"reset_end\":7.7,\"reset_start\":0.0,\"tags\":[[[\"0\",\"0\",null]]]},\"id\":\"3063\",\"type\":\"Range1d\"},{\"attributes\":{},\"id\":\"3112\",\"type\":\"UnionRenderers\"},{\"attributes\":{\"data\":{\"A_0\":[7,1,0,0,0,0,0,0],\"index\":[\"No Missing\",\"0-5%\",\"5-10%\",\"10-20%\",\"20-30%\",\"30-40%\",\"40-50%\",\"50-100%\"]},\"selected\":{\"id\":\"3095\"},\"selection_policy\":{\"id\":\"3112\"}},\"id\":\"3094\",\"type\":\"ColumnDataSource\"},{\"attributes\":{},\"id\":\"3156\",\"type\":\"Selection\"},{\"attributes\":{\"axis_label\":\"# of variables\",\"bounds\":\"auto\",\"formatter\":{\"id\":\"3105\"},\"major_label_orientation\":\"horizontal\",\"ticker\":{\"id\":\"3078\"}},\"id\":\"3077\",\"type\":\"LinearAxis\"},{\"attributes\":{\"client_comm_id\":\"6a2e2476907c454f9aa76972e07fe51d\",\"comm_id\":\"9b474b5b594042eeac0f7615fcc980ce\",\"plot_id\":\"3061\"},\"id\":\"3232\",\"type\":\"panel.models.comm_manager.CommManager\"},{\"attributes\":{\"bottom_units\":\"screen\",\"fill_alpha\":0.5,\"fill_color\":\"lightgrey\",\"left_units\":\"screen\",\"level\":\"overlay\",\"line_alpha\":1.0,\"line_color\":\"black\",\"line_dash\":[4,4],\"line_width\":2,\"right_units\":\"screen\",\"top_units\":\"screen\"},\"id\":\"3086\",\"type\":\"BoxAnnotation\"},{\"attributes\":{},\"id\":\"3078\",\"type\":\"BasicTicker\"},{\"attributes\":{\"fill_alpha\":{\"value\":0.2},\"fill_color\":{\"value\":\"#1f77b3\"},\"line_alpha\":{\"value\":0.2},\"top\":{\"field\":\"A_0\"},\"width\":{\"value\":0.8},\"x\":{\"field\":\"index\"}},\"id\":\"3160\",\"type\":\"VBar\"},{\"attributes\":{},\"id\":\"3103\",\"type\":\"CategoricalTickFormatter\"},{\"attributes\":{\"fill_alpha\":{\"value\":0.1},\"fill_color\":{\"value\":\"#1f77b3\"},\"line_alpha\":{\"value\":0.1},\"top\":{\"field\":\"A_0\"},\"width\":{\"value\":0.8},\"x\":{\"field\":\"index\"}},\"id\":\"3098\",\"type\":\"VBar\"},{\"attributes\":{},\"id\":\"3164\",\"type\":\"CategoricalTickFormatter\"},{\"attributes\":{\"data_source\":{\"id\":\"3094\"},\"glyph\":{\"id\":\"3097\"},\"hover_glyph\":null,\"muted_glyph\":{\"id\":\"3099\"},\"nonselection_glyph\":{\"id\":\"3098\"},\"selection_glyph\":null,\"view\":{\"id\":\"3101\"}},\"id\":\"3100\",\"type\":\"GlyphRenderer\"},{\"attributes\":{\"axis\":{\"id\":\"3135\"},\"grid_line_color\":null,\"ticker\":null},\"id\":\"3137\",\"type\":\"Grid\"},{\"attributes\":{},\"id\":\"3085\",\"type\":\"ResetTool\"},{\"attributes\":{\"fill_alpha\":{\"value\":0.2},\"fill_color\":{\"value\":\"#1f77b3\"},\"line_alpha\":{\"value\":0.2},\"top\":{\"field\":\"A_0\"},\"width\":{\"value\":0.8},\"x\":{\"field\":\"index\"}},\"id\":\"3099\",\"type\":\"VBar\"},{\"attributes\":{\"fill_alpha\":{\"value\":0.1},\"fill_color\":{\"value\":\"#1f77b3\"},\"line_alpha\":{\"value\":0.1},\"top\":{\"field\":\"A_0\"},\"width\":{\"value\":0.8},\"x\":{\"field\":\"index\"}},\"id\":\"3159\",\"type\":\"VBar\"},{\"attributes\":{},\"id\":\"3075\",\"type\":\"CategoricalTicker\"},{\"attributes\":{},\"id\":\"3081\",\"type\":\"SaveTool\"},{\"attributes\":{},\"id\":\"3136\",\"type\":\"CategoricalTicker\"},{\"attributes\":{\"active_drag\":\"auto\",\"active_inspect\":\"auto\",\"active_multi\":null,\"active_scroll\":\"auto\",\"active_tap\":\"auto\",\"tools\":[{\"id\":\"3125\"},{\"id\":\"3142\"},{\"id\":\"3143\"},{\"id\":\"3144\"},{\"id\":\"3145\"},{\"id\":\"3146\"}]},\"id\":\"3148\",\"type\":\"Toolbar\"},{\"attributes\":{},\"id\":\"3082\",\"type\":\"PanTool\"},{\"attributes\":{\"overlay\":{\"id\":\"3086\"}},\"id\":\"3084\",\"type\":\"BoxZoomTool\"},{\"attributes\":{},\"id\":\"3072\",\"type\":\"LinearScale\"},{\"attributes\":{},\"id\":\"3133\",\"type\":\"LinearScale\"},{\"attributes\":{\"bottom_units\":\"screen\",\"fill_alpha\":0.5,\"fill_color\":\"lightgrey\",\"left_units\":\"screen\",\"level\":\"overlay\",\"line_alpha\":1.0,\"line_color\":\"black\",\"line_dash\":[4,4],\"line_width\":2,\"right_units\":\"screen\",\"top_units\":\"screen\"},\"id\":\"3147\",\"type\":\"BoxAnnotation\"},{\"attributes\":{\"axis_label\":\"# of missing observations\",\"bounds\":\"auto\",\"formatter\":{\"id\":\"3103\"},\"major_label_orientation\":\"horizontal\",\"ticker\":{\"id\":\"3075\"}},\"id\":\"3074\",\"type\":\"CategoricalAxis\"},{\"attributes\":{\"axis_label\":\"# of missing observations\",\"bounds\":\"auto\",\"formatter\":{\"id\":\"3164\"},\"major_label_orientation\":\"horizontal\",\"ticker\":{\"id\":\"3136\"}},\"id\":\"3135\",\"type\":\"CategoricalAxis\"},{\"attributes\":{\"axis\":{\"id\":\"3077\"},\"dimension\":1,\"grid_line_color\":null,\"ticker\":null},\"id\":\"3080\",\"type\":\"Grid\"},{\"attributes\":{},\"id\":\"3143\",\"type\":\"PanTool\"},{\"attributes\":{\"child\":{\"id\":\"3065\"},\"name\":\"product_df\",\"title\":\"product_df\"},\"id\":\"3122\",\"type\":\"Panel\"},{\"attributes\":{\"data_source\":{\"id\":\"3155\"},\"glyph\":{\"id\":\"3158\"},\"hover_glyph\":null,\"muted_glyph\":{\"id\":\"3160\"},\"nonselection_glyph\":{\"id\":\"3159\"},\"selection_glyph\":null,\"view\":{\"id\":\"3162\"}},\"id\":\"3161\",\"type\":\"GlyphRenderer\"},{\"attributes\":{\"axis_label\":\"# of variables\",\"bounds\":\"auto\",\"formatter\":{\"id\":\"3166\"},\"major_label_orientation\":\"horizontal\",\"ticker\":{\"id\":\"3139\"}},\"id\":\"3138\",\"type\":\"LinearAxis\"},{\"attributes\":{\"axis\":{\"id\":\"3138\"},\"dimension\":1,\"grid_line_color\":null,\"ticker\":null},\"id\":\"3141\",\"type\":\"Grid\"},{\"attributes\":{},\"id\":\"3105\",\"type\":\"BasicTickFormatter\"},{\"attributes\":{},\"id\":\"3139\",\"type\":\"BasicTicker\"},{\"attributes\":{\"axis\":{\"id\":\"3074\"},\"grid_line_color\":null,\"ticker\":null},\"id\":\"3076\",\"type\":\"Grid\"},{\"attributes\":{},\"id\":\"3144\",\"type\":\"WheelZoomTool\"},{\"attributes\":{\"active_drag\":\"auto\",\"active_inspect\":\"auto\",\"active_multi\":null,\"active_scroll\":\"auto\",\"active_tap\":\"auto\",\"tools\":[{\"id\":\"3064\"},{\"id\":\"3081\"},{\"id\":\"3082\"},{\"id\":\"3083\"},{\"id\":\"3084\"},{\"id\":\"3085\"}]},\"id\":\"3087\",\"type\":\"Toolbar\"},{\"attributes\":{},\"id\":\"3146\",\"type\":\"ResetTool\"},{\"attributes\":{},\"id\":\"3083\",\"type\":\"WheelZoomTool\"},{\"attributes\":{},\"id\":\"3142\",\"type\":\"SaveTool\"},{\"attributes\":{\"overlay\":{\"id\":\"3147\"}},\"id\":\"3145\",\"type\":\"BoxZoomTool\"}],\"root_ids\":[\"3061\",\"3232\"]},\"title\":\"Bokeh Application\",\"version\":\"2.2.3\"}};\n",
       "  var render_items = [{\"docid\":\"de5ef9f8-89f3-4fe4-a975-b79d9af688f9\",\"root_ids\":[\"3061\"],\"roots\":{\"3061\":\"b18cea6e-bd2d-4c3d-9df9-3342af808621\"}}];\n",
       "  root.Bokeh.embed.embed_items_notebook(docs_json, render_items);\n",
       "  }\n",
       "if (root.Bokeh !== undefined) {\n",
       "    embed_document(root);\n",
       "  } else {\n",
       "    var attempts = 0;\n",
       "    var timer = setInterval(function(root) {\n",
       "      if (root.Bokeh !== undefined) {\n",
       "        clearInterval(timer);\n",
       "        embed_document(root);\n",
       "      } else if (document.readyState == \"complete\") {\n",
       "        attempts++;\n",
       "        if (attempts > 100) {\n",
       "          clearInterval(timer);\n",
       "          console.log(\"Bokeh: ERROR: Unable to run BokehJS code because BokehJS library is missing\");\n",
       "        }\n",
       "      }\n",
       "    }, 10, root)\n",
       "  }\n",
       "})(window);</script>"
      ],
      "text/plain": [
       "Tabs\n",
       "    [0] HoloViews(Bars, name='product_df')\n",
       "    [1] HoloViews(Bars, name='opportunity_df')"
      ]
     },
     "execution_count": 153,
     "metadata": {
      "application/vnd.holoviews_exec.v0+json": {
       "id": "3061"
      }
     },
     "output_type": "execute_result"
    }
   ],
   "source": [
    "summaries_and_plots = [analysis.get_missing_values_summary(data[x], return_plot=True) for x in data.keys()]\n",
    "plots = [x[1] for x in summaries_and_plots]\n",
    "display_as_tabs([(x, plots[idx]) for idx, x in enumerate(data.keys())])"
   ]
  },
  {
   "cell_type": "markdown",
   "metadata": {},
   "source": [
    "**Dev notes:**\n",
    "\n",
    "<details>\n",
    "    \n",
    "    * By default, the following are considered missing/NA values : `[np.Nan, pd.NaT, 'NA', None]`\n",
    "    * additional values can be passed to tigerml (add_additional_na_values)\n",
    "    * these are applied to all columns.\n",
    "    \n",
    "    * some of the above information can be learnt from the data discovery step (see discussion below)\n",
    "    \n",
    "</details>"
   ]
  },
  {
   "cell_type": "markdown",
   "metadata": {},
   "source": [
    "### Duplicate Columns"
   ]
  },
  {
   "cell_type": "code",
   "execution_count": 154,
   "metadata": {},
   "outputs": [
    {
     "data": {},
     "metadata": {},
     "output_type": "display_data"
    },
    {
     "data": {
      "application/vnd.holoviews_exec.v0+json": "",
      "text/html": [
       "<div id='3329'>\n",
       "\n",
       "\n",
       "\n",
       "\n",
       "\n",
       "  <div class=\"bk-root\" id=\"832ef333-b0ee-49be-a12b-88fb3d4dbee1\" data-root-id=\"3329\"></div>\n",
       "</div>\n",
       "<script type=\"application/javascript\">(function(root) {\n",
       "  function embed_document(root) {\n",
       "  var docs_json = {\"ceb57516-c356-47c7-852d-3d8016119057\":{\"roots\":{\"references\":[{\"attributes\":{\"css_classes\":[\"markdown\"],\"margin\":[5,5,5,5],\"name\":\"product_df\",\"text\":\"&lt;p&gt;No duplicate variables&lt;/p&gt;\"},\"id\":\"3330\",\"type\":\"panel.models.markup.HTML\"},{\"attributes\":{\"margin\":[0,0,0,0],\"tabs\":[{\"id\":\"3331\"},{\"id\":\"3333\"}]},\"id\":\"3329\",\"type\":\"Tabs\"},{\"attributes\":{\"css_classes\":[\"markdown\"],\"margin\":[5,5,5,5],\"name\":\"opportunity_df\",\"text\":\"&lt;p&gt;No duplicate variables&lt;/p&gt;\"},\"id\":\"3332\",\"type\":\"panel.models.markup.HTML\"},{\"attributes\":{\"client_comm_id\":\"de58d27e012243f59047edc2a7a58726\",\"comm_id\":\"08343f7d2e4f46cf9413509b7f0705ec\",\"plot_id\":\"3329\"},\"id\":\"3334\",\"type\":\"panel.models.comm_manager.CommManager\"},{\"attributes\":{\"child\":{\"id\":\"3332\"},\"name\":\"opportunity_df\",\"title\":\"opportunity_df\"},\"id\":\"3333\",\"type\":\"Panel\"},{\"attributes\":{\"child\":{\"id\":\"3330\"},\"name\":\"product_df\",\"title\":\"product_df\"},\"id\":\"3331\",\"type\":\"Panel\"}],\"root_ids\":[\"3329\",\"3334\"]},\"title\":\"Bokeh Application\",\"version\":\"2.2.3\"}};\n",
       "  var render_items = [{\"docid\":\"ceb57516-c356-47c7-852d-3d8016119057\",\"root_ids\":[\"3329\"],\"roots\":{\"3329\":\"832ef333-b0ee-49be-a12b-88fb3d4dbee1\"}}];\n",
       "  root.Bokeh.embed.embed_items_notebook(docs_json, render_items);\n",
       "  }\n",
       "if (root.Bokeh !== undefined) {\n",
       "    embed_document(root);\n",
       "  } else {\n",
       "    var attempts = 0;\n",
       "    var timer = setInterval(function(root) {\n",
       "      if (root.Bokeh !== undefined) {\n",
       "        clearInterval(timer);\n",
       "        embed_document(root);\n",
       "      } else if (document.readyState == \"complete\") {\n",
       "        attempts++;\n",
       "        if (attempts > 100) {\n",
       "          clearInterval(timer);\n",
       "          console.log(\"Bokeh: ERROR: Unable to run BokehJS code because BokehJS library is missing\");\n",
       "        }\n",
       "      }\n",
       "    }, 10, root)\n",
       "  }\n",
       "})(window);</script>"
      ],
      "text/plain": [
       "Tabs\n",
       "    [0] Markdown(str, name='product_df')\n",
       "    [1] Markdown(str, name='opportunity_df')"
      ]
     },
     "execution_count": 154,
     "metadata": {
      "application/vnd.holoviews_exec.v0+json": {
       "id": "3329"
      }
     },
     "output_type": "execute_result"
    }
   ],
   "source": [
    "summaries = [analysis.get_duplicate_columns(data[x]) for x in data.keys()]\n",
    "display_as_tabs([(x, summaries[idx]) for idx, x in enumerate(data.keys())])"
   ]
  },
  {
   "cell_type": "markdown",
   "metadata": {},
   "source": [
    "### Outlier Checks"
   ]
  },
  {
   "cell_type": "code",
   "execution_count": 155,
   "metadata": {},
   "outputs": [
    {
     "data": {},
     "metadata": {},
     "output_type": "display_data"
    },
    {
     "data": {
      "application/vnd.holoviews_exec.v0+json": "",
      "text/html": [
       "<div id='3335'>\n",
       "\n",
       "\n",
       "\n",
       "\n",
       "\n",
       "  <div class=\"bk-root\" id=\"419242c3-cd59-4607-8820-bd112c57e68a\" data-root-id=\"3335\"></div>\n",
       "</div>\n",
       "<script type=\"application/javascript\">(function(root) {\n",
       "  function embed_document(root) {\n",
       "  var docs_json = {\"7be82fc1-dc1a-4dff-9fef-b0c4afdf151a\":{\"roots\":{\"references\":[{\"attributes\":{\"editor\":{\"id\":\"3398\"},\"field\":\"('Data Shape:(313571, 16)', '> (3rdQ + 1.5 * IQR)')\",\"formatter\":{\"id\":\"3397\"},\"title\":\"('Data Shape:(313571, 16)', '> (3rdQ + 1.5 * IQR)')\",\"width\":null},\"id\":\"3399\",\"type\":\"TableColumn\"},{\"attributes\":{\"editor\":{\"id\":\"3403\"},\"field\":\"('Data Shape:(313571, 16)', '-inf')\",\"formatter\":{\"id\":\"3402\"},\"title\":\"('Data Shape:(313571, 16)', '-inf')\",\"width\":null},\"id\":\"3404\",\"type\":\"TableColumn\"},{\"attributes\":{\"editor\":{\"id\":\"3358\"},\"field\":\"('Data Shape:(142431, 8)', '> (3rdQ + 1.5 * IQR)')\",\"formatter\":{\"id\":\"3357\"},\"title\":\"('Data Shape:(142431, 8)', '> (3rdQ + 1.5 * IQR)')\",\"width\":null},\"id\":\"3359\",\"type\":\"TableColumn\"},{\"attributes\":{},\"id\":\"3338\",\"type\":\"StringEditor\"},{\"attributes\":{},\"id\":\"3362\",\"type\":\"NumberFormatter\"},{\"attributes\":{},\"id\":\"3403\",\"type\":\"IntEditor\"},{\"attributes\":{},\"id\":\"3417\",\"type\":\"UnionRenderers\"},{\"attributes\":{},\"id\":\"3419\",\"type\":\"UnionRenderers\"},{\"attributes\":{},\"id\":\"3414\",\"type\":\"Selection\"},{\"attributes\":{\"margin\":[0,0,0,0],\"tabs\":[{\"id\":\"3375\"},{\"id\":\"3415\"}]},\"id\":\"3335\",\"type\":\"Tabs\"},{\"attributes\":{\"editor\":{\"id\":\"3363\"},\"field\":\"('Data Shape:(142431, 8)', '-inf')\",\"formatter\":{\"id\":\"3362\"},\"title\":\"('Data Shape:(142431, 8)', '-inf')\",\"width\":null},\"id\":\"3364\",\"type\":\"TableColumn\"},{\"attributes\":{},\"id\":\"3352\",\"type\":\"NumberFormatter\"},{\"attributes\":{},\"id\":\"3343\",\"type\":\"IntEditor\"},{\"attributes\":{\"child\":{\"id\":\"3412\"},\"name\":\"opportunity_df\",\"title\":\"opportunity_df\"},\"id\":\"3415\",\"type\":\"Panel\"},{\"attributes\":{\"editor\":{\"id\":\"3338\"},\"field\":\"index\",\"formatter\":{\"id\":\"3337\"},\"title\":\"index\",\"width\":null},\"id\":\"3339\",\"type\":\"TableColumn\"},{\"attributes\":{\"editor\":{\"id\":\"3343\"},\"field\":\"('Data Shape:(142431, 8)', '< (mean-3*std)')\",\"formatter\":{\"id\":\"3342\"},\"title\":\"('Data Shape:(142431, 8)', '< (mean-3*std)')\",\"width\":null},\"id\":\"3344\",\"type\":\"TableColumn\"},{\"attributes\":{},\"id\":\"3347\",\"type\":\"NumberFormatter\"},{\"attributes\":{},\"id\":\"3358\",\"type\":\"IntEditor\"},{\"attributes\":{},\"id\":\"3367\",\"type\":\"NumberFormatter\"},{\"attributes\":{},\"id\":\"3357\",\"type\":\"NumberFormatter\"},{\"attributes\":{\"client_comm_id\":\"c164d8fb999d45c399eed71beb6fda69\",\"comm_id\":\"ed43593e6abd48058814922662b7d5aa\",\"plot_id\":\"3335\"},\"id\":\"3428\",\"type\":\"panel.models.comm_manager.CommManager\"},{\"attributes\":{\"editor\":{\"id\":\"3383\"},\"field\":\"('Data Shape:(313571, 16)', '< (mean-3*std)')\",\"formatter\":{\"id\":\"3382\"},\"title\":\"('Data Shape:(313571, 16)', '< (mean-3*std)')\",\"width\":null},\"id\":\"3384\",\"type\":\"TableColumn\"},{\"attributes\":{},\"id\":\"3408\",\"type\":\"IntEditor\"},{\"attributes\":{},\"id\":\"3407\",\"type\":\"NumberFormatter\"},{\"attributes\":{\"columns\":[{\"id\":\"3379\"},{\"id\":\"3384\"},{\"id\":\"3389\"},{\"id\":\"3394\"},{\"id\":\"3399\"},{\"id\":\"3404\"},{\"id\":\"3409\"}],\"editable\":true,\"fit_columns\":true,\"height\":130,\"index_position\":null,\"margin\":[5,10,5,10],\"name\":\"opportunity_df\",\"source\":{\"id\":\"3376\"},\"view\":{\"id\":\"3413\"}},\"id\":\"3412\",\"type\":\"DataTable\"},{\"attributes\":{\"editor\":{\"id\":\"3408\"},\"field\":\"('Data Shape:(313571, 16)', '+inf')\",\"formatter\":{\"id\":\"3407\"},\"title\":\"('Data Shape:(313571, 16)', '+inf')\",\"width\":null},\"id\":\"3409\",\"type\":\"TableColumn\"},{\"attributes\":{\"editor\":{\"id\":\"3348\"},\"field\":\"('Data Shape:(142431, 8)', '> (mean+3*std)')\",\"formatter\":{\"id\":\"3347\"},\"title\":\"('Data Shape:(142431, 8)', '> (mean+3*std)')\",\"width\":null},\"id\":\"3349\",\"type\":\"TableColumn\"},{\"attributes\":{\"editor\":{\"id\":\"3393\"},\"field\":\"('Data Shape:(313571, 16)', '< (1stQ - 1.5 * IQR)')\",\"formatter\":{\"id\":\"3392\"},\"title\":\"('Data Shape:(313571, 16)', '< (1stQ - 1.5 * IQR)')\",\"width\":null},\"id\":\"3394\",\"type\":\"TableColumn\"},{\"attributes\":{\"source\":{\"id\":\"3336\"}},\"id\":\"3373\",\"type\":\"CDSView\"},{\"attributes\":{},\"id\":\"3397\",\"type\":\"NumberFormatter\"},{\"attributes\":{},\"id\":\"3398\",\"type\":\"IntEditor\"},{\"attributes\":{},\"id\":\"3363\",\"type\":\"IntEditor\"},{\"attributes\":{},\"id\":\"3392\",\"type\":\"NumberFormatter\"},{\"attributes\":{},\"id\":\"3388\",\"type\":\"IntEditor\"},{\"attributes\":{\"columns\":[{\"id\":\"3339\"},{\"id\":\"3344\"},{\"id\":\"3349\"},{\"id\":\"3354\"},{\"id\":\"3359\"},{\"id\":\"3364\"},{\"id\":\"3369\"}],\"editable\":true,\"fit_columns\":true,\"height\":155,\"index_position\":null,\"margin\":[5,10,5,10],\"name\":\"product_df\",\"source\":{\"id\":\"3336\"},\"view\":{\"id\":\"3373\"}},\"id\":\"3372\",\"type\":\"DataTable\"},{\"attributes\":{\"source\":{\"id\":\"3376\"}},\"id\":\"3413\",\"type\":\"CDSView\"},{\"attributes\":{},\"id\":\"3368\",\"type\":\"IntEditor\"},{\"attributes\":{},\"id\":\"3393\",\"type\":\"IntEditor\"},{\"attributes\":{\"editor\":{\"id\":\"3378\"},\"field\":\"index\",\"formatter\":{\"id\":\"3377\"},\"title\":\"index\",\"width\":null},\"id\":\"3379\",\"type\":\"TableColumn\"},{\"attributes\":{},\"id\":\"3348\",\"type\":\"IntEditor\"},{\"attributes\":{},\"id\":\"3377\",\"type\":\"StringFormatter\"},{\"attributes\":{\"editor\":{\"id\":\"3388\"},\"field\":\"('Data Shape:(313571, 16)', '> (mean+3*std)')\",\"formatter\":{\"id\":\"3387\"},\"title\":\"('Data Shape:(313571, 16)', '> (mean+3*std)')\",\"width\":null},\"id\":\"3389\",\"type\":\"TableColumn\"},{\"attributes\":{\"editor\":{\"id\":\"3368\"},\"field\":\"('Data Shape:(142431, 8)', '+inf')\",\"formatter\":{\"id\":\"3367\"},\"title\":\"('Data Shape:(142431, 8)', '+inf')\",\"width\":null},\"id\":\"3369\",\"type\":\"TableColumn\"},{\"attributes\":{},\"id\":\"3337\",\"type\":\"StringFormatter\"},{\"attributes\":{},\"id\":\"3342\",\"type\":\"NumberFormatter\"},{\"attributes\":{},\"id\":\"3387\",\"type\":\"NumberFormatter\"},{\"attributes\":{},\"id\":\"3382\",\"type\":\"NumberFormatter\"},{\"attributes\":{},\"id\":\"3353\",\"type\":\"IntEditor\"},{\"attributes\":{},\"id\":\"3378\",\"type\":\"StringEditor\"},{\"attributes\":{},\"id\":\"3402\",\"type\":\"NumberFormatter\"},{\"attributes\":{\"data\":{\"('Data Shape:(142431, 8)', '+inf')\":[0,0,0,0,0],\"('Data Shape:(142431, 8)', '-inf')\":[0,0,0,0,0],\"('Data Shape:(142431, 8)', '< (1stQ - 1.5 * IQR)')\":[0,0,0,216,0],\"('Data Shape:(142431, 8)', '< (mean-3*std)')\":[0,0,0,0,0],\"('Data Shape:(142431, 8)', '> (3rdQ + 1.5 * IQR)')\":[374,18741,19242,4399,10979],\"('Data Shape:(142431, 8)', '> (mean+3*std)')\":[374,705,544,43,10979],\"index\":[\"opportunity id\",\"product $\",\"product quantity\",\"decision date\",\"snapshot time\"]},\"selected\":{\"id\":\"3374\"},\"selection_policy\":{\"id\":\"3417\"}},\"id\":\"3336\",\"type\":\"ColumnDataSource\"},{\"attributes\":{},\"id\":\"3383\",\"type\":\"IntEditor\"},{\"attributes\":{},\"id\":\"3374\",\"type\":\"Selection\"},{\"attributes\":{\"data\":{\"('Data Shape:(313571, 16)', '+inf')\":[0,0,0,0],\"('Data Shape:(313571, 16)', '-inf')\":[0,0,0,0],\"('Data Shape:(313571, 16)', '< (1stQ - 1.5 * IQR)')\":[0,71980,71980,267],\"('Data Shape:(313571, 16)', '< (mean-3*std)')\":[0,0,0,102],\"('Data Shape:(313571, 16)', '> (3rdQ + 1.5 * IQR)')\":[23189,0,0,1914],\"('Data Shape:(313571, 16)', '> (mean+3*std)')\":[4780,0,0,740],\"index\":[\"opportunity id\",\"transition to timestamp\",\"transition from timestamp\",\"decision date\"]},\"selected\":{\"id\":\"3414\"},\"selection_policy\":{\"id\":\"3419\"}},\"id\":\"3376\",\"type\":\"ColumnDataSource\"},{\"attributes\":{\"editor\":{\"id\":\"3353\"},\"field\":\"('Data Shape:(142431, 8)', '< (1stQ - 1.5 * IQR)')\",\"formatter\":{\"id\":\"3352\"},\"title\":\"('Data Shape:(142431, 8)', '< (1stQ - 1.5 * IQR)')\",\"width\":null},\"id\":\"3354\",\"type\":\"TableColumn\"},{\"attributes\":{\"child\":{\"id\":\"3372\"},\"name\":\"product_df\",\"title\":\"product_df\"},\"id\":\"3375\",\"type\":\"Panel\"}],\"root_ids\":[\"3335\",\"3428\"]},\"title\":\"Bokeh Application\",\"version\":\"2.2.3\"}};\n",
       "  var render_items = [{\"docid\":\"7be82fc1-dc1a-4dff-9fef-b0c4afdf151a\",\"root_ids\":[\"3335\"],\"roots\":{\"3335\":\"419242c3-cd59-4607-8820-bd112c57e68a\"}}];\n",
       "  root.Bokeh.embed.embed_items_notebook(docs_json, render_items);\n",
       "  }\n",
       "if (root.Bokeh !== undefined) {\n",
       "    embed_document(root);\n",
       "  } else {\n",
       "    var attempts = 0;\n",
       "    var timer = setInterval(function(root) {\n",
       "      if (root.Bokeh !== undefined) {\n",
       "        clearInterval(timer);\n",
       "        embed_document(root);\n",
       "      } else if (document.readyState == \"complete\") {\n",
       "        attempts++;\n",
       "        if (attempts > 100) {\n",
       "          clearInterval(timer);\n",
       "          console.log(\"Bokeh: ERROR: Unable to run BokehJS code because BokehJS library is missing\");\n",
       "        }\n",
       "      }\n",
       "    }, 10, root)\n",
       "  }\n",
       "})(window);</script>"
      ],
      "text/plain": [
       "Tabs\n",
       "    [0] DataFrame(name='product_df', value=                  ('Data S...)\n",
       "    [1] DataFrame(name='opportunity_df', value=                          ...)"
      ]
     },
     "execution_count": 155,
     "metadata": {
      "application/vnd.holoviews_exec.v0+json": {
       "id": "3335"
      }
     },
     "output_type": "execute_result"
    }
   ],
   "source": [
    "summaries = [analysis.get_outliers(data[x]) for x in data.keys()]\n",
    "display_as_tabs([(x, summaries[idx]) for idx, x in enumerate(data.keys())])"
   ]
  },
  {
   "cell_type": "markdown",
   "metadata": {},
   "source": [
    "## Health Analysis report\n",
    "\n",
    "Generate a report that has all the above data in a single html. This could be useful to submit to a client"
   ]
  },
  {
   "cell_type": "code",
   "execution_count": 156,
   "metadata": {},
   "outputs": [],
   "source": [
    "os.environ['DEBUG'] = 'true'\n",
    "health_reports_gen = [health.summary_report(data[x],save_path=r'./health_report_'+x+'.html') for x in data.keys()]"
   ]
  },
  {
   "cell_type": "code",
   "execution_count": null,
   "metadata": {},
   "outputs": [],
   "source": []
  }
 ],
 "metadata": {
  "kernelspec": {
   "display_name": "Python 3",
   "language": "python",
   "name": "python3"
  },
  "language_info": {
   "codemirror_mode": {
    "name": "ipython",
    "version": 3
   },
   "file_extension": ".py",
   "mimetype": "text/x-python",
   "name": "python",
   "nbconvert_exporter": "python",
   "pygments_lexer": "ipython3",
   "version": "3.8.11"
  }
 },
 "nbformat": 4,
 "nbformat_minor": 4
}
